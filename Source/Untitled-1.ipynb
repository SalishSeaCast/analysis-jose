{
 "cells": [
  {
   "cell_type": "code",
   "execution_count": 1,
   "metadata": {},
   "outputs": [],
   "source": [
    "%matplotlib inline \n",
    "\n",
    "import sys \n",
    "import xarray as xr\n",
    "import numpy as np\n",
    "import os \n",
    "import math\n",
    "\n",
    "coords = xr.open_dataset('/home/jvalenti/MOAD/grid/coordinates_seagrid_SalishSea201702.nc', decode_times=False)\n",
    "mask = xr.open_dataset('/home/jvalenti/MOAD/grid2/mesh_mask202108_TDV.nc')"
   ]
  },
  {
   "cell_type": "code",
   "execution_count": 4,
   "metadata": {},
   "outputs": [
    {
     "name": "stdout",
     "output_type": "stream",
     "text": [
      "3 index starting.\n",
      "2 index starting.\n",
      "1 index starting.\n",
      "0 index starting.\n"
     ]
    }
   ],
   "source": [
    "def count_inside_grid_cell(center_x, center_y, cell_width, cell_height, x,y):\n",
    "    cell_width = cell_width/(deg2met*latT(center_y))\n",
    "    cell_height = cell_height/deg2met\n",
    "    min_x = np.array(center_x - cell_width / 2)\n",
    "    max_x = np.array(center_x + cell_width / 2)\n",
    "    min_y = np.array(center_y - cell_height / 2)\n",
    "    max_y = np.array(center_y + cell_height / 2)\n",
    "    inside_mask = np.logical_and.reduce([\n",
    "        min_x[:, np.newaxis] <= x,\n",
    "        x <= max_x[:, np.newaxis],\n",
    "        min_y[:, np.newaxis] <= y,\n",
    "        y <= max_y[:, np.newaxis]\n",
    "    ])\n",
    "    c = np.sum(inside_mask,axis=1)\n",
    "    return c\n",
    "ds = xr.open_dataset('/home/jvalenti/MOAD/outfall_30days.nc')\n",
    "MFc = 1e7\n",
    "zlevels = [0,10,50,150,800]\n",
    "DS=ds.to_dataframe()\n",
    "DS = DS[DS.z < 800]\n",
    "DS = DS[DS.status==1]\n",
    "lat = coords.nav_lat\n",
    "lon = coords.nav_lon\n",
    "cell_width = coords.e1t[0,:,:]\n",
    "cell_height = coords.e2t[0,:,:]\n",
    "deg2met = 111319.5\n",
    "x = np.array(DS.lon)\n",
    "y = np.array(DS.lat)\n",
    "z = np.array(DS.z)\n",
    "\n",
    "\n",
    "cellvol = np.array(1e7/DS.cellvol)\n",
    "def latT(lat):\n",
    "    return np.cos(lat*(math.pi/180))\n",
    "\n",
    "#result = count_inside_grid_cell(lon[0,0], lat[0,0], cell_width[0,0], cell_height[0,0],x,y)\n",
    "conc2 = np.zeros((len(zlevels),coords.nav_lon.shape[0],coords.nav_lon.shape[1]))\n",
    "for k in range(len(zlevels)-2,-1,-1):\n",
    "    print(f'{k} index starting.')  \n",
    "    for j in range(5):\n",
    "        zmin = int(zlevels[k])\n",
    "        zmax = int(zlevels[k+1])\n",
    "        X = x[np.logical_and(z >= zmin, z < zmax)]\n",
    "        Y = y[np.logical_and(z >= zmin, z < zmax)]\n",
    "        conc2[k,j,:]+= count_inside_grid_cell(lon[j,:], lat[j,:], cell_width[j,:], cell_height[j,:],X,Y)*MFc/(cell_width[j,:]* cell_height[j,:]*(zmax-zmin))"
   ]
  },
  {
   "cell_type": "code",
   "execution_count": 4,
   "metadata": {},
   "outputs": [],
   "source": [
    "conc = np.load('/ocean/jvalenti/MOAD/concentration_30days.npy')"
   ]
  },
  {
   "cell_type": "code",
   "execution_count": 5,
   "metadata": {},
   "outputs": [
    {
     "data": {
      "text/plain": [
       "array([[[0., 0., 0., ..., 0., 0., 0.],\n",
       "        [0., 0., 0., ..., 0., 0., 0.],\n",
       "        [0., 0., 0., ..., 0., 0., 0.],\n",
       "        ...,\n",
       "        [0., 0., 0., ..., 0., 0., 0.],\n",
       "        [0., 0., 0., ..., 0., 0., 0.],\n",
       "        [0., 0., 0., ..., 0., 0., 0.]],\n",
       "\n",
       "       [[0., 0., 0., ..., 0., 0., 0.],\n",
       "        [0., 0., 0., ..., 0., 0., 0.],\n",
       "        [0., 0., 0., ..., 0., 0., 0.],\n",
       "        ...,\n",
       "        [0., 0., 0., ..., 0., 0., 0.],\n",
       "        [0., 0., 0., ..., 0., 0., 0.],\n",
       "        [0., 0., 0., ..., 0., 0., 0.]],\n",
       "\n",
       "       [[0., 0., 0., ..., 0., 0., 0.],\n",
       "        [0., 0., 0., ..., 0., 0., 0.],\n",
       "        [0., 0., 0., ..., 0., 0., 0.],\n",
       "        ...,\n",
       "        [0., 0., 0., ..., 0., 0., 0.],\n",
       "        [0., 0., 0., ..., 0., 0., 0.],\n",
       "        [0., 0., 0., ..., 0., 0., 0.]],\n",
       "\n",
       "       [[0., 0., 0., ..., 0., 0., 0.],\n",
       "        [0., 0., 0., ..., 0., 0., 0.],\n",
       "        [0., 0., 0., ..., 0., 0., 0.],\n",
       "        ...,\n",
       "        [0., 0., 0., ..., 0., 0., 0.],\n",
       "        [0., 0., 0., ..., 0., 0., 0.],\n",
       "        [0., 0., 0., ..., 0., 0., 0.]],\n",
       "\n",
       "       [[0., 0., 0., ..., 0., 0., 0.],\n",
       "        [0., 0., 0., ..., 0., 0., 0.],\n",
       "        [0., 0., 0., ..., 0., 0., 0.],\n",
       "        ...,\n",
       "        [0., 0., 0., ..., 0., 0., 0.],\n",
       "        [0., 0., 0., ..., 0., 0., 0.],\n",
       "        [0., 0., 0., ..., 0., 0., 0.]]])"
      ]
     },
     "execution_count": 5,
     "metadata": {},
     "output_type": "execute_result"
    }
   ],
   "source": []
  }
 ],
 "metadata": {
  "kernelspec": {
   "display_name": "Parcels_24",
   "language": "python",
   "name": "python3"
  },
  "language_info": {
   "codemirror_mode": {
    "name": "ipython",
    "version": 3
   },
   "file_extension": ".py",
   "mimetype": "text/x-python",
   "name": "python",
   "nbconvert_exporter": "python",
   "pygments_lexer": "ipython3",
   "version": "3.11.7"
  }
 },
 "nbformat": 4,
 "nbformat_minor": 2
}
