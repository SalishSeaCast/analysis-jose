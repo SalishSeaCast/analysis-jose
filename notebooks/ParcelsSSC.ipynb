{
 "cells": [
  {
   "cell_type": "markdown",
   "id": "3249b069-318c-46cf-a0ab-422a39d81733",
   "metadata": {},
   "source": [
    "# **First run Ocean parcels on SSC fieldset**"
   ]
  },
  {
   "cell_type": "code",
   "execution_count": 1,
   "id": "7b3cacf0-e987-4dcc-85ad-fa33f293ee98",
   "metadata": {},
   "outputs": [],
   "source": [
    "import numpy as np\n",
    "import xarray as xr\n",
    "import os\n",
    "from matplotlib import pyplot as plt, animation\n",
    "import matplotlib.colors as mcolors\n",
    "from datetime import datetime, timedelta\n",
    "from dateutil.parser import parse\n",
    "from scipy.io import loadmat\n",
    "\n",
    "from parcels import FieldSet, Field, VectorField, ParticleSet, JITParticle, ErrorCode, AdvectionRK4, AdvectionRK4_3D\n",
    "\n",
    "%matplotlib inline"
   ]
  },
  {
   "cell_type": "markdown",
   "id": "4b3ef894-4758-4254-a0c8-6d9b4f98d005",
   "metadata": {},
   "source": [
    "## Functions"
   ]
  },
  {
   "cell_type": "markdown",
   "id": "2dd927dd-0596-4df5-9280-88054308d7f6",
   "metadata": {},
   "source": [
    "#### Path prefix"
   ]
  },
  {
   "cell_type": "code",
   "execution_count": 3,
   "id": "beaff62b-3787-442d-b465-014e827e61fa",
   "metadata": {},
   "outputs": [],
   "source": [
    "def make_prefix(date, path, res='h'):\n",
    "    \"\"\"Construct path prefix for local SalishSeaCast results given date object and paths dict\n",
    "    e.g., /results2/SalishSea/nowcast-green.201905/daymonthyear/SalishSea_1h_yyyymmdd_yyyymmdd\n",
    "    \"\"\"\n",
    "\n",
    "    datestr = '_'.join(np.repeat(date.strftime('%Y%m%d'), 2))\n",
    "    folder = date.strftime(\"%d%b%y\").lower()\n",
    "    prefix = os.path.join(path, f'{folder}/SalishSea_1{res}_{datestr}')\n",
    "    \n",
    "    return prefix"
   ]
  },
  {
   "cell_type": "markdown",
   "id": "ab7cb425-5514-4e36-bf85-dddc653de8dc",
   "metadata": {},
   "source": [
    "#### Useful Kernel"
   ]
  },
  {
   "cell_type": "code",
   "execution_count": 4,
   "id": "c19d6262-b657-4395-8f88-b11c7045c054",
   "metadata": {},
   "outputs": [],
   "source": [
    "def DeleteParticle(particle, fieldset, time):\n",
    "    \"\"\"Delete particle from OceanParcels simulation to avoid run failure\n",
    "    \"\"\"\n",
    "    \n",
    "    print(f'Particle {particle.id} lost !! [{particle.lon}, {particle.lat}, {particle.depth}, {particle.time}]')\n",
    "    particle.delete()"
   ]
  },
  {
   "cell_type": "markdown",
   "id": "97c4bf2f-db05-4d5f-b4bb-bdaad6578599",
   "metadata": {},
   "source": [
    "## Load drifters and definitions"
   ]
  },
  {
   "cell_type": "code",
   "execution_count": 5,
   "id": "071e02d0-0510-4c7e-a2e7-7ba797dc47f6",
   "metadata": {},
   "outputs": [],
   "source": [
    "# Define paths\n",
    "paths = {\n",
    "    'NEMO': '/results2/SalishSea/nowcast-green.201905/',\n",
    "    'coords': '/ocean/jvalenti/MOAD/grid/coordinates_seagrid_SalishSea201702.nc',\n",
    "    'mask': '/ocean/jvalenti/MOAD/grid/mesh_mask201702.nc',\n",
    "    'out': './results',\n",
    "}"
   ]
  },
  {
   "cell_type": "code",
   "execution_count": 6,
   "id": "28a99025-a33d-4d66-9e39-aab453f279b2",
   "metadata": {},
   "outputs": [],
   "source": [
    "# Duration and timestep [s]\n",
    "length = 1\n",
    "duration = timedelta(days=length)\n",
    "dt = 90 #toggle between - or + to pick backwards or forwards"
   ]
  },
  {
   "cell_type": "code",
   "execution_count": 7,
   "id": "2a13867d-43b2-47e0-8891-70d651d794c5",
   "metadata": {},
   "outputs": [],
   "source": [
    "n = 10 # 1000   # number of particles\n",
    "# Define Gaussian point cloud in the horizontal\n",
    "r = 10000   # radius of particle cloud [m]\n",
    "deg2m = 111000 * np.cos(50 * np.pi / 180)\n",
    "var = (r / (deg2m * 3))**2\n",
    "x_offset, y_offset = np.random.multivariate_normal([0, 0], [[var, 0], [0, var]], n).T\n",
    "# Set a uniform distribution in depth, from dmin to dmax\n",
    "dmin = 0.\n",
    "dmax = 125.\n",
    "zvals = dmin + np.random.random_sample(n)*(dmax-dmin)"
   ]
  },
  {
   "cell_type": "markdown",
   "id": "0c4e63f2-3fb8-4526-b45a-ce5644646287",
   "metadata": {},
   "source": [
    "## Simulation"
   ]
  },
  {
   "cell_type": "code",
   "execution_count": null,
   "id": "9207929e-cb41-424f-95e4-4929ee478480",
   "metadata": {},
   "outputs": [],
   "source": [
    "start = datetime(2018, 1, 17)\n",
    "daterange = [start+timedelta(days=i) for i in range(length)]\n",
    "# Build filenames\n",
    "Ulist, Vlist, Wlist = [], [], []\n",
    "for day in range(duration.days):\n",
    "    path_NEMO = make_prefix(start + timedelta(days=day), paths['NEMO'])\n",
    "    print (path_NEMO)\n",
    "    Ulist.append(path_NEMO + '_grid_U.nc')\n",
    "    Vlist.append(path_NEMO + '_grid_V.nc')\n",
    "    Wlist.append(path_NEMO + '_grid_W.nc')\n",
    "\n",
    "# Load NEMO forcing : note, depth aware but no vertical advection, particles stay at their original depth\n",
    "filenames = {\n",
    "    'U': {'lon': paths['coords'], 'lat': paths['coords'], 'depth': Wlist[0], 'data': Ulist},\n",
    "    'V': {'lon': paths['coords'], 'lat': paths['coords'], 'depth': Wlist[0], 'data': Vlist},\n",
    "    'W': {'lon': paths['coords'], 'lat': paths['coords'], 'depth': Wlist[0], 'data': Wlist},\n",
    "}\n",
    "variables = {'U': 'vozocrtx', 'V': 'vomecrty','W': 'vovecrtz'}\n",
    "dimensions = {'lon': 'glamf', 'lat': 'gphif', 'depth': 'depthw','time': 'time_counter'}\n",
    "\n",
    "#bring salish sea results into field_set\n",
    "field_set = FieldSet.from_nemo(filenames, variables, dimensions, allow_time_extrapolation=True)"
   ]
  },
  {
   "cell_type": "code",
   "execution_count": null,
   "id": "26d0870b-8671-45be-b3ca-60d7f983f881",
   "metadata": {},
   "outputs": [],
   "source": [
    "# Set output file name.  Maybe change for each run\n",
    "fn = f'TEST3-MP' + '_'.join(d.strftime('%Y%m%d')+'_1n' for d in [start, start+duration]) + '.nc'\n",
    "outfile = os.path.join(paths['out'], fn)\n",
    "print(outfile)"
   ]
  },
  {
   "cell_type": "code",
   "execution_count": null,
   "id": "53f87621-a497-4575-85ba-18ec93118e44",
   "metadata": {},
   "outputs": [],
   "source": [
    "# Execute run\n",
    "clon, clat = [-123.25], [48.224371]  # choose horizontal centre of the particle cloud\n",
    "#lon, lat, z = [ccl+x_offset for ccl in clon], [ccl+y_offset for ccl in clat], [zvals]*len(clon)\n",
    "lon, lat, z = clon + x_offset, clat + y_offset, zvals\n",
    "pset = ParticleSet.from_list(field_set, JITParticle, lon=lon, lat=lat, depth=z, time=start+timedelta(hours=2))\n",
    "#pset.computeTimeChunk(allow_time_extrapolation=1)\n",
    "pset.execute(\n",
    "    pset.Kernel(AdvectionRK4_3D), runtime=duration, dt=dt,\n",
    "    output_file=pset.ParticleFile(name=outfile, outputdt=timedelta(hours=1)),\n",
    "    recovery={ErrorCode.ErrorOutOfBounds: DeleteParticle},\n",
    ")"
   ]
  },
  {
   "cell_type": "code",
   "execution_count": null,
   "id": "a9793785-fbff-4e42-9433-bba45a5e4a61",
   "metadata": {},
   "outputs": [],
   "source": [
    "# Had this cell earlier before but seem to need to run it after simulationto get the outputfiles \n",
    "# from the temp directory into my final outfile\n",
    "coords = xr.open_dataset(paths['coords'], decode_times=False)\n",
    "mask = xr.open_dataset(paths['mask'])\n",
    "ds = xr.open_dataset(outfile)"
   ]
  },
  {
   "cell_type": "code",
   "execution_count": null,
   "id": "1c21c3bf-6be2-43ec-880f-1d7c57323fd0",
   "metadata": {},
   "outputs": [],
   "source": [
    "fig, ax = plt.subplots(figsize=(19, 8))\n",
    "ax.contourf(coords.nav_lon, coords.nav_lat, mask.tmask[0, 0, ...], levels=[-0.01, 0.01], colors='lightgray')\n",
    "ax.contour(coords.nav_lon, coords.nav_lat, mask.tmask[0, 0, ...], levels=[-0.01, 0.01], colors='k')\n",
    "ax.set_xlim([-124.8, -122.7])\n",
    "ax.set_ylim([48, 49])\n",
    "ax.set_aspect(5/4.4)\n",
    "nmin, nmax = 0, -1\n",
    "for traj in range(n):\n",
    "    s = ax.scatter(ds.lon[traj, nmin:nmax], ds.lat[traj, nmin:nmax])\n",
    "ax.scatter(clon,clat,c='k', marker='*', linewidths=8)\n",
    "plt.ylabel('Latitude')\n",
    "plt.xlabel('Longitude')"
   ]
  },
  {
   "cell_type": "code",
   "execution_count": null,
   "id": "0850dc36-4fbe-463e-99e6-289e9f323f39",
   "metadata": {},
   "outputs": [],
   "source": [
    "nmax = -1\n",
    "fig, ax = plt.subplots(figsize=(10, 10))\n",
    "for traj in range(n):\n",
    "    s = ax.plot(ds.lon[traj, nmin:nmax], -ds.z[traj, nmin:nmax])\n",
    "ax.grid()\n",
    "plt.ylabel('Depth [m]')\n",
    "plt.xlabel('Longitude')"
   ]
  }
 ],
 "metadata": {
  "kernelspec": {
   "display_name": "Python 3 (ipykernel)",
   "language": "python",
   "name": "python3"
  },
  "language_info": {
   "codemirror_mode": {
    "name": "ipython",
    "version": 3
   },
   "file_extension": ".py",
   "mimetype": "text/x-python",
   "name": "python",
   "nbconvert_exporter": "python",
   "pygments_lexer": "ipython3",
   "version": "3.9.7"
  }
 },
 "nbformat": 4,
 "nbformat_minor": 5
}
