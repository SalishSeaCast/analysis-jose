{
 "cells": [
  {
   "cell_type": "code",
   "execution_count": null,
   "metadata": {},
   "outputs": [],
   "source": [
    "import pandas as pd\n",
    "\n",
    "data = []\n",
    "with open(\"popu.txt\",'r') as data_file:\n",
    "    for line in data_file:\n",
    "        line = line.replace(',', '')\n",
    "        data.append(line.strip().split(' '))\n",
    "Pop = []\n",
    "for l in data:\n",
    "    for k in l:\n",
    "        Pop.append(k)\n",
    "\n",
    "mun = pd.read_csv('popu.csv',header=0)"
   ]
  },
  {
   "cell_type": "code",
   "execution_count": null,
   "metadata": {},
   "outputs": [],
   "source": [
    "mun.Population = Pop\n",
    "mun.to_csv('Washington_pop.csv')"
   ]
  }
 ],
 "metadata": {
  "language_info": {
   "name": "python"
  },
  "orig_nbformat": 4
 },
 "nbformat": 4,
 "nbformat_minor": 2
}
