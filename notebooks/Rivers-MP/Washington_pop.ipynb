{
 "cells": [
  {
   "cell_type": "code",
   "execution_count": 1,
   "metadata": {},
   "outputs": [],
   "source": [
    "import pandas as pd\n",
    "\n",
    "data = []\n",
    "with open(\"popu.txt\",'r') as data_file:\n",
    "    for line in data_file:\n",
    "        line = line.replace(',', '')\n",
    "        data.append(line.strip().split(' '))\n",
    "Pop = []\n",
    "for l in data:\n",
    "    for k in l:\n",
    "        Pop.append(k)\n",
    "\n",
    "mun = pd.read_csv('popu.csv',header=0)"
   ]
  },
  {
   "cell_type": "code",
   "execution_count": 2,
   "metadata": {},
   "outputs": [],
   "source": [
    "mun.Population = Pop\n",
    "mun.to_csv('Washington_pop.csv')"
   ]
  }
 ],
 "metadata": {
  "kernelspec": {
   "display_name": "general",
   "language": "python",
   "name": "python3"
  },
  "language_info": {
   "codemirror_mode": {
    "name": "ipython",
    "version": 3
   },
   "file_extension": ".py",
   "mimetype": "text/x-python",
   "name": "python",
   "nbconvert_exporter": "python",
   "pygments_lexer": "ipython3",
   "version": "3.10.6"
  },
  "orig_nbformat": 4
 },
 "nbformat": 4,
 "nbformat_minor": 2
}
