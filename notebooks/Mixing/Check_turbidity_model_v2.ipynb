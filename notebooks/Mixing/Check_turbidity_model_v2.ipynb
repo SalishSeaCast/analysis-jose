{
 "cells": [
  {
   "cell_type": "code",
   "execution_count": 1,
   "metadata": {},
   "outputs": [],
   "source": [
    "%matplotlib inline\n",
    "from parcels import Field, FieldSet, ParticleSet,Variable, JITParticle\n",
    "import numpy as np\n",
    "import pandas as pd\n",
    "import matplotlib.pyplot as plt\n",
    "from matplotlib import rc, animation\n",
    "import xarray as xr\n",
    "\n",
    "from IPython.display import Image\n",
    "rc('animation', html='html5')"
   ]
  },
  {
   "cell_type": "code",
   "execution_count": 2,
   "metadata": {},
   "outputs": [],
   "source": [
    "def tu_mix(particle,fieldset,time):\n",
    "    bath= 4.5\n",
    "    if particle.depth+0.1 > bath: #Only calculate gradient of diffusion for particles deeper than 0.6 otherwise OP will check for particles outside the domain and remove it.\n",
    "        Kzdz = 10*(fieldset.Kz[time,particle.depth,particle.lat, particle.lon]-fieldset.Kz[time,particle.depth-0.1,particle.lat, particle.lon]) #forward difference \n",
    "    else: \n",
    "        Kzdz = 10*(fieldset.Kz[time,particle.depth+0.1,particle.lat, particle.lon]-fieldset.Kz[time,particle.depth,particle.lat, particle.lon]) #forward difference \n",
    "    dgrad = Kzdz * particle.dt \n",
    "    if particle.depth+0.5*dgrad > 0 and particle.depth+0.5*dgrad < bath:\n",
    "        kk = fieldset.Kz[time,particle.depth+0.5*dgrad,particle.lat, particle.lon] #Vertical diffusivity SSC  #\n",
    "    else:\n",
    "        kk = fieldset.Kz[time, particle.depth,particle.lat, particle.lon] #Vertical diffusivity SSC  #\n",
    "    Rr = ParcelsRandom.uniform(-1, 1)\n",
    "    d_random = sqrt(3*2*kk*particle.dt) * Rr\n",
    "    dzs = d_random +dgrad\n",
    "\n",
    "def Buoyancy(particle, fieldset, time):\n",
    "    \"\"\"Calculating settling velocity using Komar cylinder Vs\"\"\"\n",
    "#Check particle is in the water column   \n",
    "    d = 2.16e-5 # particle diameter\n",
    "    l = 4.5e-4 # particle length\n",
    "    g = 9.8 #Gravity\n",
    "    visc = 1e-3\n",
    "    Ws= ((l/d)**-1.664)*0.079*((l**2)*g*(1350-1025))/(visc)\n",
    "    dws = Ws*particle.dt\n",
    "\n",
    "def displacement(particle, fieldset, time):\n",
    "    if dzs +particle.depth + dws > bath: #randomly in the water column\n",
    "        particle.depth = 2*bath - (dzs +particle.depth+dws)\n",
    "    elif dzs +particle.depth +dws < 0:\n",
    "        particle.depth = -(dzs +particle.depth+dws) #Well mixed boundary layer\n",
    "    else:\n",
    "        particle.depth += dzs + dws"
   ]
  },
  {
   "cell_type": "code",
   "execution_count": 3,
   "metadata": {},
   "outputs": [],
   "source": [
    "Dat = pd.read_csv('ubcSSg3DwGridFields1hV19-05_9244_b1de_6bbd.csv')\n",
    "depth=np.array(Dat.depth)[1:].astype('float32')\n",
    "Kz_col=np.array(Dat.vert_eddy_diff)[1:].astype('float32')"
   ]
  },
  {
   "cell_type": "code",
   "execution_count": 16,
   "metadata": {},
   "outputs": [
    {
     "data": {
      "text/plain": [
       "array([0.        , 0.00659723, 0.00675717, 0.00937495, 0.0139404 ,\n",
       "       0.01922989, 0.02459853, 0.03021166, 0.03556296, 0.04029927,\n",
       "       0.04755556, 0.05717738, 0.069768  , 0.08511511, 0.10556598,\n",
       "       0.13037497, 0.16046694, 0.19627848, 0.23991992, 0.2968998 ,\n",
       "       0.36961082, 0.47269472, 0.61203265, 0.68819815, 0.4015745 ,\n",
       "       0.14848088, 0.00562765, 0.        ], dtype=float32)"
      ]
     },
     "execution_count": 16,
     "metadata": {},
     "output_type": "execute_result"
    }
   ],
   "source": [
    "Kz_col"
   ]
  },
  {
   "cell_type": "code",
   "execution_count": 5,
   "metadata": {},
   "outputs": [],
   "source": [
    "dim = 10\n",
    "dimz = len(depth)\n",
    "R = 0.5\n",
    "L = 4.5\n",
    "#Kz_col= np.repeat(0.03,dimz)\n",
    "#Kz_col[-5:]=0\n",
    "#depth = np.linspace(0,L,dimz, dtype=np.float32)\n",
    "lon = np.linspace(0., R*2, dim, dtype=np.float32)\n",
    "\n",
    "U = Field('U', np.zeros((dimz, dim), dtype=np.float32), lon=lon, depth=depth)\n",
    "V = Field('V', np.zeros((dimz, dim), dtype=np.float32), lon=lon, depth=depth)\n",
    "Kz_data = np.zeros((dimz, dim), dtype=np.float32)\n",
    "for i in range(dim):\n",
    "    Kz_data[:,i]=Kz_col\n",
    "Kz = Field('Kz', Kz_data, grid=U.grid)"
   ]
  },
  {
   "cell_type": "code",
   "execution_count": 13,
   "metadata": {},
   "outputs": [
    {
     "data": {
      "text/plain": [
       "<parcels.field.Field at 0x7f7c2d15d350>"
      ]
     },
     "execution_count": 13,
     "metadata": {},
     "output_type": "execute_result"
    }
   ],
   "source": []
  },
  {
   "cell_type": "code",
   "execution_count": 6,
   "metadata": {},
   "outputs": [],
   "source": [
    "fieldset = FieldSet(U,V)\n",
    "fieldset.add_field(Kz)"
   ]
  },
  {
   "cell_type": "code",
   "execution_count": 11,
   "metadata": {},
   "outputs": [],
   "source": [
    "Vol = 2*R*depth[-1]\n",
    "C0 = 1\n",
    "n = int(C0*Vol * 1000)\n",
    "lon_g = np.random.uniform(low=lon[0], high=lon[-1], size=(n,))\n",
    "depth_g = np.random.uniform(low=depth[0], high=depth[-1], size=(n,))\n",
    "lat_g = np.zeros(n,)"
   ]
  },
  {
   "cell_type": "code",
   "execution_count": 12,
   "metadata": {},
   "outputs": [
    {
     "name": "stdout",
     "output_type": "stream",
     "text": [
      "  0%|          | 5.0/5000.0 [01:13<20:21:35, 14.67s/it]\n",
      "INFO: Output files are stored in /home/jvalenti/MOAD/results/Outputmix.zarr.\n"
     ]
    },
    {
     "ename": "FieldOutOfBoundSurfaceError",
     "evalue": "Field sampled out-of-bound at the surface, at (0.2032553106546402, 0.0, 74.18266296386719)",
     "output_type": "error",
     "traceback": [
      "\u001b[0;31m---------------------------------------------------------------------------\u001b[0m",
      "\u001b[0;31mFieldOutOfBoundSurfaceError\u001b[0m               Traceback (most recent call last)",
      "Cell \u001b[0;32mIn[12], line 4\u001b[0m\n\u001b[1;32m      2\u001b[0m output_file \u001b[38;5;241m=\u001b[39m pset\u001b[38;5;241m.\u001b[39mParticleFile(name\u001b[38;5;241m=\u001b[39m\u001b[38;5;124m'\u001b[39m\u001b[38;5;124m/home/jvalenti/MOAD/results/Outputmix.zarr\u001b[39m\u001b[38;5;124m'\u001b[39m, outputdt\u001b[38;5;241m=\u001b[39m\u001b[38;5;241m50\u001b[39m)\n\u001b[1;32m      3\u001b[0m KE\u001b[38;5;241m=\u001b[39m[tu_mix,Buoyancy,displacement]\n\u001b[0;32m----> 4\u001b[0m \u001b[43mpset\u001b[49m\u001b[38;5;241;43m.\u001b[39;49m\u001b[43mexecute\u001b[49m\u001b[43m(\u001b[49m\u001b[43mKE\u001b[49m\u001b[43m \u001b[49m\u001b[43m,\u001b[49m\u001b[43m \u001b[49m\u001b[43mruntime\u001b[49m\u001b[38;5;241;43m=\u001b[39;49m\u001b[38;5;241;43m5e3\u001b[39;49m\u001b[43m,\u001b[49m\u001b[43m \u001b[49m\u001b[43mdt\u001b[49m\u001b[38;5;241;43m=\u001b[39;49m\u001b[38;5;241;43m5\u001b[39;49m\u001b[43m,\u001b[49m\u001b[43m \u001b[49m\u001b[43moutput_file\u001b[49m\u001b[38;5;241;43m=\u001b[39;49m\u001b[43moutput_file\u001b[49m\u001b[43m)\u001b[49m\n",
      "File \u001b[0;32m~/conda_envs/Parcels_24/lib/python3.11/site-packages/parcels/particleset.py:951\u001b[0m, in \u001b[0;36mParticleSet.execute\u001b[0;34m(self, pyfunc, pyfunc_inter, endtime, runtime, dt, output_file, verbose_progress, postIterationCallbacks, callbackdt)\u001b[0m\n\u001b[1;32m    949\u001b[0m \u001b[38;5;66;03m# If we don't perform interaction, only execute the normal kernel efficiently.\u001b[39;00m\n\u001b[1;32m    950\u001b[0m \u001b[38;5;28;01mif\u001b[39;00m \u001b[38;5;28mself\u001b[39m\u001b[38;5;241m.\u001b[39minteraction_kernel \u001b[38;5;129;01mis\u001b[39;00m \u001b[38;5;28;01mNone\u001b[39;00m:\n\u001b[0;32m--> 951\u001b[0m     res \u001b[38;5;241m=\u001b[39m \u001b[38;5;28;43mself\u001b[39;49m\u001b[38;5;241;43m.\u001b[39;49m\u001b[43mkernel\u001b[49m\u001b[38;5;241;43m.\u001b[39;49m\u001b[43mexecute\u001b[49m\u001b[43m(\u001b[49m\u001b[38;5;28;43mself\u001b[39;49m\u001b[43m,\u001b[49m\u001b[43m \u001b[49m\u001b[43mendtime\u001b[49m\u001b[38;5;241;43m=\u001b[39;49m\u001b[43mnext_time\u001b[49m\u001b[43m,\u001b[49m\u001b[43m \u001b[49m\u001b[43mdt\u001b[49m\u001b[38;5;241;43m=\u001b[39;49m\u001b[43mdt\u001b[49m\u001b[43m)\u001b[49m\n\u001b[1;32m    952\u001b[0m     \u001b[38;5;28;01mif\u001b[39;00m res \u001b[38;5;241m==\u001b[39m StatusCode\u001b[38;5;241m.\u001b[39mStopAllExecution:\n\u001b[1;32m    953\u001b[0m         \u001b[38;5;28;01mreturn\u001b[39;00m StatusCode\u001b[38;5;241m.\u001b[39mStopAllExecution\n",
      "File \u001b[0;32m~/conda_envs/Parcels_24/lib/python3.11/site-packages/parcels/kernel.py:587\u001b[0m, in \u001b[0;36mKernel.execute\u001b[0;34m(self, pset, endtime, dt)\u001b[0m\n\u001b[1;32m    585\u001b[0m     \u001b[38;5;28;01mraise\u001b[39;00m FieldOutOfBoundError(p\u001b[38;5;241m.\u001b[39mlon, p\u001b[38;5;241m.\u001b[39mlat, p\u001b[38;5;241m.\u001b[39mdepth)\n\u001b[1;32m    586\u001b[0m \u001b[38;5;28;01melif\u001b[39;00m p\u001b[38;5;241m.\u001b[39mstate \u001b[38;5;241m==\u001b[39m StatusCode\u001b[38;5;241m.\u001b[39mErrorThroughSurface:\n\u001b[0;32m--> 587\u001b[0m     \u001b[38;5;28;01mraise\u001b[39;00m FieldOutOfBoundSurfaceError(p\u001b[38;5;241m.\u001b[39mlon, p\u001b[38;5;241m.\u001b[39mlat, p\u001b[38;5;241m.\u001b[39mdepth)\n\u001b[1;32m    588\u001b[0m \u001b[38;5;28;01melif\u001b[39;00m p\u001b[38;5;241m.\u001b[39mstate \u001b[38;5;241m==\u001b[39m StatusCode\u001b[38;5;241m.\u001b[39mError:\n\u001b[1;32m    589\u001b[0m     \u001b[38;5;28;01mraise\u001b[39;00m FieldSamplingError(p\u001b[38;5;241m.\u001b[39mlon, p\u001b[38;5;241m.\u001b[39mlat, p\u001b[38;5;241m.\u001b[39mdepth)\n",
      "\u001b[0;31mFieldOutOfBoundSurfaceError\u001b[0m: Field sampled out-of-bound at the surface, at (0.2032553106546402, 0.0, 74.18266296386719)"
     ]
    },
    {
     "name": "stdout",
     "output_type": "stream",
     "text": []
    }
   ],
   "source": [
    "pset = ParticleSet(fieldset, pclass=JITParticle, lon=lon_g, depth=depth_g,lat = lat_g)\n",
    "output_file = pset.ParticleFile(name='/home/jvalenti/MOAD/results/Outputmix.zarr', outputdt=50)\n",
    "KE=[tu_mix,Buoyancy,displacement]\n",
    "pset.execute(KE , runtime=5e3, dt=5, output_file=output_file)"
   ]
  },
  {
   "cell_type": "code",
   "execution_count": null,
   "metadata": {},
   "outputs": [
    {
     "ename": "",
     "evalue": "",
     "output_type": "error",
     "traceback": [
      "\u001b[1;31mFailed to start the Kernel. \n",
      "\u001b[1;31mUnable to start Kernel 'Parcels_24 (Python 3.11.7)' due to a timeout waiting for the ports to get used. \n",
      "\u001b[1;31mView Jupyter <a href='command:jupyter.viewOutput'>log</a> for further details."
     ]
    }
   ],
   "source": [
    "dat = xr.load_dataset('/home/jvalenti/MOAD/results/Outputmix.zarr')"
   ]
  },
  {
   "cell_type": "code",
   "execution_count": null,
   "metadata": {},
   "outputs": [
    {
     "ename": "",
     "evalue": "",
     "output_type": "error",
     "traceback": [
      "\u001b[1;31mFailed to start the Kernel. \n",
      "\u001b[1;31mUnable to start Kernel 'Parcels_24 (Python 3.11.7)' due to a timeout waiting for the ports to get used. \n",
      "\u001b[1;31mView Jupyter <a href='command:jupyter.viewOutput'>log</a> for further details."
     ]
    }
   ],
   "source": [
    "from tqdm import tqdm\n",
    "import time\n",
    "def anim2(file1,fps=1):  \n",
    "    box=([0,1,1,0,0],[0,0,depth[-1],depth[-1],0])\n",
    "    fig,axs=plt.subplots(1,3,figsize=(15,10))\n",
    "    axs[0].scatter(dat.lon[:,0],dat.z[:,0],s=5)\n",
    "    axs[2].plot(Kz_col,depth,c='r')\n",
    "    axs[2].set_title('Vertical profile $K_z$ [$m^2/s$]')\n",
    "    axs[2].invert_yaxis()\n",
    "    axs[0].plot(box[0],box[1],c='grey',linewidth=3)\n",
    "    axs[1].plot(box[0],box[1],c='grey',linewidth=3)\n",
    "    axs[0].invert_yaxis()\n",
    "    axs[0].set_title('Initial condition (t: 0s)')\n",
    "    axs[1].invert_yaxis()\n",
    "    axs[1].set_title(\"With $K_z$' correction (t: 5*$10^3$s)\")\n",
    "    axs[0].set_ylabel('Depth (m)')\n",
    "\n",
    "    def update(frame):         \n",
    "        global ss        \n",
    "        for scat in ss:              \n",
    "            scat.remove()            \n",
    "        ss =[]                    \n",
    "        ss.append(axs[1].scatter(file1.lon[:,frame],file1.z[:,frame],s=5,c ='tab:blue'))    \n",
    "        time.sleep(3)\n",
    "        print(f'{frame*100/file1.lon.shape[1]:.2f}% completed')           \n",
    "        return ss\n",
    "    return animation.FuncAnimation(fig, update, frames=np.arange(0,file1.lon.shape[1],fps))"
   ]
  },
  {
   "cell_type": "code",
   "execution_count": null,
   "metadata": {},
   "outputs": [
    {
     "ename": "",
     "evalue": "",
     "output_type": "error",
     "traceback": [
      "\u001b[1;31mFailed to start the Kernel. \n",
      "\u001b[1;31mUnable to start Kernel 'Parcels_24 (Python 3.11.7)' due to a timeout waiting for the ports to get used. \n",
      "\u001b[1;31mView Jupyter <a href='command:jupyter.viewOutput'>log</a> for further details."
     ]
    }
   ],
   "source": [
    "ss =[]\n",
    "ani = anim2(dat,fps=10)\n",
    "f = r\"/home/jvalenti/MOAD/animations/mix.gif\" \n",
    "FFwriter = animation.FFMpegWriter()\n",
    "ani.save(f, writer = FFwriter)"
   ]
  },
  {
   "cell_type": "code",
   "execution_count": null,
   "metadata": {},
   "outputs": [
    {
     "ename": "",
     "evalue": "",
     "output_type": "error",
     "traceback": [
      "\u001b[1;31mFailed to start the Kernel. \n",
      "\u001b[1;31mUnable to start Kernel 'Parcels_24 (Python 3.11.7)' due to a timeout waiting for the ports to get used. \n",
      "\u001b[1;31mView Jupyter <a href='command:jupyter.viewOutput'>log</a> for further details."
     ]
    }
   ],
   "source": [
    "with open(f,'rb') as anim:\n",
    "     display(Image(anim.read()))"
   ]
  },
  {
   "cell_type": "code",
   "execution_count": null,
   "metadata": {},
   "outputs": [
    {
     "ename": "",
     "evalue": "",
     "output_type": "error",
     "traceback": [
      "\u001b[1;31mFailed to start the Kernel. \n",
      "\u001b[1;31mUnable to start Kernel 'Parcels_24 (Python 3.11.7)' due to a timeout waiting for the ports to get used. \n",
      "\u001b[1;31mView Jupyter <a href='command:jupyter.viewOutput'>log</a> for further details."
     ]
    }
   ],
   "source": [
    "def entropy(data, bins=100):\n",
    "    \"\"\"\n",
    "        Calculate entropy of multiple varibles (discrete and continous).\n",
    "        X is a 2d-array, each column is a variable.\n",
    "    \"\"\"\n",
    "    hist = np.histogramdd(data, bins=bins)[0]\n",
    "    prob = hist/len(data)\n",
    "    prob[prob == 0] = 1\n",
    "    log_prob = np.log2(prob)\n",
    "    \n",
    "\n",
    "    return -np.sum(np.multiply(prob, log_prob))"
   ]
  },
  {
   "cell_type": "code",
   "execution_count": null,
   "metadata": {},
   "outputs": [
    {
     "ename": "",
     "evalue": "",
     "output_type": "error",
     "traceback": [
      "\u001b[1;31mFailed to start the Kernel. \n",
      "\u001b[1;31mUnable to start Kernel 'Parcels_24 (Python 3.11.7)' due to a timeout waiting for the ports to get used. \n",
      "\u001b[1;31mView Jupyter <a href='command:jupyter.viewOutput'>log</a> for further details."
     ]
    }
   ],
   "source": [
    "def no_nan(x,y):\n",
    "    no_nan=[]\n",
    "    no_nan1=[]\n",
    "    for i,xi in enumerate(x):\n",
    "        if np.isnan(xi) == False:\n",
    "            no_nan.append(xi) \n",
    "            no_nan1.append(y[i]) \n",
    "    return no_nan,no_nan1\n",
    "\n",
    "d0,l0=no_nan(dat.lat[:,0],dat.lon[:,0])\n",
    "e0=entropy([d0,l0])"
   ]
  },
  {
   "cell_type": "code",
   "execution_count": null,
   "metadata": {},
   "outputs": [
    {
     "ename": "",
     "evalue": "",
     "output_type": "error",
     "traceback": [
      "\u001b[1;31mFailed to start the Kernel. \n",
      "\u001b[1;31mUnable to start Kernel 'Parcels_24 (Python 3.11.7)' due to a timeout waiting for the ports to get used. \n",
      "\u001b[1;31mView Jupyter <a href='command:jupyter.viewOutput'>log</a> for further details."
     ]
    }
   ],
   "source": [
    "import sys, os\n",
    "\n",
    "# Disable\n",
    "def blockPrint():\n",
    "    sys.stdout = open(os.devnull, 'w')\n",
    "\n",
    "# Restore\n",
    "def enablePrint():\n",
    "    sys.stdout = sys.__stdout__"
   ]
  },
  {
   "cell_type": "code",
   "execution_count": null,
   "metadata": {},
   "outputs": [
    {
     "ename": "",
     "evalue": "",
     "output_type": "error",
     "traceback": [
      "\u001b[1;31mFailed to start the Kernel. \n",
      "\u001b[1;31mUnable to start Kernel 'Parcels_24 (Python 3.11.7)' due to a timeout waiting for the ports to get used. \n",
      "\u001b[1;31mView Jupyter <a href='command:jupyter.viewOutput'>log</a> for further details."
     ]
    }
   ],
   "source": [
    "def run_n_test(n):\n",
    "    e1,e2=[],[]\n",
    "    for i in range(n):\n",
    "        lon_g = np.random.uniform(low=lon[0], high=lon[-1], size=(10*dim,))\n",
    "        depth_g = np.random.uniform(low=depth[0], high=depth[-1], size=(10*dim,))\n",
    "        run_turb_test(lon_g,depth_g)\n",
    "        dat = xr.load_dataset('/home/jvalenti/MOAD/results/Outputmix.zarr')\n",
    "        dat2 = xr.load_dataset('/home/jvalenti/MOAD/results/Outputmix2.zarr')\n",
    "        d0,l0=no_nan(dat.z[:,0],dat.lon[:,0])\n",
    "        e0=entropy([d0,l0])\n",
    "        d2,l2=no_nan(dat2.z[:,-1],dat2.lon[:,-1])\n",
    "        e2.append(entropy([d2,l2])-e0)\n",
    "        d1,l1=no_nan(dat.z[:,-1],dat.lon[:,-1])\n",
    "        e1.append(entropy([d1,l1])-e0)\n",
    "    m1=np.mean(e1)\n",
    "    sd1=np.std(e1)/np.sqrt(n)\n",
    "    m2=np.mean(e2)\n",
    "    sd2=np.std(e2)/np.sqrt(n)\n",
    "    return m1,sd1,m2,sd2"
   ]
  },
  {
   "cell_type": "code",
   "execution_count": null,
   "metadata": {},
   "outputs": [
    {
     "ename": "",
     "evalue": "",
     "output_type": "error",
     "traceback": [
      "\u001b[1;31mFailed to start the Kernel. \n",
      "\u001b[1;31mUnable to start Kernel 'Parcels_24 (Python 3.11.7)' due to a timeout waiting for the ports to get used. \n",
      "\u001b[1;31mView Jupyter <a href='command:jupyter.viewOutput'>log</a> for further details."
     ]
    }
   ],
   "source": [
    "blockPrint()\n",
    "m1,sd1,m2,sd2=run_n_test(10)\n",
    "enablePrint()\n",
    "\n",
    "CTEs = [m1, m2]\n",
    "error = [sd1, sd2]"
   ]
  },
  {
   "cell_type": "code",
   "execution_count": null,
   "metadata": {},
   "outputs": [
    {
     "ename": "",
     "evalue": "",
     "output_type": "error",
     "traceback": [
      "\u001b[1;31mFailed to start the Kernel. \n",
      "\u001b[1;31mUnable to start Kernel 'Parcels_24 (Python 3.11.7)' due to a timeout waiting for the ports to get used. \n",
      "\u001b[1;31mView Jupyter <a href='command:jupyter.viewOutput'>log</a> for further details."
     ]
    }
   ],
   "source": [
    "d1,l1=no_nan(dat.lat[:,-1],dat.lon[:,-1])\n",
    "entropy([d1,l1])-e0"
   ]
  }
 ],
 "metadata": {
  "kernelspec": {
   "display_name": "Python 3.9.13 ('parcels')",
   "language": "python",
   "name": "python3"
  },
  "language_info": {
   "codemirror_mode": {
    "name": "ipython",
    "version": 3
   },
   "file_extension": ".py",
   "mimetype": "text/x-python",
   "name": "python",
   "nbconvert_exporter": "python",
   "pygments_lexer": "ipython3",
   "version": "3.11.7"
  },
  "orig_nbformat": 4,
  "vscode": {
   "interpreter": {
    "hash": "5231541ec7da1806fd4dd02418819151069191aae488b983f94d003ad3b768ff"
   }
  }
 },
 "nbformat": 4,
 "nbformat_minor": 2
}
