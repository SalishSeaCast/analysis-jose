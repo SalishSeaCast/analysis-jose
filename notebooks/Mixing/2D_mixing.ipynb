{
 "cells": [
  {
   "cell_type": "code",
   "execution_count": 110,
   "metadata": {},
   "outputs": [],
   "source": [
    "%matplotlib inline\n",
    "from parcels import Field, FieldSet, ParticleSet,Variable, JITParticle, ErrorCode\n",
    "import numpy as np\n",
    "import pandas as pd\n",
    "import matplotlib.pyplot as plt\n",
    "from matplotlib import rc, animation\n",
    "import xarray as xr\n",
    "from datetime import datetime\n",
    "import os\n",
    "\n",
    "from IPython.display import Image\n",
    "rc('animation', html='html5')"
   ]
  },
  {
   "cell_type": "code",
   "execution_count": 111,
   "metadata": {},
   "outputs": [],
   "source": [
    "#Pick hour,day and location.\n",
    "hour = 0\n",
    "path_NEMO = make_prefix(datetime(2018, 8, 1))\n",
    "lati = 49.224563\n",
    "loni = -123.605357\n",
    "jjii = xr.open_dataset('~/MOAD/grid/grid_from_lat_lon_mask999.nc')\n",
    "j = [jjii.jj.sel(lats=lati, lons=loni, method='nearest').item()][0]\n",
    "i = [jjii.ii.sel(lats=lati, lons=loni, method='nearest').item()][0]\n",
    "\n",
    "#Specify some simulation parameters\n",
    "T = 5e3 #s (run time)\n",
    "dt = 5 #s (timestep)\n",
    "N = 10e3 #number of particles\n",
    "outputdt = 500 #s (how often do you want output?)\n",
    "outputpath = '/home/jvalenti/MOAD/results/Outputmix.zarr'"
   ]
  },
  {
   "cell_type": "code",
   "execution_count": 112,
   "metadata": {},
   "outputs": [],
   "source": [
    "def make_prefix(date, res='h'):\n",
    "    \"\"\"Construct path prefix for local SalishSeaCast results given date object and paths dict\n",
    "    e.g., /results2/SalishSea/nowcast-green.201905/daymonthyear/SalishSea_1h_yyyymmdd_yyyymmdd\n",
    "    \"\"\"\n",
    "    path = '/results2/SalishSea/nowcast-green.202111/'\n",
    "    datestr = '_'.join(np.repeat(date.strftime('%Y%m%d'), 2))\n",
    "    folder = date.strftime(\"%d%b%y\").lower()\n",
    "    prefix = os.path.join(path, f'{folder}/SalishSea_1{res}_{datestr}')\n",
    "    \n",
    "    return prefix"
   ]
  },
  {
   "cell_type": "code",
   "execution_count": 113,
   "metadata": {},
   "outputs": [],
   "source": [
    "def DeleteParticle(particle, fieldset, time):\n",
    "    \"\"\"Delete particle from OceanParcels simulation to avoid run failure\"\"\"\n",
    "    print(f'Particle {particle.id} lost !! [{particle.time}, {particle.depth}, {particle.lat}, {particle.lon}]')\n",
    "    particle.delete()"
   ]
  },
  {
   "cell_type": "code",
   "execution_count": 114,
   "metadata": {},
   "outputs": [],
   "source": [
    "#Load data from NEMO\n",
    "Wdat = xr.open_dataset(path_NEMO+'_grid_W.nc', decode_times=False)\n",
    "mbathy = xr.open_dataset('/ocean/jvalenti/MOAD/grid/mesh_mask202108.nc').mbathy[0,j,i].item()\n",
    "depth = np.array(Wdat.depthw[:mbathy+1]).astype('float32')\n",
    "Kz_col = np.array(Wdat.vert_eddy_diff[hour,:mbathy+1,j,i]).astype('float32')\n",
    "#Kz_col[0]=Kz_col[1]"
   ]
  },
  {
   "cell_type": "code",
   "execution_count": 130,
   "metadata": {},
   "outputs": [
    {
     "name": "stdout",
     "output_type": "stream",
     "text": [
      "Dt should be << 364.6658286739023\n"
     ]
    },
    {
     "name": "stderr",
     "output_type": "stream",
     "text": [
      "/tmp/ipykernel_32169/3686291716.py:6: RuntimeWarning: divide by zero encountered in divide\n",
      "  dtmax = np.min(1/abs(Kzp2))\n"
     ]
    },
    {
     "data": {
      "image/png": "[encoded data removed]",
      "text/plain": [
       "<Figure size 640x480 with 1 Axes>"
      ]
     },
     "metadata": {},
     "output_type": "display_data"
    }
   ],
   "source": [
    "depth2 = np.arange(depth[0],depth[-1],1)\n",
    "Kz2 = np.interp(depth2, depth, Kz_col)\n",
    "plt.plot(Kz_col,-depth)\n",
    "Kzp = np.gradient(Kz2, depth2[1]-depth2[0])\n",
    "Kzp2 = np.gradient(Kzp, depth2[1]-depth2[0])\n",
    "dtmax = np.min(1/abs(Kzp2))\n",
    "print(f'Dt should be << {dtmax}')"
   ]
  },
  {
   "cell_type": "code",
   "execution_count": 116,
   "metadata": {},
   "outputs": [],
   "source": [
    "#Here you can define as many particle variables as you want specifying the initial values. In this case, I use the variable to set a constant.\n",
    "class MPParticle(JITParticle):\n",
    "    Kh = Variable('Kh', initial =  0.0) #If you want horizontal mixing activated change value here\n",
    "    bath = Variable('bath', initial= depth[-1])"
   ]
  },
  {
   "cell_type": "code",
   "execution_count": 117,
   "metadata": {},
   "outputs": [],
   "source": [
    "#Mixing Kernel\n",
    "def tu_mix(particle,fieldset,time):\n",
    "    bath= particle.bath #109.73707\n",
    "    if particle.depth+1 > bath: #Forward euler\n",
    "        Kzdz = (fieldset.Kz[time,particle.depth,particle.lat, particle.lon]-fieldset.Kz[time,particle.depth-1,particle.lat, particle.lon]) #forward difference \n",
    "    else:\n",
    "        Kzdz = (fieldset.Kz[time,particle.depth+1,particle.lat, particle.lon]-fieldset.Kz[time,particle.depth,particle.lat, particle.lon]) #backward difference \n",
    "    dgrad = Kzdz * particle.dt \n",
    "    if particle.depth+0.5*dgrad > 0 and particle.depth+0.5*dgrad < bath:\n",
    "        kk = fieldset.Kz[time,particle.depth+0.5*dgrad,particle.lat, particle.lon] #Vertical diffusivity SSC  \n",
    "    else:\n",
    "        kk = fieldset.Kz[time, bath,particle.lat, particle.lon] #Vertical diffusivity SSC \n",
    "    Kx = particle.Kh\n",
    "    Rr = ParcelsRandom.uniform(-1, 1)\n",
    "    Rr2 = ParcelsRandom.uniform(-1, 1)\n",
    "    d_random = sqrt(3*2*kk*particle.dt) * Rr\n",
    "    d_randomx = sqrt(3*2*Kx*particle.dt) * Rr2\n",
    "    Dlayerz = 0.5*sqrt(kk * particle.dt) #1m mixing layer\n",
    "    Dlayerx = 0.5*sqrt(Kx * particle.dt)\n",
    "    if particle.lon + d_randomx < 0:\n",
    "        particle.lon = Dlayerx * ParcelsRandom.uniform(0, 1)\n",
    "    elif particle.lon + d_randomx > 2e3:\n",
    "        particle.lon = 2e3 - Dlayerx * ParcelsRandom.uniform(0, 1)\n",
    "    else: \n",
    "        particle.lon=particle.lon + d_randomx\n",
    "    if d_random + dgrad +particle.depth > bath: #randomly in boundary mixed layer\n",
    "        particle.depth = bath - Dlayerz * ParcelsRandom.uniform(0, 1)\n",
    "    elif d_random +particle.depth +dgrad < 0:\n",
    "            particle.depth = Dlayerz * ParcelsRandom.uniform(0, 1) #Well mixed boundary layer\n",
    "    else:\n",
    "        particle.depth += d_random + dgrad "
   ]
  },
  {
   "cell_type": "code",
   "execution_count": 118,
   "metadata": {},
   "outputs": [],
   "source": [
    "#Define domain, velocity fields and Kz \n",
    "dim = 100\n",
    "dep = len(depth)\n",
    "lon = np.linspace(0., 2e3, dim, dtype=np.float32)\n",
    "\n",
    "#Build fieldsets for OP\n",
    "U = Field('U', np.zeros((dep, dim), dtype=np.float32), lon=lon, depth=depth)\n",
    "V = Field('V', np.zeros((dep, dim), dtype=np.float32), lon=lon, depth=depth)\n",
    "Kz_data = np.zeros((dep, dim), dtype=np.float32)\n",
    "for i in range(dim):\n",
    "    Kz_data[:,i]=Kz_col   \n",
    "Kz = Field('Kz', Kz_data, grid=U.grid)\n",
    "fieldset = FieldSet(U,V)\n",
    "fieldset.add_field(Kz)"
   ]
  },
  {
   "cell_type": "code",
   "execution_count": 119,
   "metadata": {},
   "outputs": [],
   "source": [
    "#Start with random distribution\n",
    "lon_g = np.random.uniform(low=lon[0], high=lon[-1], size=(int(N),))\n",
    "depth_g = np.random.uniform(low=depth[0], high=depth[-1], size=(int(N),))\n",
    "lat_g = np.zeros(int(N),)"
   ]
  },
  {
   "cell_type": "code",
   "execution_count": 120,
   "metadata": {},
   "outputs": [],
   "source": [
    "def run_turb_test(lon_g,depth_g):\n",
    "    pset = ParticleSet(fieldset, pclass=MPParticle, lon=lon_g, depth=depth_g,lat = lat_g)\n",
    "    output_file = pset.ParticleFile(name=outputpath, outputdt=outputdt)\n",
    "    KE=tu_mix #if you want to add more kernels use:  KE = tu_mix + NAME_KERNEL1 + ...\n",
    "    pset.execute(KE , runtime=T, dt=dt, output_file=output_file,recovery={ErrorCode.ErrorOutOfBounds: DeleteParticle})"
   ]
  },
  {
   "cell_type": "code",
   "execution_count": 121,
   "metadata": {},
   "outputs": [
    {
     "name": "stderr",
     "output_type": "stream",
     "text": [
      "INFO: Compiled ArrayMPParticletu_mix ==> /tmp/parcels-2894/lib366c5b8075e7b5a447a04d7978fcae20_0.so\n"
     ]
    }
   ],
   "source": [
    "run_turb_test(lon_g,depth_g)"
   ]
  },
  {
   "cell_type": "code",
   "execution_count": 122,
   "metadata": {},
   "outputs": [
    {
     "name": "stderr",
     "output_type": "stream",
     "text": [
      "/home/jvalenti/conda_envs/general/lib/python3.10/site-packages/xarray/backends/plugins.py:117: RuntimeWarning: 'netcdf4' fails while guessing\n",
      "  warnings.warn(f\"{engine!r} fails while guessing\", RuntimeWarning)\n",
      "/home/jvalenti/conda_envs/general/lib/python3.10/site-packages/xarray/backends/plugins.py:117: RuntimeWarning: 'scipy' fails while guessing\n",
      "  warnings.warn(f\"{engine!r} fails while guessing\", RuntimeWarning)\n"
     ]
    }
   ],
   "source": [
    "dat = xr.load_dataset('/home/jvalenti/MOAD/results/Outputmix.zarr')"
   ]
  },
  {
   "cell_type": "code",
   "execution_count": 123,
   "metadata": {},
   "outputs": [],
   "source": [
    "def anim2(file1,fps=1):  \n",
    "    box=([0,2e3,2e3,0,0],[0,0,depth[-1],depth[-1],0])\n",
    "    fig,axs=plt.subplots(1,3,figsize=(15,10))\n",
    "    axs[0].scatter(dat.lon[:,0],dat.z[:,0],s=5)\n",
    "    #ax2 = axs[2].twiny()\n",
    "    #ax2.plot(Kz_col,depth,c='r')\n",
    "    axs[2].plot(Kz_col,depth,c='r')\n",
    "    axs[2].set_title('Vertical profile $K_z$ [$m^2/s$]')\n",
    "    axs[2].invert_yaxis()\n",
    "    axs[0].plot(box[0],box[1],c='grey',linewidth=3)\n",
    "    axs[1].plot(box[0],box[1],c='grey',linewidth=3)\n",
    "    axs[0].invert_yaxis()\n",
    "    axs[0].set_title('Initial condition (t: 0s)')\n",
    "    axs[1].invert_yaxis()\n",
    "    axs[1].set_title(f\"With $K_z$' correction (t: {T:.2e}s)\")\n",
    "    axs[0].set_ylabel('Depth (m)')\n",
    "\n",
    "    def update(frame):           \n",
    "        global ss        \n",
    "        for scat in ss:              \n",
    "            scat.remove()            \n",
    "        ss =[]                    \n",
    "        ss.append(axs[1].scatter(file1.lon[:,frame],file1.z[:,frame],s=5,c ='tab:blue'))         \n",
    "        print(f'{100*frame/len(file1):.2f}% completed')           \n",
    "        return ss\n",
    "    return animation.FuncAnimation(fig, update, frames=np.arange(0,len(file1),fps))"
   ]
  },
  {
   "cell_type": "code",
   "execution_count": 124,
   "metadata": {},
   "outputs": [],
   "source": [
    "# ss =[]\n",
    "# ani = anim2(dat,fps=1)\n",
    "# f = r\"/home/jvalenti/MOAD/animations/mix.gif\" \n",
    "# FFwriter = animation.FFMpegWriter()\n",
    "# a = ani.save(f, writer = FFwriter)"
   ]
  },
  {
   "cell_type": "code",
   "execution_count": 125,
   "metadata": {},
   "outputs": [],
   "source": [
    "# with open(f,'rb') as anim:\n",
    "#      display(Image(anim.read()))"
   ]
  },
  {
   "cell_type": "code",
   "execution_count": 134,
   "metadata": {},
   "outputs": [
    {
     "data": {
      "text/plain": [
       "<matplotlib.patches.StepPatch at 0x7ff96d737d00>"
      ]
     },
     "execution_count": 134,
     "metadata": {},
     "output_type": "execute_result"
    },
    {
     "data": {
      "image/png": "[encoded data removed]",
      "text/plain": [
       "<Figure size 640x480 with 1 Axes>"
      ]
     },
     "metadata": {},
     "output_type": "display_data"
    }
   ],
   "source": [
    "counts, bins = np.histogram(dat.z, bins = 10)\n",
    "plt.stairs(counts, bins)"
   ]
  }
 ],
 "metadata": {
  "kernelspec": {
   "display_name": "Python 3.9.13 ('parcels')",
   "language": "python",
   "name": "python3"
  },
  "language_info": {
   "codemirror_mode": {
    "name": "ipython",
    "version": 3
   },
   "file_extension": ".py",
   "mimetype": "text/x-python",
   "name": "python",
   "nbconvert_exporter": "python",
   "pygments_lexer": "ipython3",
   "version": "3.10.6"
  },
  "orig_nbformat": 4,
  "vscode": {
   "interpreter": {
    "hash": "5231541ec7da1806fd4dd02418819151069191aae488b983f94d003ad3b768ff"
   }
  }
 },
 "nbformat": 4,
 "nbformat_minor": 2
}
