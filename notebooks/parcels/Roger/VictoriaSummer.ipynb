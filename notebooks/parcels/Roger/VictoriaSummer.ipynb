{
 "cells": [
  {
   "cell_type": "markdown",
   "id": "3249b069-318c-46cf-a0ab-422a39d81733",
   "metadata": {},
   "source": [
    "# **Template OP on salish**"
   ]
  },
  {
   "cell_type": "code",
   "execution_count": 9,
   "id": "7b3cacf0-e987-4dcc-85ad-fa33f293ee98",
   "metadata": {},
   "outputs": [],
   "source": [
    "%matplotlib inline\n",
    "\n",
    "import sys\n",
    "import xarray as xr\n",
    "import numpy as np\n",
    "import os\n",
    "from datetime import datetime, timedelta\n",
    "from parcels import FieldSet, Field, VectorField, ParticleSet, JITParticle, ErrorCode, AdvectionRK4, AdvectionRK4_3D\n",
    "\n",
    "sys.path.append('/home/jvalenti/MOAD/analysis-jose/notebooks/parcels')\n",
    "from Kernels import DeleteParticle, Buoyancy\n",
    "from OP_functions import *"
   ]
  },
  {
   "cell_type": "code",
   "execution_count": 10,
   "id": "941b8dd3-eebb-4149-af84-781e66652a11",
   "metadata": {},
   "outputs": [],
   "source": [
    "# Define paths\n",
    "local = 0 #Set to 0 when working on server\n",
    "paths = path(local)"
   ]
  },
  {
   "cell_type": "markdown",
   "id": "97c4bf2f-db05-4d5f-b4bb-bdaad6578599",
   "metadata": {},
   "source": [
    "## Definitions"
   ]
  },
  {
   "cell_type": "code",
   "execution_count": 11,
   "id": "28a99025-a33d-4d66-9e39-aab453f279b2",
   "metadata": {},
   "outputs": [],
   "source": [
    "start = datetime(2019, 7, 1) #Start date\n",
    "# Set Time length [days] and timestep [seconds]\n",
    "length = 30\n",
    "duration = timedelta(days=length)\n",
    "dt = 90 #toggle between - or + to pick backwards or forwards\n",
    "N = 2 # number of deploying locations\n",
    "n = 150 # 1000   # number of particles per location\n",
    "dmin = [59,64] #minimum depth\n",
    "dd = 2 #max depth difference from dmin\n",
    "r = 1000 #radius deploy cloud [m]\n",
    "x_offset, y_offset, zvals = p_deploy(N,n,dmin,dd,r)"
   ]
  },
  {
   "cell_type": "code",
   "execution_count": 12,
   "id": "c87107ce",
   "metadata": {},
   "outputs": [],
   "source": [
    "from parcels import Variable\n",
    "\n",
    "class PEParticle(JITParticle):         # Define a new particle class\n",
    "    ro = Variable('ro', initial = 1370)             # desnsity PE\n",
    "    size = Variable('size', initial = 5e-5)"
   ]
  },
  {
   "cell_type": "code",
   "execution_count": 13,
   "id": "2ceb066c-22eb-4ef5-abe1-dc051ad4cc7c",
   "metadata": {},
   "outputs": [],
   "source": [
    "lon = np.zeros([N,n])\n",
    "lat = np.zeros([N,n])\n",
    "# Execute run \n",
    "clon, clat = [-123.407687,-123.347869], [48.406743,48.393512]  # choose horizontal centre of the particle cloud\n",
    "for i in range(N):\n",
    "    lon[i,:]=(clon[i] + x_offset[i,:])\n",
    "    lat[i,:]=(clat[i] + y_offset[i,:])\n",
    "z = zvals"
   ]
  },
  {
   "cell_type": "code",
   "execution_count": 14,
   "id": "92d6511f-3d0c-4a98-ad32-0d4cb970a2da",
   "metadata": {},
   "outputs": [
    {
     "name": "stdout",
     "output_type": "stream",
     "text": [
      "/home/jvalenti/MOAD/analysis-jose/notebooks/results/VictoriaSummer20190701_1n_20190731_1n.nc\n"
     ]
    }
   ],
   "source": [
    "#Set start date time and the name of the output file\n",
    "name = 'VictoriaSummer' #name output file\n",
    "daterange = [start+timedelta(days=i) for i in range(length)]\n",
    "fn =  name + '_'.join(d.strftime('%Y%m%d')+'_1n' for d in [start, start+duration]) + '.nc'\n",
    "outfile = os.path.join(paths['out'], fn)\n",
    "print(outfile)"
   ]
  },
  {
   "cell_type": "markdown",
   "id": "0c4e63f2-3fb8-4526-b45a-ce5644646287",
   "metadata": {},
   "source": [
    "## Simulation"
   ]
  },
  {
   "cell_type": "code",
   "execution_count": 15,
   "id": "922eb3dc-e34d-4102-b1d4-4df9de8b2f06",
   "metadata": {},
   "outputs": [],
   "source": [
    "#Fill in the list of variables that you want to use as fields\n",
    "varlist=['U','V','W']\n",
    "filenames,variables,dimensions=filename_set(start,length,varlist,local)"
   ]
  },
  {
   "cell_type": "code",
   "execution_count": 16,
   "id": "53f87621-a497-4575-85ba-18ec93118e44",
   "metadata": {},
   "outputs": [
    {
     "name": "stderr",
     "output_type": "stream",
     "text": [
      "INFO: Compiled ArrayJITParticleAdvectionRK4_3D ==> /tmp/parcels-2894/libe3b95fcfd7dd8fbe2c0bae94bf631369_0.so\n",
      "INFO: Temporary output files are stored in /home/jvalenti/MOAD/analysis-jose/notebooks/results/out-KJEYQTGV.\n",
      "INFO: You can use \"parcels_convert_npydir_to_netcdf /home/jvalenti/MOAD/analysis-jose/notebooks/results/out-KJEYQTGV\" to convert these to a NetCDF file during the run.\n",
      " 24% (622800.0 of 2592000.0) |##         | Elapsed Time: 0:04:41 ETA:   0:14:53"
     ]
    },
    {
     "name": "stdout",
     "output_type": "stream",
     "text": [
      "Correct cell not found for (-124.808363, 48.533037) after 1000000 iterations\n",
      "Debug info: old particle indices: (yi, xi) 423 0\n",
      "            new particle indices: (yi, xi) 423 43\n",
      "            Mesh 2d shape:  898 398\n",
      "            Relative particle position:  (xsi, eta) -4.3990204725525729e+01 9.6979820656527482e-01\n",
      "Particle 463 lost !! [-124.80814709264916, 48.532779881875456, 5.663167526063489, 626670.0]\n"
     ]
    },
    {
     "name": "stderr",
     "output_type": "stream",
     "text": [
      " 28% (727200.0 of 2592000.0) |###        | Elapsed Time: 0:05:28 ETA:   0:14:13"
     ]
    },
    {
     "name": "stdout",
     "output_type": "stream",
     "text": [
      "Correct cell not found for (-124.788371, 48.509223) after 1000000 iterations\n",
      "Debug info: old particle indices: (yi, xi) 417 0\n",
      "            new particle indices: (yi, xi) 417 43\n",
      "            Mesh 2d shape:  898 398\n",
      "            Relative particle position:  (xsi, eta) -4.4044207938006942e+01 9.9625437100331216e-01\n",
      "Particle 386 lost !! [-124.78810182417622, 48.50890197438719, 0.28336419410297253, 732690.0]\n"
     ]
    },
    {
     "name": "stderr",
     "output_type": "stream",
     "text": [
      " 28% (730800.0 of 2592000.0) |###        | Elapsed Time: 0:05:30 ETA:   0:11:42"
     ]
    },
    {
     "name": "stdout",
     "output_type": "stream",
     "text": [
      "Correct cell not found for (-124.835058, 48.564830) after 1000000 iterations\n",
      "Debug info: old particle indices: (yi, xi) 432 0\n",
      "            new particle indices: (yi, xi) 431 42\n",
      "            Mesh 2d shape:  898 398\n",
      "            Relative particle position:  (xsi, eta) -4.3001354878774222e+01 -5.5353220085070494e-02\n",
      "Particle 444 lost !! [-124.83502614259731, 48.564792329098466, 36.292586063408464, 735210.0]\n"
     ]
    },
    {
     "name": "stderr",
     "output_type": "stream",
     "text": [
      " 29% (763200.0 of 2592000.0) |###        | Elapsed Time: 0:05:45 ETA:   0:13:43"
     ]
    },
    {
     "name": "stdout",
     "output_type": "stream",
     "text": [
      "Correct cell not found for (-124.805066, 48.529108) after 1000000 iterations\n",
      "Debug info: old particle indices: (yi, xi) 422 0\n",
      "            new particle indices: (yi, xi) 423 43\n",
      "            Mesh 2d shape:  898 398\n",
      "            Relative particle position:  (xsi, eta) -4.4040119811146923e+01 1.0035883852714123e+00\n",
      "Particle 576 lost !! [-124.80475485347712, 48.528737264448914, 0.04815343048674947, 767070.0]\n"
     ]
    },
    {
     "name": "stderr",
     "output_type": "stream",
     "text": [
      " 30% (802800.0 of 2592000.0) |###        | Elapsed Time: 0:06:02 ETA:   0:13:04"
     ]
    },
    {
     "name": "stdout",
     "output_type": "stream",
     "text": [
      "Correct cell not found for (-124.845072, 48.576750) after 1000000 iterations\n",
      "Debug info: old particle indices: (yi, xi) 435 0\n",
      "            new particle indices: (yi, xi) 434 42\n",
      "            Mesh 2d shape:  898 398\n",
      "            Relative particle position:  (xsi, eta) -4.2998710274546909e+01 -5.2059310303171812e-02\n",
      "Particle 306 lost !! [-124.84500807063642, 48.57667340805762, 15.69011126646393, 808290.0]\n"
     ]
    },
    {
     "name": "stderr",
     "output_type": "stream",
     "text": [
      " 31% (810000.0 of 2592000.0) |###        | Elapsed Time: 0:06:05 ETA:   0:13:59"
     ]
    },
    {
     "name": "stdout",
     "output_type": "stream",
     "text": [
      "Correct cell not found for (-124.851741, 48.584682) after 1000000 iterations\n",
      "Debug info: old particle indices: (yi, xi) 436 0\n",
      "            new particle indices: (yi, xi) 436 43\n",
      "            Mesh 2d shape:  898 398\n",
      "            Relative particle position:  (xsi, eta) -4.3998268684600781e+01 9.4933515064856522e-01\n",
      "Particle 532 lost !! [-124.85159184491185, 48.58450482725972, 24.9378895365788, 816030.0]\n"
     ]
    },
    {
     "name": "stderr",
     "output_type": "stream",
     "text": [
      " 31% (813600.0 of 2592000.0) |###        | Elapsed Time: 0:06:07 ETA:   0:11:09"
     ]
    },
    {
     "name": "stdout",
     "output_type": "stream",
     "text": [
      "Correct cell not found for (-124.835052, 48.564824) after 1000000 iterations\n",
      "Debug info: old particle indices: (yi, xi) 432 0\n",
      "            new particle indices: (yi, xi) 431 42\n",
      "            Mesh 2d shape:  898 398\n",
      "            Relative particle position:  (xsi, eta) -4.3004045247104202e+01 9.4438287397558895e-01\n",
      "Particle 436 lost !! [-124.83490606780637, 48.564649403616805, 8.234441144962787, 817380.0]\n"
     ]
    },
    {
     "name": "stderr",
     "output_type": "stream",
     "text": [
      " 34% (892800.0 of 2592000.0) |###        | Elapsed Time: 0:06:41 ETA:   0:12:58"
     ]
    },
    {
     "name": "stdout",
     "output_type": "stream",
     "text": [
      "Correct cell not found for (-124.834905, 48.564648) after 1000000 iterations\n",
      "Debug info: old particle indices: (yi, xi) 431 0\n",
      "            new particle indices: (yi, xi) 431 42\n",
      "            Mesh 2d shape:  898 398\n",
      "            Relative particle position:  (xsi, eta) -4.3006169509238646e+01 9.0121818096505679e-01\n",
      "Correct cell not found for (-124.835069, 48.564844) after 1000000 iterations\n",
      "Debug info: old particle indices: (yi, xi) 432 0\n",
      "            new particle indices: (yi, xi) 431 42\n",
      "            Mesh 2d shape:  898 398\n",
      "            Relative particle position:  (xsi, eta) -4.3001352855506703e+01 -5.1878868633631614e-02\n",
      "Particle 401 lost !! [-124.83481507404119, 48.56454102228797, 32.942132980155094, 896850.0]\n",
      "Particle 420 lost !! [-124.83501933825629, 48.56478422743024, 34.54787063248283, 897750.0]\n",
      "Correct cell not found for (-124.851761, 48.584706) after 1000000 iterations\n",
      "Debug info: old particle indices: (yi, xi) 436 0\n",
      "            new particle indices: (yi, xi) 436 43\n",
      "            Mesh 2d shape:  898 398\n",
      "            Relative particle position:  (xsi, eta) -4.3998103023691002e+01 9.5494916257402085e-01\n",
      "Particle 304 lost !! [-124.85167985201161, 48.584609512001144, 19.33915581575357, 899550.0]\n"
     ]
    },
    {
     "name": "stderr",
     "output_type": "stream",
     "text": [
      " 34% (896400.0 of 2592000.0) |###        | Elapsed Time: 0:06:43 ETA:   0:16:00"
     ]
    },
    {
     "name": "stdout",
     "output_type": "stream",
     "text": [
      "Correct cell not found for (-124.851762, 48.584707) after 1000000 iterations\n",
      "Debug info: old particle indices: (yi, xi) 436 0\n",
      "            new particle indices: (yi, xi) 436 43\n",
      "            Mesh 2d shape:  898 398\n",
      "            Relative particle position:  (xsi, eta) -4.3998094915222062e+01 9.5522589169723437e-01\n",
      "Particle 567 lost !! [-124.85162680794184, 48.584546415753486, 25.917752874519763, 900990.0]\n"
     ]
    },
    {
     "name": "stderr",
     "output_type": "stream",
     "text": [
      " 34% (900000.0 of 2592000.0) |###        | Elapsed Time: 0:06:45 ETA:   0:11:14"
     ]
    },
    {
     "name": "stdout",
     "output_type": "stream",
     "text": [
      "Correct cell not found for (-124.861832, 48.596689) after 1000000 iterations\n",
      "Debug info: old particle indices: (yi, xi) 439 0\n",
      "            new particle indices: (yi, xi) 439 43\n",
      "            Mesh 2d shape:  898 398\n",
      "            Relative particle position:  (xsi, eta) -4.4043377484075947e+01 9.9681819226862822e-01\n",
      "Particle 545 lost !! [-124.86173703959939, 48.59657634916139, 22.36716173573585, 905040.0]\n",
      "Correct cell not found for (-124.851811, 48.584766) after 1000000 iterations\n",
      "Debug info: old particle indices: (yi, xi) 436 0\n",
      "            new particle indices: (yi, xi) 436 43\n",
      "            Mesh 2d shape:  898 398\n",
      "            Relative particle position:  (xsi, eta) -4.3997679477081697e+01 9.6930406168051009e-01\n",
      "Particle 342 lost !! [-124.85172502895948, 48.58466325076722, 25.159898652547113, 906570.0]\n"
     ]
    },
    {
     "name": "stderr",
     "output_type": "stream",
     "text": [
      " 37% (975600.0 of 2592000.0) |####       | Elapsed Time: 0:07:19 ETA:   0:11:40"
     ]
    },
    {
     "name": "stdout",
     "output_type": "stream",
     "text": [
      "Correct cell not found for (-124.804964, 48.528987) after 1000000 iterations\n",
      "Debug info: old particle indices: (yi, xi) 422 0\n",
      "            new particle indices: (yi, xi) 422 43\n",
      "            Mesh 2d shape:  898 398\n",
      "            Relative particle position:  (xsi, eta) -4.4037990180463794e+01 9.7324515112994880e-01\n",
      "Particle 537 lost !! [-124.80492244140916, 48.528936782132085, 50.14230977768834, 982440.0]\n"
     ]
    },
    {
     "name": "stderr",
     "output_type": "stream",
     "text": [
      " 37% (979200.0 of 2592000.0) |####       | Elapsed Time: 0:07:21 ETA:   0:10:13"
     ]
    },
    {
     "name": "stdout",
     "output_type": "stream",
     "text": [
      "Correct cell not found for (-124.835056, 48.564828) after 1000000 iterations\n",
      "Debug info: old particle indices: (yi, xi) 432 0\n",
      "            new particle indices: (yi, xi) 431 42\n",
      "            Mesh 2d shape:  898 398\n",
      "            Relative particle position:  (xsi, eta) -4.3001360838365684e+01 -5.5873969826829857e-02\n",
      "Particle 547 lost !! [-124.8349885614847, 48.5647475834788, 19.448905187339705, 984240.0]\n"
     ]
    },
    {
     "name": "stderr",
     "output_type": "stream",
     "text": [
      " 37% (982800.0 of 2592000.0) |####       | Elapsed Time: 0:07:23 ETA:   0:12:43"
     ]
    },
    {
     "name": "stdout",
     "output_type": "stream",
     "text": [
      "Correct cell not found for (-124.861806, 48.596658) after 1000000 iterations\n",
      "Debug info: old particle indices: (yi, xi) 439 0\n",
      "            new particle indices: (yi, xi) 439 43\n",
      "            Mesh 2d shape:  898 398\n",
      "            Relative particle position:  (xsi, eta) -4.4043228094299124e+01 9.8914769481265274e-01\n",
      "Particle 308 lost !! [-124.8616988702386, 48.59653092557362, 35.57898153499253, 989010.0]\n"
     ]
    },
    {
     "name": "stderr",
     "output_type": "stream",
     "text": [
      " 38% (986400.0 of 2592000.0) |####       | Elapsed Time: 0:07:24 ETA:   0:12:24"
     ]
    },
    {
     "name": "stdout",
     "output_type": "stream",
     "text": [
      "Correct cell not found for (-124.898530, 48.640328) after 1000000 iterations\n",
      "Debug info: old particle indices: (yi, xi) 451 0\n",
      "            new particle indices: (yi, xi) 450 42\n",
      "            Mesh 2d shape:  898 398\n",
      "            Relative particle position:  (xsi, eta) -4.3004639256108298e+01 9.4277175992885642e-01\n",
      "Correct cell not found for (-124.851805, 48.584759) after 1000000 iterations\n",
      "Debug info: old particle indices: (yi, xi) 436 0\n",
      "            new particle indices: (yi, xi) 436 43\n",
      "            Mesh 2d shape:  898 398\n",
      "            Relative particle position:  (xsi, eta) -4.3997729216894420e+01 9.6752137364084800e-01\n",
      "Particle 588 lost !! [-124.898453658755, 48.640237788644534, 18.79137510109986, 992610.0]\n",
      "Particle 596 lost !! [-124.85167070633565, 48.58459865864067, 34.56941404420749, 992880.0]\n"
     ]
    },
    {
     "name": "stderr",
     "output_type": "stream",
     "text": [
      " 39% (1033200.0 of 2592000.0) |###       | Elapsed Time: 0:07:46 ETA:   0:13:23"
     ]
    },
    {
     "name": "stdout",
     "output_type": "stream",
     "text": [
      "Correct cell not found for (-124.778304, 48.497220) after 1000000 iterations\n",
      "Debug info: old particle indices: (yi, xi) 414 0\n",
      "            new particle indices: (yi, xi) 415 43\n",
      "            Mesh 2d shape:  898 398\n",
      "            Relative particle position:  (xsi, eta) -4.4027645073095378e+01 1.0079271266341239e+00\n",
      "Particle 457 lost !! [-124.77808301667123, 48.496956191146175, 7.590197334013908, 1039860.0]\n"
     ]
    },
    {
     "name": "stderr",
     "output_type": "stream",
     "text": [
      " 41% (1076400.0 of 2592000.0) |####      | Elapsed Time: 0:08:06 ETA:   0:11:57"
     ]
    },
    {
     "name": "stdout",
     "output_type": "stream",
     "text": [
      "Correct cell not found for (-124.731576, 48.441492) after 1000000 iterations\n",
      "Debug info: old particle indices: (yi, xi) 400 0\n",
      "            new particle indices: (yi, xi) 400 43\n",
      "            Mesh 2d shape:  898 398\n",
      "            Relative particle position:  (xsi, eta) -4.4042758219465192e+01 -1.4194162480652443e-02\n",
      "Particle 320 lost !! [-124.73137764369916, 48.44125492177524, 1.8724641651707117, 1081620.0]\n"
     ]
    },
    {
     "name": "stderr",
     "output_type": "stream",
     "text": [
      " 41% (1083600.0 of 2592000.0) |####      | Elapsed Time: 0:08:09 ETA:   0:14:11"
     ]
    },
    {
     "name": "stdout",
     "output_type": "stream",
     "text": [
      "Correct cell not found for (-124.791632, 48.513108) after 1000000 iterations\n",
      "Debug info: old particle indices: (yi, xi) 419 0\n",
      "            new particle indices: (yi, xi) 418 42\n",
      "            Mesh 2d shape:  898 398\n",
      "            Relative particle position:  (xsi, eta) -4.3040626129179309e+01 9.7500677631415100e-01\n",
      "Correct cell not found for (-124.908571, 48.652255) after 1000000 iterations\n",
      "Debug info: old particle indices: (yi, xi) 453 0\n",
      "            new particle indices: (yi, xi) 453 43\n",
      "            Mesh 2d shape:  898 398\n",
      "            Relative particle position:  (xsi, eta) -4.4002447125992788e+01 9.5092574241976291e-01\n",
      "Particle 437 lost !! [-124.7915208533493, 48.512976450727514, 6.772673628600074, 1088730.0]\n",
      "Particle 514 lost !! [-124.90854971225215, 48.65223034808297, 36.07137547765676, 1087830.0]\n",
      "Correct cell not found for (-124.851809, 48.584763) after 1000000 iterations\n",
      "Debug info: old particle indices: (yi, xi) 436 0\n",
      "            new particle indices: (yi, xi) 436 43\n",
      "            Mesh 2d shape:  898 398\n",
      "            Relative particle position:  (xsi, eta) -4.3997700749755907e+01 9.6851398391609289e-01\n",
      "Correct cell not found for (-124.878498, 48.616508) after 1000000 iterations\n",
      "Debug info: old particle indices: (yi, xi) 444 0\n",
      "            new particle indices: (yi, xi) 444 43\n",
      "            Mesh 2d shape:  898 398\n",
      "            Relative particle position:  (xsi, eta) -4.4039100909118581e+01 9.9290677339291389e-01\n",
      "Particle 315 lost !! [-124.85164359365395, 48.58456639987973, 35.061646114429074, 1089270.0]\n",
      "Particle 527 lost !! [-124.87841395087047, 48.61640842228645, 48.39188627626757, 1089810.0]\n"
     ]
    },
    {
     "name": "stderr",
     "output_type": "stream",
     "text": [
      " 42% (1090800.0 of 2592000.0) |####      | Elapsed Time: 0:08:13 ETA:   0:13:12"
     ]
    },
    {
     "name": "stdout",
     "output_type": "stream",
     "text": [
      "Correct cell not found for (-124.748159, 48.461284) after 1000000 iterations\n",
      "Debug info: old particle indices: (yi, xi) 405 0\n",
      "            new particle indices: (yi, xi) 405 42\n",
      "            Mesh 2d shape:  898 398\n",
      "            Relative particle position:  (xsi, eta) -4.3014179943842301e+01 9.9516574883344355e-01\n",
      "Correct cell not found for (-124.744810, 48.457280) after 1000000 iterations\n",
      "Debug info: old particle indices: (yi, xi) 405 0\n",
      "            new particle indices: (yi, xi) 404 43\n",
      "            Mesh 2d shape:  898 398\n",
      "            Relative particle position:  (xsi, eta) -4.4035386446499579e+01 9.5613797292827674e-01\n",
      "Particle 368 lost !! [-124.7481592068135, 48.461284422739126, 199.75647438616718, 1097190.0]\n",
      "Particle 569 lost !! [-124.74492386384806, 48.457416097421195, 212.82298862670794, 1097280.0]\n"
     ]
    },
    {
     "name": "stderr",
     "output_type": "stream",
     "text": [
      " 43% (1123200.0 of 2592000.0) |####      | Elapsed Time: 0:08:28 ETA:   0:10:50"
     ]
    },
    {
     "name": "stdout",
     "output_type": "stream",
     "text": [
      "Correct cell not found for (-124.795055, 48.517184) after 1000000 iterations\n",
      "Debug info: old particle indices: (yi, xi) 419 0\n",
      "            new particle indices: (yi, xi) 420 43\n",
      "            Mesh 2d shape:  898 398\n",
      "            Relative particle position:  (xsi, eta) -4.4042447907075015e+01 1.1835180822510262e-03\n",
      "Particle 531 lost !! [-124.79491083490726, 48.517012811332656, 15.385152243636725, 1128510.0]\n"
     ]
    },
    {
     "name": "stderr",
     "output_type": "stream",
     "text": [
      " 44% (1162800.0 of 2592000.0) |####      | Elapsed Time: 0:08:45 ETA:   0:10:14"
     ]
    },
    {
     "name": "stdout",
     "output_type": "stream",
     "text": [
      "Correct cell not found for (-124.838451, 48.568866) after 1000000 iterations\n",
      "Debug info: old particle indices: (yi, xi) 432 0\n",
      "            new particle indices: (yi, xi) 432 43\n",
      "            Mesh 2d shape:  898 398\n",
      "            Relative particle position:  (xsi, eta) -4.3979973394110445e+01 9.9378308752364741e-01\n",
      "Correct cell not found for (-124.861803, 48.596655) after 1000000 iterations\n",
      "Debug info: old particle indices: (yi, xi) 439 0\n",
      "            new particle indices: (yi, xi) 439 43\n",
      "            Mesh 2d shape:  898 398\n",
      "            Relative particle position:  (xsi, eta) -4.4043213917130728e+01 9.8850241234711023e-01\n",
      "Particle 305 lost !! [-124.83835633615068, 48.56875359395693, 24.076956526089106, 1169820.0]\n",
      "Particle 392 lost !! [-124.8616139678432, 48.596429946294876, 17.675180988890986, 1169640.0]\n"
     ]
    },
    {
     "name": "stderr",
     "output_type": "stream",
     "text": [
      " 45% (1170000.0 of 2592000.0) |####      | Elapsed Time: 0:08:49 ETA:   0:11:15"
     ]
    },
    {
     "name": "stdout",
     "output_type": "stream",
     "text": [
      "Correct cell not found for (-124.835076, 48.564851) after 1000000 iterations\n",
      "Debug info: old particle indices: (yi, xi) 432 0\n",
      "            new particle indices: (yi, xi) 431 42\n",
      "            Mesh 2d shape:  898 398\n",
      "            Relative particle position:  (xsi, eta) -4.3001353671418038e+01 -4.9917349327984556e-02\n",
      "Particle 357 lost !! [-124.83498360791268, 48.56474170334521, 48.10236855362663, 1175310.0]\n"
     ]
    },
    {
     "name": "stderr",
     "output_type": "stream",
     "text": [
      " 45% (1173600.0 of 2592000.0) |####      | Elapsed Time: 0:08:50 ETA:   0:09:09"
     ]
    },
    {
     "name": "stdout",
     "output_type": "stream",
     "text": [
      "Correct cell not found for (-124.875132, 48.612513) after 1000000 iterations\n",
      "Debug info: old particle indices: (yi, xi) 444 0\n",
      "            new particle indices: (yi, xi) 443 42\n",
      "            Mesh 2d shape:  898 398\n",
      "            Relative particle position:  (xsi, eta) -4.2991955839909558e+01 9.6211766846989133e-01\n",
      "Particle 552 lost !! [-124.87513205623172, 48.612513422571965, 3.00090103026497, 1177920.0]\n"
     ]
    },
    {
     "name": "stderr",
     "output_type": "stream",
     "text": [
      " 46% (1213200.0 of 2592000.0) |####      | Elapsed Time: 0:09:08 ETA:   0:09:57"
     ]
    },
    {
     "name": "stdout",
     "output_type": "stream",
     "text": [
      "Correct cell not found for (-124.778438, 48.497379) after 1000000 iterations\n",
      "Debug info: old particle indices: (yi, xi) 414 0\n",
      "            new particle indices: (yi, xi) 415 43\n",
      "            Mesh 2d shape:  898 398\n",
      "            Relative particle position:  (xsi, eta) -4.4029655710912039e+01 1.0489624827289659e+00\n",
      "Particle 314 lost !! [-124.77822589788789, 48.497126489253, 2.4221183904689383, 1219140.0]\n"
     ]
    },
    {
     "name": "stderr",
     "output_type": "stream",
     "text": [
      " 48% (1256400.0 of 2592000.0) |####      | Elapsed Time: 0:09:27 ETA:   0:09:44"
     ]
    },
    {
     "name": "stdout",
     "output_type": "stream",
     "text": [
      "Correct cell not found for (-124.851748, 48.584690) after 1000000 iterations\n",
      "Debug info: old particle indices: (yi, xi) 436 0\n",
      "            new particle indices: (yi, xi) 436 43\n",
      "            Mesh 2d shape:  898 398\n",
      "            Relative particle position:  (xsi, eta) -4.3998212217817105e+01 9.5124915864059867e-01\n",
      "Particle 427 lost !! [-124.85171275669333, 48.584648651610465, 52.00218372357611, 1262880.0]\n"
     ]
    },
    {
     "name": "stderr",
     "output_type": "stream",
     "text": [
      " 50% (1303200.0 of 2592000.0) |#####     | Elapsed Time: 0:09:48 ETA:   0:09:24"
     ]
    },
    {
     "name": "stdout",
     "output_type": "stream",
     "text": [
      "Correct cell not found for (-124.788289, 48.509124) after 1000000 iterations\n",
      "Debug info: old particle indices: (yi, xi) 417 0\n",
      "            new particle indices: (yi, xi) 417 43\n",
      "            Mesh 2d shape:  898 398\n",
      "            Relative particle position:  (xsi, eta) -4.4044240201576933e+01 9.7152142815831455e-01\n",
      "Particle 346 lost !! [-124.78795957031727, 48.50873252503139, 24.90812366607119, 1310130.0]\n"
     ]
    },
    {
     "name": "stderr",
     "output_type": "stream",
     "text": [
      " 51% (1332000.0 of 2592000.0) |#####     | Elapsed Time: 0:10:00 ETA:   0:09:04"
     ]
    },
    {
     "name": "stdout",
     "output_type": "stream",
     "text": [
      "Correct cell not found for (-124.931525, 48.679528) after 1000000 iterations\n",
      "Debug info: old particle indices: (yi, xi) 460 0\n",
      "            new particle indices: (yi, xi) 460 42\n",
      "            Mesh 2d shape:  898 398\n",
      "            Relative particle position:  (xsi, eta) -4.2996393791639761e+01 8.3181112459683182e-01\n",
      "Particle 515 lost !! [-124.93149455481503, 48.67949170774232, 21.977877615307463, 1337760.0]\n"
     ]
    },
    {
     "name": "stderr",
     "output_type": "stream",
     "text": [
      " 51% (1346400.0 of 2592000.0) |#####     | Elapsed Time: 0:10:07 ETA:   0:07:42"
     ]
    },
    {
     "name": "stdout",
     "output_type": "stream",
     "text": [
      "Correct cell not found for (-124.808369, 48.533044) after 1000000 iterations\n",
      "Debug info: old particle indices: (yi, xi) 423 0\n",
      "            new particle indices: (yi, xi) 423 43\n",
      "            Mesh 2d shape:  898 398\n",
      "            Relative particle position:  (xsi, eta) -4.3990118772307973e+01 9.7144024167411347e-01\n",
      "Particle 434 lost !! [-124.80829568096263, 48.53295698040913, 53.66666307622384, 1353240.0]\n"
     ]
    },
    {
     "name": "stderr",
     "output_type": "stream",
     "text": [
      " 52% (1353600.0 of 2592000.0) |#####     | Elapsed Time: 0:10:11 ETA:   0:11:40"
     ]
    },
    {
     "name": "stdout",
     "output_type": "stream",
     "text": [
      "Correct cell not found for (-124.731500, 48.441401) after 1000000 iterations\n",
      "Debug info: old particle indices: (yi, xi) 400 0\n",
      "            new particle indices: (yi, xi) 400 43\n",
      "            Mesh 2d shape:  898 398\n",
      "            Relative particle position:  (xsi, eta) -4.4041287556155950e+01 9.6371145959923821e-01\n",
      "Particle 319 lost !! [-124.73143377055784, 48.4413218053586, 56.05737064460902, 1357290.0]\n",
      "Correct cell not found for (-124.741481, 48.453312) after 1000000 iterations\n",
      "Debug info: old particle indices: (yi, xi) 403 0\n",
      "            new particle indices: (yi, xi) 403 42\n",
      "            Mesh 2d shape:  898 398\n",
      "            Relative particle position:  (xsi, eta) -4.3016850527109291e+01 9.8971406571747844e-01\n",
      "Particle 321 lost !! [-124.74154626070059, 48.453390387879494, 184.17673969841223, 1360080.0]\n"
     ]
    },
    {
     "name": "stderr",
     "output_type": "stream",
     "text": [
      " 52% (1357200.0 of 2592000.0) |#####     | Elapsed Time: 0:10:13 ETA:   0:08:51"
     ]
    },
    {
     "name": "stdout",
     "output_type": "stream",
     "text": [
      "Correct cell not found for (-124.744844, 48.457320) after 1000000 iterations\n",
      "Debug info: old particle indices: (yi, xi) 404 0\n",
      "            new particle indices: (yi, xi) 404 43\n",
      "            Mesh 2d shape:  898 398\n",
      "            Relative particle position:  (xsi, eta) -4.4035877957111637e+01 9.6639199192919989e-01\n",
      "Particle 499 lost !! [-124.74480347081132, 48.45727226875542, 25.625448967085106, 1361880.0]\n"
     ]
    },
    {
     "name": "stderr",
     "output_type": "stream",
     "text": [
      " 52% (1360800.0 of 2592000.0) |#####     | Elapsed Time: 0:10:15 ETA:   0:07:59"
     ]
    },
    {
     "name": "stdout",
     "output_type": "stream",
     "text": [
      "Correct cell not found for (-124.748159, 48.461285) after 1000000 iterations\n",
      "Debug info: old particle indices: (yi, xi) 405 0\n",
      "            new particle indices: (yi, xi) 405 42\n",
      "            Mesh 2d shape:  898 398\n",
      "            Relative particle position:  (xsi, eta) -4.3014189122521366e+01 9.9519152519752241e-01\n",
      "Particle 460 lost !! [-124.74815933184317, 48.46128450301318, 201.51569094316622, 1365840.0]\n",
      "Correct cell not found for (-124.794927, 48.517032) after 1000000 iterations\n",
      "Debug info: old particle indices: (yi, xi) 420 0\n",
      "            new particle indices: (yi, xi) 419 43\n",
      "            Mesh 2d shape:  898 398\n",
      "            Relative particle position:  (xsi, eta) -4.4039929743617975e+01 9.6319570694691681e-01\n",
      "Particle 302 lost !! [-124.79507959821204, 48.51721385426666, 60.79607355525911, 1367460.0]\n"
     ]
    },
    {
     "name": "stderr",
     "output_type": "stream",
     "text": [
      " 55% (1429200.0 of 2592000.0) |#####     | Elapsed Time: 0:10:46 ETA:   0:08:55"
     ]
    },
    {
     "name": "stdout",
     "output_type": "stream",
     "text": [
      "Correct cell not found for (-124.835069, 48.564843) after 1000000 iterations\n",
      "Debug info: old particle indices: (yi, xi) 432 0\n",
      "            new particle indices: (yi, xi) 431 42\n",
      "            Mesh 2d shape:  898 398\n",
      "            Relative particle position:  (xsi, eta) -4.3001357075848823e+01 -5.2100012738269343e-02\n",
      "Particle 573 lost !! [-124.83499006415269, 48.56474937239113, 28.299004660421332, 1435860.0]\n"
     ]
    },
    {
     "name": "stderr",
     "output_type": "stream",
     "text": [
      " 55% (1432800.0 of 2592000.0) |#####     | Elapsed Time: 0:10:48 ETA:   0:11:11"
     ]
    },
    {
     "name": "stdout",
     "output_type": "stream",
     "text": [
      "Correct cell not found for (-124.835108, 48.564889) after 1000000 iterations\n",
      "Debug info: old particle indices: (yi, xi) 432 0\n",
      "            new particle indices: (yi, xi) 431 42\n",
      "            Mesh 2d shape:  898 398\n",
      "            Relative particle position:  (xsi, eta) -4.3001344088027814e+01 -4.0364866491133598e-02\n",
      "Particle 571 lost !! [-124.83500030905918, 48.56476157468858, 3.0855022953764717, 1438110.0]\n"
     ]
    },
    {
     "name": "stderr",
     "output_type": "stream",
     "text": [
      " 55% (1440000.0 of 2592000.0) |#####     | Elapsed Time: 0:10:52 ETA:   0:08:54"
     ]
    },
    {
     "name": "stdout",
     "output_type": "stream",
     "text": [
      "Correct cell not found for (-124.795067, 48.517199) after 1000000 iterations\n",
      "Debug info: old particle indices: (yi, xi) 419 0\n",
      "            new particle indices: (yi, xi) 420 43\n",
      "            Mesh 2d shape:  898 398\n",
      "            Relative particle position:  (xsi, eta) -4.4042260731095837e+01 4.9569788014276472e-03\n",
      "Particle 411 lost !! [-124.7947991664324, 48.5168798351329, 14.253032762343139, 1443690.0]\n"
     ]
    },
    {
     "name": "stderr",
     "output_type": "stream",
     "text": [
      " 55% (1443600.0 of 2592000.0) |#####     | Elapsed Time: 0:10:53 ETA:   0:08:41"
     ]
    },
    {
     "name": "stdout",
     "output_type": "stream",
     "text": [
      "Correct cell not found for (-124.728134, 48.437389) after 1000000 iterations\n",
      "Debug info: old particle indices: (yi, xi) 399 0\n",
      "            new particle indices: (yi, xi) 399 42\n",
      "            Mesh 2d shape:  898 398\n",
      "            Relative particle position:  (xsi, eta) -4.3040942046471812e+01 9.5466551900075669e-01\n",
      "Particle 404 lost !! [-124.72813406739317, 48.43738926212454, 59.47279292769798, 1450080.0]\n"
     ]
    },
    {
     "name": "stderr",
     "output_type": "stream",
     "text": [
      " 58% (1522800.0 of 2592000.0) |#####     | Elapsed Time: 0:11:29 ETA:   0:07:36"
     ]
    },
    {
     "name": "stdout",
     "output_type": "stream",
     "text": [
      "Correct cell not found for (-124.744868, 48.457349) after 1000000 iterations\n",
      "Debug info: old particle indices: (yi, xi) 404 0\n",
      "            new particle indices: (yi, xi) 404 43\n",
      "            Mesh 2d shape:  898 398\n",
      "            Relative particle position:  (xsi, eta) -4.4036241623687246e+01 9.7382860639814506e-01\n",
      "Particle 581 lost !! [-124.74475613961894, 48.45721586960875, 31.26303946924932, 1529010.0]\n"
     ]
    },
    {
     "name": "stderr",
     "output_type": "stream",
     "text": [
      " 59% (1540800.0 of 2592000.0) |#####     | Elapsed Time: 0:11:37 ETA:   0:07:42"
     ]
    },
    {
     "name": "stdout",
     "output_type": "stream",
     "text": [
      "Correct cell not found for (-124.778182, 48.497073) after 1000000 iterations\n",
      "Debug info: old particle indices: (yi, xi) 415 0\n",
      "            new particle indices: (yi, xi) 414 43\n",
      "            Mesh 2d shape:  898 398\n",
      "            Relative particle position:  (xsi, eta) -4.4025805840892481e+01 9.7019017983658962e-01\n",
      "Particle 528 lost !! [-124.77824712554681, 48.49715185947944, 60.955424190475185, 1546380.0]\n"
     ]
    },
    {
     "name": "stderr",
     "output_type": "stream",
     "text": [
      " 60% (1576800.0 of 2592000.0) |######    | Elapsed Time: 0:11:53 ETA:   0:07:16"
     ]
    },
    {
     "name": "stdout",
     "output_type": "stream",
     "text": [
      "Correct cell not found for (-124.901883, 48.644313) after 1000000 iterations\n",
      "Debug info: old particle indices: (yi, xi) 451 0\n",
      "            new particle indices: (yi, xi) 451 43\n",
      "            Mesh 2d shape:  898 398\n",
      "            Relative particle position:  (xsi, eta) -4.3983886087841931e+01 9.8050585442616611e-01\n",
      "Particle 561 lost !! [-124.90184403408985, 48.644266838713264, 28.953587700094715, 1583550.0]\n"
     ]
    },
    {
     "name": "stderr",
     "output_type": "stream",
     "text": [
      " 61% (1602000.0 of 2592000.0) |######    | Elapsed Time: 0:12:04 ETA:   0:07:26"
     ]
    },
    {
     "name": "stdout",
     "output_type": "stream",
     "text": [
      "Correct cell not found for (-124.878492, 48.616501) after 1000000 iterations\n",
      "Debug info: old particle indices: (yi, xi) 444 0\n",
      "            new particle indices: (yi, xi) 444 43\n",
      "            Mesh 2d shape:  898 398\n",
      "            Relative particle position:  (xsi, eta) -4.4039105187123667e+01 9.9127616841526500e-01\n",
      "Particle 331 lost !! [-124.87847527586092, 48.61648117144904, 39.13175445710453, 1607130.0]\n"
     ]
    },
    {
     "name": "stderr",
     "output_type": "stream",
     "text": [
      " 61% (1605600.0 of 2592000.0) |######    | Elapsed Time: 0:12:06 ETA:   0:07:28"
     ]
    },
    {
     "name": "stdout",
     "output_type": "stream",
     "text": [
      "Correct cell not found for (-124.928661, 48.676124) after 1000000 iterations\n",
      "Debug info: old particle indices: (yi, xi) 459 0\n",
      "            new particle indices: (yi, xi) 459 43\n",
      "            Mesh 2d shape:  898 398\n",
      "            Relative particle position:  (xsi, eta) -4.4046911726033649e+01 9.9673913008230319e-01\n",
      "Particle 440 lost !! [-124.9285513311276, 48.67599433663107, 28.343179432148048, 1612620.0]\n"
     ]
    },
    {
     "name": "stderr",
     "output_type": "stream",
     "text": [
      " 62% (1609200.0 of 2592000.0) |######    | Elapsed Time: 0:12:08 ETA:   0:06:04"
     ]
    },
    {
     "name": "stdout",
     "output_type": "stream",
     "text": [
      "Correct cell not found for (-124.878521, 48.616536) after 1000000 iterations\n",
      "Debug info: old particle indices: (yi, xi) 444 0\n",
      "            new particle indices: (yi, xi) 445 43\n",
      "            Mesh 2d shape:  898 398\n",
      "            Relative particle position:  (xsi, eta) -4.4039100483279512e+01 1.0000023980192798e+00\n",
      "Particle 519 lost !! [-124.87847511243577, 48.61648099508763, 48.02501687480276, 1612890.0]\n"
     ]
    },
    {
     "name": "stderr",
     "output_type": "stream",
     "text": [
      " 63% (1656000.0 of 2592000.0) |######    | Elapsed Time: 0:12:28 ETA:   0:07:10"
     ]
    },
    {
     "name": "stdout",
     "output_type": "stream",
     "text": [
      "Correct cell not found for (-124.788381, 48.509234) after 1000000 iterations\n",
      "Debug info: old particle indices: (yi, xi) 417 0\n",
      "            new particle indices: (yi, xi) 417 43\n",
      "            Mesh 2d shape:  898 398\n",
      "            Relative particle position:  (xsi, eta) -4.4044209638967281e+01 9.9923370842746673e-01\n",
      "Particle 495 lost !! [-124.78823285494553, 48.509057945083114, 7.262497927522901, 1660590.0]\n"
     ]
    },
    {
     "name": "stderr",
     "output_type": "stream",
     "text": [
      " 67% (1760400.0 of 2592000.0) |######    | Elapsed Time: 0:13:13 ETA:   0:06:06"
     ]
    },
    {
     "name": "stdout",
     "output_type": "stream",
     "text": [
      "Correct cell not found for (-124.804990, 48.529017) after 1000000 iterations\n",
      "Debug info: old particle indices: (yi, xi) 422 0\n",
      "            new particle indices: (yi, xi) 422 43\n",
      "            Mesh 2d shape:  898 398\n",
      "            Relative particle position:  (xsi, eta) -4.4038519054686560e+01 9.8080721389910608e-01\n",
      "Particle 492 lost !! [-124.80496149751667, 48.52898330337477, 35.81580699420229, 1766520.0]\n"
     ]
    },
    {
     "name": "stderr",
     "output_type": "stream",
     "text": [
      " 71% (1850400.0 of 2592000.0) |#######   | Elapsed Time: 0:13:55 ETA:   0:05:21"
     ]
    },
    {
     "name": "stdout",
     "output_type": "stream",
     "text": [
      "Correct cell not found for (-124.835039, 48.564808) after 1000000 iterations\n",
      "Debug info: old particle indices: (yi, xi) 432 0\n",
      "            new particle indices: (yi, xi) 431 42\n",
      "            Mesh 2d shape:  898 398\n",
      "            Relative particle position:  (xsi, eta) -4.3004220242351295e+01 9.4059298459021823e-01\n",
      "Particle 303 lost !! [-124.83501295951064, 48.56477663945628, 19.175207132589435, 1855890.0]\n"
     ]
    },
    {
     "name": "stderr",
     "output_type": "stream",
     "text": [
      " 72% (1875600.0 of 2592000.0) |#######   | Elapsed Time: 0:14:06 ETA:   0:05:22"
     ]
    },
    {
     "name": "stdout",
     "output_type": "stream",
     "text": [
      "Correct cell not found for (-124.795062, 48.517193) after 1000000 iterations\n",
      "Debug info: old particle indices: (yi, xi) 419 0\n",
      "            new particle indices: (yi, xi) 420 43\n",
      "            Mesh 2d shape:  898 398\n",
      "            Relative particle position:  (xsi, eta) -4.4042333468010646e+01 3.4230924391489221e-03\n",
      "Particle 550 lost !! [-124.79476468991781, 48.51683882469464, 9.050531542108502, 1880550.0]\n"
     ]
    },
    {
     "name": "stderr",
     "output_type": "stream",
     "text": [
      " 72% (1879200.0 of 2592000.0) |#######   | Elapsed Time: 0:14:07 ETA:   0:04:29"
     ]
    },
    {
     "name": "stdout",
     "output_type": "stream",
     "text": [
      "Correct cell not found for (-124.761586, 48.477287) after 1000000 iterations\n",
      "Debug info: old particle indices: (yi, xi) 409 0\n",
      "            new particle indices: (yi, xi) 409 43\n",
      "            Mesh 2d shape:  898 398\n",
      "            Relative particle position:  (xsi, eta) -4.3984440572203219e+01 9.6730945818853098e-01\n",
      "Particle 549 lost !! [-124.76130535843554, 48.47695183495325, 10.75704122200949, 1884060.0]\n"
     ]
    },
    {
     "name": "stderr",
     "output_type": "stream",
     "text": [
      " 74% (1936800.0 of 2592000.0) |#######   | Elapsed Time: 0:14:33 ETA:   0:04:42"
     ]
    },
    {
     "name": "stdout",
     "output_type": "stream",
     "text": [
      "Correct cell not found for (-124.835047, 48.564818) after 1000000 iterations\n",
      "Debug info: old particle indices: (yi, xi) 432 0\n",
      "            new particle indices: (yi, xi) 431 42\n",
      "            Mesh 2d shape:  898 398\n",
      "            Relative particle position:  (xsi, eta) -4.3004105539140788e+01 9.4290027612895266e-01\n",
      "Particle 421 lost !! [-124.83504735233313, 48.564817561259574, 19.249020654722017, 1943190.0]\n"
     ]
    },
    {
     "name": "stderr",
     "output_type": "stream",
     "text": [
      " 76% (1983600.0 of 2592000.0) |#######   | Elapsed Time: 0:14:53 ETA:   0:04:30"
     ]
    },
    {
     "name": "stdout",
     "output_type": "stream",
     "text": [
      "Correct cell not found for (-124.778272, 48.497181) after 1000000 iterations\n",
      "Debug info: old particle indices: (yi, xi) 414 0\n",
      "            new particle indices: (yi, xi) 414 43\n",
      "            Mesh 2d shape:  898 398\n",
      "            Relative particle position:  (xsi, eta) -4.4027155267190835e+01 9.9794883113655264e-01\n",
      "Particle 488 lost !! [-124.77823162108285, 48.49713329897423, 18.075094665596026, 1989630.0]\n"
     ]
    },
    {
     "name": "stderr",
     "output_type": "stream",
     "text": [
      " 79% (2055600.0 of 2592000.0) |#######   | Elapsed Time: 0:15:23 ETA:   0:03:40"
     ]
    },
    {
     "name": "stdout",
     "output_type": "stream",
     "text": [
      "Correct cell not found for (-124.811645, 48.536954) after 1000000 iterations\n",
      "Debug info: old particle indices: (yi, xi) 425 0\n",
      "            new particle indices: (yi, xi) 424 42\n",
      "            Mesh 2d shape:  898 398\n",
      "            Relative particle position:  (xsi, eta) -4.2989916587138033e+01 9.5600097852210653e-01\n",
      "Particle 426 lost !! [-124.81158559617221, 48.53688303986323, 16.469879156205025, 2061900.0]\n"
     ]
    },
    {
     "name": "stderr",
     "output_type": "stream",
     "text": [
      " 80% (2091600.0 of 2592000.0) |########  | Elapsed Time: 0:15:39 ETA:   0:03:45"
     ]
    },
    {
     "name": "stdout",
     "output_type": "stream",
     "text": [
      "Correct cell not found for (-124.838392, 48.568796) after 1000000 iterations\n",
      "Debug info: old particle indices: (yi, xi) 432 0\n",
      "            new particle indices: (yi, xi) 432 43\n",
      "            Mesh 2d shape:  898 398\n",
      "            Relative particle position:  (xsi, eta) -4.3980830235602753e+01 9.7669982252152221e-01\n",
      "Particle 418 lost !! [-124.83836533096085, 48.568764294052905, 25.040631294024877, 2096460.0]\n"
     ]
    },
    {
     "name": "stderr",
     "output_type": "stream",
     "text": [
      " 80% (2095200.0 of 2592000.0) |########  | Elapsed Time: 0:15:41 ETA:   0:03:52"
     ]
    },
    {
     "name": "stdout",
     "output_type": "stream",
     "text": [
      "Correct cell not found for (-124.833490, 48.562964) after 1000000 iterations\n",
      "Debug info: old particle indices: (yi, xi) 431 0\n",
      "            new particle indices: (yi, xi) 431 42\n",
      "            Mesh 2d shape:  898 398\n",
      "            Relative particle position:  (xsi, eta) -4.3026731500057217e+01 4.8669075531058925e-01\n",
      "Particle 409 lost !! [-124.83340664905528, 48.56286409619426, 9.314563810290139, 2099610.0]\n"
     ]
    },
    {
     "name": "stderr",
     "output_type": "stream",
     "text": [
      " 81% (2102400.0 of 2592000.0) |########  | Elapsed Time: 0:15:44 ETA:   0:03:23"
     ]
    },
    {
     "name": "stdout",
     "output_type": "stream",
     "text": [
      "Correct cell not found for (-124.835054, 48.564825) after 1000000 iterations\n",
      "Debug info: old particle indices: (yi, xi) 432 0\n",
      "            new particle indices: (yi, xi) 431 42\n",
      "            Mesh 2d shape:  898 398\n",
      "            Relative particle position:  (xsi, eta) -4.3004030005868756e+01 9.4469607869037786e-01\n",
      "Particle 553 lost !! [-124.83493460666685, 48.5646833492603, 14.873615656160837, 2109150.0]\n"
     ]
    },
    {
     "name": "stderr",
     "output_type": "stream",
     "text": [
      " 84% (2178000.0 of 2592000.0) |########  | Elapsed Time: 0:16:16 ETA:   0:02:50"
     ]
    },
    {
     "name": "stdout",
     "output_type": "stream",
     "text": [
      "Correct cell not found for (-124.838415, 48.568824) after 1000000 iterations\n",
      "Debug info: old particle indices: (yi, xi) 432 0\n",
      "            new particle indices: (yi, xi) 432 43\n",
      "            Mesh 2d shape:  898 398\n",
      "            Relative particle position:  (xsi, eta) -4.3980489773661439e+01 9.8344979828834767e-01\n",
      "Particle 334 lost !! [-124.83835996023492, 48.56875792130965, 16.474591267256386, 2184840.0]\n"
     ]
    },
    {
     "name": "stderr",
     "output_type": "stream",
     "text": [
      " 85% (2206800.0 of 2592000.0) |########  | Elapsed Time: 0:16:28 ETA:   0:02:42"
     ]
    },
    {
     "name": "stdout",
     "output_type": "stream",
     "text": [
      "Correct cell not found for (-124.778283, 48.497195) after 1000000 iterations\n",
      "Debug info: old particle indices: (yi, xi) 414 0\n",
      "            new particle indices: (yi, xi) 415 43\n",
      "            Mesh 2d shape:  898 398\n",
      "            Relative particle position:  (xsi, eta) -4.4027327628814568e+01 1.0014591531216446e+00\n",
      "Particle 475 lost !! [-124.77810641857012, 48.49698408335035, 3.983711549753309, 2213640.0]\n"
     ]
    },
    {
     "name": "stderr",
     "output_type": "stream",
     "text": [
      " 88% (2300400.0 of 2592000.0) |########  | Elapsed Time: 0:17:09 ETA:   0:02:15"
     ]
    },
    {
     "name": "stdout",
     "output_type": "stream",
     "text": [
      "Correct cell not found for (-124.781606, 48.501164) after 1000000 iterations\n",
      "Debug info: old particle indices: (yi, xi) 416 0\n",
      "            new particle indices: (yi, xi) 415 42\n",
      "            Mesh 2d shape:  898 398\n",
      "            Relative particle position:  (xsi, eta) -4.3043837042252285e+01 9.6677133825113981e-01\n",
      "Particle 538 lost !! [-124.78151346381809, 48.50105362424689, 10.084262398267654, 2305440.0]\n"
     ]
    },
    {
     "name": "stderr",
     "output_type": "stream",
     "text": [
      " 92% (2394000.0 of 2592000.0) |######### | Elapsed Time: 0:17:50 ETA:   0:01:29"
     ]
    },
    {
     "name": "stdout",
     "output_type": "stream",
     "text": [
      "Correct cell not found for (-124.761602, 48.477306) after 1000000 iterations\n",
      "Debug info: old particle indices: (yi, xi) 409 0\n",
      "            new particle indices: (yi, xi) 409 43\n",
      "            Mesh 2d shape:  898 398\n",
      "            Relative particle position:  (xsi, eta) -4.3984204526645286e+01 9.7191266643586161e-01\n",
      "Particle 482 lost !! [-124.76152550081497, 48.47721421844811, 1.9009285218344303, 2398140.0]\n"
     ]
    },
    {
     "name": "stderr",
     "output_type": "stream",
     "text": [
      " 93% (2422800.0 of 2592000.0) |######### | Elapsed Time: 0:18:02 ETA:   0:01:13"
     ]
    },
    {
     "name": "stdout",
     "output_type": "stream",
     "text": [
      "Correct cell not found for (-124.820169, 48.547102) after 1000000 iterations\n",
      "Debug info: old particle indices: (yi, xi) 427 0\n",
      "            new particle indices: (yi, xi) 427 42\n",
      "            Mesh 2d shape:  898 398\n",
      "            Relative particle position:  (xsi, eta) -4.3008789361944210e+01 5.2214859389574630e-01\n",
      "Particle 459 lost !! [-124.82014335017024, 48.547072291692146, 31.0795309066105, 2428560.0]\n"
     ]
    },
    {
     "name": "stderr",
     "output_type": "stream",
     "text": [
      " 94% (2437200.0 of 2592000.0) |######### | Elapsed Time: 0:18:09 ETA:   0:01:06"
     ]
    },
    {
     "name": "stdout",
     "output_type": "stream",
     "text": [
      "Correct cell not found for (-124.941995, 48.691966) after 1000000 iterations\n",
      "Debug info: old particle indices: (yi, xi) 464 0\n",
      "            new particle indices: (yi, xi) 463 42\n",
      "            Mesh 2d shape:  898 398\n",
      "            Relative particle position:  (xsi, eta) -4.2992905080587086e+01 9.7016999136932847e-01\n",
      "Particle 390 lost !! [-124.94197569988647, 48.6919432352737, 0.13249540049534048, 2444220.0]\n"
     ]
    },
    {
     "name": "stderr",
     "output_type": "stream",
     "text": [
      " 95% (2480400.0 of 2592000.0) |######### | Elapsed Time: 0:18:27 ETA:   0:00:46"
     ]
    },
    {
     "name": "stdout",
     "output_type": "stream",
     "text": [
      "Correct cell not found for (-124.778272, 48.497182) after 1000000 iterations\n",
      "Debug info: old particle indices: (yi, xi) 414 0\n",
      "            new particle indices: (yi, xi) 414 43\n",
      "            Mesh 2d shape:  898 398\n",
      "            Relative particle position:  (xsi, eta) -4.4027151087401968e+01 9.9804848800328316e-01\n",
      "Particle 572 lost !! [-124.77822435820677, 48.49712471878168, 4.244640674522174, 2486790.0]\n"
     ]
    },
    {
     "name": "stderr",
     "output_type": "stream",
     "text": [
      " 99% (2566800.0 of 2592000.0) |######### | Elapsed Time: 0:19:04 ETA:   0:00:10"
     ]
    },
    {
     "name": "stdout",
     "output_type": "stream",
     "text": [
      "Correct cell not found for (-124.758710, 48.473859) after 1000000 iterations\n",
      "Debug info: old particle indices: (yi, xi) 409 0\n",
      "            new particle indices: (yi, xi) 409 42\n",
      "            Mesh 2d shape:  898 398\n",
      "            Relative particle position:  (xsi, eta) -4.2989287174603732e+01 1.0644080479708513e-01\n",
      "Particle 441 lost !! [-124.75879988283832, 48.47396582901271, 31.62830263552513, 2573100.0]\n"
     ]
    },
    {
     "name": "stderr",
     "output_type": "stream",
     "text": [
      "100% (2592000.0 of 2592000.0) |##########| Elapsed Time: 0:19:11 Time:  0:19:11\n",
      "/home/jvalenti/conda_envs/parcels/lib/python3.9/site-packages/numpy/lib/arraysetops.py:270: VisibleDeprecationWarning: Creating an ndarray from ragged nested sequences (which is a list-or-tuple of lists-or-tuples-or ndarrays with different lengths or shapes) is deprecated. If you meant to do this, you must specify 'dtype=object' when creating the ndarray.\n",
      "  ar = np.asanyarray(ar)\n"
     ]
    }
   ],
   "source": [
    "# #Load Salish output as fields\n",
    "field_set = FieldSet.from_nemo(filenames, variables, dimensions, allow_time_extrapolation=True)\n",
    "pset = ParticleSet.from_list(field_set, JITParticle, lon=lon, lat=lat, depth=z, time=start+timedelta(hours=2))\n",
    "\n",
    "#p_flt = pset.Kernel(Buoyancy) #uncomment if you want to use additional kernels, also change the value of pset.Kernel to \"AdvectionRK4_3D + p_flt\"\n",
    "##pset.computeTimeChunk(allow_time_extrapolation=1)\n",
    "pset.execute(AdvectionRK4_3D, \n",
    "             runtime=duration, \n",
    "             dt=dt,\n",
    "             output_file=pset.ParticleFile(name=outfile, outputdt=timedelta(hours=1)),\n",
    "             recovery={ErrorCode.ErrorOutOfBounds: DeleteParticle})"
   ]
  },
  {
   "cell_type": "markdown",
   "id": "2d091292",
   "metadata": {},
   "source": []
  }
 ],
 "metadata": {
  "kernelspec": {
   "display_name": "Python 3 (ipykernel)",
   "language": "python",
   "name": "python3"
  },
  "language_info": {
   "codemirror_mode": {
    "name": "ipython",
    "version": 3
   },
   "file_extension": ".py",
   "mimetype": "text/x-python",
   "name": "python",
   "nbconvert_exporter": "python",
   "pygments_lexer": "ipython3",
   "version": "3.9.7"
  }
 },
 "nbformat": 4,
 "nbformat_minor": 5
}
