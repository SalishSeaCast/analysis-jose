{
 "cells": [
  {
   "cell_type": "markdown",
   "id": "3249b069-318c-46cf-a0ab-422a39d81733",
   "metadata": {},
   "source": [
    "# **Template OP on salish**"
   ]
  },
  {
   "cell_type": "code",
   "execution_count": 2,
   "id": "7b3cacf0-e987-4dcc-85ad-fa33f293ee98",
   "metadata": {},
   "outputs": [],
   "source": [
    "%matplotlib inline\n",
    "\n",
    "import sys\n",
    "import xarray as xr\n",
    "import numpy as np\n",
    "import os\n",
    "import math\n",
    "from datetime import datetime, timedelta\n",
    "from parcels import FieldSet, Field, VectorField, ParticleSet, JITParticle, ErrorCode, ParcelsRandom\n",
    "\n",
    "sys.path.append('/home/jvalenti/MOAD/analysis-jose/notebooks/parcels')\n",
    "from Kernels_beaching import DeleteParticle, Buoyancy, AdvectionRK4_3D, Stokes_drift, Beaching, Unbeaching\n",
    "from OP_functions_beaching import *"
   ]
  },
  {
   "cell_type": "markdown",
   "id": "b10e0ace",
   "metadata": {},
   "source": []
  },
  {
   "cell_type": "code",
   "execution_count": 3,
   "id": "941b8dd3-eebb-4149-af84-781e66652a11",
   "metadata": {},
   "outputs": [],
   "source": [
    "# Define paths\n",
    "local = 0 #Set to 0 when working on server\n",
    "paths = path(local)\n"
   ]
  },
  {
   "cell_type": "code",
   "execution_count": 14,
   "id": "206d74b4",
   "metadata": {},
   "outputs": [],
   "source": [
    "Dat=xr.open_dataset(get_WW3_path(datetime(2018, 12, 23)))\n",
    "path_NEMO = make_prefix(datetime(2018, 12, 23), paths['NEMO'])\n",
    "Dat0=xr.open_dataset(path_NEMO + '_grid_W.nc')\n",
    "Dat=xr.open_dataset(path_NEMO + '_grid_T.nc')\n",
    "coord=xr.open_dataset(paths['coords'],decode_times=False)\n",
    "WW3 = xr.open_dataset(get_WW3_path(datetime(2018, 12, 23)))\n",
    "batt=xr.open_dataset(paths['mask'],decode_times=False)"
   ]
  },
  {
   "cell_type": "markdown",
   "id": "879cd801",
   "metadata": {},
   "source": [
    "## Define and save mask for distance to coast"
   ]
  },
  {
   "cell_type": "code",
   "execution_count": 15,
   "id": "ddc0cb65",
   "metadata": {},
   "outputs": [],
   "source": [
    "# def maskcoast():\n",
    "#     maskd=np.zeros(batt.mbathy.shape)\n",
    "#     for ilat in range(baty.shape[0]):\n",
    "#         for jlon in range(baty.shape[1]):\n",
    "#             if baty[ilat,jlon]>0:\n",
    "#                 if baty[ilat+1,jlon] == 0 or baty[ilat+1,jlon+1] == 0  \\\n",
    "#                  or baty[ilat+1,jlon-1] == 0 or baty[ilat,jlon] == 0   \\\n",
    "#                  or baty[ilat,jlon+1] == 0 or baty[ilat,jlon-1] == 0   \\\n",
    "#                  or baty[ilat-1,jlon] == 0 or baty[ilat-1,jlon+1] == 0 or baty[ilat-1,jlon-1] == 0:\n",
    "#                     maskd[0,ilat,jlon] = 1\n",
    "#     return maskd\n",
    "\n",
    "# baty = batt.mbathy[0,:,:]\n",
    "# maskd=maskcoast()\n",
    "\n",
    "# def maskcoast2(maskd):\n",
    "#     maskd2=np.zeros(batt.mbathy.shape)\n",
    "#     Ilat=np.where(maskd[0,:,:]==1)[0]\n",
    "#     Jlon=np.where(maskd[0,:,:]==1)[1]\n",
    "#     for i in range(len(np.where(maskd[0,:,:]==1)[0])):\n",
    "#         ilat=Ilat[i]\n",
    "#         jlon=Jlon[i]\n",
    "#         maskd2[0,ilat,jlon]=1\n",
    "#         #if ilat<baty.shape[0] or jlon<baty.shape[1]:\n",
    "        \n",
    "#     return maskd2 \n",
    "# maskd2=maskcoast2(maskd)\n",
    "# dist=xr.DataArray(attrs={'Distc':maskd2})\n",
    "# batt['Distc']=(batt.mbathy.dims,maskd)\n",
    "# batt.to_netcdf(path='/ocean/jvalenti/MOAD/grid/mesh_maskd2T201702.nc')"
   ]
  },
  {
   "cell_type": "code",
   "execution_count": 16,
   "id": "10b6fba7",
   "metadata": {},
   "outputs": [],
   "source": [
    "#clat,clon = p_unidist(coord.gphif[0,:,:],coord.glamf[0,:,:],batt.mbathy[0,:,:],10,10)\n",
    "with open('clat.txt') as f:\n",
    "    clat = f.read()\n",
    "    clat= clat[1:-1]\n",
    "    clat0 = clat.split(\",\")\n",
    "    f.close()\n",
    "with open('clon.txt') as f:\n",
    "    clon = f.read()\n",
    "    clon=clon[1:-1]\n",
    "    clon0 = clon.split(\",\")\n",
    "    f.close()\n",
    "    \n",
    "clat,clon=[],[]\n",
    "for i in range(len(clat0)):\n",
    "    clat.append(float(clat0[i]))\n",
    "    clon.append(float(clon0[i]))"
   ]
  },
  {
   "cell_type": "markdown",
   "id": "97c4bf2f-db05-4d5f-b4bb-bdaad6578599",
   "metadata": {},
   "source": [
    "## Definitions"
   ]
  },
  {
   "cell_type": "code",
   "execution_count": 17,
   "id": "28a99025-a33d-4d66-9e39-aab453f279b2",
   "metadata": {},
   "outputs": [],
   "source": [
    "start = datetime(2018, 10, 1) #Start date\n",
    "# Set Time length [days] and timestep [seconds]\n",
    "length = 50\n",
    "duration = timedelta(days=length)\n",
    "dt = 90 #toggle between - or + to pick backwards or forwards\n",
    "N = len(clat) # number of deploying locations\n",
    "n = 1 # 1000   # number of particles per location\n",
    "dmin = list(np.zeros(len(clat))) #minimum depth\n",
    "dd = 5 #max depth difference from dmin\n",
    "x_offset, y_offset, zvals = p_deploy(N,n,dmin,dd)"
   ]
  },
  {
   "cell_type": "code",
   "execution_count": 18,
   "id": "c87107ce",
   "metadata": {},
   "outputs": [],
   "source": [
    "from parcels import Variable\n",
    "\n",
    "class MPParticle(JITParticle):        \n",
    "    ro = Variable('ro', initial = 1025)           \n",
    "    diameter = Variable('diameter', initial = 1.6e-5)\n",
    "    length = Variable('length', initial = 61e-5)\n",
    "    Lb = Variable('Lb', initial = 0.26)  #days needed in days for particle to have 67% probability of beaching if in beaching zone (500m)\n",
    "    Db = Variable('Db', initial = 1000) #Distance at which particles can randomly beach.\n",
    "    Ub = Variable('Ub', initial = 69)  #days to have 67% probability of unbeaching\n",
    "    sediment = Variable('sediment', initial = 0)\n",
    "    beached = Variable('beached', initial = 0)\n"
   ]
  },
  {
   "cell_type": "code",
   "execution_count": 19,
   "id": "2ceb066c-22eb-4ef5-abe1-dc051ad4cc7c",
   "metadata": {},
   "outputs": [],
   "source": [
    "lon = np.zeros([N,n])\n",
    "lat = np.zeros([N,n])\n",
    "for i in range(N):\n",
    "    lon[i,:]=(clon[i] + x_offset[i,:])\n",
    "    lat[i,:]=(clat[i] + y_offset[i,:])\n",
    "z = zvals"
   ]
  },
  {
   "cell_type": "code",
   "execution_count": 20,
   "id": "92d6511f-3d0c-4a98-ad32-0d4cb970a2da",
   "metadata": {},
   "outputs": [
    {
     "name": "stdout",
     "output_type": "stream",
     "text": [
      "/home/jvalenti/MOAD/results/Beaching-UnbeachingL20181001_1n_20181120_1n.nc\n"
     ]
    }
   ],
   "source": [
    "#Set start date time and the name of the output file\n",
    "name = 'Beaching-UnbeachingL' #name output file\n",
    "daterange = [start+timedelta(days=i) for i in range(length)]\n",
    "fn =  name + '_'.join(d.strftime('%Y%m%d')+'_1n' for d in [start, start+duration]) + '.nc'\n",
    "outfile = os.path.join(paths['out'], fn)\n",
    "print(outfile)"
   ]
  },
  {
   "cell_type": "markdown",
   "id": "0c4e63f2-3fb8-4526-b45a-ce5644646287",
   "metadata": {},
   "source": [
    "## Simulation"
   ]
  },
  {
   "cell_type": "code",
   "execution_count": 21,
   "id": "922eb3dc-e34d-4102-b1d4-4df9de8b2f06",
   "metadata": {},
   "outputs": [],
   "source": [
    "#Fill in the list of variables that you want to use as fields\n",
    "varlist=['U','V','W','R']\n",
    "filenames,variables,dimensions=filename_set(start,length,varlist,local)\n",
    "field_set=FieldSet.from_nemo(filenames, variables, dimensions, allow_time_extrapolation=True)\n",
    "\n",
    "varlist=['US','VS','WL']\n",
    "filenames,variables,dimensions=filename_set(start,length,varlist,local)\n",
    "\n",
    "us = Field.from_netcdf(filenames['US'], variables['US'], dimensions,allow_time_extrapolation=True)\n",
    "vs = Field.from_netcdf(filenames['VS'], variables['VS'], dimensions,allow_time_extrapolation=True)\n",
    "wl = Field.from_netcdf(filenames['WL'], variables['WL'], dimensions,allow_time_extrapolation=True)\n",
    "field_set.add_field(us)\n",
    "field_set.add_field(vs)\n",
    "field_set.add_field(wl)\n",
    "field_set.add_vector_field(VectorField(\"stokes\", us, vs, wl))\n",
    "\n",
    "filenames,variables,dimensions=filename_set(start,length,['Bathy'],local)\n",
    "Bth = Field.from_netcdf(filenames['Bathy'], variables['Bathy'], dimensions,allow_time_extrapolation=True)\n",
    "field_set.add_field(Bth)\n",
    "\n",
    "# filenames,variables,dimensions=filename_set(start,length,['D'],local)\n",
    "# Distc = Field.from_netcdf(filenames['D'], variables['D'], dimensions,allow_time_extrapolation=True)\n",
    "# field_set.add_field(Distc)"
   ]
  },
  {
   "cell_type": "code",
   "execution_count": 22,
   "id": "53f87621-a497-4575-85ba-18ec93118e44",
   "metadata": {},
   "outputs": [
    {
     "name": "stderr",
     "output_type": "stream",
     "text": [
      "INFO: Compiled ArrayMPParticleAdvectionRK4_3DBuoyancyStokes_driftBeachingUnbeaching ==> /tmp/parcels-2894/lib1ac38246b603dfd8b112acf9ff7df34b_0.so\n"
     ]
    },
    {
     "name": "stdout",
     "output_type": "stream",
     "text": [
      "Particle 1670 lost !! [5400.0, 2.6409212185849924, 50.439760141647405, -126.02159458221185]\n",
      "Particle 1678 lost !! [5400.0, 2.9570712389710554, 50.45277214944927, -126.1063240025724]\n",
      "Particle 1671 lost !! [15480.0, 1.271803160094123, 50.46240700146364, -125.9996683493537]\n",
      "Correct cell not found for (-124.850299, 48.577779) after 1000000 iterations\n",
      "Debug info: old particle indices: (yi, xi) 435 0\n",
      "            new particle indices: (yi, xi) 435 42\n",
      "            Mesh 2d shape:  898 398\n",
      "            Relative particle position:  (xsi, eta) -4.3638363519692518e+01 5.1909842156597374e-01\n",
      "Particle 1283 lost !! [19440.0, 4.882376004767032, 48.581096634550775, -124.84482165233352]\n"
     ]
    },
    {
     "name": "stderr",
     "output_type": "stream",
     "text": [
      "INFO: Temporary output files are stored in /home/jvalenti/MOAD/results/out-VBURZDME.\n",
      "INFO: You can use \"parcels_convert_npydir_to_netcdf /home/jvalenti/MOAD/results/out-VBURZDME\" to convert these to a NetCDF file during the run.\n",
      "N/A% (0 of 4320000.0) |                  | Elapsed Time: 0:00:00 ETA:  --:--:--"
     ]
    },
    {
     "name": "stdout",
     "output_type": "stream",
     "text": [
      "Correct cell not found for (-124.818996, 48.542863) after 1000000 iterations\n",
      "Debug info: old particle indices: (yi, xi) 426 0\n",
      "            new particle indices: (yi, xi) 426 42\n",
      "            Mesh 2d shape:  898 398\n",
      "            Relative particle position:  (xsi, eta) -4.3367401498682483e+01 6.2910411467157956e-01\n",
      "Particle 1268 lost !! [20430.0, 5.548761630127706, 48.542687759578946, -124.81177331012319]\n"
     ]
    },
    {
     "name": "stderr",
     "output_type": "stream",
     "text": [
      "  0% (16200.0 of 4320000.0) |            | Elapsed Time: 0:00:02 ETA:   0:09:07"
     ]
    },
    {
     "name": "stdout",
     "output_type": "stream",
     "text": [
      "Correct cell not found for (-124.707227, 48.412209) after 1000000 iterations\n",
      "Debug info: old particle indices: (yi, xi) 394 0\n",
      "            new particle indices: (yi, xi) 393 42\n",
      "            Mesh 2d shape:  898 398\n",
      "            Relative particle position:  (xsi, eta) -4.3055219827766777e+01 6.6640423159689777e-01\n",
      "Particle 1239 lost !! [22230.0, 3.0964407592956937, 48.416443911450685, -124.70706257608296]\n"
     ]
    },
    {
     "name": "stderr",
     "output_type": "stream",
     "text": [
      "  0% (18000.0 of 4320000.0) |            | Elapsed Time: 0:00:02 ETA:   0:10:33"
     ]
    },
    {
     "name": "stdout",
     "output_type": "stream",
     "text": [
      "Correct cell not found for (-124.722171, 48.429545) after 1000000 iterations\n",
      "Debug info: old particle indices: (yi, xi) 398 0\n",
      "            new particle indices: (yi, xi) 398 42\n",
      "            Mesh 2d shape:  898 398\n",
      "            Relative particle position:  (xsi, eta) -4.3065491050163786e+01 3.2623859835467291e-02\n",
      "Particle 1255 lost !! [23490.0, 1.8821144138849994, 48.43373979575596, -124.71963598108186]\n"
     ]
    },
    {
     "name": "stderr",
     "output_type": "stream",
     "text": [
      "  0% (19800.0 of 4320000.0) |            | Elapsed Time: 0:00:04 ETA:   1:21:28"
     ]
    },
    {
     "name": "stdout",
     "output_type": "stream",
     "text": [
      "Correct cell not found for (-124.902309, 48.641830) after 1000000 iterations\n",
      "Debug info: old particle indices: (yi, xi) 451 0\n",
      "            new particle indices: (yi, xi) 451 42\n",
      "            Mesh 2d shape:  898 398\n",
      "            Relative particle position:  (xsi, eta) -4.3373403214209510e+01 5.0119613137663555e-01\n",
      "Particle 1296 lost !! [26820.0, 5.6841131409653824, 48.64491365321051, -124.89680182582136]\n"
     ]
    },
    {
     "name": "stderr",
     "output_type": "stream",
     "text": [
      "  0% (21600.0 of 4320000.0) |            | Elapsed Time: 0:00:05 ETA:   0:52:24"
     ]
    },
    {
     "name": "stdout",
     "output_type": "stream",
     "text": [
      "Correct cell not found for (-124.753342, 48.465946) after 1000000 iterations\n",
      "Debug info: old particle indices: (yi, xi) 407 0\n",
      "            new particle indices: (yi, xi) 407 42\n",
      "            Mesh 2d shape:  898 398\n",
      "            Relative particle position:  (xsi, eta) -4.3181907391322255e+01 2.0908297570678383e-01\n",
      "Particle 1240 lost !! [28260.0, 3.16003091705795, 48.467034974466934, -124.74670226016859]\n"
     ]
    },
    {
     "name": "stderr",
     "output_type": "stream",
     "text": [
      "  0% (23400.0 of 4320000.0) |            | Elapsed Time: 0:00:07 ETA:   1:22:12"
     ]
    },
    {
     "name": "stdout",
     "output_type": "stream",
     "text": [
      "Correct cell not found for (-124.810221, 48.529551) after 1000000 iterations\n",
      "Debug info: old particle indices: (yi, xi) 423 0\n",
      "            new particle indices: (yi, xi) 423 42\n",
      "            Mesh 2d shape:  898 398\n",
      "            Relative particle position:  (xsi, eta) -4.3713961564226736e+01 4.4448848710503974e-01\n",
      "Particle 1256 lost !! [28980.0, 4.113663778351111, 48.53216815146166, -124.80356976360478]\n"
     ]
    },
    {
     "name": "stderr",
     "output_type": "stream",
     "text": [
      "  0% (25200.0 of 4320000.0) |            | Elapsed Time: 0:00:07 ETA:   0:52:43"
     ]
    },
    {
     "name": "stdout",
     "output_type": "stream",
     "text": [
      "Correct cell not found for (-124.719209, 48.424954) after 1000000 iterations\n",
      "Debug info: old particle indices: (yi, xi) 396 1\n",
      "            new particle indices: (yi, xi) 396 43\n",
      "            Mesh 2d shape:  898 398\n",
      "            Relative particle position:  (xsi, eta) -4.4241935675446115e+01 9.6407514720641907e-01\n",
      "Particle 1220 lost !! [30870.0, 0.04630613492849963, 48.427409707729225, -124.7123252291058]\n"
     ]
    },
    {
     "name": "stderr",
     "output_type": "stream",
     "text": [
      "  0% (28800.0 of 4320000.0) |            | Elapsed Time: 0:00:10 ETA:   0:48:04"
     ]
    },
    {
     "name": "stdout",
     "output_type": "stream",
     "text": [
      "Correct cell not found for (-122.709117, 47.116127) after 1000000 iterations\n",
      "Debug info: old particle indices: (yi, xi) 0 135\n",
      "            new particle indices: (yi, xi) 0 135\n",
      "            Mesh 2d shape:  898 398\n",
      "            Relative particle position:  (xsi, eta) 2.4316729657820729e-01 -3.3344928613856906e-02\n",
      "Particle 842 lost !! [35730.0, 8.668035878345313, 47.118045685216096, -122.70962139675325]\n"
     ]
    },
    {
     "name": "stderr",
     "output_type": "stream",
     "text": [
      "  0% (36000.0 of 4320000.0) |            | Elapsed Time: 0:00:14 ETA:   0:43:00"
     ]
    },
    {
     "name": "stdout",
     "output_type": "stream",
     "text": [
      "Correct cell not found for (-124.814921, 48.540360) after 1000000 iterations\n",
      "Debug info: old particle indices: (yi, xi) 425 1\n",
      "            new particle indices: (yi, xi) 425 43\n",
      "            Mesh 2d shape:  898 398\n",
      "            Relative particle position:  (xsi, eta) -4.4096737742556023e+01 8.6665922641429638e-01\n",
      "Particle 1241 lost !! [42120.0, 24.6387195613184, 48.54302217935525, -124.80904990275606]\n"
     ]
    },
    {
     "name": "stderr",
     "output_type": "stream",
     "text": [
      "  0% (39600.0 of 4320000.0) |            | Elapsed Time: 0:00:17 ETA:   0:47:10"
     ]
    },
    {
     "name": "stdout",
     "output_type": "stream",
     "text": [
      "Correct cell not found for (-124.792517, 48.512499) after 1000000 iterations\n",
      "Debug info: old particle indices: (yi, xi) 419 1\n",
      "            new particle indices: (yi, xi) 418 43\n",
      "            Mesh 2d shape:  898 398\n",
      "            Relative particle position:  (xsi, eta) -4.4182394371214514e+01 9.2898718077866316e-01\n",
      "Particle 1221 lost !! [45000.0, 37.97520582669817, 48.51651213565179, -124.78649738818228]\n"
     ]
    },
    {
     "name": "stderr",
     "output_type": "stream",
     "text": [
      "  2% (95400.0 of 4320000.0) |            | Elapsed Time: 0:00:51 ETA:   0:41:55"
     ]
    },
    {
     "name": "stdout",
     "output_type": "stream",
     "text": [
      "Correct cell not found for (-124.841097, 48.570083) after 1000000 iterations\n",
      "Debug info: old particle indices: (yi, xi) 433 0\n",
      "            new particle indices: (yi, xi) 433 42\n",
      "            Mesh 2d shape:  898 398\n",
      "            Relative particle position:  (xsi, eta) -4.3257621834009143e+01 3.9381543955219406e-01\n",
      "Correct cell not found for (-124.885340, 48.623076) after 1000000 iterations\n",
      "Debug info: old particle indices: (yi, xi) 446 0\n",
      "            new particle indices: (yi, xi) 446 42\n",
      "            Mesh 2d shape:  898 398\n",
      "            Relative particle position:  (xsi, eta) -4.3218004418318728e+01 7.3645864842610598e-01\n",
      "Particle 1183 lost !! [101070.0, 4.747921661976029, 48.572613365009296, -124.83484714238625]\n",
      "Particle 1202 lost !! [101610.0, 1.2846434077679314, 48.62382609417671, -124.87911466125259]\n"
     ]
    },
    {
     "name": "stderr",
     "output_type": "stream",
     "text": [
      "  2% (97200.0 of 4320000.0) |            | Elapsed Time: 0:00:52 ETA:   0:49:31"
     ]
    },
    {
     "name": "stdout",
     "output_type": "stream",
     "text": [
      "Correct cell not found for (-124.825215, 48.552859) after 1000000 iterations\n",
      "Debug info: old particle indices: (yi, xi) 429 1\n",
      "            new particle indices: (yi, xi) 429 43\n",
      "            Mesh 2d shape:  898 398\n",
      "            Relative particle position:  (xsi, eta) -4.4063982225300457e+01 1.0002890765370691e+00\n",
      "Particle 1182 lost !! [104130.0, 2.7689499213638653, 48.557031886110586, -124.81819531216972]\n"
     ]
    },
    {
     "name": "stderr",
     "output_type": "stream",
     "text": [
      "  2% (102600.0 of 4320000.0) |           | Elapsed Time: 0:00:56 ETA:   0:42:36"
     ]
    },
    {
     "name": "stdout",
     "output_type": "stream",
     "text": [
      "Correct cell not found for (-124.918048, 48.661293) after 1000000 iterations\n",
      "Debug info: old particle indices: (yi, xi) 456 1\n",
      "            new particle indices: (yi, xi) 456 43\n",
      "            Mesh 2d shape:  898 398\n",
      "            Relative particle position:  (xsi, eta) -4.4293703149580594e+01 3.7341576484550126e-01\n",
      "Particle 1284 lost !! [109710.0, 29.024305398376708, 48.66560934737815, -124.91201586311222]\n"
     ]
    },
    {
     "name": "stderr",
     "output_type": "stream",
     "text": [
      "  2% (104400.0 of 4320000.0) |           | Elapsed Time: 0:00:57 ETA:   0:47:05"
     ]
    },
    {
     "name": "stdout",
     "output_type": "stream",
     "text": [
      "Correct cell not found for (-124.891681, 48.629359) after 1000000 iterations\n",
      "Debug info: old particle indices: (yi, xi) 448 0\n",
      "            new particle indices: (yi, xi) 448 42\n",
      "            Mesh 2d shape:  898 398\n",
      "            Relative particle position:  (xsi, eta) -4.3392522928848813e+01 3.9025519329939701e-01\n",
      "Particle 1222 lost !! [110340.0, 28.948689171896483, 48.63140622257821, -124.88574259182911]\n"
     ]
    },
    {
     "name": "stderr",
     "output_type": "stream",
     "text": [
      "  2% (106200.0 of 4320000.0) |           | Elapsed Time: 0:00:59 ETA:   1:20:27"
     ]
    },
    {
     "name": "stdout",
     "output_type": "stream",
     "text": [
      "Correct cell not found for (-124.899917, 48.641058) after 1000000 iterations\n",
      "Debug info: old particle indices: (yi, xi) 451 1\n",
      "            new particle indices: (yi, xi) 451 43\n",
      "            Mesh 2d shape:  898 398\n",
      "            Relative particle position:  (xsi, eta) -4.4135069028645205e+01 2.3277935365967217e-01\n",
      "Particle 1242 lost !! [112500.0, 14.986998693258055, 48.6436836253864, -124.89356480120269]\n"
     ]
    },
    {
     "name": "stderr",
     "output_type": "stream",
     "text": [
      "  2% (109800.0 of 4320000.0) |           | Elapsed Time: 0:01:01 ETA:   0:46:38"
     ]
    },
    {
     "name": "stdout",
     "output_type": "stream",
     "text": [
      "Correct cell not found for (-124.795965, 48.515775) after 1000000 iterations\n",
      "Debug info: old particle indices: (yi, xi) 419 0\n",
      "            new particle indices: (yi, xi) 419 42\n",
      "            Mesh 2d shape:  898 398\n",
      "            Relative particle position:  (xsi, eta) -4.3311440613223489e+01 7.7752898462329423e-01\n",
      "Correct cell not found for (-124.918519, 48.663306) after 1000000 iterations\n",
      "Debug info: old particle indices: (yi, xi) 457 0\n",
      "            new particle indices: (yi, xi) 456 42\n",
      "            Mesh 2d shape:  898 398\n",
      "            Relative particle position:  (xsi, eta) -4.3101428046803200e+01 7.9665459175408193e-01\n",
      "Particle 1201 lost !! [116190.0, 116.46502726961786, 48.51818107955424, -124.78986727677481]\n",
      "Particle 1309 lost !! [116640.0, 20.938931654068412, 48.66701161721049, -124.9162830107055]\n"
     ]
    },
    {
     "name": "stderr",
     "output_type": "stream",
     "text": [
      "  2% (111600.0 of 4320000.0) |           | Elapsed Time: 0:01:02 ETA:   0:47:18"
     ]
    },
    {
     "name": "stdout",
     "output_type": "stream",
     "text": [
      "Correct cell not found for (-124.748720, 48.461371) after 1000000 iterations\n",
      "Debug info: old particle indices: (yi, xi) 406 0\n",
      "            new particle indices: (yi, xi) 406 42\n",
      "            Mesh 2d shape:  898 398\n",
      "            Relative particle position:  (xsi, eta) -4.3087394620921586e+01 1.0554511803169566e+00\n",
      "Correct cell not found for (-124.923444, 48.669654) after 1000000 iterations\n",
      "Debug info: old particle indices: (yi, xi) 459 0\n",
      "            new particle indices: (yi, xi) 458 42\n",
      "            Mesh 2d shape:  898 398\n",
      "            Relative particle position:  (xsi, eta) -4.3032966194947655e+01 3.5681541955205698e-01\n",
      "Particle 1166 lost !! [117630.0, 15.258498555159374, 48.464248661124785, -124.74713705257544]\n",
      "Particle 1320 lost !! [118170.0, 29.536729640170332, 48.67385972027565, -124.92108459823832]\n"
     ]
    },
    {
     "name": "stderr",
     "output_type": "stream",
     "text": [
      "  2% (115200.0 of 4320000.0) |           | Elapsed Time: 0:01:04 ETA:   0:47:26"
     ]
    },
    {
     "name": "stdout",
     "output_type": "stream",
     "text": [
      "Correct cell not found for (-124.738232, 48.447130) after 1000000 iterations\n",
      "Debug info: old particle indices: (yi, xi) 402 0\n",
      "            new particle indices: (yi, xi) 402 42\n",
      "            Mesh 2d shape:  898 398\n",
      "            Relative particle position:  (xsi, eta) -4.3287100309096523e+01 5.4357359633300706e-01\n",
      "Particle 1165 lost !! [120870.0, 13.263407111777095, 48.44685970799288, -124.73168601006559]\n"
     ]
    },
    {
     "name": "stderr",
     "output_type": "stream",
     "text": [
      "  2% (124200.0 of 4320000.0) |           | Elapsed Time: 0:01:10 ETA:   0:42:15"
     ]
    },
    {
     "name": "stdout",
     "output_type": "stream",
     "text": [
      "Correct cell not found for (-124.771113, 48.488213) after 1000000 iterations\n",
      "Debug info: old particle indices: (yi, xi) 413 1\n",
      "            new particle indices: (yi, xi) 412 43\n",
      "            Mesh 2d shape:  898 398\n",
      "            Relative particle position:  (xsi, eta) -4.4070906174456297e+01 7.6106951190620586e-01\n",
      "Particle 1113 lost !! [129600.0, 8.318348479621426, 48.492251733353996, -124.76619998766881]\n"
     ]
    },
    {
     "name": "stderr",
     "output_type": "stream",
     "text": [
      "  3% (154800.0 of 4320000.0) |           | Elapsed Time: 0:01:28 ETA:   0:41:35"
     ]
    },
    {
     "name": "stdout",
     "output_type": "stream",
     "text": [
      "Correct cell not found for (-124.808385, 48.530602) after 1000000 iterations\n",
      "Debug info: old particle indices: (yi, xi) 423 1\n",
      "            new particle indices: (yi, xi) 423 43\n",
      "            Mesh 2d shape:  898 398\n",
      "            Relative particle position:  (xsi, eta) -4.4316768633453108e+01 5.1532858239101742e-01\n",
      "Particle 1128 lost !! [161820.0, 83.3329304645109, 48.53458167308718, -124.80171446226389]\n"
     ]
    },
    {
     "name": "stderr",
     "output_type": "stream",
     "text": [
      "  3% (156600.0 of 4320000.0) |           | Elapsed Time: 0:01:30 ETA:   1:19:34"
     ]
    },
    {
     "name": "stdout",
     "output_type": "stream",
     "text": [
      "Correct cell not found for (-124.808790, 48.530652) after 1000000 iterations\n",
      "Debug info: old particle indices: (yi, xi) 423 0\n",
      "            new particle indices: (yi, xi) 423 42\n",
      "            Mesh 2d shape:  898 398\n",
      "            Relative particle position:  (xsi, eta) -4.3373407363142576e+01 5.5577149065121867e-01\n",
      "Particle 1114 lost !! [162360.0, 24.484780469162423, 48.53343346299379, -124.80346068748243]\n"
     ]
    },
    {
     "name": "stderr",
     "output_type": "stream",
     "text": [
      "  4% (172800.0 of 4320000.0) |           | Elapsed Time: 0:01:40 ETA:   0:41:26"
     ]
    },
    {
     "name": "stdout",
     "output_type": "stream",
     "text": [
      "Correct cell not found for (-124.874294, 48.610342) after 1000000 iterations\n",
      "Debug info: old particle indices: (yi, xi) 443 1\n",
      "            new particle indices: (yi, xi) 443 43\n",
      "            Mesh 2d shape:  898 398\n",
      "            Relative particle position:  (xsi, eta) -4.4159685976557192e+01 4.9616961724399811e-01\n",
      "Particle 1270 lost !! [179280.0, 7.123799401420007, 48.6140981028713, -124.86851105645854]\n"
     ]
    },
    {
     "name": "stderr",
     "output_type": "stream",
     "text": [
      "  4% (176400.0 of 4320000.0) |           | Elapsed Time: 0:01:42 ETA:   0:45:43"
     ]
    },
    {
     "name": "stdout",
     "output_type": "stream",
     "text": [
      "Correct cell not found for (-124.841665, 48.570288) after 1000000 iterations\n",
      "Debug info: old particle indices: (yi, xi) 433 1\n",
      "            new particle indices: (yi, xi) 433 43\n",
      "            Mesh 2d shape:  898 398\n",
      "            Relative particle position:  (xsi, eta) -4.4275336870442430e+01 4.9668242587872358e-01\n",
      "Particle 1167 lost !! [181980.0, 67.46592033375752, 48.573697699850314, -124.83504463348999]\n"
     ]
    },
    {
     "name": "stderr",
     "output_type": "stream",
     "text": [
      "  4% (210600.0 of 4320000.0) |           | Elapsed Time: 0:02:04 ETA:   0:41:10"
     ]
    },
    {
     "name": "stdout",
     "output_type": "stream",
     "text": [
      "Correct cell not found for (-124.783668, 48.502610) after 1000000 iterations\n",
      "Debug info: old particle indices: (yi, xi) 416 1\n",
      "            new particle indices: (yi, xi) 416 43\n",
      "            Mesh 2d shape:  898 398\n",
      "            Relative particle position:  (xsi, eta) -4.4127739341108473e+01 3.9729105467029535e-01\n",
      "Particle 1129 lost !! [216000.0, 12.201301057584807, 48.50605646430373, -124.77792871102905]\n"
     ]
    },
    {
     "name": "stderr",
     "output_type": "stream",
     "text": [
      "  5% (241200.0 of 4320000.0) |           | Elapsed Time: 0:02:21 ETA:   0:40:36"
     ]
    },
    {
     "name": "stdout",
     "output_type": "stream",
     "text": [
      "Correct cell not found for (-124.810078, 48.534025) after 1000000 iterations\n",
      "Debug info: old particle indices: (yi, xi) 424 0\n",
      "            new particle indices: (yi, xi) 424 42\n",
      "            Mesh 2d shape:  898 398\n",
      "            Relative particle position:  (xsi, eta) -4.3153390601187816e+01 2.9812960950712525e-01\n",
      "Particle 1031 lost !! [248130.0, 11.889189427707777, 48.53677519362663, -124.80484582557732]\n"
     ]
    },
    {
     "name": "stderr",
     "output_type": "stream",
     "text": [
      "  6% (277200.0 of 4320000.0) |           | Elapsed Time: 0:02:43 ETA:   0:40:32"
     ]
    },
    {
     "name": "stdout",
     "output_type": "stream",
     "text": [
      "Correct cell not found for (-124.890732, 48.628565) after 1000000 iterations\n",
      "Debug info: old particle indices: (yi, xi) 448 0\n",
      "            new particle indices: (yi, xi) 448 42\n",
      "            Mesh 2d shape:  898 398\n",
      "            Relative particle position:  (xsi, eta) -4.3347058485900838e+01 1.7677896972344317e-01\n",
      "Particle 1258 lost !! [283410.0, 11.550953256024332, 48.63226001945468, -124.88734333003764]\n"
     ]
    },
    {
     "name": "stderr",
     "output_type": "stream",
     "text": [
      "  6% (288000.0 of 4320000.0) |           | Elapsed Time: 0:02:50 ETA:   0:40:24"
     ]
    },
    {
     "name": "stdout",
     "output_type": "stream",
     "text": [
      "Correct cell not found for (-124.828394, 48.556809) after 1000000 iterations\n",
      "Debug info: old particle indices: (yi, xi) 430 1\n",
      "            new particle indices: (yi, xi) 429 43\n",
      "            Mesh 2d shape:  898 398\n",
      "            Relative particle position:  (xsi, eta) -4.3994964024491033e+01 9.6204947781130057e-01\n",
      "Particle 988 lost !! [294570.0, 13.224870572534378, 48.560626012418695, -124.82152860013116]\n"
     ]
    },
    {
     "name": "stderr",
     "output_type": "stream",
     "text": [
      "  6% (289800.0 of 4320000.0) |           | Elapsed Time: 0:02:52 ETA:   1:16:00"
     ]
    },
    {
     "name": "stdout",
     "output_type": "stream",
     "text": [
      "Correct cell not found for (-124.812350, 48.537158) after 1000000 iterations\n",
      "Debug info: old particle indices: (yi, xi) 425 1\n",
      "            new particle indices: (yi, xi) 425 43\n",
      "            Mesh 2d shape:  898 398\n",
      "            Relative particle position:  (xsi, eta) -4.4115294722208823e+01 6.8478356341565280e-02\n",
      "Correct cell not found for (-124.866672, 48.601405) after 1000000 iterations\n",
      "Debug info: old particle indices: (yi, xi) 440 0\n",
      "            new particle indices: (yi, xi) 441 42\n",
      "            Mesh 2d shape:  898 398\n",
      "            Relative particle position:  (xsi, eta) -4.3132789732291833e+01 2.2899485133175762e-01\n",
      "Particle 1054 lost !! [295470.0, 29.90302366630783, 48.53988315772402, -124.80543443805655]\n",
      "Particle 1075 lost !! [296910.0, 0.3521608634650005, 48.60096104874132, -124.85972788963284]\n"
     ]
    },
    {
     "name": "stderr",
     "output_type": "stream",
     "text": [
      "  6% (293400.0 of 4320000.0) |           | Elapsed Time: 0:02:54 ETA:   0:45:01"
     ]
    },
    {
     "name": "stdout",
     "output_type": "stream",
     "text": [
      "Correct cell not found for (-124.739698, 48.447779) after 1000000 iterations\n",
      "Debug info: old particle indices: (yi, xi) 403 1\n",
      "            new particle indices: (yi, xi) 402 43\n",
      "            Mesh 2d shape:  898 398\n",
      "            Relative particle position:  (xsi, eta) -4.4431921658362889e+01 7.9219563836879436e-01\n",
      "Particle 970 lost !! [299250.0, 2.484701808751286, 48.452227657778714, -124.7327388255161]\n"
     ]
    },
    {
     "name": "stderr",
     "output_type": "stream",
     "text": [
      "  6% (295200.0 of 4320000.0) |           | Elapsed Time: 0:02:55 ETA:   0:44:25"
     ]
    },
    {
     "name": "stdout",
     "output_type": "stream",
     "text": [
      "Correct cell not found for (-124.735092, 48.444525) after 1000000 iterations\n",
      "Debug info: old particle indices: (yi, xi) 402 0\n",
      "            new particle indices: (yi, xi) 401 42\n",
      "            Mesh 2d shape:  898 398\n",
      "            Relative particle position:  (xsi, eta) -4.3158478891012592e+01 8.4103856997607607e-01\n",
      "Particle 1130 lost !! [301140.0, 113.63273481017168, 48.44839940060046, -124.73250695694246]\n"
     ]
    },
    {
     "name": "stderr",
     "output_type": "stream",
     "text": [
      "  6% (297000.0 of 4320000.0) |           | Elapsed Time: 0:02:57 ETA:   1:16:22"
     ]
    },
    {
     "name": "stdout",
     "output_type": "stream",
     "text": [
      "Correct cell not found for (-124.702874, 48.405850) after 1000000 iterations\n",
      "Debug info: old particle indices: (yi, xi) 392 0\n",
      "            new particle indices: (yi, xi) 392 42\n",
      "            Mesh 2d shape:  898 398\n",
      "            Relative particle position:  (xsi, eta) -4.3156414264349173e+01 1.1612990455602067e-01\n",
      "Correct cell not found for (-124.807535, 48.531581) after 1000000 iterations\n",
      "Debug info: old particle indices: (yi, xi) 423 0\n",
      "            new particle indices: (yi, xi) 423 42\n",
      "            Mesh 2d shape:  898 398\n",
      "            Relative particle position:  (xsi, eta) -4.3079004969279204e+01 6.4596002815899112e-01\n",
      "Particle 1096 lost !! [303210.0, 0.20429608003620728, 48.408258272886684, -124.69905637879934]\n",
      "Particle 1148 lost !! [303210.0, 121.75908079243575, 48.532611136772005, -124.80308967694913]\n"
     ]
    },
    {
     "name": "stderr",
     "output_type": "stream",
     "text": [
      "  7% (304200.0 of 4320000.0) |           | Elapsed Time: 0:03:02 ETA:   0:39:53"
     ]
    },
    {
     "name": "stdout",
     "output_type": "stream",
     "text": [
      "Correct cell not found for (-124.770408, 48.486168) after 1000000 iterations\n",
      "Debug info: old particle indices: (yi, xi) 411 0\n",
      "            new particle indices: (yi, xi) 412 42\n",
      "            Mesh 2d shape:  898 398\n",
      "            Relative particle position:  (xsi, eta) -4.3215674900954525e+01 3.1687611586563685e-01\n",
      "Particle 1053 lost !! [310230.0, 11.306393973923406, 48.48507099150235, -124.76375872903613]\n"
     ]
    },
    {
     "name": "stderr",
     "output_type": "stream",
     "text": [
      "  7% (338400.0 of 4320000.0) |           | Elapsed Time: 0:03:21 ETA:   0:38:26"
     ]
    },
    {
     "name": "stdout",
     "output_type": "stream",
     "text": [
      "Correct cell not found for (-124.841193, 48.571791) after 1000000 iterations\n",
      "Debug info: old particle indices: (yi, xi) 433 1\n",
      "            new particle indices: (yi, xi) 433 43\n",
      "            Mesh 2d shape:  898 398\n",
      "            Relative particle position:  (xsi, eta) -4.4020428302476013e+01 7.5096564363153318e-01\n",
      "Particle 1259 lost !! [344790.0, 5.610169785274714, 48.57228566224293, -124.83392990544141]\n"
     ]
    },
    {
     "name": "stderr",
     "output_type": "stream",
     "text": [
      "  8% (372600.0 of 4320000.0) |           | Elapsed Time: 0:03:43 ETA:   0:39:10"
     ]
    },
    {
     "name": "stdout",
     "output_type": "stream",
     "text": [
      "Correct cell not found for (-124.730004, 48.438325) after 1000000 iterations\n",
      "Debug info: old particle indices: (yi, xi) 400 0\n",
      "            new particle indices: (yi, xi) 400 42\n",
      "            Mesh 2d shape:  898 398\n",
      "            Relative particle position:  (xsi, eta) -4.3188298930588950e+01 2.6030132488662427e-01\n",
      "Particle 1036 lost !! [378360.0, 4.925571629476997, 48.44194697952648, -124.72541588723232]\n"
     ]
    },
    {
     "name": "stderr",
     "output_type": "stream",
     "text": [
      "  8% (374400.0 of 4320000.0) |           | Elapsed Time: 0:03:44 ETA:   0:43:21"
     ]
    },
    {
     "name": "stdout",
     "output_type": "stream",
     "text": [
      "Correct cell not found for (-124.832272, 48.560631) after 1000000 iterations\n",
      "Debug info: old particle indices: (yi, xi) 430 0\n",
      "            new particle indices: (yi, xi) 430 42\n",
      "            Mesh 2d shape:  898 398\n",
      "            Relative particle position:  (xsi, eta) -4.3159880164678235e+01 9.6349261494085892e-01\n",
      "Particle 973 lost !! [381150.0, 64.16339786422402, 48.561449209442785, -124.82733636284179]\n"
     ]
    },
    {
     "name": "stderr",
     "output_type": "stream",
     "text": [
      "  8% (378000.0 of 4320000.0) |           | Elapsed Time: 0:03:46 ETA:   0:43:43"
     ]
    },
    {
     "name": "stdout",
     "output_type": "stream",
     "text": [
      "Correct cell not found for (-124.752383, 48.464443) after 1000000 iterations\n",
      "Debug info: old particle indices: (yi, xi) 407 0\n",
      "            new particle indices: (yi, xi) 406 42\n",
      "            Mesh 2d shape:  898 398\n",
      "            Relative particle position:  (xsi, eta) -4.3220393243197321e+01 8.5552849607108106e-01\n",
      "Correct cell not found for (-124.758983, 48.473066) after 1000000 iterations\n",
      "Debug info: old particle indices: (yi, xi) 408 0\n",
      "            new particle indices: (yi, xi) 408 42\n",
      "            Mesh 2d shape:  898 398\n",
      "            Relative particle position:  (xsi, eta) -4.3123129089994514e+01 9.7229634214078897e-01\n",
      "Particle 974 lost !! [385110.0, 8.15807414884412, 48.468138420710105, -124.74711023923643]\n",
      "Particle 1006 lost !! [384210.0, 16.17034366215851, 48.47217960343757, -124.75250241182303]\n"
     ]
    },
    {
     "name": "stderr",
     "output_type": "stream",
     "text": [
      "  8% (379800.0 of 4320000.0) |           | Elapsed Time: 0:03:48 ETA:   1:15:15"
     ]
    },
    {
     "name": "stdout",
     "output_type": "stream",
     "text": [
      "Correct cell not found for (-124.799864, 48.522892) after 1000000 iterations\n",
      "Debug info: old particle indices: (yi, xi) 421 0\n",
      "            new particle indices: (yi, xi) 421 42\n",
      "            Mesh 2d shape:  898 398\n",
      "            Relative particle position:  (xsi, eta) -4.3043238528319435e+01 4.3939627146980287e-01\n",
      "Particle 1007 lost !! [385470.0, 41.64014792943364, 48.526293736787395, -124.7964241020159]\n"
     ]
    },
    {
     "name": "stderr",
     "output_type": "stream",
     "text": [
      "  8% (383400.0 of 4320000.0) |           | Elapsed Time: 0:03:50 ETA:   0:43:45"
     ]
    },
    {
     "name": "stdout",
     "output_type": "stream",
     "text": [
      "Correct cell not found for (-124.779512, 48.497703) after 1000000 iterations\n",
      "Debug info: old particle indices: (yi, xi) 415 0\n",
      "            new particle indices: (yi, xi) 415 42\n",
      "            Mesh 2d shape:  898 398\n",
      "            Relative particle position:  (xsi, eta) -4.3122710370745359e+01 1.3378856637172704e-01\n",
      "Particle 987 lost !! [390510.0, 32.674766427662625, 48.50007221323441, -124.77571984108324]\n"
     ]
    },
    {
     "name": "stderr",
     "output_type": "stream",
     "text": [
      "  8% (387000.0 of 4320000.0) |           | Elapsed Time: 0:03:53 ETA:   0:43:22"
     ]
    },
    {
     "name": "stdout",
     "output_type": "stream",
     "text": [
      "Correct cell not found for (-124.794730, 48.515146) after 1000000 iterations\n",
      "Debug info: old particle indices: (yi, xi) 419 0\n",
      "            new particle indices: (yi, xi) 419 42\n",
      "            Mesh 2d shape:  898 398\n",
      "            Relative particle position:  (xsi, eta) -4.3217791865881722e+01 5.7352444442311357e-01\n",
      "Correct cell not found for (-124.775691, 48.491092) after 1000000 iterations\n",
      "Debug info: old particle indices: (yi, xi) 414 0\n",
      "            new particle indices: (yi, xi) 413 42\n",
      "            Mesh 2d shape:  898 398\n",
      "            Relative particle position:  (xsi, eta) -4.3393210691650893e+01 6.1737662800038307e-01\n",
      "Particle 991 lost !! [393210.0, 17.00228211874539, 48.51622744950563, -124.78969946981654]\n",
      "Particle 1134 lost !! [392760.0, 0.6980385239728717, 48.49464916194776, -124.77024359983567]\n"
     ]
    },
    {
     "name": "stderr",
     "output_type": "stream",
     "text": [
      "  9% (390600.0 of 4320000.0) |           | Elapsed Time: 0:03:55 ETA:   0:43:42"
     ]
    },
    {
     "name": "stdout",
     "output_type": "stream",
     "text": [
      "Correct cell not found for (-124.748351, 48.459271) after 1000000 iterations\n",
      "Debug info: old particle indices: (yi, xi) 405 0\n",
      "            new particle indices: (yi, xi) 405 42\n",
      "            Mesh 2d shape:  898 398\n",
      "            Relative particle position:  (xsi, eta) -4.3279336746250642e+01 6.0161969982340491e-01\n",
      "Particle 1027 lost !! [397350.0, 21.01783266570824, 48.46033255704814, -124.74410907046993]\n"
     ]
    },
    {
     "name": "stderr",
     "output_type": "stream",
     "text": [
      "  9% (417600.0 of 4320000.0) |#          | Elapsed Time: 0:04:11 ETA:   0:38:41"
     ]
    },
    {
     "name": "stdout",
     "output_type": "stream",
     "text": [
      "Correct cell not found for (-124.793868, 48.512431) after 1000000 iterations\n",
      "Debug info: old particle indices: (yi, xi) 419 0\n",
      "            new particle indices: (yi, xi) 419 42\n",
      "            Mesh 2d shape:  898 398\n",
      "            Relative particle position:  (xsi, eta) -4.3454128570260714e+01 5.2112942012085056e-03\n",
      "Particle 1014 lost !! [423450.0, 3.11437581302056, 48.51550057966824, -124.78728929313012]\n"
     ]
    },
    {
     "name": "stderr",
     "output_type": "stream",
     "text": [
      "  9% (426600.0 of 4320000.0) |#          | Elapsed Time: 0:04:17 ETA:   0:38:20"
     ]
    },
    {
     "name": "stdout",
     "output_type": "stream",
     "text": [
      "Correct cell not found for (-124.828149, 48.553887) after 1000000 iterations\n",
      "Debug info: old particle indices: (yi, xi) 429 0\n",
      "            new particle indices: (yi, xi) 429 42\n",
      "            Mesh 2d shape:  898 398\n",
      "            Relative particle position:  (xsi, eta) -4.3344838977908346e+01 3.8029021743623725e-01\n",
      "Particle 1184 lost !! [432720.0, 47.89704634336369, 48.55700580696763, -124.82478024701878]\n"
     ]
    },
    {
     "name": "stderr",
     "output_type": "stream",
     "text": [
      " 10% (437400.0 of 4320000.0) |#          | Elapsed Time: 0:04:24 ETA:   0:39:05"
     ]
    },
    {
     "name": "stdout",
     "output_type": "stream",
     "text": [
      "Correct cell not found for (-124.935159, 48.682025) after 1000000 iterations\n",
      "Debug info: old particle indices: (yi, xi) 461 0\n",
      "            new particle indices: (yi, xi) 461 42\n",
      "            Mesh 2d shape:  898 398\n",
      "            Relative particle position:  (xsi, eta) -4.3220616083594422e+01 5.7107186067041504e-01\n",
      "Particle 1223 lost !! [443610.0, 4.9946416204551545, 48.68407430757195, -124.93057087853151]\n"
     ]
    },
    {
     "name": "stderr",
     "output_type": "stream",
     "text": [
      " 10% (464400.0 of 4320000.0) |#          | Elapsed Time: 0:04:40 ETA:   0:38:09"
     ]
    },
    {
     "name": "stdout",
     "output_type": "stream",
     "text": [
      "Correct cell not found for (-124.917967, 48.659935) after 1000000 iterations\n",
      "Debug info: old particle indices: (yi, xi) 456 0\n",
      "            new particle indices: (yi, xi) 456 42\n",
      "            Mesh 2d shape:  898 398\n",
      "            Relative particle position:  (xsi, eta) -4.3455734770242707e+01 1.4610377452553200e-01\n",
      "Particle 1147 lost !! [469800.0, 3.0391678573490197, 48.66427500809017, -124.91256578034454]\n"
     ]
    },
    {
     "name": "stderr",
     "output_type": "stream",
     "text": [
      " 10% (469800.0 of 4320000.0) |#          | Elapsed Time: 0:04:44 ETA:   0:38:25"
     ]
    },
    {
     "name": "stdout",
     "output_type": "stream",
     "text": [
      "Correct cell not found for (-124.838652, 48.567389) after 1000000 iterations\n",
      "Debug info: old particle indices: (yi, xi) 432 0\n",
      "            new particle indices: (yi, xi) 432 42\n",
      "            Mesh 2d shape:  898 398\n",
      "            Relative particle position:  (xsi, eta) -4.3212456400260358e+01 6.9258831026665801e-01\n",
      "Particle 1008 lost !! [476820.0, 73.7016632687829, 48.56960583385486, -124.83388350449079]\n"
     ]
    },
    {
     "name": "stderr",
     "output_type": "stream",
     "text": [
      " 10% (471600.0 of 4320000.0) |#          | Elapsed Time: 0:04:45 ETA:   0:42:24"
     ]
    },
    {
     "name": "stdout",
     "output_type": "stream",
     "text": [
      "Correct cell not found for (-124.802866, 48.525288) after 1000000 iterations\n",
      "Debug info: old particle indices: (yi, xi) 422 0\n",
      "            new particle indices: (yi, xi) 422 42\n",
      "            Mesh 2d shape:  898 398\n",
      "            Relative particle position:  (xsi, eta) -4.3182264811856150e+01 1.1110602380685718e-01\n",
      "Particle 1115 lost !! [477810.0, 27.657525401211192, 48.5275491496756, -124.79823252327688]\n"
     ]
    },
    {
     "name": "stderr",
     "output_type": "stream",
     "text": [
      " 10% (473400.0 of 4320000.0) |#          | Elapsed Time: 0:04:47 ETA:   1:12:18"
     ]
    },
    {
     "name": "stdout",
     "output_type": "stream",
     "text": [
      "Correct cell not found for (-124.719435, 48.425569) after 1000000 iterations\n",
      "Debug info: old particle indices: (yi, xi) 397 0\n",
      "            new particle indices: (yi, xi) 397 42\n",
      "            Mesh 2d shape:  898 398\n",
      "            Relative particle position:  (xsi, eta) -4.3196504900484868e+01 9.6447148397850901e-02\n",
      "Correct cell not found for (-124.851625, 48.583889) after 1000000 iterations\n",
      "Debug info: old particle indices: (yi, xi) 436 0\n",
      "            new particle indices: (yi, xi) 436 42\n",
      "            Mesh 2d shape:  898 398\n",
      "            Relative particle position:  (xsi, eta) -4.3077811456914986e+01 7.8590341621322057e-01\n",
      "Particle 1144 lost !! [479520.0, 25.914483401510388, 48.428438069019506, -124.71321483846872]\n",
      "Particle 1224 lost !! [479520.0, 40.20784770142859, 48.58364332886354, -124.8459267924834]\n"
     ]
    },
    {
     "name": "stderr",
     "output_type": "stream",
     "text": [
      " 11% (475200.0 of 4320000.0) |#          | Elapsed Time: 0:04:47 ETA:   0:46:53"
     ]
    },
    {
     "name": "stdout",
     "output_type": "stream",
     "text": [
      "Correct cell not found for (-124.911439, 48.653792) after 1000000 iterations\n",
      "Debug info: old particle indices: (yi, xi) 454 0\n",
      "            new particle indices: (yi, xi) 454 42\n",
      "            Mesh 2d shape:  898 398\n",
      "            Relative particle position:  (xsi, eta) -4.3272577741884490e+01 4.9104275818891319e-01\n",
      "Particle 1203 lost !! [481050.0, 42.88263426730884, 48.65461129959401, -124.90545428174178]\n"
     ]
    },
    {
     "name": "stderr",
     "output_type": "stream",
     "text": [
      " 11% (480600.0 of 4320000.0) |#          | Elapsed Time: 0:04:51 ETA:   0:38:03"
     ]
    },
    {
     "name": "stdout",
     "output_type": "stream",
     "text": [
      "Correct cell not found for (-124.780388, 48.490368) after 1000000 iterations\n",
      "Debug info: old particle indices: (yi, xi) 414 0\n",
      "            new particle indices: (yi, xi) 413 42\n",
      "            Mesh 2d shape:  898 398\n",
      "            Relative particle position:  (xsi, eta) -4.4186021516820702e+01 8.1353632055931080e-01\n",
      "Particle 941 lost !! [486270.0, 36.63347531923854, 48.49409237366578, -124.77360211329633]\n"
     ]
    },
    {
     "name": "stderr",
     "output_type": "stream",
     "text": [
      " 11% (507600.0 of 4320000.0) |#          | Elapsed Time: 0:05:07 ETA:   0:37:42"
     ]
    },
    {
     "name": "stdout",
     "output_type": "stream",
     "text": [
      "Correct cell not found for (-124.820084, 48.545451) after 1000000 iterations\n",
      "Debug info: old particle indices: (yi, xi) 427 1\n",
      "            new particle indices: (yi, xi) 427 43\n",
      "            Mesh 2d shape:  898 398\n",
      "            Relative particle position:  (xsi, eta) -4.4201885078138346e+01 1.6484810256265617e-01\n",
      "Particle 1034 lost !! [513270.0, 27.287690098469646, 48.549210354106776, -124.81398080696836]\n"
     ]
    },
    {
     "name": "stderr",
     "output_type": "stream",
     "text": [
      " 11% (513000.0 of 4320000.0) |#          | Elapsed Time: 0:05:11 ETA:   0:36:50"
     ]
    },
    {
     "name": "stdout",
     "output_type": "stream",
     "text": [
      "Correct cell not found for (-124.802216, 48.523206) after 1000000 iterations\n",
      "Debug info: old particle indices: (yi, xi) 421 0\n",
      "            new particle indices: (yi, xi) 421 42\n",
      "            Mesh 2d shape:  898 398\n",
      "            Relative particle position:  (xsi, eta) -4.3349582529566050e+01 6.6821182034671922e-01\n",
      "Particle 1169 lost !! [519750.0, 21.76343283797697, 48.52415778379654, -124.79556316498345]\n"
     ]
    },
    {
     "name": "stderr",
     "output_type": "stream",
     "text": [
      " 11% (516600.0 of 4320000.0) |#          | Elapsed Time: 0:05:14 ETA:   0:41:38"
     ]
    },
    {
     "name": "stdout",
     "output_type": "stream",
     "text": [
      "Correct cell not found for (-124.815917, 48.541701) after 1000000 iterations\n",
      "Debug info: old particle indices: (yi, xi) 426 1\n",
      "            new particle indices: (yi, xi) 426 43\n",
      "            Mesh 2d shape:  898 398\n",
      "            Relative particle position:  (xsi, eta) -4.4071984208251067e+01 1.8452193154936045e-01\n",
      "Particle 1185 lost !! [523440.0, 40.327751395060424, 48.54553226409225, -124.80939923029877]\n"
     ]
    },
    {
     "name": "stderr",
     "output_type": "stream",
     "text": [
      " 12% (518400.0 of 4320000.0) |#          | Elapsed Time: 0:05:14 ETA:   0:41:35"
     ]
    },
    {
     "name": "stdout",
     "output_type": "stream",
     "text": [
      "Correct cell not found for (-124.800496, 48.516964) after 1000000 iterations\n",
      "Debug info: old particle indices: (yi, xi) 420 0\n",
      "            new particle indices: (yi, xi) 420 42\n",
      "            Mesh 2d shape:  898 398\n",
      "            Relative particle position:  (xsi, eta) -4.3834990713062687e+01 3.3264051121033328e-01\n",
      "Particle 914 lost !! [523890.0, 42.688643985878365, 48.52106759379091, -124.794133453391]\n"
     ]
    },
    {
     "name": "stderr",
     "output_type": "stream",
     "text": [
      " 12% (554400.0 of 4320000.0) |#          | Elapsed Time: 0:05:36 ETA:   0:37:28"
     ]
    },
    {
     "name": "stdout",
     "output_type": "stream",
     "text": [
      "Correct cell not found for (-124.839228, 48.569642) after 1000000 iterations\n",
      "Debug info: old particle indices: (yi, xi) 433 0\n",
      "            new particle indices: (yi, xi) 433 42\n",
      "            Mesh 2d shape:  898 398\n",
      "            Relative particle position:  (xsi, eta) -4.3026928797354955e+01 1.7016783517302919e-01\n",
      "Particle 1119 lost !! [561420.0, 42.99502532266719, 48.57356373094214, -124.83558887521461]\n"
     ]
    },
    {
     "name": "stderr",
     "output_type": "stream",
     "text": [
      " 13% (565200.0 of 4320000.0) |#          | Elapsed Time: 0:05:42 ETA:   0:37:00"
     ]
    },
    {
     "name": "stdout",
     "output_type": "stream",
     "text": [
      "Correct cell not found for (-124.796468, 48.515126) after 1000000 iterations\n",
      "Debug info: old particle indices: (yi, xi) 420 0\n",
      "            new particle indices: (yi, xi) 419 42\n",
      "            Mesh 2d shape:  898 398\n",
      "            Relative particle position:  (xsi, eta) -4.3469477799036071e+01 6.9128737486178715e-01\n",
      "Particle 1243 lost !! [571590.0, 70.46721592448483, 48.51851049290809, -124.79076787114461]\n"
     ]
    },
    {
     "name": "stderr",
     "output_type": "stream",
     "text": [
      " 13% (599400.0 of 4320000.0) |#          | Elapsed Time: 0:06:04 ETA:   0:35:36"
     ]
    },
    {
     "name": "stdout",
     "output_type": "stream",
     "text": [
      "Correct cell not found for (-124.803972, 48.524203) after 1000000 iterations\n",
      "Debug info: old particle indices: (yi, xi) 422 0\n",
      "            new particle indices: (yi, xi) 421 42\n",
      "            Mesh 2d shape:  898 398\n",
      "            Relative particle position:  (xsi, eta) -4.3484054004241329e+01 9.8511768309780012e-01\n",
      "Particle 1009 lost !! [605160.0, 30.403730985522003, 48.525728679800025, -124.79934475373916]\n"
     ]
    },
    {
     "name": "stderr",
     "output_type": "stream",
     "text": [
      " 14% (612000.0 of 4320000.0) |#          | Elapsed Time: 0:06:11 ETA:   0:37:10"
     ]
    },
    {
     "name": "stdout",
     "output_type": "stream",
     "text": [
      "Correct cell not found for (-124.843442, 48.573294) after 1000000 iterations\n",
      "Debug info: old particle indices: (yi, xi) 433 0\n",
      "            new particle indices: (yi, xi) 434 42\n",
      "            Mesh 2d shape:  898 398\n",
      "            Relative particle position:  (xsi, eta) -4.3225840059081946e+01 1.8770312757607407e-01\n",
      "Particle 1117 lost !! [618030.0, 14.272487439087675, 48.57283821922981, -124.83803824528738]\n"
     ]
    },
    {
     "name": "stderr",
     "output_type": "stream",
     "text": [
      " 14% (613800.0 of 4320000.0) |#          | Elapsed Time: 0:06:13 ETA:   1:10:01"
     ]
    },
    {
     "name": "stdout",
     "output_type": "stream",
     "text": [
      "Correct cell not found for (-124.814226, 48.537840) after 1000000 iterations\n",
      "Debug info: old particle indices: (yi, xi) 425 0\n",
      "            new particle indices: (yi, xi) 425 42\n",
      "            Mesh 2d shape:  898 398\n",
      "            Relative particle position:  (xsi, eta) -4.3256774430167638e+01 3.0952965534671034e-01\n",
      "Particle 992 lost !! [620370.0, 26.975095551583188, 48.53938059142567, -124.80832736963694]\n"
     ]
    },
    {
     "name": "stderr",
     "output_type": "stream",
     "text": [
      " 14% (621000.0 of 4320000.0) |#          | Elapsed Time: 0:06:17 ETA:   0:36:26"
     ]
    },
    {
     "name": "stdout",
     "output_type": "stream",
     "text": [
      "Correct cell not found for (-124.809754, 48.530816) after 1000000 iterations\n",
      "Debug info: old particle indices: (yi, xi) 424 0\n",
      "            new particle indices: (yi, xi) 423 42\n",
      "            Mesh 2d shape:  898 398\n",
      "            Relative particle position:  (xsi, eta) -4.3499804906986853e+01 6.5884354858420779e-01\n",
      "Particle 1150 lost !! [627660.0, 35.711832386718385, 48.53449938732639, -124.80433607309925]\n"
     ]
    },
    {
     "name": "stderr",
     "output_type": "stream",
     "text": [
      " 15% (651600.0 of 4320000.0) |#          | Elapsed Time: 0:06:35 ETA:   0:36:31"
     ]
    },
    {
     "name": "stdout",
     "output_type": "stream",
     "text": [
      "Correct cell not found for (-124.806132, 48.530126) after 1000000 iterations\n",
      "Debug info: old particle indices: (yi, xi) 422 0\n",
      "            new particle indices: (yi, xi) 423 42\n",
      "            Mesh 2d shape:  898 398\n",
      "            Relative particle position:  (xsi, eta) -4.3033749917809608e+01 2.5731103508716424e-01\n",
      "Particle 1022 lost !! [657990.0, 32.88732495287974, 48.529051281406865, -124.799123371955]\n"
     ]
    },
    {
     "name": "stderr",
     "output_type": "stream",
     "text": [
      " 15% (653400.0 of 4320000.0) |#          | Elapsed Time: 0:06:37 ETA:   1:09:17"
     ]
    },
    {
     "name": "stdout",
     "output_type": "stream",
     "text": [
      "Correct cell not found for (-124.818783, 48.542209) after 1000000 iterations\n",
      "Debug info: old particle indices: (yi, xi) 426 0\n",
      "            new particle indices: (yi, xi) 426 42\n",
      "            Mesh 2d shape:  898 398\n",
      "            Relative particle position:  (xsi, eta) -4.3409621648926112e+01 4.8513030626240305e-01\n",
      "Particle 1168 lost !! [659340.0, 51.70774905954028, 48.545660250961184, -124.81286605396362]\n"
     ]
    },
    {
     "name": "stderr",
     "output_type": "stream",
     "text": [
      " 16% (693000.0 of 4320000.0) |#          | Elapsed Time: 0:07:01 ETA:   0:35:56"
     ]
    },
    {
     "name": "stdout",
     "output_type": "stream",
     "text": [
      "Correct cell not found for (-124.842403, 48.571913) after 1000000 iterations\n",
      "Debug info: old particle indices: (yi, xi) 434 0\n",
      "            new particle indices: (yi, xi) 433 42\n",
      "            Mesh 2d shape:  898 398\n",
      "            Relative particle position:  (xsi, eta) -4.3245635822213153e+01 8.4924549730298726e-01\n",
      "Particle 1099 lost !! [699480.0, 9.84791203053866, 48.57550613813111, -124.83952392679025]\n"
     ]
    },
    {
     "name": "stderr",
     "output_type": "stream",
     "text": [
      " 16% (705600.0 of 4320000.0) |#          | Elapsed Time: 0:07:08 ETA:   0:35:57"
     ]
    },
    {
     "name": "stdout",
     "output_type": "stream",
     "text": [
      "Correct cell not found for (-124.773415, 48.491391) after 1000000 iterations\n",
      "Debug info: old particle indices: (yi, xi) 413 1\n",
      "            new particle indices: (yi, xi) 413 43\n",
      "            Mesh 2d shape:  898 398\n",
      "            Relative particle position:  (xsi, eta) -4.4002382742805011e+01 5.2782805882842532e-01\n",
      "Particle 1052 lost !! [712440.0, 93.03526924800389, 48.49508294367487, -124.7677032654397]\n"
     ]
    },
    {
     "name": "stderr",
     "output_type": "stream",
     "text": [
      " 17% (739800.0 of 4320000.0) |#          | Elapsed Time: 0:07:29 ETA:   0:35:25"
     ]
    },
    {
     "name": "stdout",
     "output_type": "stream",
     "text": [
      "Correct cell not found for (-124.822517, 48.549789) after 1000000 iterations\n",
      "Debug info: old particle indices: (yi, xi) 428 0\n",
      "            new particle indices: (yi, xi) 428 42\n",
      "            Mesh 2d shape:  898 398\n",
      "            Relative particle position:  (xsi, eta) -4.2998432654240474e+01 1.9422051358674100e-01\n",
      "Particle 1059 lost !! [745740.0, 7.746684077612902, 48.55106395791629, -124.81790263414108]\n"
     ]
    },
    {
     "name": "stderr",
     "output_type": "stream",
     "text": [
      " 17% (748800.0 of 4320000.0) |#          | Elapsed Time: 0:07:34 ETA:   0:35:11"
     ]
    },
    {
     "name": "stdout",
     "output_type": "stream",
     "text": [
      "Correct cell not found for (-124.793865, 48.515130) after 1000000 iterations\n",
      "Debug info: old particle indices: (yi, xi) 419 0\n",
      "            new particle indices: (yi, xi) 419 42\n",
      "            Mesh 2d shape:  898 398\n",
      "            Relative particle position:  (xsi, eta) -4.3095869254793065e+01 5.1009428982301297e-01\n",
      "Particle 982 lost !! [755910.0, 27.498315889087856, 48.515101399893105, -124.78780218071272]\n"
     ]
    },
    {
     "name": "stderr",
     "output_type": "stream",
     "text": [
      " 18% (786600.0 of 4320000.0) |##         | Elapsed Time: 0:07:57 ETA:   0:34:55"
     ]
    },
    {
     "name": "stdout",
     "output_type": "stream",
     "text": [
      "Correct cell not found for (-124.758422, 48.467399) after 1000000 iterations\n",
      "Debug info: old particle indices: (yi, xi) 407 0\n",
      "            new particle indices: (yi, xi) 407 42\n",
      "            Mesh 2d shape:  898 398\n",
      "            Relative particle position:  (xsi, eta) -4.3780490961668377e+01 8.6747563811697648e-01\n",
      "Particle 1097 lost !! [793260.0, 9.304034373146104, 48.46997672896992, -124.75198513645675]\n"
     ]
    },
    {
     "name": "stderr",
     "output_type": "stream",
     "text": [
      " 18% (788400.0 of 4320000.0) |##         | Elapsed Time: 0:07:58 ETA:   0:38:40"
     ]
    },
    {
     "name": "stdout",
     "output_type": "stream",
     "text": [
      "Correct cell not found for (-124.807063, 48.529236) after 1000000 iterations\n",
      "Debug info: old particle indices: (yi, xi) 423 1\n",
      "            new particle indices: (yi, xi) 423 43\n",
      "            Mesh 2d shape:  898 398\n",
      "            Relative particle position:  (xsi, eta) -4.4308894152823370e+01 1.6726203565066008e-01\n",
      "Particle 999 lost !! [795510.0, 92.44011737340769, 48.5324439264575, -124.80044857859602]\n"
     ]
    },
    {
     "name": "stderr",
     "output_type": "stream",
     "text": [
      " 18% (792000.0 of 4320000.0) |##         | Elapsed Time: 0:08:00 ETA:   0:38:20"
     ]
    },
    {
     "name": "stdout",
     "output_type": "stream",
     "text": [
      "Correct cell not found for (-124.746478, 48.458727) after 1000000 iterations\n",
      "Debug info: old particle indices: (yi, xi) 405 0\n",
      "            new particle indices: (yi, xi) 405 42\n",
      "            Mesh 2d shape:  898 398\n",
      "            Relative particle position:  (xsi, eta) -4.3064542326792015e+01 3.4900421020921801e-01\n",
      "Particle 960 lost !! [797490.0, 190.17663005259857, 48.46184566119724, -124.74331717549624]\n"
     ]
    },
    {
     "name": "stderr",
     "output_type": "stream",
     "text": [
      " 19% (824400.0 of 4320000.0) |##         | Elapsed Time: 0:08:19 ETA:   0:34:27"
     ]
    },
    {
     "name": "stdout",
     "output_type": "stream",
     "text": [
      "Correct cell not found for (-124.799042, 48.520397) after 1000000 iterations\n",
      "Debug info: old particle indices: (yi, xi) 420 0\n",
      "            new particle indices: (yi, xi) 420 42\n",
      "            Mesh 2d shape:  898 398\n",
      "            Relative particle position:  (xsi, eta) -4.3225892963073257e+01 8.9993545011652809e-01\n",
      "Particle 1186 lost !! [830970.0, 22.86822834264219, 48.5213443755503, -124.79287382020246]\n"
     ]
    },
    {
     "name": "stderr",
     "output_type": "stream",
     "text": [
      " 21% (921600.0 of 4320000.0) |##         | Elapsed Time: 0:09:22 ETA:   0:36:18"
     ]
    },
    {
     "name": "stdout",
     "output_type": "stream",
     "text": [
      "Correct cell not found for (-124.795233, 48.511457) after 1000000 iterations\n",
      "Debug info: old particle indices: (yi, xi) 419 0\n",
      "            new particle indices: (yi, xi) 418 42\n",
      "            Mesh 2d shape:  898 398\n",
      "            Relative particle position:  (xsi, eta) -4.3769321168134411e+01 9.1716984454938588e-01\n",
      "Particle 957 lost !! [928710.0, 4.957118473560185, 48.514846078166336, -124.79039084320507]\n"
     ]
    },
    {
     "name": "stderr",
     "output_type": "stream",
     "text": [
      " 21% (945000.0 of 4320000.0) |##         | Elapsed Time: 0:09:39 ETA:   0:35:06"
     ]
    },
    {
     "name": "stdout",
     "output_type": "stream",
     "text": [
      "Correct cell not found for (-124.800855, 48.519886) after 1000000 iterations\n",
      "Debug info: old particle indices: (yi, xi) 421 0\n",
      "            new particle indices: (yi, xi) 420 42\n",
      "            Mesh 2d shape:  898 398\n",
      "            Relative particle position:  (xsi, eta) -4.3557016176502032e+01 9.3262347368627252e-01\n",
      "Particle 989 lost !! [951300.0, 9.425224077920266, 48.52364677858981, -124.79462475472465]\n"
     ]
    },
    {
     "name": "stderr",
     "output_type": "stream",
     "text": [
      " 22% (961200.0 of 4320000.0) |##         | Elapsed Time: 0:09:49 ETA:   0:36:02"
     ]
    },
    {
     "name": "stdout",
     "output_type": "stream",
     "text": [
      "Correct cell not found for (-124.747128, 48.456165) after 1000000 iterations\n",
      "Debug info: old particle indices: (yi, xi) 405 0\n",
      "            new particle indices: (yi, xi) 404 42\n",
      "            Mesh 2d shape:  898 398\n",
      "            Relative particle position:  (xsi, eta) -4.3468663088016875e+01 8.9164805121321633e-01\n",
      "Particle 1049 lost !! [968040.0, 17.06425405542137, 48.46046890515798, -124.74351819530695]\n"
     ]
    },
    {
     "name": "stderr",
     "output_type": "stream",
     "text": [
      " 22% (964800.0 of 4320000.0) |##         | Elapsed Time: 0:09:51 ETA:   0:41:32"
     ]
    },
    {
     "name": "stdout",
     "output_type": "stream",
     "text": [
      "Correct cell not found for (-124.727679, 48.433471) after 1000000 iterations\n",
      "Debug info: old particle indices: (yi, xi) 399 0\n",
      "            new particle indices: (yi, xi) 399 42\n",
      "            Mesh 2d shape:  898 398\n",
      "            Relative particle position:  (xsi, eta) -4.3441382205208754e+01 1.9610144963617984e-01\n",
      "Particle 993 lost !! [971100.0, 3.3844090188350306, 48.43765259908602, -124.72541294273958]\n"
     ]
    },
    {
     "name": "stderr",
     "output_type": "stream",
     "text": [
      " 22% (968400.0 of 4320000.0) |##         | Elapsed Time: 0:09:54 ETA:   0:39:25"
     ]
    },
    {
     "name": "stdout",
     "output_type": "stream",
     "text": [
      "Correct cell not found for (-124.812969, 48.532610) after 1000000 iterations\n",
      "Debug info: old particle indices: (yi, xi) 424 0\n",
      "            new particle indices: (yi, xi) 424 42\n",
      "            Mesh 2d shape:  898 398\n",
      "            Relative particle position:  (xsi, eta) -4.3755543931722436e+01 2.3556020984916629e-01\n",
      "Particle 1071 lost !! [975510.0, 16.772328955602713, 48.53667246763851, -124.80682951157596]\n"
     ]
    },
    {
     "name": "stderr",
     "output_type": "stream",
     "text": [
      " 22% (970200.0 of 4320000.0) |##         | Elapsed Time: 0:09:56 ETA:   1:09:10"
     ]
    },
    {
     "name": "stdout",
     "output_type": "stream",
     "text": [
      "Correct cell not found for (-124.797313, 48.515402) after 1000000 iterations\n",
      "Debug info: old particle indices: (yi, xi) 420 0\n",
      "            new particle indices: (yi, xi) 419 42\n",
      "            Mesh 2d shape:  898 398\n",
      "            Relative particle position:  (xsi, eta) -4.3553980356441151e+01 8.0218028612895609e-01\n",
      "Particle 1061 lost !! [977130.0, 32.657927259079536, 48.51828466647744, -124.79089851520934]\n"
     ]
    },
    {
     "name": "stderr",
     "output_type": "stream",
     "text": [
      " 22% (977400.0 of 4320000.0) |##         | Elapsed Time: 0:10:01 ETA:   1:11:11"
     ]
    },
    {
     "name": "stdout",
     "output_type": "stream",
     "text": [
      "Correct cell not found for (-124.800439, 48.523442) after 1000000 iterations\n",
      "Debug info: old particle indices: (yi, xi) 421 1\n",
      "            new particle indices: (yi, xi) 421 43\n",
      "            Mesh 2d shape:  898 398\n",
      "            Relative particle position:  (xsi, eta) -4.3998282512385650e+01 5.8057463791454744e-01\n",
      "Particle 1131 lost !! [983880.0, 22.727814080232967, 48.525685496506235, -124.79399814788368]\n"
     ]
    },
    {
     "name": "stderr",
     "output_type": "stream",
     "text": [
      " 23% (1013400.0 of 4320000.0) |##        | Elapsed Time: 0:10:27 ETA:   0:35:31"
     ]
    },
    {
     "name": "stdout",
     "output_type": "stream",
     "text": [
      "Correct cell not found for (-124.773660, 48.490204) after 1000000 iterations\n",
      "Debug info: old particle indices: (yi, xi) 413 0\n",
      "            new particle indices: (yi, xi) 413 42\n",
      "            Mesh 2d shape:  898 398\n",
      "            Relative particle position:  (xsi, eta) -4.3182879377569691e+01 3.0428339387997017e-01\n",
      "Particle 956 lost !! [1020510.0, 15.66088550985588, 48.493946005742075, -124.77021443314605]\n"
     ]
    },
    {
     "name": "stderr",
     "output_type": "stream",
     "text": [
      " 23% (1035000.0 of 4320000.0) |##        | Elapsed Time: 0:10:42 ETA:   1:06:24"
     ]
    },
    {
     "name": "stdout",
     "output_type": "stream",
     "text": [
      "Correct cell not found for (-124.796944, 48.514656) after 1000000 iterations\n",
      "Debug info: old particle indices: (yi, xi) 419 0\n",
      "            new particle indices: (yi, xi) 419 42\n",
      "            Mesh 2d shape:  898 398\n",
      "            Relative particle position:  (xsi, eta) -4.3600033636985891e+01 6.3663129926064010e-01\n",
      "Particle 1204 lost !! [1041390.0, 2.259095825160227, 48.51793290203918, -124.79016210118075]\n"
     ]
    },
    {
     "name": "stderr",
     "output_type": "stream",
     "text": [
      " 24% (1051200.0 of 4320000.0) |##        | Elapsed Time: 0:10:52 ETA:   0:35:30"
     ]
    },
    {
     "name": "stdout",
     "output_type": "stream",
     "text": [
      "Correct cell not found for (-124.767431, 48.478014) after 1000000 iterations\n",
      "Debug info: old particle indices: (yi, xi) 410 0\n",
      "            new particle indices: (yi, xi) 410 42\n",
      "            Mesh 2d shape:  898 398\n",
      "            Relative particle position:  (xsi, eta) -4.3773677233405643e+01 5.3625453667748513e-01\n",
      "Particle 909 lost !! [1057230.0, 0.687061933622084, 48.480938482483765, -124.76161969765795]\n"
     ]
    },
    {
     "name": "stderr",
     "output_type": "stream",
     "text": [
      " 24% (1058400.0 of 4320000.0) |##        | Elapsed Time: 0:10:57 ETA:   0:34:56"
     ]
    },
    {
     "name": "stdout",
     "output_type": "stream",
     "text": [
      "Correct cell not found for (-124.719196, 48.420914) after 1000000 iterations\n",
      "Debug info: old particle indices: (yi, xi) 396 0\n",
      "            new particle indices: (yi, xi) 396 42\n",
      "            Mesh 2d shape:  898 398\n",
      "            Relative particle position:  (xsi, eta) -4.3739243047411996e+01 1.9104987969179532e-01\n",
      "Particle 1200 lost !! [1063890.0, 119.1067326802998, 48.424176987587316, -124.71285945869124]\n"
     ]
    },
    {
     "name": "stderr",
     "output_type": "stream",
     "text": [
      " 25% (1092600.0 of 4320000.0) |##        | Elapsed Time: 0:11:20 ETA:   0:34:46"
     ]
    },
    {
     "name": "stdout",
     "output_type": "stream",
     "text": [
      "Correct cell not found for (-124.812215, 48.536032) after 1000000 iterations\n",
      "Debug info: old particle indices: (yi, xi) 424 0\n",
      "            new particle indices: (yi, xi) 424 42\n",
      "            Mesh 2d shape:  898 398\n",
      "            Relative particle position:  (xsi, eta) -4.3193617538868672e+01 8.2319872942283445e-01\n",
      "Particle 1073 lost !! [1099080.0, 40.755199291970115, 48.53644522240017, -124.80620059923773]\n"
     ]
    },
    {
     "name": "stderr",
     "output_type": "stream",
     "text": [
      " 26% (1128600.0 of 4320000.0) |##        | Elapsed Time: 0:11:44 ETA:   0:59:12"
     ]
    },
    {
     "name": "stdout",
     "output_type": "stream",
     "text": [
      "Correct cell not found for (-124.795528, 48.516551) after 1000000 iterations\n",
      "Debug info: old particle indices: (yi, xi) 420 1\n",
      "            new particle indices: (yi, xi) 419 43\n",
      "            Mesh 2d shape:  898 398\n",
      "            Relative particle position:  (xsi, eta) -4.4184015167912086e+01 9.1458784527341763e-01\n",
      "Particle 1083 lost !! [1134810.0, 33.58066889286428, 48.520066170602966, -124.78940858071118]\n"
     ]
    },
    {
     "name": "stderr",
     "output_type": "stream",
     "text": [
      " 26% (1134000.0 of 4320000.0) |##        | Elapsed Time: 0:11:47 ETA:   0:33:53"
     ]
    },
    {
     "name": "stdout",
     "output_type": "stream",
     "text": [
      "Correct cell not found for (-124.777187, 48.494057) after 1000000 iterations\n",
      "Debug info: old particle indices: (yi, xi) 414 1\n",
      "            new particle indices: (yi, xi) 414 43\n",
      "            Mesh 2d shape:  898 398\n",
      "            Relative particle position:  (xsi, eta) -4.4218562370135061e+01 3.0494421186727649e-01\n",
      "Particle 1081 lost !! [1141020.0, 187.49155099935368, 48.498656546641286, -124.77043335037553]\n"
     ]
    },
    {
     "name": "stderr",
     "output_type": "stream",
     "text": [
      " 26% (1141200.0 of 4320000.0) |##        | Elapsed Time: 0:11:52 ETA:   0:36:03"
     ]
    },
    {
     "name": "stdout",
     "output_type": "stream",
     "text": [
      "Correct cell not found for (-124.885653, 48.623715) after 1000000 iterations\n",
      "Debug info: old particle indices: (yi, xi) 447 0\n",
      "            new particle indices: (yi, xi) 446 42\n",
      "            Mesh 2d shape:  898 398\n",
      "            Relative particle position:  (xsi, eta) -4.3192275117216248e+01 8.8515612651238573e-01\n",
      "Particle 1149 lost !! [1146870.0, 40.86220846200325, 48.62765204035954, -124.88171216478968]\n"
     ]
    },
    {
     "name": "stderr",
     "output_type": "stream",
     "text": [
      " 26% (1146600.0 of 4320000.0) |##        | Elapsed Time: 0:11:56 ETA:   0:33:36"
     ]
    },
    {
     "name": "stdout",
     "output_type": "stream",
     "text": [
      "Correct cell not found for (-124.777422, 48.494838) after 1000000 iterations\n",
      "Debug info: old particle indices: (yi, xi) 415 0\n",
      "            new particle indices: (yi, xi) 414 42\n",
      "            Mesh 2d shape:  898 398\n",
      "            Relative particle position:  (xsi, eta) -4.3190070971417242e+01 4.4509092751945439e-01\n",
      "Particle 1079 lost !! [1152270.0, 31.223506961266583, 48.49892542012074, -124.77560787144589]\n"
     ]
    },
    {
     "name": "stderr",
     "output_type": "stream",
     "text": [
      " 26% (1148400.0 of 4320000.0) |##        | Elapsed Time: 0:11:57 ETA:   0:36:59"
     ]
    },
    {
     "name": "stdout",
     "output_type": "stream",
     "text": [
      "Correct cell not found for (-124.741350, 48.453126) after 1000000 iterations\n",
      "Debug info: old particle indices: (yi, xi) 404 1\n",
      "            new particle indices: (yi, xi) 403 43\n",
      "            Mesh 2d shape:  898 398\n",
      "            Relative particle position:  (xsi, eta) -4.3995313152928908e+01 8.9499226010769573e-01\n",
      "Particle 971 lost !! [1155510.0, 2.9938241255154603, 48.45688923256676, -124.7354391384936]\n"
     ]
    },
    {
     "name": "stderr",
     "output_type": "stream",
     "text": [
      " 27% (1180800.0 of 4320000.0) |##        | Elapsed Time: 0:12:19 ETA:   0:33:25"
     ]
    },
    {
     "name": "stdout",
     "output_type": "stream",
     "text": [
      "Correct cell not found for (-124.792346, 48.513880) after 1000000 iterations\n",
      "Debug info: old particle indices: (yi, xi) 418 0\n",
      "            new particle indices: (yi, xi) 419 42\n",
      "            Mesh 2d shape:  898 398\n",
      "            Relative particle position:  (xsi, eta) -4.3043688214997388e+01 1.6987770562275786e-01\n",
      "Particle 1170 lost !! [1187730.0, 30.70911953058639, 48.51204657328047, -124.7860439062879]\n"
     ]
    },
    {
     "name": "stderr",
     "output_type": "stream",
     "text": [
      " 28% (1225800.0 of 4320000.0) |##        | Elapsed Time: 0:12:49 ETA:   1:00:25"
     ]
    },
    {
     "name": "stdout",
     "output_type": "stream",
     "text": [
      "Correct cell not found for (-124.754945, 48.468357) after 1000000 iterations\n",
      "Debug info: old particle indices: (yi, xi) 408 0\n",
      "            new particle indices: (yi, xi) 407 42\n",
      "            Mesh 2d shape:  898 398\n",
      "            Relative particle position:  (xsi, eta) -4.3148793473214873e+01 7.9979284492560176e-01\n",
      "Particle 1035 lost !! [1231650.0, 6.438400946091533, 48.470346552709216, -124.75219685162212]\n"
     ]
    },
    {
     "name": "stderr",
     "output_type": "stream",
     "text": [
      " 28% (1229400.0 of 4320000.0) |##        | Elapsed Time: 0:12:51 ETA:   0:36:13"
     ]
    },
    {
     "name": "stdout",
     "output_type": "stream",
     "text": [
      "Correct cell not found for (-124.788378, 48.503090) after 1000000 iterations\n",
      "Debug info: old particle indices: (yi, xi) 417 0\n",
      "            new particle indices: (yi, xi) 416 42\n",
      "            Mesh 2d shape:  898 398\n",
      "            Relative particle position:  (xsi, eta) -4.3743780532980978e+01 8.2884043931603624e-01\n",
      "Particle 980 lost !! [1235790.0, 58.484534473649575, 48.507276185087804, -124.78231940207834]\n"
     ]
    },
    {
     "name": "stderr",
     "output_type": "stream",
     "text": [
      " 30% (1303200.0 of 4320000.0) |###       | Elapsed Time: 0:13:39 ETA:   0:31:50"
     ]
    },
    {
     "name": "stdout",
     "output_type": "stream",
     "text": [
      "Correct cell not found for (-124.811032, 48.535055) after 1000000 iterations\n",
      "Debug info: old particle indices: (yi, xi) 424 1\n",
      "            new particle indices: (yi, xi) 424 43\n",
      "            Mesh 2d shape:  898 398\n",
      "            Relative particle position:  (xsi, eta) -4.4159442387527697e+01 5.6048559876484039e-01\n",
      "Particle 1005 lost !! [1309140.0, 4.30521534289704, 48.538894999381384, -124.80467472224518]\n"
     ]
    },
    {
     "name": "stderr",
     "output_type": "stream",
     "text": [
      " 30% (1310400.0 of 4320000.0) |###       | Elapsed Time: 0:13:44 ETA:   0:31:32"
     ]
    },
    {
     "name": "stdout",
     "output_type": "stream",
     "text": [
      "Correct cell not found for (-124.786125, 48.506415) after 1000000 iterations\n",
      "Debug info: old particle indices: (yi, xi) 416 0\n",
      "            new particle indices: (yi, xi) 417 42\n",
      "            Mesh 2d shape:  898 398\n",
      "            Relative particle position:  (xsi, eta) -4.2991358736517121e+01 3.0561813656275638e-01\n",
      "Particle 894 lost !! [1316250.0, 56.804569746724184, 48.50470041572745, -124.77966716290193]\n"
     ]
    },
    {
     "name": "stderr",
     "output_type": "stream",
     "text": [
      " 30% (1312200.0 of 4320000.0) |###       | Elapsed Time: 0:13:46 ETA:   1:01:50"
     ]
    },
    {
     "name": "stdout",
     "output_type": "stream",
     "text": [
      "Correct cell not found for (-124.776333, 48.494754) after 1000000 iterations\n",
      "Debug info: old particle indices: (yi, xi) 414 0\n",
      "            new particle indices: (yi, xi) 414 42\n",
      "            Mesh 2d shape:  898 398\n",
      "            Relative particle position:  (xsi, eta) -4.3045055792358788e+01 3.5320185341433452e-01\n",
      "Particle 1013 lost !! [1318410.0, 29.142304941191043, 48.495221481658355, -124.77132355160252]\n"
     ]
    },
    {
     "name": "stderr",
     "output_type": "stream",
     "text": [
      " 30% (1326600.0 of 4320000.0) |###       | Elapsed Time: 0:13:56 ETA:   0:31:52"
     ]
    },
    {
     "name": "stdout",
     "output_type": "stream",
     "text": [
      "Correct cell not found for (-124.755208, 48.465123) after 1000000 iterations\n",
      "Debug info: old particle indices: (yi, xi) 407 0\n",
      "            new particle indices: (yi, xi) 407 42\n",
      "            Mesh 2d shape:  898 398\n",
      "            Relative particle position:  (xsi, eta) -4.3555902648481180e+01 1.8464607752336898e-01\n",
      "Particle 996 lost !! [1332810.0, 3.0428152204981065, 48.469169911918705, -124.74994316270445]\n"
     ]
    },
    {
     "name": "stderr",
     "output_type": "stream",
     "text": [
      " 32% (1414800.0 of 4320000.0) |###       | Elapsed Time: 0:14:53 ETA:   0:31:00"
     ]
    },
    {
     "name": "stdout",
     "output_type": "stream",
     "text": [
      "Correct cell not found for (-124.777110, 48.492984) after 1000000 iterations\n",
      "Debug info: old particle indices: (yi, xi) 414 1\n",
      "            new particle indices: (yi, xi) 414 43\n",
      "            Mesh 2d shape:  898 398\n",
      "            Relative particle position:  (xsi, eta) -4.4328734988918654e+01 8.8586712508922222e-02\n",
      "Particle 1111 lost !! [1421820.0, 46.931232797832976, 48.49689403610879, -124.77040048021973]\n"
     ]
    },
    {
     "name": "stderr",
     "output_type": "stream",
     "text": [
      " 34% (1499400.0 of 4320000.0) |###       | Elapsed Time: 0:15:50 ETA:   0:30:11"
     ]
    },
    {
     "name": "stdout",
     "output_type": "stream",
     "text": [
      "Correct cell not found for (-124.839891, 48.569652) after 1000000 iterations\n",
      "Debug info: old particle indices: (yi, xi) 433 1\n",
      "            new particle indices: (yi, xi) 433 43\n",
      "            Mesh 2d shape:  898 398\n",
      "            Relative particle position:  (xsi, eta) -4.4093724521366781e+01 2.4758443386551252e-01\n",
      "Particle 986 lost !! [1504980.0, 45.56862223787424, 48.57362355951243, -124.83418021173406]\n"
     ]
    },
    {
     "name": "stderr",
     "output_type": "stream",
     "text": [
      " 34% (1503000.0 of 4320000.0) |###       | Elapsed Time: 0:15:52 ETA:   0:52:16"
     ]
    },
    {
     "name": "stdout",
     "output_type": "stream",
     "text": [
      "Correct cell not found for (-124.729784, 48.438579) after 1000000 iterations\n",
      "Debug info: old particle indices: (yi, xi) 400 1\n",
      "            new particle indices: (yi, xi) 400 43\n",
      "            Mesh 2d shape:  898 398\n",
      "            Relative particle position:  (xsi, eta) -4.4123646028659103e+01 3.2117163895275569e-01\n",
      "Correct cell not found for (-124.784715, 48.497295) after 1000000 iterations\n",
      "Debug info: old particle indices: (yi, xi) 415 0\n",
      "            new particle indices: (yi, xi) 415 42\n",
      "            Mesh 2d shape:  898 398\n",
      "            Relative particle position:  (xsi, eta) -4.3951526621098061e+01 4.3547579755240112e-01\n",
      "Particle 1084 lost !! [1509210.0, 81.3244423685826, 48.442445001812175, -124.72438160804278]\n",
      "Particle 1154 lost !! [1509300.0, 8.371603284263278, 48.50136385279001, -124.77920824470525]\n"
     ]
    },
    {
     "name": "stderr",
     "output_type": "stream",
     "text": [
      " 36% (1593000.0 of 4320000.0) |###       | Elapsed Time: 0:16:53 ETA:   0:29:09"
     ]
    },
    {
     "name": "stdout",
     "output_type": "stream",
     "text": [
      "Correct cell not found for (-124.766424, 48.481441) after 1000000 iterations\n",
      "Debug info: old particle indices: (yi, xi) 411 0\n",
      "            new particle indices: (yi, xi) 411 42\n",
      "            Mesh 2d shape:  898 398\n",
      "            Relative particle position:  (xsi, eta) -4.3186066425252882e+01 1.1208576572929016e-01\n",
      "Particle 1215 lost !! [1599840.0, 25.86447493863339, 48.484257155348594, -124.76171733192837]\n"
     ]
    },
    {
     "name": "stderr",
     "output_type": "stream",
     "text": [
      " 36% (1594800.0 of 4320000.0) |###       | Elapsed Time: 0:16:54 ETA:   0:32:04"
     ]
    },
    {
     "name": "stdout",
     "output_type": "stream",
     "text": [
      "Correct cell not found for (-124.758157, 48.472830) after 1000000 iterations\n",
      "Debug info: old particle indices: (yi, xi) 409 1\n",
      "            new particle indices: (yi, xi) 408 43\n",
      "            Mesh 2d shape:  898 398\n",
      "            Relative particle position:  (xsi, eta) -4.4073556098051043e+01 8.8870424652111724e-01\n",
      "Particle 1004 lost !! [1601460.0, 46.438338977473826, 48.47691362096026, -124.75378911385872]\n"
     ]
    },
    {
     "name": "stderr",
     "output_type": "stream",
     "text": [
      " 43% (1863000.0 of 4320000.0) |####      | Elapsed Time: 0:19:53 ETA:   0:26:21"
     ]
    },
    {
     "name": "stdout",
     "output_type": "stream",
     "text": [
      "Correct cell not found for (-124.748342, 48.459929) after 1000000 iterations\n",
      "Debug info: old particle indices: (yi, xi) 405 0\n",
      "            new particle indices: (yi, xi) 405 42\n",
      "            Mesh 2d shape:  898 398\n",
      "            Relative particle position:  (xsi, eta) -4.3200749684055381e+01 7.3445301914328576e-01\n",
      "Particle 1094 lost !! [1869210.0, 24.48992873915221, 48.462034873152284, -124.7423589795779]\n"
     ]
    },
    {
     "name": "stderr",
     "output_type": "stream",
     "text": [
      " 43% (1895400.0 of 4320000.0) |####      | Elapsed Time: 0:20:15 ETA:   0:25:42"
     ]
    },
    {
     "name": "stdout",
     "output_type": "stream",
     "text": [
      "Correct cell not found for (-124.836212, 48.563507) after 1000000 iterations\n",
      "Debug info: old particle indices: (yi, xi) 432 0\n",
      "            new particle indices: (yi, xi) 431 42\n",
      "            Mesh 2d shape:  898 398\n",
      "            Relative particle position:  (xsi, eta) -4.3344879120922485e+01 7.7875464151707441e-01\n",
      "Particle 1089 lost !! [1901520.0, 50.18797930565907, 48.56722509561864, -124.83189306088137]\n"
     ]
    },
    {
     "name": "stderr",
     "output_type": "stream",
     "text": [
      " 45% (1944000.0 of 4320000.0) |####      | Elapsed Time: 0:20:46 ETA:   0:28:18"
     ]
    },
    {
     "name": "stdout",
     "output_type": "stream",
     "text": [
      "Correct cell not found for (-124.849524, 48.581688) after 1000000 iterations\n",
      "Debug info: old particle indices: (yi, xi) 436 1\n",
      "            new particle indices: (yi, xi) 436 43\n",
      "            Mesh 2d shape:  898 398\n",
      "            Relative particle position:  (xsi, eta) -4.4062829723185189e+01 2.5546221090958338e-01\n",
      "Particle 1420 lost !! [1950660.0, 42.07209155339918, 48.583946386502504, -124.84332723035106]\n"
     ]
    },
    {
     "name": "stderr",
     "output_type": "stream",
     "text": [
      " 47% (2034000.0 of 4320000.0) |####      | Elapsed Time: 0:21:45 ETA:   0:24:07"
     ]
    },
    {
     "name": "stdout",
     "output_type": "stream",
     "text": [
      "Correct cell not found for (-124.830682, 48.558679) after 1000000 iterations\n",
      "Debug info: old particle indices: (yi, xi) 430 0\n",
      "            new particle indices: (yi, xi) 430 42\n",
      "            Mesh 2d shape:  898 398\n",
      "            Relative particle position:  (xsi, eta) -4.3167761797504930e+01 4.7546890115641233e-01\n",
      "Particle 1435 lost !! [2039940.0, 19.416619095255385, 48.55757183126439, -124.8268683096372]\n"
     ]
    },
    {
     "name": "stderr",
     "output_type": "stream",
     "text": [
      " 50% (2170800.0 of 4320000.0) |#####     | Elapsed Time: 0:23:16 ETA:   0:22:59"
     ]
    },
    {
     "name": "stdout",
     "output_type": "stream",
     "text": [
      "Correct cell not found for (-124.884390, 48.622127) after 1000000 iterations\n",
      "Debug info: old particle indices: (yi, xi) 446 0\n",
      "            new particle indices: (yi, xi) 446 42\n",
      "            Mesh 2d shape:  898 398\n",
      "            Relative particle position:  (xsi, eta) -4.3183397753947716e+01 4.8008928061214196e-01\n",
      "Particle 1277 lost !! [2176740.0, 21.11659754006372, 48.62480370090927, -124.8789059088594]\n"
     ]
    },
    {
     "name": "stderr",
     "output_type": "stream",
     "text": [
      " 55% (2404800.0 of 4320000.0) |#####     | Elapsed Time: 0:25:51 ETA:   0:20:19"
     ]
    },
    {
     "name": "stdout",
     "output_type": "stream",
     "text": [
      "Correct cell not found for (-124.942069, 48.690359) after 1000000 iterations\n",
      "Debug info: old particle indices: (yi, xi) 463 0\n",
      "            new particle indices: (yi, xi) 463 42\n",
      "            Mesh 2d shape:  898 398\n",
      "            Relative particle position:  (xsi, eta) -4.3202682963544930e+01 6.6671305719662610e-01\n",
      "Particle 1331 lost !! [2410380.0, 12.297114126328223, 48.69353086590442, -124.93606849424675]\n"
     ]
    },
    {
     "name": "stderr",
     "output_type": "stream",
     "text": [
      " 56% (2437200.0 of 4320000.0) |#####     | Elapsed Time: 0:26:12 ETA:   0:22:39"
     ]
    },
    {
     "name": "stdout",
     "output_type": "stream",
     "text": [
      "Correct cell not found for (-124.724033, 48.432404) after 1000000 iterations\n",
      "Debug info: old particle indices: (yi, xi) 398 0\n",
      "            new particle indices: (yi, xi) 398 42\n",
      "            Mesh 2d shape:  898 398\n",
      "            Relative particle position:  (xsi, eta) -4.3020426770047116e+01 7.2980052197683642e-01\n",
      "Particle 1330 lost !! [2443500.0, 122.92848279556816, 48.4331824316951, -124.72103787074263]\n"
     ]
    },
    {
     "name": "stderr",
     "output_type": "stream",
     "text": [
      " 56% (2439000.0 of 4320000.0) |#####     | Elapsed Time: 0:26:15 ETA:   0:43:07"
     ]
    },
    {
     "name": "stdout",
     "output_type": "stream",
     "text": [
      "Correct cell not found for (-122.698081, 47.119554) after 1000000 iterations\n",
      "Debug info: old particle indices: (yi, xi) 0 138\n",
      "            new particle indices: (yi, xi) 0 137\n",
      "            Mesh 2d shape:  898 398\n",
      "            Relative particle position:  (xsi, eta) 2.6393900788026847e-01 -1.2281975075813215e-01\n",
      "Particle 845 lost !! [2444760.0, 3.599890642449001, 47.12238601901156, -122.69775360263057]\n"
     ]
    },
    {
     "name": "stderr",
     "output_type": "stream",
     "text": [
      " 58% (2523600.0 of 4320000.0) |#####     | Elapsed Time: 0:27:11 ETA:   0:20:57"
     ]
    },
    {
     "name": "stdout",
     "output_type": "stream",
     "text": [
      "Correct cell not found for (-124.697535, 48.399471) after 1000000 iterations\n",
      "Debug info: old particle indices: (yi, xi) 390 0\n",
      "            new particle indices: (yi, xi) 390 42\n",
      "            Mesh 2d shape:  898 398\n",
      "            Relative particle position:  (xsi, eta) -4.3201909124405773e+01 5.3359981981063431e-01\n",
      "Particle 1051 lost !! [2529270.0, 59.322191549611134, 48.40026901179329, -124.69137541967248]\n"
     ]
    },
    {
     "name": "stderr",
     "output_type": "stream",
     "text": [
      " 65% (2849400.0 of 4320000.0) |######    | Elapsed Time: 0:30:48 ETA:   0:15:43"
     ]
    },
    {
     "name": "stdout",
     "output_type": "stream",
     "text": [
      "Correct cell not found for (-124.750821, 48.461115) after 1000000 iterations\n",
      "Debug info: old particle indices: (yi, xi) 406 0\n",
      "            new particle indices: (yi, xi) 406 42\n",
      "            Mesh 2d shape:  898 398\n",
      "            Relative particle position:  (xsi, eta) -4.3421591502973961e+01 1.4603827140426620e-01\n",
      "Particle 1171 lost !! [2855340.0, 52.05995826796593, 48.46510404278416, -124.74460979430812]\n"
     ]
    },
    {
     "name": "stderr",
     "output_type": "stream",
     "text": [
      " 66% (2887200.0 of 4320000.0) |######    | Elapsed Time: 0:31:12 ETA:   0:15:32"
     ]
    },
    {
     "name": "stdout",
     "output_type": "stream",
     "text": [
      "Correct cell not found for (-124.730848, 48.438444) after 1000000 iterations\n",
      "Debug info: old particle indices: (yi, xi) 400 0\n",
      "            new particle indices: (yi, xi) 400 42\n",
      "            Mesh 2d shape:  898 398\n",
      "            Relative particle position:  (xsi, eta) -4.3293578591543827e+01 3.4150968567321199e-01\n",
      "Particle 950 lost !! [2893950.0, 49.28480618965787, 48.44030145826355, -124.72619128801087]\n"
     ]
    },
    {
     "name": "stderr",
     "output_type": "stream",
     "text": [
      " 66% (2890800.0 of 4320000.0) |######    | Elapsed Time: 0:31:15 ETA:   0:16:53"
     ]
    },
    {
     "name": "stdout",
     "output_type": "stream",
     "text": [
      "Correct cell not found for (-124.771923, 48.485493) after 1000000 iterations\n",
      "Debug info: old particle indices: (yi, xi) 412 0\n",
      "            new particle indices: (yi, xi) 412 42\n",
      "            Mesh 2d shape:  898 398\n",
      "            Relative particle position:  (xsi, eta) -4.3522277454177100e+01 2.9666515736132554e-01\n",
      "Particle 969 lost !! [2896740.0, 90.94974676850546, 48.48835263931855, -124.76620377631507]\n"
     ]
    },
    {
     "name": "stderr",
     "output_type": "stream",
     "text": [
      " 70% (3027600.0 of 4320000.0) |#######   | Elapsed Time: 0:32:45 ETA:   0:13:58"
     ]
    },
    {
     "name": "stdout",
     "output_type": "stream",
     "text": [
      "Correct cell not found for (-124.775738, 48.494031) after 1000000 iterations\n",
      "Debug info: old particle indices: (yi, xi) 414 1\n",
      "            new particle indices: (yi, xi) 414 43\n",
      "            Mesh 2d shape:  898 398\n",
      "            Relative particle position:  (xsi, eta) -4.4003859764463250e+01 1.9331306965361186e-01\n",
      "Particle 1101 lost !! [3033270.0, 90.87128424726733, 48.49692006993745, -124.76940775124605]\n"
     ]
    },
    {
     "name": "stderr",
     "output_type": "stream",
     "text": [
      " 76% (3294000.0 of 4320000.0) |#######   | Elapsed Time: 0:35:41 ETA:   0:11:02"
     ]
    },
    {
     "name": "stdout",
     "output_type": "stream",
     "text": [
      "Correct cell not found for (-124.804468, 48.527028) after 1000000 iterations\n",
      "Debug info: old particle indices: (yi, xi) 422 0\n",
      "            new particle indices: (yi, xi) 422 42\n",
      "            Mesh 2d shape:  898 398\n",
      "            Relative particle position:  (xsi, eta) -4.3181271718024540e+01 5.4883519892391142e-01\n",
      "Particle 1116 lost !! [3300390.0, 55.83272253082587, 48.52937549277783, -124.79967183975114]\n"
     ]
    },
    {
     "name": "stderr",
     "output_type": "stream",
     "text": [
      " 77% (3335400.0 of 4320000.0) |#######   | Elapsed Time: 0:36:09 ETA:   0:18:24"
     ]
    },
    {
     "name": "stdout",
     "output_type": "stream",
     "text": [
      "Correct cell not found for (-124.820423, 48.541980) after 1000000 iterations\n",
      "Debug info: old particle indices: (yi, xi) 426 0\n",
      "            new particle indices: (yi, xi) 426 42\n",
      "            Mesh 2d shape:  898 398\n",
      "            Relative particle position:  (xsi, eta) -4.3682509516450750e+01 5.6045606725088315e-01\n",
      "Particle 1010 lost !! [3340890.0, 44.295311070172616, 48.54413092790711, -124.81384312527574]\n"
     ]
    },
    {
     "name": "stderr",
     "output_type": "stream",
     "text": [
      " 79% (3454200.0 of 4320000.0) |#######   | Elapsed Time: 0:37:28 ETA:   0:16:51"
     ]
    },
    {
     "name": "stdout",
     "output_type": "stream",
     "text": [
      "Correct cell not found for (-124.845854, 48.577375) after 1000000 iterations\n",
      "Debug info: old particle indices: (yi, xi) 435 1\n",
      "            new particle indices: (yi, xi) 435 43\n",
      "            Mesh 2d shape:  898 398\n",
      "            Relative particle position:  (xsi, eta) -4.4064700634225950e+01 1.8008175789917105e-01\n",
      "Particle 972 lost !! [3460590.0, 62.45330134938016, 48.58134340301349, -124.84019456313028]\n"
     ]
    },
    {
     "name": "stderr",
     "output_type": "stream",
     "text": [
      " 80% (3465000.0 of 4320000.0) |########  | Elapsed Time: 0:37:35 ETA:   0:16:07"
     ]
    },
    {
     "name": "stdout",
     "output_type": "stream",
     "text": [
      "Correct cell not found for (-124.756468, 48.471004) after 1000000 iterations\n",
      "Debug info: old particle indices: (yi, xi) 408 1\n",
      "            new particle indices: (yi, xi) 408 43\n",
      "            Mesh 2d shape:  898 398\n",
      "            Relative particle position:  (xsi, eta) -4.4026703084629702e+01 4.0629115154966267e-01\n",
      "Particle 1025 lost !! [3470850.0, 18.681887221430976, 48.475140114311074, -124.74935799484938]\n"
     ]
    },
    {
     "name": "stderr",
     "output_type": "stream",
     "text": [
      " 80% (3468600.0 of 4320000.0) |########  | Elapsed Time: 0:37:38 ETA:   0:09:58"
     ]
    },
    {
     "name": "stdout",
     "output_type": "stream",
     "text": [
      "Correct cell not found for (-124.856313, 48.588055) after 1000000 iterations\n",
      "Debug info: old particle indices: (yi, xi) 438 0\n",
      "            new particle indices: (yi, xi) 437 42\n",
      "            Mesh 2d shape:  898 398\n",
      "            Relative particle position:  (xsi, eta) -4.3278666660322635e+01 9.7566951144352454e-01\n",
      "Particle 928 lost !! [3474720.0, 22.192494982820868, 48.591064954201045, -124.85084380326145]\n"
     ]
    },
    {
     "name": "stderr",
     "output_type": "stream",
     "text": [
      " 80% (3488400.0 of 4320000.0) |########  | Elapsed Time: 0:37:50 ETA:   0:09:29"
     ]
    }
   ],
   "source": [
    "# #Load Salish output as fields\n",
    "#field_set = FieldSet.from_nemo(filenames, variables, dimensions, allow_time_extrapolation=True)\n",
    "pset = ParticleSet.from_list(field_set, MPParticle, lon=lon, lat=lat, depth=z, time=start+timedelta(hours=2))\n",
    "\n",
    "k_sink = pset.Kernel(Buoyancy)\n",
    "k_waves = pset.Kernel(Stokes_drift)\n",
    "k_beach = pset.Kernel(Beaching)\n",
    "k_unbeach = pset.Kernel(Unbeaching)\n",
    "\n",
    "\n",
    "pset.execute(AdvectionRK4_3D + k_sink + k_waves + k_beach + k_unbeach,\n",
    "             runtime=duration, \n",
    "             dt=dt,\n",
    "             output_file=pset.ParticleFile(name=outfile, outputdt=timedelta(hours=1)),\n",
    "             recovery={ErrorCode.ErrorOutOfBounds: DeleteParticle})"
   ]
  }
 ],
 "metadata": {
  "kernelspec": {
   "display_name": "Python 3 (ipykernel)",
   "language": "python",
   "name": "python3"
  },
  "language_info": {
   "codemirror_mode": {
    "name": "ipython",
    "version": 3
   },
   "file_extension": ".py",
   "mimetype": "text/x-python",
   "name": "python",
   "nbconvert_exporter": "python",
   "pygments_lexer": "ipython3",
   "version": "3.7.12"
  }
 },
 "nbformat": 4,
 "nbformat_minor": 5
}
