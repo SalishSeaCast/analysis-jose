{
 "cells": [
  {
   "cell_type": "markdown",
   "id": "3249b069-318c-46cf-a0ab-422a39d81733",
   "metadata": {},
   "source": [
    "# **Template OP on salish**"
   ]
  },
  {
   "cell_type": "code",
   "execution_count": 22,
   "id": "7b3cacf0-e987-4dcc-85ad-fa33f293ee98",
   "metadata": {},
   "outputs": [],
   "source": [
    "%matplotlib inline\n",
    "\n",
    "import sys\n",
    "import xarray as xr\n",
    "import numpy as np\n",
    "import os\n",
    "import math\n",
    "from datetime import datetime, timedelta\n",
    "from parcels import FieldSet, Field, VectorField, ParticleSet, JITParticle, ErrorCode, ParcelsRandom\n",
    "\n",
    "sys.path.append('/home/jvalenti/MOAD/analysis-jose/notebooks/parcels')\n",
    "from Kernels_beaching import DeleteParticle, Buoyancy, AdvectionRK4_3D, Stokes_drift, Beaching, Unbeaching\n",
    "from OP_functions_beaching import *"
   ]
  },
  {
   "cell_type": "markdown",
   "id": "b10e0ace",
   "metadata": {},
   "source": []
  },
  {
   "cell_type": "code",
   "execution_count": 23,
   "id": "941b8dd3-eebb-4149-af84-781e66652a11",
   "metadata": {},
   "outputs": [],
   "source": [
    "# Define paths\n",
    "local = 0 #Set to 0 when working on server\n",
    "paths = path(local)"
   ]
  },
  {
   "cell_type": "code",
   "execution_count": 24,
   "id": "206d74b4",
   "metadata": {},
   "outputs": [],
   "source": [
    "Dat=xr.open_dataset(get_WW3_path(datetime(2018, 12, 23)))\n",
    "path_NEMO = make_prefix(datetime(2018, 12, 23), paths['NEMO'])\n",
    "Dat0=xr.open_dataset(path_NEMO + '_grid_W.nc')\n",
    "Dat=xr.open_dataset(path_NEMO + '_grid_T.nc')\n",
    "coord=xr.open_dataset(paths['coords'],decode_times=False)\n",
    "WW3 = xr.open_dataset(get_WW3_path(datetime(2018, 12, 23)))\n",
    "batt=xr.open_dataset(paths['mask'],decode_times=False)"
   ]
  },
  {
   "cell_type": "markdown",
   "id": "879cd801",
   "metadata": {},
   "source": [
    "## Define and save mask for distance to coast"
   ]
  },
  {
   "cell_type": "code",
   "execution_count": 25,
   "id": "ddc0cb65",
   "metadata": {},
   "outputs": [],
   "source": [
    "# def maskcoast():\n",
    "#     maskd=np.zeros(batt.mbathy.shape)\n",
    "#     for ilat in range(baty.shape[0]):\n",
    "#         for jlon in range(baty.shape[1]):\n",
    "#             if baty[ilat,jlon]>0:\n",
    "#                 if baty[ilat+1,jlon] == 0 or baty[ilat+1,jlon+1] == 0  \\\n",
    "#                  or baty[ilat+1,jlon-1] == 0 or baty[ilat,jlon] == 0   \\\n",
    "#                  or baty[ilat,jlon+1] == 0 or baty[ilat,jlon-1] == 0   \\\n",
    "#                  or baty[ilat-1,jlon] == 0 or baty[ilat-1,jlon+1] == 0 or baty[ilat-1,jlon-1] == 0:\n",
    "#                     maskd[0,ilat,jlon] = 1\n",
    "#     return maskd\n",
    "\n",
    "# baty = batt.mbathy[0,:,:]\n",
    "# maskd=maskcoast()\n",
    "\n",
    "# def maskcoast2(maskd):\n",
    "#     maskd2=np.zeros(batt.mbathy.shape)\n",
    "#     Ilat=np.where(maskd[0,:,:]==1)[0]\n",
    "#     Jlon=np.where(maskd[0,:,:]==1)[1]\n",
    "#     for i in range(len(np.where(maskd[0,:,:]==1)[0])):\n",
    "#         ilat=Ilat[i]\n",
    "#         jlon=Jlon[i]\n",
    "#         maskd2[0,ilat,jlon]=1\n",
    "#         #if ilat<baty.shape[0] or jlon<baty.shape[1]:\n",
    "        \n",
    "#     return maskd2 \n",
    "# maskd2=maskcoast2(maskd)\n",
    "# dist=xr.DataArray(attrs={'Distc':maskd2})\n",
    "# batt['Distc']=(batt.mbathy.dims,maskd)\n",
    "# batt.to_netcdf(path='/ocean/jvalenti/MOAD/grid/mesh_maskd2T201702.nc')"
   ]
  },
  {
   "cell_type": "code",
   "execution_count": 26,
   "id": "10b6fba7",
   "metadata": {},
   "outputs": [],
   "source": [
    "#clat,clon = p_unidist(coord.gphif[0,:,:],coord.glamf[0,:,:],batt.mbathy[0,:,:],10,10)\n",
    "with open('clat2.txt') as f:\n",
    "    clat = f.read()\n",
    "    clat= clat[1:-1]\n",
    "    clat0 = clat.split(\",\")\n",
    "    f.close()\n",
    "with open('clon2.txt') as f:\n",
    "    clon = f.read()\n",
    "    clon=clon[1:-1]\n",
    "    clon0 = clon.split(\",\")\n",
    "    f.close()\n",
    "    \n",
    "clat,clon=[],[]\n",
    "for i in range(len(clat0)):\n",
    "    clat.append(float(clat0[i]))\n",
    "    clon.append(float(clon0[i]))"
   ]
  },
  {
   "cell_type": "markdown",
   "id": "97c4bf2f-db05-4d5f-b4bb-bdaad6578599",
   "metadata": {},
   "source": [
    "## Definitions"
   ]
  },
  {
   "cell_type": "code",
   "execution_count": 27,
   "id": "28a99025-a33d-4d66-9e39-aab453f279b2",
   "metadata": {},
   "outputs": [],
   "source": [
    "start = datetime(2018, 10, 1) #Start date\n",
    "# Set Time length [days] and timestep [seconds]\n",
    "length = 15\n",
    "duration = timedelta(days=length)\n",
    "dt = 90 #toggle between - or + to pick backwards or forwards\n",
    "N = len(clat) # number of deploying locations\n",
    "n = 1 # 1000   # number of particles per location\n",
    "dmin = list(np.zeros(len(clat))) #minimum depth\n",
    "dd = 5 #max depth difference from dmin\n",
    "x_offset, y_offset, zvals = p_deploy(N,n,dmin,dd)"
   ]
  },
  {
   "cell_type": "code",
   "execution_count": 28,
   "id": "c87107ce",
   "metadata": {},
   "outputs": [],
   "source": [
    "from parcels import Variable\n",
    "\n",
    "class MPParticle(JITParticle):        \n",
    "    ro = Variable('ro', initial = 1025)           \n",
    "    diameter = Variable('diameter', initial = 1.6e-5)\n",
    "    length = Variable('length', initial = 61e-5)\n",
    "    Lb = Variable('Lb', initial = 0.5)  #days needed in days for particle to have 67% probability of beaching if in beaching zone (500m)\n",
    "    Db = Variable('Db', initial = 500) #Distance at which particles can randomly beach.\n",
    "    Ub = Variable('Ub', initial = 69)  #days to have 67% probability of unbeaching\n",
    "    sediment = Variable('sediment', initial = 0)\n",
    "    beached = Variable('beached', initial = 0)\n"
   ]
  },
  {
   "cell_type": "code",
   "execution_count": 29,
   "id": "2ceb066c-22eb-4ef5-abe1-dc051ad4cc7c",
   "metadata": {},
   "outputs": [],
   "source": [
    "lon = np.zeros([N,n])\n",
    "lat = np.zeros([N,n])\n",
    "for i in range(N):\n",
    "    lon[i,:]=(clon[i] + x_offset[i,:])\n",
    "    lat[i,:]=(clat[i] + y_offset[i,:])\n",
    "z = zvals"
   ]
  },
  {
   "cell_type": "code",
   "execution_count": 30,
   "id": "92d6511f-3d0c-4a98-ad32-0d4cb970a2da",
   "metadata": {},
   "outputs": [
    {
     "name": "stdout",
     "output_type": "stream",
     "text": [
      "/home/jvalenti/MOAD/results/Beaching-Unbeaching20181001_1n_20181016_1n.nc\n"
     ]
    }
   ],
   "source": [
    "#Set start date time and the name of the output file\n",
    "name = 'Beaching-Unbeaching' #name output file\n",
    "daterange = [start+timedelta(days=i) for i in range(length)]\n",
    "fn =  name + '_'.join(d.strftime('%Y%m%d')+'_1n' for d in [start, start+duration]) + '.nc'\n",
    "outfile = os.path.join(paths['out'], fn)\n",
    "print(outfile)"
   ]
  },
  {
   "cell_type": "markdown",
   "id": "0c4e63f2-3fb8-4526-b45a-ce5644646287",
   "metadata": {},
   "source": [
    "## Simulation"
   ]
  },
  {
   "cell_type": "code",
   "execution_count": 31,
   "id": "922eb3dc-e34d-4102-b1d4-4df9de8b2f06",
   "metadata": {},
   "outputs": [],
   "source": [
    "#Fill in the list of variables that you want to use as fields\n",
    "varlist=['U','V','W','R']\n",
    "filenames,variables,dimensions=filename_set(start,length,varlist,local)\n",
    "field_set=FieldSet.from_nemo(filenames, variables, dimensions, allow_time_extrapolation=True)\n",
    "\n",
    "varlist=['US','VS','WL']\n",
    "filenames,variables,dimensions=filename_set(start,length,varlist,local)\n",
    "\n",
    "us = Field.from_netcdf(filenames['US'], variables['US'], dimensions,allow_time_extrapolation=True)\n",
    "vs = Field.from_netcdf(filenames['VS'], variables['VS'], dimensions,allow_time_extrapolation=True)\n",
    "wl = Field.from_netcdf(filenames['WL'], variables['WL'], dimensions,allow_time_extrapolation=True)\n",
    "field_set.add_field(us)\n",
    "field_set.add_field(vs)\n",
    "field_set.add_field(wl)\n",
    "field_set.add_vector_field(VectorField(\"stokes\", us, vs, wl))\n",
    "\n",
    "filenames,variables,dimensions=filename_set(start,length,['Bathy'],local)\n",
    "Bth = Field.from_netcdf(filenames['Bathy'], variables['Bathy'], dimensions,allow_time_extrapolation=True)\n",
    "field_set.add_field(Bth)\n",
    "\n",
    "# filenames,variables,dimensions=filename_set(start,length,['D'],local)\n",
    "# Distc = Field.from_netcdf(filenames['D'], variables['D'], dimensions,allow_time_extrapolation=True)\n",
    "# field_set.add_field(Distc)"
   ]
  },
  {
   "cell_type": "code",
   "execution_count": 32,
   "id": "53f87621-a497-4575-85ba-18ec93118e44",
   "metadata": {},
   "outputs": [
    {
     "name": "stderr",
     "output_type": "stream",
     "text": [
      "INFO: Compiled ArrayMPParticleAdvectionRK4_3DBuoyancyStokes_driftBeachingUnbeaching ==> /tmp/parcels-2894/libc8297f3171c38ce79338f5d35326efb4_0.so\n"
     ]
    },
    {
     "name": "stdout",
     "output_type": "stream",
     "text": [
      "Particle 4159 lost !! [5400.0, 0.21652662983605853, 50.435430504087485, -126.00474468878866]\n",
      "Particle 4165 lost !! [5400.0, 2.8516195480083035, 50.43368866857462, -126.01979520182309]\n",
      "Particle 4179 lost !! [5400.0, 4.426350744978428, 50.449033058851455, -126.06029723279072]\n",
      "Particle 4180 lost !! [5400.0, 2.7238824629185574, 50.456305624467056, -126.03003669699652]\n",
      "Particle 4181 lost !! [5400.0, 1.2095119702084833, 50.47720427898417, -126.00517701153844]\n",
      "Particle 4188 lost !! [5400.0, 0.966754332270075, 50.46505853471198, -126.10209472818431]\n",
      "Particle 4189 lost !! [5400.0, 0.16337265691026726, 50.47715287607765, -126.07699748298467]\n",
      "Particle 4196 lost !! [5400.0, 1.9656032892383162, 50.47903637387752, -126.15350291324675]\n",
      "Particle 4197 lost !! [5400.0, 2.63159104079387, 50.47554804940279, -126.12062493713509]\n",
      "Particle 4198 lost !! [5400.0, 0.5640291533653519, 50.490084176545814, -126.09274658327396]\n"
     ]
    },
    {
     "name": "stderr",
     "output_type": "stream",
     "text": [
      "INFO: Temporary output files are stored in /home/jvalenti/MOAD/results/out-GKFJSYCJ.\n",
      "INFO: You can use \"parcels_convert_npydir_to_netcdf /home/jvalenti/MOAD/results/out-GKFJSYCJ\" to convert these to a NetCDF file during the run.\n",
      "  0% (7200.0 of 1296000.0) |             | Elapsed Time: 0:00:00 ETA:   0:02:24"
     ]
    },
    {
     "name": "stdout",
     "output_type": "stream",
     "text": [
      "Correct cell not found for (-124.708545, 48.412230) after 1000000 iterations\n",
      "Debug info: old particle indices: (yi, xi) 393 0\n",
      "            new particle indices: (yi, xi) 393 42\n",
      "            Mesh 2d shape:  898 398\n",
      "            Relative particle position:  (xsi, eta) -4.3246082346986675e+01 7.6507800078162114e-01\n",
      "Correct cell not found for (-124.814443, 48.539778) after 1000000 iterations\n",
      "Debug info: old particle indices: (yi, xi) 425 0\n",
      "            new particle indices: (yi, xi) 425 42\n",
      "            Mesh 2d shape:  898 398\n",
      "            Relative particle position:  (xsi, eta) -4.3049264933242441e+01 6.9683556969353544e-01\n",
      "Particle 2499 lost !! [13770.0, 12.561517754101184, 48.413571882407744, -124.70186811802793]\n",
      "Particle 2648 lost !! [12690.0, 2.8039972522967, 48.53821288209606, -124.80859332250974]\n"
     ]
    },
    {
     "name": "stderr",
     "output_type": "stream",
     "text": [
      "  0% (9000.0 of 1296000.0) |             | Elapsed Time: 0:00:06 ETA:   1:03:21"
     ]
    },
    {
     "name": "stdout",
     "output_type": "stream",
     "text": [
      "Correct cell not found for (-124.700984, 48.403815) after 1000000 iterations\n",
      "Debug info: old particle indices: (yi, xi) 391 0\n",
      "            new particle indices: (yi, xi) 391 42\n",
      "            Mesh 2d shape:  898 398\n",
      "            Relative particle position:  (xsi, eta) -4.3143844566466548e+01 5.9788529614208719e-01\n",
      "Correct cell not found for (-124.851385, 48.582778) after 1000000 iterations\n",
      "Debug info: old particle indices: (yi, xi) 436 1\n",
      "            new particle indices: (yi, xi) 436 43\n",
      "            Mesh 2d shape:  898 398\n",
      "            Relative particle position:  (xsi, eta) -4.4191918400264441e+01 5.7952737386579756e-01\n",
      "Correct cell not found for (-124.854440, 48.585280) after 1000000 iterations\n",
      "Debug info: old particle indices: (yi, xi) 436 0\n",
      "            new particle indices: (yi, xi) 437 42\n",
      "            Mesh 2d shape:  898 398\n",
      "            Relative particle position:  (xsi, eta) -4.3326575700402607e+01 2.6938867612615802e-01\n",
      "Particle 2466 lost !! [15660.0, 2.705611230833546, 48.40529358105091, -124.69494763661291]\n",
      "Particle 2675 lost !! [14400.0, 1.6299600328765886, 48.585474153452616, -124.84467840017616]\n",
      "Particle 2703 lost !! [14490.0, 3.583897232591025, 48.58511914411772, -124.84876046344893]\n",
      "Particle 4166 lost !! [15480.0, 8.39835531790443, 50.44449397074673, -125.9999608896201]\n"
     ]
    },
    {
     "name": "stderr",
     "output_type": "stream",
     "text": [
      "  0% (10800.0 of 1296000.0) |            | Elapsed Time: 0:00:07 ETA:   0:39:30"
     ]
    },
    {
     "name": "stdout",
     "output_type": "stream",
     "text": [
      "Correct cell not found for (-124.820827, 48.547671) after 1000000 iterations\n",
      "Debug info: old particle indices: (yi, xi) 428 1\n",
      "            new particle indices: (yi, xi) 427 43\n",
      "            Mesh 2d shape:  898 398\n",
      "            Relative particle position:  (xsi, eta) -4.4051689785000697e+01 6.7255618814933060e-01\n",
      "Correct cell not found for (-124.882954, 48.620117) after 1000000 iterations\n",
      "Debug info: old particle indices: (yi, xi) 445 0\n",
      "            new particle indices: (yi, xi) 445 42\n",
      "            Mesh 2d shape:  898 398\n",
      "            Relative particle position:  (xsi, eta) -4.3197948322545734e+01 9.7929279241813494e-01\n",
      "Particle 2613 lost !! [16650.0, 0.7484043460629619, 48.5513524125206, -124.81459825696307]\n",
      "Particle 2727 lost !! [17370.0, 2.67949576179214, 48.62166294626202, -124.87604388534602]\n"
     ]
    },
    {
     "name": "stderr",
     "output_type": "stream",
     "text": [
      "  0% (12600.0 of 1296000.0) |            | Elapsed Time: 0:00:12 ETA:   1:02:06"
     ]
    },
    {
     "name": "stdout",
     "output_type": "stream",
     "text": [
      "Correct cell not found for (-124.846607, 48.577916) after 1000000 iterations\n",
      "Debug info: old particle indices: (yi, xi) 435 1\n",
      "            new particle indices: (yi, xi) 435 43\n",
      "            Mesh 2d shape:  898 398\n",
      "            Relative particle position:  (xsi, eta) -4.4108256628216587e+01 3.3781416236475736e-01\n",
      "Correct cell not found for (-124.921999, 48.665971) after 1000000 iterations\n",
      "Debug info: old particle indices: (yi, xi) 457 0\n",
      "            new particle indices: (yi, xi) 457 42\n",
      "            Mesh 2d shape:  898 398\n",
      "            Relative particle position:  (xsi, eta) -4.3276671409676005e+01 5.4594316400631449e-01\n",
      "Particle 2649 lost !! [18270.0, 3.030556567257344, 48.581599042423704, -124.84006255012416]\n",
      "Particle 2849 lost !! [19350.0, 14.95746534144958, 48.66959966583832, -124.91749349516557]\n"
     ]
    },
    {
     "name": "stderr",
     "output_type": "stream",
     "text": [
      "  1% (14400.0 of 1296000.0) |            | Elapsed Time: 0:00:13 ETA:   0:38:28"
     ]
    },
    {
     "name": "stdout",
     "output_type": "stream",
     "text": [
      "Correct cell not found for (-124.701967, 48.404692) after 1000000 iterations\n",
      "Debug info: old particle indices: (yi, xi) 392 1\n",
      "            new particle indices: (yi, xi) 391 43\n",
      "            Mesh 2d shape:  898 398\n",
      "            Relative particle position:  (xsi, eta) -4.4209706989491906e+01 8.5080075505576291e-01\n",
      "Correct cell not found for (-124.709971, 48.415209) after 1000000 iterations\n",
      "Debug info: old particle indices: (yi, xi) 394 0\n",
      "            new particle indices: (yi, xi) 394 42\n",
      "            Mesh 2d shape:  898 398\n",
      "            Relative particle position:  (xsi, eta) -4.3076798859734630e+01 4.1395673688630041e-01\n",
      "Correct cell not found for (-124.713821, 48.417380) after 1000000 iterations\n",
      "Debug info: old particle indices: (yi, xi) 395 0\n",
      "            new particle indices: (yi, xi) 395 42\n",
      "            Mesh 2d shape:  898 398\n",
      "            Relative particle position:  (xsi, eta) -4.3359830363543082e+01 7.6950072364157698e-02\n",
      "Correct cell not found for (-124.804640, 48.526947) after 1000000 iterations\n",
      "Debug info: old particle indices: (yi, xi) 422 1\n",
      "            new particle indices: (yi, xi) 422 43\n",
      "            Mesh 2d shape:  898 398\n",
      "            Relative particle position:  (xsi, eta) -4.4212875321204223e+01 5.6253825095697985e-01\n",
      "Correct cell not found for (-124.826422, 48.550248) after 1000000 iterations\n",
      "Debug info: old particle indices: (yi, xi) 428 0\n",
      "            new particle indices: (yi, xi) 428 42\n",
      "            Mesh 2d shape:  898 398\n",
      "            Relative particle position:  (xsi, eta) -4.3514180734665047e+01 5.6197689489079850e-01\n",
      "Correct cell not found for (-124.840527, 48.570541) after 1000000 iterations\n",
      "Debug info: old particle indices: (yi, xi) 433 0\n",
      "            new particle indices: (yi, xi) 433 42\n",
      "            Mesh 2d shape:  898 398\n",
      "            Relative particle position:  (xsi, eta) -4.3119880541928005e+01 4.4194132955907173e-01\n",
      "Correct cell not found for (-124.871309, 48.606237) after 1000000 iterations\n",
      "Debug info: old particle indices: (yi, xi) 442 1\n",
      "            new particle indices: (yi, xi) 442 43\n",
      "            Mesh 2d shape:  898 398\n",
      "            Relative particle position:  (xsi, eta) -4.4204130480558220e+01 4.8259064071341351e-01\n",
      "Particle 2433 lost !! [19980.0, 4.234731038409867, 48.40865831713597, -124.69601631075932]\n",
      "Particle 2467 lost !! [21510.0, 3.5273821999486774, 48.41755300146579, -124.70861500404546]\n",
      "Particle 2500 lost !! [20790.0, 7.740178802195824, 48.42162095371359, -124.71048232377713]\n",
      "Particle 2583 lost !! [20430.0, 3.5716180721476953, 48.52968831917009, -124.79750338554656]\n",
      "Particle 2584 lost !! [20340.0, 5.0781576277535985, 48.552468536066314, -124.82034248566868]\n",
      "Particle 2614 lost !! [20160.0, 2.978213333274431, 48.57210405025222, -124.83435133538917]\n",
      "Particle 2676 lost !! [20340.0, 2.1570968478206787, 48.60977470819308, -124.8645694917013]\n",
      "Particle 4145 lost !! [20790.0, 0.17139324549917356, 50.430292833113825, -125.99911446482966]\n",
      "Particle 4154 lost !! [20880.0, 13.281596657200213, 50.43253957443707, -125.99946966649374]\n",
      "Particle 4160 lost !! [21330.0, 23.751214024041314, 50.429917646834916, -125.9997464858056]\n"
     ]
    },
    {
     "name": "stderr",
     "output_type": "stream",
     "text": [
      "  1% (16200.0 of 1296000.0) |            | Elapsed Time: 0:00:19 ETA:   1:03:46"
     ]
    },
    {
     "name": "stdout",
     "output_type": "stream",
     "text": [
      "Correct cell not found for (-122.703689, 47.114968) after 1000000 iterations\n",
      "Debug info: old particle indices: (yi, xi) 0 135\n",
      "            new particle indices: (yi, xi) 0 135\n",
      "            Mesh 2d shape:  898 398\n",
      "            Relative particle position:  (xsi, eta) 8.9617012005194718e-01 -6.3648048169635418e-01\n",
      "Correct cell not found for (-124.737381, 48.442688) after 1000000 iterations\n",
      "Debug info: old particle indices: (yi, xi) 402 0\n",
      "            new particle indices: (yi, xi) 401 42\n",
      "            Mesh 2d shape:  898 398\n",
      "            Relative particle position:  (xsi, eta) -4.3715109752180062e+01 6.4269456123061619e-01\n",
      "Correct cell not found for (-124.806503, 48.529125) after 1000000 iterations\n",
      "Debug info: old particle indices: (yi, xi) 423 0\n",
      "            new particle indices: (yi, xi) 423 42\n",
      "            Mesh 2d shape:  898 398\n",
      "            Relative particle position:  (xsi, eta) -4.3203597241216954e+01 8.7735601685338990e-02\n",
      "Correct cell not found for (-124.898982, 48.640202) after 1000000 iterations\n",
      "Debug info: old particle indices: (yi, xi) 451 0\n",
      "            new particle indices: (yi, xi) 450 42\n",
      "            Mesh 2d shape:  898 398\n",
      "            Relative particle position:  (xsi, eta) -4.3086586808844906e+01 -4.9072790804092076e-02\n",
      "Correct cell not found for (-124.916160, 48.659616) after 1000000 iterations\n",
      "Debug info: old particle indices: (yi, xi) 456 0\n",
      "            new particle indices: (yi, xi) 455 42\n",
      "            Mesh 2d shape:  898 398\n",
      "            Relative particle position:  (xsi, eta) -4.3234125690193970e+01 9.6339214680865981e-01\n",
      "Correct cell not found for (-124.922978, 48.664643) after 1000000 iterations\n",
      "Debug info: old particle indices: (yi, xi) 457 0\n",
      "            new particle indices: (yi, xi) 457 42\n",
      "            Mesh 2d shape:  898 398\n",
      "            Relative particle position:  (xsi, eta) -4.3584558705281545e+01 3.6079013330620568e-01\n",
      "Particle 843 lost !! [22410.0, 4.266499700002752, 47.119516875320976, -122.71061190394029]\n",
      "Particle 2531 lost !! [22680.0, 5.537949114256896, 48.44649931089408, -124.73136514740264]\n",
      "Particle 2558 lost !! [23310.0, 0.7334547763539394, 48.53239429854939, -124.8012964690104]\n",
      "Particle 2754 lost !! [21780.0, 9.256047920885102, 48.642321587969775, -124.89484895351775]\n",
      "Particle 2804 lost !! [23310.0, 4.1482725136744705, 48.66327605273256, -124.91141354303406]\n",
      "Particle 2826 lost !! [22680.0, 12.37200483921455, 48.665697186887435, -124.91626868545491]\n"
     ]
    },
    {
     "name": "stderr",
     "output_type": "stream",
     "text": [
      "  1% (18000.0 of 1296000.0) |            | Elapsed Time: 0:00:20 ETA:   0:40:39"
     ]
    },
    {
     "name": "stdout",
     "output_type": "stream",
     "text": [
      "Correct cell not found for (-124.735737, 48.440978) after 1000000 iterations\n",
      "Debug info: old particle indices: (yi, xi) 401 0\n",
      "            new particle indices: (yi, xi) 401 42\n",
      "            Mesh 2d shape:  898 398\n",
      "            Relative particle position:  (xsi, eta) -4.3671153939802977e+01 1.7080834487608065e-01\n",
      "Correct cell not found for (-124.766913, 48.475557) after 1000000 iterations\n",
      "Debug info: old particle indices: (yi, xi) 410 0\n",
      "            new particle indices: (yi, xi) 410 42\n",
      "            Mesh 2d shape:  898 398\n",
      "            Relative particle position:  (xsi, eta) -4.4025358715917690e+01 4.0690361813344171e-02\n",
      "Correct cell not found for (-124.777443, 48.489269) after 1000000 iterations\n",
      "Debug info: old particle indices: (yi, xi) 413 0\n",
      "            new particle indices: (yi, xi) 413 42\n",
      "            Mesh 2d shape:  898 398\n",
      "            Relative particle position:  (xsi, eta) -4.3859559223796211e+01 3.9543102306730671e-01\n",
      "Correct cell not found for (-124.814482, 48.538888) after 1000000 iterations\n",
      "Debug info: old particle indices: (yi, xi) 426 0\n",
      "            new particle indices: (yi, xi) 425 42\n",
      "            Mesh 2d shape:  898 398\n",
      "            Relative particle position:  (xsi, eta) -4.3164948576545449e+01 5.2894130834944297e-01\n",
      "Particle 2532 lost !! [24120.0, 3.2682477715585905, 48.4428917456699, -124.72923262009037]\n",
      "Particle 2533 lost !! [24840.0, 8.69797252999525, 48.478112692429406, -124.75984616911056]\n",
      "Particle 2557 lost !! [24210.0, 2.1718482804959938, 48.4930341651211, -124.77047639124442]\n",
      "Particle 2559 lost !! [24660.0, 6.521270091831109, 48.542496390775604, -124.81179859834674]\n",
      "Particle 4167 lost !! [23940.0, 4.906279511742253, 50.459447582398916, -125.99977719814154]\n"
     ]
    },
    {
     "name": "stderr",
     "output_type": "stream",
     "text": [
      "  1% (19800.0 of 1296000.0) |            | Elapsed Time: 0:00:26 ETA:   1:03:48"
     ]
    },
    {
     "name": "stdout",
     "output_type": "stream",
     "text": [
      "Correct cell not found for (-124.709181, 48.413005) after 1000000 iterations\n",
      "Debug info: old particle indices: (yi, xi) 393 0\n",
      "            new particle indices: (yi, xi) 393 42\n",
      "            Mesh 2d shape:  898 398\n",
      "            Relative particle position:  (xsi, eta) -4.3244050322351363e+01 9.5897637384604317e-01\n",
      "Correct cell not found for (-124.711805, 48.416015) after 1000000 iterations\n",
      "Debug info: old particle indices: (yi, xi) 394 0\n",
      "            new particle indices: (yi, xi) 394 42\n",
      "            Mesh 2d shape:  898 398\n",
      "            Relative particle position:  (xsi, eta) -4.3238898139395161e+01 6.8463053778015959e-01\n",
      "Correct cell not found for (-124.730882, 48.434051) after 1000000 iterations\n",
      "Debug info: old particle indices: (yi, xi) 399 0\n",
      "            new particle indices: (yi, xi) 399 42\n",
      "            Mesh 2d shape:  898 398\n",
      "            Relative particle position:  (xsi, eta) -4.3846907202845514e+01 5.2663653889949091e-01\n",
      "Correct cell not found for (-124.848894, 48.580613) after 1000000 iterations\n",
      "Debug info: old particle indices: (yi, xi) 435 0\n",
      "            new particle indices: (yi, xi) 435 42\n",
      "            Mesh 2d shape:  898 398\n",
      "            Relative particle position:  (xsi, eta) -4.3081992759893879e+01 -3.7708655456902510e-02\n",
      "Particle 2397 lost !! [25200.0, 0.5922703597847269, 48.414185107649764, -124.7023061752633]\n",
      "Particle 2434 lost !! [26550.0, 14.434371109510826, 48.418214808604596, -124.70575915632855]\n",
      "Particle 2501 lost !! [25200.0, 5.671956645964716, 48.43770567003659, -124.7241731229955]\n",
      "Particle 2585 lost !! [25200.0, 2.01993234755933, 48.58071030614339, -124.84377894387296]\n"
     ]
    },
    {
     "name": "stderr",
     "output_type": "stream",
     "text": [
      "  1% (21600.0 of 1296000.0) |            | Elapsed Time: 0:00:27 ETA:   0:40:15"
     ]
    },
    {
     "name": "stdout",
     "output_type": "stream",
     "text": [
      "Correct cell not found for (-124.714482, 48.419050) after 1000000 iterations\n",
      "Debug info: old particle indices: (yi, xi) 396 0\n",
      "            new particle indices: (yi, xi) 395 42\n",
      "            Mesh 2d shape:  898 398\n",
      "            Relative particle position:  (xsi, eta) -4.3261983052765494e+01 4.6597753929882851e-01\n",
      "Correct cell not found for (-124.761835, 48.476636) after 1000000 iterations\n",
      "Debug info: old particle indices: (yi, xi) 409 0\n",
      "            new particle indices: (yi, xi) 409 42\n",
      "            Mesh 2d shape:  898 398\n",
      "            Relative particle position:  (xsi, eta) -4.3143144230806307e+01 8.8090234756963792e-01\n",
      "Correct cell not found for (-124.808804, 48.532235) after 1000000 iterations\n",
      "Debug info: old particle indices: (yi, xi) 424 0\n",
      "            new particle indices: (yi, xi) 423 42\n",
      "            Mesh 2d shape:  898 398\n",
      "            Relative particle position:  (xsi, eta) -4.3195301539420448e+01 8.6780766203541693e-01\n",
      "Correct cell not found for (-124.880774, 48.617194) after 1000000 iterations\n",
      "Debug info: old particle indices: (yi, xi) 445 0\n",
      "            new particle indices: (yi, xi) 445 42\n",
      "            Mesh 2d shape:  898 398\n",
      "            Relative particle position:  (xsi, eta) -4.3254828668722752e+01 2.3874693920984164e-01\n",
      "Particle 2398 lost !! [27990.0, 2.1390230052068455, 48.42331149055943, -124.71212030139932]\n",
      "Particle 2469 lost !! [27990.0, 1.9223394350427359, 48.47591610015935, -124.75732998616182]\n",
      "Particle 2534 lost !! [28440.0, 5.763108727788504, 48.53571048661118, -124.80466237891044]\n",
      "Particle 2650 lost !! [27810.0, 3.7217300128672055, 48.618294487095504, -124.87415036973371]\n",
      "Particle 4139 lost !! [27900.0, 67.25426965689056, 50.42820808770895, -125.99954921168589]\n",
      "Particle 4148 lost !! [27360.0, 34.1078068436632, 50.43635265719578, -125.9998337702094]\n"
     ]
    },
    {
     "name": "stderr",
     "output_type": "stream",
     "text": [
      "  1% (23400.0 of 1296000.0) |            | Elapsed Time: 0:00:32 ETA:   0:54:02"
     ]
    },
    {
     "name": "stdout",
     "output_type": "stream",
     "text": [
      "Correct cell not found for (-124.843692, 48.574454) after 1000000 iterations\n",
      "Debug info: old particle indices: (yi, xi) 434 0\n",
      "            new particle indices: (yi, xi) 434 42\n",
      "            Mesh 2d shape:  898 398\n",
      "            Relative particle position:  (xsi, eta) -4.3107684959475584e+01 4.2238990384766323e-01\n",
      "Particle 2560 lost !! [30150.0, 2.785488726809161, 48.5763013872416, -124.8399662783972]\n"
     ]
    },
    {
     "name": "stderr",
     "output_type": "stream",
     "text": [
      "  1% (25200.0 of 1296000.0) |            | Elapsed Time: 0:00:33 ETA:   0:34:18"
     ]
    },
    {
     "name": "stdout",
     "output_type": "stream",
     "text": [
      "Correct cell not found for (-122.717332, 47.112571) after 1000000 iterations\n",
      "Debug info: old particle indices: (yi, xi) 0 133\n",
      "            new particle indices: (yi, xi) 0 133\n",
      "            Mesh 2d shape:  898 398\n",
      "            Relative particle position:  (xsi, eta) 6.1897265972483406e-01 -1.6381032660934100e-01\n",
      "Correct cell not found for (-124.725070, 48.431537) after 1000000 iterations\n",
      "Debug info: old particle indices: (yi, xi) 399 0\n",
      "            new particle indices: (yi, xi) 398 42\n",
      "            Mesh 2d shape:  898 398\n",
      "            Relative particle position:  (xsi, eta) -4.3274834273221558e+01 6.3631239564248743e-01\n",
      "Correct cell not found for (-124.792460, 48.513205) after 1000000 iterations\n",
      "Debug info: old particle indices: (yi, xi) 419 1\n",
      "            new particle indices: (yi, xi) 419 43\n",
      "            Mesh 2d shape:  898 398\n",
      "            Relative particle position:  (xsi, eta) -4.4086195186588199e+01 6.0274830805730067e-02\n",
      "Correct cell not found for (-124.810860, 48.530141) after 1000000 iterations\n",
      "Debug info: old particle indices: (yi, xi) 423 0\n",
      "            new particle indices: (yi, xi) 423 42\n",
      "            Mesh 2d shape:  898 398\n",
      "            Relative particle position:  (xsi, eta) -4.3742873740269303e+01 6.0741041377623328e-01\n",
      "Correct cell not found for (-124.831193, 48.558298) after 1000000 iterations\n",
      "Debug info: old particle indices: (yi, xi) 430 0\n",
      "            new particle indices: (yi, xi) 430 42\n",
      "            Mesh 2d shape:  898 398\n",
      "            Relative particle position:  (xsi, eta) -4.3289923190752191e+01 4.3884310884569799e-01\n",
      "Particle 842 lost !! [31590.0, 2.990456976431998, 47.115728002068266, -122.72154673357878]\n",
      "Particle 2468 lost !! [30780.0, 4.863967069913767, 48.43535924131644, -124.71996647259485]\n",
      "Particle 2470 lost !! [31500.0, 7.831380201443594, 48.51720345143213, -124.78599126147795]\n",
      "Particle 2502 lost !! [30870.0, 1.0539990795863805, 48.53366996909044, -124.80403339678304]\n",
      "Particle 2535 lost !! [32040.0, 5.475953005382136, 48.56162170284645, -124.82658559314345]\n",
      "Particle 4147 lost !! [31860.0, 68.54618067003466, 50.44576814508533, -125.99983030958678]\n",
      "Particle 4168 lost !! [32040.0, 3.100499178560259, 50.45745999701494, -125.99982241522495]\n"
     ]
    },
    {
     "name": "stderr",
     "output_type": "stream",
     "text": [
      "  2% (27000.0 of 1296000.0) |            | Elapsed Time: 0:00:38 ETA:   0:53:43"
     ]
    },
    {
     "name": "stdout",
     "output_type": "stream",
     "text": [
      "Correct cell not found for (-124.786403, 48.504369) after 1000000 iterations\n",
      "Debug info: old particle indices: (yi, xi) 417 0\n",
      "            new particle indices: (yi, xi) 416 42\n",
      "            Mesh 2d shape:  898 398\n",
      "            Relative particle position:  (xsi, eta) -4.3289090468977868e+01 9.3312380567694142e-01\n",
      "Correct cell not found for (-124.752830, 48.465905) after 1000000 iterations\n",
      "Debug info: old particle indices: (yi, xi) 407 0\n",
      "            new particle indices: (yi, xi) 407 42\n",
      "            Mesh 2d shape:  898 398\n",
      "            Relative particle position:  (xsi, eta) -4.3109823551369686e+01 1.6327891607178818e-01\n",
      "Particle 2399 lost !! [32760.0, 3.1085963988046834, 48.506622226006655, -124.78008318364313]\n",
      "Particle 2435 lost !! [32400.0, 7.771610843305627, 48.466513175539795, -124.75012787195112]\n",
      "Particle 4140 lost !! [32760.0, 68.65788992020377, 50.42627937776892, -125.99974905166707]\n"
     ]
    },
    {
     "name": "stderr",
     "output_type": "stream",
     "text": [
      "  2% (28800.0 of 1296000.0) |            | Elapsed Time: 0:00:39 ETA:   0:33:39"
     ]
    },
    {
     "name": "stdout",
     "output_type": "stream",
     "text": [
      "Correct cell not found for (-122.715328, 47.113793) after 1000000 iterations\n",
      "Debug info: old particle indices: (yi, xi) 1 133\n",
      "            new particle indices: (yi, xi) 0 134\n",
      "            Mesh 2d shape:  898 398\n",
      "            Relative particle position:  (xsi, eta) 5.7650637260663051e-02 -6.2094804263957172e-02\n",
      "Correct cell not found for (-124.790588, 48.510664) after 1000000 iterations\n",
      "Debug info: old particle indices: (yi, xi) 419 0\n",
      "            new particle indices: (yi, xi) 418 42\n",
      "            Mesh 2d shape:  898 398\n",
      "            Relative particle position:  (xsi, eta) -4.3151730750122887e+01 4.3603889863027251e-01\n",
      "Correct cell not found for (-124.821979, 48.543612) after 1000000 iterations\n",
      "Debug info: old particle indices: (yi, xi) 427 0\n",
      "            new particle indices: (yi, xi) 426 42\n",
      "            Mesh 2d shape:  898 398\n",
      "            Relative particle position:  (xsi, eta) -4.3731058983716629e+01 9.9517903469276359e-01\n",
      "Particle 849 lost !! [34830.0, 3.4378310159694054, 47.11827240960931, -122.71980720054334]\n",
      "Particle 2436 lost !! [34650.0, 8.856663926555003, 48.51402360257929, -124.78856146815275]\n",
      "Particle 2503 lost !! [34650.0, 3.9055336394487252, 48.547500373887864, -124.81538621159052]\n"
     ]
    },
    {
     "name": "stderr",
     "output_type": "stream",
     "text": [
      "  2% (32400.0 of 1296000.0) |            | Elapsed Time: 0:00:43 ETA:   0:27:18"
     ]
    },
    {
     "name": "stdout",
     "output_type": "stream",
     "text": [
      "Correct cell not found for (-124.796296, 48.516125) after 1000000 iterations\n",
      "Debug info: old particle indices: (yi, xi) 420 0\n",
      "            new particle indices: (yi, xi) 419 42\n",
      "            Mesh 2d shape:  898 398\n",
      "            Relative particle position:  (xsi, eta) -4.3312409209647953e+01 8.6624952557114943e-01\n",
      "Correct cell not found for (-124.814069, 48.534962) after 1000000 iterations\n",
      "Debug info: old particle indices: (yi, xi) 425 0\n",
      "            new particle indices: (yi, xi) 424 42\n",
      "            Mesh 2d shape:  898 398\n",
      "            Relative particle position:  (xsi, eta) -4.3601105330058765e+01 7.5257134305769047e-01\n",
      "Particle 2437 lost !! [39420.0, 26.39031418162394, 48.519624003677585, -124.79065145971656]\n",
      "Particle 2471 lost !! [39510.0, 13.260389589044737, 48.5389828486572, -124.80788148111995]\n"
     ]
    },
    {
     "name": "stderr",
     "output_type": "stream",
     "text": [
      "  2% (37800.0 of 1296000.0) |            | Elapsed Time: 0:00:52 ETA:   0:41:07"
     ]
    },
    {
     "name": "stdout",
     "output_type": "stream",
     "text": [
      "Correct cell not found for (-124.787264, 48.506956) after 1000000 iterations\n",
      "Debug info: old particle indices: (yi, xi) 417 1\n",
      "            new particle indices: (yi, xi) 417 43\n",
      "            Mesh 2d shape:  898 398\n",
      "            Relative particle position:  (xsi, eta) -4.4161606945113924e+01 4.8289409826280827e-01\n",
      "Particle 2400 lost !! [44100.0, 69.14056413994327, 48.51029085619519, -124.78089329071476]\n"
     ]
    },
    {
     "name": "stderr",
     "output_type": "stream",
     "text": [
      "  3% (43200.0 of 1296000.0) |            | Elapsed Time: 0:00:57 ETA:   0:20:49"
     ]
    },
    {
     "name": "stdout",
     "output_type": "stream",
     "text": [
      "Correct cell not found for (-124.947086, 48.691005) after 1000000 iterations\n",
      "Debug info: old particle indices: (yi, xi) 464 0\n",
      "            new particle indices: (yi, xi) 464 42\n",
      "            Mesh 2d shape:  898 398\n",
      "            Relative particle position:  (xsi, eta) -4.3861679636930916e+01 1.4491775704185758e-01\n",
      "Particle 2779 lost !! [49140.0, 1.9221418201209564, 48.6940893591764, -124.94067114397866]\n"
     ]
    },
    {
     "name": "stderr",
     "output_type": "stream",
     "text": [
      "  4% (52200.0 of 1296000.0) |            | Elapsed Time: 0:01:08 ETA:   0:31:18"
     ]
    },
    {
     "name": "stdout",
     "output_type": "stream",
     "text": [
      "Correct cell not found for (-124.814174, 48.538924) after 1000000 iterations\n",
      "Debug info: old particle indices: (yi, xi) 425 1\n",
      "            new particle indices: (yi, xi) 425 43\n",
      "            Mesh 2d shape:  898 398\n",
      "            Relative particle position:  (xsi, eta) -4.4164693539599149e+01 5.3784479451886236e-01\n",
      "Particle 2505 lost !! [58860.0, 52.26832650683172, 48.542670579491144, -124.80914888883656]\n"
     ]
    },
    {
     "name": "stderr",
     "output_type": "stream",
     "text": [
      "  4% (54000.0 of 1296000.0) |            | Elapsed Time: 0:01:09 ETA:   0:22:30"
     ]
    },
    {
     "name": "stdout",
     "output_type": "stream",
     "text": [
      "Correct cell not found for (-124.796147, 48.516010) after 1000000 iterations\n",
      "Debug info: old particle indices: (yi, xi) 420 0\n",
      "            new particle indices: (yi, xi) 419 42\n",
      "            Mesh 2d shape:  898 398\n",
      "            Relative particle position:  (xsi, eta) -4.3306338771658922e+01 8.3436578626409630e-01\n",
      "Correct cell not found for (-124.800985, 48.520502) after 1000000 iterations\n",
      "Debug info: old particle indices: (yi, xi) 421 0\n",
      "            new particle indices: (yi, xi) 421 42\n",
      "            Mesh 2d shape:  898 398\n",
      "            Relative particle position:  (xsi, eta) -4.3503316852787009e+01 6.1662139255716286e-02\n",
      "Correct cell not found for (-124.816304, 48.541678) after 1000000 iterations\n",
      "Debug info: old particle indices: (yi, xi) 426 1\n",
      "            new particle indices: (yi, xi) 426 43\n",
      "            Mesh 2d shape:  898 398\n",
      "            Relative particle position:  (xsi, eta) -4.4131115664584783e+01 2.0655932781743319e-01\n",
      "Correct cell not found for (-124.815866, 48.541742) after 1000000 iterations\n",
      "Debug info: old particle indices: (yi, xi) 426 1\n",
      "            new particle indices: (yi, xi) 426 43\n",
      "            Mesh 2d shape:  898 398\n",
      "            Relative particle position:  (xsi, eta) -4.4059282619383488e+01 1.8855556369684620e-01\n",
      "Particle 2401 lost !! [60030.0, 34.81069862835413, 48.519860711921055, -124.79195201543456]\n",
      "Particle 2402 lost !! [60660.0, 30.28887702230778, 48.524656252477506, -124.79500274124943]\n",
      "Particle 2504 lost !! [59670.0, 13.417730294754469, 48.54497431194404, -124.8106557164649]\n",
      "Particle 2536 lost !! [61020.0, 13.012386009728434, 48.54292342299683, -124.80914314058002]\n"
     ]
    },
    {
     "name": "stderr",
     "output_type": "stream",
     "text": [
      "  4% (55800.0 of 1296000.0) |            | Elapsed Time: 0:01:12 ETA:   0:37:40"
     ]
    },
    {
     "name": "stdout",
     "output_type": "stream",
     "text": [
      "Correct cell not found for (-124.830533, 48.553846) after 1000000 iterations\n",
      "Debug info: old particle indices: (yi, xi) 429 0\n",
      "            new particle indices: (yi, xi) 429 42\n",
      "            Mesh 2d shape:  898 398\n",
      "            Relative particle position:  (xsi, eta) -4.3711159721784753e+01 5.4181832723126244e-01\n",
      "Correct cell not found for (-124.825764, 48.549961) after 1000000 iterations\n",
      "Debug info: old particle indices: (yi, xi) 428 0\n",
      "            new particle indices: (yi, xi) 428 42\n",
      "            Mesh 2d shape:  898 398\n",
      "            Relative particle position:  (xsi, eta) -4.3453160003095263e+01 4.5983189552486159e-01\n",
      "Particle 2472 lost !! [62370.0, 18.159755504250136, 48.55815312431626, -124.82458094765818]\n",
      "Particle 2561 lost !! [61830.0, 22.134073961970188, 48.551221408803684, -124.82019044440032]\n"
     ]
    },
    {
     "name": "stderr",
     "output_type": "stream",
     "text": [
      "  4% (59400.0 of 1296000.0) |            | Elapsed Time: 0:01:16 ETA:   0:32:44"
     ]
    },
    {
     "name": "stdout",
     "output_type": "stream",
     "text": [
      "Correct cell not found for (-124.808773, 48.530257) after 1000000 iterations\n",
      "Debug info: old particle indices: (yi, xi) 423 0\n",
      "            new particle indices: (yi, xi) 423 42\n",
      "            Mesh 2d shape:  898 398\n",
      "            Relative particle position:  (xsi, eta) -4.3415931214564921e+01 4.7694652998308390e-01\n",
      "Particle 2617 lost !! [64800.0, 21.18834750564536, 48.53226945950373, -124.80195896767384]\n"
     ]
    },
    {
     "name": "stderr",
     "output_type": "stream",
     "text": [
      "  5% (64800.0 of 1296000.0) |            | Elapsed Time: 0:01:21 ETA:   0:20:54"
     ]
    },
    {
     "name": "stdout",
     "output_type": "stream",
     "text": [
      "Correct cell not found for (-124.806610, 48.526815) after 1000000 iterations\n",
      "Debug info: old particle indices: (yi, xi) 423 0\n",
      "            new particle indices: (yi, xi) 422 42\n",
      "            Mesh 2d shape:  898 398\n",
      "            Relative particle position:  (xsi, eta) -4.3516633615524022e+01 6.5884538831072526e-01\n",
      "Particle 2330 lost !! [71280.0, 9.125412864808652, 48.53056076716275, -124.80228833941159]\n"
     ]
    },
    {
     "name": "stderr",
     "output_type": "stream",
     "text": [
      "  5% (66600.0 of 1296000.0) |            | Elapsed Time: 0:01:24 ETA:   0:35:31"
     ]
    },
    {
     "name": "stdout",
     "output_type": "stream",
     "text": [
      "Correct cell not found for (-124.811808, 48.534803) after 1000000 iterations\n",
      "Debug info: old particle indices: (yi, xi) 423 0\n",
      "            new particle indices: (yi, xi) 424 42\n",
      "            Mesh 2d shape:  898 398\n",
      "            Relative particle position:  (xsi, eta) -4.3298212951548919e+01 5.6474614368832610e-01\n",
      "Particle 2329 lost !! [72270.0, 13.634268915249129, 48.53282081600144, -124.80577425328372]\n"
     ]
    },
    {
     "name": "stderr",
     "output_type": "stream",
     "text": [
      "  5% (68400.0 of 1296000.0) |            | Elapsed Time: 0:01:26 ETA:   0:24:34"
     ]
    },
    {
     "name": "stdout",
     "output_type": "stream",
     "text": [
      "Correct cell not found for (-124.827395, 48.553992) after 1000000 iterations\n",
      "Debug info: old particle indices: (yi, xi) 429 0\n",
      "            new particle indices: (yi, xi) 429 42\n",
      "            Mesh 2d shape:  898 398\n",
      "            Relative particle position:  (xsi, eta) -4.3218772915580750e+01 3.4674068234547567e-01\n",
      "Particle 2563 lost !! [75330.0, 0.18365778637031388, 48.555338547309795, -124.8208640017494]\n"
     ]
    },
    {
     "name": "stderr",
     "output_type": "stream",
     "text": [
      "  5% (70200.0 of 1296000.0) |            | Elapsed Time: 0:01:29 ETA:   0:38:55"
     ]
    },
    {
     "name": "stdout",
     "output_type": "stream",
     "text": [
      "Correct cell not found for (-124.840847, 48.569662) after 1000000 iterations\n",
      "Debug info: old particle indices: (yi, xi) 433 0\n",
      "            new particle indices: (yi, xi) 433 42\n",
      "            Mesh 2d shape:  898 398\n",
      "            Relative particle position:  (xsi, eta) -4.3267986925947952e+01 2.9275503075948039e-01\n",
      "Correct cell not found for (-124.859957, 48.593805) after 1000000 iterations\n",
      "Debug info: old particle indices: (yi, xi) 439 0\n",
      "            new particle indices: (yi, xi) 439 42\n",
      "            Mesh 2d shape:  898 398\n",
      "            Relative particle position:  (xsi, eta) -4.3075538409721858e+01 2.8534102139851436e-01\n",
      "Correct cell not found for (-124.849047, 48.579980) after 1000000 iterations\n",
      "Debug info: old particle indices: (yi, xi) 436 1\n",
      "            new particle indices: (yi, xi) 435 43\n",
      "            Mesh 2d shape:  898 398\n",
      "            Relative particle position:  (xsi, eta) -4.4211288641257774e+01 9.0836042007968198e-01\n",
      "Particle 2615 lost !! [77310.0, 9.567454068020952, 48.57297938952351, -124.83463384130458]\n",
      "Particle 2755 lost !! [76770.0, 5.009049329117184, 48.5960228088763, -124.85455731784538]\n",
      "Particle 2780 lost !! [76770.0, 7.006358097367346, 48.58372434377989, -124.84207235207944]\n"
     ]
    },
    {
     "name": "stderr",
     "output_type": "stream",
     "text": [
      "  5% (73800.0 of 1296000.0) |            | Elapsed Time: 0:01:33 ETA:   0:32:05"
     ]
    },
    {
     "name": "stdout",
     "output_type": "stream",
     "text": [
      "Correct cell not found for (-124.931812, 48.679365) after 1000000 iterations\n",
      "Debug info: old particle indices: (yi, xi) 461 0\n",
      "            new particle indices: (yi, xi) 460 42\n",
      "            Mesh 2d shape:  898 398\n",
      "            Relative particle position:  (xsi, eta) -4.3058661286449954e+01 8.2096973763358994e-01\n",
      "Particle 2728 lost !! [79650.0, 11.526695538713007, 48.68247225545635, -124.9298690114103]\n"
     ]
    },
    {
     "name": "stderr",
     "output_type": "stream",
     "text": [
      "  6% (79200.0 of 1296000.0) |            | Elapsed Time: 0:01:38 ETA:   0:20:02"
     ]
    },
    {
     "name": "stdout",
     "output_type": "stream",
     "text": [
      "Correct cell not found for (-124.845707, 48.574055) after 1000000 iterations\n",
      "Debug info: old particle indices: (yi, xi) 434 0\n",
      "            new particle indices: (yi, xi) 434 42\n",
      "            Mesh 2d shape:  898 398\n",
      "            Relative particle position:  (xsi, eta) -4.3449729728003511e+01 4.8845834797528087e-01\n",
      "Particle 2293 lost !! [84960.0, 1.3537186967907564, 48.57636098332217, -124.83898046424092]\n"
     ]
    },
    {
     "name": "stderr",
     "output_type": "stream",
     "text": [
      "  6% (81000.0 of 1296000.0) |            | Elapsed Time: 0:01:41 ETA:   0:35:49"
     ]
    },
    {
     "name": "stdout",
     "output_type": "stream",
     "text": [
      "Correct cell not found for (-124.940508, 48.687435) after 1000000 iterations\n",
      "Debug info: old particle indices: (yi, xi) 462 0\n",
      "            new particle indices: (yi, xi) 462 42\n",
      "            Mesh 2d shape:  898 398\n",
      "            Relative particle position:  (xsi, eta) -4.3335715884882084e+01 9.9321276152378712e-01\n",
      "Particle 2704 lost !! [87930.0, 7.541058460153754, 48.68829139349152, -124.93530306118114]\n"
     ]
    },
    {
     "name": "stderr",
     "output_type": "stream",
     "text": [
      "  6% (86400.0 of 1296000.0) |            | Elapsed Time: 0:01:46 ETA:   0:21:10"
     ]
    },
    {
     "name": "stdout",
     "output_type": "stream",
     "text": [
      "Correct cell not found for (-124.849832, 48.579903) after 1000000 iterations\n",
      "Debug info: old particle indices: (yi, xi) 435 0\n",
      "            new particle indices: (yi, xi) 435 42\n",
      "            Mesh 2d shape:  898 398\n",
      "            Relative particle position:  (xsi, eta) -4.3307331408784059e+01 8.9321338297868791e-01\n",
      "Particle 2292 lost !! [93060.0, 0.593556286662837, 48.58107661161735, -124.84333606228145]\n"
     ]
    },
    {
     "name": "stderr",
     "output_type": "stream",
     "text": [
      "  7% (93600.0 of 1296000.0) |            | Elapsed Time: 0:01:53 ETA:   0:19:07"
     ]
    },
    {
     "name": "stdout",
     "output_type": "stream",
     "text": [
      "Correct cell not found for (-124.865944, 48.601338) after 1000000 iterations\n",
      "Debug info: old particle indices: (yi, xi) 441 1\n",
      "            new particle indices: (yi, xi) 441 43\n",
      "            Mesh 2d shape:  898 398\n",
      "            Relative particle position:  (xsi, eta) -4.4022926406698780e+01 1.5855601704737129e-01\n",
      "Particle 2256 lost !! [100350.0, 7.902023064564564, 48.604440970404916, -124.86000487226333]\n"
     ]
    },
    {
     "name": "stderr",
     "output_type": "stream",
     "text": [
      "  7% (95400.0 of 1296000.0) |            | Elapsed Time: 0:01:56 ETA:   0:37:21"
     ]
    },
    {
     "name": "stdout",
     "output_type": "stream",
     "text": [
      "Correct cell not found for (-124.867441, 48.601050) after 1000000 iterations\n",
      "Debug info: old particle indices: (yi, xi) 441 1\n",
      "            new particle indices: (yi, xi) 441 43\n",
      "            Mesh 2d shape:  898 398\n",
      "            Relative particle position:  (xsi, eta) -4.4278003639244993e+01 2.1049178839184313e-01\n",
      "Correct cell not found for (-124.878684, 48.615600) after 1000000 iterations\n",
      "Debug info: old particle indices: (yi, xi) 444 0\n",
      "            new particle indices: (yi, xi) 444 42\n",
      "            Mesh 2d shape:  898 398\n",
      "            Relative particle position:  (xsi, eta) -4.3145683153569678e+01 7.8275325783110039e-01\n",
      "Correct cell not found for (-124.923107, 48.665438) after 1000000 iterations\n",
      "Debug info: old particle indices: (yi, xi) 458 0\n",
      "            new particle indices: (yi, xi) 457 42\n",
      "            Mesh 2d shape:  898 398\n",
      "            Relative particle position:  (xsi, eta) -4.3505165910316208e+01 5.2278481917036723e-01\n",
      "Particle 2257 lost !! [102330.0, 17.801603335399403, 48.60509658142971, -124.86086900688323]\n",
      "Particle 2538 lost !! [100890.0, 5.757110116574845, 48.61740182970357, -124.87320809519271]\n",
      "Particle 2805 lost !! [101520.0, 7.146637985634814, 48.66984248206062, -124.9190443235166]\n"
     ]
    },
    {
     "name": "stderr",
     "output_type": "stream",
     "text": [
      "  7% (97200.0 of 1296000.0) |            | Elapsed Time: 0:01:58 ETA:   0:25:25"
     ]
    },
    {
     "name": "stdout",
     "output_type": "stream",
     "text": [
      "Correct cell not found for (-124.849002, 48.579739) after 1000000 iterations\n",
      "Debug info: old particle indices: (yi, xi) 436 1\n",
      "            new particle indices: (yi, xi) 435 43\n",
      "            Mesh 2d shape:  898 398\n",
      "            Relative particle position:  (xsi, eta) -4.4234469863557536e+01 8.5883298861553548e-01\n",
      "Correct cell not found for (-124.843479, 48.573936) after 1000000 iterations\n",
      "Debug info: old particle indices: (yi, xi) 434 0\n",
      "            new particle indices: (yi, xi) 434 42\n",
      "            Mesh 2d shape:  898 398\n",
      "            Relative particle position:  (xsi, eta) -4.3145945085789826e+01 3.1049872593447125e-01\n",
      "Correct cell not found for (-124.886431, 48.624711) after 1000000 iterations\n",
      "Debug info: old particle indices: (yi, xi) 447 1\n",
      "            new particle indices: (yi, xi) 447 43\n",
      "            Mesh 2d shape:  898 398\n",
      "            Relative particle position:  (xsi, eta) -4.4139401505761455e+01 1.1064047456968472e-01\n",
      "Particle 2218 lost !! [103590.0, 2.1544263023338006, 48.58273536515683, -124.84266750000583]\n",
      "Particle 2291 lost !! [103590.0, 23.94119438597683, 48.57549803699333, -124.83705087867719]\n",
      "Particle 2439 lost !! [104220.0, 14.407187999243751, 48.628758594020134, -124.88120362689246]\n"
     ]
    },
    {
     "name": "stderr",
     "output_type": "stream",
     "text": [
      "  7% (99000.0 of 1296000.0) |            | Elapsed Time: 0:02:01 ETA:   0:35:54"
     ]
    },
    {
     "name": "stdout",
     "output_type": "stream",
     "text": [
      "Correct cell not found for (-124.904595, 48.646219) after 1000000 iterations\n",
      "Debug info: old particle indices: (yi, xi) 452 0\n",
      "            new particle indices: (yi, xi) 452 42\n",
      "            Mesh 2d shape:  898 398\n",
      "            Relative particle position:  (xsi, eta) -4.3165731260760786e+01 5.0759592055740110e-01\n",
      "Particle 2678 lost !! [106020.0, 8.323808288421443, 48.64904290932952, -124.90200834595846]\n"
     ]
    },
    {
     "name": "stderr",
     "output_type": "stream",
     "text": [
      "  7% (100800.0 of 1296000.0) |           | Elapsed Time: 0:02:02 ETA:   0:24:15"
     ]
    },
    {
     "name": "stdout",
     "output_type": "stream",
     "text": [
      "Correct cell not found for (-124.833313, 48.556470) after 1000000 iterations\n",
      "Debug info: old particle indices: (yi, xi) 430 0\n",
      "            new particle indices: (yi, xi) 430 42\n",
      "            Mesh 2d shape:  898 398\n",
      "            Relative particle position:  (xsi, eta) -4.3827405677897758e+01 2.4027732937372026e-01\n",
      "Correct cell not found for (-124.876391, 48.612606) after 1000000 iterations\n",
      "Debug info: old particle indices: (yi, xi) 444 0\n",
      "            new particle indices: (yi, xi) 444 42\n",
      "            Mesh 2d shape:  898 398\n",
      "            Relative particle position:  (xsi, eta) -4.3164629729439227e+01 6.6917195862087900e-02\n",
      "Correct cell not found for (-124.917357, 48.662351) after 1000000 iterations\n",
      "Debug info: old particle indices: (yi, xi) 456 1\n",
      "            new particle indices: (yi, xi) 456 43\n",
      "            Mesh 2d shape:  898 398\n",
      "            Relative particle position:  (xsi, eta) -4.4069225093585850e+01 5.3122126121322488e-01\n",
      "Particle 2254 lost !! [107820.0, 2.8402239052310154, 48.5607508032674, -124.82734335814132]\n",
      "Particle 2365 lost !! [107190.0, 31.681052417674593, 48.61478098502532, -124.87161990817395]\n",
      "Particle 2586 lost !! [107280.0, 10.014221617820507, 48.66695497582055, -124.91119405560737]\n"
     ]
    },
    {
     "name": "stderr",
     "output_type": "stream",
     "text": [
      "  7% (102600.0 of 1296000.0) |           | Elapsed Time: 0:02:06 ETA:   0:42:23"
     ]
    },
    {
     "name": "stdout",
     "output_type": "stream",
     "text": [
      "Correct cell not found for (-124.847596, 48.578444) after 1000000 iterations\n",
      "Debug info: old particle indices: (yi, xi) 435 0\n",
      "            new particle indices: (yi, xi) 435 42\n",
      "            Mesh 2d shape:  898 398\n",
      "            Relative particle position:  (xsi, eta) -4.3159592166582748e+01 4.5351870019691221e-01\n",
      "Correct cell not found for (-124.896092, 48.636496) after 1000000 iterations\n",
      "Debug info: old particle indices: (yi, xi) 450 0\n",
      "            new particle indices: (yi, xi) 450 42\n",
      "            Mesh 2d shape:  898 398\n",
      "            Relative particle position:  (xsi, eta) -4.3120954301642506e+01 3.2624593512628065e-02\n",
      "Correct cell not found for (-124.913129, 48.654971) after 1000000 iterations\n",
      "Debug info: old particle indices: (yi, xi) 454 0\n",
      "            new particle indices: (yi, xi) 454 42\n",
      "            Mesh 2d shape:  898 398\n",
      "            Relative particle position:  (xsi, eta) -4.3367177295924606e+01 8.4995971047335417e-01\n",
      "Particle 2183 lost !! [109350.0, 4.054277242917525, 48.580050815128004, -124.84141472562375]\n",
      "Particle 2366 lost !! [109710.0, 12.172758616678175, 48.6397208695272, -124.89502171809984]\n",
      "Particle 2705 lost !! [109710.0, 3.4400922592310264, 48.657497340135684, -124.90781300867651]\n"
     ]
    },
    {
     "name": "stderr",
     "output_type": "stream",
     "text": [
      "  8% (106200.0 of 1296000.0) |           | Elapsed Time: 0:02:10 ETA:   0:30:58"
     ]
    },
    {
     "name": "stdout",
     "output_type": "stream",
     "text": [
      "Correct cell not found for (-124.865909, 48.599631) after 1000000 iterations\n",
      "Debug info: old particle indices: (yi, xi) 441 1\n",
      "            new particle indices: (yi, xi) 440 43\n",
      "            Mesh 2d shape:  898 398\n",
      "            Relative particle position:  (xsi, eta) -4.4237043423555718e+01 8.3259285816322792e-01\n",
      "Particle 2107 lost !! [112140.0, 3.258054739414858, 48.603101649839196, -124.85867429150163]\n"
     ]
    },
    {
     "name": "stderr",
     "output_type": "stream",
     "text": [
      "  8% (108000.0 of 1296000.0) |           | Elapsed Time: 0:02:11 ETA:   0:22:22"
     ]
    },
    {
     "name": "stdout",
     "output_type": "stream",
     "text": [
      "Correct cell not found for (-124.794006, 48.509113) after 1000000 iterations\n",
      "Debug info: old particle indices: (yi, xi) 418 0\n",
      "            new particle indices: (yi, xi) 418 42\n",
      "            Mesh 2d shape:  898 398\n",
      "            Relative particle position:  (xsi, eta) -4.3841002752463226e+01 3.8438160436664909e-01\n",
      "Correct cell not found for (-124.885893, 48.624038) after 1000000 iterations\n",
      "Debug info: old particle indices: (yi, xi) 447 0\n",
      "            new particle indices: (yi, xi) 446 42\n",
      "            Mesh 2d shape:  898 398\n",
      "            Relative particle position:  (xsi, eta) -4.3191587134836830e+01 9.6627085192613726e-01\n",
      "Correct cell not found for (-124.880797, 48.613824) after 1000000 iterations\n",
      "Debug info: old particle indices: (yi, xi) 444 0\n",
      "            new particle indices: (yi, xi) 444 42\n",
      "            Mesh 2d shape:  898 398\n",
      "            Relative particle position:  (xsi, eta) -4.3671499561584170e+01 5.9855274619645182e-01\n",
      "Particle 2328 lost !! [114300.0, 93.97824003085628, 48.512345742507904, -124.78804173281952]\n",
      "Particle 2331 lost !! [113940.0, 10.602031989774966, 48.626493302606555, -124.88037121396341]\n",
      "Particle 2403 lost !! [113670.0, 8.335766500343897, 48.616491818720846, -124.87385381770238]\n"
     ]
    },
    {
     "name": "stderr",
     "output_type": "stream",
     "text": [
      "  8% (109800.0 of 1296000.0) |           | Elapsed Time: 0:02:15 ETA:   0:36:43"
     ]
    },
    {
     "name": "stdout",
     "output_type": "stream",
     "text": [
      "Correct cell not found for (-124.846204, 48.576833) after 1000000 iterations\n",
      "Debug info: old particle indices: (yi, xi) 435 0\n",
      "            new particle indices: (yi, xi) 435 42\n",
      "            Mesh 2d shape:  898 398\n",
      "            Relative particle position:  (xsi, eta) -4.3154464454022801e+01 4.4818997068823641e-02\n",
      "Correct cell not found for (-124.757850, 48.471429) after 1000000 iterations\n",
      "Debug info: old particle indices: (yi, xi) 408 0\n",
      "            new particle indices: (yi, xi) 408 42\n",
      "            Mesh 2d shape:  898 398\n",
      "            Relative particle position:  (xsi, eta) -4.3177522292843605e+01 5.8696774029533372e-01\n",
      "Particle 2108 lost !! [116550.0, 1.9534616318235896, 48.57916500071558, -124.84167153862104]\n",
      "Particle 2327 lost !! [116550.0, 19.709735978668746, 48.47332314559369, -124.75219414787823]\n"
     ]
    },
    {
     "name": "stderr",
     "output_type": "stream",
     "text": [
      "  8% (111600.0 of 1296000.0) |           | Elapsed Time: 0:02:16 ETA:   0:24:57"
     ]
    },
    {
     "name": "stdout",
     "output_type": "stream",
     "text": [
      "Correct cell not found for (-124.823034, 48.549510) after 1000000 iterations\n",
      "Debug info: old particle indices: (yi, xi) 428 0\n",
      "            new particle indices: (yi, xi) 428 42\n",
      "            Mesh 2d shape:  898 398\n",
      "            Relative particle position:  (xsi, eta) -4.3108627146288512e+01 1.7783716360458507e-01\n",
      "Correct cell not found for (-124.831569, 48.560150) after 1000000 iterations\n",
      "Debug info: old particle indices: (yi, xi) 430 0\n",
      "            new particle indices: (yi, xi) 430 42\n",
      "            Mesh 2d shape:  898 398\n",
      "            Relative particle position:  (xsi, eta) -4.3116118530744522e+01 8.2102835934014085e-01\n",
      "Correct cell not found for (-124.794846, 48.516117) after 1000000 iterations\n",
      "Debug info: old particle indices: (yi, xi) 419 0\n",
      "            new particle indices: (yi, xi) 419 42\n",
      "            Mesh 2d shape:  898 398\n",
      "            Relative particle position:  (xsi, eta) -4.3105804898585376e+01 7.6332263090376229e-01\n",
      "Correct cell not found for (-124.909744, 48.651600) after 1000000 iterations\n",
      "Debug info: old particle indices: (yi, xi) 454 0\n",
      "            new particle indices: (yi, xi) 453 42\n",
      "            Mesh 2d shape:  898 398\n",
      "            Relative particle position:  (xsi, eta) -4.3301955617596875e+01 9.3139814844177282e-01\n",
      "Correct cell not found for (-124.921258, 48.665901) after 1000000 iterations\n",
      "Debug info: old particle indices: (yi, xi) 457 0\n",
      "            new particle indices: (yi, xi) 457 42\n",
      "            Mesh 2d shape:  898 398\n",
      "            Relative particle position:  (xsi, eta) -4.3176551221706063e+01 4.7960743375176074e-01\n",
      "Particle 2216 lost !! [118260.0, 2.663538075000028, 48.55352321686929, -124.81987831782003]\n",
      "Particle 2217 lost !! [118080.0, 3.932515264936242, 48.55830360065052, -124.82451933835071]\n",
      "Particle 2364 lost !! [118710.0, 73.3115396606239, 48.51648413429423, -124.78903822303356]\n",
      "Particle 2588 lost !! [117990.0, 12.047262004727553, 48.6549920296512, -124.90525581737857]\n",
      "Particle 2651 lost !! [117810.0, 33.65409600879192, 48.66775215316719, -124.91644974726927]\n"
     ]
    },
    {
     "name": "stderr",
     "output_type": "stream",
     "text": [
      "  8% (113400.0 of 1296000.0) |           | Elapsed Time: 0:02:19 ETA:   0:38:32"
     ]
    },
    {
     "name": "stdout",
     "output_type": "stream",
     "text": [
      "Correct cell not found for (-124.858820, 48.592617) after 1000000 iterations\n",
      "Debug info: old particle indices: (yi, xi) 438 0\n",
      "            new particle indices: (yi, xi) 438 42\n",
      "            Mesh 2d shape:  898 398\n",
      "            Relative particle position:  (xsi, eta) -4.3055490610505551e+01 -2.4011255421797672e-02\n",
      "Correct cell not found for (-124.798773, 48.518517) after 1000000 iterations\n",
      "Debug info: old particle indices: (yi, xi) 420 1\n",
      "            new particle indices: (yi, xi) 420 43\n",
      "            Mesh 2d shape:  898 398\n",
      "            Relative particle position:  (xsi, eta) -4.4398283073973865e+01 5.1063710646091010e-01\n",
      "Correct cell not found for (-124.758979, 48.470224) after 1000000 iterations\n",
      "Debug info: old particle indices: (yi, xi) 408 0\n",
      "            new particle indices: (yi, xi) 408 42\n",
      "            Mesh 2d shape:  898 398\n",
      "            Relative particle position:  (xsi, eta) -4.3498654567494142e+01 4.4080882971324725e-01\n",
      "Correct cell not found for (-124.815206, 48.537031) after 1000000 iterations\n",
      "Debug info: old particle indices: (yi, xi) 425 0\n",
      "            new particle indices: (yi, xi) 425 42\n",
      "            Mesh 2d shape:  898 398\n",
      "            Relative particle position:  (xsi, eta) -4.3500505348471833e+01 2.2460770870415636e-01\n",
      "Correct cell not found for (-124.915632, 48.655021) after 1000000 iterations\n",
      "Debug info: old particle indices: (yi, xi) 455 0\n",
      "            new particle indices: (yi, xi) 455 42\n",
      "            Mesh 2d shape:  898 398\n",
      "            Relative particle position:  (xsi, eta) -4.3724468771386356e+01 1.0452720100358055e+00\n",
      "Particle 2109 lost !! [120240.0, 9.40850035228052, 48.59411990593382, -124.8530334421879]\n",
      "Particle 2143 lost !! [120060.0, 10.821487290915073, 48.52244841172479, -124.79203455432571]\n",
      "Particle 2182 lost !! [118800.0, 10.972701507355115, 48.473317034650925, -124.75180631675664]\n",
      "Particle 2362 lost !! [120330.0, 15.183920774972488, 48.54064330735563, -124.81299219435434]\n",
      "Particle 2618 lost !! [119520.0, 23.442636156459304, 48.65887504087225, -124.90917823613105]\n"
     ]
    },
    {
     "name": "stderr",
     "output_type": "stream",
     "text": [
      "  8% (115200.0 of 1296000.0) |           | Elapsed Time: 0:02:21 ETA:   0:26:30"
     ]
    },
    {
     "name": "stdout",
     "output_type": "stream",
     "text": [
      "Correct cell not found for (-124.729535, 48.438262) after 1000000 iterations\n",
      "Debug info: old particle indices: (yi, xi) 400 1\n",
      "            new particle indices: (yi, xi) 400 43\n",
      "            Mesh 2d shape:  898 398\n",
      "            Relative particle position:  (xsi, eta) -4.4124428287091895e+01 2.4520127180147516e-01\n",
      "Correct cell not found for (-124.814021, 48.539550) after 1000000 iterations\n",
      "Debug info: old particle indices: (yi, xi) 426 0\n",
      "            new particle indices: (yi, xi) 425 42\n",
      "            Mesh 2d shape:  898 398\n",
      "            Relative particle position:  (xsi, eta) -4.3015599934083866e+01 6.2270683399998839e-01\n",
      "Particle 2181 lost !! [122220.0, 5.480331756580497, 48.44247780988413, -124.72513598651402]\n",
      "Particle 2255 lost !! [122220.0, 30.56543647253947, 48.54305074013927, -124.81007853020644]\n"
     ]
    },
    {
     "name": "stderr",
     "output_type": "stream",
     "text": [
      "  9% (117000.0 of 1296000.0) |           | Elapsed Time: 0:02:24 ETA:   0:36:28"
     ]
    },
    {
     "name": "stdout",
     "output_type": "stream",
     "text": [
      "Correct cell not found for (-124.745583, 48.458195) after 1000000 iterations\n",
      "Debug info: old particle indices: (yi, xi) 405 0\n",
      "            new particle indices: (yi, xi) 405 42\n",
      "            Mesh 2d shape:  898 398\n",
      "            Relative particle position:  (xsi, eta) -4.2993725039772222e+01 1.7330778291813617e-01\n",
      "Particle 2106 lost !! [123120.0, 1.694304911317001, 48.46088587874539, -124.7412215659586]\n"
     ]
    },
    {
     "name": "stderr",
     "output_type": "stream",
     "text": [
      "  9% (118800.0 of 1296000.0) |#          | Elapsed Time: 0:02:25 ETA:   0:24:56"
     ]
    },
    {
     "name": "stdout",
     "output_type": "stream",
     "text": [
      "Correct cell not found for (-124.765083, 48.480901) after 1000000 iterations\n",
      "Debug info: old particle indices: (yi, xi) 411 0\n",
      "            new particle indices: (yi, xi) 410 42\n",
      "            Mesh 2d shape:  898 398\n",
      "            Relative particle position:  (xsi, eta) -4.3054915657394446e+01 9.1199748125972890e-01\n",
      "Correct cell not found for (-124.777660, 48.494418) after 1000000 iterations\n",
      "Debug info: old particle indices: (yi, xi) 414 0\n",
      "            new particle indices: (yi, xi) 414 42\n",
      "            Mesh 2d shape:  898 398\n",
      "            Relative particle position:  (xsi, eta) -4.3279879088180685e+01 3.8329819996887549e-01\n",
      "Correct cell not found for (-124.824082, 48.549647) after 1000000 iterations\n",
      "Debug info: old particle indices: (yi, xi) 428 1\n",
      "            new particle indices: (yi, xi) 428 43\n",
      "            Mesh 2d shape:  898 398\n",
      "            Relative particle position:  (xsi, eta) -4.4294923288761673e+01 3.0326874350837657e-01\n",
      "Correct cell not found for (-124.768205, 48.481892) after 1000000 iterations\n",
      "Debug info: old particle indices: (yi, xi) 411 0\n",
      "            new particle indices: (yi, xi) 411 42\n",
      "            Mesh 2d shape:  898 398\n",
      "            Relative particle position:  (xsi, eta) -4.3402492507160382e+01 3.3140512767509983e-01\n",
      "Particle 2031 lost !! [124920.0, 9.024066608569456, 48.48293363906514, -124.7612171035252]\n",
      "Particle 2033 lost !! [124380.0, 13.586084664126524, 48.49841858686935, -124.77305378666266]\n",
      "Particle 2069 lost !! [124470.0, 0.3157529690113592, 48.55391902511396, -124.81843867348941]\n",
      "Particle 2363 lost !! [124470.0, 141.13897718510486, 48.48443476430699, -124.76222100331309]\n"
     ]
    },
    {
     "name": "stderr",
     "output_type": "stream",
     "text": [
      "  9% (120600.0 of 1296000.0) |#          | Elapsed Time: 0:02:29 ETA:   0:36:28"
     ]
    },
    {
     "name": "stdout",
     "output_type": "stream",
     "text": [
      "Correct cell not found for (-124.810995, 48.531971) after 1000000 iterations\n",
      "Debug info: old particle indices: (yi, xi) 424 0\n",
      "            new particle indices: (yi, xi) 423 42\n",
      "            Mesh 2d shape:  898 398\n",
      "            Relative particle position:  (xsi, eta) -4.3554961485074116e+01 9.7683107282842130e-01\n",
      "Particle 2222 lost !! [126990.0, 12.481357979886107, 48.53603902579715, -124.80582201520788]\n"
     ]
    },
    {
     "name": "stderr",
     "output_type": "stream",
     "text": [
      " 11% (149400.0 of 1296000.0) |#          | Elapsed Time: 0:02:58 ETA:   0:30:51"
     ]
    },
    {
     "name": "stdout",
     "output_type": "stream",
     "text": [
      "Correct cell not found for (-124.830782, 48.558824) after 1000000 iterations\n",
      "Debug info: old particle indices: (yi, xi) 430 1\n",
      "            new particle indices: (yi, xi) 430 43\n",
      "            Mesh 2d shape:  898 398\n",
      "            Relative particle position:  (xsi, eta) -4.4094360855996769e+01 5.1859516279637086e-01\n",
      "Particle 2110 lost !! [156060.0, 17.5864679198928, 48.561165489725354, -124.82468890172149]\n"
     ]
    },
    {
     "name": "stderr",
     "output_type": "stream",
     "text": [
      " 12% (160200.0 of 1296000.0) |#          | Elapsed Time: 0:03:09 ETA:   0:30:53"
     ]
    },
    {
     "name": "stdout",
     "output_type": "stream",
     "text": [
      "Correct cell not found for (-124.813809, 48.538464) after 1000000 iterations\n",
      "Debug info: old particle indices: (yi, xi) 425 0\n",
      "            new particle indices: (yi, xi) 425 42\n",
      "            Mesh 2d shape:  898 398\n",
      "            Relative particle position:  (xsi, eta) -4.3118637906064833e+01 3.9936886046446546e-01\n",
      "Particle 2221 lost !! [166500.0, 5.949642967969526, 48.538529679029544, -124.80891247480274]\n"
     ]
    },
    {
     "name": "stderr",
     "output_type": "stream",
     "text": [
      " 12% (162000.0 of 1296000.0) |#          | Elapsed Time: 0:03:10 ETA:   0:22:12"
     ]
    },
    {
     "name": "stdout",
     "output_type": "stream",
     "text": [
      "Particle 4133 lost !! [167490.0, 20.225511003355788, 50.42774601226897, -125.99907420535237]\n"
     ]
    },
    {
     "name": "stderr",
     "output_type": "stream",
     "text": [
      " 14% (189000.0 of 1296000.0) |#          | Elapsed Time: 0:03:47 ETA:   0:36:37"
     ]
    },
    {
     "name": "stdout",
     "output_type": "stream",
     "text": [
      "Correct cell not found for (-124.847758, 48.577947) after 1000000 iterations\n",
      "Debug info: old particle indices: (yi, xi) 435 0\n",
      "            new particle indices: (yi, xi) 435 42\n",
      "            Mesh 2d shape:  898 398\n",
      "            Relative particle position:  (xsi, eta) -4.3244781627843800e+01 3.6972858586967239e-01\n",
      "Particle 1935 lost !! [195120.0, 2.0892176368035487, 48.58201423085175, -124.84409776463701]\n"
     ]
    },
    {
     "name": "stderr",
     "output_type": "stream",
     "text": [
      " 14% (190800.0 of 1296000.0) |#          | Elapsed Time: 0:03:48 ETA:   0:24:29"
     ]
    },
    {
     "name": "stdout",
     "output_type": "stream",
     "text": [
      "Correct cell not found for (-124.800487, 48.521043) after 1000000 iterations\n",
      "Debug info: old particle indices: (yi, xi) 421 1\n",
      "            new particle indices: (yi, xi) 421 43\n",
      "            Mesh 2d shape:  898 398\n",
      "            Relative particle position:  (xsi, eta) -4.4311349512906645e+01 1.0893439450253388e-01\n",
      "Particle 1995 lost !! [196200.0, 113.5179023967235, 48.52465289343579, -124.79381729685046]\n"
     ]
    },
    {
     "name": "stderr",
     "output_type": "stream",
     "text": [
      " 14% (192600.0 of 1296000.0) |#          | Elapsed Time: 0:03:52 ETA:   0:41:40"
     ]
    },
    {
     "name": "stdout",
     "output_type": "stream",
     "text": [
      "Correct cell not found for (-124.861920, 48.595837) after 1000000 iterations\n",
      "Debug info: old particle indices: (yi, xi) 440 0\n",
      "            new particle indices: (yi, xi) 439 42\n",
      "            Mesh 2d shape:  898 398\n",
      "            Relative particle position:  (xsi, eta) -4.3112338524558751e+01 8.1543048247455885e-01\n",
      "Correct cell not found for (-124.882641, 48.620914) after 1000000 iterations\n",
      "Debug info: old particle indices: (yi, xi) 445 0\n",
      "            new particle indices: (yi, xi) 446 42\n",
      "            Mesh 2d shape:  898 398\n",
      "            Relative particle position:  (xsi, eta) -4.3058685293761904e+01 1.1332838380563856e-01\n",
      "Particle 1968 lost !! [199260.0, 0.05332591473042686, 48.59995796137315, -124.86018827321374]\n",
      "Particle 2587 lost !! [199530.0, 16.087635492584727, 48.61918391912594, -124.87594873900089]\n"
     ]
    },
    {
     "name": "stderr",
     "output_type": "stream",
     "text": [
      " 15% (198000.0 of 1296000.0) |#          | Elapsed Time: 0:03:58 ETA:   0:22:38"
     ]
    },
    {
     "name": "stdout",
     "output_type": "stream",
     "text": [
      "Correct cell not found for (-124.713337, 48.416128) after 1000000 iterations\n",
      "Debug info: old particle indices: (yi, xi) 395 0\n",
      "            new particle indices: (yi, xi) 394 42\n",
      "            Mesh 2d shape:  898 398\n",
      "            Relative particle position:  (xsi, eta) -4.3446215841038118e+01 8.0914787977129554e-01\n",
      "Particle 1903 lost !! [204750.0, 0.7948750407999885, 48.42026066957204, -124.70953765197372]\n"
     ]
    },
    {
     "name": "stderr",
     "output_type": "stream",
     "text": [
      " 15% (199800.0 of 1296000.0) |#          | Elapsed Time: 0:04:01 ETA:   0:33:44"
     ]
    },
    {
     "name": "stdout",
     "output_type": "stream",
     "text": [
      "Correct cell not found for (-124.755890, 48.470310) after 1000000 iterations\n",
      "Debug info: old particle indices: (yi, xi) 407 0\n",
      "            new particle indices: (yi, xi) 408 42\n",
      "            Mesh 2d shape:  898 398\n",
      "            Relative particle position:  (xsi, eta) -4.3044633236739749e+01 2.4052471280642723e-01\n",
      "Correct cell not found for (-124.792999, 48.513494) after 1000000 iterations\n",
      "Debug info: old particle indices: (yi, xi) 419 0\n",
      "            new particle indices: (yi, xi) 419 42\n",
      "            Mesh 2d shape:  898 398\n",
      "            Relative particle position:  (xsi, eta) -4.3188632744014157e+01 1.4321216781214138e-01\n",
      "Correct cell not found for (-124.833844, 48.560039) after 1000000 iterations\n",
      "Debug info: old particle indices: (yi, xi) 431 0\n",
      "            new particle indices: (yi, xi) 430 42\n",
      "            Mesh 2d shape:  898 398\n",
      "            Relative particle position:  (xsi, eta) -4.3463992820030782e+01 9.6253779618773827e-01\n",
      "Correct cell not found for (-124.876371, 48.610412) after 1000000 iterations\n",
      "Debug info: old particle indices: (yi, xi) 444 0\n",
      "            new particle indices: (yi, xi) 443 42\n",
      "            Mesh 2d shape:  898 398\n",
      "            Relative particle position:  (xsi, eta) -4.3448413858106839e+01 6.5472488234440784e-01\n",
      "Correct cell not found for (-124.908874, 48.650220) after 1000000 iterations\n",
      "Debug info: old particle indices: (yi, xi) 454 0\n",
      "            new particle indices: (yi, xi) 453 42\n",
      "            Mesh 2d shape:  898 398\n",
      "            Relative particle position:  (xsi, eta) -4.3328292572447062e+01 5.9624448831656340e-01\n",
      "Particle 1636 lost !! [205470.0, 6.376401355566894, 48.469129834316796, -124.74956362173326]\n",
      "Particle 1965 lost !! [206280.0, 142.9145432959624, 48.51631281307339, -124.78709493014497]\n",
      "Particle 1993 lost !! [205920.0, 5.325389240118455, 48.56348639294154, -124.83119576960756]\n",
      "Particle 2032 lost !! [206460.0, 21.909044967497383, 48.61480601865848, -124.87150050217048]\n",
      "Particle 2145 lost !! [205830.0, 4.194766874067059, 48.65452209825782, -124.90473643802692]\n"
     ]
    },
    {
     "name": "stderr",
     "output_type": "stream",
     "text": [
      " 15% (201600.0 of 1296000.0) |#          | Elapsed Time: 0:04:02 ETA:   0:23:11"
     ]
    },
    {
     "name": "stdout",
     "output_type": "stream",
     "text": [
      "Correct cell not found for (-124.787814, 48.506711) after 1000000 iterations\n",
      "Debug info: old particle indices: (yi, xi) 418 0\n",
      "            new particle indices: (yi, xi) 417 42\n",
      "            Mesh 2d shape:  898 398\n",
      "            Relative particle position:  (xsi, eta) -4.3202332443858836e+01 4.8351411899516400e-01\n",
      "Correct cell not found for (-124.777490, 48.495950) after 1000000 iterations\n",
      "Debug info: old particle indices: (yi, xi) 414 1\n",
      "            new particle indices: (yi, xi) 414 43\n",
      "            Mesh 2d shape:  898 398\n",
      "            Relative particle position:  (xsi, eta) -4.4049258458214453e+01 6.9885087964651926e-01\n",
      "Correct cell not found for (-124.822195, 48.549145) after 1000000 iterations\n",
      "Debug info: old particle indices: (yi, xi) 428 0\n",
      "            new particle indices: (yi, xi) 428 42\n",
      "            Mesh 2d shape:  898 398\n",
      "            Relative particle position:  (xsi, eta) -4.3030676207332256e+01 4.7816369160010294e-02\n",
      "Correct cell not found for (-124.759278, 48.471673) after 1000000 iterations\n",
      "Debug info: old particle indices: (yi, xi) 408 0\n",
      "            new particle indices: (yi, xi) 408 42\n",
      "            Mesh 2d shape:  898 398\n",
      "            Relative particle position:  (xsi, eta) -4.3349719975593764e+01 7.3259716156135879e-01\n",
      "Correct cell not found for (-124.704275, 48.406427) after 1000000 iterations\n",
      "Debug info: old particle indices: (yi, xi) 392 0\n",
      "            new particle indices: (yi, xi) 392 42\n",
      "            Mesh 2d shape:  898 398\n",
      "            Relative particle position:  (xsi, eta) -4.3301368421929666e+01 3.3217450840075341e-01\n",
      "Particle 1637 lost !! [208080.0, 6.174022127651791, 48.51057765994435, -124.7844583332422]\n",
      "Particle 1681 lost !! [207810.0, 12.28321050226135, 48.49889251644411, -124.77100994036036]\n",
      "Particle 1966 lost !! [208530.0, 7.8333472654913345, 48.55328600624308, -124.81831422446668]\n",
      "Particle 2071 lost !! [207450.0, 124.14865570317158, 48.473933770168166, -124.75285816339303]\n",
      "Particle 2361 lost !! [207000.0, 37.50754718132455, 48.407706570739265, -124.69778673356168]\n"
     ]
    },
    {
     "name": "stderr",
     "output_type": "stream",
     "text": [
      " 15% (203400.0 of 1296000.0) |#          | Elapsed Time: 0:04:06 ETA:   0:31:28"
     ]
    },
    {
     "name": "stdout",
     "output_type": "stream",
     "text": [
      "Particle 4119 lost !! [210330.0, 11.503124653112305, 50.42441448898203, -125.9996942290754]\n"
     ]
    },
    {
     "name": "stderr",
     "output_type": "stream",
     "text": [
      " 15% (205200.0 of 1296000.0) |#          | Elapsed Time: 0:04:07 ETA:   0:21:55"
     ]
    },
    {
     "name": "stdout",
     "output_type": "stream",
     "text": [
      "Correct cell not found for (-124.801260, 48.522105) after 1000000 iterations\n",
      "Debug info: old particle indices: (yi, xi) 421 1\n",
      "            new particle indices: (yi, xi) 421 43\n",
      "            Mesh 2d shape:  898 398\n",
      "            Relative particle position:  (xsi, eta) -4.4287841293456459e+01 3.7662064362812753e-01\n",
      "Correct cell not found for (-124.795721, 48.516586) after 1000000 iterations\n",
      "Debug info: old particle indices: (yi, xi) 420 1\n",
      "            new particle indices: (yi, xi) 419 43\n",
      "            Mesh 2d shape:  898 398\n",
      "            Relative particle position:  (xsi, eta) -4.4209518401071094e+01 9.3491377058919900e-01\n",
      "Correct cell not found for (-124.843633, 48.574298) after 1000000 iterations\n",
      "Debug info: old particle indices: (yi, xi) 434 1\n",
      "            new particle indices: (yi, xi) 434 43\n",
      "            Mesh 2d shape:  898 398\n",
      "            Relative particle position:  (xsi, eta) -4.4089660665049358e+01 4.1677202583523465e-01\n",
      "Correct cell not found for (-124.737408, 48.443863) after 1000000 iterations\n",
      "Debug info: old particle indices: (yi, xi) 402 0\n",
      "            new particle indices: (yi, xi) 401 42\n",
      "            Mesh 2d shape:  898 398\n",
      "            Relative particle position:  (xsi, eta) -4.3581092912762841e+01 8.8303233772801126e-01\n",
      "Correct cell not found for (-124.742572, 48.451476) after 1000000 iterations\n",
      "Debug info: old particle indices: (yi, xi) 403 0\n",
      "            new particle indices: (yi, xi) 403 42\n",
      "            Mesh 2d shape:  898 398\n",
      "            Relative particle position:  (xsi, eta) -4.3395080527309744e+01 7.0041530522315865e-01\n",
      "Particle 1727 lost !! [212040.0, 13.063661426524451, 48.5250838666568, -124.79452777056346]\n",
      "Particle 1933 lost !! [211230.0, 24.87463089222924, 48.51968767390554, -124.78877023562035]\n",
      "Particle 1934 lost !! [211320.0, 10.176795765981767, 48.57678266375316, -124.8370401719437]\n",
      "Particle 1996 lost !! [211410.0, 173.89713632201406, 48.44681001851908, -124.73149788151574]\n",
      "Particle 2068 lost !! [210690.0, 25.147329926960982, 48.454616380445806, -124.73730554498626]\n"
     ]
    },
    {
     "name": "stderr",
     "output_type": "stream",
     "text": [
      " 15% (207000.0 of 1296000.0) |#          | Elapsed Time: 0:04:10 ETA:   0:33:35"
     ]
    },
    {
     "name": "stdout",
     "output_type": "stream",
     "text": [
      "Correct cell not found for (-124.805659, 48.528425) after 1000000 iterations\n",
      "Debug info: old particle indices: (yi, xi) 423 1\n",
      "            new particle indices: (yi, xi) 422 43\n",
      "            Mesh 2d shape:  898 398\n",
      "            Relative particle position:  (xsi, eta) -4.4205227744085619e+01 9.1590812368478647e-01\n",
      "Particle 2115 lost !! [213480.0, 27.704487212134854, 48.5313685212555, -124.79972770279129]\n"
     ]
    },
    {
     "name": "stderr",
     "output_type": "stream",
     "text": [
      " 16% (208800.0 of 1296000.0) |#          | Elapsed Time: 0:04:11 ETA:   0:22:08"
     ]
    },
    {
     "name": "stdout",
     "output_type": "stream",
     "text": [
      "Correct cell not found for (-124.812806, 48.537747) after 1000000 iterations\n",
      "Debug info: old particle indices: (yi, xi) 425 1\n",
      "            new particle indices: (yi, xi) 425 43\n",
      "            Mesh 2d shape:  898 398\n",
      "            Relative particle position:  (xsi, eta) -4.4109377805677646e+01 2.1419096688480005e-01\n",
      "Particle 2075 lost !! [215820.0, 26.117104531830492, 48.54137991330769, -124.80672156600988]\n"
     ]
    },
    {
     "name": "stderr",
     "output_type": "stream",
     "text": [
      " 16% (212400.0 of 1296000.0) |#          | Elapsed Time: 0:04:15 ETA:   0:19:51"
     ]
    },
    {
     "name": "stdout",
     "output_type": "stream",
     "text": [
      "Correct cell not found for (-124.748985, 48.461708) after 1000000 iterations\n",
      "Debug info: old particle indices: (yi, xi) 406 1\n",
      "            new particle indices: (yi, xi) 406 43\n",
      "            Mesh 2d shape:  898 398\n",
      "            Relative particle position:  (xsi, eta) -4.4058761678171692e+01 8.1429208476017215e-02\n",
      "Correct cell not found for (-124.764998, 48.481083) after 1000000 iterations\n",
      "Debug info: old particle indices: (yi, xi) 411 1\n",
      "            new particle indices: (yi, xi) 410 43\n",
      "            Mesh 2d shape:  898 398\n",
      "            Relative particle position:  (xsi, eta) -4.4063063609962398e+01 9.6176837155113215e-01\n",
      "Particle 1688 lost !! [218610.0, 6.826058974400088, 48.46351056369095, -124.74233127714977]\n",
      "Particle 2148 lost !! [219330.0, 12.141811761389475, 48.484091269873474, -124.75960251879897]\n"
     ]
    },
    {
     "name": "stderr",
     "output_type": "stream",
     "text": [
      " 16% (214200.0 of 1296000.0) |#          | Elapsed Time: 0:04:19 ETA:   0:37:16"
     ]
    },
    {
     "name": "stdout",
     "output_type": "stream",
     "text": [
      "Correct cell not found for (-124.756010, 48.470259) after 1000000 iterations\n",
      "Debug info: old particle indices: (yi, xi) 408 0\n",
      "            new particle indices: (yi, xi) 408 42\n",
      "            Mesh 2d shape:  898 398\n",
      "            Relative particle position:  (xsi, eta) -4.3068577462229719e+01 2.3948568475707310e-01\n",
      "Particle 1736 lost !! [221130.0, 13.771258988289288, 48.47181011352849, -124.75143630161301]\n"
     ]
    },
    {
     "name": "stderr",
     "output_type": "stream",
     "text": [
      " 16% (216000.0 of 1296000.0) |#          | Elapsed Time: 0:04:20 ETA:   0:24:13"
     ]
    },
    {
     "name": "stdout",
     "output_type": "stream",
     "text": [
      "Correct cell not found for (-124.778875, 48.495985) after 1000000 iterations\n",
      "Debug info: old particle indices: (yi, xi) 415 1\n",
      "            new particle indices: (yi, xi) 414 43\n",
      "            Mesh 2d shape:  898 398\n",
      "            Relative particle position:  (xsi, eta) -4.4253729082496477e+01 8.0763203233457415e-01\n",
      "Correct cell not found for (-124.773347, 48.488526) after 1000000 iterations\n",
      "Debug info: old particle indices: (yi, xi) 413 0\n",
      "            new particle indices: (yi, xi) 412 42\n",
      "            Mesh 2d shape:  898 398\n",
      "            Relative particle position:  (xsi, eta) -4.3324397276748272e+01 9.6377742526240651e-01\n",
      "Particle 1967 lost !! [221850.0, 187.05471630866583, 48.49970109614612, -124.77294471326545]\n",
      "Particle 2370 lost !! [221670.0, 0.9435275547271214, 48.49093207887251, -124.76690932047808]\n"
     ]
    },
    {
     "name": "stderr",
     "output_type": "stream",
     "text": [
      " 18% (241200.0 of 1296000.0) |##         | Elapsed Time: 0:04:45 ETA:   0:16:29"
     ]
    },
    {
     "name": "stdout",
     "output_type": "stream",
     "text": [
      "Correct cell not found for (-124.817872, 48.542730) after 1000000 iterations\n",
      "Debug info: old particle indices: (yi, xi) 426 0\n",
      "            new particle indices: (yi, xi) 426 42\n",
      "            Mesh 2d shape:  898 398\n",
      "            Relative particle position:  (xsi, eta) -4.3213514014970741e+01 5.2044702156039369e-01\n",
      "Correct cell not found for (-124.814723, 48.540309) after 1000000 iterations\n",
      "Debug info: old particle indices: (yi, xi) 426 1\n",
      "            new particle indices: (yi, xi) 425 43\n",
      "            Mesh 2d shape:  898 398\n",
      "            Relative particle position:  (xsi, eta) -4.4073962063813902e+01 8.4273277112753575e-01\n",
      "Particle 2368 lost !! [247950.0, 12.392156705529139, 48.546052351244654, -124.81348097873163]\n",
      "Particle 2369 lost !! [247140.0, 5.307404129677287, 48.54297077543932, -124.80877336596163]\n"
     ]
    },
    {
     "name": "stderr",
     "output_type": "stream",
     "text": [
      " 18% (243000.0 of 1296000.0) |##         | Elapsed Time: 0:04:48 ETA:   0:32:13"
     ]
    },
    {
     "name": "stdout",
     "output_type": "stream",
     "text": [
      "Correct cell not found for (-124.812636, 48.533461) after 1000000 iterations\n",
      "Debug info: old particle indices: (yi, xi) 424 0\n",
      "            new particle indices: (yi, xi) 424 42\n",
      "            Mesh 2d shape:  898 398\n",
      "            Relative particle position:  (xsi, eta) -4.3594824054124480e+01 3.7157445117301380e-01\n",
      "Particle 1517 lost !! [249210.0, 27.625728166404105, 48.53528962185058, -124.80635797040236]\n"
     ]
    },
    {
     "name": "stderr",
     "output_type": "stream",
     "text": [
      " 19% (246600.0 of 1296000.0) |##         | Elapsed Time: 0:04:52 ETA:   0:26:42"
     ]
    },
    {
     "name": "stdout",
     "output_type": "stream",
     "text": [
      "Correct cell not found for (-124.834925, 48.560433) after 1000000 iterations\n",
      "Debug info: old particle indices: (yi, xi) 431 0\n",
      "            new particle indices: (yi, xi) 431 42\n",
      "            Mesh 2d shape:  898 398\n",
      "            Relative particle position:  (xsi, eta) -4.3568348954580635e+01 1.1283949367235227e-01\n",
      "Particle 1997 lost !! [253440.0, 45.52604547438319, 48.56253670095211, -124.82822422150758]\n"
     ]
    },
    {
     "name": "stderr",
     "output_type": "stream",
     "text": [
      " 19% (248400.0 of 1296000.0) |##         | Elapsed Time: 0:04:53 ETA:   0:19:01"
     ]
    },
    {
     "name": "stdout",
     "output_type": "stream",
     "text": [
      "Correct cell not found for (-124.837923, 48.567211) after 1000000 iterations\n",
      "Debug info: old particle indices: (yi, xi) 432 0\n",
      "            new particle indices: (yi, xi) 432 42\n",
      "            Mesh 2d shape:  898 398\n",
      "            Relative particle position:  (xsi, eta) -4.3127583831996780e+01 6.0628247361159637e-01\n",
      "Correct cell not found for (-124.862845, 48.595699) after 1000000 iterations\n",
      "Debug info: old particle indices: (yi, xi) 440 0\n",
      "            new particle indices: (yi, xi) 439 42\n",
      "            Mesh 2d shape:  898 398\n",
      "            Relative particle position:  (xsi, eta) -4.3265133551845096e+01 8.5519658929785203e-01\n",
      "Particle 1999 lost !! [255330.0, 53.26608894741552, 48.5684189114212, -124.83224492735654]\n",
      "Particle 2564 lost !! [254610.0, 8.406877940227908, 48.59949320112422, -124.85747256354047]\n"
     ]
    },
    {
     "name": "stderr",
     "output_type": "stream",
     "text": [
      " 19% (252000.0 of 1296000.0) |##         | Elapsed Time: 0:04:57 ETA:   0:18:10"
     ]
    },
    {
     "name": "stdout",
     "output_type": "stream",
     "text": [
      "Correct cell not found for (-124.834256, 48.559709) after 1000000 iterations\n",
      "Debug info: old particle indices: (yi, xi) 431 0\n",
      "            new particle indices: (yi, xi) 430 42\n",
      "            Mesh 2d shape:  898 398\n",
      "            Relative particle position:  (xsi, eta) -4.3565255195452181e+01 9.2887282268008831e-01\n",
      "Correct cell not found for (-124.855649, 48.585903) after 1000000 iterations\n",
      "Debug info: old particle indices: (yi, xi) 437 0\n",
      "            new particle indices: (yi, xi) 437 42\n",
      "            Mesh 2d shape:  898 398\n",
      "            Relative particle position:  (xsi, eta) -4.3433286950799541e+01 4.8780973354877405e-01\n",
      "Correct cell not found for (-124.846783, 48.575357) after 1000000 iterations\n",
      "Debug info: old particle indices: (yi, xi) 434 0\n",
      "            new particle indices: (yi, xi) 434 42\n",
      "            Mesh 2d shape:  898 398\n",
      "            Relative particle position:  (xsi, eta) -4.3431150813699070e+01 8.0754980695374590e-01\n",
      "Particle 2113 lost !! [257490.0, 46.57323800348829, 48.56330763787696, -124.82753348989647]\n",
      "Particle 2220 lost !! [258480.0, 6.947537388628862, 48.58988903059969, -124.84932484394082]\n",
      "Particle 2333 lost !! [257940.0, 12.0937573904386, 48.57714384057019, -124.83992076370757]\n"
     ]
    },
    {
     "name": "stderr",
     "output_type": "stream",
     "text": [
      " 19% (253800.0 of 1296000.0) |##         | Elapsed Time: 0:05:00 ETA:   0:30:59"
     ]
    },
    {
     "name": "stdout",
     "output_type": "stream",
     "text": [
      "Correct cell not found for (-124.836433, 48.564769) after 1000000 iterations\n",
      "Debug info: old particle indices: (yi, xi) 431 0\n",
      "            new particle indices: (yi, xi) 432 42\n",
      "            Mesh 2d shape:  898 398\n",
      "            Relative particle position:  (xsi, eta) -4.3210605978515872e+01 3.1212877661812508e-02\n",
      "Correct cell not found for (-124.847947, 48.577874) after 1000000 iterations\n",
      "Debug info: old particle indices: (yi, xi) 435 0\n",
      "            new particle indices: (yi, xi) 435 42\n",
      "            Mesh 2d shape:  898 398\n",
      "            Relative particle position:  (xsi, eta) -4.3281434548296119e+01 3.6921518175572604e-01\n",
      "Particle 1737 lost !! [259740.0, 3.6949855228719772, 48.56419919040152, -124.83015725667593]\n",
      "Particle 2037 lost !! [259920.0, 50.54274901576469, 48.58165486600666, -124.8436556603775]\n"
     ]
    },
    {
     "name": "stderr",
     "output_type": "stream",
     "text": [
      " 19% (255600.0 of 1296000.0) |##         | Elapsed Time: 0:05:01 ETA:   0:20:40"
     ]
    },
    {
     "name": "stdout",
     "output_type": "stream",
     "text": [
      "Correct cell not found for (-122.717447, 47.112115) after 1000000 iterations\n",
      "Debug info: old particle indices: (yi, xi) 0 133\n",
      "            new particle indices: (yi, xi) 0 133\n",
      "            Mesh 2d shape:  898 398\n",
      "            Relative particle position:  (xsi, eta) 5.4752171113355541e-01 -2.4558060103999935e-01\n",
      "Particle 847 lost !! [261540.0, 7.952065436622432, 47.11545609949677, -122.72033061986656]\n"
     ]
    },
    {
     "name": "stderr",
     "output_type": "stream",
     "text": [
      " 19% (257400.0 of 1296000.0) |##         | Elapsed Time: 0:05:04 ETA:   0:30:54"
     ]
    },
    {
     "name": "stdout",
     "output_type": "stream",
     "text": [
      "Correct cell not found for (-124.838046, 48.567638) after 1000000 iterations\n",
      "Debug info: old particle indices: (yi, xi) 432 1\n",
      "            new particle indices: (yi, xi) 432 43\n",
      "            Mesh 2d shape:  898 398\n",
      "            Relative particle position:  (xsi, eta) -4.4085088079983123e+01 7.3556963274100917e-01\n",
      "Particle 2074 lost !! [264420.0, 41.03497346484291, 48.57073225030813, -124.83187316330525]\n"
     ]
    },
    {
     "name": "stderr",
     "output_type": "stream",
     "text": [
      " 20% (259200.0 of 1296000.0) |##         | Elapsed Time: 0:05:06 ETA:   0:20:57"
     ]
    },
    {
     "name": "stdout",
     "output_type": "stream",
     "text": [
      "Correct cell not found for (-124.941417, 48.690254) after 1000000 iterations\n",
      "Debug info: old particle indices: (yi, xi) 463 0\n",
      "            new particle indices: (yi, xi) 463 42\n",
      "            Mesh 2d shape:  898 398\n",
      "            Relative particle position:  (xsi, eta) -4.3120035931125017e+01 5.9985895847066750e-01\n",
      "Particle 2144 lost !! [265680.0, 10.238260577559004, 48.68979576175408, -124.93502024086774]\n"
     ]
    },
    {
     "name": "stderr",
     "output_type": "stream",
     "text": [
      " 20% (261000.0 of 1296000.0) |##         | Elapsed Time: 0:05:09 ETA:   0:30:01"
     ]
    },
    {
     "name": "stdout",
     "output_type": "stream",
     "text": [
      "Correct cell not found for (-124.930346, 48.677542) after 1000000 iterations\n",
      "Debug info: old particle indices: (yi, xi) 460 0\n",
      "            new particle indices: (yi, xi) 460 42\n",
      "            Mesh 2d shape:  898 398\n",
      "            Relative particle position:  (xsi, eta) -4.3069301226387850e+01 3.6584828842812550e-01\n",
      "Particle 2756 lost !! [267750.0, 24.848910371955736, 48.67915376672216, -124.92583643933565]\n"
     ]
    },
    {
     "name": "stderr",
     "output_type": "stream",
     "text": [
      " 20% (270000.0 of 1296000.0) |##         | Elapsed Time: 0:05:17 ETA:   0:16:57"
     ]
    },
    {
     "name": "stdout",
     "output_type": "stream",
     "text": [
      "Correct cell not found for (-124.873467, 48.606491) after 1000000 iterations\n",
      "Debug info: old particle indices: (yi, xi) 443 0\n",
      "            new particle indices: (yi, xi) 442 42\n",
      "            Mesh 2d shape:  898 398\n",
      "            Relative particle position:  (xsi, eta) -4.3539183219323590e+01 7.0997960567479501e-01\n",
      "Particle 2827 lost !! [275580.0, 0.152577820743693, 48.61078958523003, -124.86747212966802]\n"
     ]
    },
    {
     "name": "stderr",
     "output_type": "stream",
     "text": [
      " 21% (273600.0 of 1296000.0) |##         | Elapsed Time: 0:05:21 ETA:   0:18:44"
     ]
    },
    {
     "name": "stdout",
     "output_type": "stream",
     "text": [
      "Correct cell not found for (-124.870725, 48.607183) after 1000000 iterations\n",
      "Debug info: old particle indices: (yi, xi) 442 1\n",
      "            new particle indices: (yi, xi) 442 43\n",
      "            Mesh 2d shape:  898 398\n",
      "            Relative particle position:  (xsi, eta) -4.4001624657361454e+01 6.2242481035106101e-01\n",
      "Particle 2367 lost !! [279270.0, 38.90800811492096, 48.60829806456278, -124.8641626657855]\n"
     ]
    },
    {
     "name": "stderr",
     "output_type": "stream",
     "text": [
      " 21% (279000.0 of 1296000.0) |##         | Elapsed Time: 0:05:27 ETA:   0:26:15"
     ]
    },
    {
     "name": "stdout",
     "output_type": "stream",
     "text": [
      "Correct cell not found for (-124.888181, 48.627324) after 1000000 iterations\n",
      "Debug info: old particle indices: (yi, xi) 448 1\n",
      "            new particle indices: (yi, xi) 447 43\n",
      "            Mesh 2d shape:  898 398\n",
      "            Relative particle position:  (xsi, eta) -4.4073047732175802e+01 7.3740096607098937e-01\n",
      "Particle 2185 lost !! [285750.0, 10.737496446773195, 48.630406834413506, -124.88303228403473]\n"
     ]
    },
    {
     "name": "stderr",
     "output_type": "stream",
     "text": [
      " 21% (282600.0 of 1296000.0) |##         | Elapsed Time: 0:05:31 ETA:   0:26:43"
     ]
    },
    {
     "name": "stdout",
     "output_type": "stream",
     "text": [
      "Correct cell not found for (-124.812560, 48.535066) after 1000000 iterations\n",
      "Debug info: old particle indices: (yi, xi) 425 1\n",
      "            new particle indices: (yi, xi) 424 43\n",
      "            Mesh 2d shape:  898 398\n",
      "            Relative particle position:  (xsi, eta) -4.4388012675914752e+01 6.7490300083942001e-01\n",
      "Correct cell not found for (-124.899459, 48.640165) after 1000000 iterations\n",
      "Debug info: old particle indices: (yi, xi) 450 0\n",
      "            new particle indices: (yi, xi) 450 42\n",
      "            Mesh 2d shape:  898 398\n",
      "            Relative particle position:  (xsi, eta) -4.3161194212136174e+01 -2.2144440988893708e-02\n",
      "Particle 1596 lost !! [289710.0, 20.4905803354502, 48.539076937500475, -124.80637619577095]\n",
      "Particle 2616 lost !! [289350.0, 16.269486248847674, 48.64194117158054, -124.8930874527278]\n"
     ]
    },
    {
     "name": "stderr",
     "output_type": "stream",
     "text": [
      " 21% (284400.0 of 1296000.0) |##         | Elapsed Time: 0:05:32 ETA:   0:17:58"
     ]
    },
    {
     "name": "stdout",
     "output_type": "stream",
     "text": [
      "Correct cell not found for (-124.825673, 48.553617) after 1000000 iterations\n",
      "Debug info: old particle indices: (yi, xi) 429 1\n",
      "            new particle indices: (yi, xi) 429 43\n",
      "            Mesh 2d shape:  898 398\n",
      "            Relative particle position:  (xsi, eta) -4.4028902301957800e+01 1.7418605977067134e-01\n",
      "Correct cell not found for (-124.809405, 48.533522) after 1000000 iterations\n",
      "Debug info: old particle indices: (yi, xi) 424 1\n",
      "            new particle indices: (yi, xi) 424 43\n",
      "            Mesh 2d shape:  898 398\n",
      "            Relative particle position:  (xsi, eta) -4.4088729401178490e+01 1.3996681971286490e-01\n",
      "Particle 1687 lost !! [290430.0, 16.985894356947636, 48.55778425333674, -124.82101807614764]\n",
      "Particle 1937 lost !! [289800.0, 155.71337904594472, 48.53537671050786, -124.80279875124408]\n"
     ]
    },
    {
     "name": "stderr",
     "output_type": "stream",
     "text": [
      " 22% (286200.0 of 1296000.0) |##         | Elapsed Time: 0:05:35 ETA:   0:27:04"
     ]
    },
    {
     "name": "stdout",
     "output_type": "stream",
     "text": [
      "Correct cell not found for (-124.824068, 48.550187) after 1000000 iterations\n",
      "Debug info: old particle indices: (yi, xi) 428 0\n",
      "            new particle indices: (yi, xi) 428 42\n",
      "            Mesh 2d shape:  898 398\n",
      "            Relative particle position:  (xsi, eta) -4.3176556653064281e+01 3.8167363896321149e-01\n",
      "Correct cell not found for (-124.760459, 48.475539) after 1000000 iterations\n",
      "Debug info: old particle indices: (yi, xi) 409 0\n",
      "            new particle indices: (yi, xi) 409 42\n",
      "            Mesh 2d shape:  898 398\n",
      "            Relative particle position:  (xsi, eta) -4.3060888559180640e+01 5.6466498910339846e-01\n",
      "Particle 1595 lost !! [291690.0, 27.5758542363436, 48.55065514703387, -124.81868463264222]\n",
      "Particle 1906 lost !! [293040.0, 2.622776176971032, 48.47451559943256, -124.7563781989449]\n"
     ]
    },
    {
     "name": "stderr",
     "output_type": "stream",
     "text": [
      " 22% (288000.0 of 1296000.0) |##         | Elapsed Time: 0:05:36 ETA:   0:18:45"
     ]
    },
    {
     "name": "stdout",
     "output_type": "stream",
     "text": [
      "Correct cell not found for (-124.802124, 48.523741) after 1000000 iterations\n",
      "Debug info: old particle indices: (yi, xi) 422 1\n",
      "            new particle indices: (yi, xi) 421 43\n",
      "            Mesh 2d shape:  898 398\n",
      "            Relative particle position:  (xsi, eta) -4.4204533795248771e+01 7.6469229631134961e-01\n",
      "Correct cell not found for (-124.873106, 48.608919) after 1000000 iterations\n",
      "Debug info: old particle indices: (yi, xi) 443 1\n",
      "            new particle indices: (yi, xi) 443 43\n",
      "            Mesh 2d shape:  898 398\n",
      "            Relative particle position:  (xsi, eta) -4.4142955306607213e+01 1.2880547451379973e-01\n",
      "Particle 1555 lost !! [293670.0, 26.116497493015714, 48.52709633204758, -124.79603171560181]\n",
      "Particle 2073 lost !! [294030.0, 19.557208238077973, 48.612663089300376, -124.86752583737463]\n"
     ]
    },
    {
     "name": "stderr",
     "output_type": "stream",
     "text": [
      " 22% (289800.0 of 1296000.0) |##         | Elapsed Time: 0:05:39 ETA:   0:28:36"
     ]
    },
    {
     "name": "stdout",
     "output_type": "stream",
     "text": [
      "Correct cell not found for (-124.742056, 48.448398) after 1000000 iterations\n",
      "Debug info: old particle indices: (yi, xi) 403 0\n",
      "            new particle indices: (yi, xi) 403 42\n",
      "            Mesh 2d shape:  898 398\n",
      "            Relative particle position:  (xsi, eta) -4.3679776573521210e+01 3.7070017567425596e-02\n",
      "Correct cell not found for (-124.800658, 48.523162) after 1000000 iterations\n",
      "Debug info: old particle indices: (yi, xi) 421 0\n",
      "            new particle indices: (yi, xi) 421 42\n",
      "            Mesh 2d shape:  898 398\n",
      "            Relative particle position:  (xsi, eta) -4.3126288147213799e+01 5.4812895307825726e-01\n",
      "Particle 1482 lost !! [296820.0, 0.4279744888904823, 48.45078633942708, -124.735769013327]\n",
      "Particle 1785 lost !! [295650.0, 4.5815924858795425, 48.52331322976534, -124.79473351956575]\n"
     ]
    },
    {
     "name": "stderr",
     "output_type": "stream",
     "text": [
      " 22% (293400.0 of 1296000.0) |##         | Elapsed Time: 0:05:43 ETA:   0:26:04"
     ]
    },
    {
     "name": "stdout",
     "output_type": "stream",
     "text": [
      "Correct cell not found for (-124.752590, 48.465591) after 1000000 iterations\n",
      "Debug info: old particle indices: (yi, xi) 407 0\n",
      "            new particle indices: (yi, xi) 407 42\n",
      "            Mesh 2d shape:  898 398\n",
      "            Relative particle position:  (xsi, eta) -4.3109263416943151e+01 8.4127940624063494e-02\n",
      "Correct cell not found for (-124.767364, 48.483915) after 1000000 iterations\n",
      "Debug info: old particle indices: (yi, xi) 412 0\n",
      "            new particle indices: (yi, xi) 411 42\n",
      "            Mesh 2d shape:  898 398\n",
      "            Relative particle position:  (xsi, eta) -4.3046061947951920e+01 6.6647629887040072e-01\n",
      "Particle 1515 lost !! [299610.0, 13.131015238961389, 48.466794959457886, -124.74823391733696]\n",
      "Particle 1644 lost !! [299340.0, 21.34061973344417, 48.48740044448848, -124.76496647213838]\n"
     ]
    },
    {
     "name": "stderr",
     "output_type": "stream",
     "text": [
      " 22% (295200.0 of 1296000.0) |##         | Elapsed Time: 0:05:44 ETA:   0:18:26"
     ]
    },
    {
     "name": "stdout",
     "output_type": "stream",
     "text": [
      "Correct cell not found for (-124.711854, 48.416074) after 1000000 iterations\n",
      "Debug info: old particle indices: (yi, xi) 395 0\n",
      "            new particle indices: (yi, xi) 394 42\n",
      "            Mesh 2d shape:  898 398\n",
      "            Relative particle position:  (xsi, eta) -4.3238542596996247e+01 6.9860932941448461e-01\n",
      "Correct cell not found for (-124.704496, 48.402974) after 1000000 iterations\n",
      "Debug info: old particle indices: (yi, xi) 392 0\n",
      "            new particle indices: (yi, xi) 391 42\n",
      "            Mesh 2d shape:  898 398\n",
      "            Relative particle position:  (xsi, eta) -4.3758144074433872e+01 6.8695371121579496e-01\n",
      "Correct cell not found for (-124.719281, 48.426626) after 1000000 iterations\n",
      "Debug info: old particle indices: (yi, xi) 397 1\n",
      "            new particle indices: (yi, xi) 397 43\n",
      "            Mesh 2d shape:  898 398\n",
      "            Relative particle position:  (xsi, eta) -4.4048497077082139e+01 2.9000370961592487e-01\n",
      "Particle 1593 lost !! [301680.0, 0.4889133462398934, 48.419122178308434, -124.70757914013707]\n",
      "Particle 1680 lost !! [301500.0, 2.454690870605707, 48.40717114487787, -124.69874693345382]\n",
      "Particle 2142 lost !! [302040.0, 2.6002728369024863, 48.431198096956145, -124.71420809277723]\n"
     ]
    },
    {
     "name": "stderr",
     "output_type": "stream",
     "text": [
      " 22% (297000.0 of 1296000.0) |##         | Elapsed Time: 0:05:47 ETA:   0:28:56"
     ]
    },
    {
     "name": "stdout",
     "output_type": "stream",
     "text": [
      "Correct cell not found for (-124.745983, 48.458409) after 1000000 iterations\n",
      "Debug info: old particle indices: (yi, xi) 405 0\n",
      "            new particle indices: (yi, xi) 405 42\n",
      "            Mesh 2d shape:  898 398\n",
      "            Relative particle position:  (xsi, eta) -4.3028248810456141e+01 2.4705083187951302e-01\n",
      "Particle 2150 lost !! [302580.0, 169.42151074119582, 48.46290153657949, -124.74333260189636]\n"
     ]
    },
    {
     "name": "stderr",
     "output_type": "stream",
     "text": [
      " 23% (298800.0 of 1296000.0) |##         | Elapsed Time: 0:05:48 ETA:   0:18:52"
     ]
    },
    {
     "name": "stdout",
     "output_type": "stream",
     "text": [
      "Correct cell not found for (-124.794366, 48.516093) after 1000000 iterations\n",
      "Debug info: old particle indices: (yi, xi) 420 0\n",
      "            new particle indices: (yi, xi) 419 42\n",
      "            Mesh 2d shape:  898 398\n",
      "            Relative particle position:  (xsi, eta) -4.3040023910376739e+01 7.2540181749492505e-01\n",
      "Particle 1557 lost !! [305820.0, 1.8026677785129837, 48.52027046090351, -124.79252382275422]\n"
     ]
    },
    {
     "name": "stderr",
     "output_type": "stream",
     "text": [
      " 23% (300600.0 of 1296000.0) |##         | Elapsed Time: 0:05:51 ETA:   0:27:27"
     ]
    },
    {
     "name": "stdout",
     "output_type": "stream",
     "text": [
      "Correct cell not found for (-124.786748, 48.504495) after 1000000 iterations\n",
      "Debug info: old particle indices: (yi, xi) 417 0\n",
      "            new particle indices: (yi, xi) 416 42\n",
      "            Mesh 2d shape:  898 398\n",
      "            Relative particle position:  (xsi, eta) -4.3320702967843317e+01 9.8245929515226182e-01\n",
      "Correct cell not found for (-124.796029, 48.516444) after 1000000 iterations\n",
      "Debug info: old particle indices: (yi, xi) 419 1\n",
      "            new particle indices: (yi, xi) 419 43\n",
      "            Mesh 2d shape:  898 398\n",
      "            Relative particle position:  (xsi, eta) -4.4271906158040466e+01 9.2988625421468074e-01\n",
      "Particle 1477 lost !! [307620.0, 26.15302069865702, 48.508350521025385, -124.78253520027569]\n",
      "Particle 1682 lost !! [306810.0, 27.893600984289705, 48.51882127968141, -124.78907174805902]\n"
     ]
    },
    {
     "name": "stderr",
     "output_type": "stream",
     "text": [
      " 23% (302400.0 of 1296000.0) |##         | Elapsed Time: 0:05:52 ETA:   0:18:11"
     ]
    },
    {
     "name": "stdout",
     "output_type": "stream",
     "text": [
      "Correct cell not found for (-124.730528, 48.437767) after 1000000 iterations\n",
      "Debug info: old particle indices: (yi, xi) 400 0\n",
      "            new particle indices: (yi, xi) 400 42\n",
      "            Mesh 2d shape:  898 398\n",
      "            Relative particle position:  (xsi, eta) -4.3337410014438341e+01 1.9261653389493022e-01\n",
      "Correct cell not found for (-124.738523, 48.445842) after 1000000 iterations\n",
      "Debug info: old particle indices: (yi, xi) 402 0\n",
      "            new particle indices: (yi, xi) 402 42\n",
      "            Mesh 2d shape:  898 398\n",
      "            Relative particle position:  (xsi, eta) -4.3494576397435523e+01 3.2991069900953218e-01\n",
      "Particle 1443 lost !! [309510.0, 5.7591251651962665, 48.44218342292571, -124.72525987623197]\n",
      "Particle 2076 lost !! [307890.0, 79.31977734351352, 48.448854721137685, -124.73243462569138]\n"
     ]
    },
    {
     "name": "stderr",
     "output_type": "stream",
     "text": [
      " 25% (329400.0 of 1296000.0) |##         | Elapsed Time: 0:06:19 ETA:   0:24:01"
     ]
    },
    {
     "name": "stdout",
     "output_type": "stream",
     "text": [
      "Correct cell not found for (-124.825685, 48.552435) after 1000000 iterations\n",
      "Debug info: old particle indices: (yi, xi) 429 1\n",
      "            new particle indices: (yi, xi) 428 43\n",
      "            Mesh 2d shape:  898 398\n",
      "            Relative particle position:  (xsi, eta) -4.4185483619703533e+01 9.5266536887578102e-01\n",
      "Particle 1829 lost !! [336060.0, 11.747581636746151, 48.55624880666885, -124.82064408250298]\n"
     ]
    },
    {
     "name": "stderr",
     "output_type": "stream",
     "text": [
      " 25% (334800.0 of 1296000.0) |##         | Elapsed Time: 0:06:23 ETA:   0:15:25"
     ]
    },
    {
     "name": "stdout",
     "output_type": "stream",
     "text": [
      "Correct cell not found for (-124.833875, 48.562291) after 1000000 iterations\n",
      "Debug info: old particle indices: (yi, xi) 431 0\n",
      "            new particle indices: (yi, xi) 431 42\n",
      "            Mesh 2d shape:  898 398\n",
      "            Relative particle position:  (xsi, eta) -4.3171158020364835e+01 3.8737771370663093e-01\n",
      "Correct cell not found for (-124.842411, 48.570372) after 1000000 iterations\n",
      "Debug info: old particle indices: (yi, xi) 433 0\n",
      "            new particle indices: (yi, xi) 433 42\n",
      "            Mesh 2d shape:  898 398\n",
      "            Relative particle position:  (xsi, eta) -4.3422454579932641e+01 5.4689581186774794e-01\n",
      "Particle 1685 lost !! [340740.0, 17.636367086923034, 48.56383880732422, -124.82770541643592]\n",
      "Particle 1871 lost !! [341730.0, 2.1966634255723023, 48.57142191479863, -124.83569174444108]\n"
     ]
    },
    {
     "name": "stderr",
     "output_type": "stream",
     "text": [
      " 25% (336600.0 of 1296000.0) |##         | Elapsed Time: 0:06:26 ETA:   0:27:15"
     ]
    },
    {
     "name": "stdout",
     "output_type": "stream",
     "text": [
      "Correct cell not found for (-124.853298, 48.585857) after 1000000 iterations\n",
      "Debug info: old particle indices: (yi, xi) 436 0\n",
      "            new particle indices: (yi, xi) 437 42\n",
      "            Mesh 2d shape:  898 398\n",
      "            Relative particle position:  (xsi, eta) -4.3088633766469435e+01 3.0014711639550329e-01\n",
      "Particle 2034 lost !! [342270.0, 8.446029908719211, 48.58415206262463, -124.84670645124618]\n",
      "Particle 4156 lost !! [342450.0, 0.48903352686413243, 50.43929745950344, -125.99999725226174]\n"
     ]
    },
    {
     "name": "stderr",
     "output_type": "stream",
     "text": [
      " 26% (338400.0 of 1296000.0) |##         | Elapsed Time: 0:06:27 ETA:   0:17:36"
     ]
    },
    {
     "name": "stdout",
     "output_type": "stream",
     "text": [
      "Correct cell not found for (-124.859264, 48.588571) after 1000000 iterations\n",
      "Debug info: old particle indices: (yi, xi) 438 0\n",
      "            new particle indices: (yi, xi) 438 42\n",
      "            Mesh 2d shape:  898 398\n",
      "            Relative particle position:  (xsi, eta) -4.3641104781689847e+01 2.7228490578772985e-01\n",
      "Correct cell not found for (-124.842575, 48.573322) after 1000000 iterations\n",
      "Debug info: old particle indices: (yi, xi) 434 1\n",
      "            new particle indices: (yi, xi) 434 43\n",
      "            Mesh 2d shape:  898 398\n",
      "            Relative particle position:  (xsi, eta) -4.4041376277848805e+01 1.4711400382159179e-01\n",
      "Particle 1406 lost !! [344520.0, 10.805358127342975, 48.589487550434235, -124.85270682906645]\n",
      "Particle 1599 lost !! [344160.0, 34.78698280933922, 48.57697837596386, -124.83602936141614]\n"
     ]
    },
    {
     "name": "stderr",
     "output_type": "stream",
     "text": [
      " 26% (349200.0 of 1296000.0) |##         | Elapsed Time: 0:06:38 ETA:   0:14:31"
     ]
    },
    {
     "name": "stdout",
     "output_type": "stream",
     "text": [
      "Correct cell not found for (-124.834073, 48.561601) after 1000000 iterations\n",
      "Debug info: old particle indices: (yi, xi) 431 0\n",
      "            new particle indices: (yi, xi) 431 42\n",
      "            Mesh 2d shape:  898 398\n",
      "            Relative particle position:  (xsi, eta) -4.3291062767781298e+01 2.7212535403361049e-01\n",
      "Particle 1872 lost !! [355590.0, 17.31416663443996, 48.5653532012456, -124.82920417455483]\n"
     ]
    },
    {
     "name": "stderr",
     "output_type": "stream",
     "text": [
      " 27% (351000.0 of 1296000.0) |##         | Elapsed Time: 0:06:41 ETA:   0:26:22"
     ]
    },
    {
     "name": "stdout",
     "output_type": "stream",
     "text": [
      "Correct cell not found for (-124.769105, 48.485982) after 1000000 iterations\n",
      "Debug info: old particle indices: (yi, xi) 412 0\n",
      "            new particle indices: (yi, xi) 412 42\n",
      "            Mesh 2d shape:  898 398\n",
      "            Relative particle position:  (xsi, eta) -4.3053535558636327e+01 1.9068940377168628e-01\n",
      "Particle 1793 lost !! [357210.0, 3.565807170441324, 48.48704401666267, -124.7633034779913]\n"
     ]
    },
    {
     "name": "stderr",
     "output_type": "stream",
     "text": [
      " 28% (372600.0 of 1296000.0) |###        | Elapsed Time: 0:07:01 ETA:   0:24:32"
     ]
    },
    {
     "name": "stdout",
     "output_type": "stream",
     "text": [
      "Correct cell not found for (-124.890497, 48.626858) after 1000000 iterations\n",
      "Debug info: old particle indices: (yi, xi) 448 0\n",
      "            new particle indices: (yi, xi) 447 42\n",
      "            Mesh 2d shape:  898 398\n",
      "            Relative particle position:  (xsi, eta) -4.3519997234037703e+01 8.3812789008749544e-01\n",
      "Particle 1869 lost !! [379710.0, 6.218084469112903, 48.63083844062662, -124.88494684016207]\n"
     ]
    },
    {
     "name": "stderr",
     "output_type": "stream",
     "text": [
      " 28% (374400.0 of 1296000.0) |###        | Elapsed Time: 0:07:02 ETA:   0:17:05"
     ]
    },
    {
     "name": "stdout",
     "output_type": "stream",
     "text": [
      "Correct cell not found for (-124.786109, 48.502375) after 1000000 iterations\n",
      "Debug info: old particle indices: (yi, xi) 416 0\n",
      "            new particle indices: (yi, xi) 416 42\n",
      "            Mesh 2d shape:  898 398\n",
      "            Relative particle position:  (xsi, eta) -4.3520174158687482e+01 5.2677026603794508e-01\n",
      "Correct cell not found for (-124.810676, 48.531888) after 1000000 iterations\n",
      "Debug info: old particle indices: (yi, xi) 423 0\n",
      "            new particle indices: (yi, xi) 423 42\n",
      "            Mesh 2d shape:  898 398\n",
      "            Relative particle position:  (xsi, eta) -4.3516409117109411e+01 9.3711203002155974e-01\n",
      "Correct cell not found for (-124.830287, 48.558651) after 1000000 iterations\n",
      "Debug info: old particle indices: (yi, xi) 429 0\n",
      "            new particle indices: (yi, xi) 430 42\n",
      "            Mesh 2d shape:  898 398\n",
      "            Relative particle position:  (xsi, eta) -4.3113337533406693e+01 4.4173163117187125e-01\n",
      "Particle 1413 lost !! [380160.0, 4.558511043740494, 48.5035716251506, -124.77930716077036]\n",
      "Particle 1478 lost !! [381510.0, 1.1917137823825736, 48.533855216326444, -124.80433605182088]\n",
      "Particle 1610 lost !! [380700.0, 18.73333246514666, 48.557750141055, -124.8237659072072]\n"
     ]
    },
    {
     "name": "stderr",
     "output_type": "stream",
     "text": [
      " 29% (376200.0 of 1296000.0) |###        | Elapsed Time: 0:07:05 ETA:   0:28:32"
     ]
    },
    {
     "name": "stdout",
     "output_type": "stream",
     "text": [
      "Correct cell not found for (-124.800402, 48.522984) after 1000000 iterations\n",
      "Debug info: old particle indices: (yi, xi) 421 0\n",
      "            new particle indices: (yi, xi) 421 42\n",
      "            Mesh 2d shape:  898 398\n",
      "            Relative particle position:  (xsi, eta) -4.3110685460979312e+01 4.9563345773728001e-01\n",
      "Particle 1414 lost !! [382770.0, 46.67300933839932, 48.526554494805595, -124.79630125669534]\n"
     ]
    },
    {
     "name": "stderr",
     "output_type": "stream",
     "text": [
      " 29% (378000.0 of 1296000.0) |###        | Elapsed Time: 0:07:07 ETA:   0:18:58"
     ]
    },
    {
     "name": "stdout",
     "output_type": "stream",
     "text": [
      "Correct cell not found for (-124.841177, 48.570219) after 1000000 iterations\n",
      "Debug info: old particle indices: (yi, xi) 433 0\n",
      "            new particle indices: (yi, xi) 433 42\n",
      "            Mesh 2d shape:  898 398\n",
      "            Relative particle position:  (xsi, eta) -4.3254208533033747e+01 4.2637714660780218e-01\n",
      "Correct cell not found for (-124.743856, 48.455037) after 1000000 iterations\n",
      "Debug info: old particle indices: (yi, xi) 404 0\n",
      "            new particle indices: (yi, xi) 404 42\n",
      "            Mesh 2d shape:  898 398\n",
      "            Relative particle position:  (xsi, eta) -4.3139862066964575e+01 4.6499704594846464e-01\n",
      "Correct cell not found for (-124.730692, 48.440350) after 1000000 iterations\n",
      "Debug info: old particle indices: (yi, xi) 401 0\n",
      "            new particle indices: (yi, xi) 400 42\n",
      "            Mesh 2d shape:  898 398\n",
      "            Relative particle position:  (xsi, eta) -4.3018936966514396e+01 6.8687909460037089e-01\n",
      "Correct cell not found for (-124.838116, 48.567631) after 1000000 iterations\n",
      "Debug info: old particle indices: (yi, xi) 432 1\n",
      "            new particle indices: (yi, xi) 432 43\n",
      "            Mesh 2d shape:  898 398\n",
      "            Relative particle position:  (xsi, eta) -4.4096017280132415e+01 7.3920686975162919e-01\n",
      "Correct cell not found for (-124.840214, 48.570553) after 1000000 iterations\n",
      "Debug info: old particle indices: (yi, xi) 432 0\n",
      "            new particle indices: (yi, xi) 433 42\n",
      "            Mesh 2d shape:  898 398\n",
      "            Relative particle position:  (xsi, eta) -4.3071292940284621e+01 4.2144566834943431e-01\n",
      "Correct cell not found for (-124.710654, 48.412532) after 1000000 iterations\n",
      "Debug info: old particle indices: (yi, xi) 394 0\n",
      "            new particle indices: (yi, xi) 393 42\n",
      "            Mesh 2d shape:  898 398\n",
      "            Relative particle position:  (xsi, eta) -4.3518581485526234e+01 9.7421882773898960e-01\n",
      "Particle 1483 lost !! [385020.0, 13.747979209785377, 48.57174646448536, -124.83558527028255]\n",
      "Particle 1552 lost !! [384120.0, 15.803304445173149, 48.455574045829394, -124.73835327190181]\n",
      "Particle 1651 lost !! [385020.0, 5.5543661599220595, 48.443541296602966, -124.72682440587673]\n",
      "Particle 1870 lost !! [383670.0, 13.10433934622704, 48.56902252250994, -124.83138860989179]\n",
      "Particle 2077 lost !! [384300.0, 27.660230608402593, 48.56898377914717, -124.8333694710684]\n",
      "Particle 2290 lost !! [384480.0, 11.483897310970702, 48.41684501713467, -124.70645683616222]\n"
     ]
    },
    {
     "name": "stderr",
     "output_type": "stream",
     "text": [
      " 29% (379800.0 of 1296000.0) |###        | Elapsed Time: 0:07:10 ETA:   0:28:19"
     ]
    },
    {
     "name": "stdout",
     "output_type": "stream",
     "text": [
      "Correct cell not found for (-124.741545, 48.452672) after 1000000 iterations\n",
      "Debug info: old particle indices: (yi, xi) 404 0\n",
      "            new particle indices: (yi, xi) 403 42\n",
      "            Mesh 2d shape:  898 398\n",
      "            Relative particle position:  (xsi, eta) -4.3101740907137575e+01 8.6478153371659960e-01\n",
      "Correct cell not found for (-124.880664, 48.619061) after 1000000 iterations\n",
      "Debug info: old particle indices: (yi, xi) 445 0\n",
      "            new particle indices: (yi, xi) 445 42\n",
      "            Mesh 2d shape:  898 398\n",
      "            Relative particle position:  (xsi, eta) -4.3000385130958904e+01 6.0064015872088117e-01\n",
      "Particle 1866 lost !! [385290.0, 1.5006315190239647, 48.455343485875005, -124.73595012183144]\n",
      "Particle 2296 lost !! [386370.0, 23.057261234285846, 48.618723022055384, -124.87497205661916]\n"
     ]
    },
    {
     "name": "stderr",
     "output_type": "stream",
     "text": [
      " 29% (381600.0 of 1296000.0) |###        | Elapsed Time: 0:07:11 ETA:   0:19:32"
     ]
    },
    {
     "name": "stdout",
     "output_type": "stream",
     "text": [
      "Correct cell not found for (-124.722523, 48.427496) after 1000000 iterations\n",
      "Debug info: old particle indices: (yi, xi) 397 0\n",
      "            new particle indices: (yi, xi) 397 42\n",
      "            Mesh 2d shape:  898 398\n",
      "            Relative particle position:  (xsi, eta) -4.3383822140007425e+01 6.7290824986831155e-01\n",
      "Correct cell not found for (-124.735151, 48.442536) after 1000000 iterations\n",
      "Debug info: old particle indices: (yi, xi) 401 0\n",
      "            new particle indices: (yi, xi) 401 42\n",
      "            Mesh 2d shape:  898 398\n",
      "            Relative particle position:  (xsi, eta) -4.3400823183669750e+01 4.4230485096851763e-01\n",
      "Correct cell not found for (-124.767553, 48.483972) after 1000000 iterations\n",
      "Debug info: old particle indices: (yi, xi) 412 0\n",
      "            new particle indices: (yi, xi) 411 42\n",
      "            Mesh 2d shape:  898 398\n",
      "            Relative particle position:  (xsi, eta) -4.3067940238527108e+01 6.9160042046668813e-01\n",
      "Correct cell not found for (-124.803626, 48.526439) after 1000000 iterations\n",
      "Debug info: old particle indices: (yi, xi) 423 0\n",
      "            new particle indices: (yi, xi) 422 42\n",
      "            Mesh 2d shape:  898 398\n",
      "            Relative particle position:  (xsi, eta) -4.3138622859415285e+01 3.7975057006063651e-01\n",
      "Particle 1475 lost !! [387990.0, 17.540099080758385, 48.42947159459354, -124.71579062622337]\n",
      "Particle 1598 lost !! [387810.0, 1.0109130582518144, 48.44658815946127, -124.7306710531055]\n",
      "Particle 1686 lost !! [387090.0, 23.59423499736173, 48.48793868478449, -124.7662814061214]\n",
      "Particle 2507 lost !! [387360.0, 27.874834584804923, 48.52986854969281, -124.80223265341952]\n"
     ]
    },
    {
     "name": "stderr",
     "output_type": "stream",
     "text": [
      " 29% (383400.0 of 1296000.0) |###        | Elapsed Time: 0:07:14 ETA:   0:27:16"
     ]
    },
    {
     "name": "stdout",
     "output_type": "stream",
     "text": [
      "Correct cell not found for (-124.745896, 48.455144) after 1000000 iterations\n",
      "Debug info: old particle indices: (yi, xi) 405 0\n",
      "            new particle indices: (yi, xi) 404 42\n",
      "            Mesh 2d shape:  898 398\n",
      "            Relative particle position:  (xsi, eta) -4.3421481207434354e+01 6.2291059277651817e-01\n",
      "Correct cell not found for (-124.811448, 48.536609) after 1000000 iterations\n",
      "Debug info: old particle indices: (yi, xi) 424 0\n",
      "            new particle indices: (yi, xi) 424 42\n",
      "            Mesh 2d shape:  898 398\n",
      "            Relative particle position:  (xsi, eta) -4.3007437991207894e+01 8.7751561221617425e-01\n",
      "Particle 1379 lost !! [390060.0, 10.669383934772688, 48.45935056342379, -124.73958406992614]\n",
      "Particle 1867 lost !! [388890.0, 53.47634744693654, 48.537523281535805, -124.80666605958824]\n"
     ]
    },
    {
     "name": "stderr",
     "output_type": "stream",
     "text": [
      " 29% (385200.0 of 1296000.0) |###        | Elapsed Time: 0:07:17 ETA:   0:18:40"
     ]
    },
    {
     "name": "stdout",
     "output_type": "stream",
     "text": [
      "Correct cell not found for (-124.759783, 48.469731) after 1000000 iterations\n",
      "Debug info: old particle indices: (yi, xi) 408 0\n",
      "            new particle indices: (yi, xi) 408 42\n",
      "            Mesh 2d shape:  898 398\n",
      "            Relative particle position:  (xsi, eta) -4.3679296375400064e+01 4.0495757557806555e-01\n",
      "Correct cell not found for (-124.745419, 48.453699) after 1000000 iterations\n",
      "Debug info: old particle indices: (yi, xi) 404 0\n",
      "            new particle indices: (yi, xi) 404 42\n",
      "            Mesh 2d shape:  898 398\n",
      "            Relative particle position:  (xsi, eta) -4.3538018737522648e+01 3.2864235901045968e-01\n",
      "Correct cell not found for (-124.780058, 48.498839) after 1000000 iterations\n",
      "Debug info: old particle indices: (yi, xi) 415 1\n",
      "            new particle indices: (yi, xi) 415 43\n",
      "            Mesh 2d shape:  898 398\n",
      "            Relative particle position:  (xsi, eta) -4.4063360441315318e+01 4.3302304160570515e-01\n",
      "Correct cell not found for (-124.787199, 48.505899) after 1000000 iterations\n",
      "Debug info: old particle indices: (yi, xi) 417 0\n",
      "            new particle indices: (yi, xi) 417 42\n",
      "            Mesh 2d shape:  898 398\n",
      "            Relative particle position:  (xsi, eta) -4.3212409802486107e+01 2.8393045613674178e-01\n",
      "Particle 1354 lost !! [392220.0, 15.753338175040406, 48.47105304143879, -124.75360551561127]\n",
      "Particle 1410 lost !! [391050.0, 4.855656626090662, 48.45781301699525, -124.7382277517518]\n",
      "Particle 1559 lost !! [391500.0, 25.114455296975386, 48.4998557374752, -124.7728453885311]\n",
      "Particle 1603 lost !! [390690.0, 8.104135256181774, 48.50775378366736, -124.78113188952118]\n"
     ]
    },
    {
     "name": "stderr",
     "output_type": "stream",
     "text": [
      " 29% (387000.0 of 1296000.0) |###        | Elapsed Time: 0:07:20 ETA:   0:29:43"
     ]
    },
    {
     "name": "stdout",
     "output_type": "stream",
     "text": [
      "Correct cell not found for (-124.882123, 48.619554) after 1000000 iterations\n",
      "Debug info: old particle indices: (yi, xi) 446 0\n",
      "            new particle indices: (yi, xi) 445 42\n",
      "            Mesh 2d shape:  898 398\n",
      "            Relative particle position:  (xsi, eta) -4.3149245193280429e+01 8.0629574444496332e-01\n",
      "Correct cell not found for (-124.908969, 48.651097) after 1000000 iterations\n",
      "Debug info: old particle indices: (yi, xi) 454 1\n",
      "            new particle indices: (yi, xi) 453 43\n",
      "            Mesh 2d shape:  898 398\n",
      "            Relative particle position:  (xsi, eta) -4.4204157602680169e+01 7.5700778970881266e-01\n",
      "Particle 1835 lost !! [392760.0, 8.651786948552601, 48.62239333122583, -124.87734223501387]\n",
      "Particle 2590 lost !! [394110.0, 33.79254450759066, 48.655621832024444, -124.90281350759949]\n"
     ]
    },
    {
     "name": "stderr",
     "output_type": "stream",
     "text": [
      " 30% (388800.0 of 1296000.0) |###        | Elapsed Time: 0:07:21 ETA:   0:19:13"
     ]
    },
    {
     "name": "stdout",
     "output_type": "stream",
     "text": [
      "Correct cell not found for (-124.729604, 48.438257) after 1000000 iterations\n",
      "Debug info: old particle indices: (yi, xi) 400 1\n",
      "            new particle indices: (yi, xi) 400 43\n",
      "            Mesh 2d shape:  898 398\n",
      "            Relative particle position:  (xsi, eta) -4.4135332480426591e+01 2.4902308881919494e-01\n",
      "Correct cell not found for (-124.761627, 48.476624) after 1000000 iterations\n",
      "Debug info: old particle indices: (yi, xi) 410 1\n",
      "            new particle indices: (yi, xi) 409 43\n",
      "            Mesh 2d shape:  898 398\n",
      "            Relative particle position:  (xsi, eta) -4.4078114434587050e+01 8.4625902613709925e-01\n",
      "Correct cell not found for (-124.784020, 48.503443) after 1000000 iterations\n",
      "Debug info: old particle indices: (yi, xi) 417 0\n",
      "            new particle indices: (yi, xi) 416 42\n",
      "            Mesh 2d shape:  898 398\n",
      "            Relative particle position:  (xsi, eta) -4.3078108394512348e+01 5.8212397467013077e-01\n",
      "Particle 1512 lost !! [395010.0, 2.6114274192866405, 48.442495528408955, -124.72345712594625]\n",
      "Particle 1560 lost !! [394740.0, 12.682553688621377, 48.47925862549385, -124.755527947887]\n",
      "Particle 1609 lost !! [395550.0, 12.618305261451427, 48.5068868496016, -124.77988768540229]\n",
      "Particle 4161 lost !! [395550.0, 39.204666919648545, 50.45016502664964, -125.9999331757457]\n"
     ]
    },
    {
     "name": "stderr",
     "output_type": "stream",
     "text": [
      " 30% (390600.0 of 1296000.0) |###        | Elapsed Time: 0:07:24 ETA:   0:27:35"
     ]
    },
    {
     "name": "stdout",
     "output_type": "stream",
     "text": [
      "Correct cell not found for (-124.826171, 48.553849) after 1000000 iterations\n",
      "Debug info: old particle indices: (yi, xi) 429 0\n",
      "            new particle indices: (yi, xi) 429 42\n",
      "            Mesh 2d shape:  898 398\n",
      "            Relative particle position:  (xsi, eta) -4.3048952112741652e+01 2.3259307978101673e-01\n",
      "Correct cell not found for (-124.812785, 48.534375) after 1000000 iterations\n",
      "Debug info: old particle indices: (yi, xi) 424 0\n",
      "            new particle indices: (yi, xi) 424 42\n",
      "            Mesh 2d shape:  898 398\n",
      "            Relative particle position:  (xsi, eta) -4.3495005548554396e+01 5.5304579380136987e-01\n",
      "Particle 1907 lost !! [396450.0, 9.49381755316117, 48.55458617431906, -124.82136298337032]\n",
      "Particle 2263 lost !! [396630.0, 31.485861676034148, 48.538516448946595, -124.8069091585393]\n"
     ]
    },
    {
     "name": "stderr",
     "output_type": "stream",
     "text": [
      " 30% (394200.0 of 1296000.0) |###        | Elapsed Time: 0:07:28 ETA:   0:23:24"
     ]
    },
    {
     "name": "stdout",
     "output_type": "stream",
     "text": [
      "Correct cell not found for (-124.790807, 48.510780) after 1000000 iterations\n",
      "Debug info: old particle indices: (yi, xi) 418 1\n",
      "            new particle indices: (yi, xi) 418 43\n",
      "            Mesh 2d shape:  898 398\n",
      "            Relative particle position:  (xsi, eta) -4.4175864516393588e+01 4.7324508256723169e-01\n",
      "Particle 2116 lost !! [400140.0, 68.25074107004534, 48.51437310602754, -124.78464060832651]\n"
     ]
    },
    {
     "name": "stderr",
     "output_type": "stream",
     "text": [
      " 32% (415800.0 of 1296000.0) |###        | Elapsed Time: 0:07:49 ETA:   0:22:35"
     ]
    },
    {
     "name": "stdout",
     "output_type": "stream",
     "text": [
      "Correct cell not found for (-122.666188, 47.131322) after 1000000 iterations\n",
      "Debug info: old particle indices: (yi, xi) 1 143\n",
      "            new particle indices: (yi, xi) 0 143\n",
      "            Mesh 2d shape:  898 398\n",
      "            Relative particle position:  (xsi, eta) 3.2764148422405981e-01 -1.6599911794285563e-02\n",
      "Particle 853 lost !! [421290.0, 60.66389613940702, 47.13562727878005, -122.67028817693155]\n"
     ]
    },
    {
     "name": "stderr",
     "output_type": "stream",
     "text": [
      " 32% (417600.0 of 1296000.0) |###        | Elapsed Time: 0:07:51 ETA:   0:16:08"
     ]
    },
    {
     "name": "stdout",
     "output_type": "stream",
     "text": [
      "Correct cell not found for (-124.805852, 48.526992) after 1000000 iterations\n",
      "Debug info: old particle indices: (yi, xi) 422 0\n",
      "            new particle indices: (yi, xi) 422 42\n",
      "            Mesh 2d shape:  898 398\n",
      "            Relative particle position:  (xsi, eta) -4.3384564133963359e+01 6.3893772704041663e-01\n",
      "Correct cell not found for (-124.803232, 48.526403) after 1000000 iterations\n",
      "Debug info: old particle indices: (yi, xi) 422 1\n",
      "            new particle indices: (yi, xi) 422 43\n",
      "            Mesh 2d shape:  898 398\n",
      "            Relative particle position:  (xsi, eta) -4.4059103490987496e+01 3.5884707105742686e-01\n",
      "Particle 1692 lost !! [424260.0, 2.3941847777717813, 48.528170918243674, -124.79981392820126]\n",
      "Particle 2334 lost !! [424080.0, 38.850448048113456, 48.52936052725749, -124.79778035408654]\n"
     ]
    },
    {
     "name": "stderr",
     "output_type": "stream",
     "text": [
      " 32% (419400.0 of 1296000.0) |###        | Elapsed Time: 0:07:54 ETA:   0:26:06"
     ]
    },
    {
     "name": "stdout",
     "output_type": "stream",
     "text": [
      "Correct cell not found for (-124.837930, 48.566796) after 1000000 iterations\n",
      "Debug info: old particle indices: (yi, xi) 433 1\n",
      "            new particle indices: (yi, xi) 432 43\n",
      "            Mesh 2d shape:  898 398\n",
      "            Relative particle position:  (xsi, eta) -4.4180218699969863e+01 5.6985049815747724e-01\n",
      "Correct cell not found for (-124.805168, 48.528146) after 1000000 iterations\n",
      "Debug info: old particle indices: (yi, xi) 423 1\n",
      "            new particle indices: (yi, xi) 422 43\n",
      "            Mesh 2d shape:  898 398\n",
      "            Relative particle position:  (xsi, eta) -4.4161449928629459e+01 8.2787747838770243e-01\n",
      "Particle 1640 lost !! [425880.0, 8.925762881991833, 48.57083773773781, -124.83231072607356]\n",
      "Particle 1642 lost !! [425250.0, 37.51234086524302, 48.53222653673892, -124.79859217034374]\n"
     ]
    },
    {
     "name": "stderr",
     "output_type": "stream",
     "text": [
      " 32% (421200.0 of 1296000.0) |###        | Elapsed Time: 0:07:55 ETA:   0:17:18"
     ]
    },
    {
     "name": "stdout",
     "output_type": "stream",
     "text": [
      "Correct cell not found for (-124.812465, 48.537455) after 1000000 iterations\n",
      "Debug info: old particle indices: (yi, xi) 425 0\n",
      "            new particle indices: (yi, xi) 425 42\n",
      "            Mesh 2d shape:  898 398\n",
      "            Relative particle position:  (xsi, eta) -4.3046116181018910e+01 1.0973255425643136e-01\n",
      "Particle 1780 lost !! [426600.0, 6.6997330422223715, 48.541125782710004, -124.80886318823137]\n"
     ]
    },
    {
     "name": "stderr",
     "output_type": "stream",
     "text": [
      " 32% (423000.0 of 1296000.0) |###        | Elapsed Time: 0:07:58 ETA:   0:25:55"
     ]
    },
    {
     "name": "stdout",
     "output_type": "stream",
     "text": [
      "Correct cell not found for (-124.815959, 48.538876) after 1000000 iterations\n",
      "Debug info: old particle indices: (yi, xi) 425 0\n",
      "            new particle indices: (yi, xi) 425 42\n",
      "            Mesh 2d shape:  898 398\n",
      "            Relative particle position:  (xsi, eta) -4.3382940051783962e+01 6.3231524749419010e-01\n",
      "Correct cell not found for (-124.819872, 48.544140) after 1000000 iterations\n",
      "Debug info: old particle indices: (yi, xi) 427 0\n",
      "            new particle indices: (yi, xi) 426 42\n",
      "            Mesh 2d shape:  898 398\n",
      "            Relative particle position:  (xsi, eta) -4.3353775026862792e+01 9.4414244825053983e-01\n",
      "Correct cell not found for (-124.792905, 48.513960) after 1000000 iterations\n",
      "Debug info: old particle indices: (yi, xi) 419 0\n",
      "            new particle indices: (yi, xi) 419 42\n",
      "            Mesh 2d shape:  898 398\n",
      "            Relative particle position:  (xsi, eta) -4.3113230380854993e+01 2.2384938904485513e-01\n",
      "Particle 1518 lost !! [429300.0, 22.99080015059006, 48.54209433668854, -124.80953070763628]\n",
      "Particle 1735 lost !! [429030.0, 25.10705259166108, 48.54798426006216, -124.81431688413642]\n",
      "Particle 1879 lost !! [429300.0, 0.35822670298120257, 48.514801628249344, -124.78668592776242]\n"
     ]
    },
    {
     "name": "stderr",
     "output_type": "stream",
     "text": [
      " 32% (424800.0 of 1296000.0) |###        | Elapsed Time: 0:07:59 ETA:   0:17:27"
     ]
    },
    {
     "name": "stdout",
     "output_type": "stream",
     "text": [
      "Correct cell not found for (-124.826049, 48.550348) after 1000000 iterations\n",
      "Debug info: old particle indices: (yi, xi) 428 0\n",
      "            new particle indices: (yi, xi) 428 42\n",
      "            Mesh 2d shape:  898 398\n",
      "            Relative particle position:  (xsi, eta) -4.3447246935565488e+01 5.5438760370504625e-01\n",
      "Particle 1601 lost !! [430560.0, 11.910223450806962, 48.55101678860404, -124.81991846704439]\n"
     ]
    },
    {
     "name": "stderr",
     "output_type": "stream",
     "text": [
      " 32% (426600.0 of 1296000.0) |###        | Elapsed Time: 0:08:03 ETA:   0:26:05"
     ]
    },
    {
     "name": "stdout",
     "output_type": "stream",
     "text": [
      "Correct cell not found for (-124.842702, 48.571644) after 1000000 iterations\n",
      "Debug info: old particle indices: (yi, xi) 434 1\n",
      "            new particle indices: (yi, xi) 433 43\n",
      "            Mesh 2d shape:  898 398\n",
      "            Relative particle position:  (xsi, eta) -4.4259793167781154e+01 8.3085342256247752e-01\n",
      "Particle 1779 lost !! [432360.0, 34.5550652003799, 48.575149479303036, -124.83585107755094]\n"
     ]
    },
    {
     "name": "stderr",
     "output_type": "stream",
     "text": [
      " 33% (430200.0 of 1296000.0) |###        | Elapsed Time: 0:08:06 ETA:   0:22:25"
     ]
    },
    {
     "name": "stdout",
     "output_type": "stream",
     "text": [
      "Correct cell not found for (-124.825363, 48.551663) after 1000000 iterations\n",
      "Debug info: old particle indices: (yi, xi) 429 0\n",
      "            new particle indices: (yi, xi) 428 42\n",
      "            Mesh 2d shape:  898 398\n",
      "            Relative particle position:  (xsi, eta) -4.3184158641094143e+01 7.5734007120877167e-01\n",
      "Particle 1784 lost !! [436860.0, 28.260253623974094, 48.55482463852648, -124.82152421546057]\n"
     ]
    },
    {
     "name": "stderr",
     "output_type": "stream",
     "text": [
      " 33% (432000.0 of 1296000.0) |###        | Elapsed Time: 0:08:08 ETA:   0:16:23"
     ]
    },
    {
     "name": "stdout",
     "output_type": "stream",
     "text": [
      "Correct cell not found for (-124.926914, 48.672213) after 1000000 iterations\n",
      "Debug info: old particle indices: (yi, xi) 458 0\n",
      "            new particle indices: (yi, xi) 459 42\n",
      "            Mesh 2d shape:  898 398\n",
      "            Relative particle position:  (xsi, eta) -4.3225228312128955e+01 9.6753338624832264e-02\n",
      "Correct cell not found for (-124.837243, 48.565941) after 1000000 iterations\n",
      "Debug info: old particle indices: (yi, xi) 432 0\n",
      "            new particle indices: (yi, xi) 432 42\n",
      "            Mesh 2d shape:  898 398\n",
      "            Relative particle position:  (xsi, eta) -4.3184612400919441e+01 3.1403003922740474e-01\n",
      "Particle 1733 lost !! [439110.0, 21.62528283696524, 48.67238477542178, -124.9209500876853]\n",
      "Particle 2565 lost !! [437670.0, 7.262424629852229, 48.56883573502673, -124.83257018283015]\n"
     ]
    },
    {
     "name": "stderr",
     "output_type": "stream",
     "text": [
      " 33% (437400.0 of 1296000.0) |###        | Elapsed Time: 0:08:14 ETA:   0:22:24"
     ]
    },
    {
     "name": "stdout",
     "output_type": "stream",
     "text": [
      "Correct cell not found for (-124.855893, 48.589362) after 1000000 iterations\n",
      "Debug info: old particle indices: (yi, xi) 437 0\n",
      "            new particle indices: (yi, xi) 438 42\n",
      "            Mesh 2d shape:  898 398\n",
      "            Relative particle position:  (xsi, eta) -4.3050915471463369e+01 1.8708180598661295e-01\n",
      "Particle 1778 lost !! [443070.0, 2.164245958803399, 48.58945424722802, -124.84897103667267]\n"
     ]
    },
    {
     "name": "stderr",
     "output_type": "stream",
     "text": [
      " 35% (464400.0 of 1296000.0) |###        | Elapsed Time: 0:08:39 ETA:   0:12:14"
     ]
    },
    {
     "name": "stdout",
     "output_type": "stream",
     "text": [
      "Correct cell not found for (-124.735167, 48.445116) after 1000000 iterations\n",
      "Debug info: old particle indices: (yi, xi) 402 0\n",
      "            new particle indices: (yi, xi) 401 42\n",
      "            Mesh 2d shape:  898 398\n",
      "            Relative particle position:  (xsi, eta) -4.3100148892687336e+01 9.6649804404922857e-01\n",
      "Particle 1648 lost !! [471330.0, 1.0741111269869177, 48.44855442305951, -124.73333517482385]\n"
     ]
    },
    {
     "name": "stderr",
     "output_type": "stream",
     "text": [
      " 35% (466200.0 of 1296000.0) |###        | Elapsed Time: 0:08:42 ETA:   0:24:16"
     ]
    },
    {
     "name": "stdout",
     "output_type": "stream",
     "text": [
      "Correct cell not found for (-124.803606, 48.527345) after 1000000 iterations\n",
      "Debug info: old particle indices: (yi, xi) 422 0\n",
      "            new particle indices: (yi, xi) 422 42\n",
      "            Mesh 2d shape:  898 398\n",
      "            Relative particle position:  (xsi, eta) -4.3015756783990923e+01 5.4796871437899608e-01\n",
      "Correct cell not found for (-124.867663, 48.598717) after 1000000 iterations\n",
      "Debug info: old particle indices: (yi, xi) 441 0\n",
      "            new particle indices: (yi, xi) 440 42\n",
      "            Mesh 2d shape:  898 398\n",
      "            Relative particle position:  (xsi, eta) -4.3598979759455482e+01 7.7873047146829188e-01\n",
      "Correct cell not found for (-124.770249, 48.485666) after 1000000 iterations\n",
      "Debug info: old particle indices: (yi, xi) 412 1\n",
      "            new particle indices: (yi, xi) 412 43\n",
      "            Mesh 2d shape:  898 398\n",
      "            Relative particle position:  (xsi, eta) -4.4230185540386188e+01 1.9747380707537091e-01\n",
      "Particle 1329 lost !! [472320.0, 18.01290587506694, 48.529700041471045, -124.79951732002499]\n",
      "Particle 1384 lost !! [473130.0, 0.9565423316200957, 48.60241282405709, -124.86102838505424]\n",
      "Particle 1694 lost !! [472140.0, 4.1545666128294245, 48.4895305278401, -124.76360589797503]\n"
     ]
    },
    {
     "name": "stderr",
     "output_type": "stream",
     "text": [
      " 36% (468000.0 of 1296000.0) |###        | Elapsed Time: 0:08:43 ETA:   0:15:52"
     ]
    },
    {
     "name": "stdout",
     "output_type": "stream",
     "text": [
      "Correct cell not found for (-124.870528, 48.605937) after 1000000 iterations\n",
      "Debug info: old particle indices: (yi, xi) 441 0\n",
      "            new particle indices: (yi, xi) 442 42\n",
      "            Mesh 2d shape:  898 398\n",
      "            Relative particle position:  (xsi, eta) -4.3176112647005624e+01 3.9321336197719475e-01\n",
      "Correct cell not found for (-124.845429, 48.574601) after 1000000 iterations\n",
      "Debug info: old particle indices: (yi, xi) 434 0\n",
      "            new particle indices: (yi, xi) 434 42\n",
      "            Mesh 2d shape:  898 398\n",
      "            Relative particle position:  (xsi, eta) -4.3337363338872407e+01 5.7128881954217481e-01\n",
      "Correct cell not found for (-124.817567, 48.542191) after 1000000 iterations\n",
      "Debug info: old particle indices: (yi, xi) 426 1\n",
      "            new particle indices: (yi, xi) 426 43\n",
      "            Mesh 2d shape:  898 398\n",
      "            Relative particle position:  (xsi, eta) -4.4247937214160814e+01 3.8523976010018279e-01\n",
      "Particle 1613 lost !! [473760.0, 8.014728545334407, 48.604823820838675, -124.8642609480782]\n",
      "Particle 1830 lost !! [473580.0, 22.2002270107529, 48.57791963934658, -124.8406458424938]\n",
      "Particle 2111 lost !! [474570.0, 38.27585677622436, 48.545501123547126, -124.81079728736016]\n"
     ]
    },
    {
     "name": "stderr",
     "output_type": "stream",
     "text": [
      " 36% (469800.0 of 1296000.0) |###        | Elapsed Time: 0:08:46 ETA:   0:23:58"
     ]
    },
    {
     "name": "stdout",
     "output_type": "stream",
     "text": [
      "Correct cell not found for (-124.719245, 48.420819) after 1000000 iterations\n",
      "Debug info: old particle indices: (yi, xi) 396 0\n",
      "            new particle indices: (yi, xi) 396 42\n",
      "            Mesh 2d shape:  898 398\n",
      "            Relative particle position:  (xsi, eta) -4.3758180192973711e+01 1.7650297377647328e-01\n",
      "Particle 1657 lost !! [476190.0, 0.8162483200563111, 48.4245631353969, -124.7133022252949]\n"
     ]
    },
    {
     "name": "stderr",
     "output_type": "stream",
     "text": [
      " 36% (471600.0 of 1296000.0) |####       | Elapsed Time: 0:08:47 ETA:   0:15:26"
     ]
    },
    {
     "name": "stdout",
     "output_type": "stream",
     "text": [
      "Correct cell not found for (-124.749284, 48.461428) after 1000000 iterations\n",
      "Debug info: old particle indices: (yi, xi) 407 0\n",
      "            new particle indices: (yi, xi) 406 42\n",
      "            Mesh 2d shape:  898 398\n",
      "            Relative particle position:  (xsi, eta) -4.3158922144320179e+01 9.8236985744396529e-02\n",
      "Correct cell not found for (-124.710610, 48.412720) after 1000000 iterations\n",
      "Debug info: old particle indices: (yi, xi) 393 0\n",
      "            new particle indices: (yi, xi) 394 42\n",
      "            Mesh 2d shape:  898 398\n",
      "            Relative particle position:  (xsi, eta) -4.3488879352172951e+01 1.0071190937786505e+00\n",
      "Correct cell not found for (-124.910491, 48.651943) after 1000000 iterations\n",
      "Debug info: old particle indices: (yi, xi) 454 0\n",
      "            new particle indices: (yi, xi) 454 42\n",
      "            Mesh 2d shape:  898 398\n",
      "            Relative particle position:  (xsi, eta) -4.3371360549898441e+01 5.4257337475322041e-02\n",
      "Correct cell not found for (-124.764300, 48.478833) after 1000000 iterations\n",
      "Debug info: old particle indices: (yi, xi) 410 0\n",
      "            new particle indices: (yi, xi) 410 42\n",
      "            Mesh 2d shape:  898 398\n",
      "            Relative particle position:  (xsi, eta) -4.3216560070477080e+01 4.7024385616904363e-01\n",
      "Particle 1234 lost !! [477450.0, 4.695476441438254, 48.46554530008301, -124.7501142650916]\n",
      "Particle 1597 lost !! [478620.0, 7.644119905461457, 48.41445372964195, -124.70405636326213]\n",
      "Particle 1684 lost !! [478620.0, 15.558017689203572, 48.65508926346042, -124.90401464611183]\n",
      "Particle 2188 lost !! [478260.0, 35.33712548566664, 48.48175194017809, -124.7604320964381]\n"
     ]
    },
    {
     "name": "stderr",
     "output_type": "stream",
     "text": [
      " 36% (473400.0 of 1296000.0) |####       | Elapsed Time: 0:08:50 ETA:   0:23:06"
     ]
    },
    {
     "name": "stdout",
     "output_type": "stream",
     "text": [
      "Correct cell not found for (-124.859809, 48.593692) after 1000000 iterations\n",
      "Debug info: old particle indices: (yi, xi) 439 0\n",
      "            new particle indices: (yi, xi) 439 42\n",
      "            Mesh 2d shape:  898 398\n",
      "            Relative particle position:  (xsi, eta) -4.3067764533836872e+01 2.5312917792695722e-01\n",
      "Correct cell not found for (-124.788167, 48.507717) after 1000000 iterations\n",
      "Debug info: old particle indices: (yi, xi) 418 0\n",
      "            new particle indices: (yi, xi) 417 42\n",
      "            Mesh 2d shape:  898 398\n",
      "            Relative particle position:  (xsi, eta) -4.3129987205945362e+01 7.0139553585064907e-01\n",
      "Particle 1451 lost !! [479250.0, 11.260632113168873, 48.595215496782174, -124.85466066454313]\n",
      "Particle 2304 lost !! [479970.0, 3.3438832809374937, 48.51115653044048, -124.78445126281038]\n"
     ]
    },
    {
     "name": "stderr",
     "output_type": "stream",
     "text": [
      " 36% (475200.0 of 1296000.0) |####       | Elapsed Time: 0:08:51 ETA:   0:15:28"
     ]
    },
    {
     "name": "stdout",
     "output_type": "stream",
     "text": [
      "Correct cell not found for (-124.790416, 48.510835) after 1000000 iterations\n",
      "Debug info: old particle indices: (yi, xi) 417 0\n",
      "            new particle indices: (yi, xi) 418 42\n",
      "            Mesh 2d shape:  898 398\n",
      "            Relative particle position:  (xsi, eta) -4.3106793532339040e+01 4.5637591240148745e-01\n",
      "Particle 1827 lost !! [482310.0, 32.93488846007579, 48.50954258499042, -124.78379812954994]\n"
     ]
    },
    {
     "name": "stderr",
     "output_type": "stream",
     "text": [
      " 36% (477000.0 of 1296000.0) |####       | Elapsed Time: 0:08:54 ETA:   0:23:20"
     ]
    },
    {
     "name": "stdout",
     "output_type": "stream",
     "text": [
      "Correct cell not found for (-124.799538, 48.521126) after 1000000 iterations\n",
      "Debug info: old particle indices: (yi, xi) 421 1\n",
      "            new particle indices: (yi, xi) 421 43\n",
      "            Mesh 2d shape:  898 398\n",
      "            Relative particle position:  (xsi, eta) -4.4163051419915298e+01 5.5150440019224749e-02\n",
      "Correct cell not found for (-124.883574, 48.621902) after 1000000 iterations\n",
      "Debug info: old particle indices: (yi, xi) 446 0\n",
      "            new particle indices: (yi, xi) 446 42\n",
      "            Mesh 2d shape:  898 398\n",
      "            Relative particle position:  (xsi, eta) -4.3086371371526184e+01 3.7601837907301322e-01\n",
      "Particle 1643 lost !! [482670.0, 33.47435215857074, 48.525057170810506, -124.79343229467685]\n",
      "Particle 1787 lost !! [482670.0, 17.789591666766746, 48.62338886437696, -124.87878163454336]\n"
     ]
    },
    {
     "name": "stderr",
     "output_type": "stream",
     "text": [
      " 36% (478800.0 of 1296000.0) |####       | Elapsed Time: 0:08:55 ETA:   0:15:28"
     ]
    },
    {
     "name": "stdout",
     "output_type": "stream",
     "text": [
      "Correct cell not found for (-124.761989, 48.477640) after 1000000 iterations\n",
      "Debug info: old particle indices: (yi, xi) 410 0\n",
      "            new particle indices: (yi, xi) 410 42\n",
      "            Mesh 2d shape:  898 398\n",
      "            Relative particle position:  (xsi, eta) -4.3043535753722807e+01 8.5005356436074195e-02\n",
      "Correct cell not found for (-124.892459, 48.633001) after 1000000 iterations\n",
      "Debug info: old particle indices: (yi, xi) 449 1\n",
      "            new particle indices: (yi, xi) 449 43\n",
      "            Mesh 2d shape:  898 398\n",
      "            Relative particle position:  (xsi, eta) -4.4005250609782827e+01 1.3682966563445934e-01\n",
      "Particle 1433 lost !! [485010.0, 18.57379837672808, 48.48136692549697, -124.76086891174349]\n",
      "Particle 2441 lost !! [484470.0, 23.310412318935317, 48.63664469639976, -124.8873560012129]\n"
     ]
    },
    {
     "name": "stderr",
     "output_type": "stream",
     "text": [
      " 37% (480600.0 of 1296000.0) |####       | Elapsed Time: 0:08:59 ETA:   0:23:02"
     ]
    },
    {
     "name": "stdout",
     "output_type": "stream",
     "text": [
      "Correct cell not found for (-124.755641, 48.468162) after 1000000 iterations\n",
      "Debug info: old particle indices: (yi, xi) 407 0\n",
      "            new particle indices: (yi, xi) 407 42\n",
      "            Mesh 2d shape:  898 398\n",
      "            Relative particle position:  (xsi, eta) -4.3275513731799045e+01 8.1275743056788963e-01\n",
      "Particle 1343 lost !! [486270.0, 9.156422009594117, 48.46900357912416, -124.74989474010579]\n"
     ]
    },
    {
     "name": "stderr",
     "output_type": "stream",
     "text": [
      " 37% (482400.0 of 1296000.0) |####       | Elapsed Time: 0:08:59 ETA:   0:14:56"
     ]
    },
    {
     "name": "stdout",
     "output_type": "stream",
     "text": [
      "Correct cell not found for (-124.780965, 48.499727) after 1000000 iterations\n",
      "Debug info: old particle indices: (yi, xi) 415 0\n",
      "            new particle indices: (yi, xi) 415 42\n",
      "            Mesh 2d shape:  898 398\n",
      "            Relative particle position:  (xsi, eta) -4.3111016440853781e+01 6.3765844966500318e-01\n",
      "Correct cell not found for (-124.799261, 48.520379) after 1000000 iterations\n",
      "Debug info: old particle indices: (yi, xi) 421 1\n",
      "            new particle indices: (yi, xi) 420 43\n",
      "            Mesh 2d shape:  898 398\n",
      "            Relative particle position:  (xsi, eta) -4.4221126694254266e+01 8.9292202860502323e-01\n",
      "Particle 1334 lost !! [489420.0, 1.0596165042680024, 48.49917782061185, -124.77648321056698]\n",
      "Particle 1452 lost !! [488880.0, 12.699478289385834, 48.52449074447637, -124.7933816698367]\n"
     ]
    },
    {
     "name": "stderr",
     "output_type": "stream",
     "text": [
      " 38% (502200.0 of 1296000.0) |####       | Elapsed Time: 0:09:19 ETA:   0:19:08"
     ]
    },
    {
     "name": "stdout",
     "output_type": "stream",
     "text": [
      "Correct cell not found for (-124.944322, 48.692636) after 1000000 iterations\n",
      "Debug info: old particle indices: (yi, xi) 464 0\n",
      "            new particle indices: (yi, xi) 464 42\n",
      "            Mesh 2d shape:  898 398\n",
      "            Relative particle position:  (xsi, eta) -4.3256680216731823e+01 2.5707897849484096e-01\n",
      "Particle 2473 lost !! [507690.0, 2.331455823441746, 48.69568890648532, -124.94066084618659]\n"
     ]
    },
    {
     "name": "stderr",
     "output_type": "stream",
     "text": [
      " 39% (509400.0 of 1296000.0) |####       | Elapsed Time: 0:09:26 ETA:   0:19:53"
     ]
    },
    {
     "name": "stdout",
     "output_type": "stream",
     "text": [
      "Correct cell not found for (-124.825062, 48.551595) after 1000000 iterations\n",
      "Debug info: old particle indices: (yi, xi) 429 0\n",
      "            new particle indices: (yi, xi) 428 42\n",
      "            Mesh 2d shape:  898 398\n",
      "            Relative particle position:  (xsi, eta) -4.3148405897133351e+01 7.2286502399337738e-01\n",
      "Particle 2189 lost !! [516420.0, 28.592428188920522, 48.554541831479916, -124.8207801578044]\n"
     ]
    },
    {
     "name": "stderr",
     "output_type": "stream",
     "text": [
      " 39% (511200.0 of 1296000.0) |####       | Elapsed Time: 0:09:27 ETA:   0:13:09"
     ]
    },
    {
     "name": "stdout",
     "output_type": "stream",
     "text": [
      "Correct cell not found for (-124.853074, 48.585095) after 1000000 iterations\n",
      "Debug info: old particle indices: (yi, xi) 437 0\n",
      "            new particle indices: (yi, xi) 437 42\n",
      "            Mesh 2d shape:  898 398\n",
      "            Relative particle position:  (xsi, eta) -4.3145090394584770e+01 1.2823224328926291e-01\n",
      "Particle 2508 lost !! [517320.0, 2.8807491720857814, 48.589105906186894, -124.84913291169164]\n"
     ]
    },
    {
     "name": "stderr",
     "output_type": "stream",
     "text": [
      " 39% (513000.0 of 1296000.0) |####       | Elapsed Time: 0:09:30 ETA:   0:20:53"
     ]
    },
    {
     "name": "stdout",
     "output_type": "stream",
     "text": [
      "Correct cell not found for (-124.822580, 48.548293) after 1000000 iterations\n",
      "Debug info: old particle indices: (yi, xi) 428 0\n",
      "            new particle indices: (yi, xi) 427 42\n",
      "            Mesh 2d shape:  898 398\n",
      "            Relative particle position:  (xsi, eta) -4.3196468294268783e+01 9.1391618336347169e-01\n",
      "Correct cell not found for (-124.840749, 48.567702) after 1000000 iterations\n",
      "Debug info: old particle indices: (yi, xi) 433 0\n",
      "            new particle indices: (yi, xi) 432 42\n",
      "            Mesh 2d shape:  898 398\n",
      "            Relative particle position:  (xsi, eta) -4.3481400151766529e+01 9.0258835237912338e-01\n",
      "Particle 1328 lost !! [519570.0, 11.274138718960701, 48.55182981888334, -124.81784500883944]\n",
      "Particle 1558 lost !! [519660.0, 20.005429546788154, 48.571212426650135, -124.83602769936854]\n"
     ]
    },
    {
     "name": "stderr",
     "output_type": "stream",
     "text": [
      " 39% (514800.0 of 1296000.0) |####       | Elapsed Time: 0:09:31 ETA:   0:14:31"
     ]
    },
    {
     "name": "stdout",
     "output_type": "stream",
     "text": [
      "Correct cell not found for (-124.831879, 48.559567) after 1000000 iterations\n",
      "Debug info: old particle indices: (yi, xi) 431 0\n",
      "            new particle indices: (yi, xi) 430 42\n",
      "            Mesh 2d shape:  898 398\n",
      "            Relative particle position:  (xsi, eta) -4.3233717835346262e+01 7.3128497741131626e-01\n",
      "Correct cell not found for (-124.778651, 48.496173) after 1000000 iterations\n",
      "Debug info: old particle indices: (yi, xi) 414 0\n",
      "            new particle indices: (yi, xi) 414 42\n",
      "            Mesh 2d shape:  898 398\n",
      "            Relative particle position:  (xsi, eta) -4.3189223252123924e+01 7.8097969300142023e-01\n",
      "Particle 1565 lost !! [520290.0, 8.26887825423983, 48.56273632461394, -124.82860209949797]\n",
      "Particle 2337 lost !! [521460.0, 25.498943704008074, 48.49816235716194, -124.7745207542813]\n"
     ]
    },
    {
     "name": "stderr",
     "output_type": "stream",
     "text": [
      " 39% (516600.0 of 1296000.0) |####       | Elapsed Time: 0:09:34 ETA:   0:21:51"
     ]
    },
    {
     "name": "stdout",
     "output_type": "stream",
     "text": [
      "Correct cell not found for (-124.787997, 48.506516) after 1000000 iterations\n",
      "Debug info: old particle indices: (yi, xi) 417 0\n",
      "            new particle indices: (yi, xi) 417 42\n",
      "            Mesh 2d shape:  898 398\n",
      "            Relative particle position:  (xsi, eta) -4.3253221868655508e+01 4.5910501896377481e-01\n",
      "Particle 2184 lost !! [522900.0, 42.82554694116926, 48.51000301134277, -124.7822082036962]\n"
     ]
    },
    {
     "name": "stderr",
     "output_type": "stream",
     "text": [
      " 40% (518400.0 of 1296000.0) |####       | Elapsed Time: 0:09:35 ETA:   0:14:07"
     ]
    },
    {
     "name": "stdout",
     "output_type": "stream",
     "text": [
      "Correct cell not found for (-124.921435, 48.663664) after 1000000 iterations\n",
      "Debug info: old particle indices: (yi, xi) 457 0\n",
      "            new particle indices: (yi, xi) 457 42\n",
      "            Mesh 2d shape:  898 398\n",
      "            Relative particle position:  (xsi, eta) -4.3479298774689262e+01 6.2603725444578151e-02\n",
      "Particle 2219 lost !! [523890.0, 32.23196584853788, 48.66647554181661, -124.91509319838084]\n"
     ]
    },
    {
     "name": "stderr",
     "output_type": "stream",
     "text": [
      " 40% (520200.0 of 1296000.0) |####       | Elapsed Time: 0:09:38 ETA:   0:21:50"
     ]
    },
    {
     "name": "stdout",
     "output_type": "stream",
     "text": [
      "Correct cell not found for (-124.912108, 48.656296) after 1000000 iterations\n",
      "Debug info: old particle indices: (yi, xi) 455 1\n",
      "            new particle indices: (yi, xi) 454 43\n",
      "            Mesh 2d shape:  898 398\n",
      "            Relative particle position:  (xsi, eta) -4.4021497929183745e+01 9.7981999131561592e-01\n",
      "Particle 2186 lost !! [527310.0, 31.82388123657591, 48.65927476991209, -124.90614985497979]\n"
     ]
    },
    {
     "name": "stderr",
     "output_type": "stream",
     "text": [
      " 40% (522000.0 of 1296000.0) |####       | Elapsed Time: 0:09:39 ETA:   0:14:19"
     ]
    },
    {
     "name": "stdout",
     "output_type": "stream",
     "text": [
      "Correct cell not found for (-124.852701, 48.583070) after 1000000 iterations\n",
      "Debug info: old particle indices: (yi, xi) 437 0\n",
      "            new particle indices: (yi, xi) 436 42\n",
      "            Mesh 2d shape:  898 398\n",
      "            Relative particle position:  (xsi, eta) -4.3336987979222187e+01 7.0579260239031139e-01\n",
      "Correct cell not found for (-124.792525, 48.511259) after 1000000 iterations\n",
      "Debug info: old particle indices: (yi, xi) 418 0\n",
      "            new particle indices: (yi, xi) 418 42\n",
      "            Mesh 2d shape:  898 398\n",
      "            Relative particle position:  (xsi, eta) -4.3380049905187697e+01 6.8691775753412176e-01\n",
      "Particle 2114 lost !! [527760.0, 46.64134657129215, 48.58693192226682, -124.84665855960017]\n",
      "Particle 2336 lost !! [527490.0, 16.059073650110992, 48.5111274589828, -124.78585439860903]\n"
     ]
    },
    {
     "name": "stderr",
     "output_type": "stream",
     "text": [
      " 40% (523800.0 of 1296000.0) |####       | Elapsed Time: 0:09:42 ETA:   0:21:48"
     ]
    },
    {
     "name": "stdout",
     "output_type": "stream",
     "text": [
      "Correct cell not found for (-122.691756, 47.117785) after 1000000 iterations\n",
      "Debug info: old particle indices: (yi, xi) 0 137\n",
      "            new particle indices: (yi, xi) 0 137\n",
      "            Mesh 2d shape:  898 398\n",
      "            Relative particle position:  (xsi, eta) 9.7450733768508657e-01 -9.0816741600554640e-01\n",
      "Correct cell not found for (-124.801651, 48.520299) after 1000000 iterations\n",
      "Debug info: old particle indices: (yi, xi) 421 0\n",
      "            new particle indices: (yi, xi) 421 42\n",
      "            Mesh 2d shape:  898 398\n",
      "            Relative particle position:  (xsi, eta) -4.3626090911708978e+01 7.0469626745070194e-02\n",
      "Particle 906 lost !! [530370.0, 6.6375448851546786, 47.12156886748999, -122.70029676694453]\n",
      "Particle 2039 lost !! [530190.0, 32.74730108043726, 48.52454091799853, -124.7963107288343]\n"
     ]
    },
    {
     "name": "stderr",
     "output_type": "stream",
     "text": [
      " 40% (525600.0 of 1296000.0) |####       | Elapsed Time: 0:09:43 ETA:   0:14:28"
     ]
    },
    {
     "name": "stdout",
     "output_type": "stream",
     "text": [
      "Correct cell not found for (-122.718694, 47.111829) after 1000000 iterations\n",
      "Debug info: old particle indices: (yi, xi) 0 133\n",
      "            new particle indices: (yi, xi) 0 133\n",
      "            Mesh 2d shape:  898 398\n",
      "            Relative particle position:  (xsi, eta) 3.3123168568434180e-01 -2.1563739941470800e-01\n",
      "Correct cell not found for (-124.866658, 48.597874) after 1000000 iterations\n",
      "Debug info: old particle indices: (yi, xi) 440 0\n",
      "            new particle indices: (yi, xi) 440 42\n",
      "            Mesh 2d shape:  898 398\n",
      "            Relative particle position:  (xsi, eta) -4.3555697178198635e+01 5.4504078721626459e-01\n",
      "Particle 923 lost !! [531810.0, 13.750294819912575, 47.11562626539957, -122.72131669628767]\n",
      "Particle 2118 lost !! [531720.0, 0.6535020071327223, 48.60049566027745, -124.85992869367116]\n"
     ]
    },
    {
     "name": "stderr",
     "output_type": "stream",
     "text": [
      " 40% (527400.0 of 1296000.0) |####       | Elapsed Time: 0:09:46 ETA:   0:20:49"
     ]
    },
    {
     "name": "stdout",
     "output_type": "stream",
     "text": [
      "Correct cell not found for (-124.797696, 48.517946) after 1000000 iterations\n",
      "Debug info: old particle indices: (yi, xi) 420 1\n",
      "            new particle indices: (yi, xi) 420 43\n",
      "            Mesh 2d shape:  898 398\n",
      "            Relative particle position:  (xsi, eta) -4.4319790456214456e+01 3.2843528699673763e-01\n",
      "Particle 1522 lost !! [533340.0, 68.44104084705874, 48.522387363774016, -124.79116914710715]\n"
     ]
    },
    {
     "name": "stderr",
     "output_type": "stream",
     "text": [
      " 40% (529200.0 of 1296000.0) |####       | Elapsed Time: 0:09:47 ETA:   0:13:17"
     ]
    },
    {
     "name": "stdout",
     "output_type": "stream",
     "text": [
      "Correct cell not found for (-124.810848, 48.535928) after 1000000 iterations\n",
      "Debug info: old particle indices: (yi, xi) 424 1\n",
      "            new particle indices: (yi, xi) 424 43\n",
      "            Mesh 2d shape:  898 398\n",
      "            Relative particle position:  (xsi, eta) -4.4032556565314565e+01 7.1835048885394903e-01\n",
      "Particle 1607 lost !! [534690.0, 35.560163082287744, 48.537328926859445, -124.8048764358606]\n"
     ]
    },
    {
     "name": "stderr",
     "output_type": "stream",
     "text": [
      " 41% (532800.0 of 1296000.0) |####       | Elapsed Time: 0:09:51 ETA:   0:13:52"
     ]
    },
    {
     "name": "stdout",
     "output_type": "stream",
     "text": [
      "Correct cell not found for (-124.787204, 48.502726) after 1000000 iterations\n",
      "Debug info: old particle indices: (yi, xi) 417 0\n",
      "            new particle indices: (yi, xi) 416 42\n",
      "            Mesh 2d shape:  898 398\n",
      "            Relative particle position:  (xsi, eta) -4.3627290989350442e+01 6.7360374306962501e-01\n",
      "Correct cell not found for (-124.942913, 48.692671) after 1000000 iterations\n",
      "Debug info: old particle indices: (yi, xi) 463 0\n",
      "            new particle indices: (yi, xi) 464 42\n",
      "            Mesh 2d shape:  898 398\n",
      "            Relative particle position:  (xsi, eta) -4.3043730401821598e+01 1.6598056328427641e-01\n",
      "Particle 1486 lost !! [538740.0, 5.244846403816012, 48.50696747477527, -124.78028442457872]\n",
      "Particle 2000 lost !! [539370.0, 7.729857758854973, 48.69280310626336, -124.9375182906412]\n"
     ]
    },
    {
     "name": "stderr",
     "output_type": "stream",
     "text": [
      " 41% (534600.0 of 1296000.0) |####       | Elapsed Time: 0:09:54 ETA:   0:21:04"
     ]
    },
    {
     "name": "stdout",
     "output_type": "stream",
     "text": [
      "Correct cell not found for (-122.689343, 47.121031) after 1000000 iterations\n",
      "Debug info: old particle indices: (yi, xi) 0 138\n",
      "            new particle indices: (yi, xi) 0 138\n",
      "            Mesh 2d shape:  898 398\n",
      "            Relative particle position:  (xsi, eta) 7.1692221970545711e-01 -4.3718708005521689e-01\n",
      "Particle 860 lost !! [540090.0, 13.581020751324203, 47.1253066370412, -122.69612829633188]\n"
     ]
    },
    {
     "name": "stderr",
     "output_type": "stream",
     "text": [
      " 42% (550800.0 of 1296000.0) |####       | Elapsed Time: 0:10:08 ETA:   0:11:24"
     ]
    },
    {
     "name": "stdout",
     "output_type": "stream",
     "text": [
      "Correct cell not found for (-124.809911, 48.534236) after 1000000 iterations\n",
      "Debug info: old particle indices: (yi, xi) 424 1\n",
      "            new particle indices: (yi, xi) 424 43\n",
      "            Mesh 2d shape:  898 398\n",
      "            Relative particle position:  (xsi, eta) -4.4083718862090514e+01 3.1728097363422098e-01\n",
      "Particle 1412 lost !! [557640.0, 52.938767310377564, 48.53633431668505, -124.80364382910557]\n"
     ]
    },
    {
     "name": "stderr",
     "output_type": "stream",
     "text": [
      " 42% (552600.0 of 1296000.0) |####       | Elapsed Time: 0:10:11 ETA:   0:21:43"
     ]
    },
    {
     "name": "stdout",
     "output_type": "stream",
     "text": [
      "Correct cell not found for (-124.822654, 48.548307) after 1000000 iterations\n",
      "Debug info: old particle indices: (yi, xi) 427 0\n",
      "            new particle indices: (yi, xi) 427 42\n",
      "            Mesh 2d shape:  898 398\n",
      "            Relative particle position:  (xsi, eta) -4.3205172052742121e+01 9.2171114077310234e-01\n",
      "Particle 1445 lost !! [558630.0, 23.917693994932602, 48.547721854720095, -124.81706123163374]\n"
     ]
    },
    {
     "name": "stderr",
     "output_type": "stream",
     "text": [
      " 42% (554400.0 of 1296000.0) |####       | Elapsed Time: 0:10:12 ETA:   0:14:34"
     ]
    },
    {
     "name": "stdout",
     "output_type": "stream",
     "text": [
      "Correct cell not found for (-124.801723, 48.524457) after 1000000 iterations\n",
      "Debug info: old particle indices: (yi, xi) 422 0\n",
      "            new particle indices: (yi, xi) 421 42\n",
      "            Mesh 2d shape:  898 398\n",
      "            Relative particle position:  (xsi, eta) -4.3122473196457960e+01 8.7266747192790040e-01\n",
      "Particle 1374 lost !! [560790.0, 40.865544827065435, 48.52870258739009, -124.79864336536183]\n"
     ]
    },
    {
     "name": "stderr",
     "output_type": "stream",
     "text": [
      " 42% (556200.0 of 1296000.0) |####       | Elapsed Time: 0:10:15 ETA:   0:19:45"
     ]
    },
    {
     "name": "stdout",
     "output_type": "stream",
     "text": [
      "Correct cell not found for (-124.817857, 48.538744) after 1000000 iterations\n",
      "Debug info: old particle indices: (yi, xi) 426 0\n",
      "            new particle indices: (yi, xi) 425 42\n",
      "            Mesh 2d shape:  898 398\n",
      "            Relative particle position:  (xsi, eta) -4.3677513421076405e+01 7.4292469644025827e-01\n",
      "Correct cell not found for (-124.833729, 48.560501) after 1000000 iterations\n",
      "Debug info: old particle indices: (yi, xi) 430 0\n",
      "            new particle indices: (yi, xi) 431 42\n",
      "            Mesh 2d shape:  898 398\n",
      "            Relative particle position:  (xsi, eta) -4.3387927210356914e+01 4.1868033282382665e-02\n",
      "Correct cell not found for (-124.843260, 48.571421) after 1000000 iterations\n",
      "Debug info: old particle indices: (yi, xi) 434 0\n",
      "            new particle indices: (yi, xi) 433 42\n",
      "            Mesh 2d shape:  898 398\n",
      "            Relative particle position:  (xsi, eta) -4.3430693065683634e+01 8.1538158060345900e-01\n",
      "Particle 1215 lost !! [562770.0, 2.8635669405435302, 48.542952014131394, -124.81106975618624]\n",
      "Particle 1385 lost !! [561960.0, 47.220690893674316, 48.56114970804909, -124.82756161584649]\n",
      "Particle 1836 lost !! [563220.0, 16.547492561562894, 48.57527065955993, -124.84202859327253]\n"
     ]
    },
    {
     "name": "stderr",
     "output_type": "stream",
     "text": [
      " 43% (558000.0 of 1296000.0) |####       | Elapsed Time: 0:10:16 ETA:   0:14:09"
     ]
    },
    {
     "name": "stdout",
     "output_type": "stream",
     "text": [
      "Correct cell not found for (-124.784544, 48.503875) after 1000000 iterations\n",
      "Debug info: old particle indices: (yi, xi) 417 1\n",
      "            new particle indices: (yi, xi) 416 43\n",
      "            Mesh 2d shape:  898 398\n",
      "            Relative particle position:  (xsi, eta) -4.4121551218814055e+01 7.0017506036670663e-01\n",
      "Particle 1561 lost !! [565110.0, 16.066444667159253, 48.50779751607928, -124.77871224346153]\n"
     ]
    },
    {
     "name": "stderr",
     "output_type": "stream",
     "text": [
      " 43% (561600.0 of 1296000.0) |####       | Elapsed Time: 0:10:20 ETA:   0:12:20"
     ]
    },
    {
     "name": "stdout",
     "output_type": "stream",
     "text": [
      "Correct cell not found for (-124.817181, 48.541032) after 1000000 iterations\n",
      "Debug info: old particle indices: (yi, xi) 426 0\n",
      "            new particle indices: (yi, xi) 426 42\n",
      "            Mesh 2d shape:  898 398\n",
      "            Relative particle position:  (xsi, eta) -4.3302621441562259e+01 1.3641375462732822e-01\n",
      "Correct cell not found for (-124.868475, 48.604393) after 1000000 iterations\n",
      "Debug info: old particle indices: (yi, xi) 442 1\n",
      "            new particle indices: (yi, xi) 441 43\n",
      "            Mesh 2d shape:  898 398\n",
      "            Relative particle position:  (xsi, eta) -4.4016234084012957e+01 9.2615844905600453e-01\n",
      "Particle 1575 lost !! [568530.0, 11.00135366230267, 48.54234019245289, -124.81287553158766]\n",
      "Particle 2012 lost !! [568440.0, 15.970073366473715, 48.60744164399045, -124.86348714250472]\n"
     ]
    },
    {
     "name": "stderr",
     "output_type": "stream",
     "text": [
      " 43% (567000.0 of 1296000.0) |####       | Elapsed Time: 0:10:26 ETA:   0:17:37"
     ]
    },
    {
     "name": "stdout",
     "output_type": "stream",
     "text": [
      "Correct cell not found for (-124.772386, 48.489613) after 1000000 iterations\n",
      "Debug info: old particle indices: (yi, xi) 412 0\n",
      "            new particle indices: (yi, xi) 413 42\n",
      "            Mesh 2d shape:  898 398\n",
      "            Relative particle position:  (xsi, eta) -4.3054785491384749e+01 1.0142219504358013e-01\n",
      "Correct cell not found for (-124.759492, 48.472470) after 1000000 iterations\n",
      "Debug info: old particle indices: (yi, xi) 408 0\n",
      "            new particle indices: (yi, xi) 408 42\n",
      "            Mesh 2d shape:  898 398\n",
      "            Relative particle position:  (xsi, eta) -4.3274912487174937e+01 8.9638051831534604e-01\n",
      "Particle 1527 lost !! [573030.0, 14.049276848478963, 48.49086051899235, -124.76610266434633]\n",
      "Particle 2180 lost !! [572760.0, 14.758917575706212, 48.47397688170864, -124.75376653003127]\n"
     ]
    },
    {
     "name": "stderr",
     "output_type": "stream",
     "text": [
      " 43% (568800.0 of 1296000.0) |####       | Elapsed Time: 0:10:27 ETA:   0:12:57"
     ]
    },
    {
     "name": "stdout",
     "output_type": "stream",
     "text": [
      "Correct cell not found for (-124.813729, 48.535762) after 1000000 iterations\n",
      "Debug info: old particle indices: (yi, xi) 425 0\n",
      "            new particle indices: (yi, xi) 424 42\n",
      "            Mesh 2d shape:  898 398\n",
      "            Relative particle position:  (xsi, eta) -4.3446405455417512e+01 8.7866342205868042e-01\n",
      "Particle 2405 lost !! [575460.0, 28.28186614269054, 48.53881346004949, -124.80686209062104]\n"
     ]
    },
    {
     "name": "stderr",
     "output_type": "stream",
     "text": [
      " 44% (570600.0 of 1296000.0) |####       | Elapsed Time: 0:10:31 ETA:   0:21:02"
     ]
    },
    {
     "name": "stdout",
     "output_type": "stream",
     "text": [
      "Correct cell not found for (-124.779231, 48.496756) after 1000000 iterations\n",
      "Debug info: old particle indices: (yi, xi) 415 0\n",
      "            new particle indices: (yi, xi) 414 42\n",
      "            Mesh 2d shape:  898 398\n",
      "            Relative particle position:  (xsi, eta) -4.3195200350025210e+01 9.3069148048260641e-01\n",
      "Correct cell not found for (-124.811843, 48.536685) after 1000000 iterations\n",
      "Debug info: old particle indices: (yi, xi) 425 0\n",
      "            new particle indices: (yi, xi) 424 42\n",
      "            Mesh 2d shape:  898 398\n",
      "            Relative particle position:  (xsi, eta) -4.3053859825785743e+01 9.1943727615092574e-01\n",
      "Particle 1635 lost !! [577170.0, 30.25191794668335, 48.500862921171446, -124.7759399673047]\n",
      "Particle 1652 lost !! [577620.0, 24.915311945943273, 48.5392520986996, -124.80794893970081]\n"
     ]
    },
    {
     "name": "stderr",
     "output_type": "stream",
     "text": [
      " 45% (585000.0 of 1296000.0) |####       | Elapsed Time: 0:10:44 ETA:   0:17:18"
     ]
    },
    {
     "name": "stdout",
     "output_type": "stream",
     "text": [
      "Correct cell not found for (-124.936481, 48.684809) after 1000000 iterations\n",
      "Debug info: old particle indices: (yi, xi) 461 0\n",
      "            new particle indices: (yi, xi) 462 42\n",
      "            Mesh 2d shape:  898 398\n",
      "            Relative particle position:  (xsi, eta) -4.3070070392304054e+01 2.0034355678327279e-01\n",
      "Particle 2146 lost !! [591660.0, 26.327753409596706, 48.683659759254205, -124.9316560747538]\n"
     ]
    },
    {
     "name": "stderr",
     "output_type": "stream",
     "text": [
      " 45% (594000.0 of 1296000.0) |#####      | Elapsed Time: 0:10:52 ETA:   0:11:08"
     ]
    },
    {
     "name": "stdout",
     "output_type": "stream",
     "text": [
      "Correct cell not found for (-124.797194, 48.515078) after 1000000 iterations\n",
      "Debug info: old particle indices: (yi, xi) 419 0\n",
      "            new particle indices: (yi, xi) 419 42\n",
      "            Mesh 2d shape:  898 398\n",
      "            Relative particle position:  (xsi, eta) -4.3579921129479381e+01 7.3323025908568285e-01\n",
      "Particle 1569 lost !! [600660.0, 9.618057352009647, 48.51817314322194, -124.7912221928194]\n"
     ]
    },
    {
     "name": "stderr",
     "output_type": "stream",
     "text": [
      " 45% (595800.0 of 1296000.0) |#####      | Elapsed Time: 0:10:55 ETA:   0:19:38"
     ]
    },
    {
     "name": "stdout",
     "output_type": "stream",
     "text": [
      "Correct cell not found for (-124.828700, 48.554879) after 1000000 iterations\n",
      "Debug info: old particle indices: (yi, xi) 429 0\n",
      "            new particle indices: (yi, xi) 429 42\n",
      "            Mesh 2d shape:  898 398\n",
      "            Relative particle position:  (xsi, eta) -4.3319136479866884e+01 6.0814726222059168e-01\n",
      "Particle 1476 lost !! [602550.0, 16.61654621091604, 48.55743906519979, -124.82182885512687]\n"
     ]
    },
    {
     "name": "stderr",
     "output_type": "stream",
     "text": [
      " 46% (601200.0 of 1296000.0) |#####      | Elapsed Time: 0:10:59 ETA:   0:10:35"
     ]
    },
    {
     "name": "stdout",
     "output_type": "stream",
     "text": [
      "Correct cell not found for (-124.801774, 48.524814) after 1000000 iterations\n",
      "Debug info: old particle indices: (yi, xi) 422 0\n",
      "            new particle indices: (yi, xi) 421 42\n",
      "            Mesh 2d shape:  898 398\n",
      "            Relative particle position:  (xsi, eta) -4.3085971000234025e+01 9.4465675691700057e-01\n",
      "Correct cell not found for (-124.810796, 48.535159) after 1000000 iterations\n",
      "Debug info: old particle indices: (yi, xi) 424 0\n",
      "            new particle indices: (yi, xi) 424 42\n",
      "            Mesh 2d shape:  898 398\n",
      "            Relative particle position:  (xsi, eta) -4.3105997163838360e+01 5.6051098290775159e-01\n",
      "Correct cell not found for (-124.853114, 48.583528) after 1000000 iterations\n",
      "Debug info: old particle indices: (yi, xi) 437 0\n",
      "            new particle indices: (yi, xi) 436 42\n",
      "            Mesh 2d shape:  898 398\n",
      "            Relative particle position:  (xsi, eta) -4.3340901749788891e+01 8.2325093364870949e-01\n",
      "Correct cell not found for (-124.803060, 48.523674) after 1000000 iterations\n",
      "Debug info: old particle indices: (yi, xi) 422 1\n",
      "            new particle indices: (yi, xi) 421 43\n",
      "            Mesh 2d shape:  898 398\n",
      "            Relative particle position:  (xsi, eta) -4.4348822649093243e+01 8.2068804654236416e-01\n",
      "Particle 1332 lost !! [607410.0, 49.03893579645106, 48.52697236227919, -124.79809195619647]\n",
      "Particle 2153 lost !! [606960.0, 0.3011477144027703, 48.53429101271731, -124.80469320816024]\n",
      "Particle 2261 lost !! [607320.0, 8.649856923051749, 48.58723949000503, -124.84963426467861]\n",
      "Particle 2371 lost !! [606780.0, 5.746667975701294, 48.52688927921645, -124.79566791435256]\n"
     ]
    },
    {
     "name": "stderr",
     "output_type": "stream",
     "text": [
      " 46% (603000.0 of 1296000.0) |#####      | Elapsed Time: 0:11:03 ETA:   0:21:15"
     ]
    },
    {
     "name": "stdout",
     "output_type": "stream",
     "text": [
      "Correct cell not found for (-124.812580, 48.536701) after 1000000 iterations\n",
      "Debug info: old particle indices: (yi, xi) 425 0\n",
      "            new particle indices: (yi, xi) 424 42\n",
      "            Mesh 2d shape:  898 398\n",
      "            Relative particle position:  (xsi, eta) -4.3157419127353982e+01 9.7398818982809809e-01\n",
      "Particle 1943 lost !! [608400.0, 76.37474410829434, 48.54096248303486, -124.80932230149604]\n",
      "Particle 4150 lost !! [610020.0, 14.36509692570166, 50.44123765820307, -125.99925111882305]\n"
     ]
    },
    {
     "name": "stderr",
     "output_type": "stream",
     "text": [
      " 46% (608400.0 of 1296000.0) |#####      | Elapsed Time: 0:11:07 ETA:   0:10:57"
     ]
    },
    {
     "name": "stdout",
     "output_type": "stream",
     "text": [
      "Correct cell not found for (-124.798710, 48.520252) after 1000000 iterations\n",
      "Debug info: old particle indices: (yi, xi) 420 0\n",
      "            new particle indices: (yi, xi) 420 42\n",
      "            Mesh 2d shape:  898 398\n",
      "            Relative particle position:  (xsi, eta) -4.3192519877291211e+01 8.4697407805969216e-01\n",
      "Correct cell not found for (-124.837524, 48.563567) after 1000000 iterations\n",
      "Debug info: old particle indices: (yi, xi) 432 0\n",
      "            new particle indices: (yi, xi) 431 42\n",
      "            Mesh 2d shape:  898 398\n",
      "            Relative particle position:  (xsi, eta) -4.3524947739909791e+01 8.8167022713896581e-01\n",
      "Particle 1740 lost !! [614700.0, 14.04920069910057, 48.5214005871801, -124.7915102343741]\n",
      "Particle 2124 lost !! [615330.0, 19.072882688658773, 48.56696730759116, -124.83067594924398]\n"
     ]
    },
    {
     "name": "stderr",
     "output_type": "stream",
     "text": [
      " 47% (610200.0 of 1296000.0) |#####      | Elapsed Time: 0:11:10 ETA:   0:20:07"
     ]
    },
    {
     "name": "stdout",
     "output_type": "stream",
     "text": [
      "Correct cell not found for (-124.811285, 48.535608) after 1000000 iterations\n",
      "Debug info: old particle indices: (yi, xi) 425 0\n",
      "            new particle indices: (yi, xi) 424 42\n",
      "            Mesh 2d shape:  898 398\n",
      "            Relative particle position:  (xsi, eta) -4.3116582631264841e+01 6.7872871162795245e-01\n",
      "Correct cell not found for (-124.910668, 48.653509) after 1000000 iterations\n",
      "Debug info: old particle indices: (yi, xi) 454 1\n",
      "            new particle indices: (yi, xi) 454 43\n",
      "            Mesh 2d shape:  898 398\n",
      "            Relative particle position:  (xsi, eta) -4.4155045634943555e+01 3.4158185967707044e-01\n",
      "Particle 1421 lost !! [616950.0, 43.21988352215261, 48.53939581474285, -124.80666206834856]\n",
      "Particle 2404 lost !! [615600.0, 4.638688418452986, 48.65663623661861, -124.9044272508678]\n"
     ]
    },
    {
     "name": "stderr",
     "output_type": "stream",
     "text": [
      " 47% (612000.0 of 1296000.0) |#####      | Elapsed Time: 0:11:11 ETA:   0:13:15"
     ]
    },
    {
     "name": "stdout",
     "output_type": "stream",
     "text": [
      "Correct cell not found for (-124.813000, 48.537919) after 1000000 iterations\n",
      "Debug info: old particle indices: (yi, xi) 425 0\n",
      "            new particle indices: (yi, xi) 425 42\n",
      "            Mesh 2d shape:  898 398\n",
      "            Relative particle position:  (xsi, eta) -4.3067186013291831e+01 2.3701319883016880e-01\n",
      "Correct cell not found for (-124.915250, 48.656334) after 1000000 iterations\n",
      "Debug info: old particle indices: (yi, xi) 455 0\n",
      "            new particle indices: (yi, xi) 455 42\n",
      "            Mesh 2d shape:  898 398\n",
      "            Relative particle position:  (xsi, eta) -4.3506633839618615e+01 2.6850885167178995e-01\n",
      "Particle 2262 lost !! [618210.0, 46.91970490136794, 48.541555982752115, -124.8109233387806]\n",
      "Particle 2295 lost !! [617850.0, 6.99756962000868, 48.66062288214024, -124.90994470532364]\n"
     ]
    },
    {
     "name": "stderr",
     "output_type": "stream",
     "text": [
      " 47% (613800.0 of 1296000.0) |#####      | Elapsed Time: 0:11:15 ETA:   0:20:31"
     ]
    },
    {
     "name": "stdout",
     "output_type": "stream",
     "text": [
      "Correct cell not found for (-124.743411, 48.452274) after 1000000 iterations\n",
      "Debug info: old particle indices: (yi, xi) 404 0\n",
      "            new particle indices: (yi, xi) 403 42\n",
      "            Mesh 2d shape:  898 398\n",
      "            Relative particle position:  (xsi, eta) -4.3426216925887594e+01 9.2620451204967913e-01\n",
      "Particle 2407 lost !! [620730.0, 172.53023965349962, 48.45491464396485, -124.7386018587895]\n"
     ]
    },
    {
     "name": "stderr",
     "output_type": "stream",
     "text": [
      " 47% (615600.0 of 1296000.0) |#####      | Elapsed Time: 0:11:16 ETA:   0:13:43"
     ]
    },
    {
     "name": "stdout",
     "output_type": "stream",
     "text": [
      "Correct cell not found for (-124.787814, 48.504728) after 1000000 iterations\n",
      "Debug info: old particle indices: (yi, xi) 416 0\n",
      "            new particle indices: (yi, xi) 417 42\n",
      "            Mesh 2d shape:  898 398\n",
      "            Relative particle position:  (xsi, eta) -4.3446898172317674e+01 1.0374166493930044e-01\n",
      "Correct cell not found for (-124.741987, 48.453303) after 1000000 iterations\n",
      "Debug info: old particle indices: (yi, xi) 404 0\n",
      "            new particle indices: (yi, xi) 404 42\n",
      "            Mesh 2d shape:  898 398\n",
      "            Relative particle position:  (xsi, eta) -4.3093338741191268e+01 1.0262835856528247e+00\n",
      "Correct cell not found for (-124.764416, 48.480592) after 1000000 iterations\n",
      "Debug info: old particle indices: (yi, xi) 410 0\n",
      "            new particle indices: (yi, xi) 410 42\n",
      "            Mesh 2d shape:  898 398\n",
      "            Relative particle position:  (xsi, eta) -4.3000236192558077e+01 8.0738715325089894e-01\n",
      "Particle 1529 lost !! [621450.0, 5.696077666912488, 48.502634964154566, -124.78143445382705]\n",
      "Particle 1600 lost !! [622170.0, 184.09099285959954, 48.457533685604766, -124.73946829218332]\n",
      "Particle 1994 lost !! [622350.0, 7.782785835471458, 48.48138446708399, -124.76178920803477]\n"
     ]
    },
    {
     "name": "stderr",
     "output_type": "stream",
     "text": [
      " 48% (622800.0 of 1296000.0) |#####      | Elapsed Time: 0:11:23 ETA:   0:10:04"
     ]
    },
    {
     "name": "stdout",
     "output_type": "stream",
     "text": [
      "Correct cell not found for (-124.775716, 48.492305) after 1000000 iterations\n",
      "Debug info: old particle indices: (yi, xi) 414 1\n",
      "            new particle indices: (yi, xi) 413 43\n",
      "            Mesh 2d shape:  898 398\n",
      "            Relative particle position:  (xsi, eta) -4.4210761561448543e+01 8.5971245385343420e-01\n",
      "Particle 1776 lost !! [628740.0, 11.947777638219126, 48.496590052896906, -124.76935428028591]\n"
     ]
    },
    {
     "name": "stderr",
     "output_type": "stream",
     "text": [
      " 49% (642600.0 of 1296000.0) |#####      | Elapsed Time: 0:11:43 ETA:   0:16:58"
     ]
    },
    {
     "name": "stdout",
     "output_type": "stream",
     "text": [
      "Correct cell not found for (-124.811953, 48.537226) after 1000000 iterations\n",
      "Debug info: old particle indices: (yi, xi) 424 0\n",
      "            new particle indices: (yi, xi) 425 42\n",
      "            Mesh 2d shape:  898 398\n",
      "            Relative particle position:  (xsi, eta) -4.2999354910947432e+01 2.9192784119092201e-02\n",
      "Particle 1730 lost !! [648180.0, 45.4062908899504, 48.53729815224516, -124.80617160583266]\n"
     ]
    },
    {
     "name": "stderr",
     "output_type": "stream",
     "text": [
      " 50% (649800.0 of 1296000.0) |#####      | Elapsed Time: 0:11:50 ETA:   0:15:53"
     ]
    },
    {
     "name": "stdout",
     "output_type": "stream",
     "text": [
      "Correct cell not found for (-124.814811, 48.539394) after 1000000 iterations\n",
      "Debug info: old particle indices: (yi, xi) 426 1\n",
      "            new particle indices: (yi, xi) 425 43\n",
      "            Mesh 2d shape:  898 398\n",
      "            Relative particle position:  (xsi, eta) -4.4200022632229810e+01 6.7365973980154059e-01\n",
      "Particle 2001 lost !! [655830.0, 8.036609957326151, 48.54355848974065, -124.80904709941933]\n"
     ]
    },
    {
     "name": "stderr",
     "output_type": "stream",
     "text": [
      " 50% (651600.0 of 1296000.0) |#####      | Elapsed Time: 0:11:50 ETA:   0:10:19"
     ]
    },
    {
     "name": "stdout",
     "output_type": "stream",
     "text": [
      "Correct cell not found for (-124.732052, 48.441637) after 1000000 iterations\n",
      "Debug info: old particle indices: (yi, xi) 401 0\n",
      "            new particle indices: (yi, xi) 401 42\n",
      "            Mesh 2d shape:  898 398\n",
      "            Relative particle position:  (xsi, eta) -4.3045246985162443e+01 2.4598677742483081e-02\n",
      "Correct cell not found for (-124.859451, 48.593232) after 1000000 iterations\n",
      "Debug info: old particle indices: (yi, xi) 439 1\n",
      "            new particle indices: (yi, xi) 439 43\n",
      "            Mesh 2d shape:  898 398\n",
      "            Relative particle position:  (xsi, eta) -4.4104565061489858e+01 1.8946184601794747e-01\n",
      "Particle 1444 lost !! [658710.0, 0.18503789371168844, 48.44331861542024, -124.72940748884113]\n",
      "Particle 2190 lost !! [657090.0, 0.28396402693317546, 48.596763023605895, -124.85371864353225]\n"
     ]
    },
    {
     "name": "stderr",
     "output_type": "stream",
     "text": [
      " 50% (655200.0 of 1296000.0) |#####      | Elapsed Time: 0:11:54 ETA:   0:11:18"
     ]
    },
    {
     "name": "stdout",
     "output_type": "stream",
     "text": [
      "Correct cell not found for (-124.818944, 48.545537) after 1000000 iterations\n",
      "Debug info: old particle indices: (yi, xi) 427 0\n",
      "            new particle indices: (yi, xi) 427 42\n",
      "            Mesh 2d shape:  898 398\n",
      "            Relative particle position:  (xsi, eta) -4.3040783837982282e+01 1.4330291093283448e-01\n",
      "Correct cell not found for (-124.833890, 48.562862) after 1000000 iterations\n",
      "Debug info: old particle indices: (yi, xi) 431 1\n",
      "            new particle indices: (yi, xi) 431 43\n",
      "            Mesh 2d shape:  898 398\n",
      "            Relative particle position:  (xsi, eta) -4.4078028607589033e+01 5.2842570774435160e-01\n",
      "Particle 1276 lost !! [661950.0, 43.5265297173771, 48.548638997917195, -124.81543610767929]\n",
      "Particle 1732 lost !! [661140.0, 6.998161824119032, 48.56496822466992, -124.82756495822697]\n"
     ]
    },
    {
     "name": "stderr",
     "output_type": "stream",
     "text": [
      " 50% (657000.0 of 1296000.0) |#####      | Elapsed Time: 0:11:57 ETA:   0:18:19"
     ]
    },
    {
     "name": "stdout",
     "output_type": "stream",
     "text": [
      "Correct cell not found for (-124.912615, 48.653127) after 1000000 iterations\n",
      "Debug info: old particle indices: (yi, xi) 454 0\n",
      "            new particle indices: (yi, xi) 454 42\n",
      "            Mesh 2d shape:  898 398\n",
      "            Relative particle position:  (xsi, eta) -4.3528439575313683e+01 4.4622001440405684e-01\n",
      "Correct cell not found for (-124.789627, 48.508008) after 1000000 iterations\n",
      "Debug info: old particle indices: (yi, xi) 418 0\n",
      "            new particle indices: (yi, xi) 417 42\n",
      "            Mesh 2d shape:  898 398\n",
      "            Relative particle position:  (xsi, eta) -4.3308154106816517e+01 8.6186369858950829e-01\n",
      "Particle 1941 lost !! [663210.0, 15.735829457869286, 48.6555421913074, -124.90615399598418]\n",
      "Particle 2122 lost !! [663300.0, 1.3855684546148095, 48.5105168347562, -124.78420601368809]\n"
     ]
    },
    {
     "name": "stderr",
     "output_type": "stream",
     "text": [
      " 50% (658800.0 of 1296000.0) |#####      | Elapsed Time: 0:11:58 ETA:   0:11:54"
     ]
    },
    {
     "name": "stdout",
     "output_type": "stream",
     "text": [
      "Correct cell not found for (-124.784861, 48.504665) after 1000000 iterations\n",
      "Debug info: old particle indices: (yi, xi) 417 0\n",
      "            new particle indices: (yi, xi) 416 42\n",
      "            Mesh 2d shape:  898 398\n",
      "            Relative particle position:  (xsi, eta) -4.3030255621700597e+01 8.7894221413464702e-01\n",
      "Particle 1429 lost !! [665100.0, 5.119399999218079, 48.50782738020793, -124.78167502077665]\n"
     ]
    },
    {
     "name": "stderr",
     "output_type": "stream",
     "text": [
      " 52% (678600.0 of 1296000.0) |#####      | Elapsed Time: 0:12:18 ETA:   0:15:03"
     ]
    },
    {
     "name": "stdout",
     "output_type": "stream",
     "text": [
      "Correct cell not found for (-122.655232, 47.134485) after 1000000 iterations\n",
      "Debug info: old particle indices: (yi, xi) 1 144\n",
      "            new particle indices: (yi, xi) 0 145\n",
      "            Mesh 2d shape:  898 398\n",
      "            Relative particle position:  (xsi, eta) 3.0508092660789271e-01 -1.5243463109370650e-01\n",
      "Particle 872 lost !! [684180.0, 37.233304151985564, 47.13836669259674, -122.66123345393908]\n"
     ]
    },
    {
     "name": "stderr",
     "output_type": "stream",
     "text": [
      " 52% (685800.0 of 1296000.0) |#####      | Elapsed Time: 0:12:24 ETA:   0:14:15"
     ]
    },
    {
     "name": "stdout",
     "output_type": "stream",
     "text": [
      "Correct cell not found for (-124.805569, 48.528003) after 1000000 iterations\n",
      "Debug info: old particle indices: (yi, xi) 422 0\n",
      "            new particle indices: (yi, xi) 422 42\n",
      "            Mesh 2d shape:  898 398\n",
      "            Relative particle position:  (xsi, eta) -4.3209879820348434e+01 8.0831429567706914e-01\n",
      "Particle 1689 lost !! [691650.0, 19.03793134347554, 48.53008621293996, -124.80098436793027]\n"
     ]
    },
    {
     "name": "stderr",
     "output_type": "stream",
     "text": [
      " 53% (687600.0 of 1296000.0) |#####      | Elapsed Time: 0:12:25 ETA:   0:10:10"
     ]
    },
    {
     "name": "stdout",
     "output_type": "stream",
     "text": [
      "Correct cell not found for (-124.801606, 48.521766) after 1000000 iterations\n",
      "Debug info: old particle indices: (yi, xi) 421 0\n",
      "            new particle indices: (yi, xi) 421 42\n",
      "            Mesh 2d shape:  898 398\n",
      "            Relative particle position:  (xsi, eta) -4.3438121163782533e+01 3.4844997232462649e-01\n",
      "Correct cell not found for (-124.827241, 48.554403) after 1000000 iterations\n",
      "Debug info: old particle indices: (yi, xi) 429 0\n",
      "            new particle indices: (yi, xi) 429 42\n",
      "            Mesh 2d shape:  898 398\n",
      "            Relative particle position:  (xsi, eta) -4.3150171110088486e+01 4.1383972584721423e-01\n",
      "Particle 1293 lost !! [694530.0, 28.258207481081293, 48.52499770263932, -124.79597096679504]\n",
      "Particle 1646 lost !! [693270.0, 31.125281018127804, 48.55715417972324, -124.82369162788892]\n"
     ]
    },
    {
     "name": "stderr",
     "output_type": "stream",
     "text": [
      " 53% (689400.0 of 1296000.0) |#####      | Elapsed Time: 0:12:28 ETA:   0:16:57"
     ]
    },
    {
     "name": "stdout",
     "output_type": "stream",
     "text": [
      "Correct cell not found for (-124.831552, 48.560068) after 1000000 iterations\n",
      "Debug info: old particle indices: (yi, xi) 431 1\n",
      "            new particle indices: (yi, xi) 430 43\n",
      "            Mesh 2d shape:  898 398\n",
      "            Relative particle position:  (xsi, eta) -4.4053503152989514e+01 8.1222840732192281e-01\n",
      "Particle 2223 lost !! [696330.0, 63.32670969998317, 48.56396596322686, -124.82661999078326]\n"
     ]
    },
    {
     "name": "stderr",
     "output_type": "stream",
     "text": [
      " 53% (691200.0 of 1296000.0) |#####      | Elapsed Time: 0:12:29 ETA:   0:10:51"
     ]
    },
    {
     "name": "stdout",
     "output_type": "stream",
     "text": [
      "Correct cell not found for (-124.837921, 48.567595) after 1000000 iterations\n",
      "Debug info: old particle indices: (yi, xi) 433 0\n",
      "            new particle indices: (yi, xi) 432 42\n",
      "            Mesh 2d shape:  898 398\n",
      "            Relative particle position:  (xsi, eta) -4.3079765181124131e+01 6.7992331559437613e-01\n",
      "Correct cell not found for (-124.792587, 48.511955) after 1000000 iterations\n",
      "Debug info: old particle indices: (yi, xi) 418 0\n",
      "            new particle indices: (yi, xi) 418 42\n",
      "            Mesh 2d shape:  898 398\n",
      "            Relative particle position:  (xsi, eta) -4.3312812678904130e+01 8.2363013023320275e-01\n",
      "Particle 1750 lost !! [697950.0, 14.404758145999871, 48.57153320616447, -124.83469277284173]\n",
      "Particle 2046 lost !! [697950.0, 33.97250191959036, 48.51190001731035, -124.78594428519469]\n"
     ]
    },
    {
     "name": "stderr",
     "output_type": "stream",
     "text": [
      " 53% (693000.0 of 1296000.0) |#####      | Elapsed Time: 0:12:32 ETA:   0:17:03"
     ]
    },
    {
     "name": "stdout",
     "output_type": "stream",
     "text": [
      "Correct cell not found for (-124.843883, 48.572448) after 1000000 iterations\n",
      "Debug info: old particle indices: (yi, xi) 434 0\n",
      "            new particle indices: (yi, xi) 434 42\n",
      "            Mesh 2d shape:  898 398\n",
      "            Relative particle position:  (xsi, eta) -4.3401320365156650e+01 5.9991306431878069e-02\n",
      "Correct cell not found for (-124.809587, 48.532440) after 1000000 iterations\n",
      "Debug info: old particle indices: (yi, xi) 423 0\n",
      "            new particle indices: (yi, xi) 423 42\n",
      "            Mesh 2d shape:  898 398\n",
      "            Relative particle position:  (xsi, eta) -4.3289743634008644e+01 9.6562550556459781e-01\n",
      "Particle 1355 lost !! [698760.0, 15.850563904987832, 48.5746953010211, -124.83842822015383]\n",
      "Particle 1738 lost !! [700110.0, 30.51423146300088, 48.53166662852241, -124.80464200060325]\n"
     ]
    },
    {
     "name": "stderr",
     "output_type": "stream",
     "text": [
      " 53% (696600.0 of 1296000.0) |#####      | Elapsed Time: 0:12:36 ETA:   0:14:19"
     ]
    },
    {
     "name": "stdout",
     "output_type": "stream",
     "text": [
      "Correct cell not found for (-124.812027, 48.532701) after 1000000 iterations\n",
      "Debug info: old particle indices: (yi, xi) 424 0\n",
      "            new particle indices: (yi, xi) 424 42\n",
      "            Mesh 2d shape:  898 398\n",
      "            Relative particle position:  (xsi, eta) -4.3608322997232065e+01 1.8668981165083673e-01\n",
      "Correct cell not found for (-124.822590, 48.548580) after 1000000 iterations\n",
      "Debug info: old particle indices: (yi, xi) 428 1\n",
      "            new particle indices: (yi, xi) 427 43\n",
      "            Mesh 2d shape:  898 398\n",
      "            Relative particle position:  (xsi, eta) -4.4207598752519139e+01 9.9138465828475020e-01\n",
      "Correct cell not found for (-124.803160, 48.526193) after 1000000 iterations\n",
      "Debug info: old particle indices: (yi, xi) 422 0\n",
      "            new particle indices: (yi, xi) 422 42\n",
      "            Mesh 2d shape:  898 398\n",
      "            Relative particle position:  (xsi, eta) -4.3104498620780198e+01 3.0097610496194122e-01\n",
      "Correct cell not found for (-124.790715, 48.511625) after 1000000 iterations\n",
      "Debug info: old particle indices: (yi, xi) 419 0\n",
      "            new particle indices: (yi, xi) 418 42\n",
      "            Mesh 2d shape:  898 398\n",
      "            Relative particle position:  (xsi, eta) -4.3065124594707548e+01 6.2775490527563160e-01\n",
      "Correct cell not found for (-124.740640, 48.451776) after 1000000 iterations\n",
      "Debug info: old particle indices: (yi, xi) 403 0\n",
      "            new particle indices: (yi, xi) 403 42\n",
      "            Mesh 2d shape:  898 398\n",
      "            Relative particle position:  (xsi, eta) -4.3072240135444133e+01 6.1428847064596404e-01\n",
      "Particle 1335 lost !! [702540.0, 16.583865201532493, 48.5347803947399, -124.8066879976363]\n",
      "Particle 1337 lost !! [702540.0, 8.559953503166504, 48.55124170131467, -124.81607466439853]\n",
      "Particle 1683 lost !! [702090.0, 8.33995555025732, 48.52525828584597, -124.80030224955382]\n",
      "Particle 1705 lost !! [702360.0, 6.5137960773784815, 48.5157594160725, -124.78804246664063]\n",
      "Particle 1875 lost !! [703350.0, 0.7363724945649744, 48.453644631746265, -124.73994476756756]\n"
     ]
    },
    {
     "name": "stderr",
     "output_type": "stream",
     "text": [
      " 53% (698400.0 of 1296000.0) |#####      | Elapsed Time: 0:12:37 ETA:   0:10:19"
     ]
    },
    {
     "name": "stdout",
     "output_type": "stream",
     "text": [
      "Correct cell not found for (-124.742933, 48.453024) after 1000000 iterations\n",
      "Debug info: old particle indices: (yi, xi) 404 0\n",
      "            new particle indices: (yi, xi) 404 42\n",
      "            Mesh 2d shape:  898 398\n",
      "            Relative particle position:  (xsi, eta) -4.3266954691933812e+01 1.0416549131584920e+00\n",
      "Correct cell not found for (-124.735175, 48.444436) after 1000000 iterations\n",
      "Debug info: old particle indices: (yi, xi) 401 0\n",
      "            new particle indices: (yi, xi) 401 42\n",
      "            Mesh 2d shape:  898 398\n",
      "            Relative particle position:  (xsi, eta) -4.3181256814697740e+01 8.2922469565769374e-01\n",
      "Correct cell not found for (-124.928274, 48.673678) after 1000000 iterations\n",
      "Debug info: old particle indices: (yi, xi) 459 0\n",
      "            new particle indices: (yi, xi) 459 42\n",
      "            Mesh 2d shape:  898 398\n",
      "            Relative particle position:  (xsi, eta) -4.3243345779822938e+01 4.7533642757273747e-01\n",
      "Particle 1530 lost !! [703890.0, 16.586695970164612, 48.456479272600816, -124.73719230889006]\n",
      "Particle 1656 lost !! [704250.0, 7.628975090671903, 48.44539944689143, -124.73164089587029]\n",
      "Particle 1938 lost !! [704790.0, 31.830665612028668, 48.67623005736018, -124.92255600933406]\n"
     ]
    },
    {
     "name": "stderr",
     "output_type": "stream",
     "text": [
      " 54% (700200.0 of 1296000.0) |#####      | Elapsed Time: 0:12:40 ETA:   0:16:57"
     ]
    },
    {
     "name": "stdout",
     "output_type": "stream",
     "text": [
      "Correct cell not found for (-124.790553, 48.507741) after 1000000 iterations\n",
      "Debug info: old particle indices: (yi, xi) 418 0\n",
      "            new particle indices: (yi, xi) 417 42\n",
      "            Mesh 2d shape:  898 398\n",
      "            Relative particle position:  (xsi, eta) -4.3476762281978054e+01 8.7705852187303202e-01\n",
      "Correct cell not found for (-124.832140, 48.560507) after 1000000 iterations\n",
      "Debug info: old particle indices: (yi, xi) 431 1\n",
      "            new particle indices: (yi, xi) 430 43\n",
      "            Mesh 2d shape:  898 398\n",
      "            Relative particle position:  (xsi, eta) -4.4085553105838841e+01 9.3856053325152200e-01\n",
      "Correct cell not found for (-124.809929, 48.530646) after 1000000 iterations\n",
      "Debug info: old particle indices: (yi, xi) 423 0\n",
      "            new particle indices: (yi, xi) 423 42\n",
      "            Mesh 2d shape:  898 398\n",
      "            Relative particle position:  (xsi, eta) -4.3545443218345454e+01 6.3810001116317627e-01\n",
      "Correct cell not found for (-124.761493, 48.475542) after 1000000 iterations\n",
      "Debug info: old particle indices: (yi, xi) 409 0\n",
      "            new particle indices: (yi, xi) 409 42\n",
      "            Mesh 2d shape:  898 398\n",
      "            Relative particle position:  (xsi, eta) -4.3216086147360677e+01 6.4124211377834839e-01\n",
      "Particle 1143 lost !! [706410.0, 18.20157490448524, 48.51119969339144, -124.78377637468809]\n",
      "Particle 1526 lost !! [706770.0, 19.526222703170934, 48.56454277059384, -124.82596215345163]\n",
      "Particle 2225 lost !! [705690.0, 7.113629261162561, 48.53342994987245, -124.80487319490715]\n",
      "Particle 2376 lost !! [705600.0, 24.930425006390223, 48.477613893912086, -124.7569398361509]\n"
     ]
    },
    {
     "name": "stderr",
     "output_type": "stream",
     "text": [
      " 54% (702000.0 of 1296000.0) |#####      | Elapsed Time: 0:12:41 ETA:   0:10:58"
     ]
    },
    {
     "name": "stdout",
     "output_type": "stream",
     "text": [
      "Correct cell not found for (-124.867561, 48.601441) after 1000000 iterations\n",
      "Debug info: old particle indices: (yi, xi) 440 0\n",
      "            new particle indices: (yi, xi) 441 42\n",
      "            Mesh 2d shape:  898 398\n",
      "            Relative particle position:  (xsi, eta) -4.3262178366665168e+01 3.0136090723185460e-01\n",
      "Particle 1602 lost !! [708750.0, 4.240443529433208, 48.60171619008871, -124.86094845783715]\n"
     ]
    },
    {
     "name": "stderr",
     "output_type": "stream",
     "text": [
      " 54% (703800.0 of 1296000.0) |#####      | Elapsed Time: 0:12:44 ETA:   0:17:04"
     ]
    },
    {
     "name": "stdout",
     "output_type": "stream",
     "text": [
      "Correct cell not found for (-124.804070, 48.527651) after 1000000 iterations\n",
      "Debug info: old particle indices: (yi, xi) 423 0\n",
      "            new particle indices: (yi, xi) 422 42\n",
      "            Mesh 2d shape:  898 398\n",
      "            Relative particle position:  (xsi, eta) -4.3041743316426718e+01 6.3748944323759538e-01\n",
      "Particle 1743 lost !! [710190.0, 30.487550826253354, 48.5310812111264, -124.80034675669123]\n"
     ]
    },
    {
     "name": "stderr",
     "output_type": "stream",
     "text": [
      " 54% (705600.0 of 1296000.0) |#####      | Elapsed Time: 0:12:45 ETA:   0:11:05"
     ]
    },
    {
     "name": "stdout",
     "output_type": "stream",
     "text": [
      "Correct cell not found for (-124.753591, 48.467155) after 1000000 iterations\n",
      "Debug info: old particle indices: (yi, xi) 407 1\n",
      "            new particle indices: (yi, xi) 407 43\n",
      "            Mesh 2d shape:  898 398\n",
      "            Relative particle position:  (xsi, eta) -4.4085211328356486e+01 4.6623562824700787e-01\n",
      "Particle 1528 lost !! [712710.0, 5.754127638581584, 48.46916430670074, -124.74707814783824]\n"
     ]
    },
    {
     "name": "stderr",
     "output_type": "stream",
     "text": [
      " 54% (709200.0 of 1296000.0) |######     | Elapsed Time: 0:12:48 ETA:   0:09:44"
     ]
    },
    {
     "name": "stdout",
     "output_type": "stream",
     "text": [
      "Correct cell not found for (-124.777530, 48.494279) after 1000000 iterations\n",
      "Debug info: old particle indices: (yi, xi) 414 0\n",
      "            new particle indices: (yi, xi) 414 42\n",
      "            Mesh 2d shape:  898 398\n",
      "            Relative particle position:  (xsi, eta) -4.3279729193869663e+01 3.4799164132619687e-01\n",
      "Particle 2083 lost !! [714690.0, 2.118412508762466, 48.49580014024102, -124.77079254880739]\n"
     ]
    },
    {
     "name": "stderr",
     "output_type": "stream",
     "text": [
      " 56% (732600.0 of 1296000.0) |######     | Elapsed Time: 0:13:11 ETA:   0:14:17"
     ]
    },
    {
     "name": "stdout",
     "output_type": "stream",
     "text": [
      "Correct cell not found for (-124.775185, 48.493414) after 1000000 iterations\n",
      "Debug info: old particle indices: (yi, xi) 414 0\n",
      "            new particle indices: (yi, xi) 414 42\n",
      "            Mesh 2d shape:  898 398\n",
      "            Relative particle position:  (xsi, eta) -4.3058104534341275e+01 2.2086419266732240e-02\n",
      "Particle 1695 lost !! [738810.0, 4.365331338654872, 48.49711853964569, -124.7709966747176]\n"
     ]
    },
    {
     "name": "stderr",
     "output_type": "stream",
     "text": [
      " 56% (734400.0 of 1296000.0) |######     | Elapsed Time: 0:13:12 ETA:   0:09:59"
     ]
    },
    {
     "name": "stdout",
     "output_type": "stream",
     "text": [
      "Correct cell not found for (-124.824738, 48.549237) after 1000000 iterations\n",
      "Debug info: old particle indices: (yi, xi) 428 0\n",
      "            new particle indices: (yi, xi) 428 42\n",
      "            Mesh 2d shape:  898 398\n",
      "            Relative particle position:  (xsi, eta) -4.3392184613517273e+01 2.4745870375919843e-01\n",
      "Particle 1659 lost !! [740340.0, 7.103250091605048, 48.55283954965964, -124.81781620923034]\n"
     ]
    },
    {
     "name": "stderr",
     "output_type": "stream",
     "text": [
      " 57% (739800.0 of 1296000.0) |######     | Elapsed Time: 0:13:19 ETA:   0:13:59"
     ]
    },
    {
     "name": "stdout",
     "output_type": "stream",
     "text": [
      "Correct cell not found for (-124.821719, 48.545058) after 1000000 iterations\n",
      "Debug info: old particle indices: (yi, xi) 427 0\n",
      "            new particle indices: (yi, xi) 427 42\n",
      "            Mesh 2d shape:  898 398\n",
      "            Relative particle position:  (xsi, eta) -4.3502305494594033e+01 2.4784864889734309e-01\n",
      "Correct cell not found for (-124.850599, 48.583122) after 1000000 iterations\n",
      "Debug info: old particle indices: (yi, xi) 436 1\n",
      "            new particle indices: (yi, xi) 436 43\n",
      "            Mesh 2d shape:  898 398\n",
      "            Relative particle position:  (xsi, eta) -4.4033873270756885e+01 5.8861737082272603e-01\n",
      "Correct cell not found for (-124.820569, 48.547186) after 1000000 iterations\n",
      "Debug info: old particle indices: (yi, xi) 427 0\n",
      "            new particle indices: (yi, xi) 427 42\n",
      "            Mesh 2d shape:  898 398\n",
      "            Relative particle position:  (xsi, eta) -4.3055167649849821e+01 5.6579635984733334e-01\n",
      "Particle 1159 lost !! [745470.0, 51.65429647030707, 48.54864598668344, -124.81739224111222]\n",
      "Particle 1697 lost !! [745380.0, 7.243669039698068, 48.585943546101554, -124.84506524699995]\n",
      "Particle 2038 lost !! [746640.0, 7.772947329957861, 48.549021211869814, -124.81815469581888]\n"
     ]
    },
    {
     "name": "stderr",
     "output_type": "stream",
     "text": [
      " 57% (741600.0 of 1296000.0) |######     | Elapsed Time: 0:13:20 ETA:   0:09:31"
     ]
    },
    {
     "name": "stdout",
     "output_type": "stream",
     "text": [
      "Correct cell not found for (-124.831712, 48.560648) after 1000000 iterations\n",
      "Debug info: old particle indices: (yi, xi) 430 0\n",
      "            new particle indices: (yi, xi) 430 42\n",
      "            Mesh 2d shape:  898 398\n",
      "            Relative particle position:  (xsi, eta) -4.3075370506678787e+01 9.2675836567520020e-01\n",
      "Particle 1377 lost !! [747360.0, 1.2491905776383123, 48.56068593553902, -124.82563755804266]\n"
     ]
    },
    {
     "name": "stderr",
     "output_type": "stream",
     "text": [
      " 57% (743400.0 of 1296000.0) |######     | Elapsed Time: 0:13:23 ETA:   0:16:04"
     ]
    },
    {
     "name": "stdout",
     "output_type": "stream",
     "text": [
      "Correct cell not found for (-124.844887, 48.574796) after 1000000 iterations\n",
      "Debug info: old particle indices: (yi, xi) 434 0\n",
      "            new particle indices: (yi, xi) 434 42\n",
      "            Mesh 2d shape:  898 398\n",
      "            Relative particle position:  (xsi, eta) -4.3233667344436945e+01 5.7005182165219315e-01\n",
      "Particle 1556 lost !! [750060.0, 15.993349774268678, 48.5771950280342, -124.84162731752684]\n"
     ]
    },
    {
     "name": "stderr",
     "output_type": "stream",
     "text": [
      " 57% (745200.0 of 1296000.0) |######     | Elapsed Time: 0:13:24 ETA:   0:10:46"
     ]
    },
    {
     "name": "stdout",
     "output_type": "stream",
     "text": [
      "Correct cell not found for (-124.838171, 48.566269) after 1000000 iterations\n",
      "Debug info: old particle indices: (yi, xi) 432 0\n",
      "            new particle indices: (yi, xi) 432 42\n",
      "            Mesh 2d shape:  898 398\n",
      "            Relative particle position:  (xsi, eta) -4.3280214880555334e+01 4.4324568877564047e-01\n",
      "Particle 2224 lost !! [750870.0, 36.71773985712467, 48.57050519329575, -124.83328760211468]\n"
     ]
    },
    {
     "name": "stderr",
     "output_type": "stream",
     "text": [
      " 57% (747000.0 of 1296000.0) |######     | Elapsed Time: 0:13:27 ETA:   0:15:24"
     ]
    },
    {
     "name": "stdout",
     "output_type": "stream",
     "text": [
      "Correct cell not found for (-124.795046, 48.511180) after 1000000 iterations\n",
      "Debug info: old particle indices: (yi, xi) 419 0\n",
      "            new particle indices: (yi, xi) 418 42\n",
      "            Mesh 2d shape:  898 398\n",
      "            Relative particle position:  (xsi, eta) -4.3771396343337393e+01 8.5116498038208643e-01\n",
      "Particle 1594 lost !! [752850.0, 29.209195495404582, 48.51471799191227, -124.78820198421054]\n"
     ]
    },
    {
     "name": "stderr",
     "output_type": "stream",
     "text": [
      " 59% (774000.0 of 1296000.0) |######     | Elapsed Time: 0:13:52 ETA:   0:08:13"
     ]
    },
    {
     "name": "stdout",
     "output_type": "stream",
     "text": [
      "Correct cell not found for (-124.815600, 48.541457) after 1000000 iterations\n",
      "Debug info: old particle indices: (yi, xi) 426 0\n",
      "            new particle indices: (yi, xi) 426 42\n",
      "            Mesh 2d shape:  898 398\n",
      "            Relative particle position:  (xsi, eta) -4.3016767236554671e+01 1.0395009721777833e-01\n",
      "Correct cell not found for (-124.792259, 48.509852) after 1000000 iterations\n",
      "Debug info: old particle indices: (yi, xi) 418 0\n",
      "            new particle indices: (yi, xi) 418 42\n",
      "            Mesh 2d shape:  898 398\n",
      "            Relative particle position:  (xsi, eta) -4.3494603362251524e+01 4.0048278938878562e-01\n",
      "Particle 1170 lost !! [780660.0, 49.5689241779916, 48.54593150508588, -124.81340907879085]\n",
      "Particle 2306 lost !! [779400.0, 5.399348193370104, 48.51342780003188, -124.78833447656336]\n"
     ]
    },
    {
     "name": "stderr",
     "output_type": "stream",
     "text": [
      " 60% (783000.0 of 1296000.0) |######     | Elapsed Time: 0:14:02 ETA:   0:13:03"
     ]
    },
    {
     "name": "stdout",
     "output_type": "stream",
     "text": [
      "Correct cell not found for (-124.888612, 48.626009) after 1000000 iterations\n",
      "Debug info: old particle indices: (yi, xi) 447 0\n",
      "            new particle indices: (yi, xi) 447 42\n",
      "            Mesh 2d shape:  898 398\n",
      "            Relative particle position:  (xsi, eta) -4.3348375291673989e+01 5.4010790511306039e-01\n",
      "Particle 1650 lost !! [789390.0, 45.825296139556016, 48.62870216623891, -124.88519945012382]\n"
     ]
    },
    {
     "name": "stderr",
     "output_type": "stream",
     "text": [
      " 60% (786600.0 of 1296000.0) |######     | Elapsed Time: 0:14:05 ETA:   0:12:25"
     ]
    },
    {
     "name": "stdout",
     "output_type": "stream",
     "text": [
      "Correct cell not found for (-124.826978, 48.553044) after 1000000 iterations\n",
      "Debug info: old particle indices: (yi, xi) 429 1\n",
      "            new particle indices: (yi, xi) 429 43\n",
      "            Mesh 2d shape:  898 398\n",
      "            Relative particle position:  (xsi, eta) -4.4292165491090472e+01 1.5817408471882047e-01\n",
      "Particle 1920 lost !! [793620.0, 8.723658084985411, 48.556792523283576, -124.82075628804168]\n"
     ]
    },
    {
     "name": "stderr",
     "output_type": "stream",
     "text": [
      " 60% (790200.0 of 1296000.0) |######     | Elapsed Time: 0:14:09 ETA:   0:12:41"
     ]
    },
    {
     "name": "stdout",
     "output_type": "stream",
     "text": [
      "Correct cell not found for (-124.743640, 48.453222) after 1000000 iterations\n",
      "Debug info: old particle indices: (yi, xi) 404 0\n",
      "            new particle indices: (yi, xi) 404 42\n",
      "            Mesh 2d shape:  898 398\n",
      "            Relative particle position:  (xsi, eta) -4.3341645100824728e+01 1.2141067822148101e-01\n",
      "Correct cell not found for (-124.787980, 48.505655) after 1000000 iterations\n",
      "Debug info: old particle indices: (yi, xi) 417 0\n",
      "            new particle indices: (yi, xi) 417 42\n",
      "            Mesh 2d shape:  898 398\n",
      "            Relative particle position:  (xsi, eta) -4.3356995510463605e+01 2.9313193294751588e-01\n",
      "Particle 1589 lost !! [795780.0, 42.421614021630845, 48.454937165710845, -124.73690387576569]\n",
      "Particle 1690 lost !! [797040.0, 79.84295543034696, 48.50834131121206, -124.78113151682388]\n"
     ]
    },
    {
     "name": "stderr",
     "output_type": "stream",
     "text": [
      " 61% (792000.0 of 1296000.0) |######     | Elapsed Time: 0:14:10 ETA:   0:08:45"
     ]
    },
    {
     "name": "stdout",
     "output_type": "stream",
     "text": [
      "Correct cell not found for (-124.778448, 48.495307) after 1000000 iterations\n",
      "Debug info: old particle indices: (yi, xi) 414 0\n",
      "            new particle indices: (yi, xi) 414 42\n",
      "            Mesh 2d shape:  898 398\n",
      "            Relative particle position:  (xsi, eta) -4.3275067860731419e+01 6.0465353271800049e-01\n",
      "Particle 2297 lost !! [797490.0, 88.53092683215341, 48.49775534516373, -124.77274065442467]\n"
     ]
    },
    {
     "name": "stderr",
     "output_type": "stream",
     "text": [
      " 61% (793800.0 of 1296000.0) |######     | Elapsed Time: 0:14:14 ETA:   0:14:46"
     ]
    },
    {
     "name": "stdout",
     "output_type": "stream",
     "text": [
      "Correct cell not found for (-124.762740, 48.478539) after 1000000 iterations\n",
      "Debug info: old particle indices: (yi, xi) 410 0\n",
      "            new particle indices: (yi, xi) 410 42\n",
      "            Mesh 2d shape:  898 398\n",
      "            Relative particle position:  (xsi, eta) -4.3031960467264724e+01 3.0596699327277199e-01\n",
      "Particle 1417 lost !! [800550.0, 19.63412782121826, 48.48023649820789, -124.75758244959734]\n"
     ]
    },
    {
     "name": "stderr",
     "output_type": "stream",
     "text": [
      " 61% (795600.0 of 1296000.0) |######     | Elapsed Time: 0:14:15 ETA:   0:09:42"
     ]
    },
    {
     "name": "stdout",
     "output_type": "stream",
     "text": [
      "Correct cell not found for (-124.761688, 48.476790) after 1000000 iterations\n",
      "Debug info: old particle indices: (yi, xi) 409 0\n",
      "            new particle indices: (yi, xi) 409 42\n",
      "            Mesh 2d shape:  898 398\n",
      "            Relative particle position:  (xsi, eta) -4.3103441020947763e+01 9.0041147108886688e-01\n",
      "Particle 2335 lost !! [801450.0, 7.416779166163275, 48.47692822170721, -124.7570957830059]\n"
     ]
    },
    {
     "name": "stderr",
     "output_type": "stream",
     "text": [
      " 61% (801000.0 of 1296000.0) |######     | Elapsed Time: 0:14:21 ETA:   0:12:18"
     ]
    },
    {
     "name": "stdout",
     "output_type": "stream",
     "text": [
      "Correct cell not found for (-124.785732, 48.505035) after 1000000 iterations\n",
      "Debug info: old particle indices: (yi, xi) 417 0\n",
      "            new particle indices: (yi, xi) 417 42\n",
      "            Mesh 2d shape:  898 398\n",
      "            Relative particle position:  (xsi, eta) -4.3103940172256081e+01 1.3267971871499388e-02\n",
      "Particle 2314 lost !! [808110.0, 5.364074112897379, 48.507857573295176, -124.78073133959694]\n"
     ]
    },
    {
     "name": "stderr",
     "output_type": "stream",
     "text": [
      " 63% (822600.0 of 1296000.0) |######     | Elapsed Time: 0:14:41 ETA:   0:11:47"
     ]
    },
    {
     "name": "stdout",
     "output_type": "stream",
     "text": [
      "Correct cell not found for (-124.799438, 48.520939) after 1000000 iterations\n",
      "Debug info: old particle indices: (yi, xi) 421 0\n",
      "            new particle indices: (yi, xi) 421 42\n",
      "            Mesh 2d shape:  898 398\n",
      "            Relative particle position:  (xsi, eta) -4.3222142634221328e+01 3.4555215478938514e-02\n",
      "Correct cell not found for (-124.811493, 48.535602) after 1000000 iterations\n",
      "Debug info: old particle indices: (yi, xi) 424 1\n",
      "            new particle indices: (yi, xi) 424 43\n",
      "            Mesh 2d shape:  898 398\n",
      "            Relative particle position:  (xsi, eta) -4.4166729698093647e+01 7.0170230886011675e-01\n",
      "Particle 1777 lost !! [828270.0, 40.92136788375906, 48.52473138779301, -124.7957957000741]\n",
      "Particle 1868 lost !! [828540.0, 78.71341311264909, 48.53757415038759, -124.80486383926396]\n"
     ]
    },
    {
     "name": "stderr",
     "output_type": "stream",
     "text": [
      " 63% (826200.0 of 1296000.0) |#######    | Elapsed Time: 0:14:45 ETA:   0:11:03"
     ]
    },
    {
     "name": "stdout",
     "output_type": "stream",
     "text": [
      "Correct cell not found for (-124.810080, 48.530049) after 1000000 iterations\n",
      "Debug info: old particle indices: (yi, xi) 424 0\n",
      "            new particle indices: (yi, xi) 423 42\n",
      "            Mesh 2d shape:  898 398\n",
      "            Relative particle position:  (xsi, eta) -4.3636041709841926e+01 5.3206214721917955e-01\n",
      "Particle 1423 lost !! [833130.0, 7.32287317656875, 48.53381587820531, -124.80601775402953]\n"
     ]
    },
    {
     "name": "stderr",
     "output_type": "stream",
     "text": [
      " 64% (838800.0 of 1296000.0) |#######    | Elapsed Time: 0:14:55 ETA:   0:06:36"
     ]
    },
    {
     "name": "stdout",
     "output_type": "stream",
     "text": [
      "Correct cell not found for (-124.796239, 48.517494) after 1000000 iterations\n",
      "Debug info: old particle indices: (yi, xi) 420 0\n",
      "            new particle indices: (yi, xi) 420 42\n",
      "            Mesh 2d shape:  898 398\n",
      "            Relative particle position:  (xsi, eta) -4.3134783647359448e+01 1.2427933519486048e-01\n",
      "Particle 1566 lost !! [845010.0, 6.830157423631409, 48.51818879923573, -124.79203005544342]\n"
     ]
    },
    {
     "name": "stderr",
     "output_type": "stream",
     "text": [
      " 65% (851400.0 of 1296000.0) |#######    | Elapsed Time: 0:15:08 ETA:   0:11:09"
     ]
    },
    {
     "name": "stdout",
     "output_type": "stream",
     "text": [
      "Correct cell not found for (-124.939045, 48.684859) after 1000000 iterations\n",
      "Debug info: old particle indices: (yi, xi) 462 0\n",
      "            new particle indices: (yi, xi) 462 42\n",
      "            Mesh 2d shape:  898 398\n",
      "            Relative particle position:  (xsi, eta) -4.3440065107183997e+01 3.9341105064160409e-01\n",
      "Particle 1905 lost !! [857160.0, 2.5690733928767626, 48.68548850105566, -124.93314419615935]\n"
     ]
    },
    {
     "name": "stderr",
     "output_type": "stream",
     "text": [
      " 66% (867600.0 of 1296000.0) |#######    | Elapsed Time: 0:15:23 ETA:   0:06:47"
     ]
    },
    {
     "name": "stdout",
     "output_type": "stream",
     "text": [
      "Correct cell not found for (-124.808738, 48.531772) after 1000000 iterations\n",
      "Debug info: old particle indices: (yi, xi) 424 0\n",
      "            new particle indices: (yi, xi) 423 42\n",
      "            Mesh 2d shape:  898 398\n",
      "            Relative particle position:  (xsi, eta) -4.3238134358478959e+01 7.7196359244749502e-01\n",
      "Correct cell not found for (-124.803793, 48.527381) after 1000000 iterations\n",
      "Debug info: old particle indices: (yi, xi) 421 0\n",
      "            new particle indices: (yi, xi) 422 42\n",
      "            Mesh 2d shape:  898 398\n",
      "            Relative particle position:  (xsi, eta) -4.3037903628589014e+01 5.6764268176814658e-01\n",
      "Particle 1721 lost !! [874170.0, 21.174473021335345, 48.53574694068792, -124.80531552410149]\n",
      "Particle 2105 lost !! [874440.0, 28.799660339420804, 48.524605480938305, -124.79920060840935]\n"
     ]
    },
    {
     "name": "stderr",
     "output_type": "stream",
     "text": [
      " 67% (869400.0 of 1296000.0) |#######    | Elapsed Time: 0:15:26 ETA:   0:13:32"
     ]
    },
    {
     "name": "stdout",
     "output_type": "stream",
     "text": [
      "Correct cell not found for (-124.908280, 48.650568) after 1000000 iterations\n",
      "Debug info: old particle indices: (yi, xi) 453 0\n",
      "            new particle indices: (yi, xi) 453 42\n",
      "            Mesh 2d shape:  898 398\n",
      "            Relative particle position:  (xsi, eta) -4.3199188218525194e+01 6.2110829037336068e-01\n",
      "Correct cell not found for (-124.831732, 48.560164) after 1000000 iterations\n",
      "Debug info: old particle indices: (yi, xi) 430 0\n",
      "            new particle indices: (yi, xi) 430 42\n",
      "            Mesh 2d shape:  898 398\n",
      "            Relative particle position:  (xsi, eta) -4.3138227516070152e+01 8.3533411486509412e-01\n",
      "Particle 1729 lost !! [875970.0, 38.24460536250018, 48.652919842528696, -124.90262899515595]\n",
      "Particle 2152 lost !! [876420.0, 36.78825087340209, 48.559844298263314, -124.82522222838756]\n"
     ]
    },
    {
     "name": "stderr",
     "output_type": "stream",
     "text": [
      " 67% (871200.0 of 1296000.0) |#######    | Elapsed Time: 0:15:27 ETA:   0:08:33"
     ]
    },
    {
     "name": "stdout",
     "output_type": "stream",
     "text": [
      "Correct cell not found for (-124.824630, 48.551599) after 1000000 iterations\n",
      "Debug info: old particle indices: (yi, xi) 428 0\n",
      "            new particle indices: (yi, xi) 428 42\n",
      "            Mesh 2d shape:  898 398\n",
      "            Relative particle position:  (xsi, eta) -4.3084697830866901e+01 6.9260053253134435e-01\n",
      "Correct cell not found for (-124.830856, 48.557789) after 1000000 iterations\n",
      "Debug info: old particle indices: (yi, xi) 430 0\n",
      "            new particle indices: (yi, xi) 430 42\n",
      "            Mesh 2d shape:  898 398\n",
      "            Relative particle position:  (xsi, eta) -4.3303471647999864e+01 3.1712546647149165e-01\n",
      "Correct cell not found for (-124.828124, 48.553057) after 1000000 iterations\n",
      "Debug info: old particle indices: (yi, xi) 429 0\n",
      "            new particle indices: (yi, xi) 429 42\n",
      "            Mesh 2d shape:  898 398\n",
      "            Relative particle position:  (xsi, eta) -4.3432498821995161e+01 2.2063407899185047e-01\n",
      "Correct cell not found for (-124.832638, 48.561631) after 1000000 iterations\n",
      "Debug info: old particle indices: (yi, xi) 431 1\n",
      "            new particle indices: (yi, xi) 431 43\n",
      "            Mesh 2d shape:  898 398\n",
      "            Relative particle position:  (xsi, eta) -4.4029629168636035e+01 1.9441385881582390e-01\n",
      "Particle 1415 lost !! [877770.0, 20.046616707400506, 48.552074820397905, -124.81740795677125]\n",
      "Particle 1474 lost !! [877230.0, 74.50023110848517, 48.56164493837614, -124.82789570180803]\n",
      "Particle 1741 lost !! [877140.0, 18.577009326584, 48.553896459952185, -124.82160103074364]\n",
      "Particle 1963 lost !! [877320.0, 22.64075351871422, 48.56301964248163, -124.82597617408234]\n"
     ]
    },
    {
     "name": "stderr",
     "output_type": "stream",
     "text": [
      " 67% (874800.0 of 1296000.0) |#######    | Elapsed Time: 0:15:31 ETA:   0:07:35"
     ]
    },
    {
     "name": "stdout",
     "output_type": "stream",
     "text": [
      "Correct cell not found for (-124.730352, 48.434109) after 1000000 iterations\n",
      "Debug info: old particle indices: (yi, xi) 399 0\n",
      "            new particle indices: (yi, xi) 399 42\n",
      "            Mesh 2d shape:  898 398\n",
      "            Relative particle position:  (xsi, eta) -4.3761294492338308e+01 5.0052115823636667e-01\n",
      "Correct cell not found for (-124.714658, 48.420946) after 1000000 iterations\n",
      "Debug info: old particle indices: (yi, xi) 396 1\n",
      "            new particle indices: (yi, xi) 395 43\n",
      "            Mesh 2d shape:  898 398\n",
      "            Relative particle position:  (xsi, eta) -4.4027477961316663e+01 8.5067405466516743e-01\n",
      "Correct cell not found for (-124.871940, 48.606856) after 1000000 iterations\n",
      "Debug info: old particle indices: (yi, xi) 443 0\n",
      "            new particle indices: (yi, xi) 442 42\n",
      "            Mesh 2d shape:  898 398\n",
      "            Relative particle position:  (xsi, eta) -4.3269803466491702e+01 6.7057250741259555e-01\n",
      "Correct cell not found for (-124.754397, 48.467757) after 1000000 iterations\n",
      "Debug info: old particle indices: (yi, xi) 407 1\n",
      "            new particle indices: (yi, xi) 407 43\n",
      "            Mesh 2d shape:  898 398\n",
      "            Relative particle position:  (xsi, eta) -4.4120810240443085e+01 6.3525930713566059e-01\n",
      "Particle 1516 lost !! [880560.0, 24.53309163768992, 48.43713624014674, -124.72429361681822]\n",
      "Particle 1578 lost !! [881010.0, 5.777535863791933, 48.424078362407684, -124.70820147689786]\n",
      "Particle 1739 lost !! [881010.0, 29.94698998461095, 48.61091162390875, -124.86744098585025]\n",
      "Particle 2443 lost !! [881370.0, 1.971343994859044, 48.471556148194004, -124.74802001581853]\n"
     ]
    },
    {
     "name": "stderr",
     "output_type": "stream",
     "text": [
      " 67% (876600.0 of 1296000.0) |#######    | Elapsed Time: 0:15:34 ETA:   0:12:28"
     ]
    },
    {
     "name": "stdout",
     "output_type": "stream",
     "text": [
      "Correct cell not found for (-124.867337, 48.603222) after 1000000 iterations\n",
      "Debug info: old particle indices: (yi, xi) 441 1\n",
      "            new particle indices: (yi, xi) 441 43\n",
      "            Mesh 2d shape:  898 398\n",
      "            Relative particle position:  (xsi, eta) -4.3994269184950049e+01 6.1985481531113151e-01\n",
      "Correct cell not found for (-124.828281, 48.555340) after 1000000 iterations\n",
      "Debug info: old particle indices: (yi, xi) 429 0\n",
      "            new particle indices: (yi, xi) 429 42\n",
      "            Mesh 2d shape:  898 398\n",
      "            Relative particle position:  (xsi, eta) -4.3204680582685796e+01 6.6601840768335352e-01\n",
      "Particle 1331 lost !! [883440.0, 22.720882800315355, 48.606045265124244, -124.86120855724465]\n",
      "Particle 1524 lost !! [882540.0, 27.66335659727562, 48.55585215292811, -124.82195738232372]\n"
     ]
    },
    {
     "name": "stderr",
     "output_type": "stream",
     "text": [
      " 67% (880200.0 of 1296000.0) |#######    | Elapsed Time: 0:15:38 ETA:   0:11:18"
     ]
    },
    {
     "name": "stdout",
     "output_type": "stream",
     "text": [
      "Correct cell not found for (-124.813198, 48.537462) after 1000000 iterations\n",
      "Debug info: old particle indices: (yi, xi) 425 0\n",
      "            new particle indices: (yi, xi) 425 42\n",
      "            Mesh 2d shape:  898 398\n",
      "            Relative particle position:  (xsi, eta) -4.3152802158929561e+01 1.6350310734836015e-01\n",
      "Correct cell not found for (-124.734852, 48.440759) after 1000000 iterations\n",
      "Debug info: old particle indices: (yi, xi) 401 0\n",
      "            new particle indices: (yi, xi) 401 42\n",
      "            Mesh 2d shape:  898 398\n",
      "            Relative particle position:  (xsi, eta) -4.3564990427150065e+01 5.9151084184556404e-02\n",
      "Particle 1580 lost !! [887130.0, 37.010337524067154, 48.53943569688512, -124.80764137511508]\n",
      "Particle 2537 lost !! [887130.0, 30.086784587599382, 48.44268308914386, -124.72923786109241]\n"
     ]
    },
    {
     "name": "stderr",
     "output_type": "stream",
     "text": [
      " 68% (882000.0 of 1296000.0) |#######    | Elapsed Time: 0:15:39 ETA:   0:07:26"
     ]
    },
    {
     "name": "stdout",
     "output_type": "stream",
     "text": [
      "Correct cell not found for (-124.731987, 48.439687) after 1000000 iterations\n",
      "Debug info: old particle indices: (yi, xi) 399 0\n",
      "            new particle indices: (yi, xi) 400 42\n",
      "            Mesh 2d shape:  898 398\n",
      "            Relative particle position:  (xsi, eta) -4.3292190858844343e+01 6.5365307685591090e-01\n",
      "Correct cell not found for (-124.858490, 48.590077) after 1000000 iterations\n",
      "Debug info: old particle indices: (yi, xi) 438 1\n",
      "            new particle indices: (yi, xi) 438 43\n",
      "            Mesh 2d shape:  898 398\n",
      "            Relative particle position:  (xsi, eta) -4.4334732882170108e+01 4.9257113281693510e-01\n",
      "Particle 1487 lost !! [887490.0, 91.83429149701445, 48.43723133929315, -124.72521656057123]\n",
      "Particle 2079 lost !! [888210.0, 22.500720929642387, 48.59377180246719, -124.85205091951939]\n"
     ]
    },
    {
     "name": "stderr",
     "output_type": "stream",
     "text": [
      " 68% (883800.0 of 1296000.0) |#######    | Elapsed Time: 0:15:43 ETA:   0:12:49"
     ]
    },
    {
     "name": "stdout",
     "output_type": "stream",
     "text": [
      "Correct cell not found for (-124.798170, 48.518702) after 1000000 iterations\n",
      "Debug info: old particle indices: (yi, xi) 420 0\n",
      "            new particle indices: (yi, xi) 420 42\n",
      "            Mesh 2d shape:  898 398\n",
      "            Relative particle position:  (xsi, eta) -4.3287657153637511e+01 5.0313530064444711e-01\n",
      "Correct cell not found for (-124.792749, 48.514166) after 1000000 iterations\n",
      "Debug info: old particle indices: (yi, xi) 419 0\n",
      "            new particle indices: (yi, xi) 419 42\n",
      "            Mesh 2d shape:  898 398\n",
      "            Relative particle position:  (xsi, eta) -4.3063681285398509e+01 2.5152157006144932e-01\n",
      "Particle 1405 lost !! [889200.0, 21.581672344301086, 48.52050282590289, -124.79428511551883]\n",
      "Particle 1446 lost !! [890010.0, 4.6470009239267505, 48.51398597776856, -124.78891398536251]\n"
     ]
    },
    {
     "name": "stderr",
     "output_type": "stream",
     "text": [
      " 68% (885600.0 of 1296000.0) |#######    | Elapsed Time: 0:15:44 ETA:   0:08:07"
     ]
    },
    {
     "name": "stdout",
     "output_type": "stream",
     "text": [
      "Correct cell not found for (-124.805256, 48.527815) after 1000000 iterations\n",
      "Debug info: old particle indices: (yi, xi) 423 0\n",
      "            new particle indices: (yi, xi) 422 42\n",
      "            Mesh 2d shape:  898 398\n",
      "            Relative particle position:  (xsi, eta) -4.3190086502643730e+01 7.5122190051781201e-01\n",
      "Particle 1390 lost !! [891990.0, 47.87443480681183, 48.531881613468485, -124.8006141921793]\n"
     ]
    },
    {
     "name": "stderr",
     "output_type": "stream",
     "text": [
      " 68% (887400.0 of 1296000.0) |#######    | Elapsed Time: 0:15:47 ETA:   0:11:56"
     ]
    },
    {
     "name": "stdout",
     "output_type": "stream",
     "text": [
      "Correct cell not found for (-124.790795, 48.511628) after 1000000 iterations\n",
      "Debug info: old particle indices: (yi, xi) 419 0\n",
      "            new particle indices: (yi, xi) 418 42\n",
      "            Mesh 2d shape:  898 398\n",
      "            Relative particle position:  (xsi, eta) -4.3076824547905950e+01 6.3410036965235983e-01\n",
      "Particle 1366 lost !! [893880.0, 1.698449647647796, 48.51445069126156, -124.78827895856267]\n"
     ]
    },
    {
     "name": "stderr",
     "output_type": "stream",
     "text": [
      " 70% (916200.0 of 1296000.0) |#######    | Elapsed Time: 0:16:16 ETA:   0:10:26"
     ]
    },
    {
     "name": "stdout",
     "output_type": "stream",
     "text": [
      "Correct cell not found for (-124.790553, 48.505945) after 1000000 iterations\n",
      "Debug info: old particle indices: (yi, xi) 417 0\n",
      "            new particle indices: (yi, xi) 417 42\n",
      "            Mesh 2d shape:  898 398\n",
      "            Relative particle position:  (xsi, eta) -4.3698306649315910e+01 5.3312882048622290e-01\n",
      "Particle 1974 lost !! [922050.0, 43.49463300053648, 48.50850348593028, -124.7852661511961]\n"
     ]
    },
    {
     "name": "stderr",
     "output_type": "stream",
     "text": [
      " 71% (921600.0 of 1296000.0) |#######    | Elapsed Time: 0:16:20 ETA:   0:06:20"
     ]
    },
    {
     "name": "stdout",
     "output_type": "stream",
     "text": [
      "Correct cell not found for (-124.794866, 48.515693) after 1000000 iterations\n",
      "Debug info: old particle indices: (yi, xi) 419 0\n",
      "            new particle indices: (yi, xi) 419 42\n",
      "            Mesh 2d shape:  898 398\n",
      "            Relative particle position:  (xsi, eta) -4.3164756534863258e+01 6.8551507723355787e-01\n",
      "Particle 1420 lost !! [927180.0, 58.58566354947214, 48.518352937888366, -124.78932833132592]\n"
     ]
    },
    {
     "name": "stderr",
     "output_type": "stream",
     "text": [
      " 71% (923400.0 of 1296000.0) |#######    | Elapsed Time: 0:16:24 ETA:   0:11:55"
     ]
    },
    {
     "name": "stdout",
     "output_type": "stream",
     "text": [
      "Correct cell not found for (-124.786507, 48.505635) after 1000000 iterations\n",
      "Debug info: old particle indices: (yi, xi) 417 0\n",
      "            new particle indices: (yi, xi) 417 42\n",
      "            Mesh 2d shape:  898 398\n",
      "            Relative particle position:  (xsi, eta) -4.3143488134375588e+01 1.8369184861328172e-01\n",
      "Particle 1130 lost !! [930330.0, 5.386174920890265, 48.508705596017236, -124.78288209250951]\n"
     ]
    },
    {
     "name": "stderr",
     "output_type": "stream",
     "text": [
      " 72% (934200.0 of 1296000.0) |#######    | Elapsed Time: 0:16:35 ETA:   0:10:21"
     ]
    },
    {
     "name": "stdout",
     "output_type": "stream",
     "text": [
      "Correct cell not found for (-124.795518, 48.517588) after 1000000 iterations\n",
      "Debug info: old particle indices: (yi, xi) 420 1\n",
      "            new particle indices: (yi, xi) 420 43\n",
      "            Mesh 2d shape:  898 398\n",
      "            Relative particle position:  (xsi, eta) -4.4055214547652511e+01 1.0928206477110926e-01\n",
      "Particle 1110 lost !! [940500.0, 16.29349788946902, 48.52097794431523, -124.78915421135422]\n"
     ]
    },
    {
     "name": "stderr",
     "output_type": "stream",
     "text": [
      " 73% (952200.0 of 1296000.0) |########   | Elapsed Time: 0:16:53 ETA:   0:09:14"
     ]
    },
    {
     "name": "stdout",
     "output_type": "stream",
     "text": [
      "Correct cell not found for (-124.835224, 48.563469) after 1000000 iterations\n",
      "Debug info: old particle indices: (yi, xi) 431 1\n",
      "            new particle indices: (yi, xi) 431 43\n",
      "            Mesh 2d shape:  898 398\n",
      "            Relative particle position:  (xsi, eta) -4.4209729090715868e+01 7.4571143118910888e-01\n",
      "Particle 1728 lost !! [958410.0, 2.3309114286147468, 48.5665945429656, -124.82847291501416]\n"
     ]
    },
    {
     "name": "stderr",
     "output_type": "stream",
     "text": [
      " 73% (954000.0 of 1296000.0) |########   | Elapsed Time: 0:16:55 ETA:   0:06:21"
     ]
    },
    {
     "name": "stdout",
     "output_type": "stream",
     "text": [
      "Correct cell not found for (-124.833024, 48.559995) after 1000000 iterations\n",
      "Debug info: old particle indices: (yi, xi) 430 0\n",
      "            new particle indices: (yi, xi) 430 42\n",
      "            Mesh 2d shape:  898 398\n",
      "            Relative particle position:  (xsi, eta) -4.3348946239948276e+01 8.9555026238571311e-01\n",
      "Particle 1363 lost !! [959490.0, 85.43318612136177, 48.562781986968545, -124.8265429532904]\n"
     ]
    },
    {
     "name": "stderr",
     "output_type": "stream",
     "text": [
      " 73% (957600.0 of 1296000.0) |########   | Elapsed Time: 0:16:58 ETA:   0:05:59"
     ]
    },
    {
     "name": "stdout",
     "output_type": "stream",
     "text": [
      "Correct cell not found for (-124.813091, 48.536901) after 1000000 iterations\n",
      "Debug info: old particle indices: (yi, xi) 424 0\n",
      "            new particle indices: (yi, xi) 425 42\n",
      "            Mesh 2d shape:  898 398\n",
      "            Relative particle position:  (xsi, eta) -4.3206291334131798e+01 4.8289630726801328e-02\n",
      "Correct cell not found for (-124.734711, 48.445037) after 1000000 iterations\n",
      "Debug info: old particle indices: (yi, xi) 401 1\n",
      "            new particle indices: (yi, xi) 401 43\n",
      "            Mesh 2d shape:  898 398\n",
      "            Relative particle position:  (xsi, eta) -4.4021815350844228e+01 8.6757188944746888e-01\n",
      "Particle 1499 lost !! [964170.0, 16.50862031038699, 48.536292022031745, -124.80785820639034]\n",
      "Particle 2040 lost !! [963990.0, 6.240206748072712, 48.44629667661608, -124.72776451620774]\n"
     ]
    },
    {
     "name": "stderr",
     "output_type": "stream",
     "text": [
      " 74% (959400.0 of 1296000.0) |########   | Elapsed Time: 0:17:02 ETA:   0:10:54"
     ]
    },
    {
     "name": "stdout",
     "output_type": "stream",
     "text": [
      "Correct cell not found for (-124.844026, 48.572305) after 1000000 iterations\n",
      "Debug info: old particle indices: (yi, xi) 434 0\n",
      "            new particle indices: (yi, xi) 434 42\n",
      "            Mesh 2d shape:  898 398\n",
      "            Relative particle position:  (xsi, eta) -4.3440908281624623e+01 4.3092319725614149e-02\n",
      "Particle 2005 lost !! [966330.0, 58.80965269894795, 48.57676528147358, -124.84087035541249]\n"
     ]
    },
    {
     "name": "stderr",
     "output_type": "stream",
     "text": [
      " 74% (961200.0 of 1296000.0) |########   | Elapsed Time: 0:17:03 ETA:   0:06:57"
     ]
    },
    {
     "name": "stdout",
     "output_type": "stream",
     "text": [
      "Correct cell not found for (-124.800187, 48.516396) after 1000000 iterations\n",
      "Debug info: old particle indices: (yi, xi) 420 0\n",
      "            new particle indices: (yi, xi) 420 42\n",
      "            Mesh 2d shape:  898 398\n",
      "            Relative particle position:  (xsi, eta) -4.3853068624106179e+01 1.9840385335666197e-01\n",
      "Particle 1144 lost !! [967050.0, 11.623452227310088, 48.519637687061575, -124.79446820976229]\n"
     ]
    },
    {
     "name": "stderr",
     "output_type": "stream",
     "text": [
      " 74% (963000.0 of 1296000.0) |########   | Elapsed Time: 0:17:06 ETA:   0:09:56"
     ]
    },
    {
     "name": "stdout",
     "output_type": "stream",
     "text": [
      "Correct cell not found for (-124.829244, 48.555394) after 1000000 iterations\n",
      "Debug info: old particle indices: (yi, xi) 429 0\n",
      "            new particle indices: (yi, xi) 429 42\n",
      "            Mesh 2d shape:  898 398\n",
      "            Relative particle position:  (xsi, eta) -4.3344948660745217e+01 7.4457237827460054e-01\n",
      "Correct cell not found for (-124.822126, 48.547577) after 1000000 iterations\n",
      "Debug info: old particle indices: (yi, xi) 428 0\n",
      "            new particle indices: (yi, xi) 427 42\n",
      "            Mesh 2d shape:  898 398\n",
      "            Relative particle position:  (xsi, eta) -4.3226330011041775e+01 7.4802214199041306e-01\n",
      "Particle 1612 lost !! [969750.0, 83.64107173038498, 48.55608229856714, -124.82242017690444]\n",
      "Particle 1972 lost !! [969120.0, 24.620140171628975, 48.55025907584084, -124.81864261074003]\n"
     ]
    },
    {
     "name": "stderr",
     "output_type": "stream",
     "text": [
      " 74% (964800.0 of 1296000.0) |########   | Elapsed Time: 0:17:07 ETA:   0:06:31"
     ]
    },
    {
     "name": "stdout",
     "output_type": "stream",
     "text": [
      "Correct cell not found for (-124.787319, 48.506943) after 1000000 iterations\n",
      "Debug info: old particle indices: (yi, xi) 417 0\n",
      "            new particle indices: (yi, xi) 417 42\n",
      "            Mesh 2d shape:  898 398\n",
      "            Relative particle position:  (xsi, eta) -4.3101196761918580e+01 4.9245983596679105e-01\n",
      "Correct cell not found for (-124.809935, 48.533692) after 1000000 iterations\n",
      "Debug info: old particle indices: (yi, xi) 424 0\n",
      "            new particle indices: (yi, xi) 424 42\n",
      "            Mesh 2d shape:  898 398\n",
      "            Relative particle position:  (xsi, eta) -4.3176927874306003e+01 2.2577573204418425e-01\n",
      "Particle 1434 lost !! [971010.0, 73.78994992003136, 48.50874088139112, -124.78328926440125]\n",
      "Particle 2080 lost !! [971010.0, 92.29352742292706, 48.53456867748517, -124.80516955365972]\n"
     ]
    },
    {
     "name": "stderr",
     "output_type": "stream",
     "text": [
      " 74% (966600.0 of 1296000.0) |########   | Elapsed Time: 0:17:11 ETA:   0:10:51"
     ]
    },
    {
     "name": "stdout",
     "output_type": "stream",
     "text": [
      "Correct cell not found for (-124.807579, 48.530719) after 1000000 iterations\n",
      "Debug info: old particle indices: (yi, xi) 423 0\n",
      "            new particle indices: (yi, xi) 423 42\n",
      "            Mesh 2d shape:  898 398\n",
      "            Relative particle position:  (xsi, eta) -4.3183801486588600e+01 4.8009969194883106e-01\n",
      "Correct cell not found for (-124.774272, 48.491067) after 1000000 iterations\n",
      "Debug info: old particle indices: (yi, xi) 413 0\n",
      "            new particle indices: (yi, xi) 413 42\n",
      "            Mesh 2d shape:  898 398\n",
      "            Relative particle position:  (xsi, eta) -4.3180700840507420e+01 5.1155856158454482e-01\n",
      "Particle 1611 lost !! [973620.0, 106.89212593935007, 48.532917513910064, -124.80172500264025]\n",
      "Particle 1817 lost !! [972900.0, 66.2871606075463, 48.49350286671615, -124.7695610429265]\n"
     ]
    },
    {
     "name": "stderr",
     "output_type": "stream",
     "text": [
      " 74% (968400.0 of 1296000.0) |########   | Elapsed Time: 0:17:12 ETA:   0:07:02"
     ]
    },
    {
     "name": "stdout",
     "output_type": "stream",
     "text": [
      "Correct cell not found for (-124.826244, 48.552702) after 1000000 iterations\n",
      "Debug info: old particle indices: (yi, xi) 429 1\n",
      "            new particle indices: (yi, xi) 429 43\n",
      "            Mesh 2d shape:  898 398\n",
      "            Relative particle position:  (xsi, eta) -4.4232371421249795e+01 4.2758065306742747e-02\n",
      "Particle 1408 lost !! [975420.0, 16.899874817488506, 48.556161203578384, -124.82010225597855]\n"
     ]
    },
    {
     "name": "stderr",
     "output_type": "stream",
     "text": [
      " 76% (997200.0 of 1296000.0) |########   | Elapsed Time: 0:17:42 ETA:   0:04:52"
     ]
    },
    {
     "name": "stdout",
     "output_type": "stream",
     "text": [
      "Correct cell not found for (-124.793762, 48.513292) after 1000000 iterations\n",
      "Debug info: old particle indices: (yi, xi) 419 1\n",
      "            new particle indices: (yi, xi) 419 43\n",
      "            Mesh 2d shape:  898 398\n",
      "            Relative particle position:  (xsi, eta) -4.4274113801080553e+01 1.6955192258078366e-01\n",
      "Particle 1693 lost !! [1003320.0, 76.94249508626864, 48.51752703049694, -124.7872106854259]\n"
     ]
    },
    {
     "name": "stderr",
     "output_type": "stream",
     "text": [
      " 77% (1000800.0 of 1296000.0) |#######   | Elapsed Time: 0:17:46 ETA:   0:04:59"
     ]
    },
    {
     "name": "stdout",
     "output_type": "stream",
     "text": [
      "Correct cell not found for (-124.796588, 48.514854) after 1000000 iterations\n",
      "Debug info: old particle indices: (yi, xi) 419 0\n",
      "            new particle indices: (yi, xi) 419 42\n",
      "            Mesh 2d shape:  898 398\n",
      "            Relative particle position:  (xsi, eta) -4.3522751030642610e+01 6.4872814461752804e-01\n",
      "Particle 1834 lost !! [1006470.0, 42.671480580644115, 48.51860382227602, -124.78973740523362]\n"
     ]
    },
    {
     "name": "stderr",
     "output_type": "stream",
     "text": [
      " 77% (1004400.0 of 1296000.0) |#######   | Elapsed Time: 0:17:49 ETA:   0:05:03"
     ]
    },
    {
     "name": "stdout",
     "output_type": "stream",
     "text": [
      "Correct cell not found for (-124.787994, 48.507537) after 1000000 iterations\n",
      "Debug info: old particle indices: (yi, xi) 416 0\n",
      "            new particle indices: (yi, xi) 417 42\n",
      "            Mesh 2d shape:  898 398\n",
      "            Relative particle position:  (xsi, eta) -4.3126898531743002e+01 6.5449816698106034e-01\n",
      "Correct cell not found for (-124.792023, 48.511906) after 1000000 iterations\n",
      "Debug info: old particle indices: (yi, xi) 418 0\n",
      "            new particle indices: (yi, xi) 418 42\n",
      "            Mesh 2d shape:  898 398\n",
      "            Relative particle position:  (xsi, eta) -4.3232699111237814e+01 7.7422187933402142e-01\n",
      "Particle 1745 lost !! [1010790.0, 15.255863687544995, 48.5048443418415, -124.78161469884651]\n",
      "Particle 2117 lost !! [1010700.0, 37.19248589496897, 48.51082240933673, -124.78540798913008]\n"
     ]
    },
    {
     "name": "stderr",
     "output_type": "stream",
     "text": [
      " 77% (1006200.0 of 1296000.0) |#######   | Elapsed Time: 0:17:53 ETA:   0:08:52"
     ]
    },
    {
     "name": "stdout",
     "output_type": "stream",
     "text": [
      "Correct cell not found for (-124.792533, 48.512104) after 1000000 iterations\n",
      "Debug info: old particle indices: (yi, xi) 419 1\n",
      "            new particle indices: (yi, xi) 418 43\n",
      "            Mesh 2d shape:  898 398\n",
      "            Relative particle position:  (xsi, eta) -4.4238734006560904e+01 8.5381204130932065e-01\n",
      "Particle 1700 lost !! [1011600.0, 60.392064523168784, 48.51547702435603, -124.78570221134133]\n"
     ]
    },
    {
     "name": "stderr",
     "output_type": "stream",
     "text": [
      " 77% (1008000.0 of 1296000.0) |#######   | Elapsed Time: 0:17:54 ETA:   0:05:31"
     ]
    },
    {
     "name": "stdout",
     "output_type": "stream",
     "text": [
      "Correct cell not found for (-124.806561, 48.529572) after 1000000 iterations\n",
      "Debug info: old particle indices: (yi, xi) 423 0\n",
      "            new particle indices: (yi, xi) 423 42\n",
      "            Mesh 2d shape:  898 398\n",
      "            Relative particle position:  (xsi, eta) -4.3161366305258575e+01 1.7999176118498256e-01\n",
      "Correct cell not found for (-124.777060, 48.493701) after 1000000 iterations\n",
      "Debug info: old particle indices: (yi, xi) 414 0\n",
      "            new particle indices: (yi, xi) 414 42\n",
      "            Mesh 2d shape:  898 398\n",
      "            Relative particle position:  (xsi, eta) -4.3288909790024498e+01 2.0713361027009972e-01\n",
      "Particle 1850 lost !! [1014930.0, 16.67681846572707, 48.53287199089191, -124.80496757682641]\n",
      "Particle 2044 lost !! [1014660.0, 7.043946333186495, 48.4960664815876, -124.77146338442357]\n"
     ]
    },
    {
     "name": "stderr",
     "output_type": "stream",
     "text": [
      " 79% (1027800.0 of 1296000.0) |#######   | Elapsed Time: 0:18:14 ETA:   0:08:04"
     ]
    },
    {
     "name": "stdout",
     "output_type": "stream",
     "text": [
      "Correct cell not found for (-124.791753, 48.509331) after 1000000 iterations\n",
      "Debug info: old particle indices: (yi, xi) 418 0\n",
      "            new particle indices: (yi, xi) 418 42\n",
      "            Mesh 2d shape:  898 398\n",
      "            Relative particle position:  (xsi, eta) -4.3475323252803783e+01 2.6546470227985108e-01\n",
      "Particle 2272 lost !! [1034280.0, 5.457555513634301, 48.51336377161672, -124.78558824131743]\n"
     ]
    },
    {
     "name": "stderr",
     "output_type": "stream",
     "text": [
      " 79% (1029600.0 of 1296000.0) |#######   | Elapsed Time: 0:18:15 ETA:   0:05:07"
     ]
    },
    {
     "name": "stdout",
     "output_type": "stream",
     "text": [
      "Correct cell not found for (-124.800811, 48.522997) after 1000000 iterations\n",
      "Debug info: old particle indices: (yi, xi) 421 0\n",
      "            new particle indices: (yi, xi) 421 42\n",
      "            Mesh 2d shape:  898 398\n",
      "            Relative particle position:  (xsi, eta) -4.3169234336573410e+01 5.2751874315351832e-01\n",
      "Particle 2030 lost !! [1036530.0, 5.492066173486197, 48.52635301495056, -124.7960394266722]\n"
     ]
    },
    {
     "name": "stderr",
     "output_type": "stream",
     "text": [
      " 80% (1038600.0 of 1296000.0) |########  | Elapsed Time: 0:18:27 ETA:   0:08:04"
     ]
    },
    {
     "name": "stdout",
     "output_type": "stream",
     "text": [
      "Correct cell not found for (-124.799369, 48.522095) after 1000000 iterations\n",
      "Debug info: old particle indices: (yi, xi) 421 0\n",
      "            new particle indices: (yi, xi) 421 42\n",
      "            Mesh 2d shape:  898 398\n",
      "            Relative particle position:  (xsi, eta) -4.3069062182732566e+01 2.5118872956544530e-01\n",
      "Particle 1702 lost !! [1045530.0, 7.767374432740916, 48.52541224961113, -124.79691243599608]\n"
     ]
    },
    {
     "name": "stderr",
     "output_type": "stream",
     "text": [
      " 80% (1044000.0 of 1296000.0) |########  | Elapsed Time: 0:18:31 ETA:   0:04:03"
     ]
    },
    {
     "name": "stdout",
     "output_type": "stream",
     "text": [
      "Correct cell not found for (-124.832063, 48.556722) after 1000000 iterations\n",
      "Debug info: old particle indices: (yi, xi) 430 0\n",
      "            new particle indices: (yi, xi) 430 42\n",
      "            Mesh 2d shape:  898 398\n",
      "            Relative particle position:  (xsi, eta) -4.3612620561277460e+01 1.9904456751248772e-01\n",
      "Correct cell not found for (-124.808379, 48.532776) after 1000000 iterations\n",
      "Debug info: old particle indices: (yi, xi) 424 1\n",
      "            new particle indices: (yi, xi) 423 43\n",
      "            Mesh 2d shape:  898 398\n",
      "            Relative particle position:  (xsi, eta) -4.4027197360339578e+01 9.2186033667547651e-01\n",
      "Correct cell not found for (-124.792955, 48.514646) after 1000000 iterations\n",
      "Debug info: old particle indices: (yi, xi) 420 0\n",
      "            new particle indices: (yi, xi) 419 42\n",
      "            Mesh 2d shape:  898 398\n",
      "            Relative particle position:  (xsi, eta) -4.3029532543051118e+01 3.5574393584858177e-01\n",
      "Particle 1192 lost !! [1050120.0, 98.51135179558955, 48.55798223339562, -124.82607423257078]\n",
      "Particle 1457 lost !! [1050210.0, 26.19873814830173, 48.53573476082234, -124.80126589425069]\n",
      "Particle 1824 lost !! [1050120.0, 27.007940342095754, 48.51884240093786, -124.79210214452283]\n"
     ]
    },
    {
     "name": "stderr",
     "output_type": "stream",
     "text": [
      " 80% (1045800.0 of 1296000.0) |########  | Elapsed Time: 0:18:34 ETA:   0:07:40"
     ]
    },
    {
     "name": "stdout",
     "output_type": "stream",
     "text": [
      "Correct cell not found for (-124.772552, 48.490353) after 1000000 iterations\n",
      "Debug info: old particle indices: (yi, xi) 412 0\n",
      "            new particle indices: (yi, xi) 413 42\n",
      "            Mesh 2d shape:  898 398\n",
      "            Relative particle position:  (xsi, eta) -4.2998467394996794e+01 2.5385219542204324e-01\n",
      "Correct cell not found for (-124.757550, 48.471008) after 1000000 iterations\n",
      "Debug info: old particle indices: (yi, xi) 408 0\n",
      "            new particle indices: (yi, xi) 408 42\n",
      "            Mesh 2d shape:  898 398\n",
      "            Relative particle position:  (xsi, eta) -4.3190112722947291e+01 4.8725367544521442e-01\n",
      "Correct cell not found for (-124.828647, 48.557112) after 1000000 iterations\n",
      "Debug info: old particle indices: (yi, xi) 429 0\n",
      "            new particle indices: (yi, xi) 430 42\n",
      "            Mesh 2d shape:  898 398\n",
      "            Relative particle position:  (xsi, eta) -4.3062861622742709e+01 2.9161298078474885e-02\n",
      "Correct cell not found for (-124.747699, 48.455998) after 1000000 iterations\n",
      "Debug info: old particle indices: (yi, xi) 404 0\n",
      "            new particle indices: (yi, xi) 404 42\n",
      "            Mesh 2d shape:  898 398\n",
      "            Relative particle position:  (xsi, eta) -4.3572747135440473e+01 9.0021746883826836e-01\n",
      "Particle 981 lost !! [1052730.0, 4.7488734363717535, 48.48591102862312, -124.76767290721449]\n",
      "Particle 994 lost !! [1051650.0, 0.42510335863668913, 48.473343616926776, -124.75073697343798]\n",
      "Particle 1109 lost !! [1052010.0, 25.46569447370151, 48.55699094252425, -124.8220625755646]\n",
      "Particle 1822 lost !! [1051920.0, 8.995374342687652, 48.45808715618967, -124.74069597552055]\n"
     ]
    },
    {
     "name": "stderr",
     "output_type": "stream",
     "text": [
      " 80% (1047600.0 of 1296000.0) |########  | Elapsed Time: 0:18:35 ETA:   0:04:55"
     ]
    },
    {
     "name": "stdout",
     "output_type": "stream",
     "text": [
      "Correct cell not found for (-124.846462, 48.574318) after 1000000 iterations\n",
      "Debug info: old particle indices: (yi, xi) 434 0\n",
      "            new particle indices: (yi, xi) 434 42\n",
      "            Mesh 2d shape:  898 398\n",
      "            Relative particle position:  (xsi, eta) -4.3523000656537974e+01 5.9051125399760518e-01\n",
      "Particle 2082 lost !! [1054350.0, 7.29103996142433, 48.57810584233348, -124.84086227048388]\n"
     ]
    },
    {
     "name": "stderr",
     "output_type": "stream",
     "text": [
      " 80% (1049400.0 of 1296000.0) |########  | Elapsed Time: 0:18:38 ETA:   0:06:49"
     ]
    },
    {
     "name": "stdout",
     "output_type": "stream",
     "text": [
      "Correct cell not found for (-124.731902, 48.436627) after 1000000 iterations\n",
      "Debug info: old particle indices: (yi, xi) 400 0\n",
      "            new particle indices: (yi, xi) 400 42\n",
      "            Mesh 2d shape:  898 398\n",
      "            Relative particle position:  (xsi, eta) -4.3685239507010706e+01 7.5866664697138153e-02\n",
      "Particle 2453 lost !! [1056420.0, 5.76599841607995, 48.439715035452785, -124.72503346257615]\n"
     ]
    },
    {
     "name": "stderr",
     "output_type": "stream",
     "text": [
      " 81% (1051200.0 of 1296000.0) |########  | Elapsed Time: 0:18:39 ETA:   0:04:34"
     ]
    },
    {
     "name": "stdout",
     "output_type": "stream",
     "text": [
      "Correct cell not found for (-124.883844, 48.619529) after 1000000 iterations\n",
      "Debug info: old particle indices: (yi, xi) 446 1\n",
      "            new particle indices: (yi, xi) 445 43\n",
      "            Mesh 2d shape:  898 398\n",
      "            Relative particle position:  (xsi, eta) -4.4424522839885505e+01 9.0375326166172709e-01\n",
      "Correct cell not found for (-124.835518, 48.563758) after 1000000 iterations\n",
      "Debug info: old particle indices: (yi, xi) 431 0\n",
      "            new particle indices: (yi, xi) 431 42\n",
      "            Mesh 2d shape:  898 398\n",
      "            Relative particle position:  (xsi, eta) -4.3212124168835075e+01 7.7717623703714567e-01\n",
      "Particle 2305 lost !! [1056960.0, 9.238166993121677, 48.62363173248072, -124.87690437706775]\n",
      "Particle 2540 lost !! [1057050.0, 33.379742857811436, 48.56530499398565, -124.82982108465185]\n"
     ]
    },
    {
     "name": "stderr",
     "output_type": "stream",
     "text": [
      " 81% (1054800.0 of 1296000.0) |########  | Elapsed Time: 0:18:43 ETA:   0:04:12"
     ]
    },
    {
     "name": "stdout",
     "output_type": "stream",
     "text": [
      "Correct cell not found for (-124.784301, 48.502796) after 1000000 iterations\n",
      "Debug info: old particle indices: (yi, xi) 416 0\n",
      "            new particle indices: (yi, xi) 416 42\n",
      "            Mesh 2d shape:  898 398\n",
      "            Relative particle position:  (xsi, eta) -4.3206455607071391e+01 4.7731054654505284e-01\n",
      "Correct cell not found for (-124.895601, 48.634474) after 1000000 iterations\n",
      "Debug info: old particle indices: (yi, xi) 449 0\n",
      "            new particle indices: (yi, xi) 449 42\n",
      "            Mesh 2d shape:  898 398\n",
      "            Relative particle position:  (xsi, eta) -4.3317770448572716e+01 6.1811710721804181e-01\n",
      "Correct cell not found for (-124.710747, 48.414375) after 1000000 iterations\n",
      "Debug info: old particle indices: (yi, xi) 394 0\n",
      "            new particle indices: (yi, xi) 394 42\n",
      "            Mesh 2d shape:  898 398\n",
      "            Relative particle position:  (xsi, eta) -4.3296164785349340e+01 3.1578050842960864e-01\n",
      "Particle 1061 lost !! [1060470.0, 9.642249414854689, 48.505256565352866, -124.78134536495924]\n",
      "Particle 2043 lost !! [1061280.0, 26.23820252247177, 48.63720773113999, -124.89146860858705]\n",
      "Particle 2260 lost !! [1060920.0, 81.6085420044571, 48.416249527361074, -124.70511098843117]\n"
     ]
    },
    {
     "name": "stderr",
     "output_type": "stream",
     "text": [
      " 81% (1056600.0 of 1296000.0) |########  | Elapsed Time: 0:18:46 ETA:   0:07:17"
     ]
    },
    {
     "name": "stdout",
     "output_type": "stream",
     "text": [
      "Correct cell not found for (-124.716567, 48.423137) after 1000000 iterations\n",
      "Debug info: old particle indices: (yi, xi) 396 1\n",
      "            new particle indices: (yi, xi) 396 43\n",
      "            Mesh 2d shape:  898 398\n",
      "            Relative particle position:  (xsi, eta) -4.4050665962623199e+01 4.1330023341659805e-01\n",
      "Particle 1358 lost !! [1062180.0, 114.24145466842023, 48.42650568175072, -124.71000140210182]\n"
     ]
    },
    {
     "name": "stderr",
     "output_type": "stream",
     "text": [
      " 81% (1058400.0 of 1296000.0) |########  | Elapsed Time: 0:18:47 ETA:   0:04:37"
     ]
    },
    {
     "name": "stdout",
     "output_type": "stream",
     "text": [
      "Correct cell not found for (-124.799802, 48.521053) after 1000000 iterations\n",
      "Debug info: old particle indices: (yi, xi) 421 1\n",
      "            new particle indices: (yi, xi) 421 43\n",
      "            Mesh 2d shape:  898 398\n",
      "            Relative particle position:  (xsi, eta) -4.4210623849102944e+01 6.0248320481445447e-02\n",
      "Particle 2090 lost !! [1064430.0, 151.0308443873345, 48.52415241218105, -124.7932705204605]\n"
     ]
    },
    {
     "name": "stderr",
     "output_type": "stream",
     "text": [
      " 82% (1065600.0 of 1296000.0) |########  | Elapsed Time: 0:18:54 ETA:   0:03:54"
     ]
    },
    {
     "name": "stdout",
     "output_type": "stream",
     "text": [
      "Correct cell not found for (-124.797697, 48.519733) after 1000000 iterations\n",
      "Debug info: old particle indices: (yi, xi) 420 0\n",
      "            new particle indices: (yi, xi) 420 42\n",
      "            Mesh 2d shape:  898 398\n",
      "            Relative particle position:  (xsi, eta) -4.3099192237103104e+01 6.7085581979333886e-01\n",
      "Correct cell not found for (-124.784042, 48.501839) after 1000000 iterations\n",
      "Debug info: old particle indices: (yi, xi) 416 0\n",
      "            new particle indices: (yi, xi) 416 42\n",
      "            Mesh 2d shape:  898 398\n",
      "            Relative particle position:  (xsi, eta) -4.3300731047030752e+01 2.7381174441989220e-01\n",
      "Particle 1463 lost !! [1072170.0, 46.42508417960675, 48.52041831358248, -124.79126017600754]\n",
      "Particle 1491 lost !! [1072170.0, 0.9997482661732696, 48.50245567131322, -124.77764503178545]\n"
     ]
    },
    {
     "name": "stderr",
     "output_type": "stream",
     "text": [
      " 84% (1090800.0 of 1296000.0) |########  | Elapsed Time: 0:19:21 ETA:   0:03:35"
     ]
    },
    {
     "name": "stdout",
     "output_type": "stream",
     "text": [
      "Correct cell not found for (-124.786523, 48.503683) after 1000000 iterations\n",
      "Debug info: old particle indices: (yi, xi) 417 0\n",
      "            new particle indices: (yi, xi) 416 42\n",
      "            Mesh 2d shape:  898 398\n",
      "            Relative particle position:  (xsi, eta) -4.3399915876866828e+01 8.0936745417471945e-01\n",
      "Particle 1884 lost !! [1096830.0, 45.69367160529773, 48.50811281022242, -124.78082081682156]\n"
     ]
    },
    {
     "name": "stderr",
     "output_type": "stream",
     "text": [
      " 84% (1098000.0 of 1296000.0) |########  | Elapsed Time: 0:19:29 ETA:   0:03:19"
     ]
    },
    {
     "name": "stdout",
     "output_type": "stream",
     "text": [
      "Correct cell not found for (-124.791744, 48.511405) after 1000000 iterations\n",
      "Debug info: old particle indices: (yi, xi) 419 1\n",
      "            new particle indices: (yi, xi) 418 43\n",
      "            Mesh 2d shape:  898 398\n",
      "            Relative particle position:  (xsi, eta) -4.4222945941906502e+01 6.6182243621633075e-01\n",
      "Particle 1386 lost !! [1104120.0, 14.97269572397296, 48.515262109893975, -124.7858457550163]\n"
     ]
    },
    {
     "name": "stderr",
     "output_type": "stream",
     "text": [
      " 87% (1128600.0 of 1296000.0) |########  | Elapsed Time: 0:20:01 ETA:   0:04:31"
     ]
    },
    {
     "name": "stdout",
     "output_type": "stream",
     "text": [
      "Correct cell not found for (-124.808084, 48.531916) after 1000000 iterations\n",
      "Debug info: old particle indices: (yi, xi) 423 0\n",
      "            new particle indices: (yi, xi) 423 42\n",
      "            Mesh 2d shape:  898 398\n",
      "            Relative particle position:  (xsi, eta) -4.3123423210381937e+01 7.5222837658164698e-01\n",
      "Particle 2121 lost !! [1135710.0, 56.97869829074376, 48.53290171161163, -124.80391784009396]\n"
     ]
    },
    {
     "name": "stderr",
     "output_type": "stream",
     "text": [
      " 87% (1130400.0 of 1296000.0) |########  | Elapsed Time: 0:20:02 ETA:   0:02:59"
     ]
    },
    {
     "name": "stdout",
     "output_type": "stream",
     "text": [
      "Correct cell not found for (-124.840493, 48.569513) after 1000000 iterations\n",
      "Debug info: old particle indices: (yi, xi) 433 0\n",
      "            new particle indices: (yi, xi) 433 42\n",
      "            Mesh 2d shape:  898 398\n",
      "            Relative particle position:  (xsi, eta) -4.3231715878265206e+01 2.3750079797822624e-01\n",
      "Correct cell not found for (-124.799790, 48.522581) after 1000000 iterations\n",
      "Debug info: old particle indices: (yi, xi) 421 1\n",
      "            new particle indices: (yi, xi) 421 43\n",
      "            Mesh 2d shape:  898 398\n",
      "            Relative particle position:  (xsi, eta) -4.4013893237890954e+01 3.6209123218022754e-01\n",
      "Particle 982 lost !! [1135890.0, 19.68007634436803, 48.57111542770585, -124.83414608953274]\n",
      "Particle 1645 lost !! [1136250.0, 21.68439627921057, 48.52521386192475, -124.79274353849466]\n"
     ]
    },
    {
     "name": "stderr",
     "output_type": "stream",
     "text": [
      " 87% (1132200.0 of 1296000.0) |########  | Elapsed Time: 0:20:05 ETA:   0:05:01"
     ]
    },
    {
     "name": "stdout",
     "output_type": "stream",
     "text": [
      "Correct cell not found for (-124.799074, 48.520734) after 1000000 iterations\n",
      "Debug info: old particle indices: (yi, xi) 421 0\n",
      "            new particle indices: (yi, xi) 420 42\n",
      "            Mesh 2d shape:  898 398\n",
      "            Relative particle position:  (xsi, eta) -4.3192435460112101e+01 9.6839375333539790e-01\n",
      "Particle 1113 lost !! [1138680.0, 28.461960265202936, 48.52255150388393, -124.79494108393614]\n"
     ]
    },
    {
     "name": "stderr",
     "output_type": "stream",
     "text": [
      " 87% (1134000.0 of 1296000.0) |########  | Elapsed Time: 0:20:06 ETA:   0:03:16"
     ]
    },
    {
     "name": "stdout",
     "output_type": "stream",
     "text": [
      "Correct cell not found for (-124.724768, 48.430631) after 1000000 iterations\n",
      "Debug info: old particle indices: (yi, xi) 398 0\n",
      "            new particle indices: (yi, xi) 398 42\n",
      "            Mesh 2d shape:  898 398\n",
      "            Relative particle position:  (xsi, eta) -4.3332390289978349e+01 4.3639611665521671e-01\n",
      "Correct cell not found for (-124.839935, 48.569362) after 1000000 iterations\n",
      "Debug info: old particle indices: (yi, xi) 433 0\n",
      "            new particle indices: (yi, xi) 433 42\n",
      "            Mesh 2d shape:  898 398\n",
      "            Relative particle position:  (xsi, eta) -4.3165066698608662e+01 1.6679288874444095e-01\n",
      "Correct cell not found for (-124.888400, 48.628229) after 1000000 iterations\n",
      "Debug info: old particle indices: (yi, xi) 448 0\n",
      "            new particle indices: (yi, xi) 447 42\n",
      "            Mesh 2d shape:  898 398\n",
      "            Relative particle position:  (xsi, eta) -4.3042501551256684e+01 9.5087920173977891e-01\n",
      "Correct cell not found for (-124.830578, 48.556673) after 1000000 iterations\n",
      "Debug info: old particle indices: (yi, xi) 430 0\n",
      "            new particle indices: (yi, xi) 430 42\n",
      "            Mesh 2d shape:  898 398\n",
      "            Relative particle position:  (xsi, eta) -4.3400683415150510e+01 8.3364927223637364e-02\n",
      "Particle 1472 lost !! [1139850.0, 0.07886997519739117, 48.43108188459523, -124.71844406349409]\n",
      "Particle 1550 lost !! [1140930.0, 11.70164499355901, 48.57011381968079, -124.83514921366493]\n",
      "Particle 1788 lost !! [1140210.0, 4.4709119001047375, 48.63023583540687, -124.88345314414113]\n",
      "Particle 2456 lost !! [1139850.0, 24.101136621589465, 48.55929649479086, -124.8238202533149]\n"
     ]
    },
    {
     "name": "stderr",
     "output_type": "stream",
     "text": [
      " 87% (1135800.0 of 1296000.0) |########  | Elapsed Time: 0:20:10 ETA:   0:04:50"
     ]
    },
    {
     "name": "stdout",
     "output_type": "stream",
     "text": [
      "Correct cell not found for (-124.752631, 48.463077) after 1000000 iterations\n",
      "Debug info: old particle indices: (yi, xi) 406 0\n",
      "            new particle indices: (yi, xi) 406 42\n",
      "            Mesh 2d shape:  898 398\n",
      "            Relative particle position:  (xsi, eta) -4.3431766532425868e+01 6.2467775138051462e-01\n",
      "Correct cell not found for (-124.837875, 48.568081) after 1000000 iterations\n",
      "Debug info: old particle indices: (yi, xi) 432 0\n",
      "            new particle indices: (yi, xi) 432 42\n",
      "            Mesh 2d shape:  898 398\n",
      "            Relative particle position:  (xsi, eta) -4.3012967244929563e+01 7.6985198039155389e-01\n",
      "Correct cell not found for (-124.820549, 48.547261) after 1000000 iterations\n",
      "Debug info: old particle indices: (yi, xi) 428 0\n",
      "            new particle indices: (yi, xi) 427 42\n",
      "            Mesh 2d shape:  898 398\n",
      "            Relative particle position:  (xsi, eta) -4.3042263591319823e+01 5.7843036301050088e-01\n",
      "Particle 1563 lost !! [1142550.0, 22.550091970104294, 48.46638224576715, -124.74560433535702]\n",
      "Particle 2022 lost !! [1142640.0, 37.106877264596335, 48.56658306128472, -124.83208540237477]\n",
      "Particle 2340 lost !! [1141290.0, 105.74525199611328, 48.55112618142225, -124.81864274537728]\n"
     ]
    },
    {
     "name": "stderr",
     "output_type": "stream",
     "text": [
      " 87% (1137600.0 of 1296000.0) |########  | Elapsed Time: 0:20:11 ETA:   0:03:14"
     ]
    },
    {
     "name": "stdout",
     "output_type": "stream",
     "text": [
      "Correct cell not found for (-124.820140, 48.544626) after 1000000 iterations\n",
      "Debug info: old particle indices: (yi, xi) 427 0\n",
      "            new particle indices: (yi, xi) 427 42\n",
      "            Mesh 2d shape:  898 398\n",
      "            Relative particle position:  (xsi, eta) -4.3333254090933096e+01 5.6398503785749197e-02\n",
      "Correct cell not found for (-124.851205, 48.582447) after 1000000 iterations\n",
      "Debug info: old particle indices: (yi, xi) 436 0\n",
      "            new particle indices: (yi, xi) 436 42\n",
      "            Mesh 2d shape:  898 398\n",
      "            Relative particle position:  (xsi, eta) -4.3194402855185295e+01 4.7928738840307761e-01\n",
      "Correct cell not found for (-124.817083, 48.543338) after 1000000 iterations\n",
      "Debug info: old particle indices: (yi, xi) 426 0\n",
      "            new particle indices: (yi, xi) 426 42\n",
      "            Mesh 2d shape:  898 398\n",
      "            Relative particle position:  (xsi, eta) -4.3025620159429160e+01 5.8191503139859557e-01\n",
      "Correct cell not found for (-124.927230, 48.674263) after 1000000 iterations\n",
      "Debug info: old particle indices: (yi, xi) 459 0\n",
      "            new particle indices: (yi, xi) 459 42\n",
      "            Mesh 2d shape:  898 398\n",
      "            Relative particle position:  (xsi, eta) -4.3017837677206359e+01 5.1308099890127001e-01\n",
      "Particle 1270 lost !! [1144710.0, 26.099369833589993, 48.54748108040965, -124.81474364386212]\n",
      "Particle 1490 lost !! [1143000.0, 4.832007175884102, 48.58356876162708, -124.84577229648305]\n",
      "Particle 1971 lost !! [1144620.0, 128.98355735305208, 48.54581707178401, -124.81196412481262]\n",
      "Particle 2235 lost !! [1144260.0, 25.225190146485, 48.67671934500321, -124.9235857996959]\n"
     ]
    },
    {
     "name": "stderr",
     "output_type": "stream",
     "text": [
      " 87% (1139400.0 of 1296000.0) |########  | Elapsed Time: 0:20:14 ETA:   0:04:39"
     ]
    },
    {
     "name": "stdout",
     "output_type": "stream",
     "text": [
      "Correct cell not found for (-124.780576, 48.499547) after 1000000 iterations\n",
      "Debug info: old particle indices: (yi, xi) 415 0\n",
      "            new particle indices: (yi, xi) 415 42\n",
      "            Mesh 2d shape:  898 398\n",
      "            Relative particle position:  (xsi, eta) -4.3073068984437697e+01 5.7371472919607625e-01\n",
      "Particle 1885 lost !! [1145160.0, 195.83367071421503, 48.498889763658134, -124.77467380738638]\n"
     ]
    },
    {
     "name": "stderr",
     "output_type": "stream",
     "text": [
      " 88% (1141200.0 of 1296000.0) |########  | Elapsed Time: 0:20:15 ETA:   0:03:08"
     ]
    },
    {
     "name": "stdout",
     "output_type": "stream",
     "text": [
      "Correct cell not found for (-124.907457, 48.648698) after 1000000 iterations\n",
      "Debug info: old particle indices: (yi, xi) 453 0\n",
      "            new particle indices: (yi, xi) 453 42\n",
      "            Mesh 2d shape:  898 398\n",
      "            Relative particle position:  (xsi, eta) -4.3288702644993968e+01 1.9285737729790020e-01\n",
      "Correct cell not found for (-124.788466, 48.509306) after 1000000 iterations\n",
      "Debug info: old particle indices: (yi, xi) 417 0\n",
      "            new particle indices: (yi, xi) 418 42\n",
      "            Mesh 2d shape:  898 398\n",
      "            Relative particle position:  (xsi, eta) -4.2979732170442958e+01 2.6894057525891472e-02\n",
      "Particle 1320 lost !! [1146690.0, 40.973838078974865, 48.65031738959474, -124.90133098898765]\n",
      "Particle 1840 lost !! [1147230.0, 2.856389217964358, 48.506704823746176, -124.78301956053066]\n"
     ]
    },
    {
     "name": "stderr",
     "output_type": "stream",
     "text": [
      " 88% (1144800.0 of 1296000.0) |########  | Elapsed Time: 0:20:19 ETA:   0:02:45"
     ]
    },
    {
     "name": "stdout",
     "output_type": "stream",
     "text": [
      "Correct cell not found for (-124.814856, 48.540384) after 1000000 iterations\n",
      "Debug info: old particle indices: (yi, xi) 426 0\n",
      "            new particle indices: (yi, xi) 425 42\n",
      "            Mesh 2d shape:  898 398\n",
      "            Relative particle position:  (xsi, eta) -4.3034982311413877e+01 8.4256390897161271e-01\n",
      "Correct cell not found for (-124.792845, 48.513435) after 1000000 iterations\n",
      "Debug info: old particle indices: (yi, xi) 419 1\n",
      "            new particle indices: (yi, xi) 419 43\n",
      "            Mesh 2d shape:  898 398\n",
      "            Relative particle position:  (xsi, eta) -4.4119260974064098e+01 1.3148764221622145e-01\n",
      "Particle 2442 lost !! [1151820.0, 43.64981244238547, 48.54253317299828, -124.809844244555]\n",
      "Particle 2515 lost !! [1150290.0, 20.46764192325795, 48.516834561417966, -124.78719388827712]\n"
     ]
    },
    {
     "name": "stderr",
     "output_type": "stream",
     "text": [
      " 88% (1148400.0 of 1296000.0) |########  | Elapsed Time: 0:20:23 ETA:   0:02:43"
     ]
    },
    {
     "name": "stdout",
     "output_type": "stream",
     "text": [
      "Correct cell not found for (-124.817200, 48.543206) after 1000000 iterations\n",
      "Debug info: old particle indices: (yi, xi) 427 0\n",
      "            new particle indices: (yi, xi) 426 42\n",
      "            Mesh 2d shape:  898 398\n",
      "            Relative particle position:  (xsi, eta) -4.3058297403215974e+01 5.6467860937666503e-01\n",
      "Correct cell not found for (-124.776357, 48.494888) after 1000000 iterations\n",
      "Debug info: old particle indices: (yi, xi) 413 0\n",
      "            new particle indices: (yi, xi) 414 42\n",
      "            Mesh 2d shape:  898 398\n",
      "            Relative particle position:  (xsi, eta) -4.3030784357007661e+01 3.7991995198298095e-01\n",
      "Particle 1649 lost !! [1153980.0, 34.64302298918379, 48.54730463130772, -124.81363038331006]\n",
      "Particle 1699 lost !! [1155330.0, 33.31482195693927, 48.49256877276105, -124.77004114640623]\n"
     ]
    },
    {
     "name": "stderr",
     "output_type": "stream",
     "text": [
      " 88% (1150200.0 of 1296000.0) |########  | Elapsed Time: 0:20:27 ETA:   0:04:38"
     ]
    },
    {
     "name": "stdout",
     "output_type": "stream",
     "text": [
      "Correct cell not found for (-124.788762, 48.509044) after 1000000 iterations\n",
      "Debug info: old particle indices: (yi, xi) 418 0\n",
      "            new particle indices: (yi, xi) 417 42\n",
      "            Mesh 2d shape:  898 398\n",
      "            Relative particle position:  (xsi, eta) -4.3053541687714336e+01 9.9820289152284936e-01\n",
      "Particle 1368 lost !! [1156590.0, 47.91164334393886, 48.51164981306247, -124.78484407069344]\n"
     ]
    },
    {
     "name": "stderr",
     "output_type": "stream",
     "text": [
      " 90% (1177200.0 of 1296000.0) |######### | Elapsed Time: 0:20:52 ETA:   0:01:50"
     ]
    },
    {
     "name": "stdout",
     "output_type": "stream",
     "text": [
      "Correct cell not found for (-124.775515, 48.491169) after 1000000 iterations\n",
      "Debug info: old particle indices: (yi, xi) 414 1\n",
      "            new particle indices: (yi, xi) 413 43\n",
      "            Mesh 2d shape:  898 398\n",
      "            Relative particle position:  (xsi, eta) -4.4332548497851228e+01 6.3333082541207875e-01\n",
      "Particle 1295 lost !! [1184040.0, 52.56813172513249, 48.495146202285525, -124.7691009641679]\n"
     ]
    },
    {
     "name": "stderr",
     "output_type": "stream",
     "text": [
      " 92% (1193400.0 of 1296000.0) |######### | Elapsed Time: 0:21:09 ETA:   0:03:00"
     ]
    },
    {
     "name": "stdout",
     "output_type": "stream",
     "text": [
      "Correct cell not found for (-124.808933, 48.532145) after 1000000 iterations\n",
      "Debug info: old particle indices: (yi, xi) 423 0\n",
      "            new particle indices: (yi, xi) 423 42\n",
      "            Mesh 2d shape:  898 398\n",
      "            Relative particle position:  (xsi, eta) -4.3224899407378999e+01 8.5958218061165936e-01\n",
      "Particle 1944 lost !! [1199520.0, 10.190998755177153, 48.53375127868022, -124.80315745463211]\n"
     ]
    },
    {
     "name": "stderr",
     "output_type": "stream",
     "text": [
      " 93% (1206000.0 of 1296000.0) |######### | Elapsed Time: 0:21:22 ETA:   0:01:53"
     ]
    },
    {
     "name": "stdout",
     "output_type": "stream",
     "text": [
      "Correct cell not found for (-124.825857, 48.553500) after 1000000 iterations\n",
      "Debug info: old particle indices: (yi, xi) 429 1\n",
      "            new particle indices: (yi, xi) 429 43\n",
      "            Mesh 2d shape:  898 398\n",
      "            Relative particle position:  (xsi, eta) -4.4070868896598064e+01 1.6515297440900423e-01\n",
      "Particle 1761 lost !! [1212390.0, 8.317183276770592, 48.55785345188098, -124.82069294145857]\n"
     ]
    },
    {
     "name": "stderr",
     "output_type": "stream",
     "text": [
      " 93% (1215000.0 of 1296000.0) |######### | Elapsed Time: 0:21:35 ETA:   0:02:53"
     ]
    },
    {
     "name": "stdout",
     "output_type": "stream",
     "text": [
      "Correct cell not found for (-124.863080, 48.597317) after 1000000 iterations\n",
      "Debug info: old particle indices: (yi, xi) 439 0\n",
      "            new particle indices: (yi, xi) 440 42\n",
      "            Mesh 2d shape:  898 398\n",
      "            Relative particle position:  (xsi, eta) -4.3099745817223884e+01 1.8231305112324236e-01\n",
      "Correct cell not found for (-124.836823, 48.563582) after 1000000 iterations\n",
      "Debug info: old particle indices: (yi, xi) 431 0\n",
      "            new particle indices: (yi, xi) 431 42\n",
      "            Mesh 2d shape:  898 398\n",
      "            Relative particle position:  (xsi, eta) -4.3422426858056340e+01 8.3540176505596786e-01\n",
      "Particle 1403 lost !! [1220850.0, 25.028716674341915, 48.59715918771892, -124.85677082588282]\n",
      "Particle 1799 lost !! [1221030.0, 7.193916986828629, 48.56557683195125, -124.83021384357419]\n"
     ]
    },
    {
     "name": "stderr",
     "output_type": "stream",
     "text": [
      " 94% (1218600.0 of 1296000.0) |######### | Elapsed Time: 0:21:40 ETA:   0:02:53"
     ]
    },
    {
     "name": "stdout",
     "output_type": "stream",
     "text": [
      "Correct cell not found for (-124.821985, 48.546900) after 1000000 iterations\n",
      "Debug info: old particle indices: (yi, xi) 428 0\n",
      "            new particle indices: (yi, xi) 427 42\n",
      "            Mesh 2d shape:  898 398\n",
      "            Relative particle position:  (xsi, eta) -4.3296015341390479e+01 6.1140376419403208e-01\n",
      "Particle 1811 lost !! [1225260.0, 19.055766684282545, 48.55068408066044, -124.8172341970622]\n"
     ]
    },
    {
     "name": "stderr",
     "output_type": "stream",
     "text": [
      " 94% (1224000.0 of 1296000.0) |######### | Elapsed Time: 0:21:45 ETA:   0:01:29"
     ]
    },
    {
     "name": "stdout",
     "output_type": "stream",
     "text": [
      "Correct cell not found for (-124.902183, 48.644252) after 1000000 iterations\n",
      "Debug info: old particle indices: (yi, xi) 451 0\n",
      "            new particle indices: (yi, xi) 451 42\n",
      "            Mesh 2d shape:  898 398\n",
      "            Relative particle position:  (xsi, eta) -4.3055193202960922e+01 9.5748309382970564e-01\n",
      "Correct cell not found for (-124.762085, 48.476603) after 1000000 iterations\n",
      "Debug info: old particle indices: (yi, xi) 410 0\n",
      "            new particle indices: (yi, xi) 409 42\n",
      "            Mesh 2d shape:  898 398\n",
      "            Relative particle position:  (xsi, eta) -4.3184432798603019e+01 8.9281993549550620e-01\n",
      "Correct cell not found for (-124.777370, 48.492488) after 1000000 iterations\n",
      "Debug info: old particle indices: (yi, xi) 414 0\n",
      "            new particle indices: (yi, xi) 414 42\n",
      "            Mesh 2d shape:  898 398\n",
      "            Relative particle position:  (xsi, eta) -4.3494267999854102e+01 1.7361755624429594e-03\n",
      "Particle 1399 lost !! [1230570.0, 41.43504962134156, 48.64578108563752, -124.89610418295027]\n",
      "Particle 1930 lost !! [1230660.0, 11.133711440613778, 48.48058437006723, -124.75727514326096]\n",
      "Particle 1961 lost !! [1230570.0, 58.7086453167638, 48.496294086444486, -124.77138392235575]\n"
     ]
    },
    {
     "name": "stderr",
     "output_type": "stream",
     "text": [
      " 94% (1225800.0 of 1296000.0) |######### | Elapsed Time: 0:21:49 ETA:   0:02:37"
     ]
    },
    {
     "name": "stdout",
     "output_type": "stream",
     "text": [
      "Correct cell not found for (-124.817349, 48.541581) after 1000000 iterations\n",
      "Debug info: old particle indices: (yi, xi) 426 0\n",
      "            new particle indices: (yi, xi) 426 42\n",
      "            Mesh 2d shape:  898 398\n",
      "            Relative particle position:  (xsi, eta) -4.3265460905866753e+01 2.5664034088176435e-01\n",
      "Particle 1407 lost !! [1231560.0, 32.82392443432676, 48.54239851611457, -124.813276715024]\n"
     ]
    },
    {
     "name": "stderr",
     "output_type": "stream",
     "text": [
      " 94% (1227600.0 of 1296000.0) |######### | Elapsed Time: 0:21:50 ETA:   0:01:32"
     ]
    },
    {
     "name": "stdout",
     "output_type": "stream",
     "text": [
      "Correct cell not found for (-124.769381, 48.486055) after 1000000 iterations\n",
      "Debug info: old particle indices: (yi, xi) 413 0\n",
      "            new particle indices: (yi, xi) 412 42\n",
      "            Mesh 2d shape:  898 398\n",
      "            Relative particle position:  (xsi, eta) -4.3083570500811589e+01 2.2370906724097112e-01\n",
      "Correct cell not found for (-124.788509, 48.507709) after 1000000 iterations\n",
      "Debug info: old particle indices: (yi, xi) 417 1\n",
      "            new particle indices: (yi, xi) 417 43\n",
      "            Mesh 2d shape:  898 398\n",
      "            Relative particle position:  (xsi, eta) -4.4251375386108485e+01 7.1623438070929457e-01\n",
      "Correct cell not found for (-124.769164, 48.484577) after 1000000 iterations\n",
      "Debug info: old particle indices: (yi, xi) 411 0\n",
      "            new particle indices: (yi, xi) 411 42\n",
      "            Mesh 2d shape:  898 398\n",
      "            Relative particle position:  (xsi, eta) -4.3241342394524267e+01 9.2884378069464890e-01\n",
      "Particle 1249 lost !! [1233000.0, 27.052778915393407, 48.48986841028128, -124.76837395199001]\n",
      "Particle 1860 lost !! [1234080.0, 76.87910125462135, 48.51090515142493, -124.78189057576549]\n",
      "Particle 1882 lost !! [1234350.0, 14.57234035524138, 48.485993705071344, -124.76382963997234]\n"
     ]
    },
    {
     "name": "stderr",
     "output_type": "stream",
     "text": [
      " 94% (1229400.0 of 1296000.0) |######### | Elapsed Time: 0:21:55 ETA:   0:03:10"
     ]
    },
    {
     "name": "stdout",
     "output_type": "stream",
     "text": [
      "Correct cell not found for (-124.899731, 48.640382) after 1000000 iterations\n",
      "Debug info: old particle indices: (yi, xi) 451 0\n",
      "            new particle indices: (yi, xi) 451 42\n",
      "            Mesh 2d shape:  898 398\n",
      "            Relative particle position:  (xsi, eta) -4.3174260918283068e+01 3.8948617451506504e-02\n",
      "Particle 1668 lost !! [1235610.0, 27.768819046448378, 48.6430185208027, -124.89589123028283]\n"
     ]
    },
    {
     "name": "stderr",
     "output_type": "stream",
     "text": [
      " 95% (1231200.0 of 1296000.0) |######### | Elapsed Time: 0:21:56 ETA:   0:01:52"
     ]
    },
    {
     "name": "stdout",
     "output_type": "stream",
     "text": [
      "Correct cell not found for (-124.745449, 48.455797) after 1000000 iterations\n",
      "Debug info: old particle indices: (yi, xi) 404 0\n",
      "            new particle indices: (yi, xi) 404 42\n",
      "            Mesh 2d shape:  898 398\n",
      "            Relative particle position:  (xsi, eta) -4.3272874872946232e+01 7.1094161048527682e-01\n",
      "Correct cell not found for (-124.759663, 48.473087) after 1000000 iterations\n",
      "Debug info: old particle indices: (yi, xi) 409 0\n",
      "            new particle indices: (yi, xi) 409 42\n",
      "            Mesh 2d shape:  898 398\n",
      "            Relative particle position:  (xsi, eta) -4.3220200371455043e+01 2.4941216879665197e-02\n",
      "Particle 1858 lost !! [1237050.0, 27.91780532093101, 48.45657269236185, -124.73861585243958]\n",
      "Particle 2070 lost !! [1236600.0, 2.6166269757668323, 48.4758107599992, -124.75468386930531]\n"
     ]
    },
    {
     "name": "stderr",
     "output_type": "stream",
     "text": [
      " 95% (1234800.0 of 1296000.0) |######### | Elapsed Time: 0:22:02 ETA:   0:01:29"
     ]
    },
    {
     "name": "stdout",
     "output_type": "stream",
     "text": [
      "Correct cell not found for (-124.744719, 48.453270) after 1000000 iterations\n",
      "Debug info: old particle indices: (yi, xi) 404 0\n",
      "            new particle indices: (yi, xi) 404 42\n",
      "            Mesh 2d shape:  898 398\n",
      "            Relative particle position:  (xsi, eta) -4.3491816153428800e+01 2.0332517172209918e-01\n",
      "Correct cell not found for (-124.742985, 48.452163) after 1000000 iterations\n",
      "Debug info: old particle indices: (yi, xi) 404 0\n",
      "            new particle indices: (yi, xi) 403 42\n",
      "            Mesh 2d shape:  898 398\n",
      "            Relative particle position:  (xsi, eta) -4.3375911792234049e+01 8.7127469605714192e-01\n",
      "Particle 1250 lost !! [1241280.0, 25.53079349680376, 48.45600723737486, -124.7390005645587]\n",
      "Particle 1679 lost !! [1241460.0, 15.04615202065894, 48.455893914861306, -124.74105595235615]\n"
     ]
    },
    {
     "name": "stderr",
     "output_type": "stream",
     "text": [
      " 95% (1240200.0 of 1296000.0) |######### | Elapsed Time: 0:22:11 ETA:   0:02:08"
     ]
    },
    {
     "name": "stdout",
     "output_type": "stream",
     "text": [
      "Correct cell not found for (-124.780011, 48.498766) after 1000000 iterations\n",
      "Debug info: old particle indices: (yi, xi) 415 0\n",
      "            new particle indices: (yi, xi) 415 42\n",
      "            Mesh 2d shape:  898 398\n",
      "            Relative particle position:  (xsi, eta) -4.3076993190617188e+01 3.7897659538964151e-01\n",
      "Particle 1362 lost !! [1246500.0, 208.4888302274407, 48.49946902911996, -124.77506305000878]\n"
     ]
    },
    {
     "name": "stderr",
     "output_type": "stream",
     "text": [
      " 95% (1242000.0 of 1296000.0) |######### | Elapsed Time: 0:22:12 ETA:   0:01:16"
     ]
    },
    {
     "name": "stdout",
     "output_type": "stream",
     "text": [
      "Correct cell not found for (-124.759219, 48.474042) after 1000000 iterations\n",
      "Debug info: old particle indices: (yi, xi) 409 1\n",
      "            new particle indices: (yi, xi) 409 43\n",
      "            Mesh 2d shape:  898 398\n",
      "            Relative particle position:  (xsi, eta) -4.4075848726392962e+01 1.9479328108360761e-01\n",
      "Particle 1748 lost !! [1247580.0, 165.09241042114533, 48.476721262163416, -124.7537538538233]\n"
     ]
    },
    {
     "name": "stderr",
     "output_type": "stream",
     "text": [
      " 95% (1243800.0 of 1296000.0) |######### | Elapsed Time: 0:22:17 ETA:   0:02:24"
     ]
    },
    {
     "name": "stdout",
     "output_type": "stream",
     "text": [
      "Correct cell not found for (-124.763517, 48.474914) after 1000000 iterations\n",
      "Debug info: old particle indices: (yi, xi) 409 0\n",
      "            new particle indices: (yi, xi) 409 42\n",
      "            Mesh 2d shape:  898 398\n",
      "            Relative particle position:  (xsi, eta) -4.3591741587010013e+01 6.6683724800427380e-01\n",
      "Particle 1539 lost !! [1249470.0, 2.545863211507078, 48.47641659943037, -124.75673501134689]\n"
     ]
    },
    {
     "name": "stderr",
     "output_type": "stream",
     "text": [
      " 98% (1279800.0 of 1296000.0) |######### | Elapsed Time: 0:23:04 ETA:   0:00:33"
     ]
    },
    {
     "name": "stdout",
     "output_type": "stream",
     "text": [
      "Correct cell not found for (-124.802900, 48.524657) after 1000000 iterations\n",
      "Debug info: old particle indices: (yi, xi) 422 0\n",
      "            new particle indices: (yi, xi) 421 42\n",
      "            Mesh 2d shape:  898 398\n",
      "            Relative particle position:  (xsi, eta) -4.3270799108015382e+01 -4.4894970576149140e-03\n",
      "Particle 1723 lost !! [1286010.0, 35.29714359337931, 48.52625958759627, -124.79942766121775]\n"
     ]
    },
    {
     "name": "stderr",
     "output_type": "stream",
     "text": [
      "100% (1296000.0 of 1296000.0) |##########| Elapsed Time: 0:23:11 Time:  0:23:11\n",
      "/home/jvalenti/conda_envs/parcels/lib/python3.9/site-packages/numpy/lib/arraysetops.py:270: VisibleDeprecationWarning: Creating an ndarray from ragged nested sequences (which is a list-or-tuple of lists-or-tuples-or ndarrays with different lengths or shapes) is deprecated. If you meant to do this, you must specify 'dtype=object' when creating the ndarray.\n",
      "  ar = np.asanyarray(ar)\n"
     ]
    }
   ],
   "source": [
    "# #Load Salish output as fields\n",
    "#field_set = FieldSet.from_nemo(filenames, variables, dimensions, allow_time_extrapolation=True)\n",
    "pset = ParticleSet.from_list(field_set, MPParticle, lon=lon, lat=lat, depth=z, time=start+timedelta(hours=2))\n",
    "\n",
    "k_sink = pset.Kernel(Buoyancy)\n",
    "k_waves = pset.Kernel(Stokes_drift)\n",
    "k_beach = pset.Kernel(Beaching)\n",
    "k_unbeach = pset.Kernel(Unbeaching)\n",
    "\n",
    "\n",
    "pset.execute(AdvectionRK4_3D + k_sink + k_waves + k_beach + k_unbeach,\n",
    "             runtime=duration, \n",
    "             dt=dt,\n",
    "             output_file=pset.ParticleFile(name=outfile, outputdt=timedelta(hours=1)),\n",
    "             recovery={ErrorCode.ErrorOutOfBounds: DeleteParticle})"
   ]
  }
 ],
 "metadata": {
  "kernelspec": {
   "display_name": "Python 3 (ipykernel)",
   "language": "python",
   "name": "python3"
  },
  "language_info": {
   "codemirror_mode": {
    "name": "ipython",
    "version": 3
   },
   "file_extension": ".py",
   "mimetype": "text/x-python",
   "name": "python",
   "nbconvert_exporter": "python",
   "pygments_lexer": "ipython3",
   "version": "3.9.7"
  }
 },
 "nbformat": 4,
 "nbformat_minor": 5
}
