{
 "cells": [
  {
   "cell_type": "code",
   "execution_count": 21,
   "id": "7b3cacf0-e987-4dcc-85ad-fa33f293ee98",
   "metadata": {},
   "outputs": [],
   "source": [
    "%matplotlib inline\n",
    "\n",
    "import sys\n",
    "import xarray as xr\n",
    "import numpy as np\n",
    "import os\n",
    "import math\n",
    "from datetime import datetime, timedelta\n",
    "from parcels import FieldSet, Field, VectorField, ParticleSet, JITParticle, ErrorCode, ParcelsRandom\n",
    "\n",
    "sys.path.append('/home/jvalenti/MOAD/analysis-jose/Source') #Dir where OP_kernels and OP_funtions are located.\n",
    "from OP_Kernels import DeleteParticle\n",
    "from OP_functions import *"
   ]
  },
  {
   "cell_type": "code",
   "execution_count": 22,
   "id": "941b8dd3-eebb-4149-af84-781e66652a11",
   "metadata": {},
   "outputs": [],
   "source": [
    "# Define paths (This function you would need to change with your own paths)\n",
    "local = 0 #Set to 0 when working on server\n",
    "paths = path(local) "
   ]
  },
  {
   "cell_type": "code",
   "execution_count": 23,
   "id": "82fb0d5f",
   "metadata": {},
   "outputs": [],
   "source": [
    "def Beaching(particle, fieldset, time):\n",
    "    '''Beaching prob'''  \n",
    "    if particle.beached == 0: #Check particle is in the water column       \n",
    "        Tb = particle.Lb*86400 #timescale beaching in seconds\n",
    "        x_offset = particle.Db/(111319.5*cos(particle.lat*(math.pi/180))) #Checking distance x of possible beaching\n",
    "        y_offset = particle.Db/111319.5 #Checking distance y of possible beaching\n",
    "        Pb = 1 - exp(-particle.dt/Tb)\n",
    "        if particle.lat < 48.6 and particle.lon < -124.7 or particle.lat < 49.237 and particle.lon > -123.196 and particle.lat > 49.074:\n",
    "            pass #Dont let particles beach inside the fraser river\n",
    "        elif ParcelsRandom.uniform(0,1)<Pb:\n",
    "            DWS1 = fieldset.U[time, 0.5, particle.lat+y_offset, particle.lon+x_offset] #particle.depth 0.5 check surface beach\n",
    "            DWS2 = fieldset.U[time, 0.5, particle.lat-y_offset, particle.lon+x_offset]  \n",
    "            DWS3 = fieldset.U[time, 0.5, particle.lat-y_offset, particle.lon-x_offset]\n",
    "            DWS4 = fieldset.U[time, 0.5, particle.lat+y_offset, particle.lon-x_offset]\n",
    "            if DWS1 == 0 or DWS2 == 0 or DWS3 == 0 or DWS4 == 0:\n",
    "                particle.beached = 1\n",
    "\n",
    "def AdvectionRK4_3D(particle, fieldset, time):\n",
    "    if particle.beached == 0: #Check particle is in the water column\n",
    "        (u1, v1, w1) = fieldset.UVW[time, particle.depth, particle.lat, particle.lon]\n",
    "        lon1 = particle.lon + u1*.5*particle.dt\n",
    "        lat1 = particle.lat + v1*.5*particle.dt\n",
    "        dep1 = particle.depth + w1*.5*particle.dt\n",
    "        (u2, v2, w2) = fieldset.UVW[time + .5 * particle.dt, dep1, lat1, lon1]\n",
    "        lon2 = particle.lon + u2*.5*particle.dt\n",
    "        lat2 = particle.lat + v2*.5*particle.dt\n",
    "        dep2 = particle.depth + w2*.5*particle.dt\n",
    "        (u3, v3, w3) = fieldset.UVW[time + .5 * particle.dt, dep2, lat2, lon2]\n",
    "        lon3 = particle.lon + u3*particle.dt\n",
    "        lat3 = particle.lat + v3*particle.dt\n",
    "        dep3 = particle.depth + w3*particle.dt\n",
    "        (u4, v4, w4) = fieldset.UVW[time + particle.dt, dep3, lat3, lon3]\n",
    "        particle.lon += (u1 + 2*u2 + 2*u3 + u4) / 6. * particle.dt\n",
    "        particle.lat += (v1 + 2*v2 + 2*v3 + v4) / 6. * particle.dt\n",
    "        particle.depth += (w1 + 2*w2 + 2*w3 + w4) / 6. * particle.dt"
   ]
  },
  {
   "cell_type": "markdown",
   "id": "97c4bf2f-db05-4d5f-b4bb-bdaad6578599",
   "metadata": {},
   "source": [
    "## Definitions"
   ]
  },
  {
   "cell_type": "code",
   "execution_count": 24,
   "id": "28a99025-a33d-4d66-9e39-aab453f279b2",
   "metadata": {},
   "outputs": [],
   "source": [
    "start = datetime(2020, 1, 1) #Start date\n",
    "# Set Time length [days] and timestep [seconds]\n",
    "length = 1 #days\n",
    "duration = timedelta(days=length)\n",
    "dt = 90 #toggle between - or + to pick backwards or forwards\n",
    "N = 1 # number of deploying locations\n",
    "n = 1 # 1000   # number of particles per location\n",
    "dmin = 10 #minimum depth\n",
    "dd = 5 #max depth difference from dmin\n",
    "x_offset, y_offset, zvals = p_deploy(N,n,dmin,dd)"
   ]
  },
  {
   "cell_type": "code",
   "execution_count": 25,
   "id": "c87107ce",
   "metadata": {},
   "outputs": [],
   "source": [
    "from parcels import Variable\n",
    "\n",
    "class MPParticle(JITParticle):        \n",
    "    Lb = Variable('Lb', initial = 0.23)  #days needed in days for particle to have 67% probability of beaching if in beaching zone (500m)\n",
    "    Db = Variable('Db', initial = 33) #Distance at which particles can randomly beach.\n",
    "    beached = Variable('beached', initial = 0)"
   ]
  },
  {
   "cell_type": "code",
   "execution_count": 26,
   "id": "2ceb066c-22eb-4ef5-abe1-dc051ad4cc7c",
   "metadata": {},
   "outputs": [],
   "source": [
    "clon = [-123.391892] #list of your longitudes in same order you give the latitudes \n",
    "clat = [49.195884]\n",
    "lon = np.zeros([N,n])\n",
    "lat = np.zeros([N,n])\n",
    "for i in range(N):\n",
    "    lon[i,:]=(clon[i] + x_offset[i,:])\n",
    "    lat[i,:]=(clat[i] + y_offset[i,:])\n",
    "z = zvals"
   ]
  },
  {
   "cell_type": "code",
   "execution_count": 27,
   "id": "92d6511f-3d0c-4a98-ad32-0d4cb970a2da",
   "metadata": {},
   "outputs": [],
   "source": [
    "#Set start date time and the name of the output file\n",
    "name = 'test_beaching' #name output file\n",
    "daterange = [start+timedelta(days=i) for i in range(length)]\n",
    "fn =  name + '_'.join(d.strftime('%Y%m%d')+'_1n' for d in [start, start+duration]) + '.nc'\n",
    "outfile = os.path.join(paths['out'], fn)"
   ]
  },
  {
   "cell_type": "code",
   "execution_count": 28,
   "id": "922eb3dc-e34d-4102-b1d4-4df9de8b2f06",
   "metadata": {},
   "outputs": [],
   "source": [
    "#Fill in the list of variables that you want to use as fields\n",
    "varlist=['U','V','W']\n",
    "filenames,variables,dimensions=filename_set(start,length,varlist,local)\n",
    "field_set=FieldSet.from_nemo(filenames, variables, dimensions, allow_time_extrapolation=True)"
   ]
  },
  {
   "cell_type": "code",
   "execution_count": 29,
   "id": "53f87621-a497-4575-85ba-18ec93118e44",
   "metadata": {},
   "outputs": [
    {
     "name": "stderr",
     "output_type": "stream",
     "text": [
      "INFO: Compiled ArrayMPParticleAdvectionRK4_3DBeaching ==> /tmp/parcels-2894/lib689bfb679329018d838df8af82399fe1_0.so\n",
      "INFO: Temporary output files are stored in /home/jvalenti/MOAD/results/out-CYCVIOGM.\n",
      "INFO: You can use \"parcels_convert_npydir_to_netcdf /home/jvalenti/MOAD/results/out-CYCVIOGM\" to convert these to a NetCDF file during the run.\n",
      "N/A% (0 of 86400.0) |                    | Elapsed Time: 0:00:00 ETA:  --:--:--\n",
      " 16% (14400.0 of 86400.0) |##            | Elapsed Time: 0:00:02 ETA:   0:00:10\n",
      " 20% (18000.0 of 86400.0) |##            | Elapsed Time: 0:00:04 ETA:   0:00:39\n",
      " 25% (21600.0 of 86400.0) |###           | Elapsed Time: 0:00:06 ETA:   0:00:36\n",
      " 29% (25200.0 of 86400.0) |####          | Elapsed Time: 0:00:08 ETA:   0:00:36\n",
      " 33% (28800.0 of 86400.0) |####          | Elapsed Time: 0:00:10 ETA:   0:00:32\n",
      " 37% (32400.0 of 86400.0) |#####         | Elapsed Time: 0:00:12 ETA:   0:00:30\n",
      " 41% (36000.0 of 86400.0) |#####         | Elapsed Time: 0:00:14 ETA:   0:00:29\n",
      " 45% (39600.0 of 86400.0) |######        | Elapsed Time: 0:00:16 ETA:   0:00:27\n",
      " 50% (43200.0 of 86400.0) |#######       | Elapsed Time: 0:00:18 ETA:   0:00:24\n",
      " 54% (46800.0 of 86400.0) |#######       | Elapsed Time: 0:00:20 ETA:   0:00:22\n",
      " 58% (50400.0 of 86400.0) |########      | Elapsed Time: 0:00:22 ETA:   0:00:21\n",
      " 62% (54000.0 of 86400.0) |########      | Elapsed Time: 0:00:25 ETA:   0:00:19\n",
      " 66% (57600.0 of 86400.0) |#########     | Elapsed Time: 0:00:27 ETA:   0:00:17\n",
      " 70% (61200.0 of 86400.0) |#########     | Elapsed Time: 0:00:29 ETA:   0:00:15\n",
      " 75% (64800.0 of 86400.0) |##########    | Elapsed Time: 0:00:31 ETA:   0:00:13\n",
      " 79% (68400.0 of 86400.0) |###########   | Elapsed Time: 0:00:33 ETA:   0:00:11\n",
      " 83% (72000.0 of 86400.0) |###########   | Elapsed Time: 0:00:35 ETA:   0:00:08\n",
      " 87% (75600.0 of 86400.0) |############  | Elapsed Time: 0:00:38 ETA:   0:00:06\n",
      " 91% (79200.0 of 86400.0) |############  | Elapsed Time: 0:00:40 ETA:   0:00:04\n",
      " 95% (82800.0 of 86400.0) |############# | Elapsed Time: 0:00:40 ETA:   0:00:01\n",
      "100% (86400.0 of 86400.0) |##############| Elapsed Time: 0:00:41 ETA:  00:00:00\n",
      "100% (86400.0 of 86400.0) |##############| Elapsed Time: 0:00:41 Time:  0:00:41\n"
     ]
    }
   ],
   "source": [
    "# #Load Salish output as fields\n",
    "#field_set = FieldSet.from_nemo(filenames, variables, dimensions, allow_time_extrapolation=True)\n",
    "pset = ParticleSet.from_list(field_set, MPParticle, lon=lon, lat=lat, depth=z, repeatdt = timedelta(hours=1))\n",
    "\n",
    "\n",
    "k_beach = pset.Kernel(Beaching)\n",
    "\n",
    "pset.execute(AdvectionRK4_3D + k_beach,\n",
    "             runtime=duration, \n",
    "             dt=dt,\n",
    "             output_file=pset.ParticleFile(name=outfile, outputdt=timedelta(hours=1)),\n",
    "             recovery={ErrorCode.ErrorOutOfBounds: DeleteParticle})"
   ]
  }
 ],
 "metadata": {
  "kernelspec": {
   "display_name": "Python 3.9.7 ('parcels')",
   "language": "python",
   "name": "python3"
  },
  "language_info": {
   "codemirror_mode": {
    "name": "ipython",
    "version": 3
   },
   "file_extension": ".py",
   "mimetype": "text/x-python",
   "name": "python",
   "nbconvert_exporter": "python",
   "pygments_lexer": "ipython3",
   "version": "3.9.7"
  },
  "vscode": {
   "interpreter": {
    "hash": "4212323e235cc8e6c24db3122a10380587ea24f073d235545490492281b5a1ea"
   }
  }
 },
 "nbformat": 4,
 "nbformat_minor": 5
}
