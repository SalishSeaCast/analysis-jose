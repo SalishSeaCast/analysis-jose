{
 "cells": [
  {
   "cell_type": "markdown",
   "id": "3249b069-318c-46cf-a0ab-422a39d81733",
   "metadata": {},
   "source": [
    "# **Template OP on salish**"
   ]
  },
  {
   "cell_type": "code",
   "execution_count": 30,
   "id": "7b3cacf0-e987-4dcc-85ad-fa33f293ee98",
   "metadata": {},
   "outputs": [],
   "source": [
    "%matplotlib inline\n",
    "\n",
    "import sys\n",
    "import xarray as xr\n",
    "import numpy as np\n",
    "import os\n",
    "from datetime import datetime, timedelta\n",
    "from parcels import FieldSet, Field, VectorField, ParticleSet, JITParticle, ErrorCode, AdvectionRK4, AdvectionRK4_3D\n",
    "\n",
    "sys.path.append('/home/jvalenti/MOAD/analysis-jose/notebooks/parcels')\n",
    "from Kernels import DeleteParticle, Buoyancy\n",
    "from OP_functions import *"
   ]
  },
  {
   "cell_type": "code",
   "execution_count": 31,
   "id": "941b8dd3-eebb-4149-af84-781e66652a11",
   "metadata": {},
   "outputs": [],
   "source": [
    "# Define paths\n",
    "local = 0 #Set to 0 when working on server\n",
    "paths = path(local)"
   ]
  },
  {
   "cell_type": "markdown",
   "id": "97c4bf2f-db05-4d5f-b4bb-bdaad6578599",
   "metadata": {},
   "source": [
    "## Definitions"
   ]
  },
  {
   "cell_type": "code",
   "execution_count": 32,
   "id": "28a99025-a33d-4d66-9e39-aab453f279b2",
   "metadata": {},
   "outputs": [],
   "source": [
    "start = datetime(2019, 12, 1) #Start date\n",
    "# Set Time length [days] and timestep [seconds]\n",
    "length = 30\n",
    "duration = timedelta(days=length)\n",
    "dt = 90 #toggle between - or + to pick backwards or forwards\n",
    "N = 2 # number of deploying locations\n",
    "n = 150 # 1000   # number of particles per location\n",
    "dmin = [59,64] #minimum depth\n",
    "dd = 2 #max depth difference from dmin\n",
    "r = 1000 #radius deploy cloud [m]\n",
    "x_offset, y_offset, zvals = p_deploy(N,n,dmin,dd,r)"
   ]
  },
  {
   "cell_type": "code",
   "execution_count": 33,
   "id": "c87107ce",
   "metadata": {},
   "outputs": [],
   "source": [
    "from parcels import Variable\n",
    "\n",
    "class PEParticle(JITParticle):         # Define a new particle class\n",
    "    ro = Variable('ro', initial = 1370)             # desnsity PE\n",
    "    size = Variable('size', initial = 5e-5)"
   ]
  },
  {
   "cell_type": "code",
   "execution_count": 34,
   "id": "2ceb066c-22eb-4ef5-abe1-dc051ad4cc7c",
   "metadata": {},
   "outputs": [],
   "source": [
    "lon = np.zeros([N,n])\n",
    "lat = np.zeros([N,n])\n",
    "# Execute run \n",
    "clon, clat = [-123.407687,-123.347869], [48.406743,48.393512]  # choose horizontal centre of the particle cloud\n",
    "for i in range(N):\n",
    "    lon[i,:]=(clon[i] + x_offset[i,:])\n",
    "    lat[i,:]=(clat[i] + y_offset[i,:])\n",
    "z = zvals"
   ]
  },
  {
   "cell_type": "code",
   "execution_count": 35,
   "id": "92d6511f-3d0c-4a98-ad32-0d4cb970a2da",
   "metadata": {},
   "outputs": [
    {
     "name": "stdout",
     "output_type": "stream",
     "text": [
      "/home/jvalenti/MOAD/analysis-jose/notebooks/results/VictoriaWinter20191201_1n_20191231_1n.nc\n"
     ]
    }
   ],
   "source": [
    "#Set start date time and the name of the output file\n",
    "name = 'VictoriaWinter' #name output file\n",
    "daterange = [start+timedelta(days=i) for i in range(length)]\n",
    "fn =  name + '_'.join(d.strftime('%Y%m%d')+'_1n' for d in [start, start+duration]) + '.nc'\n",
    "outfile = os.path.join(paths['out'], fn)\n",
    "print(outfile)"
   ]
  },
  {
   "cell_type": "markdown",
   "id": "0c4e63f2-3fb8-4526-b45a-ce5644646287",
   "metadata": {},
   "source": [
    "## Simulation"
   ]
  },
  {
   "cell_type": "code",
   "execution_count": 36,
   "id": "922eb3dc-e34d-4102-b1d4-4df9de8b2f06",
   "metadata": {},
   "outputs": [],
   "source": [
    "#Fill in the list of variables that you want to use as fields\n",
    "varlist=['U','V','W']\n",
    "filenames,variables,dimensions=filename_set(start,length,varlist,local)"
   ]
  },
  {
   "cell_type": "code",
   "execution_count": 37,
   "id": "53f87621-a497-4575-85ba-18ec93118e44",
   "metadata": {},
   "outputs": [
    {
     "name": "stderr",
     "output_type": "stream",
     "text": [
      "INFO: Compiled ArrayJITParticleAdvectionRK4_3D ==> /tmp/parcels-2894/libd477aeada3ff6edf4c5a81edf938ec2b_0.so\n",
      "INFO: Temporary output files are stored in /home/jvalenti/MOAD/analysis-jose/notebooks/results/out-SBTBSOPN.\n",
      "INFO: You can use \"parcels_convert_npydir_to_netcdf /home/jvalenti/MOAD/analysis-jose/notebooks/results/out-SBTBSOPN\" to convert these to a NetCDF file during the run.\n",
      "  2% (54000.0 of 2592000.0) |            | Elapsed Time: 0:00:10 ETA:   0:18:20/home/jvalenti/conda_envs/parcels/lib/python3.9/site-packages/numpy/lib/arraysetops.py:270: VisibleDeprecationWarning: Creating an ndarray from ragged nested sequences (which is a list-or-tuple of lists-or-tuples-or ndarrays with different lengths or shapes) is deprecated. If you meant to do this, you must specify 'dtype=object' when creating the ndarray.\n",
      "  ar = np.asanyarray(ar)\n",
      " 22% (583200.0 of 2592000.0) |##         | Elapsed Time: 0:04:21 ETA:   0:15:27"
     ]
    },
    {
     "name": "stdout",
     "output_type": "stream",
     "text": [
      "Correct cell not found for (-124.845087, 48.576768) after 1000000 iterations\n",
      "Debug info: old particle indices: (yi, xi) 435 0\n",
      "            new particle indices: (yi, xi) 434 42\n",
      "            Mesh 2d shape:  898 398\n",
      "            Relative particle position:  (xsi, eta) -4.2998703077007328e+01 -4.7519815204073397e-02\n",
      "Particle 788 lost !! [-124.84502540424855, 48.576694049822265, 6.084767383637086, 587250.0]\n"
     ]
    },
    {
     "name": "stderr",
     "output_type": "stream",
     "text": [
      " 22% (588600.0 of 2592000.0) |##         | Elapsed Time: 0:04:25 ETA:   0:50:46"
     ]
    },
    {
     "name": "stdout",
     "output_type": "stream",
     "text": [
      "Correct cell not found for (-124.838381, 48.568783) after 1000000 iterations\n",
      "Debug info: old particle indices: (yi, xi) 432 0\n",
      "            new particle indices: (yi, xi) 432 43\n",
      "            Mesh 2d shape:  898 398\n",
      "            Relative particle position:  (xsi, eta) -4.3980994672715909e+01 9.7342680144350968e-01\n",
      "Particle 773 lost !! [-124.83833883060036, 48.56873276985747, 22.417402575049252, 594180.0]\n"
     ]
    },
    {
     "name": "stderr",
     "output_type": "stream",
     "text": [
      " 22% (594000.0 of 2592000.0) |##         | Elapsed Time: 0:04:27 ETA:   0:14:13"
     ]
    },
    {
     "name": "stdout",
     "output_type": "stream",
     "text": [
      "Correct cell not found for (-124.851793, 48.584744) after 1000000 iterations\n",
      "Debug info: old particle indices: (yi, xi) 436 0\n",
      "            new particle indices: (yi, xi) 436 43\n",
      "            Mesh 2d shape:  898 398\n",
      "            Relative particle position:  (xsi, eta) -4.3997834612849708e+01 9.6404515090398490e-01\n",
      "Correct cell not found for (-124.861791, 48.596640) after 1000000 iterations\n",
      "Debug info: old particle indices: (yi, xi) 439 0\n",
      "            new particle indices: (yi, xi) 439 43\n",
      "            Mesh 2d shape:  898 398\n",
      "            Relative particle position:  (xsi, eta) -4.4043140414895220e+01 9.8481872824717576e-01\n",
      "Particle 609 lost !! [-124.85167032198596, 48.58459817692647, 18.751551462798915, 600120.0]\n",
      "Particle 678 lost !! [-124.86169204266884, 48.59652282071919, 15.591737037955156, 599400.0]\n"
     ]
    },
    {
     "name": "stderr",
     "output_type": "stream",
     "text": [
      " 23% (601200.0 of 2592000.0) |##         | Elapsed Time: 0:04:31 ETA:   0:16:07"
     ]
    },
    {
     "name": "stdout",
     "output_type": "stream",
     "text": [
      "Correct cell not found for (-124.851775, 48.584722) after 1000000 iterations\n",
      "Debug info: old particle indices: (yi, xi) 436 0\n",
      "            new particle indices: (yi, xi) 436 43\n",
      "            Mesh 2d shape:  898 398\n",
      "            Relative particle position:  (xsi, eta) -4.3997981824741480e+01 9.5889145372074991e-01\n",
      "Particle 823 lost !! [-124.85166219047582, 48.584588544798756, 16.726385693282595, 606690.0]\n"
     ]
    },
    {
     "name": "stderr",
     "output_type": "stream",
     "text": [
      " 23% (604800.0 of 2592000.0) |##         | Elapsed Time: 0:04:33 ETA:   0:12:35"
     ]
    },
    {
     "name": "stdout",
     "output_type": "stream",
     "text": [
      "Correct cell not found for (-124.838415, 48.568823) after 1000000 iterations\n",
      "Debug info: old particle indices: (yi, xi) 432 0\n",
      "            new particle indices: (yi, xi) 432 43\n",
      "            Mesh 2d shape:  898 398\n",
      "            Relative particle position:  (xsi, eta) -4.3980498811393623e+01 9.8330682729065300e-01\n",
      "Particle 784 lost !! [-124.83835755896573, 48.56875504925646, 38.0886343849793, 608850.0]\n",
      "Correct cell not found for (-124.878526, 48.616542) after 1000000 iterations\n",
      "Debug info: old particle indices: (yi, xi) 444 0\n",
      "            new particle indices: (yi, xi) 445 43\n",
      "            Mesh 2d shape:  898 398\n",
      "            Relative particle position:  (xsi, eta) -4.4039097652139539e+01 1.0015008950280062e+00\n",
      "Particle 630 lost !! [-124.87839359627293, 48.616384272747844, 16.69170353726409, 611010.0]\n"
     ]
    },
    {
     "name": "stderr",
     "output_type": "stream",
     "text": [
      " 23% (608400.0 of 2592000.0) |##         | Elapsed Time: 0:04:35 ETA:   0:13:53"
     ]
    },
    {
     "name": "stdout",
     "output_type": "stream",
     "text": [
      "Correct cell not found for (-124.901915, 48.644351) after 1000000 iterations\n",
      "Debug info: old particle indices: (yi, xi) 451 0\n",
      "            new particle indices: (yi, xi) 451 43\n",
      "            Mesh 2d shape:  898 398\n",
      "            Relative particle position:  (xsi, eta) -4.3983423669994565e+01 9.8964579886658466e-01\n",
      "Particle 896 lost !! [-124.90186197059494, 48.644288184573426, 18.477075790005287, 612720.0]\n"
     ]
    },
    {
     "name": "stderr",
     "output_type": "stream",
     "text": [
      " 23% (612000.0 of 2592000.0) |##         | Elapsed Time: 0:04:36 ETA:   0:13:02"
     ]
    },
    {
     "name": "stdout",
     "output_type": "stream",
     "text": [
      "Correct cell not found for (-124.865143, 48.600631) after 1000000 iterations\n",
      "Debug info: old particle indices: (yi, xi) 441 0\n",
      "            new particle indices: (yi, xi) 440 42\n",
      "            Mesh 2d shape:  898 398\n",
      "            Relative particle position:  (xsi, eta) -4.2992750953357707e+01 9.6561803762186971e-01\n",
      "Particle 608 lost !! [-124.86496014503228, 48.60041400655625, 0.932116035279968, 616320.0]\n"
     ]
    },
    {
     "name": "stderr",
     "output_type": "stream",
     "text": [
      " 25% (662400.0 of 2592000.0) |##         | Elapsed Time: 0:04:57 ETA:   0:12:39"
     ]
    },
    {
     "name": "stdout",
     "output_type": "stream",
     "text": [
      "Correct cell not found for (-124.838401, 48.568806) after 1000000 iterations\n",
      "Debug info: old particle indices: (yi, xi) 432 0\n",
      "            new particle indices: (yi, xi) 432 43\n",
      "            Mesh 2d shape:  898 398\n",
      "            Relative particle position:  (xsi, eta) -4.3980701327108008e+01 9.7923695166218050e-01\n",
      "Particle 761 lost !! [-124.83830551973683, 48.568693162349334, 11.376003590548635, 668070.0]\n"
     ]
    },
    {
     "name": "stderr",
     "output_type": "stream",
     "text": [
      " 25% (666000.0 of 2592000.0) |##         | Elapsed Time: 0:04:58 ETA:   0:13:25"
     ]
    },
    {
     "name": "stdout",
     "output_type": "stream",
     "text": [
      "Correct cell not found for (-124.851796, 48.584748) after 1000000 iterations\n",
      "Debug info: old particle indices: (yi, xi) 436 0\n",
      "            new particle indices: (yi, xi) 436 43\n",
      "            Mesh 2d shape:  898 398\n",
      "            Relative particle position:  (xsi, eta) -4.3997800704173414e+01 9.6501217385138260e-01\n",
      "Particle 801 lost !! [-124.85172516298918, 48.58466345425306, 2.6077318002788274, 671760.0]\n"
     ]
    },
    {
     "name": "stderr",
     "output_type": "stream",
     "text": [
      " 26% (680400.0 of 2592000.0) |##         | Elapsed Time: 0:05:04 ETA:   0:12:31"
     ]
    },
    {
     "name": "stdout",
     "output_type": "stream",
     "text": [
      "Correct cell not found for (-124.819450, 48.546247) after 1000000 iterations\n",
      "Debug info: old particle indices: (yi, xi) 427 0\n",
      "            new particle indices: (yi, xi) 427 42\n",
      "            Mesh 2d shape:  898 398\n",
      "            Relative particle position:  (xsi, eta) -4.3019228777446742e+01 3.1164586597033822e-01\n",
      "Correct cell not found for (-124.851792, 48.584743) after 1000000 iterations\n",
      "Debug info: old particle indices: (yi, xi) 436 0\n",
      "            new particle indices: (yi, xi) 436 43\n",
      "            Mesh 2d shape:  898 398\n",
      "            Relative particle position:  (xsi, eta) -4.3997838044907333e+01 9.6392762751675887e-01\n",
      "Correct cell not found for (-124.838464, 48.568882) after 1000000 iterations\n",
      "Debug info: old particle indices: (yi, xi) 432 0\n",
      "            new particle indices: (yi, xi) 432 43\n",
      "            Mesh 2d shape:  898 398\n",
      "            Relative particle position:  (xsi, eta) -4.3979770265187994e+01 9.9782594640844480e-01\n",
      "Particle 614 lost !! [-124.81935936560119, 48.54613884888251, 42.427836189747225, 685800.0]\n",
      "Particle 683 lost !! [-124.85172084976793, 48.58465827986227, 13.983435949154796, 685890.0]\n",
      "Particle 806 lost !! [-124.83836018016402, 48.56875816938281, 3.6602235817684488, 686790.0]\n"
     ]
    },
    {
     "name": "stderr",
     "output_type": "stream",
     "text": [
      " 26% (687600.0 of 2592000.0) |##         | Elapsed Time: 0:05:07 ETA:   0:13:32"
     ]
    },
    {
     "name": "stdout",
     "output_type": "stream",
     "text": [
      "Correct cell not found for (-124.855121, 48.588706) after 1000000 iterations\n",
      "Debug info: old particle indices: (yi, xi) 438 0\n",
      "            new particle indices: (yi, xi) 438 42\n",
      "            Mesh 2d shape:  898 398\n",
      "            Relative particle position:  (xsi, eta) -4.3024423366271009e+01 1.0172727385606808e+00\n",
      "Particle 778 lost !! [-124.85496309414017, 48.58851865067842, 5.9198938016385085, 694710.0]\n"
     ]
    },
    {
     "name": "stderr",
     "output_type": "stream",
     "text": [
      " 26% (694800.0 of 2592000.0) |##         | Elapsed Time: 0:05:12 ETA:   0:23:30"
     ]
    },
    {
     "name": "stdout",
     "output_type": "stream",
     "text": [
      "Correct cell not found for (-124.861820, 48.596675) after 1000000 iterations\n",
      "Debug info: old particle indices: (yi, xi) 439 0\n",
      "            new particle indices: (yi, xi) 439 43\n",
      "            Mesh 2d shape:  898 398\n",
      "            Relative particle position:  (xsi, eta) -4.4043307789113094e+01 9.9334360190696980e-01\n",
      "Correct cell not found for (-124.861764, 48.596608) after 1000000 iterations\n",
      "Debug info: old particle indices: (yi, xi) 439 0\n",
      "            new particle indices: (yi, xi) 439 43\n",
      "            Mesh 2d shape:  898 398\n",
      "            Relative particle position:  (xsi, eta) -4.4042986209665642e+01 9.7694110486217345e-01\n",
      "Particle 752 lost !! [-124.86173173145175, 48.596570042059554, 23.571930680718623, 698760.0]\n",
      "Particle 785 lost !! [-124.86166803511608, 48.59649424788258, 33.30850060889313, 699030.0]\n"
     ]
    },
    {
     "name": "stderr",
     "output_type": "stream",
     "text": [
      " 29% (756000.0 of 2592000.0) |###        | Elapsed Time: 0:05:38 ETA:   0:14:07"
     ]
    },
    {
     "name": "stdout",
     "output_type": "stream",
     "text": [
      "Correct cell not found for (-124.855080, 48.588657) after 1000000 iterations\n",
      "Debug info: old particle indices: (yi, xi) 438 0\n",
      "            new particle indices: (yi, xi) 438 42\n",
      "            Mesh 2d shape:  898 398\n",
      "            Relative particle position:  (xsi, eta) -4.3024055394457186e+01 1.0042318785537006e+00\n",
      "Particle 611 lost !! [-124.85503942888464, 48.58860950725712, 9.572377945807077, 761310.0]\n"
     ]
    },
    {
     "name": "stderr",
     "output_type": "stream",
     "text": [
      " 29% (766800.0 of 2592000.0) |###        | Elapsed Time: 0:05:43 ETA:   0:14:09"
     ]
    },
    {
     "name": "stdout",
     "output_type": "stream",
     "text": [
      "Correct cell not found for (-124.878526, 48.616542) after 1000000 iterations\n",
      "Debug info: old particle indices: (yi, xi) 444 0\n",
      "            new particle indices: (yi, xi) 445 43\n",
      "            Mesh 2d shape:  898 398\n",
      "            Relative particle position:  (xsi, eta) -4.4039101278163209e+01 1.0015125859891534e+00\n",
      "Particle 672 lost !! [-124.87841399214945, 48.61640844827962, 8.392922185879641, 772020.0]\n"
     ]
    },
    {
     "name": "stderr",
     "output_type": "stream",
     "text": [
      " 29% (770400.0 of 2592000.0) |###        | Elapsed Time: 0:05:45 ETA:   0:12:35"
     ]
    },
    {
     "name": "stdout",
     "output_type": "stream",
     "text": [
      "Correct cell not found for (-124.861778, 48.596626) after 1000000 iterations\n",
      "Debug info: old particle indices: (yi, xi) 439 0\n",
      "            new particle indices: (yi, xi) 439 43\n",
      "            Mesh 2d shape:  898 398\n",
      "            Relative particle position:  (xsi, eta) -4.4043070153898690e+01 9.8122500083632513e-01\n",
      "Particle 852 lost !! [-124.86156734006774, 48.59637447944538, 1.2309393362436651, 774540.0]\n",
      "Correct cell not found for (-124.845061, 48.576736) after 1000000 iterations\n",
      "Debug info: old particle indices: (yi, xi) 435 0\n",
      "            new particle indices: (yi, xi) 434 42\n",
      "            Mesh 2d shape:  898 398\n",
      "            Relative particle position:  (xsi, eta) -4.2998715688271481e+01 -5.5527549189780562e-02\n",
      "Particle 756 lost !! [-124.84500631680523, 48.576671303366815, 28.56736264513347, 776880.0]\n"
     ]
    },
    {
     "name": "stderr",
     "output_type": "stream",
     "text": [
      " 29% (774000.0 of 2592000.0) |###        | Elapsed Time: 0:05:46 ETA:   0:12:07"
     ]
    },
    {
     "name": "stdout",
     "output_type": "stream",
     "text": [
      "Correct cell not found for (-124.845128, 48.576816) after 1000000 iterations\n",
      "Debug info: old particle indices: (yi, xi) 435 0\n",
      "            new particle indices: (yi, xi) 434 42\n",
      "            Mesh 2d shape:  898 398\n",
      "            Relative particle position:  (xsi, eta) -4.2998691759566668e+01 -3.5486839743560539e-02\n",
      "Particle 867 lost !! [-124.84504439575518, 48.5767166421199, 24.927596412235545, 779760.0]\n"
     ]
    },
    {
     "name": "stderr",
     "output_type": "stream",
     "text": [
      " 30% (777600.0 of 2592000.0) |###        | Elapsed Time: 0:05:48 ETA:   0:16:50"
     ]
    },
    {
     "name": "stdout",
     "output_type": "stream",
     "text": [
      "Correct cell not found for (-124.928637, 48.676096) after 1000000 iterations\n",
      "Debug info: old particle indices: (yi, xi) 459 0\n",
      "            new particle indices: (yi, xi) 459 43\n",
      "            Mesh 2d shape:  898 398\n",
      "            Relative particle position:  (xsi, eta) -4.4046914094588779e+01 9.8956885101820380e-01\n",
      "Particle 650 lost !! [-124.92853695694491, 48.67597726368783, 12.473911752599236, 782640.0]\n",
      "Correct cell not found for (-124.901925, 48.644363) after 1000000 iterations\n",
      "Debug info: old particle indices: (yi, xi) 451 0\n",
      "            new particle indices: (yi, xi) 451 43\n",
      "            Mesh 2d shape:  898 398\n",
      "            Relative particle position:  (xsi, eta) -4.3983271586876491e+01 9.9274145690372428e-01\n",
      "Correct cell not found for (-124.833870, 48.563415) after 1000000 iterations\n",
      "Debug info: old particle indices: (yi, xi) 431 0\n",
      "            new particle indices: (yi, xi) 431 42\n",
      "            Mesh 2d shape:  898 398\n",
      "            Relative particle position:  (xsi, eta) -4.3021219898726542e+01 5.9776625416494567e-01\n",
      "Particle 736 lost !! [-124.90185718447259, 48.64428247039996, 19.99679928373159, 784080.0]\n",
      "Particle 765 lost !! [-124.83374720234367, 48.5632695723098, 40.86789671122138, 783990.0]\n"
     ]
    },
    {
     "name": "stderr",
     "output_type": "stream",
     "text": [
      " 30% (781200.0 of 2592000.0) |###        | Elapsed Time: 0:05:51 ETA:   0:21:00"
     ]
    },
    {
     "name": "stdout",
     "output_type": "stream",
     "text": [
      "Correct cell not found for (-124.925279, 48.672115) after 1000000 iterations\n",
      "Debug info: old particle indices: (yi, xi) 459 0\n",
      "            new particle indices: (yi, xi) 458 42\n",
      "            Mesh 2d shape:  898 398\n",
      "            Relative particle position:  (xsi, eta) -4.2997466622309219e+01 9.6101081531663857e-01\n",
      "Particle 850 lost !! [-124.92518489825669, 48.672002754714285, 4.85852911678333, 788220.0]\n"
     ]
    },
    {
     "name": "stderr",
     "output_type": "stream",
     "text": [
      " 30% (784800.0 of 2592000.0) |###        | Elapsed Time: 0:05:54 ETA:   0:22:05"
     ]
    },
    {
     "name": "stdout",
     "output_type": "stream",
     "text": [
      "Correct cell not found for (-124.895244, 48.636420) after 1000000 iterations\n",
      "Debug info: old particle indices: (yi, xi) 449 0\n",
      "            new particle indices: (yi, xi) 450 43\n",
      "            Mesh 2d shape:  898 398\n",
      "            Relative particle position:  (xsi, eta) -4.4035249748929807e+01 1.0140411536035838e+00\n",
      "Particle 883 lost !! [-124.89511978694881, 48.636272237268635, 9.214136272369615, 788400.0]\n",
      "Correct cell not found for (-124.925283, 48.672120) after 1000000 iterations\n",
      "Debug info: old particle indices: (yi, xi) 459 0\n",
      "            new particle indices: (yi, xi) 458 42\n",
      "            Mesh 2d shape:  898 398\n",
      "            Relative particle position:  (xsi, eta) -4.2997469733391952e+01 9.6227095763976489e-01\n",
      "Particle 741 lost !! [-124.92520014288907, 48.67202080049728, 5.285423777103944, 790470.0]\n"
     ]
    },
    {
     "name": "stderr",
     "output_type": "stream",
     "text": [
      " 32% (835200.0 of 2592000.0) |###        | Elapsed Time: 0:06:17 ETA:   0:11:14"
     ]
    },
    {
     "name": "stdout",
     "output_type": "stream",
     "text": [
      "Correct cell not found for (-124.938183, 48.687437) after 1000000 iterations\n",
      "Debug info: old particle indices: (yi, xi) 462 0\n",
      "            new particle indices: (yi, xi) 462 42\n",
      "            Mesh 2d shape:  898 398\n",
      "            Relative particle position:  (xsi, eta) -4.2994450435238655e+01 8.2715900944582343e-01\n",
      "Correct cell not found for (-124.811657, 48.536968) after 1000000 iterations\n",
      "Debug info: old particle indices: (yi, xi) 425 0\n",
      "            new particle indices: (yi, xi) 424 42\n",
      "            Mesh 2d shape:  898 398\n",
      "            Relative particle position:  (xsi, eta) -4.2989745405245294e+01 9.5936930991260116e-01\n",
      "Particle 663 lost !! [-124.93817832095466, 48.68743111980088, 7.21041455753587, 839430.0]\n",
      "Particle 753 lost !! [-124.81163410810055, 48.5369408473145, 47.928039127561235, 839520.0]\n"
     ]
    },
    {
     "name": "stderr",
     "output_type": "stream",
     "text": [
      " 33% (860400.0 of 2592000.0) |###        | Elapsed Time: 0:06:28 ETA:   0:12:40"
     ]
    },
    {
     "name": "stdout",
     "output_type": "stream",
     "text": [
      "Correct cell not found for (-124.855091, 48.588671) after 1000000 iterations\n",
      "Debug info: old particle indices: (yi, xi) 438 0\n",
      "            new particle indices: (yi, xi) 438 42\n",
      "            Mesh 2d shape:  898 398\n",
      "            Relative particle position:  (xsi, eta) -4.3024156940025797e+01 1.0078873976414746e+00\n",
      "Particle 768 lost !! [-124.85502385908035, 48.588590984354816, 24.11713461854484, 865980.0]\n"
     ]
    },
    {
     "name": "stderr",
     "output_type": "stream",
     "text": [
      " 33% (864000.0 of 2592000.0) |###        | Elapsed Time: 0:06:30 ETA:   0:11:14"
     ]
    },
    {
     "name": "stdout",
     "output_type": "stream",
     "text": [
      "Correct cell not found for (-124.878501, 48.616511) after 1000000 iterations\n",
      "Debug info: old particle indices: (yi, xi) 444 0\n",
      "            new particle indices: (yi, xi) 444 43\n",
      "            Mesh 2d shape:  898 398\n",
      "            Relative particle position:  (xsi, eta) -4.4039100645167359e+01 9.9379720293944129e-01\n",
      "Particle 712 lost !! [-124.87841588443811, 48.61641071822562, 15.613332907226322, 867960.0]\n"
     ]
    },
    {
     "name": "stderr",
     "output_type": "stream",
     "text": [
      " 33% (867600.0 of 2592000.0) |###        | Elapsed Time: 0:06:32 ETA:   0:10:58"
     ]
    },
    {
     "name": "stdout",
     "output_type": "stream",
     "text": [
      "Correct cell not found for (-124.761587, 48.477288) after 1000000 iterations\n",
      "Debug info: old particle indices: (yi, xi) 409 0\n",
      "            new particle indices: (yi, xi) 409 43\n",
      "            Mesh 2d shape:  898 398\n",
      "            Relative particle position:  (xsi, eta) -4.3984430321351191e+01 9.6748934227059125e-01\n",
      "Particle 625 lost !! [-124.76148294911681, 48.477163492492814, 127.92231865249508, 872190.0]\n"
     ]
    },
    {
     "name": "stderr",
     "output_type": "stream",
     "text": [
      " 33% (871200.0 of 2592000.0) |###        | Elapsed Time: 0:06:33 ETA:   0:10:50"
     ]
    },
    {
     "name": "stdout",
     "output_type": "stream",
     "text": [
      "Correct cell not found for (-124.908612, 48.652304) after 1000000 iterations\n",
      "Debug info: old particle indices: (yi, xi) 453 0\n",
      "            new particle indices: (yi, xi) 453 43\n",
      "            Mesh 2d shape:  898 398\n",
      "            Relative particle position:  (xsi, eta) -4.4002436830730915e+01 9.6332709543096817e-01\n",
      "Particle 616 lost !! [-124.90844557768854, 48.65210698439229, 17.867272408335793, 875340.0]\n",
      "Correct cell not found for (-124.895265, 48.636445) after 1000000 iterations\n",
      "Debug info: old particle indices: (yi, xi) 449 0\n",
      "            new particle indices: (yi, xi) 450 43\n",
      "            Mesh 2d shape:  898 398\n",
      "            Relative particle position:  (xsi, eta) -4.4035561626513164e+01 1.0203789505717986e+00\n",
      "Particle 610 lost !! [-124.89517877645422, 48.636342353955676, 18.613692525290944, 878310.0]\n"
     ]
    },
    {
     "name": "stderr",
     "output_type": "stream",
     "text": [
      " 33% (874800.0 of 2592000.0) |###        | Elapsed Time: 0:06:35 ETA:   0:11:10"
     ]
    },
    {
     "name": "stdout",
     "output_type": "stream",
     "text": [
      "Correct cell not found for (-124.905221, 48.648284) after 1000000 iterations\n",
      "Debug info: old particle indices: (yi, xi) 453 0\n",
      "            new particle indices: (yi, xi) 452 42\n",
      "            Mesh 2d shape:  898 398\n",
      "            Relative particle position:  (xsi, eta) -4.3002286455388237e+01 9.4888423208078876e-01\n",
      "Particle 654 lost !! [-124.90513548435167, 48.6481821503809, 13.040414202313457, 880650.0]\n"
     ]
    },
    {
     "name": "stderr",
     "output_type": "stream",
     "text": [
      " 36% (954000.0 of 2592000.0) |####       | Elapsed Time: 0:07:11 ETA:   0:10:17"
     ]
    },
    {
     "name": "stdout",
     "output_type": "stream",
     "text": [
      "Correct cell not found for (-124.902015, 48.644471) after 1000000 iterations\n",
      "Debug info: old particle indices: (yi, xi) 451 0\n",
      "            new particle indices: (yi, xi) 452 43\n",
      "            Mesh 2d shape:  898 398\n",
      "            Relative particle position:  (xsi, eta) -4.3983274071574940e+01 1.9058462969648342e-02\n",
      "Correct cell not found for (-124.838415, 48.568823) after 1000000 iterations\n",
      "Debug info: old particle indices: (yi, xi) 432 0\n",
      "            new particle indices: (yi, xi) 432 43\n",
      "            Mesh 2d shape:  898 398\n",
      "            Relative particle position:  (xsi, eta) -4.3980501017263030e+01 9.8325697093146469e-01\n",
      "Particle 740 lost !! [-124.90171991728745, 48.64411943525561, 5.4206187709055484, 961110.0]\n",
      "Particle 884 lost !! [-124.83828885095976, 48.56867332388855, 46.11018994173804, 959400.0]\n"
     ]
    },
    {
     "name": "stderr",
     "output_type": "stream",
     "text": [
      " 36% (957600.0 of 2592000.0) |####       | Elapsed Time: 0:07:13 ETA:   0:15:50"
     ]
    },
    {
     "name": "stdout",
     "output_type": "stream",
     "text": [
      "Correct cell not found for (-124.908602, 48.652293) after 1000000 iterations\n",
      "Debug info: old particle indices: (yi, xi) 453 0\n",
      "            new particle indices: (yi, xi) 453 43\n",
      "            Mesh 2d shape:  898 398\n",
      "            Relative particle position:  (xsi, eta) -4.4002446394304123e+01 9.6037336107194016e-01\n",
      "Particle 621 lost !! [-124.9085521916798, 48.65223330754438, 29.834151362615472, 961830.0]\n"
     ]
    },
    {
     "name": "stderr",
     "output_type": "stream",
     "text": [
      " 37% (961200.0 of 2592000.0) |####       | Elapsed Time: 0:07:15 ETA:   0:15:43"
     ]
    },
    {
     "name": "stdout",
     "output_type": "stream",
     "text": [
      "Correct cell not found for (-124.928673, 48.676139) after 1000000 iterations\n",
      "Debug info: old particle indices: (yi, xi) 459 0\n",
      "            new particle indices: (yi, xi) 460 43\n",
      "            Mesh 2d shape:  898 398\n",
      "            Relative particle position:  (xsi, eta) -4.4046912049205091e+01 1.0004193118679132e+00\n",
      "Particle 890 lost !! [-124.92860933261352, 48.67606310707221, 12.906006086872509, 965430.0]\n"
     ]
    },
    {
     "name": "stderr",
     "output_type": "stream",
     "text": [
      " 37% (972000.0 of 2592000.0) |####       | Elapsed Time: 0:07:21 ETA:   0:10:37"
     ]
    },
    {
     "name": "stdout",
     "output_type": "stream",
     "text": [
      "Correct cell not found for (-124.748160, 48.461285) after 1000000 iterations\n",
      "Debug info: old particle indices: (yi, xi) 405 0\n",
      "            new particle indices: (yi, xi) 405 42\n",
      "            Mesh 2d shape:  898 398\n",
      "            Relative particle position:  (xsi, eta) -4.3014181841203566e+01 9.9528387331279278e-01\n",
      "Particle 796 lost !! [-124.74818238186676, 48.461312142011415, 169.04382390068085, 975780.0]\n"
     ]
    },
    {
     "name": "stderr",
     "output_type": "stream",
     "text": [
      " 39% (1022400.0 of 2592000.0) |###       | Elapsed Time: 0:07:44 ETA:   0:12:06"
     ]
    },
    {
     "name": "stdout",
     "output_type": "stream",
     "text": [
      "Correct cell not found for (-124.835036, 48.564804) after 1000000 iterations\n",
      "Debug info: old particle indices: (yi, xi) 432 0\n",
      "            new particle indices: (yi, xi) 431 42\n",
      "            Mesh 2d shape:  898 398\n",
      "            Relative particle position:  (xsi, eta) -4.3004270755271271e+01 9.3958566457877168e-01\n",
      "Particle 830 lost !! [-124.83501017366231, 48.56477331728829, 26.533549988308962, 1027620.0]\n"
     ]
    },
    {
     "name": "stderr",
     "output_type": "stream",
     "text": [
      " 39% (1029600.0 of 2592000.0) |###       | Elapsed Time: 0:07:48 ETA:   0:14:35"
     ]
    },
    {
     "name": "stdout",
     "output_type": "stream",
     "text": [
      "Correct cell not found for (-124.878477, 48.616484) after 1000000 iterations\n",
      "Debug info: old particle indices: (yi, xi) 445 0\n",
      "            new particle indices: (yi, xi) 444 173\n",
      "            Mesh 2d shape:  898 398\n",
      "            Relative particle position:  (xsi, eta) -1.7436070704240097e+02 3.9382210083565877e-01\n",
      "Particle 685 lost !! [-124.87850769828978, 48.61651972879409, 27.70442742343971, 1033650.0]\n"
     ]
    },
    {
     "name": "stderr",
     "output_type": "stream",
     "text": [
      " 40% (1044000.0 of 2592000.0) |####      | Elapsed Time: 0:07:55 ETA:   0:10:14"
     ]
    },
    {
     "name": "stdout",
     "output_type": "stream",
     "text": [
      "Correct cell not found for (-124.761596, 48.477299) after 1000000 iterations\n",
      "Debug info: old particle indices: (yi, xi) 409 0\n",
      "            new particle indices: (yi, xi) 409 43\n",
      "            Mesh 2d shape:  898 398\n",
      "            Relative particle position:  (xsi, eta) -4.3984289717107991e+01 9.7019806462307623e-01\n",
      "Particle 641 lost !! [-124.76150111247247, 48.477185169263784, 131.45898226189246, 1048050.0]\n",
      "Correct cell not found for (-124.878493, 48.616502) after 1000000 iterations\n",
      "Debug info: old particle indices: (yi, xi) 444 0\n",
      "            new particle indices: (yi, xi) 444 43\n",
      "            Mesh 2d shape:  898 398\n",
      "            Relative particle position:  (xsi, eta) -4.4039102924940131e+01 9.9140528161814900e-01\n",
      "Particle 757 lost !! [-124.87836236129183, 48.61634718447415, 26.7864918858576, 1050030.0]\n"
     ]
    },
    {
     "name": "stderr",
     "output_type": "stream",
     "text": [
      " 42% (1112400.0 of 2592000.0) |####      | Elapsed Time: 0:08:26 ETA:   0:11:00"
     ]
    },
    {
     "name": "stdout",
     "output_type": "stream",
     "text": [
      "Correct cell not found for (-124.941417, 48.691279) after 1000000 iterations\n",
      "Debug info: old particle indices: (yi, xi) 463 0\n",
      "            new particle indices: (yi, xi) 463 42\n",
      "            Mesh 2d shape:  898 398\n",
      "            Relative particle position:  (xsi, eta) -4.2993144644815480e+01 7.9688552760743492e-01\n",
      "Particle 821 lost !! [-124.94141509586454, 48.691277029153596, 0.21365578800499918, 1116900.0]\n"
     ]
    },
    {
     "name": "stderr",
     "output_type": "stream",
     "text": [
      " 43% (1126800.0 of 2592000.0) |####      | Elapsed Time: 0:08:32 ETA:   0:10:31"
     ]
    },
    {
     "name": "stdout",
     "output_type": "stream",
     "text": [
      "Correct cell not found for (-124.928621, 48.676077) after 1000000 iterations\n",
      "Debug info: old particle indices: (yi, xi) 459 0\n",
      "            new particle indices: (yi, xi) 459 43\n",
      "            Mesh 2d shape:  898 398\n",
      "            Relative particle position:  (xsi, eta) -4.4046914730497747e+01 9.8479285920900506e-01\n",
      "Particle 709 lost !! [-124.92856469727795, 48.67601014154543, 29.662191334538022, 1132920.0]\n"
     ]
    },
    {
     "name": "stderr",
     "output_type": "stream",
     "text": [
      " 43% (1130400.0 of 2592000.0) |####      | Elapsed Time: 0:08:34 ETA:   0:09:13"
     ]
    },
    {
     "name": "stdout",
     "output_type": "stream",
     "text": [
      "Correct cell not found for (-124.875134, 48.612516) after 1000000 iterations\n",
      "Debug info: old particle indices: (yi, xi) 444 0\n",
      "            new particle indices: (yi, xi) 443 42\n",
      "            Mesh 2d shape:  898 398\n",
      "            Relative particle position:  (xsi, eta) -4.2991945040001937e+01 9.6267859759088203e-01\n",
      "Particle 845 lost !! [-124.87506048972743, 48.612428356374245, 19.284814887534182, 1134270.0]\n"
     ]
    },
    {
     "name": "stderr",
     "output_type": "stream",
     "text": [
      " 43% (1134000.0 of 2592000.0) |####      | Elapsed Time: 0:08:35 ETA:   0:11:34"
     ]
    },
    {
     "name": "stdout",
     "output_type": "stream",
     "text": [
      "Correct cell not found for (-124.928657, 48.676119) after 1000000 iterations\n",
      "Debug info: old particle indices: (yi, xi) 459 0\n",
      "            new particle indices: (yi, xi) 459 43\n",
      "            Mesh 2d shape:  898 398\n",
      "            Relative particle position:  (xsi, eta) -4.4046907487791870e+01 9.9552466234883075e-01\n",
      "Particle 873 lost !! [-124.92857425134876, 48.67602154367782, 30.72166899492089, 1140660.0]\n"
     ]
    },
    {
     "name": "stderr",
     "output_type": "stream",
     "text": [
      " 44% (1152000.0 of 2592000.0) |####      | Elapsed Time: 0:08:43 ETA:   0:10:15"
     ]
    },
    {
     "name": "stdout",
     "output_type": "stream",
     "text": [
      "Correct cell not found for (-124.928612, 48.676066) after 1000000 iterations\n",
      "Debug info: old particle indices: (yi, xi) 460 0\n",
      "            new particle indices: (yi, xi) 459 43\n",
      "            Mesh 2d shape:  898 398\n",
      "            Relative particle position:  (xsi, eta) -4.4046915664598274e+01 9.8199422404657888e-01\n",
      "Particle 842 lost !! [-124.92866985988236, 48.676134973822826, 24.560590437439686, 1158300.0]\n"
     ]
    },
    {
     "name": "stderr",
     "output_type": "stream",
     "text": [
      " 45% (1184400.0 of 2592000.0) |####      | Elapsed Time: 0:08:58 ETA:   0:10:29"
     ]
    },
    {
     "name": "stdout",
     "output_type": "stream",
     "text": [
      "Correct cell not found for (-124.851780, 48.584728) after 1000000 iterations\n",
      "Debug info: old particle indices: (yi, xi) 436 0\n",
      "            new particle indices: (yi, xi) 436 43\n",
      "            Mesh 2d shape:  898 398\n",
      "            Relative particle position:  (xsi, eta) -4.3997945687862220e+01 9.6025663752646795e-01\n",
      "Particle 697 lost !! [-124.85157833579879, 48.58448876566709, 1.4606707737810893, 1189260.0]\n"
     ]
    },
    {
     "name": "stderr",
     "output_type": "stream",
     "text": [
      " 50% (1299600.0 of 2592000.0) |#####     | Elapsed Time: 0:09:51 ETA:   0:09:45"
     ]
    },
    {
     "name": "stdout",
     "output_type": "stream",
     "text": [
      "Correct cell not found for (-124.925270, 48.672104) after 1000000 iterations\n",
      "Debug info: old particle indices: (yi, xi) 459 0\n",
      "            new particle indices: (yi, xi) 458 42\n",
      "            Mesh 2d shape:  898 398\n",
      "            Relative particle position:  (xsi, eta) -4.2997460375219916e+01 9.5840422897084843e-01\n",
      "Particle 605 lost !! [-124.92524138949634, 48.672069789356506, 21.00068743127065, 1304640.0]\n"
     ]
    },
    {
     "name": "stderr",
     "output_type": "stream",
     "text": [
      " 50% (1321200.0 of 2592000.0) |#####     | Elapsed Time: 0:10:01 ETA:   0:10:00"
     ]
    },
    {
     "name": "stdout",
     "output_type": "stream",
     "text": [
      "Correct cell not found for (-124.728130, 48.437385) after 1000000 iterations\n",
      "Debug info: old particle indices: (yi, xi) 399 0\n",
      "            new particle indices: (yi, xi) 399 42\n",
      "            Mesh 2d shape:  898 398\n",
      "            Relative particle position:  (xsi, eta) -4.3040918712305583e+01 9.5352532046655769e-01\n",
      "Particle 847 lost !! [-124.72815054442407, 48.43740892358402, 86.67735723964151, 1325700.0]\n"
     ]
    },
    {
     "name": "stderr",
     "output_type": "stream",
     "text": [
      " 54% (1400400.0 of 2592000.0) |#####     | Elapsed Time: 0:10:38 ETA:   0:08:36"
     ]
    },
    {
     "name": "stdout",
     "output_type": "stream",
     "text": [
      "Correct cell not found for (-124.925287, 48.672124) after 1000000 iterations\n",
      "Debug info: old particle indices: (yi, xi) 459 0\n",
      "            new particle indices: (yi, xi) 458 42\n",
      "            Mesh 2d shape:  898 398\n",
      "            Relative particle position:  (xsi, eta) -4.2997457957795177e+01 9.6337765104173745e-01\n",
      "Particle 604 lost !! [-124.92524514815737, 48.67207425358999, 14.236705133223523, 1407240.0]\n"
     ]
    },
    {
     "name": "stderr",
     "output_type": "stream",
     "text": [
      " 54% (1404000.0 of 2592000.0) |#####     | Elapsed Time: 0:10:40 ETA:   0:07:44"
     ]
    },
    {
     "name": "stdout",
     "output_type": "stream",
     "text": [
      "Correct cell not found for (-124.875142, 48.612526) after 1000000 iterations\n",
      "Debug info: old particle indices: (yi, xi) 444 0\n",
      "            new particle indices: (yi, xi) 443 42\n",
      "            Mesh 2d shape:  898 398\n",
      "            Relative particle position:  (xsi, eta) -4.2991803454702477e+01 9.6512529420756255e-01\n",
      "Particle 861 lost !! [-124.87514230271579, 48.61252563792858, 46.34037353660891, 1407690.0]\n"
     ]
    },
    {
     "name": "stderr",
     "output_type": "stream",
     "text": [
      " 58% (1504800.0 of 2592000.0) |#####     | Elapsed Time: 0:11:26 ETA:   0:07:51"
     ]
    },
    {
     "name": "stdout",
     "output_type": "stream",
     "text": [
      "Correct cell not found for (-124.761493, 48.477175) after 1000000 iterations\n",
      "Debug info: old particle indices: (yi, xi) 410 0\n",
      "            new particle indices: (yi, xi) 409 43\n",
      "            Mesh 2d shape:  898 398\n",
      "            Relative particle position:  (xsi, eta) -4.3985837425862812e+01 9.3987726495437074e-01\n",
      "Particle 887 lost !! [-124.7615475624673, 48.47724057154138, 73.35126568109544, 1510380.0]\n"
     ]
    },
    {
     "name": "stderr",
     "output_type": "stream",
     "text": [
      " 62% (1627200.0 of 2592000.0) |######    | Elapsed Time: 0:12:21 ETA:   0:07:04"
     ]
    },
    {
     "name": "stdout",
     "output_type": "stream",
     "text": [
      "Correct cell not found for (-124.905214, 48.648275) after 1000000 iterations\n",
      "Debug info: old particle indices: (yi, xi) 453 0\n",
      "            new particle indices: (yi, xi) 452 42\n",
      "            Mesh 2d shape:  898 398\n",
      "            Relative particle position:  (xsi, eta) -4.3002275855922434e+01 9.4669175541646433e-01\n",
      "Particle 849 lost !! [-124.90517867247053, 48.64823344111711, 15.068649055122563, 1633230.0]\n"
     ]
    },
    {
     "name": "stderr",
     "output_type": "stream",
     "text": [
      " 63% (1641600.0 of 2592000.0) |######    | Elapsed Time: 0:12:27 ETA:   0:06:44"
     ]
    },
    {
     "name": "stdout",
     "output_type": "stream",
     "text": [
      "Correct cell not found for (-124.744868, 48.457350) after 1000000 iterations\n",
      "Debug info: old particle indices: (yi, xi) 404 0\n",
      "            new particle indices: (yi, xi) 404 43\n",
      "            Mesh 2d shape:  898 398\n",
      "            Relative particle position:  (xsi, eta) -4.4036247720031206e+01 9.7396788713436144e-01\n",
      "Particle 840 lost !! [-124.74482930737727, 48.457303075159125, 155.2192744581691, 1648260.0]\n"
     ]
    },
    {
     "name": "stderr",
     "output_type": "stream",
     "text": [
      " 63% (1656000.0 of 2592000.0) |######    | Elapsed Time: 0:12:33 ETA:   0:06:41"
     ]
    },
    {
     "name": "stdout",
     "output_type": "stream",
     "text": [
      "Correct cell not found for (-124.764867, 48.481206) after 1000000 iterations\n",
      "Debug info: old particle indices: (yi, xi) 410 0\n",
      "            new particle indices: (yi, xi) 410 42\n",
      "            Mesh 2d shape:  898 398\n",
      "            Relative particle position:  (xsi, eta) -4.2983671854954586e+01 9.5373008693678007e-01\n",
      "Particle 832 lost !! [-124.76487001500655, 48.481209188913034, 182.89821220858312, 1663020.0]\n"
     ]
    },
    {
     "name": "stderr",
     "output_type": "stream",
     "text": [
      " 69% (1807200.0 of 2592000.0) |######    | Elapsed Time: 0:13:44 ETA:   0:06:09"
     ]
    },
    {
     "name": "stdout",
     "output_type": "stream",
     "text": [
      "Correct cell not found for (-124.908582, 48.652268) after 1000000 iterations\n",
      "Debug info: old particle indices: (yi, xi) 453 0\n",
      "            new particle indices: (yi, xi) 453 43\n",
      "            Mesh 2d shape:  898 398\n",
      "            Relative particle position:  (xsi, eta) -4.4002444370887986e+01 9.5426044211263528e-01\n",
      "Particle 642 lost !! [-124.90852657411247, 48.65220294206864, 17.351570637439124, 1813860.0]\n"
     ]
    },
    {
     "name": "stderr",
     "output_type": "stream",
     "text": [
      " 70% (1825200.0 of 2592000.0) |#######   | Elapsed Time: 0:13:53 ETA:   0:06:00"
     ]
    },
    {
     "name": "stdout",
     "output_type": "stream",
     "text": [
      "Correct cell not found for (-124.798244, 48.520985) after 1000000 iterations\n",
      "Debug info: old particle indices: (yi, xi) 420 0\n",
      "            new particle indices: (yi, xi) 420 42\n",
      "            Mesh 2d shape:  898 398\n",
      "            Relative particle position:  (xsi, eta) -4.3039009042159940e+01 9.5665266626238499e-01\n",
      "Particle 734 lost !! [-124.79828262978873, 48.52103116237796, 147.78724105451676, 1832310.0]\n"
     ]
    },
    {
     "name": "stderr",
     "output_type": "stream",
     "text": [
      " 73% (1893600.0 of 2592000.0) |#######   | Elapsed Time: 0:14:24 ETA:   0:05:17"
     ]
    },
    {
     "name": "stdout",
     "output_type": "stream",
     "text": [
      "Correct cell not found for (-124.778291, 48.497204) after 1000000 iterations\n",
      "Debug info: old particle indices: (yi, xi) 414 0\n",
      "            new particle indices: (yi, xi) 415 43\n",
      "            Mesh 2d shape:  898 398\n",
      "            Relative particle position:  (xsi, eta) -4.4027434002730487e+01 1.0038996051047955e+00\n",
      "Particle 739 lost !! [-124.77819051113924, 48.49708441649633, 102.28183746673565, 1897920.0]\n"
     ]
    },
    {
     "name": "stderr",
     "output_type": "stream",
     "text": [
      " 73% (1900800.0 of 2592000.0) |#######   | Elapsed Time: 0:14:27 ETA:   0:04:54"
     ]
    },
    {
     "name": "stdout",
     "output_type": "stream",
     "text": [
      "Correct cell not found for (-124.728181, 48.437445) after 1000000 iterations\n",
      "Debug info: old particle indices: (yi, xi) 400 0\n",
      "            new particle indices: (yi, xi) 399 42\n",
      "            Mesh 2d shape:  898 398\n",
      "            Relative particle position:  (xsi, eta) -4.3041223737429206e+01 9.6818272843589315e-01\n",
      "Particle 688 lost !! [-124.72808523013633, 48.43733101635014, 33.24523147087851, 1907190.0]\n"
     ]
    },
    {
     "name": "stderr",
     "output_type": "stream",
     "text": [
      " 76% (1987200.0 of 2592000.0) |#######   | Elapsed Time: 0:15:06 ETA:   0:03:47"
     ]
    },
    {
     "name": "stdout",
     "output_type": "stream",
     "text": [
      "Correct cell not found for (-124.925327, 48.672172) after 1000000 iterations\n",
      "Debug info: old particle indices: (yi, xi) 459 0\n",
      "            new particle indices: (yi, xi) 458 42\n",
      "            Mesh 2d shape:  898 398\n",
      "            Relative particle position:  (xsi, eta) -4.2997447492210171e+01 9.7546843516231629e-01\n",
      "Particle 774 lost !! [-124.9252658970298, 48.672098914072826, 31.09384956251803, 1991250.0]\n"
     ]
    },
    {
     "name": "stderr",
     "output_type": "stream",
     "text": [
      " 76% (1990800.0 of 2592000.0) |#######   | Elapsed Time: 0:15:08 ETA:   0:04:01"
     ]
    },
    {
     "name": "stdout",
     "output_type": "stream",
     "text": [
      "Correct cell not found for (-124.761654, 48.477367) after 1000000 iterations\n",
      "Debug info: old particle indices: (yi, xi) 409 0\n",
      "            new particle indices: (yi, xi) 409 43\n",
      "            Mesh 2d shape:  898 398\n",
      "            Relative particle position:  (xsi, eta) -4.3983441300222665e+01 9.8709570617641129e-01\n",
      "Particle 735 lost !! [-124.76138016908882, 48.47704096948961, 50.944082518991934, 1995930.0]\n"
     ]
    },
    {
     "name": "stderr",
     "output_type": "stream",
     "text": [
      " 80% (2077200.0 of 2592000.0) |########  | Elapsed Time: 0:15:46 ETA:   0:04:03"
     ]
    },
    {
     "name": "stdout",
     "output_type": "stream",
     "text": [
      "Correct cell not found for (-124.738241, 48.449447) after 1000000 iterations\n",
      "Debug info: old particle indices: (yi, xi) 402 0\n",
      "            new particle indices: (yi, xi) 403 43\n",
      "            Mesh 2d shape:  898 398\n",
      "            Relative particle position:  (xsi, eta) -4.4019084550755636e+01 1.0197167515684156e+00\n",
      "Particle 643 lost !! [-124.73812018050785, 48.44930351906915, 56.68332773311033, 2083320.0]\n"
     ]
    },
    {
     "name": "stderr",
     "output_type": "stream",
     "text": [
      " 80% (2080800.0 of 2592000.0) |########  | Elapsed Time: 0:15:48 ETA:   0:03:15"
     ]
    },
    {
     "name": "stdout",
     "output_type": "stream",
     "text": [
      "Correct cell not found for (-124.861788, 48.596637) after 1000000 iterations\n",
      "Debug info: old particle indices: (yi, xi) 439 0\n",
      "            new particle indices: (yi, xi) 439 43\n",
      "            Mesh 2d shape:  898 398\n",
      "            Relative particle position:  (xsi, eta) -4.4043120794823096e+01 9.8390296998154159e-01\n",
      "Particle 876 lost !! [-124.8617346438652, 48.59657350606701, 43.988337080999216, 2084940.0]\n"
     ]
    },
    {
     "name": "stderr",
     "output_type": "stream",
     "text": [
      " 83% (2163600.0 of 2592000.0) |########  | Elapsed Time: 0:16:26 ETA:   0:03:18"
     ]
    },
    {
     "name": "stdout",
     "output_type": "stream",
     "text": [
      "Correct cell not found for (-124.714843, 48.421525) after 1000000 iterations\n",
      "Debug info: old particle indices: (yi, xi) 396 0\n",
      "            new particle indices: (yi, xi) 395 42\n",
      "            Mesh 2d shape:  898 398\n",
      "            Relative particle position:  (xsi, eta) -4.3024899358971005e+01 9.9490954139547816e-01\n",
      "Particle 731 lost !! [-124.7147115504809, 48.421368101482884, 50.840526201883534, 2168280.0]\n"
     ]
    },
    {
     "name": "stderr",
     "output_type": "stream",
     "text": [
      " 86% (2250000.0 of 2592000.0) |########  | Elapsed Time: 0:17:03 ETA:   0:02:28"
     ]
    },
    {
     "name": "stdout",
     "output_type": "stream",
     "text": [
      "Correct cell not found for (-124.711471, 48.417498) after 1000000 iterations\n",
      "Debug info: old particle indices: (yi, xi) 394 0\n",
      "            new particle indices: (yi, xi) 394 43\n",
      "            Mesh 2d shape:  898 398\n",
      "            Relative particle position:  (xsi, eta) -4.4026234827940961e+01 9.8260483934935949e-01\n",
      "Particle 833 lost !! [-124.71133977275697, 48.417340610277435, 14.300219664862254, 2254050.0]\n"
     ]
    },
    {
     "name": "stderr",
     "output_type": "stream",
     "text": [
      " 87% (2257200.0 of 2592000.0) |########  | Elapsed Time: 0:17:07 ETA:   0:02:24"
     ]
    },
    {
     "name": "stdout",
     "output_type": "stream",
     "text": [
      "Correct cell not found for (-124.878524, 48.616539) after 1000000 iterations\n",
      "Debug info: old particle indices: (yi, xi) 444 0\n",
      "            new particle indices: (yi, xi) 445 43\n",
      "            Mesh 2d shape:  898 398\n",
      "            Relative particle position:  (xsi, eta) -4.4039101632930034e+01 1.0008745134824450e+00\n",
      "Particle 846 lost !! [-124.87834686688105, 48.61632878310436, 29.012004728710963, 2262150.0]\n"
     ]
    },
    {
     "name": "stderr",
     "output_type": "stream",
     "text": [
      " 90% (2347200.0 of 2592000.0) |######### | Elapsed Time: 0:17:44 ETA:   0:01:45"
     ]
    },
    {
     "name": "stdout",
     "output_type": "stream",
     "text": [
      "Correct cell not found for (-124.744856, 48.457335) after 1000000 iterations\n",
      "Debug info: old particle indices: (yi, xi) 404 0\n",
      "            new particle indices: (yi, xi) 404 43\n",
      "            Mesh 2d shape:  898 398\n",
      "            Relative particle position:  (xsi, eta) -4.4036058917788779e+01 9.7009866334830963e-01\n",
      "Particle 807 lost !! [-124.7445644148468, 48.456987374659384, 46.7179233299842, 2351160.0]\n"
     ]
    },
    {
     "name": "stderr",
     "output_type": "stream",
     "text": [
      " 94% (2437200.0 of 2592000.0) |######### | Elapsed Time: 0:18:21 ETA:   0:01:12"
     ]
    },
    {
     "name": "stdout",
     "output_type": "stream",
     "text": [
      "Correct cell not found for (-124.788279, 48.509113) after 1000000 iterations\n",
      "Debug info: old particle indices: (yi, xi) 417 0\n",
      "            new particle indices: (yi, xi) 417 43\n",
      "            Mesh 2d shape:  898 398\n",
      "            Relative particle position:  (xsi, eta) -4.4044244602349188e+01 9.6869137544806294e-01\n",
      "Particle 894 lost !! [-124.788182565867, 48.508998016385966, 43.90155939758573, 2442330.0]\n"
     ]
    },
    {
     "name": "stderr",
     "output_type": "stream",
     "text": [
      " 97% (2527200.0 of 2592000.0) |######### | Elapsed Time: 0:18:59 ETA:   0:00:28"
     ]
    },
    {
     "name": "stdout",
     "output_type": "stream",
     "text": [
      "Correct cell not found for (-124.761547, 48.477239) after 1000000 iterations\n",
      "Debug info: old particle indices: (yi, xi) 409 0\n",
      "            new particle indices: (yi, xi) 409 43\n",
      "            Mesh 2d shape:  898 398\n",
      "            Relative particle position:  (xsi, eta) -4.3985035150186548e+01 9.5561158013898895e-01\n",
      "Particle 681 lost !! [-124.76139138077518, 48.477054334085814, 61.08077133773523, 2531700.0]\n"
     ]
    },
    {
     "name": "stderr",
     "output_type": "stream",
     "text": [
      " 97% (2530800.0 of 2592000.0) |######### | Elapsed Time: 0:19:00 ETA:   0:00:23"
     ]
    },
    {
     "name": "stdout",
     "output_type": "stream",
     "text": [
      "Correct cell not found for (-124.738155, 48.449345) after 1000000 iterations\n",
      "Debug info: old particle indices: (yi, xi) 402 0\n",
      "            new particle indices: (yi, xi) 402 43\n",
      "            Mesh 2d shape:  898 398\n",
      "            Relative particle position:  (xsi, eta) -4.4018324421231789e+01 9.9254965942920825e-01\n",
      "Particle 824 lost !! [-124.73813496821836, 48.44932106014439, 27.993037023368146, 2534850.0]\n"
     ]
    },
    {
     "name": "stderr",
     "output_type": "stream",
     "text": [
      "100% (2592000.0 of 2592000.0) |##########| Elapsed Time: 0:19:23 Time:  0:19:23\n",
      "/home/jvalenti/conda_envs/parcels/lib/python3.9/site-packages/numpy/lib/arraysetops.py:270: VisibleDeprecationWarning: Creating an ndarray from ragged nested sequences (which is a list-or-tuple of lists-or-tuples-or ndarrays with different lengths or shapes) is deprecated. If you meant to do this, you must specify 'dtype=object' when creating the ndarray.\n",
      "  ar = np.asanyarray(ar)\n"
     ]
    }
   ],
   "source": [
    "# #Load Salish output as fields\n",
    "field_set = FieldSet.from_nemo(filenames, variables, dimensions, allow_time_extrapolation=True)\n",
    "pset = ParticleSet.from_list(field_set, JITParticle, lon=lon, lat=lat, depth=z, time=start+timedelta(hours=2))\n",
    "\n",
    "#p_flt = pset.Kernel(Buoyancy) #uncomment if you want to use additional kernels, also change the value of pset.Kernel to \"AdvectionRK4_3D + p_flt\"\n",
    "##pset.computeTimeChunk(allow_time_extrapolation=1)\n",
    "pset.execute(AdvectionRK4_3D, \n",
    "             runtime=duration, \n",
    "             dt=dt,\n",
    "             output_file=pset.ParticleFile(name=outfile, outputdt=timedelta(hours=1)),\n",
    "             recovery={ErrorCode.ErrorOutOfBounds: DeleteParticle})"
   ]
  },
  {
   "cell_type": "markdown",
   "id": "2d091292",
   "metadata": {},
   "source": []
  }
 ],
 "metadata": {
  "kernelspec": {
   "display_name": "Python 3 (ipykernel)",
   "language": "python",
   "name": "python3"
  },
  "language_info": {
   "codemirror_mode": {
    "name": "ipython",
    "version": 3
   },
   "file_extension": ".py",
   "mimetype": "text/x-python",
   "name": "python",
   "nbconvert_exporter": "python",
   "pygments_lexer": "ipython3",
   "version": "3.9.7"
  }
 },
 "nbformat": 4,
 "nbformat_minor": 5
}
