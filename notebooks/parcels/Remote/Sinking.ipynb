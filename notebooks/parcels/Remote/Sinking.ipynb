{
 "cells": [
  {
   "cell_type": "markdown",
   "id": "3249b069-318c-46cf-a0ab-422a39d81733",
   "metadata": {},
   "source": [
    "# **Template OP on salish**"
   ]
  },
  {
   "cell_type": "code",
   "execution_count": 1,
   "id": "7b3cacf0-e987-4dcc-85ad-fa33f293ee98",
   "metadata": {},
   "outputs": [],
   "source": [
    "%matplotlib inline\n",
    "\n",
    "import sys\n",
    "import xarray as xr\n",
    "import numpy as np\n",
    "import os\n",
    "import math\n",
    "from datetime import datetime, timedelta\n",
    "from parcels import FieldSet, Field, VectorField, ParticleSet, JITParticle, ErrorCode, ParcelsRandom\n",
    "\n",
    "sys.path.append('/home/jvalenti/MOAD/analysis-jose/notebooks/parcels')\n",
    "from Kernels_sink import DeleteParticle, Buoyancy, AdvectionRK4_3D\n",
    "from OP_functions import *"
   ]
  },
  {
   "cell_type": "markdown",
   "id": "b10e0ace",
   "metadata": {},
   "source": []
  },
  {
   "cell_type": "code",
   "execution_count": 2,
   "id": "941b8dd3-eebb-4149-af84-781e66652a11",
   "metadata": {},
   "outputs": [],
   "source": [
    "# Define paths\n",
    "local = 0 #Set to 0 when working on server\n",
    "paths = path(local)"
   ]
  },
  {
   "cell_type": "code",
   "execution_count": 3,
   "id": "206d74b4",
   "metadata": {},
   "outputs": [],
   "source": [
    "Dat=xr.open_dataset(get_WW3_path(datetime(2018, 12, 23)))\n",
    "path_NEMO = make_prefix(datetime(2018, 12, 23), paths['NEMO'])\n",
    "Dat0=xr.open_dataset(path_NEMO + '_grid_W.nc')\n",
    "Dat=xr.open_dataset(path_NEMO + '_grid_T.nc')\n",
    "coord=xr.open_dataset(paths['mask'],decode_times=False)\n",
    "WW3 = xr.open_dataset(get_WW3_path(datetime(2018, 12, 23)))"
   ]
  },
  {
   "cell_type": "markdown",
   "id": "97c4bf2f-db05-4d5f-b4bb-bdaad6578599",
   "metadata": {},
   "source": [
    "## Definitions"
   ]
  },
  {
   "cell_type": "code",
   "execution_count": 4,
   "id": "28a99025-a33d-4d66-9e39-aab453f279b2",
   "metadata": {},
   "outputs": [],
   "source": [
    "start = datetime(2019, 12, 10) #Start date\n",
    "# Set Time length [days] and timestep [seconds]\n",
    "length = 10\n",
    "duration = timedelta(days=length)\n",
    "dt = 90 #toggle between - or + to pick backwards or forwards\n",
    "N = 6 # number of deploying locations\n",
    "n = 100 # 1000   # number of particles per location\n",
    "dmin = [0,0,0,0,0,70] #minimum depth\n",
    "dd = 20 #max depth difference from dmin\n",
    "x_offset, y_offset, zvals = p_deploy(N,n,dmin,dd)"
   ]
  },
  {
   "cell_type": "code",
   "execution_count": 5,
   "id": "c87107ce",
   "metadata": {},
   "outputs": [],
   "source": [
    "from parcels import Variable\n",
    "\n",
    "class MPParticle(JITParticle):         # Define a new particle class\n",
    "    ro = Variable('ro', initial = 1370)             # desnsity PE\n",
    "    diameter = Variable('diameter', initial = 1.6e-5)\n",
    "    length = Variable('length', initial = 61e-5)\n",
    "    sediment = Variable('sediment', initial = 0)\n"
   ]
  },
  {
   "cell_type": "code",
   "execution_count": 6,
   "id": "f0a3c7aa-7f4e-42a1-a091-8cac7c2dd102",
   "metadata": {},
   "outputs": [],
   "source": [
    "Dat=xr.open_dataset(paths['coords'],decode_times=False)\n",
    "outf_lat=Dat['nav_lat'][445,304]\n",
    "outf_lon=Dat['nav_lon'][445,304]"
   ]
  },
  {
   "cell_type": "code",
   "execution_count": 7,
   "id": "2ceb066c-22eb-4ef5-abe1-dc051ad4cc7c",
   "metadata": {},
   "outputs": [],
   "source": [
    "lon = np.zeros([N,n])\n",
    "lat = np.zeros([N,n])\n",
    "# Execute run\n",
    "clon, clat = [-123.901172,-125.155849,-123.207648,-122.427508,-123.399769,float(outf_lon)], [49.186308,49.975326,49.305448,47.622403,48.399420,float(outf_lat)]  # choose horizontal centre of the particle cloud\n",
    "for i in range(N):\n",
    "    lon[i,:]=(clon[i] + x_offset[i,:])\n",
    "    lat[i,:]=(clat[i] + y_offset[i,:])\n",
    "z = zvals"
   ]
  },
  {
   "cell_type": "code",
   "execution_count": 8,
   "id": "92d6511f-3d0c-4a98-ad32-0d4cb970a2da",
   "metadata": {},
   "outputs": [
    {
     "name": "stdout",
     "output_type": "stream",
     "text": [
      "/home/jvalenti/MOAD/analysis-jose/notebooks/results/Sinksdelete20191210_1n_20191220_1n.nc\n"
     ]
    }
   ],
   "source": [
    "#Set start date time and the name of the output file\n",
    "name = 'Sinksdelete' #name output file\n",
    "daterange = [start+timedelta(days=i) for i in range(length)]\n",
    "fn =  name + '_'.join(d.strftime('%Y%m%d')+'_1n' for d in [start, start+duration]) + '.nc'\n",
    "outfile = os.path.join(paths['out'], fn)\n",
    "print(outfile)"
   ]
  },
  {
   "cell_type": "markdown",
   "id": "0c4e63f2-3fb8-4526-b45a-ce5644646287",
   "metadata": {},
   "source": [
    "## Simulation"
   ]
  },
  {
   "cell_type": "code",
   "execution_count": 9,
   "id": "922eb3dc-e34d-4102-b1d4-4df9de8b2f06",
   "metadata": {},
   "outputs": [
    {
     "name": "stderr",
     "output_type": "stream",
     "text": [
      "WARNING: File /ocean/jvalenti/MOAD/grid/coordinates_seagrid_SalishSea201702.nc could not be decoded properly by xarray (version 0.19.0).\n",
      "         It will be opened with no decoding. Filling values might be wrongly parsed.\n"
     ]
    }
   ],
   "source": [
    "#Fill in the list of variables that you want to use as fields\n",
    "varlist=['U','V','W','R']\n",
    "filenames,variables,dimensions=filename_set(start,length,varlist,local)\n",
    "field_set=FieldSet.from_nemo(filenames, variables, dimensions, allow_time_extrapolation=True)\n",
    "\n",
    "filenames,variables,dimensions=filename_set(start,length,['Bathy'],local)\n",
    "Bth = Field.from_netcdf(filenames['Bathy'], variables['Bathy'], dimensions,allow_time_extrapolation=True)\n",
    "field_set.add_field(Bth)"
   ]
  },
  {
   "cell_type": "code",
   "execution_count": 10,
   "id": "53f87621-a497-4575-85ba-18ec93118e44",
   "metadata": {},
   "outputs": [
    {
     "name": "stderr",
     "output_type": "stream",
     "text": [
      "INFO: Compiled ArrayMPParticleAdvectionRK4_3DBuoyancy ==> /tmp/parcels-2894/lib466173b12cdb7b389dd122b0b853e9a7_0.so\n"
     ]
    },
    {
     "name": "stdout",
     "output_type": "stream",
     "text": [
      "Particle in the sediment !!\n",
      "Particle in the sediment !!\n"
     ]
    },
    {
     "name": "stderr",
     "output_type": "stream",
     "text": [
      "INFO: Temporary output files are stored in /home/jvalenti/MOAD/analysis-jose/notebooks/results/out-FBTHOEOV.\n",
      "INFO: You can use \"parcels_convert_npydir_to_netcdf /home/jvalenti/MOAD/analysis-jose/notebooks/results/out-FBTHOEOV\" to convert these to a NetCDF file during the run.\n",
      "  2% (21600.0 of 864000.0) |             | Elapsed Time: 0:00:00 ETA:   0:00:08"
     ]
    },
    {
     "name": "stdout",
     "output_type": "stream",
     "text": [
      "Particle in the sediment !!\n"
     ]
    },
    {
     "name": "stderr",
     "output_type": "stream",
     "text": [
      "  5% (46800.0 of 864000.0) |             | Elapsed Time: 0:00:13 ETA:   0:05:18"
     ]
    },
    {
     "name": "stdout",
     "output_type": "stream",
     "text": [
      "Particle in the sediment !!\n"
     ]
    },
    {
     "name": "stderr",
     "output_type": "stream",
     "text": [
      "  6% (54000.0 of 864000.0) |             | Elapsed Time: 0:00:17 ETA:   0:05:11"
     ]
    },
    {
     "name": "stdout",
     "output_type": "stream",
     "text": [
      "Particle in the sediment !!\n"
     ]
    },
    {
     "name": "stderr",
     "output_type": "stream",
     "text": [
      "  8% (72000.0 of 864000.0) |#            | Elapsed Time: 0:00:26 ETA:   0:05:16"
     ]
    },
    {
     "name": "stdout",
     "output_type": "stream",
     "text": [
      "Particle in the sediment !!\n",
      "Particle in the sediment !!\n"
     ]
    },
    {
     "name": "stderr",
     "output_type": "stream",
     "text": [
      " 11% (97200.0 of 864000.0) |#            | Elapsed Time: 0:00:39 ETA:   0:04:57"
     ]
    },
    {
     "name": "stdout",
     "output_type": "stream",
     "text": [
      "Particle in the sediment !!\n"
     ]
    },
    {
     "name": "stderr",
     "output_type": "stream",
     "text": [
      " 11% (100800.0 of 864000.0) |#           | Elapsed Time: 0:00:41 ETA:   0:04:55"
     ]
    },
    {
     "name": "stdout",
     "output_type": "stream",
     "text": [
      "Particle in the sediment !!\n",
      "Particle in the sediment !!\n"
     ]
    },
    {
     "name": "stderr",
     "output_type": "stream",
     "text": [
      " 13% (118800.0 of 864000.0) |#           | Elapsed Time: 0:00:50 ETA:   0:04:43"
     ]
    },
    {
     "name": "stdout",
     "output_type": "stream",
     "text": [
      "Particle in the sediment !!\n"
     ]
    },
    {
     "name": "stderr",
     "output_type": "stream",
     "text": [
      " 14% (122400.0 of 864000.0) |#           | Elapsed Time: 0:00:52 ETA:   0:04:44"
     ]
    },
    {
     "name": "stdout",
     "output_type": "stream",
     "text": [
      "Particle in the sediment !!\n",
      "Particle in the sediment !!\n"
     ]
    },
    {
     "name": "stderr",
     "output_type": "stream",
     "text": [
      " 15% (129600.0 of 864000.0) |#           | Elapsed Time: 0:00:56 ETA:   0:04:43"
     ]
    },
    {
     "name": "stdout",
     "output_type": "stream",
     "text": [
      "Particle in the sediment !!\n"
     ]
    },
    {
     "name": "stderr",
     "output_type": "stream",
     "text": [
      " 15% (131400.0 of 864000.0) |#           | Elapsed Time: 0:00:57 ETA:   0:07:59"
     ]
    },
    {
     "name": "stdout",
     "output_type": "stream",
     "text": [
      "Particle in the sediment !!\n"
     ]
    },
    {
     "name": "stderr",
     "output_type": "stream",
     "text": [
      " 15% (135000.0 of 864000.0) |#           | Elapsed Time: 0:01:00 ETA:   0:09:57"
     ]
    },
    {
     "name": "stdout",
     "output_type": "stream",
     "text": [
      "Particle in the sediment !!\n",
      "Particle in the sediment !!\n"
     ]
    },
    {
     "name": "stderr",
     "output_type": "stream",
     "text": [
      " 16% (138600.0 of 864000.0) |#           | Elapsed Time: 0:01:03 ETA:   0:10:00"
     ]
    },
    {
     "name": "stdout",
     "output_type": "stream",
     "text": [
      "Particle in the sediment !!\n"
     ]
    },
    {
     "name": "stderr",
     "output_type": "stream",
     "text": [
      " 16% (142200.0 of 864000.0) |#           | Elapsed Time: 0:01:06 ETA:   0:09:44"
     ]
    },
    {
     "name": "stdout",
     "output_type": "stream",
     "text": [
      "Particle in the sediment !!\n"
     ]
    },
    {
     "name": "stderr",
     "output_type": "stream",
     "text": [
      " 16% (145800.0 of 864000.0) |##          | Elapsed Time: 0:01:09 ETA:   0:09:42"
     ]
    },
    {
     "name": "stdout",
     "output_type": "stream",
     "text": [
      "Particle in the sediment !!\n"
     ]
    },
    {
     "name": "stderr",
     "output_type": "stream",
     "text": [
      " 17% (151200.0 of 864000.0) |##          | Elapsed Time: 0:01:13 ETA:   0:07:45"
     ]
    },
    {
     "name": "stdout",
     "output_type": "stream",
     "text": [
      "Particle in the sediment !!\n"
     ]
    },
    {
     "name": "stderr",
     "output_type": "stream",
     "text": [
      " 18% (160200.0 of 864000.0) |##          | Elapsed Time: 0:01:20 ETA:   0:08:08"
     ]
    },
    {
     "name": "stdout",
     "output_type": "stream",
     "text": [
      "Particle in the sediment !!\n"
     ]
    },
    {
     "name": "stderr",
     "output_type": "stream",
     "text": [
      " 18% (163800.0 of 864000.0) |##          | Elapsed Time: 0:01:23 ETA:   0:09:57"
     ]
    },
    {
     "name": "stdout",
     "output_type": "stream",
     "text": [
      "Particle in the sediment !!\n",
      "Particle in the sediment !!\n"
     ]
    },
    {
     "name": "stderr",
     "output_type": "stream",
     "text": [
      " 19% (165600.0 of 864000.0) |##          | Elapsed Time: 0:01:24 ETA:   0:09:44"
     ]
    },
    {
     "name": "stdout",
     "output_type": "stream",
     "text": [
      "Particle in the sediment !!\n"
     ]
    },
    {
     "name": "stderr",
     "output_type": "stream",
     "text": [
      " 19% (169200.0 of 864000.0) |##          | Elapsed Time: 0:01:27 ETA:   0:09:35"
     ]
    },
    {
     "name": "stdout",
     "output_type": "stream",
     "text": [
      "Particle in the sediment !!\n",
      "Particle in the sediment !!\n",
      "Particle in the sediment !!\n"
     ]
    },
    {
     "name": "stderr",
     "output_type": "stream",
     "text": [
      " 19% (171000.0 of 864000.0) |##          | Elapsed Time: 0:01:30 ETA:   0:15:06"
     ]
    },
    {
     "name": "stdout",
     "output_type": "stream",
     "text": [
      "Particle in the sediment !!\n"
     ]
    },
    {
     "name": "stderr",
     "output_type": "stream",
     "text": [
      " 20% (176400.0 of 864000.0) |##          | Elapsed Time: 0:01:34 ETA:   0:08:37"
     ]
    },
    {
     "name": "stdout",
     "output_type": "stream",
     "text": [
      "Particle in the sediment !!\n",
      "Particle in the sediment !!\n"
     ]
    },
    {
     "name": "stderr",
     "output_type": "stream",
     "text": [
      " 20% (178200.0 of 864000.0) |##          | Elapsed Time: 0:01:36 ETA:   0:15:52"
     ]
    },
    {
     "name": "stdout",
     "output_type": "stream",
     "text": [
      "Particle in the sediment !!\n"
     ]
    },
    {
     "name": "stderr",
     "output_type": "stream",
     "text": [
      " 20% (180000.0 of 864000.0) |##          | Elapsed Time: 0:01:37 ETA:   0:11:34"
     ]
    },
    {
     "name": "stdout",
     "output_type": "stream",
     "text": [
      "Particle in the sediment !!\n"
     ]
    },
    {
     "name": "stderr",
     "output_type": "stream",
     "text": [
      " 21% (181800.0 of 864000.0) |##          | Elapsed Time: 0:01:40 ETA:   0:15:30"
     ]
    },
    {
     "name": "stdout",
     "output_type": "stream",
     "text": [
      "Particle in the sediment !!\n"
     ]
    },
    {
     "name": "stderr",
     "output_type": "stream",
     "text": [
      " 21% (183600.0 of 864000.0) |##          | Elapsed Time: 0:01:41 ETA:   0:11:19"
     ]
    },
    {
     "name": "stdout",
     "output_type": "stream",
     "text": [
      "Particle in the sediment !!\n",
      "Particle in the sediment !!\n",
      "Particle in the sediment !!\n"
     ]
    },
    {
     "name": "stderr",
     "output_type": "stream",
     "text": [
      " 21% (185400.0 of 864000.0) |##          | Elapsed Time: 0:01:43 ETA:   0:14:34"
     ]
    },
    {
     "name": "stdout",
     "output_type": "stream",
     "text": [
      "Particle in the sediment !!\n",
      "Particle in the sediment !!\n",
      "Particle in the sediment !!\n",
      "Particle in the sediment !!\n",
      "Particle in the sediment !!\n"
     ]
    },
    {
     "name": "stderr",
     "output_type": "stream",
     "text": [
      " 21% (187200.0 of 864000.0) |##          | Elapsed Time: 0:01:45 ETA:   0:11:21"
     ]
    },
    {
     "name": "stdout",
     "output_type": "stream",
     "text": [
      "Particle in the sediment !!\n",
      "Particle in the sediment !!\n",
      "Particle in the sediment !!\n"
     ]
    },
    {
     "name": "stderr",
     "output_type": "stream",
     "text": [
      " 21% (189000.0 of 864000.0) |##          | Elapsed Time: 0:01:47 ETA:   0:14:08"
     ]
    },
    {
     "name": "stdout",
     "output_type": "stream",
     "text": [
      "Particle in the sediment !!\n",
      "Particle in the sediment !!\n",
      "Particle in the sediment !!\n",
      "Particle in the sediment !!\n"
     ]
    },
    {
     "name": "stderr",
     "output_type": "stream",
     "text": [
      " 22% (190800.0 of 864000.0) |##          | Elapsed Time: 0:01:48 ETA:   0:10:34"
     ]
    },
    {
     "name": "stdout",
     "output_type": "stream",
     "text": [
      "Particle in the sediment !!\n",
      "Particle in the sediment !!\n",
      "Particle in the sediment !!\n",
      "Particle in the sediment !!\n",
      "Particle in the sediment !!\n",
      "Particle in the sediment !!\n"
     ]
    },
    {
     "name": "stderr",
     "output_type": "stream",
     "text": [
      " 22% (192600.0 of 864000.0) |##          | Elapsed Time: 0:01:50 ETA:   0:13:57"
     ]
    },
    {
     "name": "stdout",
     "output_type": "stream",
     "text": [
      "Particle in the sediment !!\n",
      "Particle in the sediment !!\n",
      "Particle in the sediment !!\n",
      "Particle in the sediment !!\n",
      "Particle in the sediment !!\n"
     ]
    },
    {
     "name": "stderr",
     "output_type": "stream",
     "text": [
      " 22% (194400.0 of 864000.0) |##          | Elapsed Time: 0:01:51 ETA:   0:10:30"
     ]
    },
    {
     "name": "stdout",
     "output_type": "stream",
     "text": [
      "Particle in the sediment !!\n",
      "Particle in the sediment !!\n",
      "Particle in the sediment !!\n",
      "Particle in the sediment !!\n",
      "Particle in the sediment !!\n",
      "Particle in the sediment !!\n",
      "Particle in the sediment !!\n",
      "Particle in the sediment !!\n"
     ]
    },
    {
     "name": "stderr",
     "output_type": "stream",
     "text": [
      " 22% (196200.0 of 864000.0) |##          | Elapsed Time: 0:01:54 ETA:   0:15:00"
     ]
    },
    {
     "name": "stdout",
     "output_type": "stream",
     "text": [
      "Particle in the sediment !!\n",
      "Particle in the sediment !!\n",
      "Particle in the sediment !!\n",
      "Particle in the sediment !!\n",
      "Particle in the sediment !!\n",
      "Particle in the sediment !!\n",
      "Particle in the sediment !!\n",
      "Particle in the sediment !!\n"
     ]
    },
    {
     "name": "stderr",
     "output_type": "stream",
     "text": [
      " 22% (198000.0 of 864000.0) |##          | Elapsed Time: 0:01:55 ETA:   0:11:30"
     ]
    },
    {
     "name": "stdout",
     "output_type": "stream",
     "text": [
      "Particle in the sediment !!\n",
      "Particle in the sediment !!\n",
      "Particle in the sediment !!\n",
      "Particle in the sediment !!\n",
      "Particle in the sediment !!\n",
      "Particle in the sediment !!\n",
      "Particle in the sediment !!\n",
      "Particle in the sediment !!\n"
     ]
    },
    {
     "name": "stderr",
     "output_type": "stream",
     "text": [
      " 23% (199800.0 of 864000.0) |##          | Elapsed Time: 0:01:58 ETA:   0:15:14"
     ]
    },
    {
     "name": "stdout",
     "output_type": "stream",
     "text": [
      "Particle in the sediment !!\n",
      "Particle in the sediment !!\n",
      "Particle in the sediment !!\n",
      "Particle in the sediment !!\n",
      "Particle in the sediment !!\n",
      "Particle in the sediment !!\n",
      "Particle in the sediment !!\n",
      "Particle in the sediment !!\n",
      "Particle in the sediment !!\n"
     ]
    },
    {
     "name": "stderr",
     "output_type": "stream",
     "text": [
      " 23% (201600.0 of 864000.0) |##          | Elapsed Time: 0:01:59 ETA:   0:11:07"
     ]
    },
    {
     "name": "stdout",
     "output_type": "stream",
     "text": [
      "Particle in the sediment !!\n",
      "Particle in the sediment !!\n",
      "Particle in the sediment !!\n",
      "Particle in the sediment !!\n",
      "Particle in the sediment !!\n",
      "Particle in the sediment !!\n"
     ]
    },
    {
     "name": "stderr",
     "output_type": "stream",
     "text": [
      " 23% (203400.0 of 864000.0) |##          | Elapsed Time: 0:02:01 ETA:   0:14:56"
     ]
    },
    {
     "name": "stdout",
     "output_type": "stream",
     "text": [
      "Particle in the sediment !!\n",
      "Particle in the sediment !!\n",
      "Particle in the sediment !!\n",
      "Particle in the sediment !!\n"
     ]
    },
    {
     "name": "stderr",
     "output_type": "stream",
     "text": [
      " 23% (205200.0 of 864000.0) |##          | Elapsed Time: 0:02:02 ETA:   0:11:10"
     ]
    },
    {
     "name": "stdout",
     "output_type": "stream",
     "text": [
      "Particle in the sediment !!\n",
      "Particle in the sediment !!\n",
      "Particle in the sediment !!\n",
      "Particle in the sediment !!\n",
      "Particle in the sediment !!\n",
      "Particle in the sediment !!\n"
     ]
    },
    {
     "name": "stderr",
     "output_type": "stream",
     "text": [
      " 23% (207000.0 of 864000.0) |##          | Elapsed Time: 0:02:05 ETA:   0:14:42"
     ]
    },
    {
     "name": "stdout",
     "output_type": "stream",
     "text": [
      "Particle in the sediment !!\n",
      "Particle in the sediment !!\n",
      "Particle in the sediment !!\n",
      "Particle in the sediment !!\n",
      "Particle in the sediment !!\n",
      "Particle in the sediment !!\n",
      "Particle in the sediment !!\n",
      "Particle in the sediment !!\n",
      "Particle in the sediment !!\n",
      "Particle in the sediment !!\n"
     ]
    },
    {
     "name": "stderr",
     "output_type": "stream",
     "text": [
      " 24% (208800.0 of 864000.0) |##          | Elapsed Time: 0:02:06 ETA:   0:10:58"
     ]
    },
    {
     "name": "stdout",
     "output_type": "stream",
     "text": [
      "Particle in the sediment !!\n"
     ]
    },
    {
     "name": "stderr",
     "output_type": "stream",
     "text": [
      " 24% (210600.0 of 864000.0) |##          | Elapsed Time: 0:02:08 ETA:   0:14:10"
     ]
    },
    {
     "name": "stdout",
     "output_type": "stream",
     "text": [
      "Particle in the sediment !!\n",
      "Particle in the sediment !!\n",
      "Particle in the sediment !!\n",
      "Particle in the sediment !!\n",
      "Particle in the sediment !!\n",
      "Particle in the sediment !!\n"
     ]
    },
    {
     "name": "stderr",
     "output_type": "stream",
     "text": [
      " 24% (212400.0 of 864000.0) |##          | Elapsed Time: 0:02:09 ETA:   0:10:40"
     ]
    },
    {
     "name": "stdout",
     "output_type": "stream",
     "text": [
      "Particle in the sediment !!\n",
      "Particle in the sediment !!\n",
      "Particle in the sediment !!\n"
     ]
    },
    {
     "name": "stderr",
     "output_type": "stream",
     "text": [
      " 24% (214200.0 of 864000.0) |##          | Elapsed Time: 0:02:12 ETA:   0:14:27"
     ]
    },
    {
     "name": "stdout",
     "output_type": "stream",
     "text": [
      "Particle in the sediment !!\n",
      "Particle in the sediment !!\n",
      "Particle in the sediment !!\n",
      "Particle in the sediment !!\n",
      "Particle in the sediment !!\n",
      "Particle in the sediment !!\n"
     ]
    },
    {
     "name": "stderr",
     "output_type": "stream",
     "text": [
      " 25% (216000.0 of 864000.0) |###         | Elapsed Time: 0:02:14 ETA:   0:12:18"
     ]
    },
    {
     "name": "stdout",
     "output_type": "stream",
     "text": [
      "Particle in the sediment !!\n",
      "Particle in the sediment !!\n",
      "Particle in the sediment !!\n",
      "Particle in the sediment !!\n",
      "Particle in the sediment !!\n",
      "Particle in the sediment !!\n",
      "Particle in the sediment !!\n",
      "Particle in the sediment !!\n"
     ]
    },
    {
     "name": "stderr",
     "output_type": "stream",
     "text": [
      " 25% (217800.0 of 864000.0) |###         | Elapsed Time: 0:02:16 ETA:   0:14:15"
     ]
    },
    {
     "name": "stdout",
     "output_type": "stream",
     "text": [
      "Particle in the sediment !!\n",
      "Particle in the sediment !!\n",
      "Particle in the sediment !!\n",
      "Particle in the sediment !!\n",
      "Particle in the sediment !!\n",
      "Particle in the sediment !!\n",
      "Particle in the sediment !!\n"
     ]
    },
    {
     "name": "stderr",
     "output_type": "stream",
     "text": [
      " 25% (219600.0 of 864000.0) |###         | Elapsed Time: 0:02:17 ETA:   0:11:04"
     ]
    },
    {
     "name": "stdout",
     "output_type": "stream",
     "text": [
      "Particle in the sediment !!\n",
      "Particle in the sediment !!\n",
      "Particle in the sediment !!\n",
      "Particle in the sediment !!\n",
      "Particle in the sediment !!\n",
      "Particle in the sediment !!\n",
      "Particle in the sediment !!\n",
      "Particle in the sediment !!\n"
     ]
    },
    {
     "name": "stderr",
     "output_type": "stream",
     "text": [
      " 25% (221400.0 of 864000.0) |###         | Elapsed Time: 0:02:20 ETA:   0:14:24"
     ]
    },
    {
     "name": "stdout",
     "output_type": "stream",
     "text": [
      "Particle in the sediment !!\n",
      "Particle in the sediment !!\n",
      "Particle in the sediment !!\n",
      "Particle in the sediment !!\n",
      "Particle in the sediment !!\n",
      "Particle in the sediment !!\n",
      "Particle in the sediment !!\n",
      "Particle in the sediment !!\n",
      "Particle in the sediment !!\n"
     ]
    },
    {
     "name": "stderr",
     "output_type": "stream",
     "text": [
      " 25% (223200.0 of 864000.0) |###         | Elapsed Time: 0:02:21 ETA:   0:12:03"
     ]
    },
    {
     "name": "stdout",
     "output_type": "stream",
     "text": [
      "Particle in the sediment !!\n",
      "Particle in the sediment !!\n",
      "Particle in the sediment !!\n",
      "Particle in the sediment !!\n",
      "Particle in the sediment !!\n",
      "Particle in the sediment !!\n",
      "Particle in the sediment !!\n"
     ]
    },
    {
     "name": "stderr",
     "output_type": "stream",
     "text": [
      " 26% (225000.0 of 864000.0) |###         | Elapsed Time: 0:02:24 ETA:   0:13:29"
     ]
    },
    {
     "name": "stdout",
     "output_type": "stream",
     "text": [
      "Particle in the sediment !!\n",
      "Particle in the sediment !!\n",
      "Particle in the sediment !!\n",
      "Particle in the sediment !!\n",
      "Particle in the sediment !!\n",
      "Particle in the sediment !!\n",
      "Particle in the sediment !!\n",
      "Particle in the sediment !!\n",
      "Particle in the sediment !!\n",
      "Particle in the sediment !!\n",
      "Particle in the sediment !!\n"
     ]
    },
    {
     "name": "stderr",
     "output_type": "stream",
     "text": [
      " 26% (226800.0 of 864000.0) |###         | Elapsed Time: 0:02:25 ETA:   0:10:33"
     ]
    },
    {
     "name": "stdout",
     "output_type": "stream",
     "text": [
      "Particle in the sediment !!\n",
      "Particle in the sediment !!\n",
      "Particle in the sediment !!\n",
      "Particle in the sediment !!\n",
      "Particle in the sediment !!\n",
      "Particle in the sediment !!\n",
      "Particle in the sediment !!\n"
     ]
    },
    {
     "name": "stderr",
     "output_type": "stream",
     "text": [
      " 26% (228600.0 of 864000.0) |###         | Elapsed Time: 0:02:27 ETA:   0:13:17"
     ]
    },
    {
     "name": "stdout",
     "output_type": "stream",
     "text": [
      "Particle in the sediment !!\n",
      "Particle in the sediment !!\n",
      "Particle in the sediment !!\n",
      "Particle in the sediment !!\n",
      "Particle in the sediment !!\n",
      "Particle in the sediment !!\n",
      "Particle in the sediment !!\n",
      "Particle in the sediment !!\n",
      "Particle in the sediment !!\n",
      "Particle in the sediment !!\n",
      "Particle in the sediment !!\n",
      "Particle in the sediment !!\n",
      "Particle in the sediment !!\n",
      "Particle in the sediment !!\n",
      "Particle in the sediment !!\n",
      "Particle in the sediment !!\n",
      "Particle in the sediment !!\n"
     ]
    },
    {
     "name": "stderr",
     "output_type": "stream",
     "text": [
      " 26% (230400.0 of 864000.0) |###         | Elapsed Time: 0:02:28 ETA:   0:10:14"
     ]
    },
    {
     "name": "stdout",
     "output_type": "stream",
     "text": [
      "Particle in the sediment !!\n",
      "Particle in the sediment !!\n",
      "Particle in the sediment !!\n",
      "Particle in the sediment !!\n",
      "Particle in the sediment !!\n",
      "Particle in the sediment !!\n",
      "Particle in the sediment !!\n",
      "Particle in the sediment !!\n",
      "Particle in the sediment !!\n"
     ]
    },
    {
     "name": "stderr",
     "output_type": "stream",
     "text": [
      " 26% (232200.0 of 864000.0) |###         | Elapsed Time: 0:02:31 ETA:   0:13:46"
     ]
    },
    {
     "name": "stdout",
     "output_type": "stream",
     "text": [
      "Particle in the sediment !!\n",
      "Particle in the sediment !!\n",
      "Particle in the sediment !!\n",
      "Particle in the sediment !!\n",
      "Particle in the sediment !!\n",
      "Particle in the sediment !!\n",
      "Particle in the sediment !!\n",
      "Particle in the sediment !!\n",
      "Particle in the sediment !!\n",
      "Particle in the sediment !!\n",
      "Particle in the sediment !!\n"
     ]
    },
    {
     "name": "stderr",
     "output_type": "stream",
     "text": [
      " 27% (234000.0 of 864000.0) |###         | Elapsed Time: 0:02:32 ETA:   0:11:00"
     ]
    },
    {
     "name": "stdout",
     "output_type": "stream",
     "text": [
      "Particle in the sediment !!\n",
      "Particle in the sediment !!\n",
      "Particle in the sediment !!\n",
      "Particle in the sediment !!\n",
      "Particle in the sediment !!\n",
      "Particle in the sediment !!\n",
      "Particle in the sediment !!\n",
      "Particle in the sediment !!\n",
      "Particle in the sediment !!\n",
      "Particle in the sediment !!\n",
      "Particle in the sediment !!\n",
      "Particle in the sediment !!\n",
      "Particle in the sediment !!\n",
      "Particle in the sediment !!\n",
      "Particle in the sediment !!\n"
     ]
    },
    {
     "name": "stderr",
     "output_type": "stream",
     "text": [
      " 27% (235800.0 of 864000.0) |###         | Elapsed Time: 0:02:35 ETA:   0:13:54"
     ]
    },
    {
     "name": "stdout",
     "output_type": "stream",
     "text": [
      "Particle in the sediment !!\n",
      "Particle in the sediment !!\n",
      "Particle in the sediment !!\n",
      "Particle in the sediment !!\n",
      "Particle in the sediment !!\n"
     ]
    },
    {
     "name": "stderr",
     "output_type": "stream",
     "text": [
      " 27% (237600.0 of 864000.0) |###         | Elapsed Time: 0:02:36 ETA:   0:10:20"
     ]
    },
    {
     "name": "stdout",
     "output_type": "stream",
     "text": [
      "Particle in the sediment !!\n",
      "Particle in the sediment !!\n",
      "Particle in the sediment !!\n",
      "Particle in the sediment !!\n",
      "Particle in the sediment !!\n",
      "Particle in the sediment !!\n",
      "Particle in the sediment !!\n",
      "Particle in the sediment !!\n",
      "Particle in the sediment !!\n",
      "Particle in the sediment !!\n",
      "Particle in the sediment !!\n",
      "Particle in the sediment !!\n",
      "Particle in the sediment !!\n",
      "Particle in the sediment !!\n"
     ]
    },
    {
     "name": "stderr",
     "output_type": "stream",
     "text": [
      " 27% (239400.0 of 864000.0) |###         | Elapsed Time: 0:02:38 ETA:   0:13:14"
     ]
    },
    {
     "name": "stdout",
     "output_type": "stream",
     "text": [
      "Particle in the sediment !!\n",
      "Particle in the sediment !!\n",
      "Particle in the sediment !!\n",
      "Particle in the sediment !!\n",
      "Particle in the sediment !!\n",
      "Particle in the sediment !!\n",
      "Particle in the sediment !!\n",
      "Particle in the sediment !!\n",
      "Particle in the sediment !!\n",
      "Particle in the sediment !!\n",
      "Particle in the sediment !!\n"
     ]
    },
    {
     "name": "stderr",
     "output_type": "stream",
     "text": [
      " 27% (241200.0 of 864000.0) |###         | Elapsed Time: 0:02:39 ETA:   0:10:33"
     ]
    },
    {
     "name": "stdout",
     "output_type": "stream",
     "text": [
      "Particle in the sediment !!\n",
      "Particle in the sediment !!\n",
      "Particle in the sediment !!\n",
      "Particle in the sediment !!\n",
      "Particle in the sediment !!\n",
      "Particle in the sediment !!\n",
      "Particle in the sediment !!\n",
      "Particle in the sediment !!\n",
      "Particle in the sediment !!\n",
      "Particle in the sediment !!\n",
      "Particle in the sediment !!\n",
      "Particle in the sediment !!\n",
      "Particle in the sediment !!\n",
      "Particle in the sediment !!\n",
      "Particle in the sediment !!\n",
      "Particle in the sediment !!\n"
     ]
    },
    {
     "name": "stderr",
     "output_type": "stream",
     "text": [
      " 28% (243000.0 of 864000.0) |###         | Elapsed Time: 0:02:42 ETA:   0:14:24"
     ]
    },
    {
     "name": "stdout",
     "output_type": "stream",
     "text": [
      "Particle in the sediment !!\n",
      "Particle in the sediment !!\n",
      "Particle in the sediment !!\n",
      "Particle in the sediment !!\n",
      "Particle in the sediment !!\n",
      "Particle in the sediment !!\n",
      "Particle in the sediment !!\n",
      "Particle in the sediment !!\n",
      "Particle in the sediment !!\n",
      "Particle in the sediment !!\n",
      "Particle in the sediment !!\n",
      "Particle in the sediment !!\n",
      "Particle in the sediment !!\n"
     ]
    },
    {
     "name": "stderr",
     "output_type": "stream",
     "text": [
      " 28% (244800.0 of 864000.0) |###         | Elapsed Time: 0:02:43 ETA:   0:10:31"
     ]
    },
    {
     "name": "stdout",
     "output_type": "stream",
     "text": [
      "Particle in the sediment !!\n",
      "Particle in the sediment !!\n",
      "Particle in the sediment !!\n",
      "Particle in the sediment !!\n",
      "Particle in the sediment !!\n",
      "Particle in the sediment !!\n",
      "Particle in the sediment !!\n"
     ]
    },
    {
     "name": "stderr",
     "output_type": "stream",
     "text": [
      " 28% (246600.0 of 864000.0) |###         | Elapsed Time: 0:02:46 ETA:   0:13:48"
     ]
    },
    {
     "name": "stdout",
     "output_type": "stream",
     "text": [
      "Particle in the sediment !!\n",
      "Particle in the sediment !!\n",
      "Particle in the sediment !!\n",
      "Particle in the sediment !!\n",
      "Particle in the sediment !!\n",
      "Particle in the sediment !!\n",
      "Particle in the sediment !!\n"
     ]
    },
    {
     "name": "stderr",
     "output_type": "stream",
     "text": [
      " 28% (248400.0 of 864000.0) |###         | Elapsed Time: 0:02:47 ETA:   0:10:21"
     ]
    },
    {
     "name": "stdout",
     "output_type": "stream",
     "text": [
      "Particle in the sediment !!\n",
      "Particle in the sediment !!\n",
      "Particle in the sediment !!\n",
      "Particle in the sediment !!\n",
      "Particle in the sediment !!\n",
      "Particle in the sediment !!\n",
      "Particle in the sediment !!\n",
      "Particle in the sediment !!\n",
      "Particle in the sediment !!\n",
      "Particle in the sediment !!\n",
      "Particle in the sediment !!\n",
      "Particle in the sediment !!\n"
     ]
    },
    {
     "name": "stderr",
     "output_type": "stream",
     "text": [
      " 28% (250200.0 of 864000.0) |###         | Elapsed Time: 0:02:49 ETA:   0:14:00"
     ]
    },
    {
     "name": "stdout",
     "output_type": "stream",
     "text": [
      "Particle in the sediment !!\n",
      "Particle in the sediment !!\n",
      "Particle in the sediment !!\n",
      "Particle in the sediment !!\n",
      "Particle in the sediment !!\n",
      "Particle in the sediment !!\n",
      "Particle in the sediment !!\n",
      "Particle in the sediment !!\n",
      "Particle in the sediment !!\n",
      "Particle in the sediment !!\n",
      "Particle in the sediment !!\n",
      "Particle in the sediment !!\n"
     ]
    },
    {
     "name": "stderr",
     "output_type": "stream",
     "text": [
      " 29% (252000.0 of 864000.0) |###         | Elapsed Time: 0:02:51 ETA:   0:12:10"
     ]
    },
    {
     "name": "stdout",
     "output_type": "stream",
     "text": [
      "Particle in the sediment !!\n",
      "Particle in the sediment !!\n",
      "Particle in the sediment !!\n",
      "Particle in the sediment !!\n",
      "Particle in the sediment !!\n",
      "Particle in the sediment !!\n",
      "Particle in the sediment !!\n",
      "Particle in the sediment !!\n"
     ]
    },
    {
     "name": "stderr",
     "output_type": "stream",
     "text": [
      " 29% (253800.0 of 864000.0) |###         | Elapsed Time: 0:02:53 ETA:   0:13:50"
     ]
    },
    {
     "name": "stdout",
     "output_type": "stream",
     "text": [
      "Particle in the sediment !!\n",
      "Particle in the sediment !!\n",
      "Particle in the sediment !!\n",
      "Particle in the sediment !!\n",
      "Particle in the sediment !!\n",
      "Particle in the sediment !!\n",
      "Particle in the sediment !!\n"
     ]
    },
    {
     "name": "stderr",
     "output_type": "stream",
     "text": [
      " 29% (255600.0 of 864000.0) |###         | Elapsed Time: 0:02:55 ETA:   0:10:12"
     ]
    },
    {
     "name": "stdout",
     "output_type": "stream",
     "text": [
      "Particle in the sediment !!\n",
      "Particle in the sediment !!\n",
      "Particle in the sediment !!\n",
      "Particle in the sediment !!\n"
     ]
    },
    {
     "name": "stderr",
     "output_type": "stream",
     "text": [
      " 29% (257400.0 of 864000.0) |###         | Elapsed Time: 0:02:57 ETA:   0:13:33"
     ]
    },
    {
     "name": "stdout",
     "output_type": "stream",
     "text": [
      "Particle in the sediment !!\n",
      "Particle in the sediment !!\n",
      "Particle in the sediment !!\n",
      "Particle in the sediment !!\n",
      "Particle in the sediment !!\n",
      "Particle in the sediment !!\n",
      "Particle in the sediment !!\n"
     ]
    },
    {
     "name": "stderr",
     "output_type": "stream",
     "text": [
      " 30% (259200.0 of 864000.0) |###         | Elapsed Time: 0:02:59 ETA:   0:11:14"
     ]
    },
    {
     "name": "stdout",
     "output_type": "stream",
     "text": [
      "Particle in the sediment !!\n",
      "Particle in the sediment !!\n",
      "Particle in the sediment !!\n",
      "Particle in the sediment !!\n",
      "Particle in the sediment !!\n"
     ]
    },
    {
     "name": "stderr",
     "output_type": "stream",
     "text": [
      " 30% (261000.0 of 864000.0) |###         | Elapsed Time: 0:03:01 ETA:   0:12:39"
     ]
    },
    {
     "name": "stdout",
     "output_type": "stream",
     "text": [
      "Particle in the sediment !!\n",
      "Particle in the sediment !!\n",
      "Particle in the sediment !!\n",
      "Particle in the sediment !!\n",
      "Particle in the sediment !!\n"
     ]
    },
    {
     "name": "stderr",
     "output_type": "stream",
     "text": [
      " 30% (262800.0 of 864000.0) |###         | Elapsed Time: 0:03:02 ETA:   0:09:32"
     ]
    },
    {
     "name": "stdout",
     "output_type": "stream",
     "text": [
      "Particle in the sediment !!\n",
      "Particle in the sediment !!\n",
      "Particle in the sediment !!\n"
     ]
    },
    {
     "name": "stderr",
     "output_type": "stream",
     "text": [
      " 30% (266400.0 of 864000.0) |###         | Elapsed Time: 0:03:04 ETA:   0:05:58"
     ]
    },
    {
     "name": "stdout",
     "output_type": "stream",
     "text": [
      "Particle in the sediment !!\n",
      "Particle in the sediment !!\n",
      "Particle in the sediment !!\n",
      "Particle in the sediment !!\n",
      "Particle in the sediment !!\n",
      "Particle in the sediment !!\n",
      "Particle in the sediment !!\n",
      "Particle in the sediment !!\n",
      "Particle in the sediment !!\n"
     ]
    },
    {
     "name": "stderr",
     "output_type": "stream",
     "text": [
      " 31% (270000.0 of 864000.0) |###         | Elapsed Time: 0:03:06 ETA:   0:03:46"
     ]
    },
    {
     "name": "stdout",
     "output_type": "stream",
     "text": [
      "Particle in the sediment !!\n",
      "Particle in the sediment !!\n",
      "Particle in the sediment !!\n",
      "Particle in the sediment !!\n",
      "Particle in the sediment !!\n",
      "Particle in the sediment !!\n",
      "Particle in the sediment !!\n",
      "Particle in the sediment !!\n",
      "Particle in the sediment !!\n"
     ]
    },
    {
     "name": "stderr",
     "output_type": "stream",
     "text": [
      " 31% (273600.0 of 864000.0) |###         | Elapsed Time: 0:03:08 ETA:   0:03:47"
     ]
    },
    {
     "name": "stdout",
     "output_type": "stream",
     "text": [
      "Particle in the sediment !!\n",
      "Particle in the sediment !!\n",
      "Particle in the sediment !!\n",
      "Particle in the sediment !!\n",
      "Particle in the sediment !!\n",
      "Particle in the sediment !!\n",
      "Particle in the sediment !!\n",
      "Particle in the sediment !!\n"
     ]
    },
    {
     "name": "stderr",
     "output_type": "stream",
     "text": [
      " 32% (277200.0 of 864000.0) |###         | Elapsed Time: 0:03:10 ETA:   0:03:43"
     ]
    },
    {
     "name": "stdout",
     "output_type": "stream",
     "text": [
      "Particle in the sediment !!\n",
      "Particle in the sediment !!\n",
      "Particle in the sediment !!\n",
      "Particle in the sediment !!\n",
      "Particle in the sediment !!\n"
     ]
    },
    {
     "name": "stderr",
     "output_type": "stream",
     "text": [
      " 32% (280800.0 of 864000.0) |###         | Elapsed Time: 0:03:12 ETA:   0:03:41"
     ]
    },
    {
     "name": "stdout",
     "output_type": "stream",
     "text": [
      "Particle in the sediment !!\n",
      "Particle in the sediment !!\n",
      "Particle in the sediment !!\n",
      "Particle in the sediment !!\n",
      "Particle in the sediment !!\n",
      "Particle in the sediment !!\n",
      "Particle in the sediment !!\n",
      "Particle in the sediment !!\n"
     ]
    },
    {
     "name": "stderr",
     "output_type": "stream",
     "text": [
      " 32% (284400.0 of 864000.0) |###         | Elapsed Time: 0:03:13 ETA:   0:03:38"
     ]
    },
    {
     "name": "stdout",
     "output_type": "stream",
     "text": [
      "Particle in the sediment !!\n",
      "Particle in the sediment !!\n",
      "Particle in the sediment !!\n",
      "Particle in the sediment !!\n",
      "Particle in the sediment !!\n",
      "Particle in the sediment !!\n"
     ]
    },
    {
     "name": "stderr",
     "output_type": "stream",
     "text": [
      " 33% (288000.0 of 864000.0) |####        | Elapsed Time: 0:03:15 ETA:   0:03:40"
     ]
    },
    {
     "name": "stdout",
     "output_type": "stream",
     "text": [
      "Particle in the sediment !!\n",
      "Particle in the sediment !!\n"
     ]
    },
    {
     "name": "stderr",
     "output_type": "stream",
     "text": [
      " 33% (291600.0 of 864000.0) |####        | Elapsed Time: 0:03:17 ETA:   0:03:43"
     ]
    },
    {
     "name": "stdout",
     "output_type": "stream",
     "text": [
      "Particle in the sediment !!\n",
      "Particle in the sediment !!\n",
      "Particle in the sediment !!\n",
      "Particle in the sediment !!\n",
      "Particle in the sediment !!\n",
      "Particle in the sediment !!\n",
      "Particle in the sediment !!\n",
      "Particle in the sediment !!\n",
      "Particle in the sediment !!\n",
      "Particle in the sediment !!\n",
      "Particle in the sediment !!\n",
      "Particle in the sediment !!\n",
      "Particle in the sediment !!\n",
      "Particle in the sediment !!\n",
      "Particle in the sediment !!\n",
      "Particle in the sediment !!\n"
     ]
    },
    {
     "name": "stderr",
     "output_type": "stream",
     "text": [
      " 34% (295200.0 of 864000.0) |####        | Elapsed Time: 0:03:19 ETA:   0:03:39"
     ]
    },
    {
     "name": "stdout",
     "output_type": "stream",
     "text": [
      "Particle in the sediment !!\n",
      "Particle in the sediment !!\n",
      "Particle in the sediment !!\n",
      "Particle in the sediment !!\n",
      "Particle in the sediment !!\n",
      "Particle in the sediment !!\n",
      "Particle in the sediment !!\n"
     ]
    },
    {
     "name": "stderr",
     "output_type": "stream",
     "text": [
      " 34% (298800.0 of 864000.0) |####        | Elapsed Time: 0:03:21 ETA:   0:03:40"
     ]
    },
    {
     "name": "stdout",
     "output_type": "stream",
     "text": [
      "Particle in the sediment !!\n",
      "Particle in the sediment !!\n",
      "Particle in the sediment !!\n",
      "Particle in the sediment !!\n",
      "Particle in the sediment !!\n",
      "Particle in the sediment !!\n",
      "Particle in the sediment !!\n",
      "Particle in the sediment !!\n",
      "Particle in the sediment !!\n",
      "Particle in the sediment !!\n",
      "Particle in the sediment !!\n",
      "Particle in the sediment !!\n",
      "Particle in the sediment !!\n",
      "Particle in the sediment !!\n",
      "Particle in the sediment !!\n"
     ]
    },
    {
     "name": "stderr",
     "output_type": "stream",
     "text": [
      " 35% (302400.0 of 864000.0) |####        | Elapsed Time: 0:03:23 ETA:   0:03:39"
     ]
    },
    {
     "name": "stdout",
     "output_type": "stream",
     "text": [
      "Particle in the sediment !!\n",
      "Particle in the sediment !!\n",
      "Particle in the sediment !!\n",
      "Particle in the sediment !!\n",
      "Particle in the sediment !!\n",
      "Particle in the sediment !!\n",
      "Particle in the sediment !!\n",
      "Particle in the sediment !!\n",
      "Particle in the sediment !!\n",
      "Particle in the sediment !!\n"
     ]
    },
    {
     "name": "stderr",
     "output_type": "stream",
     "text": [
      " 35% (306000.0 of 864000.0) |####        | Elapsed Time: 0:03:25 ETA:   0:03:36"
     ]
    },
    {
     "name": "stdout",
     "output_type": "stream",
     "text": [
      "Particle in the sediment !!\n",
      "Particle in the sediment !!\n",
      "Particle in the sediment !!\n",
      "Particle in the sediment !!\n",
      "Particle in the sediment !!\n",
      "Particle in the sediment !!\n",
      "Particle in the sediment !!\n",
      "Particle in the sediment !!\n",
      "Particle in the sediment !!\n",
      "Particle in the sediment !!\n",
      "Particle in the sediment !!\n",
      "Particle in the sediment !!\n"
     ]
    },
    {
     "name": "stderr",
     "output_type": "stream",
     "text": [
      " 35% (309600.0 of 864000.0) |####        | Elapsed Time: 0:03:27 ETA:   0:03:34"
     ]
    },
    {
     "name": "stdout",
     "output_type": "stream",
     "text": [
      "Particle in the sediment !!\n",
      "Particle in the sediment !!\n",
      "Particle in the sediment !!\n",
      "Particle in the sediment !!\n",
      "Particle in the sediment !!\n",
      "Particle in the sediment !!\n",
      "Particle in the sediment !!\n",
      "Particle in the sediment !!\n",
      "Particle in the sediment !!\n",
      "Particle in the sediment !!\n",
      "Particle in the sediment !!\n",
      "Particle in the sediment !!\n",
      "Particle in the sediment !!\n"
     ]
    },
    {
     "name": "stderr",
     "output_type": "stream",
     "text": [
      " 36% (313200.0 of 864000.0) |####        | Elapsed Time: 0:03:29 ETA:   0:03:32"
     ]
    },
    {
     "name": "stdout",
     "output_type": "stream",
     "text": [
      "Particle in the sediment !!\n",
      "Particle in the sediment !!\n",
      "Particle in the sediment !!\n",
      "Particle in the sediment !!\n"
     ]
    },
    {
     "name": "stderr",
     "output_type": "stream",
     "text": [
      " 36% (316800.0 of 864000.0) |####        | Elapsed Time: 0:03:31 ETA:   0:05:17"
     ]
    },
    {
     "name": "stdout",
     "output_type": "stream",
     "text": [
      "Particle in the sediment !!\n",
      "Particle in the sediment !!\n",
      "Particle in the sediment !!\n",
      "Particle in the sediment !!\n",
      "Particle in the sediment !!\n",
      "Particle in the sediment !!\n",
      "Particle in the sediment !!\n",
      "Particle in the sediment !!\n",
      "Particle in the sediment !!\n",
      "Particle in the sediment !!\n",
      "Particle in the sediment !!\n"
     ]
    },
    {
     "name": "stderr",
     "output_type": "stream",
     "text": [
      " 37% (320400.0 of 864000.0) |####        | Elapsed Time: 0:03:35 ETA:   0:10:17"
     ]
    },
    {
     "name": "stdout",
     "output_type": "stream",
     "text": [
      "Particle in the sediment !!\n",
      "Particle in the sediment !!\n",
      "Particle in the sediment !!\n",
      "Particle in the sediment !!\n",
      "Particle in the sediment !!\n",
      "Particle in the sediment !!\n",
      "Particle in the sediment !!\n",
      "Particle in the sediment !!\n"
     ]
    },
    {
     "name": "stderr",
     "output_type": "stream",
     "text": [
      " 37% (324000.0 of 864000.0) |####        | Elapsed Time: 0:03:38 ETA:   0:07:29"
     ]
    },
    {
     "name": "stdout",
     "output_type": "stream",
     "text": [
      "Particle in the sediment !!\n",
      "Particle in the sediment !!\n",
      "Particle in the sediment !!\n",
      "Particle in the sediment !!\n",
      "Particle in the sediment !!\n",
      "Particle in the sediment !!\n",
      "Particle in the sediment !!\n",
      "Particle in the sediment !!\n"
     ]
    },
    {
     "name": "stderr",
     "output_type": "stream",
     "text": [
      " 37% (327600.0 of 864000.0) |####        | Elapsed Time: 0:03:40 ETA:   0:03:31"
     ]
    },
    {
     "name": "stdout",
     "output_type": "stream",
     "text": [
      "Particle in the sediment !!\n",
      "Particle in the sediment !!\n",
      "Particle in the sediment !!\n",
      "Particle in the sediment !!\n",
      "Particle in the sediment !!\n",
      "Particle in the sediment !!\n",
      "Particle in the sediment !!\n",
      "Particle in the sediment !!\n"
     ]
    },
    {
     "name": "stderr",
     "output_type": "stream",
     "text": [
      " 38% (331200.0 of 864000.0) |####        | Elapsed Time: 0:03:42 ETA:   0:03:28"
     ]
    },
    {
     "name": "stdout",
     "output_type": "stream",
     "text": [
      "Particle in the sediment !!\n",
      "Particle in the sediment !!\n",
      "Particle in the sediment !!\n",
      "Particle in the sediment !!\n"
     ]
    },
    {
     "name": "stderr",
     "output_type": "stream",
     "text": [
      " 38% (334800.0 of 864000.0) |####        | Elapsed Time: 0:03:43 ETA:   0:03:34"
     ]
    },
    {
     "name": "stdout",
     "output_type": "stream",
     "text": [
      "Particle in the sediment !!\n",
      "Particle in the sediment !!\n",
      "Particle in the sediment !!\n"
     ]
    },
    {
     "name": "stderr",
     "output_type": "stream",
     "text": [
      " 39% (338400.0 of 864000.0) |####        | Elapsed Time: 0:03:45 ETA:   0:03:34"
     ]
    },
    {
     "name": "stdout",
     "output_type": "stream",
     "text": [
      "Particle in the sediment !!\n",
      "Particle in the sediment !!\n"
     ]
    },
    {
     "name": "stderr",
     "output_type": "stream",
     "text": [
      " 39% (342000.0 of 864000.0) |####        | Elapsed Time: 0:03:47 ETA:   0:03:17"
     ]
    },
    {
     "name": "stdout",
     "output_type": "stream",
     "text": [
      "Particle in the sediment !!\n",
      "Particle in the sediment !!\n"
     ]
    },
    {
     "name": "stderr",
     "output_type": "stream",
     "text": [
      " 40% (345600.0 of 864000.0) |####        | Elapsed Time: 0:03:49 ETA:   0:03:18"
     ]
    },
    {
     "name": "stdout",
     "output_type": "stream",
     "text": [
      "Particle in the sediment !!\n",
      "Particle in the sediment !!\n",
      "Particle in the sediment !!\n",
      "Particle in the sediment !!\n",
      "Particle in the sediment !!\n",
      "Particle in the sediment !!\n"
     ]
    },
    {
     "name": "stderr",
     "output_type": "stream",
     "text": [
      " 40% (349200.0 of 864000.0) |####        | Elapsed Time: 0:03:51 ETA:   0:03:18"
     ]
    },
    {
     "name": "stdout",
     "output_type": "stream",
     "text": [
      "Particle in the sediment !!\n",
      "Particle in the sediment !!\n",
      "Particle in the sediment !!\n",
      "Particle in the sediment !!\n",
      "Particle in the sediment !!\n"
     ]
    },
    {
     "name": "stderr",
     "output_type": "stream",
     "text": [
      " 40% (352800.0 of 864000.0) |####        | Elapsed Time: 0:03:53 ETA:   0:03:16"
     ]
    },
    {
     "name": "stdout",
     "output_type": "stream",
     "text": [
      "Particle in the sediment !!\n",
      "Particle in the sediment !!\n",
      "Particle in the sediment !!\n",
      "Particle in the sediment !!\n",
      "Particle in the sediment !!\n",
      "Particle in the sediment !!\n"
     ]
    },
    {
     "name": "stderr",
     "output_type": "stream",
     "text": [
      " 41% (356400.0 of 864000.0) |####        | Elapsed Time: 0:03:55 ETA:   0:03:15"
     ]
    },
    {
     "name": "stdout",
     "output_type": "stream",
     "text": [
      "Particle in the sediment !!\n",
      "Particle in the sediment !!\n"
     ]
    },
    {
     "name": "stderr",
     "output_type": "stream",
     "text": [
      " 41% (360000.0 of 864000.0) |#####       | Elapsed Time: 0:03:57 ETA:   0:03:13"
     ]
    },
    {
     "name": "stdout",
     "output_type": "stream",
     "text": [
      "Particle in the sediment !!\n",
      "Particle in the sediment !!\n",
      "Particle in the sediment !!\n",
      "Particle in the sediment !!\n"
     ]
    },
    {
     "name": "stderr",
     "output_type": "stream",
     "text": [
      " 42% (363600.0 of 864000.0) |#####       | Elapsed Time: 0:03:59 ETA:   0:03:08"
     ]
    },
    {
     "name": "stdout",
     "output_type": "stream",
     "text": [
      "Particle in the sediment !!\n",
      "Particle in the sediment !!\n",
      "Particle in the sediment !!\n",
      "Particle in the sediment !!\n"
     ]
    },
    {
     "name": "stderr",
     "output_type": "stream",
     "text": [
      " 42% (367200.0 of 864000.0) |#####       | Elapsed Time: 0:04:00 ETA:   0:03:05"
     ]
    },
    {
     "name": "stdout",
     "output_type": "stream",
     "text": [
      "Particle in the sediment !!\n",
      "Particle in the sediment !!\n",
      "Particle in the sediment !!\n"
     ]
    },
    {
     "name": "stderr",
     "output_type": "stream",
     "text": [
      " 43% (374400.0 of 864000.0) |#####       | Elapsed Time: 0:04:04 ETA:   0:03:02"
     ]
    },
    {
     "name": "stdout",
     "output_type": "stream",
     "text": [
      "Particle in the sediment !!\n",
      "Particle in the sediment !!\n",
      "Particle in the sediment !!\n"
     ]
    },
    {
     "name": "stderr",
     "output_type": "stream",
     "text": [
      " 44% (381600.0 of 864000.0) |#####       | Elapsed Time: 0:04:08 ETA:   0:02:59"
     ]
    },
    {
     "name": "stdout",
     "output_type": "stream",
     "text": [
      "Particle in the sediment !!\n",
      "Particle in the sediment !!\n",
      "Particle in the sediment !!\n"
     ]
    },
    {
     "name": "stderr",
     "output_type": "stream",
     "text": [
      " 45% (388800.0 of 864000.0) |#####       | Elapsed Time: 0:04:11 ETA:   0:02:56"
     ]
    },
    {
     "name": "stdout",
     "output_type": "stream",
     "text": [
      "Particle in the sediment !!\n",
      "Particle in the sediment !!\n",
      "Particle in the sediment !!\n",
      "Particle in the sediment !!\n",
      "Particle in the sediment !!\n"
     ]
    },
    {
     "name": "stderr",
     "output_type": "stream",
     "text": [
      " 45% (392400.0 of 864000.0) |#####       | Elapsed Time: 0:04:13 ETA:   0:02:57"
     ]
    },
    {
     "name": "stdout",
     "output_type": "stream",
     "text": [
      "Particle in the sediment !!\n",
      "Particle in the sediment !!\n"
     ]
    },
    {
     "name": "stderr",
     "output_type": "stream",
     "text": [
      " 46% (397800.0 of 864000.0) |#####       | Elapsed Time: 0:04:17 ETA:   0:05:03"
     ]
    },
    {
     "name": "stdout",
     "output_type": "stream",
     "text": [
      "Particle in the sediment !!\n"
     ]
    },
    {
     "name": "stderr",
     "output_type": "stream",
     "text": [
      " 46% (401400.0 of 864000.0) |#####       | Elapsed Time: 0:04:20 ETA:   0:07:01"
     ]
    },
    {
     "name": "stdout",
     "output_type": "stream",
     "text": [
      "Particle in the sediment !!\n"
     ]
    },
    {
     "name": "stderr",
     "output_type": "stream",
     "text": [
      " 47% (410400.0 of 864000.0) |#####       | Elapsed Time: 0:04:26 ETA:   0:04:58"
     ]
    },
    {
     "name": "stdout",
     "output_type": "stream",
     "text": [
      "Particle in the sediment !!\n"
     ]
    },
    {
     "name": "stderr",
     "output_type": "stream",
     "text": [
      " 50% (437400.0 of 864000.0) |######      | Elapsed Time: 0:04:47 ETA:   0:05:03"
     ]
    },
    {
     "name": "stdout",
     "output_type": "stream",
     "text": [
      "Particle in the sediment !!\n"
     ]
    },
    {
     "name": "stderr",
     "output_type": "stream",
     "text": [
      " 53% (460800.0 of 864000.0) |######      | Elapsed Time: 0:05:03 ETA:   0:04:50"
     ]
    },
    {
     "name": "stdout",
     "output_type": "stream",
     "text": [
      "Particle in the sediment !!\n"
     ]
    },
    {
     "name": "stderr",
     "output_type": "stream",
     "text": [
      " 53% (462600.0 of 864000.0) |######      | Elapsed Time: 0:05:06 ETA:   0:09:29"
     ]
    },
    {
     "name": "stdout",
     "output_type": "stream",
     "text": [
      "Particle in the sediment !!\n"
     ]
    },
    {
     "name": "stderr",
     "output_type": "stream",
     "text": [
      "100% (864000.0 of 864000.0) |############| Elapsed Time: 0:09:23 Time:  0:09:23\n",
      "/home/jvalenti/conda_envs/parcels/lib/python3.9/site-packages/numpy/lib/arraysetops.py:270: VisibleDeprecationWarning: Creating an ndarray from ragged nested sequences (which is a list-or-tuple of lists-or-tuples-or ndarrays with different lengths or shapes) is deprecated. If you meant to do this, you must specify 'dtype=object' when creating the ndarray.\n",
      "  ar = np.asanyarray(ar)\n"
     ]
    }
   ],
   "source": [
    "# #Load Salish output as fields\n",
    "#field_set = FieldSet.from_nemo(filenames, variables, dimensions, allow_time_extrapolation=True)\n",
    "pset = ParticleSet.from_list(field_set, MPParticle, lon=lon, lat=lat, depth=z, time=start+timedelta(hours=2))\n",
    "\n",
    "p_new = pset.Kernel(Buoyancy) #uncomment if you want to use additional kernels, also change the value of pset.Kernel to \"AdvectionRK4_3D + p_flt\"\n",
    "##pset.computeTimeChunk(allow_time_extrapolation=1)\n",
    "pset.execute(AdvectionRK4_3D + p_new, \n",
    "             runtime=duration, \n",
    "             dt=dt,\n",
    "             output_file=pset.ParticleFile(name=outfile, outputdt=timedelta(hours=1)),\n",
    "             recovery={ErrorCode.ErrorOutOfBounds: DeleteParticle})"
   ]
  }
 ],
 "metadata": {
  "kernelspec": {
   "display_name": "Python 3 (ipykernel)",
   "language": "python",
   "name": "python3"
  },
  "language_info": {
   "codemirror_mode": {
    "name": "ipython",
    "version": 3
   },
   "file_extension": ".py",
   "mimetype": "text/x-python",
   "name": "python",
   "nbconvert_exporter": "python",
   "pygments_lexer": "ipython3",
   "version": "3.9.7"
  }
 },
 "nbformat": 4,
 "nbformat_minor": 5
}
