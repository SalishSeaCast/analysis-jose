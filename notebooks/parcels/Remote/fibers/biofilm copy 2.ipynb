{
 "cells": [
  {
   "cell_type": "markdown",
   "id": "3249b069-318c-46cf-a0ab-422a39d81733",
   "metadata": {},
   "source": [
    "# **Template OP on salish**"
   ]
  },
  {
   "cell_type": "code",
   "execution_count": 1,
   "id": "7b3cacf0-e987-4dcc-85ad-fa33f293ee98",
   "metadata": {},
   "outputs": [],
   "source": [
    "%matplotlib inline\n",
    "\n",
    "import sys\n",
    "import xarray as xr\n",
    "import numpy as np\n",
    "import os\n",
    "import math\n",
    "from datetime import datetime, timedelta\n",
    "from parcels import FieldSet, Field, VectorField, ParticleSet, JITParticle, ErrorCode, ParcelsRandom\n",
    "\n",
    "sys.path.append('/home/jvalenti/MOAD/analysis-jose/notebooks/parcels')\n",
    "from Kernels_biofilm import DeleteParticle, Buoyancy, AdvectionRK4_3D, Stokes_drift, Beaching, Unbeaching\n",
    "from OP_functions_biofilm import *"
   ]
  },
  {
   "cell_type": "markdown",
   "id": "b10e0ace",
   "metadata": {},
   "source": []
  },
  {
   "cell_type": "code",
   "execution_count": 2,
   "id": "941b8dd3-eebb-4149-af84-781e66652a11",
   "metadata": {},
   "outputs": [],
   "source": [
    "# Define paths\n",
    "local = 0 #Set to 0 when working on server\n",
    "paths = path(local)"
   ]
  },
  {
   "cell_type": "code",
   "execution_count": 3,
   "id": "206d74b4",
   "metadata": {},
   "outputs": [],
   "source": [
    "path_NEMO = make_prefix(datetime(2018, 1, 10), paths['NEMO'])\n",
    "coord=xr.open_dataset(paths['coords'],decode_times=False)\n",
    "WW3 = xr.open_dataset(get_WW3_path(datetime(2018, 1, 10)))\n",
    "batt=xr.open_dataset(paths['mask'],decode_times=False)"
   ]
  },
  {
   "cell_type": "markdown",
   "id": "879cd801",
   "metadata": {},
   "source": [
    "## Define and save mask for distance to coast"
   ]
  },
  {
   "cell_type": "code",
   "execution_count": 4,
   "id": "10b6fba7",
   "metadata": {},
   "outputs": [],
   "source": [
    "Dat=xr.open_dataset(paths['coords'],decode_times=False)\n",
    "outf_lat=Dat['nav_lat'][445,304]\n",
    "outf_lon=Dat['nav_lon'][445,304]\n",
    "clon, clat = [float(outf_lon)],[float(outf_lat)]  # choose horizontal centre of the particle cloud\n",
    "# #clat,clon = p_unidist(coord.gphif[0,:,:],coord.glamf[0,:,:],batt.mbathy[0,:,:],10,10)\n",
    "# with open('clat.txt') as f:\n",
    "#     clat = f.read()\n",
    "#     clat= clat[1:-1]\n",
    "#     clat0 = clat.split(\",\")\n",
    "#     f.close()\n",
    "# with open('clon.txt') as f:\n",
    "#     clon = f.read()\n",
    "#     clon=clon[1:-1]\n",
    "#     clon0 = clon.split(\",\")\n",
    "#     f.close()\n",
    "    \n",
    "# clat,clon=[],[]\n",
    "# for i in range(len(clat0)):\n",
    "#     clat.append(float(clat0[i]))\n",
    "#     clon.append(float(clon0[i]))"
   ]
  },
  {
   "cell_type": "markdown",
   "id": "97c4bf2f-db05-4d5f-b4bb-bdaad6578599",
   "metadata": {},
   "source": [
    "## Definitions"
   ]
  },
  {
   "cell_type": "code",
   "execution_count": 5,
   "id": "28a99025-a33d-4d66-9e39-aab453f279b2",
   "metadata": {},
   "outputs": [],
   "source": [
    "start = datetime(2018, 6, 11) #Start date\n",
    "# Set Time length [days] and timestep [seconds]\n",
    "length = 30\n",
    "duration = timedelta(days=length)\n",
    "dt = 90 #toggle between - or + to pick backwards or forwards\n",
    "N = 1 # number of deploying locations\n",
    "n = 400 # 1000   # number of particles per location\n",
    "dmin = 68 #minimum depth\n",
    "dd = 5 #max depth difference from dmin\n",
    "x_offset, y_offset, zvals = p_deploy(N,n,dmin,dd)"
   ]
  },
  {
   "cell_type": "code",
   "execution_count": 6,
   "id": "c87107ce",
   "metadata": {},
   "outputs": [],
   "source": [
    "from parcels import Variable\n",
    "\n",
    "class MPParticle(JITParticle):        \n",
    "    #ro = Variable('ro', initial = 1025)           \n",
    "    #diameter = Variable('diameter', initial = 1.6e-5)\n",
    "    #length = Variable('length', initial = 61e-5)\n",
    "    Lb = Variable('Lb', initial = 0.23)  #days needed in days for particle to have 67% probability of beaching if in beaching zone (500m)\n",
    "    Db = Variable('Db', initial = 33) #Distance at which particles can randomly beach.\n",
    "    Ub = Variable('Ub', initial = 69)  #days to have 67% probability of unbeaching\n",
    "    sediment = Variable('sediment', initial = 0)\n",
    "    beached = Variable('beached', initial = 0)\n",
    "    Ws = Variable('Ws', initial =  2.08e-4)\n"
   ]
  },
  {
   "cell_type": "code",
   "execution_count": 7,
   "id": "2ceb066c-22eb-4ef5-abe1-dc051ad4cc7c",
   "metadata": {},
   "outputs": [],
   "source": [
    "lon = np.zeros([N,n])\n",
    "lat = np.zeros([N,n])\n",
    "for i in range(N):\n",
    "    lon[i,:]=(clon[i] + x_offset[i,:])\n",
    "    lat[i,:]=(clat[i] + y_offset[i,:])\n",
    "z = zvals"
   ]
  },
  {
   "cell_type": "code",
   "execution_count": 8,
   "id": "92d6511f-3d0c-4a98-ad32-0d4cb970a2da",
   "metadata": {},
   "outputs": [
    {
     "name": "stdout",
     "output_type": "stream",
     "text": [
      "/home/jvalenti/MOAD/results/test20180611_1n_20180616_1n.nc\n"
     ]
    }
   ],
   "source": [
    "#Set start date time and the name of the output file\n",
    "name = 'f9summer' #name output file\n",
    "daterange = [start+timedelta(days=i) for i in range(length)]\n",
    "fn =  name + '_'.join(d.strftime('%Y%m%d')+'_1n' for d in [start, start+duration]) + '.nc'\n",
    "outfile = os.path.join(paths['out'], fn)\n",
    "print(outfile)"
   ]
  },
  {
   "cell_type": "markdown",
   "id": "0c4e63f2-3fb8-4526-b45a-ce5644646287",
   "metadata": {},
   "source": [
    "## Simulation"
   ]
  },
  {
   "cell_type": "code",
   "execution_count": 9,
   "id": "922eb3dc-e34d-4102-b1d4-4df9de8b2f06",
   "metadata": {},
   "outputs": [
    {
     "name": "stderr",
     "output_type": "stream",
     "text": [
      "WARNING: File /ocean/jvalenti/MOAD/grid/coordinates_seagrid_SalishSea201702.nc could not be decoded properly by xarray (version 0.19.0).\n",
      "         It will be opened with no decoding. Filling values might be wrongly parsed.\n"
     ]
    }
   ],
   "source": [
    "#Fill in the list of variables that you want to use as fields\n",
    "varlist=['U','V','W','R']\n",
    "filenames,variables,dimensions=filename_set(start,length,varlist,local)\n",
    "field_set=FieldSet.from_nemo(filenames, variables, dimensions, allow_time_extrapolation=True)\n",
    "\n",
    "varlist=['US','VS','WL']\n",
    "filenames,variables,dimensions=filename_set(start,length,varlist,local)\n",
    "\n",
    "us = Field.from_netcdf(filenames['US'], variables['US'], dimensions,allow_time_extrapolation=True)\n",
    "vs = Field.from_netcdf(filenames['VS'], variables['VS'], dimensions,allow_time_extrapolation=True)\n",
    "wl = Field.from_netcdf(filenames['WL'], variables['WL'], dimensions,allow_time_extrapolation=True)\n",
    "field_set.add_field(us)\n",
    "field_set.add_field(vs)\n",
    "field_set.add_field(wl)\n",
    "field_set.add_vector_field(VectorField(\"stokes\", us, vs, wl))\n",
    "\n",
    "filenames,variables,dimensions=filename_set(start,length,['Bathy'],local)\n",
    "Bth = Field.from_netcdf(filenames['Bathy'], variables['Bathy'], dimensions,allow_time_extrapolation=True)\n",
    "field_set.add_field(Bth)"
   ]
  },
  {
   "cell_type": "code",
   "execution_count": 10,
   "id": "53f87621-a497-4575-85ba-18ec93118e44",
   "metadata": {},
   "outputs": [
    {
     "name": "stderr",
     "output_type": "stream",
     "text": [
      "INFO: Compiled ArrayMPParticleAdvectionRK4_3DBuoyancyStokes_driftBeachingUnbeaching ==> /tmp/parcels-2894/lib92fb3d849a91667e54944abfc6bc4533_0.so\n",
      "INFO: Temporary output files are stored in /home/jvalenti/MOAD/results/out-JAKLOZYN.\n",
      "INFO: You can use \"parcels_convert_npydir_to_netcdf /home/jvalenti/MOAD/results/out-JAKLOZYN\" to convert these to a NetCDF file during the run.\n",
      "N/A% (0 of 432000.0) |                   | Elapsed Time: 0:00:00 ETA:  --:--:--\n",
      "  3% (14400.0 of 432000.0) |             | Elapsed Time: 0:00:00 ETA:   0:00:09\n",
      "  3% (16200.0 of 432000.0) |             | Elapsed Time: 0:00:03 ETA:   0:13:06\n",
      "  4% (18000.0 of 432000.0) |             | Elapsed Time: 0:00:04 ETA:   0:07:28\n",
      "  4% (19800.0 of 432000.0) |             | Elapsed Time: 0:00:08 ETA:   0:15:13\n",
      "  5% (21600.0 of 432000.0) |             | Elapsed Time: 0:00:08 ETA:   0:08:19\n",
      "  5% (23400.0 of 432000.0) |             | Elapsed Time: 0:00:11 ETA:   0:12:31\n",
      "  5% (25200.0 of 432000.0) |             | Elapsed Time: 0:00:12 ETA:   0:06:55\n",
      "  6% (27000.0 of 432000.0) |             | Elapsed Time: 0:00:15 ETA:   0:10:37\n",
      "  6% (28800.0 of 432000.0) |             | Elapsed Time: 0:00:15 ETA:   0:05:50\n",
      "  7% (30600.0 of 432000.0) |             | Elapsed Time: 0:00:17 ETA:   0:09:05\n",
      "  7% (32400.0 of 432000.0) |             | Elapsed Time: 0:00:18 ETA:   0:05:06\n",
      "  7% (34200.0 of 432000.0) |#            | Elapsed Time: 0:00:21 ETA:   0:11:54\n",
      "  8% (36000.0 of 432000.0) |#            | Elapsed Time: 0:00:21 ETA:   0:06:37\n",
      "  8% (37800.0 of 432000.0) |#            | Elapsed Time: 0:00:24 ETA:   0:09:34\n",
      "  9% (39600.0 of 432000.0) |#            | Elapsed Time: 0:00:24 ETA:   0:05:20\n",
      "  9% (41400.0 of 432000.0) |#            | Elapsed Time: 0:00:28 ETA:   0:12:20\n",
      " 10% (43200.0 of 432000.0) |#            | Elapsed Time: 0:00:28 ETA:   0:06:40\n",
      " 10% (45000.0 of 432000.0) |#            | Elapsed Time: 0:00:30 ETA:   0:08:55\n",
      " 10% (46800.0 of 432000.0) |#            | Elapsed Time: 0:00:31 ETA:   0:04:58\n",
      " 11% (48600.0 of 432000.0) |#            | Elapsed Time: 0:00:34 ETA:   0:10:01\n",
      " 11% (50400.0 of 432000.0) |#            | Elapsed Time: 0:00:34 ETA:   0:05:39\n",
      " 12% (52200.0 of 432000.0) |#            | Elapsed Time: 0:00:37 ETA:   0:11:21\n",
      " 12% (54000.0 of 432000.0) |#            | Elapsed Time: 0:00:37 ETA:   0:06:12\n",
      " 12% (55800.0 of 432000.0) |#            | Elapsed Time: 0:00:40 ETA:   0:10:26\n",
      " 13% (57600.0 of 432000.0) |#            | Elapsed Time: 0:00:41 ETA:   0:05:44\n",
      " 13% (59400.0 of 432000.0) |#            | Elapsed Time: 0:00:43 ETA:   0:08:27\n",
      " 14% (61200.0 of 432000.0) |#            | Elapsed Time: 0:00:44 ETA:   0:04:43\n",
      " 14% (63000.0 of 432000.0) |#            | Elapsed Time: 0:00:46 ETA:   0:08:15\n",
      " 15% (64800.0 of 432000.0) |#            | Elapsed Time: 0:00:46 ETA:   0:04:38\n",
      " 15% (66600.0 of 432000.0) |##           | Elapsed Time: 0:00:49 ETA:   0:10:40\n",
      " 15% (68400.0 of 432000.0) |##           | Elapsed Time: 0:00:50 ETA:   0:05:50\n",
      " 16% (70200.0 of 432000.0) |##           | Elapsed Time: 0:00:53 ETA:   0:10:51\n",
      " 16% (72000.0 of 432000.0) |##           | Elapsed Time: 0:00:53 ETA:   0:05:55\n",
      " 17% (73800.0 of 432000.0) |##           | Elapsed Time: 0:00:56 ETA:   0:09:10\n",
      " 17% (75600.0 of 432000.0) |##           | Elapsed Time: 0:00:56 ETA:   0:05:05\n",
      " 17% (77400.0 of 432000.0) |##           | Elapsed Time: 0:00:59 ETA:   0:09:49\n",
      " 18% (79200.0 of 432000.0) |##           | Elapsed Time: 0:01:00 ETA:   0:05:19\n",
      " 18% (81000.0 of 432000.0) |##           | Elapsed Time: 0:01:02 ETA:   0:08:19\n",
      " 19% (82800.0 of 432000.0) |##           | Elapsed Time: 0:01:03 ETA:   0:04:38\n",
      " 19% (84600.0 of 432000.0) |##           | Elapsed Time: 0:01:05 ETA:   0:07:55\n",
      " 20% (86400.0 of 432000.0) |##           | Elapsed Time: 0:01:05 ETA:   0:04:27\n",
      " 20% (88200.0 of 432000.0) |##           | Elapsed Time: 0:01:08 ETA:   0:09:22\n",
      " 20% (90000.0 of 432000.0) |##           | Elapsed Time: 0:01:09 ETA:   0:05:09\n",
      " 21% (91800.0 of 432000.0) |##           | Elapsed Time: 0:01:12 ETA:   0:09:49\n",
      " 21% (93600.0 of 432000.0) |##           | Elapsed Time: 0:01:12 ETA:   0:05:23\n",
      " 22% (95400.0 of 432000.0) |##           | Elapsed Time: 0:01:15 ETA:   0:07:47\n",
      " 22% (97200.0 of 432000.0) |##           | Elapsed Time: 0:01:15 ETA:   0:04:20\n",
      " 22% (99000.0 of 432000.0) |##           | Elapsed Time: 0:01:17 ETA:   0:07:34\n",
      " 23% (100800.0 of 432000.0) |##          | Elapsed Time: 0:01:18 ETA:   0:04:13\n",
      " 23% (102600.0 of 432000.0) |##          | Elapsed Time: 0:01:20 ETA:   0:07:58\n",
      " 24% (104400.0 of 432000.0) |##          | Elapsed Time: 0:01:21 ETA:   0:04:27\n",
      " 24% (106200.0 of 432000.0) |##          | Elapsed Time: 0:01:23 ETA:   0:08:46\n",
      " 25% (108000.0 of 432000.0) |###         | Elapsed Time: 0:01:24 ETA:   0:04:50\n",
      " 25% (109800.0 of 432000.0) |###         | Elapsed Time: 0:01:27 ETA:   0:09:32\n",
      " 25% (111600.0 of 432000.0) |###         | Elapsed Time: 0:01:27 ETA:   0:05:12\n",
      " 26% (113400.0 of 432000.0) |###         | Elapsed Time: 0:01:30 ETA:   0:08:22\n",
      " 26% (115200.0 of 432000.0) |###         | Elapsed Time: 0:01:30 ETA:   0:04:38\n",
      " 27% (117000.0 of 432000.0) |###         | Elapsed Time: 0:01:33 ETA:   0:08:42\n",
      " 27% (118800.0 of 432000.0) |###         | Elapsed Time: 0:01:34 ETA:   0:04:47\n",
      " 27% (120600.0 of 432000.0) |###         | Elapsed Time: 0:01:36 ETA:   0:06:59\n",
      " 28% (122400.0 of 432000.0) |###         | Elapsed Time: 0:01:36 ETA:   0:03:54\n",
      " 28% (124200.0 of 432000.0) |###         | Elapsed Time: 0:01:39 ETA:   0:06:55\n",
      " 29% (126000.0 of 432000.0) |###         | Elapsed Time: 0:01:39 ETA:   0:03:52\n",
      " 29% (127800.0 of 432000.0) |###         | Elapsed Time: 0:01:42 ETA:   0:06:50\n",
      " 30% (129600.0 of 432000.0) |###         | Elapsed Time: 0:01:42 ETA:   0:03:50\n",
      " 30% (131400.0 of 432000.0) |###         | Elapsed Time: 0:01:45 ETA:   0:08:49\n",
      " 30% (133200.0 of 432000.0) |###         | Elapsed Time: 0:01:45 ETA:   0:04:49\n",
      " 31% (135000.0 of 432000.0) |###         | Elapsed Time: 0:01:48 ETA:   0:08:18\n",
      " 31% (136800.0 of 432000.0) |###         | Elapsed Time: 0:01:49 ETA:   0:04:33\n",
      " 32% (138600.0 of 432000.0) |###         | Elapsed Time: 0:01:52 ETA:   0:08:42\n",
      " 32% (140400.0 of 432000.0) |###         | Elapsed Time: 0:01:52 ETA:   0:04:45\n",
      " 32% (142200.0 of 432000.0) |###         | Elapsed Time: 0:01:55 ETA:   0:08:00\n",
      " 33% (144000.0 of 432000.0) |####        | Elapsed Time: 0:01:56 ETA:   0:04:24\n",
      " 33% (145800.0 of 432000.0) |####        | Elapsed Time: 0:01:59 ETA:   0:08:45\n",
      " 34% (147600.0 of 432000.0) |####        | Elapsed Time: 0:01:59 ETA:   0:04:46\n",
      " 34% (149400.0 of 432000.0) |####        | Elapsed Time: 0:02:02 ETA:   0:07:55\n",
      " 35% (151200.0 of 432000.0) |####        | Elapsed Time: 0:02:03 ETA:   0:04:19\n",
      " 35% (153000.0 of 432000.0) |####        | Elapsed Time: 0:02:05 ETA:   0:06:46\n",
      " 35% (154800.0 of 432000.0) |####        | Elapsed Time: 0:02:05 ETA:   0:03:46\n",
      " 36% (156600.0 of 432000.0) |####        | Elapsed Time: 0:02:08 ETA:   0:06:08\n",
      " 36% (158400.0 of 432000.0) |####        | Elapsed Time: 0:02:08 ETA:   0:03:27\n",
      " 37% (160200.0 of 432000.0) |####        | Elapsed Time: 0:02:11 ETA:   0:06:58\n",
      " 37% (162000.0 of 432000.0) |####        | Elapsed Time: 0:02:11 ETA:   0:03:51\n",
      " 37% (163800.0 of 432000.0) |####        | Elapsed Time: 0:02:14 ETA:   0:07:40\n",
      " 38% (165600.0 of 432000.0) |####        | Elapsed Time: 0:02:15 ETA:   0:04:08\n",
      " 38% (167400.0 of 432000.0) |####        | Elapsed Time: 0:02:17 ETA:   0:06:27\n",
      " 39% (169200.0 of 432000.0) |####        | Elapsed Time: 0:02:18 ETA:   0:03:34\n",
      " 39% (171000.0 of 432000.0) |####        | Elapsed Time: 0:02:20 ETA:   0:06:52\n",
      " 40% (172800.0 of 432000.0) |####        | Elapsed Time: 0:02:21 ETA:   0:03:47\n",
      " 40% (174600.0 of 432000.0) |####        | Elapsed Time: 0:02:23 ETA:   0:06:18\n",
      " 40% (176400.0 of 432000.0) |####        | Elapsed Time: 0:02:24 ETA:   0:03:29\n",
      " 41% (178200.0 of 432000.0) |####        | Elapsed Time: 0:02:27 ETA:   0:06:41\n",
      " 41% (180000.0 of 432000.0) |#####       | Elapsed Time: 0:02:27 ETA:   0:03:41\n",
      " 42% (181800.0 of 432000.0) |#####       | Elapsed Time: 0:02:30 ETA:   0:06:34\n",
      " 42% (183600.0 of 432000.0) |#####       | Elapsed Time: 0:02:30 ETA:   0:03:39\n",
      " 42% (185400.0 of 432000.0) |#####       | Elapsed Time: 0:02:33 ETA:   0:05:44\n",
      " 43% (187200.0 of 432000.0) |#####       | Elapsed Time: 0:02:33 ETA:   0:03:11\n",
      " 43% (189000.0 of 432000.0) |#####       | Elapsed Time: 0:02:35 ETA:   0:05:27\n",
      " 44% (190800.0 of 432000.0) |#####       | Elapsed Time: 0:02:36 ETA:   0:03:02\n",
      " 44% (192600.0 of 432000.0) |#####       | Elapsed Time: 0:02:38 ETA:   0:05:33\n",
      " 45% (194400.0 of 432000.0) |#####       | Elapsed Time: 0:02:38 ETA:   0:03:06\n",
      " 45% (196200.0 of 432000.0) |#####       | Elapsed Time: 0:02:42 ETA:   0:07:23\n",
      " 45% (198000.0 of 432000.0) |#####       | Elapsed Time: 0:02:42 ETA:   0:04:00\n",
      " 46% (199800.0 of 432000.0) |#####       | Elapsed Time: 0:02:45 ETA:   0:06:18\n",
      " 46% (201600.0 of 432000.0) |#####       | Elapsed Time: 0:02:45 ETA:   0:03:29\n",
      " 47% (203400.0 of 432000.0) |#####       | Elapsed Time: 0:02:49 ETA:   0:06:44\n",
      " 47% (205200.0 of 432000.0) |#####       | Elapsed Time: 0:02:49 ETA:   0:03:40\n",
      " 47% (207000.0 of 432000.0) |#####       | Elapsed Time: 0:02:51 ETA:   0:05:11\n",
      " 48% (208800.0 of 432000.0) |#####       | Elapsed Time: 0:02:52 ETA:   0:02:53\n",
      " 48% (210600.0 of 432000.0) |#####       | Elapsed Time: 0:02:54 ETA:   0:05:10\n",
      " 49% (212400.0 of 432000.0) |#####       | Elapsed Time: 0:02:55 ETA:   0:02:52\n",
      " 49% (214200.0 of 432000.0) |#####       | Elapsed Time: 0:02:57 ETA:   0:05:09\n",
      " 50% (216000.0 of 432000.0) |######      | Elapsed Time: 0:02:57 ETA:   0:02:52\n",
      " 50% (217800.0 of 432000.0) |######      | Elapsed Time: 0:03:00 ETA:   0:06:10\n",
      " 50% (219600.0 of 432000.0) |######      | Elapsed Time: 0:03:01 ETA:   0:03:22\n",
      " 51% (221400.0 of 432000.0) |######      | Elapsed Time: 0:03:04 ETA:   0:05:36\n",
      " 51% (223200.0 of 432000.0) |######      | Elapsed Time: 0:03:04 ETA:   0:03:06\n",
      " 52% (225000.0 of 432000.0) |######      | Elapsed Time: 0:03:07 ETA:   0:04:58\n",
      " 52% (226800.0 of 432000.0) |######      | Elapsed Time: 0:03:07 ETA:   0:02:45\n",
      " 52% (228600.0 of 432000.0) |######      | Elapsed Time: 0:03:09 ETA:   0:04:34\n",
      " 53% (230400.0 of 432000.0) |######      | Elapsed Time: 0:03:10 ETA:   0:02:33\n",
      " 53% (232200.0 of 432000.0) |######      | Elapsed Time: 0:03:12 ETA:   0:04:28\n",
      " 54% (234000.0 of 432000.0) |######      | Elapsed Time: 0:03:12 ETA:   0:02:30\n",
      " 54% (235800.0 of 432000.0) |######      | Elapsed Time: 0:03:15 ETA:   0:05:31\n",
      " 55% (237600.0 of 432000.0) |######      | Elapsed Time: 0:03:16 ETA:   0:03:01\n",
      " 55% (239400.0 of 432000.0) |######      | Elapsed Time: 0:03:19 ETA:   0:05:15\n",
      " 55% (241200.0 of 432000.0) |######      | Elapsed Time: 0:03:19 ETA:   0:02:53\n",
      " 56% (243000.0 of 432000.0) |######      | Elapsed Time: 0:03:21 ETA:   0:04:17\n",
      " 56% (244800.0 of 432000.0) |######      | Elapsed Time: 0:03:22 ETA:   0:02:22\n"
     ]
    }
   ],
   "source": [
    "# #Load Salish output as fields\n",
    "#field_set = FieldSet.from_nemo(filenames, variables, dimensions, allow_time_extrapolation=True)\n",
    "pset = ParticleSet.from_list(field_set, MPParticle, lon=lon, lat=lat, depth=z, time=start+timedelta(hours=2))\n",
    "\n",
    "k_sink = pset.Kernel(Buoyancy)\n",
    "k_waves = pset.Kernel(Stokes_drift)\n",
    "k_beach = pset.Kernel(Beaching)\n",
    "k_unbeach = pset.Kernel(Unbeaching)\n",
    "\n",
    "\n",
    "pset.execute(AdvectionRK4_3D + k_sink + k_waves + k_beach + k_unbeach,\n",
    "             runtime=duration, \n",
    "             dt=dt,\n",
    "             output_file=pset.ParticleFile(name=outfile, outputdt=timedelta(hours=1)),\n",
    "             recovery={ErrorCode.ErrorOutOfBounds: DeleteParticle})"
   ]
  }
 ],
 "metadata": {
  "kernelspec": {
   "display_name": "Python 3 (ipykernel)",
   "language": "python",
   "name": "python3"
  },
  "language_info": {
   "codemirror_mode": {
    "name": "ipython",
    "version": 3
   },
   "file_extension": ".py",
   "mimetype": "text/x-python",
   "name": "python",
   "nbconvert_exporter": "python",
   "pygments_lexer": "ipython3",
   "version": "3.9.7"
  }
 },
 "nbformat": 4,
 "nbformat_minor": 5
}
