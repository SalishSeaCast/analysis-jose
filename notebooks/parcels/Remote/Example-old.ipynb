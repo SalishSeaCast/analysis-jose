{
 "cells": [
  {
   "cell_type": "markdown",
   "id": "3249b069-318c-46cf-a0ab-422a39d81733",
   "metadata": {},
   "source": [
    "#### **How my OP codes look**"
   ]
  },
  {
   "cell_type": "code",
   "execution_count": 2,
   "id": "7b3cacf0-e987-4dcc-85ad-fa33f293ee98",
   "metadata": {},
   "outputs": [],
   "source": [
    "%matplotlib inline\n",
    "\n",
    "import sys\n",
    "import xarray as xr\n",
    "import numpy as np\n",
    "import os\n",
    "import math\n",
    "from datetime import datetime, timedelta\n",
    "from parcels import FieldSet, Field, VectorField, ParticleSet, JITParticle, ErrorCode, ParcelsRandom\n",
    "\n",
    "sys.path.append('/Users/jvalenti/MOAD/analysis-jose/notebooks/parcels')\n",
    "from Kernels_biofilm import DeleteParticle, Buoyancy, AdvectionRK4_3D, Stokes_drift, Beaching, Unbeaching\n",
    "from OP_functions_biofilm import *"
   ]
  },
  {
   "cell_type": "code",
   "execution_count": 3,
   "id": "941b8dd3-eebb-4149-af84-781e66652a11",
   "metadata": {},
   "outputs": [],
   "source": [
    "# Define paths\n",
    "local = 1 #Set to 0 when working on server\n",
    "paths = path(local)"
   ]
  },
  {
   "cell_type": "code",
   "execution_count": 5,
   "id": "206d74b4",
   "metadata": {},
   "outputs": [],
   "source": [
    "#path_NEMO = make_prefix(datetime(2018, 12, 23), paths['NEMO']) #IN RESULTS2 :(\n",
    "coord=xr.open_dataset(paths['coords'],decode_times=False)\n",
    "#WW3 = xr.open_dataset(get_WW3_path(datetime(2018, 12, 23))) \n",
    "batt=xr.open_dataset(paths['mask'],decode_times=False)"
   ]
  },
  {
   "cell_type": "markdown",
   "id": "879cd801",
   "metadata": {},
   "source": [
    "Uniform distribution of points"
   ]
  },
  {
   "cell_type": "code",
   "execution_count": 6,
   "id": "10b6fba7",
   "metadata": {},
   "outputs": [],
   "source": [
    "#clat,clon = p_unidist(coord.gphif[0,:,:],coord.glamf[0,:,:],batt.mbathy[0,:,:],10,10) it takes 15 minutes to run.\n",
    "\n",
    "with open('clat2.txt') as f:\n",
    "    clat = f.read()\n",
    "    clat= clat[1:-1]\n",
    "    clat0 = clat.split(\",\")\n",
    "    f.close()\n",
    "with open('clon2.txt') as f:\n",
    "    clon = f.read()\n",
    "    clon=clon[1:-1]\n",
    "    clon0 = clon.split(\",\")\n",
    "    f.close()\n",
    "    \n",
    "clat,clon=[],[]\n",
    "for i in range(len(clat0)):\n",
    "    clat.append(float(clat0[i]))\n",
    "    clon.append(float(clon0[i]))"
   ]
  },
  {
   "cell_type": "markdown",
   "id": "97c4bf2f-db05-4d5f-b4bb-bdaad6578599",
   "metadata": {},
   "source": [
    "#### Definitions"
   ]
  },
  {
   "cell_type": "code",
   "execution_count": 17,
   "id": "28a99025-a33d-4d66-9e39-aab453f279b2",
   "metadata": {},
   "outputs": [],
   "source": [
    "start = datetime(2018, 10, 1) #Start date\n",
    "# Set Time length [days] and timestep [seconds]\n",
    "length = 10\n",
    "duration = timedelta(days=length)\n",
    "dt = 90 #toggle between - or + to pick backwards or forwards\n",
    "N = len(clat) # number of deploying locations\n",
    "n = 1 # 1000   # number of particles per location\n",
    "dmin = list(np.zeros(len(clat))) #minimum depth\n",
    "dd = 5 #max depth difference from dmin\n",
    "x_offset, y_offset, zvals = p_deploy(N,n,dmin,dd)"
   ]
  },
  {
   "cell_type": "code",
   "execution_count": 18,
   "id": "c87107ce",
   "metadata": {},
   "outputs": [],
   "source": [
    "from parcels import Variable\n",
    "\n",
    "class MPParticle(JITParticle):        \n",
    "    ro = Variable('ro', initial = 1025)           \n",
    "    diameter = Variable('diameter', initial = 1.6e-5)\n",
    "    length = Variable('length', initial = 61e-5)\n",
    "    Lb = Variable('Lb', initial = 6)  #days needed in days for particle to have 67% probability of beaching if in beaching zone (500m)\n",
    "    Db = Variable('Db', initial = 1000) #Distance at which particles can randomly beach.\n",
    "    Ub = Variable('Ub', initial = 69)  #days to have 67% probability of unbeaching\n",
    "    sediment = Variable('sediment', initial = 0)\n",
    "    beached = Variable('beached', initial = 0)"
   ]
  },
  {
   "cell_type": "code",
   "execution_count": 19,
   "id": "2ceb066c-22eb-4ef5-abe1-dc051ad4cc7c",
   "metadata": {},
   "outputs": [],
   "source": [
    "lon = np.zeros([N,n])\n",
    "lat = np.zeros([N,n])\n",
    "for i in range(N):\n",
    "    lon[i,:]=(clon[i] + x_offset[i,:])\n",
    "    lat[i,:]=(clat[i] + y_offset[i,:])\n",
    "z = zvals"
   ]
  },
  {
   "cell_type": "code",
   "execution_count": 20,
   "id": "92d6511f-3d0c-4a98-ad32-0d4cb970a2da",
   "metadata": {},
   "outputs": [
    {
     "name": "stdout",
     "output_type": "stream",
     "text": [
      "/home/jvalenti/MOAD/results/Beaching-Unbeachingnew220181001_1n_20181011_1n.nc\n"
     ]
    }
   ],
   "source": [
    "#Set start date time and the name of the output file\n",
    "name = 'Beaching-Unbeachingnew2' #name output file\n",
    "daterange = [start+timedelta(days=i) for i in range(length)]\n",
    "fn =  name + '_'.join(d.strftime('%Y%m%d')+'_1n' for d in [start, start+duration]) + '.nc'\n",
    "outfile = os.path.join(paths['out'], fn)\n",
    "print(outfile)"
   ]
  },
  {
   "cell_type": "markdown",
   "id": "0c4e63f2-3fb8-4526-b45a-ce5644646287",
   "metadata": {},
   "source": [
    "## Simulation"
   ]
  },
  {
   "cell_type": "code",
   "execution_count": 21,
   "id": "922eb3dc-e34d-4102-b1d4-4df9de8b2f06",
   "metadata": {},
   "outputs": [],
   "source": [
    "#Fill in the list of variables that you want to use as fields\n",
    "varlist=['U','V','W','R']\n",
    "filenames,variables,dimensions=filename_set(start,length,varlist,local)\n",
    "field_set=FieldSet.from_nemo(filenames, variables, dimensions, allow_time_extrapolation=True)\n",
    "\n",
    "varlist=['US','VS','WL']\n",
    "filenames,variables,dimensions=filename_set(start,length,varlist,local)\n",
    "\n",
    "us = Field.from_netcdf(filenames['US'], variables['US'], dimensions,allow_time_extrapolation=True)\n",
    "vs = Field.from_netcdf(filenames['VS'], variables['VS'], dimensions,allow_time_extrapolation=True)\n",
    "wl = Field.from_netcdf(filenames['WL'], variables['WL'], dimensions,allow_time_extrapolation=True)\n",
    "field_set.add_field(us)\n",
    "field_set.add_field(vs)\n",
    "field_set.add_field(wl)\n",
    "field_set.add_vector_field(VectorField(\"stokes\", us, vs, wl))\n",
    "\n",
    "filenames,variables,dimensions=filename_set(start,length,['Bathy'],local)\n",
    "Bth = Field.from_netcdf(filenames['Bathy'], variables['Bathy'], dimensions,allow_time_extrapolation=True)\n",
    "field_set.add_field(Bth)\n",
    "\n",
    "# filenames,variables,dimensions=filename_set(start,length,['D'],local)\n",
    "# Distc = Field.from_netcdf(filenames['D'], variables['D'], dimensions,allow_time_extrapolation=True)\n",
    "# field_set.add_field(Distc)"
   ]
  },
  {
   "cell_type": "code",
   "execution_count": 22,
   "id": "53f87621-a497-4575-85ba-18ec93118e44",
   "metadata": {},
   "outputs": [
    {
     "name": "stderr",
     "output_type": "stream",
     "text": [
      "INFO: Compiled ArrayMPParticleAdvectionRK4_3DBuoyancyStokes_driftBeachingUnbeaching ==> /tmp/parcels-2894/lib946d610e54ba6f74b3c895519e1fddf6_0.so\n"
     ]
    },
    {
     "name": "stdout",
     "output_type": "stream",
     "text": [
      "Particle 1670 lost !! [5400.0, 3.9697923779773325, 50.44062409724402, -126.01156917192925]\n",
      "Particle 1678 lost !! [5400.0, 4.2793165459691425, 50.46448747328525, -126.1009279237968]\n",
      "Correct cell not found for (-124.831299, 48.560161) after 1000000 iterations\n",
      "Debug info: old particle indices: (yi, xi) 429 2\n",
      "            new particle indices: (yi, xi) 430 44\n",
      "            Mesh 2d shape:  898 398\n",
      "            Relative particle position:  (xsi, eta) -4.5014257315284496e+01 8.1640877733880191e-01\n",
      "Particle 1283 lost !! [17820.0, 0.4551173243195096, 48.572911399560304, -124.82141685180402]\n",
      "Correct cell not found for (-124.802738, 48.525755) after 1000000 iterations\n",
      "Debug info: old particle indices: (yi, xi) 420 2\n",
      "            new particle indices: (yi, xi) 422 44\n",
      "            Mesh 2d shape:  898 398\n",
      "            Relative particle position:  (xsi, eta) -4.5062242238420161e+01 1.6932054322103976e-01\n",
      "Particle 1268 lost !! [18360.0, 1.2845967449758715, 48.53848703337114, -124.7928684540224]\n",
      "Correct cell not found for (-124.702818, 48.406384) after 1000000 iterations\n",
      "Debug info: old particle indices: (yi, xi) 390 2\n",
      "            new particle indices: (yi, xi) 392 44\n",
      "            Mesh 2d shape:  898 398\n",
      "            Relative particle position:  (xsi, eta) -4.5086639533449798e+01 2.1634846642299915e-01\n",
      "Correct cell not found for (-124.721040, 48.428525) after 1000000 iterations\n",
      "Debug info: old particle indices: (yi, xi) 396 2\n",
      "            new particle indices: (yi, xi) 397 44\n",
      "            Mesh 2d shape:  898 398\n",
      "            Relative particle position:  (xsi, eta) -4.5043619555760358e+01 7.2202797060228863e-01\n",
      "Particle 1239 lost !! [20610.0, 5.10846420539308, 48.419653060058174, -124.69297935724731]\n",
      "Particle 1255 lost !! [21330.0, 3.2321837385685206, 48.44174644587331, -124.71146058262464]\n"
     ]
    },
    {
     "name": "stderr",
     "output_type": "stream",
     "text": [
      "INFO: Temporary output files are stored in /home/jvalenti/MOAD/results/out-RPGGNPLK.\n",
      "INFO: You can use \"parcels_convert_npydir_to_netcdf /home/jvalenti/MOAD/results/out-RPGGNPLK\" to convert these to a NetCDF file during the run.\n",
      "  2% (19800.0 of 864000.0) |             | Elapsed Time: 0:00:02 ETA:   0:01:32"
     ]
    },
    {
     "name": "stdout",
     "output_type": "stream",
     "text": [
      "Correct cell not found for (-124.742705, 48.454263) after 1000000 iterations\n",
      "Debug info: old particle indices: (yi, xi) 402 2\n",
      "            new particle indices: (yi, xi) 404 44\n",
      "            Mesh 2d shape:  898 398\n",
      "            Relative particle position:  (xsi, eta) -4.5084769938543218e+01 2.3042181769761863e-01\n",
      "Particle 1240 lost !! [25200.0, 1.7635703371940383, 48.467233168836756, -124.73294945495545]\n"
     ]
    },
    {
     "name": "stderr",
     "output_type": "stream",
     "text": [
      "  2% (21600.0 of 864000.0) |             | Elapsed Time: 0:00:02 ETA:   0:09:17"
     ]
    },
    {
     "name": "stdout",
     "output_type": "stream",
     "text": [
      "Correct cell not found for (-124.809851, 48.534535) after 1000000 iterations\n",
      "Debug info: old particle indices: (yi, xi) 423 2\n",
      "            new particle indices: (yi, xi) 424 44\n",
      "            Mesh 2d shape:  898 398\n",
      "            Relative particle position:  (xsi, eta) -4.5053356682887426e+01 3.7788073596004201e-01\n",
      "Particle 1256 lost !! [27270.0, 0.7884994003723198, 48.54734036227246, -124.79994489893755]\n"
     ]
    },
    {
     "name": "stderr",
     "output_type": "stream",
     "text": [
      "  2% (23400.0 of 864000.0) |             | Elapsed Time: 0:00:04 ETA:   0:16:12"
     ]
    },
    {
     "name": "stdout",
     "output_type": "stream",
     "text": [
      "Correct cell not found for (-124.724623, 48.433189) after 1000000 iterations\n",
      "Debug info: old particle indices: (yi, xi) 397 2\n",
      "            new particle indices: (yi, xi) 398 44\n",
      "            Mesh 2d shape:  898 398\n",
      "            Relative particle position:  (xsi, eta) -4.5021885768011160e+01 9.2566823965421918e-01\n",
      "Particle 1220 lost !! [30510.0, 10.644707380570203, 48.446421085399884, -124.7153473784469]\n"
     ]
    },
    {
     "name": "stderr",
     "output_type": "stream",
     "text": [
      "  3% (28800.0 of 864000.0) |             | Elapsed Time: 0:00:09 ETA:   0:08:51"
     ]
    },
    {
     "name": "stdout",
     "output_type": "stream",
     "text": [
      "Correct cell not found for (-122.713376, 47.114472) after 1000000 iterations\n",
      "Debug info: old particle indices: (yi, xi) 5 137\n",
      "            new particle indices: (yi, xi) 0 134\n",
      "            Mesh 2d shape:  898 398\n",
      "            Relative particle position:  (xsi, eta) 4.2379610569324477e-01 -6.3620001902176149e-02\n",
      "Correct cell not found for (-124.825579, 48.553135) after 1000000 iterations\n",
      "Debug info: old particle indices: (yi, xi) 427 2\n",
      "            new particle indices: (yi, xi) 429 44\n",
      "            Mesh 2d shape:  898 398\n",
      "            Relative particle position:  (xsi, eta) -4.5035754990579647e+01 5.6054591228894425e-02\n",
      "Particle 842 lost !! [34560.0, 0.24040493415133124, 47.12795348139106, -122.7227936474889]\n",
      "Particle 1257 lost !! [34740.0, 5.14330337249371, 48.56630686465758, -124.81612301968198]\n"
     ]
    },
    {
     "name": "stderr",
     "output_type": "stream",
     "text": [
      "  3% (32400.0 of 864000.0) |             | Elapsed Time: 0:00:11 ETA:   0:09:27"
     ]
    },
    {
     "name": "stdout",
     "output_type": "stream",
     "text": [
      "Correct cell not found for (-124.776658, 48.495015) after 1000000 iterations\n",
      "Debug info: old particle indices: (yi, xi) 413 2\n",
      "            new particle indices: (yi, xi) 414 44\n",
      "            Mesh 2d shape:  898 398\n",
      "            Relative particle position:  (xsi, eta) -4.5057805671163408e+01 4.2419879465008525e-01\n",
      "Correct cell not found for (-124.802325, 48.525519) after 1000000 iterations\n",
      "Debug info: old particle indices: (yi, xi) 420 2\n",
      "            new particle indices: (yi, xi) 422 44\n",
      "            Mesh 2d shape:  898 398\n",
      "            Relative particle position:  (xsi, eta) -4.5030842243516936e+01 9.4429968905424502e-02\n",
      "Particle 1221 lost !! [38160.0, 9.466679592915378, 48.50815986881397, -124.7670462956771]\n",
      "Particle 1241 lost !! [38250.0, 2.3282625257560214, 48.538801192144376, -124.7926623656751]\n"
     ]
    },
    {
     "name": "stderr",
     "output_type": "stream",
     "text": [
      "  4% (41400.0 of 864000.0) |             | Elapsed Time: 0:00:18 ETA:   0:08:20"
     ]
    },
    {
     "name": "stdout",
     "output_type": "stream",
     "text": [
      "Correct cell not found for (-124.769457, 48.486557) after 1000000 iterations\n",
      "Debug info: old particle indices: (yi, xi) 411 2\n",
      "            new particle indices: (yi, xi) 412 44\n",
      "            Mesh 2d shape:  898 398\n",
      "            Relative particle position:  (xsi, eta) -4.5035426803036700e+01 3.1317377879471975e-01\n",
      "Particle 1201 lost !! [48150.0, 12.4556929073961, 48.49967082676431, -124.76022377814422]\n"
     ]
    },
    {
     "name": "stderr",
     "output_type": "stream",
     "text": [
      "  5% (50400.0 of 864000.0) |             | Elapsed Time: 0:00:23 ETA:   0:08:27"
     ]
    },
    {
     "name": "stdout",
     "output_type": "stream",
     "text": [
      "Correct cell not found for (-124.785441, 48.505543) after 1000000 iterations\n",
      "Debug info: old particle indices: (yi, xi) 415 2\n",
      "            new particle indices: (yi, xi) 417 44\n",
      "            Mesh 2d shape:  898 398\n",
      "            Relative particle position:  (xsi, eta) -4.4998862590883199e+01 8.6890496519823737e-02\n",
      "Particle 1222 lost !! [57330.0, 2.578850141720508, 48.51871762762724, -124.77566030161911]\n"
     ]
    },
    {
     "name": "stderr",
     "output_type": "stream",
     "text": [
      "  7% (66600.0 of 864000.0) |#            | Elapsed Time: 0:00:34 ETA:   0:08:09"
     ]
    },
    {
     "name": "stdout",
     "output_type": "stream",
     "text": [
      "Particle 1671 lost !! [72630.0, 17.13066742414838, 50.44012112970425, -125.99934736984052]\n"
     ]
    },
    {
     "name": "stderr",
     "output_type": "stream",
     "text": [
      "  7% (68400.0 of 864000.0) |#            | Elapsed Time: 0:00:36 ETA:   0:13:20"
     ]
    },
    {
     "name": "stdout",
     "output_type": "stream",
     "text": [
      "Correct cell not found for (-124.683978, 48.384218) after 1000000 iterations\n",
      "Debug info: old particle indices: (yi, xi) 385 2\n",
      "            new particle indices: (yi, xi) 386 44\n",
      "            Mesh 2d shape:  898 398\n",
      "            Relative particle position:  (xsi, eta) -4.5092190739831956e+01 6.4243873128171547e-01\n",
      "Particle 1219 lost !! [75060.0, 3.914298097617633, 48.39747864441592, -124.67467898094668]\n"
     ]
    },
    {
     "name": "stderr",
     "output_type": "stream",
     "text": [
      "  8% (72000.0 of 864000.0) |#            | Elapsed Time: 0:00:38 ETA:   0:08:56"
     ]
    },
    {
     "name": "stdout",
     "output_type": "stream",
     "text": [
      "Correct cell not found for (-124.869438, 48.605634) after 1000000 iterations\n",
      "Debug info: old particle indices: (yi, xi) 440 2\n",
      "            new particle indices: (yi, xi) 442 44\n",
      "            Mesh 2d shape:  898 398\n",
      "            Relative particle position:  (xsi, eta) -4.5047416343067638e+01 2.4374510918316925e-01\n",
      "Correct cell not found for (-124.872667, 48.609509) after 1000000 iterations\n",
      "Debug info: old particle indices: (yi, xi) 441 2\n",
      "            new particle indices: (yi, xi) 443 44\n",
      "            Mesh 2d shape:  898 398\n",
      "            Relative particle position:  (xsi, eta) -4.5016407335370772e+01 1.8039152705013331e-01\n",
      "Particle 1296 lost !! [78300.0, 5.24618830118613, 48.618740173819226, -124.85994498895701]\n",
      "Particle 1309 lost !! [78930.0, 4.424672335775015, 48.62257736447449, -124.86317524923533]\n"
     ]
    },
    {
     "name": "stderr",
     "output_type": "stream",
     "text": [
      "  9% (82800.0 of 864000.0) |#            | Elapsed Time: 0:00:45 ETA:   0:07:50"
     ]
    },
    {
     "name": "stdout",
     "output_type": "stream",
     "text": [
      "Correct cell not found for (-124.825461, 48.553261) after 1000000 iterations\n",
      "Debug info: old particle indices: (yi, xi) 427 2\n",
      "            new particle indices: (yi, xi) 429 44\n",
      "            Mesh 2d shape:  898 398\n",
      "            Relative particle position:  (xsi, eta) -4.5003771714582285e+01 7.2033939260067056e-02\n",
      "Particle 1183 lost !! [88560.0, 4.94605635755059, 48.56625006385629, -124.81609488405951]\n"
     ]
    },
    {
     "name": "stderr",
     "output_type": "stream",
     "text": [
      " 10% (90000.0 of 864000.0) |#            | Elapsed Time: 0:00:50 ETA:   0:09:25"
     ]
    },
    {
     "name": "stdout",
     "output_type": "stream",
     "text": [
      "Correct cell not found for (-124.905512, 48.648545) after 1000000 iterations\n",
      "Debug info: old particle indices: (yi, xi) 451 2\n",
      "            new particle indices: (yi, xi) 453 44\n",
      "            Mesh 2d shape:  898 398\n",
      "            Relative particle position:  (xsi, eta) -4.5037991192443613e+01 7.5488291713137978e-02\n",
      "Particle 1284 lost !! [96030.0, 5.664299390012131, 48.661669886749586, -124.8963662826537]\n"
     ]
    },
    {
     "name": "stderr",
     "output_type": "stream",
     "text": [
      " 10% (93600.0 of 864000.0) |#            | Elapsed Time: 0:00:53 ETA:   0:10:37"
     ]
    },
    {
     "name": "stdout",
     "output_type": "stream",
     "text": [
      "Correct cell not found for (-124.853140, 48.586177) after 1000000 iterations\n",
      "Debug info: old particle indices: (yi, xi) 436 2\n",
      "            new particle indices: (yi, xi) 437 44\n",
      "            Mesh 2d shape:  898 398\n",
      "            Relative particle position:  (xsi, eta) -4.5050125851542020e+01 3.4927014861470806e-01\n",
      "Particle 1258 lost !! [100710.0, 2.6566193616892293, 48.59905861516505, -124.84369965925092]\n"
     ]
    },
    {
     "name": "stderr",
     "output_type": "stream",
     "text": [
      " 11% (95400.0 of 864000.0) |#            | Elapsed Time: 0:00:55 ETA:   0:14:37"
     ]
    },
    {
     "name": "stdout",
     "output_type": "stream",
     "text": [
      "Correct cell not found for (-124.859972, 48.594177) after 1000000 iterations\n",
      "Debug info: old particle indices: (yi, xi) 438 2\n",
      "            new particle indices: (yi, xi) 439 44\n",
      "            Mesh 2d shape:  898 398\n",
      "            Relative particle position:  (xsi, eta) -4.5030989479529097e+01 3.5663683555011744e-01\n",
      "Particle 1202 lost !! [101970.0, 28.54212924377345, 48.60734136300087, -124.85064767136198]\n"
     ]
    },
    {
     "name": "stderr",
     "output_type": "stream",
     "text": [
      " 11% (99000.0 of 864000.0) |#            | Elapsed Time: 0:00:58 ETA:   0:08:42"
     ]
    },
    {
     "name": "stdout",
     "output_type": "stream",
     "text": [
      "Correct cell not found for (-124.836185, 48.565698) after 1000000 iterations\n",
      "Debug info: old particle indices: (yi, xi) 430 2\n",
      "            new particle indices: (yi, xi) 432 44\n",
      "            Mesh 2d shape:  898 398\n",
      "            Relative particle position:  (xsi, eta) -4.5053817973324634e+01 2.2173753346051844e-01\n",
      "Particle 1166 lost !! [104490.0, 5.058728349415166, 48.578624587467864, -124.82650297754029]\n"
     ]
    },
    {
     "name": "stderr",
     "output_type": "stream",
     "text": [
      " 11% (100800.0 of 864000.0) |#           | Elapsed Time: 0:00:58 ETA:   0:08:32"
     ]
    },
    {
     "name": "stdout",
     "output_type": "stream",
     "text": [
      "Correct cell not found for (-124.917487, 48.662542) after 1000000 iterations\n",
      "Debug info: old particle indices: (yi, xi) 455 2\n",
      "            new particle indices: (yi, xi) 456 44\n",
      "            Mesh 2d shape:  898 398\n",
      "            Relative particle position:  (xsi, eta) -4.5037817147454305e+01 5.6414604190302142e-01\n",
      "Particle 1320 lost !! [107910.0, 10.353052815859002, 48.67593012522802, -124.90840566058158]\n"
     ]
    },
    {
     "name": "stderr",
     "output_type": "stream",
     "text": [
      " 12% (108000.0 of 864000.0) |#           | Elapsed Time: 0:01:03 ETA:   0:07:29"
     ]
    },
    {
     "name": "stdout",
     "output_type": "stream",
     "text": [
      "Correct cell not found for (-124.827989, 48.556284) after 1000000 iterations\n",
      "Debug info: old particle indices: (yi, xi) 428 2\n",
      "            new particle indices: (yi, xi) 429 44\n",
      "            Mesh 2d shape:  898 398\n",
      "            Relative particle position:  (xsi, eta) -4.5041327146257963e+01 8.5246023701155749e-01\n",
      "Particle 1146 lost !! [113490.0, 1.198648202984715, 48.5691669901661, -124.81823534541806]\n"
     ]
    },
    {
     "name": "stderr",
     "output_type": "stream",
     "text": [
      " 13% (115200.0 of 864000.0) |#           | Elapsed Time: 0:01:08 ETA:   0:07:40"
     ]
    },
    {
     "name": "stdout",
     "output_type": "stream",
     "text": [
      "Correct cell not found for (-124.722748, 48.430756) after 1000000 iterations\n",
      "Debug info: old particle indices: (yi, xi) 397 2\n",
      "            new particle indices: (yi, xi) 398 44\n",
      "            Mesh 2d shape:  898 398\n",
      "            Relative particle position:  (xsi, eta) -4.5027857434817015e+01 2.8842133877400711e-01\n",
      "Particle 1182 lost !! [121410.0, 22.79788229388965, 48.44407645271788, -124.71331263216193]\n"
     ]
    },
    {
     "name": "stderr",
     "output_type": "stream",
     "text": [
      " 13% (117000.0 of 864000.0) |#           | Elapsed Time: 0:01:10 ETA:   0:14:14"
     ]
    },
    {
     "name": "stdout",
     "output_type": "stream",
     "text": [
      "Correct cell not found for (-122.726425, 47.110022) after 1000000 iterations\n",
      "Debug info: old particle indices: (yi, xi) 5 135\n",
      "            new particle indices: (yi, xi) 0 131\n",
      "            Mesh 2d shape:  898 398\n",
      "            Relative particle position:  (xsi, eta) 9.8687036472095491e-01 -3.5713212045078192e-02\n",
      "Particle 846 lost !! [122760.0, 5.238675251022825, 47.123415539020286, -122.73587951490136]\n"
     ]
    },
    {
     "name": "stderr",
     "output_type": "stream",
     "text": [
      " 13% (118800.0 of 864000.0) |#           | Elapsed Time: 0:01:10 ETA:   0:09:09"
     ]
    },
    {
     "name": "stdout",
     "output_type": "stream",
     "text": [
      "Correct cell not found for (-124.794051, 48.515979) after 1000000 iterations\n",
      "Debug info: old particle indices: (yi, xi) 418 2\n",
      "            new particle indices: (yi, xi) 419 44\n",
      "            Mesh 2d shape:  898 398\n",
      "            Relative particle position:  (xsi, eta) -4.4993645324302712e+01 7.0420511344337300e-01\n",
      "Particle 1129 lost !! [125730.0, 9.163818476403671, 48.52903796468598, -124.78426570841995]\n"
     ]
    },
    {
     "name": "stderr",
     "output_type": "stream",
     "text": [
      " 13% (120600.0 of 864000.0) |#           | Elapsed Time: 0:01:13 ETA:   0:14:16"
     ]
    },
    {
     "name": "stdout",
     "output_type": "stream",
     "text": [
      "Correct cell not found for (-124.754821, 48.468799) after 1000000 iterations\n",
      "Debug info: old particle indices: (yi, xi) 406 2\n",
      "            new particle indices: (yi, xi) 407 44\n",
      "            Mesh 2d shape:  898 398\n",
      "            Relative particle position:  (xsi, eta) -4.5080581675361799e+01 8.7791705725444602e-01\n",
      "Particle 1128 lost !! [127530.0, 1.9891487728336672, 48.48196101096977, -124.74544824070844]\n"
     ]
    },
    {
     "name": "stderr",
     "output_type": "stream",
     "text": [
      " 14% (122400.0 of 864000.0) |#           | Elapsed Time: 0:01:13 ETA:   0:09:08"
     ]
    },
    {
     "name": "stdout",
     "output_type": "stream",
     "text": [
      "Correct cell not found for (-124.729850, 48.439389) after 1000000 iterations\n",
      "Debug info: old particle indices: (yi, xi) 399 2\n",
      "            new particle indices: (yi, xi) 400 44\n",
      "            Mesh 2d shape:  898 398\n",
      "            Relative particle position:  (xsi, eta) -4.5010897771878959e+01 4.6053883351803071e-01\n",
      "Particle 1165 lost !! [127800.0, 12.714516728973432, 48.4526584015271, -124.72085999064217]\n"
     ]
    },
    {
     "name": "stderr",
     "output_type": "stream",
     "text": [
      " 17% (149400.0 of 864000.0) |##          | Elapsed Time: 0:01:31 ETA:   0:07:11"
     ]
    },
    {
     "name": "stdout",
     "output_type": "stream",
     "text": [
      "Correct cell not found for (-124.833470, 50.937783) after 1000000 iterations\n",
      "Debug info: old particle indices: (yi, xi) 891 293\n",
      "            new particle indices: (yi, xi) 896 189\n",
      "            Mesh 2d shape:  898 398\n",
      "            Relative particle position:  (xsi, eta) 1.0755897737288059e+02 8.9284647439378684e-01\n",
      "Particle 1676 lost !! [154890.0, 1.8330094891500237, 50.92459963068961, -124.8243601337303]\n"
     ]
    },
    {
     "name": "stderr",
     "output_type": "stream",
     "text": [
      " 21% (185400.0 of 864000.0) |##          | Elapsed Time: 0:01:55 ETA:   0:13:41"
     ]
    },
    {
     "name": "stdout",
     "output_type": "stream",
     "text": [
      "Correct cell not found for (-124.829598, 48.558284) after 1000000 iterations\n",
      "Debug info: old particle indices: (yi, xi) 429 2\n",
      "            new particle indices: (yi, xi) 430 44\n",
      "            Mesh 2d shape:  898 398\n",
      "            Relative particle position:  (xsi, eta) -4.5020428336845441e+01 3.4620402430748354e-01\n",
      "Particle 1115 lost !! [192330.0, 2.344365101502031, 48.571225896147254, -124.82008448194554]\n"
     ]
    },
    {
     "name": "stderr",
     "output_type": "stream",
     "text": [
      " 21% (189000.0 of 864000.0) |##          | Elapsed Time: 0:01:58 ETA:   0:13:34"
     ]
    },
    {
     "name": "stdout",
     "output_type": "stream",
     "text": [
      "Correct cell not found for (-124.831119, 48.559700) after 1000000 iterations\n",
      "Debug info: old particle indices: (yi, xi) 429 2\n",
      "            new particle indices: (yi, xi) 430 44\n",
      "            Mesh 2d shape:  898 398\n",
      "            Relative particle position:  (xsi, eta) -4.5049795364431141e+01 7.1769479240403877e-01\n",
      "Particle 1097 lost !! [195390.0, 0.26505261797090185, 48.5725815587477, -124.82146187382192]\n"
     ]
    },
    {
     "name": "stderr",
     "output_type": "stream",
     "text": [
      " 22% (192600.0 of 864000.0) |##          | Elapsed Time: 0:02:01 ETA:   0:13:34"
     ]
    },
    {
     "name": "stdout",
     "output_type": "stream",
     "text": [
      "Correct cell not found for (-124.854988, 48.588389) after 1000000 iterations\n",
      "Debug info: old particle indices: (yi, xi) 436 2\n",
      "            new particle indices: (yi, xi) 437 44\n",
      "            Mesh 2d shape:  898 398\n",
      "            Relative particle position:  (xsi, eta) -4.5020493662712347e+01 8.9244271067929315e-01\n",
      "Particle 1167 lost !! [198360.0, 2.3872720120092974, 48.60122494989259, -124.84525040095374]\n"
     ]
    },
    {
     "name": "stderr",
     "output_type": "stream",
     "text": [
      " 22% (196200.0 of 864000.0) |##          | Elapsed Time: 0:02:04 ETA:   0:13:49"
     ]
    },
    {
     "name": "stdout",
     "output_type": "stream",
     "text": [
      "Correct cell not found for (-124.695937, 48.398311) after 1000000 iterations\n",
      "Debug info: old particle indices: (yi, xi) 388 2\n",
      "            new particle indices: (yi, xi) 390 44\n",
      "            Mesh 2d shape:  898 398\n",
      "            Relative particle position:  (xsi, eta) -4.5101484311527393e+01 1.9251879141587788e-01\n",
      "Particle 1096 lost !! [201690.0, 0.1490880149314073, 48.41158417173621, -124.68582927587317]\n"
     ]
    },
    {
     "name": "stderr",
     "output_type": "stream",
     "text": [
      " 22% (198000.0 of 864000.0) |##          | Elapsed Time: 0:02:05 ETA:   0:09:19"
     ]
    },
    {
     "name": "stdout",
     "output_type": "stream",
     "text": [
      "Correct cell not found for (-124.858049, 48.591830) after 1000000 iterations\n",
      "Debug info: old particle indices: (yi, xi) 437 2\n",
      "            new particle indices: (yi, xi) 438 44\n",
      "            Mesh 2d shape:  898 398\n",
      "            Relative particle position:  (xsi, eta) -4.5039002000879776e+01 7.6861440355110622e-01\n",
      "Particle 1149 lost !! [205110.0, 6.979742075682321, 48.60467156931938, -124.84848259273993]\n"
     ]
    },
    {
     "name": "stderr",
     "output_type": "stream",
     "text": [
      " 23% (203400.0 of 864000.0) |##          | Elapsed Time: 0:02:10 ETA:   0:13:20"
     ]
    },
    {
     "name": "stdout",
     "output_type": "stream",
     "text": [
      "Correct cell not found for (-124.751361, 48.465028) after 1000000 iterations\n",
      "Debug info: old particle indices: (yi, xi) 405 2\n",
      "            new particle indices: (yi, xi) 406 44\n",
      "            Mesh 2d shape:  898 398\n",
      "            Relative particle position:  (xsi, eta) -4.4998996041316744e+01 8.8837419382625726e-01\n",
      "Particle 1055 lost !! [210240.0, 8.8770821415317, 48.47818000386691, -124.74162986053462]\n"
     ]
    },
    {
     "name": "stderr",
     "output_type": "stream",
     "text": [
      " 23% (205200.0 of 864000.0) |##          | Elapsed Time: 0:02:11 ETA:   0:09:12"
     ]
    },
    {
     "name": "stdout",
     "output_type": "stream",
     "text": [
      "Correct cell not found for (-124.730028, 48.439105) after 1000000 iterations\n",
      "Debug info: old particle indices: (yi, xi) 399 2\n",
      "            new particle indices: (yi, xi) 400 44\n",
      "            Mesh 2d shape:  898 398\n",
      "            Relative particle position:  (xsi, eta) -4.5070674028438930e+01 4.1628388183701026e-01\n",
      "Particle 1027 lost !! [211500.0, 10.780841494889684, 48.45239693147419, -124.72048193900775]\n"
     ]
    },
    {
     "name": "stderr",
     "output_type": "stream",
     "text": [
      " 23% (207000.0 of 864000.0) |##          | Elapsed Time: 0:02:14 ETA:   0:14:50"
     ]
    },
    {
     "name": "stdout",
     "output_type": "stream",
     "text": [
      "Correct cell not found for (-124.770942, 48.488317) after 1000000 iterations\n",
      "Debug info: old particle indices: (yi, xi) 411 2\n",
      "            new particle indices: (yi, xi) 412 44\n",
      "            Mesh 2d shape:  898 398\n",
      "            Relative particle position:  (xsi, eta) -4.5023716531556829e+01 7.3248364864977900e-01\n",
      "Correct cell not found for (-124.909543, 48.653406) after 1000000 iterations\n",
      "Debug info: old particle indices: (yi, xi) 453 2\n",
      "            new particle indices: (yi, xi) 454 44\n",
      "            Mesh 2d shape:  898 398\n",
      "            Relative particle position:  (xsi, eta) -4.4987142883738507e+01 2.6572243124857908e-01\n",
      "Particle 1074 lost !! [213030.0, 1.0113706968935896, 48.501374349269284, -124.76109789442431]\n",
      "Particle 1270 lost !! [213840.0, 11.728188048278708, 48.666521597419695, -124.90043519892448]\n"
     ]
    },
    {
     "name": "stderr",
     "output_type": "stream",
     "text": [
      " 24% (212400.0 of 864000.0) |##          | Elapsed Time: 0:02:18 ETA:   0:07:05"
     ]
    },
    {
     "name": "stdout",
     "output_type": "stream",
     "text": [
      "Correct cell not found for (-124.774232, 48.491807) after 1000000 iterations\n",
      "Debug info: old particle indices: (yi, xi) 412 2\n",
      "            new particle indices: (yi, xi) 413 44\n",
      "            Mesh 2d shape:  898 398\n",
      "            Relative particle position:  (xsi, eta) -4.5100638400002495e+01 6.3729419647418517e-01\n",
      "Correct cell not found for (-124.785117, 48.505194) after 1000000 iterations\n",
      "Debug info: old particle indices: (yi, xi) 415 2\n",
      "            new particle indices: (yi, xi) 416 44\n",
      "            Mesh 2d shape:  898 398\n",
      "            Relative particle position:  (xsi, eta) -4.4992503500400318e+01 9.9981679083217545e-01\n",
      "Particle 1148 lost !! [219330.0, 6.335087107037908, 48.504904203637984, -124.76463980976608]\n",
      "Particle 1150 lost !! [217890.0, 13.586557569204668, 48.51829424426902, -124.775633559194]\n"
     ]
    },
    {
     "name": "stderr",
     "output_type": "stream",
     "text": [
      " 25% (216000.0 of 864000.0) |###         | Elapsed Time: 0:02:21 ETA:   0:09:05"
     ]
    },
    {
     "name": "stdout",
     "output_type": "stream",
     "text": [
      "Correct cell not found for (-124.795910, 48.518016) after 1000000 iterations\n",
      "Debug info: old particle indices: (yi, xi) 418 2\n",
      "            new particle indices: (yi, xi) 420 44\n",
      "            Mesh 2d shape:  898 398\n",
      "            Relative particle position:  (xsi, eta) -4.5010346142227512e+01 2.2836311608941245e-01\n",
      "Particle 1130 lost !! [222930.0, 20.623858883380397, 48.53121993192804, -124.78671048167274]\n"
     ]
    },
    {
     "name": "stderr",
     "output_type": "stream",
     "text": [
      " 25% (219600.0 of 864000.0) |###         | Elapsed Time: 0:02:24 ETA:   0:10:40"
     ]
    },
    {
     "name": "stdout",
     "output_type": "stream",
     "text": [
      "Correct cell not found for (-124.764377, 48.480476) after 1000000 iterations\n",
      "Debug info: old particle indices: (yi, xi) 409 2\n",
      "            new particle indices: (yi, xi) 410 44\n",
      "            Mesh 2d shape:  898 398\n",
      "            Relative particle position:  (xsi, eta) -4.5014581060683753e+01 7.7538412924689237e-01\n",
      "Particle 1028 lost !! [225450.0, 7.436881508703883, 48.493483337139075, -124.75507576585777]\n"
     ]
    },
    {
     "name": "stderr",
     "output_type": "stream",
     "text": [
      " 27% (237600.0 of 864000.0) |###         | Elapsed Time: 0:02:38 ETA:   0:07:43"
     ]
    },
    {
     "name": "stdout",
     "output_type": "stream",
     "text": [
      "Correct cell not found for (-124.808759, 48.533143) after 1000000 iterations\n",
      "Debug info: old particle indices: (yi, xi) 422 2\n",
      "            new particle indices: (yi, xi) 424 44\n",
      "            Mesh 2d shape:  898 398\n",
      "            Relative particle position:  (xsi, eta) -4.5082040872608047e+01 4.1234331916224595e-02\n",
      "Particle 1203 lost !! [244710.0, 1.1300829453594938, 48.54586530196493, -124.79903007473762]\n"
     ]
    },
    {
     "name": "stderr",
     "output_type": "stream",
     "text": [
      " 29% (252000.0 of 864000.0) |###         | Elapsed Time: 0:02:48 ETA:   0:06:12"
     ]
    },
    {
     "name": "stdout",
     "output_type": "stream",
     "text": [
      "Correct cell not found for (-124.820617, 48.547448) after 1000000 iterations\n",
      "Debug info: old particle indices: (yi, xi) 426 2\n",
      "            new particle indices: (yi, xi) 427 44\n",
      "            Mesh 2d shape:  898 398\n",
      "            Relative particle position:  (xsi, eta) -4.5040381486385229e+01 5.9921833405164604e-01\n",
      "Particle 1114 lost !! [258930.0, 44.90370902913086, 48.56036797534454, -124.81117376765384]\n"
     ]
    },
    {
     "name": "stderr",
     "output_type": "stream",
     "text": [
      " 32% (277200.0 of 864000.0) |###         | Elapsed Time: 0:03:04 ETA:   0:05:54"
     ]
    },
    {
     "name": "stdout",
     "output_type": "stream",
     "text": [
      "Correct cell not found for (-124.864440, 48.599747) after 1000000 iterations\n",
      "Debug info: old particle indices: (yi, xi) 439 2\n",
      "            new particle indices: (yi, xi) 440 44\n",
      "            Mesh 2d shape:  898 398\n",
      "            Relative particle position:  (xsi, eta) -4.5037244148973301e+01 7.6440320760761660e-01\n",
      "Particle 1242 lost !! [284130.0, 1.2679654971944834, 48.61285316885065, -124.85514438818099]\n"
     ]
    },
    {
     "name": "stderr",
     "output_type": "stream",
     "text": [
      " 32% (282600.0 of 864000.0) |###         | Elapsed Time: 0:03:08 ETA:   0:05:58"
     ]
    },
    {
     "name": "stdout",
     "output_type": "stream",
     "text": [
      "Correct cell not found for (-124.875722, 48.613180) after 1000000 iterations\n",
      "Debug info: old particle indices: (yi, xi) 442 2\n",
      "            new particle indices: (yi, xi) 444 44\n",
      "            Mesh 2d shape:  898 398\n",
      "            Relative particle position:  (xsi, eta) -4.4993167367409953e+01 1.3086054179488046e-01\n",
      "Particle 1297 lost !! [288180.0, 4.777866482594602, 48.62625474053667, -124.8663117908501]\n"
     ]
    },
    {
     "name": "stderr",
     "output_type": "stream",
     "text": [
      " 33% (286200.0 of 864000.0) |###         | Elapsed Time: 0:03:10 ETA:   0:06:44"
     ]
    },
    {
     "name": "stdout",
     "output_type": "stream",
     "text": [
      "Correct cell not found for (-124.790071, 48.510893) after 1000000 iterations\n",
      "Debug info: old particle indices: (yi, xi) 417 2\n",
      "            new particle indices: (yi, xi) 418 44\n",
      "            Mesh 2d shape:  898 398\n",
      "            Relative particle position:  (xsi, eta) -4.5058836017803522e+01 4.2396532119619484e-01\n",
      "Particle 1054 lost !! [292680.0, 17.89903390676464, 48.52393005234967, -124.78049799432371]\n"
     ]
    },
    {
     "name": "stderr",
     "output_type": "stream",
     "text": [
      " 34% (298800.0 of 864000.0) |####        | Elapsed Time: 0:03:18 ETA:   0:05:55"
     ]
    },
    {
     "name": "stdout",
     "output_type": "stream",
     "text": [
      "Correct cell not found for (-124.733092, 48.442866) after 1000000 iterations\n",
      "Debug info: old particle indices: (yi, xi) 400 2\n",
      "            new particle indices: (yi, xi) 401 44\n",
      "            Mesh 2d shape:  898 398\n",
      "            Relative particle position:  (xsi, eta) -4.5082111522865333e+01 3.7776832488414486e-01\n",
      "Particle 970 lost !! [304650.0, 4.58884007335257, 48.456229403062856, -124.72332105632997]\n"
     ]
    },
    {
     "name": "stderr",
     "output_type": "stream",
     "text": [
      " 35% (302400.0 of 864000.0) |####        | Elapsed Time: 0:03:20 ETA:   0:06:23"
     ]
    },
    {
     "name": "stdout",
     "output_type": "stream",
     "text": [
      "Correct cell not found for (-124.732748, 48.442616) after 1000000 iterations\n",
      "Debug info: old particle indices: (yi, xi) 400 2\n",
      "            new particle indices: (yi, xi) 401 44\n",
      "            Mesh 2d shape:  898 398\n",
      "            Relative particle position:  (xsi, eta) -4.5061047159125742e+01 3.0740765877093618e-01\n",
      "Particle 1007 lost !! [309150.0, 3.3169956936293645, 48.455987848318266, -124.72309585965611]\n"
     ]
    },
    {
     "name": "stderr",
     "output_type": "stream",
     "text": [
      " 37% (327600.0 of 864000.0) |####        | Elapsed Time: 0:03:36 ETA:   0:05:34"
     ]
    },
    {
     "name": "stdout",
     "output_type": "stream",
     "text": [
      "Correct cell not found for (-122.652759, 47.136112) after 1000000 iterations\n",
      "Debug info: old particle indices: (yi, xi) 5 149\n",
      "            new particle indices: (yi, xi) 0 145\n",
      "            Mesh 2d shape:  898 398\n",
      "            Relative particle position:  (xsi, eta) 8.6091493466647528e-01 -3.6544972755398384e-03\n",
      "Particle 844 lost !! [334710.0, 66.48982709535956, 47.14938983643533, -122.66161380996095]\n"
     ]
    },
    {
     "name": "stderr",
     "output_type": "stream",
     "text": [
      " 38% (329400.0 of 864000.0) |####        | Elapsed Time: 0:03:38 ETA:   0:10:22"
     ]
    },
    {
     "name": "stdout",
     "output_type": "stream",
     "text": [
      "Correct cell not found for (-124.791519, 48.512635) after 1000000 iterations\n",
      "Debug info: old particle indices: (yi, xi) 417 2\n",
      "            new particle indices: (yi, xi) 418 44\n",
      "            Mesh 2d shape:  898 398\n",
      "            Relative particle position:  (xsi, eta) -4.5079230243398634e+01 8.7272944934270280e-01\n",
      "Particle 1050 lost !! [335520.0, 26.621873119809838, 48.52553063215056, -124.78186175731683]\n"
     ]
    },
    {
     "name": "stderr",
     "output_type": "stream",
     "text": [
      " 40% (349200.0 of 864000.0) |####        | Elapsed Time: 0:03:50 ETA:   0:05:22"
     ]
    },
    {
     "name": "stdout",
     "output_type": "stream",
     "text": [
      "Correct cell not found for (-124.862111, 48.596888) after 1000000 iterations\n",
      "Debug info: old particle indices: (yi, xi) 438 2\n",
      "            new particle indices: (yi, xi) 440 44\n",
      "            Mesh 2d shape:  898 398\n",
      "            Relative particle position:  (xsi, eta) -4.5010995708048824e+01 3.0970552580290061e-02\n",
      "Particle 987 lost !! [355680.0, 9.167931810388572, 48.609926116605315, -124.85275004564086]\n"
     ]
    },
    {
     "name": "stderr",
     "output_type": "stream",
     "text": [
      " 40% (351000.0 of 864000.0) |####        | Elapsed Time: 0:03:52 ETA:   0:10:19"
     ]
    },
    {
     "name": "stdout",
     "output_type": "stream",
     "text": [
      "Correct cell not found for (-124.774030, 48.491945) after 1000000 iterations\n",
      "Debug info: old particle indices: (yi, xi) 412 2\n",
      "            new particle indices: (yi, xi) 413 44\n",
      "            Mesh 2d shape:  898 398\n",
      "            Relative particle position:  (xsi, eta) -4.5054501304586609e+01 6.4958972558743744e-01\n",
      "Particle 973 lost !! [357930.0, 2.298173462325728, 48.50498741814627, -124.7647620170348]\n"
     ]
    },
    {
     "name": "stderr",
     "output_type": "stream",
     "text": [
      " 43% (376200.0 of 864000.0) |#####       | Elapsed Time: 0:04:09 ETA:   0:09:55"
     ]
    },
    {
     "name": "stdout",
     "output_type": "stream",
     "text": [
      "Correct cell not found for (-124.840822, 48.571670) after 1000000 iterations\n",
      "Debug info: old particle indices: (yi, xi) 432 2\n",
      "            new particle indices: (yi, xi) 433 44\n",
      "            Mesh 2d shape:  898 398\n",
      "            Relative particle position:  (xsi, eta) -4.5052592540868652e+01 6.9292052721088160e-01\n",
      "Particle 1035 lost !! [382320.0, 0.7533409941311646, 48.58445371415783, -124.83112253097302]\n"
     ]
    },
    {
     "name": "stderr",
     "output_type": "stream",
     "text": [
      " 43% (378000.0 of 864000.0) |#####       | Elapsed Time: 0:04:10 ETA:   0:06:31"
     ]
    },
    {
     "name": "stdout",
     "output_type": "stream",
     "text": [
      "Correct cell not found for (-124.717335, 48.424282) after 1000000 iterations\n",
      "Debug info: old particle indices: (yi, xi) 395 2\n",
      "            new particle indices: (yi, xi) 396 44\n",
      "            Mesh 2d shape:  898 398\n",
      "            Relative particle position:  (xsi, eta) -4.5032297719323594e+01 6.6369703112816547e-01\n",
      "Correct cell not found for (-124.768289, 48.485047) after 1000000 iterations\n",
      "Debug info: old particle indices: (yi, xi) 410 2\n",
      "            new particle indices: (yi, xi) 411 44\n",
      "            Mesh 2d shape:  898 398\n",
      "            Relative particle position:  (xsi, eta) -4.5057336425089922e+01 9.5712846175647370e-01\n",
      "Correct cell not found for (-124.902832, 48.645382) after 1000000 iterations\n",
      "Debug info: old particle indices: (yi, xi) 450 2\n",
      "            new particle indices: (yi, xi) 452 44\n",
      "            Mesh 2d shape:  898 398\n",
      "            Relative particle position:  (xsi, eta) -4.5056136788130672e+01 2.5325148217178045e-01\n",
      "Particle 1049 lost !! [384480.0, 6.887980036521613, 48.43752821305664, -124.70756417539592]\n",
      "Particle 1076 lost !! [384660.0, 1.9889796477346156, 48.49803406825409, -124.75839886456248]\n",
      "Particle 1147 lost !! [384750.0, 2.067913114870872, 48.65857497407414, -124.89358379102632]\n"
     ]
    },
    {
     "name": "stderr",
     "output_type": "stream",
     "text": [
      " 43% (379800.0 of 864000.0) |#####       | Elapsed Time: 0:04:13 ETA:   0:11:22"
     ]
    },
    {
     "name": "stdout",
     "output_type": "stream",
     "text": [
      "Correct cell not found for (-124.759370, 48.474245) after 1000000 iterations\n",
      "Debug info: old particle indices: (yi, xi) 407 2\n",
      "            new particle indices: (yi, xi) 409 44\n",
      "            Mesh 2d shape:  898 398\n",
      "            Relative particle position:  (xsi, eta) -4.5063371975215112e+01 1.9668155377944324e-01\n",
      "Particle 992 lost !! [386640.0, 1.43659802044043, 48.48731109518223, -124.7494889982083]\n"
     ]
    },
    {
     "name": "stderr",
     "output_type": "stream",
     "text": [
      " 44% (383400.0 of 864000.0) |#####       | Elapsed Time: 0:04:15 ETA:   0:09:36"
     ]
    },
    {
     "name": "stdout",
     "output_type": "stream",
     "text": [
      "Correct cell not found for (-124.856232, 48.589891) after 1000000 iterations\n",
      "Debug info: old particle indices: (yi, xi) 437 2\n",
      "            new particle indices: (yi, xi) 438 44\n",
      "            Mesh 2d shape:  898 398\n",
      "            Relative particle position:  (xsi, eta) -4.5012020689739494e+01 2.6688603034484787e-01\n",
      "Particle 974 lost !! [388980.0, 4.866738848700238, 48.602697335027, -124.846800468713]\n"
     ]
    },
    {
     "name": "stderr",
     "output_type": "stream",
     "text": [
      " 45% (388800.0 of 864000.0) |#####       | Elapsed Time: 0:04:19 ETA:   0:05:42"
     ]
    },
    {
     "name": "stdout",
     "output_type": "stream",
     "text": [
      "Correct cell not found for (-124.811654, 48.536713) after 1000000 iterations\n",
      "Debug info: old particle indices: (yi, xi) 423 2\n",
      "            new particle indices: (yi, xi) 424 44\n",
      "            Mesh 2d shape:  898 398\n",
      "            Relative particle position:  (xsi, eta) -4.5022257700294197e+01 9.1100299640152271e-01\n",
      "Particle 1008 lost !! [394740.0, 15.988817808878403, 48.54988298002644, -124.80235270306895]\n"
     ]
    },
    {
     "name": "stderr",
     "output_type": "stream",
     "text": [
      " 45% (394200.0 of 864000.0) |#####       | Elapsed Time: 0:04:24 ETA:   0:06:31"
     ]
    },
    {
     "name": "stdout",
     "output_type": "stream",
     "text": [
      "Correct cell not found for (-124.796928, 48.518710) after 1000000 iterations\n",
      "Debug info: old particle indices: (yi, xi) 419 2\n",
      "            new particle indices: (yi, xi) 420 44\n",
      "            Mesh 2d shape:  898 398\n",
      "            Relative particle position:  (xsi, eta) -4.5088807781628944e+01 4.3276965332069278e-01\n",
      "Particle 1029 lost !! [400680.0, 3.003738523941096, 48.53191913430314, -124.78730020208636]\n"
     ]
    },
    {
     "name": "stderr",
     "output_type": "stream",
     "text": [
      " 45% (396000.0 of 864000.0) |#####       | Elapsed Time: 0:04:25 ETA:   0:05:19"
     ]
    },
    {
     "name": "stdout",
     "output_type": "stream",
     "text": [
      "Correct cell not found for (-124.764829, 48.480752) after 1000000 iterations\n",
      "Debug info: old particle indices: (yi, xi) 409 2\n",
      "            new particle indices: (yi, xi) 410 44\n",
      "            Mesh 2d shape:  898 398\n",
      "            Relative particle position:  (xsi, eta) -4.5040604308418231e+01 8.6134620855568367e-01\n",
      "Particle 988 lost !! [402570.0, 18.263768772355892, 48.493961712930236, -124.75552343249852]\n"
     ]
    },
    {
     "name": "stderr",
     "output_type": "stream",
     "text": [
      " 46% (401400.0 of 864000.0) |#####       | Elapsed Time: 0:04:29 ETA:   0:04:39"
     ]
    },
    {
     "name": "stdout",
     "output_type": "stream",
     "text": [
      "Correct cell not found for (-124.797415, 48.519872) after 1000000 iterations\n",
      "Debug info: old particle indices: (yi, xi) 419 2\n",
      "            new particle indices: (yi, xi) 420 44\n",
      "            Mesh 2d shape:  898 398\n",
      "            Relative particle position:  (xsi, eta) -4.5035464521865435e+01 6.8809735979831299e-01\n",
      "Particle 1224 lost !! [407160.0, 2.7849424097651903, 48.533066490662094, -124.78800762573148]\n"
     ]
    },
    {
     "name": "stderr",
     "output_type": "stream",
     "text": [
      " 46% (405000.0 of 864000.0) |#####       | Elapsed Time: 0:04:31 ETA:   0:05:07"
     ]
    },
    {
     "name": "stdout",
     "output_type": "stream",
     "text": [
      "Correct cell not found for (-124.805085, 48.528912) after 1000000 iterations\n",
      "Debug info: old particle indices: (yi, xi) 421 2\n",
      "            new particle indices: (yi, xi) 422 44\n",
      "            Mesh 2d shape:  898 398\n",
      "            Relative particle position:  (xsi, eta) -4.5016452898509215e+01 9.4282477404826237e-01\n",
      "Particle 1051 lost !! [412110.0, 5.826283464674975, 48.54210363617199, -124.79574218904885]\n"
     ]
    },
    {
     "name": "stderr",
     "output_type": "stream",
     "text": [
      " 47% (406800.0 of 864000.0) |#####       | Elapsed Time: 0:04:32 ETA:   0:05:07"
     ]
    },
    {
     "name": "stdout",
     "output_type": "stream",
     "text": [
      "Correct cell not found for (-124.785557, 48.505569) after 1000000 iterations\n",
      "Debug info: old particle indices: (yi, xi) 415 2\n",
      "            new particle indices: (yi, xi) 417 44\n",
      "            Mesh 2d shape:  898 398\n",
      "            Relative particle position:  (xsi, eta) -4.5012950162027678e+01 9.9938395761110771e-02\n",
      "Particle 994 lost !! [413280.0, 0.46730507706781466, 48.51857055825238, -124.77608038312408]\n"
     ]
    },
    {
     "name": "stderr",
     "output_type": "stream",
     "text": [
      " 53% (462600.0 of 864000.0) |######      | Elapsed Time: 0:05:08 ETA:   0:04:42"
     ]
    },
    {
     "name": "stdout",
     "output_type": "stream",
     "text": [
      "Correct cell not found for (-124.815265, 48.541204) after 1000000 iterations\n",
      "Debug info: old particle indices: (yi, xi) 424 2\n",
      "            new particle indices: (yi, xi) 426 44\n",
      "            Mesh 2d shape:  898 398\n",
      "            Relative particle position:  (xsi, eta) -4.4994110096026695e+01 2.9269346149745756e-02\n",
      "Particle 1059 lost !! [468090.0, 9.70189083480814, 48.55414327597021, -124.80560839452968]\n"
     ]
    },
    {
     "name": "stderr",
     "output_type": "stream",
     "text": [
      " 53% (466200.0 of 864000.0) |######      | Elapsed Time: 0:05:10 ETA:   0:04:18"
     ]
    },
    {
     "name": "stdout",
     "output_type": "stream",
     "text": [
      "Correct cell not found for (-124.717638, 48.424266) after 1000000 iterations\n",
      "Debug info: old particle indices: (yi, xi) 395 2\n",
      "            new particle indices: (yi, xi) 396 44\n",
      "            Mesh 2d shape:  898 398\n",
      "            Relative particle position:  (xsi, eta) -4.5078219832632378e+01 6.8136468728561350e-01\n",
      "Particle 931 lost !! [473220.0, 1.6079831322584182, 48.437597573355696, -124.70809441442336]\n"
     ]
    },
    {
     "name": "stderr",
     "output_type": "stream",
     "text": [
      " 54% (468000.0 of 864000.0) |######      | Elapsed Time: 0:05:11 ETA:   0:04:17"
     ]
    },
    {
     "name": "stdout",
     "output_type": "stream",
     "text": [
      "Correct cell not found for (-124.901536, 48.643771) after 1000000 iterations\n",
      "Debug info: old particle indices: (yi, xi) 450 2\n",
      "            new particle indices: (yi, xi) 451 44\n",
      "            Mesh 2d shape:  898 398\n",
      "            Relative particle position:  (xsi, eta) -4.5062409376747155e+01 8.3868778358066598e-01\n",
      "Particle 1184 lost !! [473490.0, 17.574688484539703, 48.657034747410464, -124.89236812484988]\n"
     ]
    },
    {
     "name": "stderr",
     "output_type": "stream",
     "text": [
      " 54% (469800.0 of 864000.0) |######      | Elapsed Time: 0:05:13 ETA:   0:04:39"
     ]
    },
    {
     "name": "stdout",
     "output_type": "stream",
     "text": [
      "Correct cell not found for (-124.833178, 48.562585) after 1000000 iterations\n",
      "Debug info: old particle indices: (yi, xi) 430 2\n",
      "            new particle indices: (yi, xi) 431 44\n",
      "            Mesh 2d shape:  898 398\n",
      "            Relative particle position:  (xsi, eta) -4.4981187199250733e+01 4.1128545292301066e-01\n",
      "Particle 1131 lost !! [476100.0, 17.64738337335126, 48.575517256492695, -124.82362736920143]\n"
     ]
    },
    {
     "name": "stderr",
     "output_type": "stream",
     "text": [
      " 54% (471600.0 of 864000.0) |######      | Elapsed Time: 0:05:14 ETA:   0:04:41"
     ]
    },
    {
     "name": "stdout",
     "output_type": "stream",
     "text": [
      "Correct cell not found for (-124.729131, 48.438266) after 1000000 iterations\n",
      "Debug info: old particle indices: (yi, xi) 398 2\n",
      "            new particle indices: (yi, xi) 400 44\n",
      "            Mesh 2d shape:  898 398\n",
      "            Relative particle position:  (xsi, eta) -4.5035488231533272e+01 1.7750245038422274e-01\n",
      "Particle 1060 lost !! [477720.0, 0.4775228665554107, 48.45155714827926, -124.71948459272625]\n"
     ]
    },
    {
     "name": "stderr",
     "output_type": "stream",
     "text": [
      " 55% (475200.0 of 864000.0) |######      | Elapsed Time: 0:05:16 ETA:   0:04:18"
     ]
    },
    {
     "name": "stdout",
     "output_type": "stream",
     "text": [
      "Correct cell not found for (-124.759885, 48.474864) after 1000000 iterations\n",
      "Debug info: old particle indices: (yi, xi) 408 2\n",
      "            new particle indices: (yi, xi) 409 44\n",
      "            Mesh 2d shape:  898 398\n",
      "            Relative particle position:  (xsi, eta) -4.5070679814643690e+01 3.5614891756895400e-01\n",
      "Correct cell not found for (-124.773591, 48.491067) after 1000000 iterations\n",
      "Debug info: old particle indices: (yi, xi) 412 2\n",
      "            new particle indices: (yi, xi) 413 44\n",
      "            Mesh 2d shape:  898 398\n",
      "            Relative particle position:  (xsi, eta) -4.5088037091078874e+01 4.4475254971949130e-01\n",
      "Correct cell not found for (-124.768958, 48.485978) after 1000000 iterations\n",
      "Debug info: old particle indices: (yi, xi) 410 2\n",
      "            new particle indices: (yi, xi) 412 44\n",
      "            Mesh 2d shape:  898 398\n",
      "            Relative particle position:  (xsi, eta) -4.5037656250921728e+01 1.7442399291626670e-01\n",
      "Particle 960 lost !! [481410.0, 10.839155784274388, 48.488012240329354, -124.75005279844166]\n",
      "Particle 1053 lost !! [481410.0, 13.08702083261305, 48.50414438086685, -124.76377133623846]\n",
      "Particle 1101 lost !! [480690.0, 20.939030519165026, 48.49910188748934, -124.7592264289165]\n"
     ]
    },
    {
     "name": "stderr",
     "output_type": "stream",
     "text": [
      " 55% (477000.0 of 864000.0) |######      | Elapsed Time: 0:05:18 ETA:   0:07:29"
     ]
    },
    {
     "name": "stdout",
     "output_type": "stream",
     "text": [
      "Correct cell not found for (-124.869084, 48.605233) after 1000000 iterations\n",
      "Debug info: old particle indices: (yi, xi) 440 2\n",
      "            new particle indices: (yi, xi) 442 44\n",
      "            Mesh 2d shape:  898 398\n",
      "            Relative particle position:  (xsi, eta) -4.5048029264662297e+01 1.4702284809399591e-01\n",
      "Particle 1052 lost !! [483480.0, 3.852144165605154, 48.61815420216352, -124.85978199295687]\n"
     ]
    },
    {
     "name": "stderr",
     "output_type": "stream",
     "text": [
      " 55% (482400.0 of 864000.0) |######      | Elapsed Time: 0:05:21 ETA:   0:03:50"
     ]
    },
    {
     "name": "stdout",
     "output_type": "stream",
     "text": [
      "Correct cell not found for (-124.761526, 48.476978) after 1000000 iterations\n",
      "Debug info: old particle indices: (yi, xi) 408 2\n",
      "            new particle indices: (yi, xi) 409 44\n",
      "            Mesh 2d shape:  898 398\n",
      "            Relative particle position:  (xsi, eta) -4.5078122365657933e+01 8.9215257175294249e-01\n",
      "Particle 1014 lost !! [489240.0, 3.0567922539062278, 48.49024540254025, -124.75199733255403]\n"
     ]
    },
    {
     "name": "stderr",
     "output_type": "stream",
     "text": [
      " 58% (504000.0 of 864000.0) |#######     | Elapsed Time: 0:05:35 ETA:   0:03:35"
     ]
    },
    {
     "name": "stdout",
     "output_type": "stream",
     "text": [
      "Correct cell not found for (-124.778585, 48.497524) after 1000000 iterations\n",
      "Debug info: old particle indices: (yi, xi) 413 2\n",
      "            new particle indices: (yi, xi) 415 44\n",
      "            Mesh 2d shape:  898 398\n",
      "            Relative particle position:  (xsi, eta) -4.5003181705000934e+01 2.9387396893027443e-02\n",
      "Particle 1244 lost !! [510390.0, 44.23429558529909, 48.510614643999816, -124.76914619116542]\n"
     ]
    },
    {
     "name": "stderr",
     "output_type": "stream",
     "text": [
      " 59% (511200.0 of 864000.0) |#######     | Elapsed Time: 0:05:40 ETA:   0:03:32"
     ]
    },
    {
     "name": "stdout",
     "output_type": "stream",
     "text": [
      "Correct cell not found for (-124.771109, 48.488274) after 1000000 iterations\n",
      "Debug info: old particle indices: (yi, xi) 411 2\n",
      "            new particle indices: (yi, xi) 412 44\n",
      "            Mesh 2d shape:  898 398\n",
      "            Relative particle position:  (xsi, eta) -4.5053444433119196e+01 7.3592328582620048e-01\n",
      "Particle 1269 lost !! [517500.0, 39.827061925798525, 48.501362638123894, -124.76139764469045]\n"
     ]
    },
    {
     "name": "stderr",
     "output_type": "stream",
     "text": [
      " 60% (520200.0 of 864000.0) |#######     | Elapsed Time: 0:05:46 ETA:   0:03:17"
     ]
    },
    {
     "name": "stdout",
     "output_type": "stream",
     "text": [
      "Correct cell not found for (-124.798892, 48.521647) after 1000000 iterations\n",
      "Debug info: old particle indices: (yi, xi) 419 2\n",
      "            new particle indices: (yi, xi) 421 44\n",
      "            Mesh 2d shape:  898 398\n",
      "            Relative particle position:  (xsi, eta) -4.5049243041896403e+01 1.2834808999244446e-01\n",
      "Particle 964 lost !! [526680.0, 13.220622605706243, 48.53457792858566, -124.78922238428501]\n"
     ]
    },
    {
     "name": "stderr",
     "output_type": "stream",
     "text": [
      " 63% (547200.0 of 864000.0) |#######     | Elapsed Time: 0:06:05 ETA:   0:03:28"
     ]
    },
    {
     "name": "stdout",
     "output_type": "stream",
     "text": [
      "Correct cell not found for (-124.806539, 48.530586) after 1000000 iterations\n",
      "Debug info: old particle indices: (yi, xi) 422 2\n",
      "            new particle indices: (yi, xi) 423 44\n",
      "            Mesh 2d shape:  898 398\n",
      "            Relative particle position:  (xsi, eta) -4.5042295147241290e+01 3.7733645226550067e-01\n",
      "Particle 919 lost !! [554130.0, 6.5898994861786715, 48.543524838109356, -124.79693508073234]\n"
     ]
    },
    {
     "name": "stderr",
     "output_type": "stream",
     "text": [
      " 63% (549000.0 of 864000.0) |#######     | Elapsed Time: 0:06:07 ETA:   0:06:35"
     ]
    },
    {
     "name": "stdout",
     "output_type": "stream",
     "text": [
      "Correct cell not found for (-124.922241, 48.668502) after 1000000 iterations\n",
      "Debug info: old particle indices: (yi, xi) 456 2\n",
      "            new particle indices: (yi, xi) 458 44\n",
      "            Mesh 2d shape:  898 398\n",
      "            Relative particle position:  (xsi, eta) -4.4997909023249548e+01 4.8855992865848193e-02\n",
      "Particle 1271 lost !! [556020.0, 30.388922911289175, 48.68178657911023, -124.9132386600855]\n"
     ]
    },
    {
     "name": "stderr",
     "output_type": "stream",
     "text": [
      " 64% (556200.0 of 864000.0) |#######     | Elapsed Time: 0:06:13 ETA:   0:03:20"
     ]
    },
    {
     "name": "stdout",
     "output_type": "stream",
     "text": [
      "Correct cell not found for (-124.821438, 48.548535) after 1000000 iterations\n",
      "Debug info: old particle indices: (yi, xi) 426 2\n",
      "            new particle indices: (yi, xi) 427 44\n",
      "            Mesh 2d shape:  898 398\n",
      "            Relative particle position:  (xsi, eta) -4.5019331023061028e+01 8.5164694327364521e-01\n",
      "Correct cell not found for (-124.903544, 48.646087) after 1000000 iterations\n",
      "Debug info: old particle indices: (yi, xi) 451 2\n",
      "            new particle indices: (yi, xi) 452 44\n",
      "            Mesh 2d shape:  898 398\n",
      "            Relative particle position:  (xsi, eta) -4.5069145400649667e+01 4.4596024250654720e-01\n",
      "Particle 971 lost !! [561870.0, 21.495122983942316, 48.561469835447106, -124.81165566684952]\n",
      "Particle 1034 lost !! [563220.0, 27.469375677130714, 48.659413882430236, -124.89435718261502]\n"
     ]
    },
    {
     "name": "stderr",
     "output_type": "stream",
     "text": [
      " 65% (561600.0 of 864000.0) |#######     | Elapsed Time: 0:06:21 ETA:   0:12:15"
     ]
    },
    {
     "name": "stdout",
     "output_type": "stream",
     "text": [
      "Correct cell not found for (-124.746286, 48.458873) after 1000000 iterations\n",
      "Debug info: old particle indices: (yi, xi) 404 2\n",
      "            new particle indices: (yi, xi) 405 44\n",
      "            Mesh 2d shape:  898 398\n",
      "            Relative particle position:  (xsi, eta) -4.5013111049026790e+01 3.7311154982803812e-01\n",
      "Correct cell not found for (-124.906612, 48.649780) after 1000000 iterations\n",
      "Debug info: old particle indices: (yi, xi) 452 2\n",
      "            new particle indices: (yi, xi) 453 44\n",
      "            Mesh 2d shape:  898 398\n",
      "            Relative particle position:  (xsi, eta) -4.5031152085161736e+01 3.8368632150775844e-01\n",
      "Particle 905 lost !! [568260.0, 2.316210134348412, 48.47215344900893, -124.73670404207097]\n",
      "Particle 1075 lost !! [567270.0, 22.202947252069094, 48.66310125918708, -124.89734764102441]\n"
     ]
    },
    {
     "name": "stderr",
     "output_type": "stream",
     "text": [
      " 65% (567000.0 of 864000.0) |#######     | Elapsed Time: 0:06:27 ETA:   0:05:31"
     ]
    },
    {
     "name": "stdout",
     "output_type": "stream",
     "text": [
      "Correct cell not found for (-124.788515, 48.508946) after 1000000 iterations\n",
      "Debug info: old particle indices: (yi, xi) 416 2\n",
      "            new particle indices: (yi, xi) 417 44\n",
      "            Mesh 2d shape:  898 398\n",
      "            Relative particle position:  (xsi, eta) -4.5047525292675623e+01 9.3120435877135943e-01\n",
      "Particle 1057 lost !! [572670.0, 38.71135037710134, 48.52210408590669, -124.77903418232997]\n"
     ]
    },
    {
     "name": "stderr",
     "output_type": "stream",
     "text": [
      " 65% (568800.0 of 864000.0) |#######     | Elapsed Time: 0:06:28 ETA:   0:03:33"
     ]
    },
    {
     "name": "stdout",
     "output_type": "stream",
     "text": [
      "Correct cell not found for (-124.809648, 48.534556) after 1000000 iterations\n",
      "Debug info: old particle indices: (yi, xi) 423 2\n",
      "            new particle indices: (yi, xi) 424 44\n",
      "            Mesh 2d shape:  898 398\n",
      "            Relative particle position:  (xsi, eta) -4.5021649516424951e+01 3.6754353105392051e-01\n",
      "Particle 989 lost !! [575190.0, 1.4337807709920545, 48.5475562557524, -124.80010616403322]\n"
     ]
    },
    {
     "name": "stderr",
     "output_type": "stream",
     "text": [
      " 66% (572400.0 of 864000.0) |#######     | Elapsed Time: 0:06:30 ETA:   0:03:31"
     ]
    },
    {
     "name": "stdout",
     "output_type": "stream",
     "text": [
      "Correct cell not found for (-124.815457, 48.541454) after 1000000 iterations\n",
      "Debug info: old particle indices: (yi, xi) 424 2\n",
      "            new particle indices: (yi, xi) 426 44\n",
      "            Mesh 2d shape:  898 398\n",
      "            Relative particle position:  (xsi, eta) -4.4994575752826933e+01 9.2471542534846005e-02\n",
      "Particle 1168 lost !! [578700.0, 5.719602628884367, 48.554555124385935, -124.80614804317227]\n"
     ]
    },
    {
     "name": "stderr",
     "output_type": "stream",
     "text": [
      " 69% (597600.0 of 864000.0) |########    | Elapsed Time: 0:06:47 ETA:   0:02:37"
     ]
    },
    {
     "name": "stdout",
     "output_type": "stream",
     "text": [
      "Correct cell not found for (-124.808559, 48.532869) after 1000000 iterations\n",
      "Debug info: old particle indices: (yi, xi) 422 2\n",
      "            new particle indices: (yi, xi) 423 44\n",
      "            Mesh 2d shape:  898 398\n",
      "            Relative particle position:  (xsi, eta) -4.5087400504402240e+01 9.7477933787494508e-01\n",
      "Particle 1032 lost !! [604080.0, 1.0759804328427722, 48.54559355128171, -124.7986837311022]\n"
     ]
    },
    {
     "name": "stderr",
     "output_type": "stream",
     "text": [
      " 69% (603000.0 of 864000.0) |########    | Elapsed Time: 0:06:51 ETA:   0:02:36"
     ]
    },
    {
     "name": "stdout",
     "output_type": "stream",
     "text": [
      "Correct cell not found for (-124.769598, 48.486529) after 1000000 iterations\n",
      "Debug info: old particle indices: (yi, xi) 411 2\n",
      "            new particle indices: (yi, xi) 412 44\n",
      "            Mesh 2d shape:  898 398\n",
      "            Relative particle position:  (xsi, eta) -4.5059482422786139e+01 3.1759220857816484e-01\n",
      "Particle 1110 lost !! [609840.0, 12.903704347274601, 48.499503731201095, -124.76000287405819]\n"
     ]
    },
    {
     "name": "stderr",
     "output_type": "stream",
     "text": [
      " 71% (617400.0 of 864000.0) |########    | Elapsed Time: 0:07:00 ETA:   0:02:26"
     ]
    },
    {
     "name": "stdout",
     "output_type": "stream",
     "text": [
      "Correct cell not found for (-124.811979, 48.537304) after 1000000 iterations\n",
      "Debug info: old particle indices: (yi, xi) 423 2\n",
      "            new particle indices: (yi, xi) 425 44\n",
      "            Mesh 2d shape:  898 398\n",
      "            Relative particle position:  (xsi, eta) -4.4992386550982282e+01 4.5424453488786216e-02\n",
      "Correct cell not found for (-124.756267, 48.470793) after 1000000 iterations\n",
      "Debug info: old particle indices: (yi, xi) 407 2\n",
      "            new particle indices: (yi, xi) 408 44\n",
      "            Mesh 2d shape:  898 398\n",
      "            Relative particle position:  (xsi, eta) -4.5043003853744906e+01 3.4630508283633099e-01\n",
      "Particle 1009 lost !! [623610.0, 0.6811927943367557, 48.55027283849686, -124.80243177557847]\n",
      "Particle 1030 lost !! [623160.0, 19.690984896159282, 48.484043566110614, -124.74710024844872]\n"
     ]
    },
    {
     "name": "stderr",
     "output_type": "stream",
     "text": [
      " 72% (628200.0 of 864000.0) |########    | Elapsed Time: 0:07:07 ETA:   0:02:20"
     ]
    },
    {
     "name": "stdout",
     "output_type": "stream",
     "text": [
      "Correct cell not found for (-124.922962, 48.669249) after 1000000 iterations\n",
      "Debug info: old particle indices: (yi, xi) 457 2\n",
      "            new particle indices: (yi, xi) 458 44\n",
      "            Mesh 2d shape:  898 398\n",
      "            Relative particle position:  (xsi, eta) -4.5011207590927000e+01 2.4405429321164224e-01\n",
      "Particle 1243 lost !! [634590.0, 28.771350601222355, 48.68240111724849, -124.91377431109036]\n"
     ]
    },
    {
     "name": "stderr",
     "output_type": "stream",
     "text": [
      " 81% (700200.0 of 864000.0) |#########   | Elapsed Time: 0:07:52 ETA:   0:01:38"
     ]
    },
    {
     "name": "stdout",
     "output_type": "stream",
     "text": [
      "Correct cell not found for (-124.806742, 48.530785) after 1000000 iterations\n",
      "Debug info: old particle indices: (yi, xi) 422 2\n",
      "            new particle indices: (yi, xi) 423 44\n",
      "            Mesh 2d shape:  898 398\n",
      "            Relative particle position:  (xsi, eta) -4.5050192322972364e+01 4.3145759857646998e-01\n",
      "Correct cell not found for (-124.718798, 48.425848) after 1000000 iterations\n",
      "Debug info: old particle indices: (yi, xi) 395 2\n",
      "            new particle indices: (yi, xi) 397 44\n",
      "            Mesh 2d shape:  898 398\n",
      "            Relative particle position:  (xsi, eta) -4.5044089544617982e+01 4.8829997876785984e-02\n",
      "Particle 1079 lost !! [705600.0, 13.790884683171063, 48.54375690801968, -124.79704664649152]\n",
      "Particle 1145 lost !! [706680.0, 16.20254081285541, 48.43904699739811, -124.70929606460149]\n"
     ]
    },
    {
     "name": "stderr",
     "output_type": "stream",
     "text": [
      " 81% (703800.0 of 864000.0) |#########   | Elapsed Time: 0:07:55 ETA:   0:01:48"
     ]
    },
    {
     "name": "stdout",
     "output_type": "stream",
     "text": [
      "Correct cell not found for (-124.762363, 48.478177) after 1000000 iterations\n",
      "Debug info: old particle indices: (yi, xi) 408 2\n",
      "            new particle indices: (yi, xi) 410 44\n",
      "            Mesh 2d shape:  898 398\n",
      "            Relative particle position:  (xsi, eta) -4.5045061362728738e+01 1.8588240745773651e-01\n",
      "Correct cell not found for (-124.754016, 48.467962) after 1000000 iterations\n",
      "Debug info: old particle indices: (yi, xi) 406 2\n",
      "            new particle indices: (yi, xi) 407 44\n",
      "            Mesh 2d shape:  898 398\n",
      "            Relative particle position:  (xsi, eta) -4.5054306749269088e+01 6.5420460986642448e-01\n",
      "Particle 1144 lost !! [710820.0, 23.50999118314004, 48.49134098583761, -124.75290418084903]\n",
      "Particle 1187 lost !! [710280.0, 38.10930106841931, 48.481148252960516, -124.74458463396192]\n"
     ]
    },
    {
     "name": "stderr",
     "output_type": "stream",
     "text": [
      " 81% (705600.0 of 864000.0) |#########   | Elapsed Time: 0:07:55 ETA:   0:01:47"
     ]
    },
    {
     "name": "stdout",
     "output_type": "stream",
     "text": [
      "Correct cell not found for (-124.777269, 48.495330) after 1000000 iterations\n",
      "Debug info: old particle indices: (yi, xi) 413 2\n",
      "            new particle indices: (yi, xi) 414 44\n",
      "            Mesh 2d shape:  898 398\n",
      "            Relative particle position:  (xsi, eta) -4.5103492167841559e+01 5.2571952766985974e-01\n",
      "Particle 928 lost !! [711000.0, 18.493092000785943, 48.50847907535228, -124.76770149796033]\n"
     ]
    },
    {
     "name": "stderr",
     "output_type": "stream",
     "text": [
      " 82% (709200.0 of 864000.0) |#########   | Elapsed Time: 0:07:59 ETA:   0:02:18"
     ]
    },
    {
     "name": "stdout",
     "output_type": "stream",
     "text": [
      "Correct cell not found for (-124.805997, 48.530197) after 1000000 iterations\n",
      "Debug info: old particle indices: (yi, xi) 422 2\n",
      "            new particle indices: (yi, xi) 423 44\n",
      "            Mesh 2d shape:  898 398\n",
      "            Relative particle position:  (xsi, eta) -4.5004789400614470e+01 2.6105478918644409e-01\n",
      "Particle 1033 lost !! [714690.0, 11.258240359952467, 48.54342198782557, -124.79673869324911]\n"
     ]
    },
    {
     "name": "stderr",
     "output_type": "stream",
     "text": [
      " 83% (723600.0 of 864000.0) |##########  | Elapsed Time: 0:08:10 ETA:   0:01:26"
     ]
    },
    {
     "name": "stdout",
     "output_type": "stream",
     "text": [
      "Correct cell not found for (-124.785447, 48.505295) after 1000000 iterations\n",
      "Debug info: old particle indices: (yi, xi) 415 2\n",
      "            new particle indices: (yi, xi) 417 44\n",
      "            Mesh 2d shape:  898 398\n",
      "            Relative particle position:  (xsi, eta) -4.5029339538510420e+01 4.1334283132170919e-02\n",
      "Particle 1205 lost !! [730440.0, 3.5776094337090965, 48.51862288095869, -124.77611862305592]\n"
     ]
    },
    {
     "name": "stderr",
     "output_type": "stream",
     "text": [
      " 84% (730800.0 of 864000.0) |##########  | Elapsed Time: 0:08:15 ETA:   0:01:20"
     ]
    },
    {
     "name": "stdout",
     "output_type": "stream",
     "text": [
      "Correct cell not found for (-124.775767, 48.493900) after 1000000 iterations\n",
      "Debug info: old particle indices: (yi, xi) 412 2\n",
      "            new particle indices: (yi, xi) 414 44\n",
      "            Mesh 2d shape:  898 398\n",
      "            Relative particle position:  (xsi, eta) -4.5078318214243012e+01 1.5347332841157332e-01\n",
      "Particle 985 lost !! [736380.0, 48.68945818317639, 48.50701601913241, -124.76617291820843]\n"
     ]
    },
    {
     "name": "stderr",
     "output_type": "stream",
     "text": [
      " 84% (732600.0 of 864000.0) |##########  | Elapsed Time: 0:08:17 ETA:   0:02:29"
     ]
    },
    {
     "name": "stdout",
     "output_type": "stream",
     "text": [
      "Correct cell not found for (-124.773905, 48.491189) after 1000000 iterations\n",
      "Debug info: old particle indices: (yi, xi) 412 2\n",
      "            new particle indices: (yi, xi) 413 44\n",
      "            Mesh 2d shape:  898 398\n",
      "            Relative particle position:  (xsi, eta) -4.5121434298735728e+01 4.9170343355235657e-01\n",
      "Particle 1186 lost !! [738990.0, 2.400084999094421, 48.504318610935, -124.76413384716544]\n"
     ]
    },
    {
     "name": "stderr",
     "output_type": "stream",
     "text": [
      " 85% (734400.0 of 864000.0) |##########  | Elapsed Time: 0:08:18 ETA:   0:01:34"
     ]
    },
    {
     "name": "stdout",
     "output_type": "stream",
     "text": [
      "Correct cell not found for (-124.812092, 48.536884) after 1000000 iterations\n",
      "Debug info: old particle indices: (yi, xi) 423 2\n",
      "            new particle indices: (yi, xi) 424 44\n",
      "            Mesh 2d shape:  898 398\n",
      "            Relative particle position:  (xsi, eta) -4.5062060233854382e+01 9.7364956808692926e-01\n",
      "Particle 1116 lost !! [740070.0, 3.8321002192287246, 48.54993770413833, -124.80236114026553]\n"
     ]
    },
    {
     "name": "stderr",
     "output_type": "stream",
     "text": [
      " 85% (736200.0 of 864000.0) |##########  | Elapsed Time: 0:08:20 ETA:   0:02:24"
     ]
    },
    {
     "name": "stdout",
     "output_type": "stream",
     "text": [
      "Correct cell not found for (-124.795433, 48.517449) after 1000000 iterations\n",
      "Debug info: old particle indices: (yi, xi) 418 2\n",
      "            new particle indices: (yi, xi) 420 44\n",
      "            Mesh 2d shape:  898 398\n",
      "            Relative particle position:  (xsi, eta) -4.5000049918795824e+01 8.6777554264335283e-02\n",
      "Particle 1063 lost !! [743220.0, 8.86519352738963, 48.530469930499116, -124.78558905762189]\n"
     ]
    },
    {
     "name": "stderr",
     "output_type": "stream",
     "text": [
      " 85% (739800.0 of 864000.0) |##########  | Elapsed Time: 0:08:22 ETA:   0:01:23"
     ]
    },
    {
     "name": "stdout",
     "output_type": "stream",
     "text": [
      "Correct cell not found for (-124.791219, 48.512468) after 1000000 iterations\n",
      "Debug info: old particle indices: (yi, xi) 417 2\n",
      "            new particle indices: (yi, xi) 418 44\n",
      "            Mesh 2d shape:  898 398\n",
      "            Relative particle position:  (xsi, eta) -4.5053200229453864e+01 8.1782925959997910e-01\n",
      "Particle 995 lost !! [746550.0, 8.458996792191986, 48.52543056217934, -124.78136823778651]\n"
     ]
    },
    {
     "name": "stderr",
     "output_type": "stream",
     "text": [
      " 86% (745200.0 of 864000.0) |##########  | Elapsed Time: 0:08:25 ETA:   0:01:11"
     ]
    },
    {
     "name": "stdout",
     "output_type": "stream",
     "text": [
      "Correct cell not found for (-124.774418, 48.492307) after 1000000 iterations\n",
      "Debug info: old particle indices: (yi, xi) 412 2\n",
      "            new particle indices: (yi, xi) 413 44\n",
      "            Mesh 2d shape:  898 398\n",
      "            Relative particle position:  (xsi, eta) -4.5072028384298861e+01 7.4908079500665747e-01\n",
      "Particle 880 lost !! [750780.0, 8.576258104672878, 48.505337136782735, -124.76461940391468]\n"
     ]
    },
    {
     "name": "stderr",
     "output_type": "stream",
     "text": [
      " 86% (747000.0 of 864000.0) |##########  | Elapsed Time: 0:08:27 ETA:   0:02:18"
     ]
    },
    {
     "name": "stdout",
     "output_type": "stream",
     "text": [
      "Correct cell not found for (-124.766685, 48.483189) after 1000000 iterations\n",
      "Debug info: old particle indices: (yi, xi) 410 2\n",
      "            new particle indices: (yi, xi) 411 44\n",
      "            Mesh 2d shape:  898 398\n",
      "            Relative particle position:  (xsi, eta) -4.5026562731549504e+01 4.7406856172899720e-01\n",
      "Correct cell not found for (-124.745692, 48.457905) after 1000000 iterations\n",
      "Debug info: old particle indices: (yi, xi) 403 2\n",
      "            new particle indices: (yi, xi) 405 44\n",
      "            Mesh 2d shape:  898 398\n",
      "            Relative particle position:  (xsi, eta) -4.5028934803998695e+01 1.4712722823843977e-01\n",
      "Particle 977 lost !! [753750.0, 17.435513738732997, 48.49631391082133, -124.75723969680351]\n",
      "Particle 1010 lost !! [753210.0, 34.36947921700833, 48.47114273034099, -124.73638377598786]\n"
     ]
    },
    {
     "name": "stderr",
     "output_type": "stream",
     "text": [
      " 89% (772200.0 of 864000.0) |##########  | Elapsed Time: 0:08:43 ETA:   0:00:52"
     ]
    },
    {
     "name": "stdout",
     "output_type": "stream",
     "text": [
      "Correct cell not found for (-124.783842, 48.503530) after 1000000 iterations\n",
      "Debug info: old particle indices: (yi, xi) 415 2\n",
      "            new particle indices: (yi, xi) 416 44\n",
      "            Mesh 2d shape:  898 398\n",
      "            Relative particle position:  (xsi, eta) -4.5040737421990421e+01 5.8611181004705248e-01\n",
      "Particle 894 lost !! [778410.0, 4.272707729071525, 48.516525816431965, -124.77434820704256]\n"
     ]
    },
    {
     "name": "stderr",
     "output_type": "stream",
     "text": [
      " 89% (774000.0 of 864000.0) |##########  | Elapsed Time: 0:08:44 ETA:   0:00:58"
     ]
    },
    {
     "name": "stdout",
     "output_type": "stream",
     "text": [
      "Correct cell not found for (-124.811173, 48.536292) after 1000000 iterations\n",
      "Debug info: old particle indices: (yi, xi) 423 2\n",
      "            new particle indices: (yi, xi) 424 44\n",
      "            Mesh 2d shape:  898 398\n",
      "            Relative particle position:  (xsi, eta) -4.5009322186584981e+01 7.9872577920906995e-01\n",
      "Particle 978 lost !! [779850.0, 19.94406509402474, 48.54931430383925, -124.8015694269947]\n"
     ]
    },
    {
     "name": "stderr",
     "output_type": "stream",
     "text": [
      " 89% (775800.0 of 864000.0) |##########  | Elapsed Time: 0:08:46 ETA:   0:01:39"
     ]
    },
    {
     "name": "stdout",
     "output_type": "stream",
     "text": [
      "Correct cell not found for (-124.800371, 48.523371) after 1000000 iterations\n",
      "Debug info: old particle indices: (yi, xi) 420 2\n",
      "            new particle indices: (yi, xi) 421 44\n",
      "            Mesh 2d shape:  898 398\n",
      "            Relative particle position:  (xsi, eta) -4.5031851918412464e+01 5.5404042860508274e-01\n",
      "Particle 1038 lost !! [781200.0, 32.82212644837603, 48.5364011354603, -124.7906860930307]\n"
     ]
    },
    {
     "name": "stderr",
     "output_type": "stream",
     "text": [
      " 90% (783000.0 of 864000.0) |##########  | Elapsed Time: 0:08:50 ETA:   0:00:48"
     ]
    },
    {
     "name": "stdout",
     "output_type": "stream",
     "text": [
      "Correct cell not found for (-124.834427, 48.564026) after 1000000 iterations\n",
      "Debug info: old particle indices: (yi, xi) 430 2\n",
      "            new particle indices: (yi, xi) 431 44\n",
      "            Mesh 2d shape:  898 398\n",
      "            Relative particle position:  (xsi, eta) -4.4986286407319767e+01 7.7697023847647129e-01\n",
      "Particle 941 lost !! [790110.0, 26.919152021816576, 48.576925238627084, -124.82480003952132]\n"
     ]
    },
    {
     "name": "stderr",
     "output_type": "stream",
     "text": [
      " 91% (788400.0 of 864000.0) |##########  | Elapsed Time: 0:08:54 ETA:   0:00:56"
     ]
    },
    {
     "name": "stdout",
     "output_type": "stream",
     "text": [
      "Correct cell not found for (-124.815090, 48.540859) after 1000000 iterations\n",
      "Debug info: old particle indices: (yi, xi) 424 2\n",
      "            new particle indices: (yi, xi) 425 44\n",
      "            Mesh 2d shape:  898 398\n",
      "            Relative particle position:  (xsi, eta) -4.5009511183962040e+01 9.4976590089682345e-01\n",
      "Particle 979 lost !! [795150.0, 26.948367168679717, 48.55386193668258, -124.80558266734552]\n"
     ]
    },
    {
     "name": "stderr",
     "output_type": "stream",
     "text": [
      " 95% (828000.0 of 864000.0) |########### | Elapsed Time: 0:09:19 ETA:   0:00:21"
     ]
    },
    {
     "name": "stdout",
     "output_type": "stream",
     "text": [
      "Correct cell not found for (-124.804341, 48.527578) after 1000000 iterations\n",
      "Debug info: old particle indices: (yi, xi) 421 2\n",
      "            new particle indices: (yi, xi) 422 44\n",
      "            Mesh 2d shape:  898 398\n",
      "            Relative particle position:  (xsi, eta) -4.5072096778171932e+01 6.3368705782320356e-01\n",
      "Particle 969 lost !! [834120.0, 19.336527814467757, 48.54049326519075, -124.79456215151019]\n"
     ]
    },
    {
     "name": "stderr",
     "output_type": "stream",
     "text": [
      " 96% (829800.0 of 864000.0) |########### | Elapsed Time: 0:09:21 ETA:   0:00:38"
     ]
    },
    {
     "name": "stdout",
     "output_type": "stream",
     "text": [
      "Correct cell not found for (-124.804795, 48.528589) after 1000000 iterations\n",
      "Debug info: old particle indices: (yi, xi) 421 2\n",
      "            new particle indices: (yi, xi) 422 44\n",
      "            Mesh 2d shape:  898 398\n",
      "            Relative particle position:  (xsi, eta) -4.5013773999173750e+01 8.6010686593563157e-01\n",
      "Particle 976 lost !! [835740.0, 20.300271895591948, 48.54150340811526, -124.79503769852221]\n"
     ]
    },
    {
     "name": "stderr",
     "output_type": "stream",
     "text": [
      " 96% (835200.0 of 864000.0) |########### | Elapsed Time: 0:09:24 ETA:   0:00:22"
     ]
    },
    {
     "name": "stdout",
     "output_type": "stream",
     "text": [
      "Correct cell not found for (-124.756196, 48.470668) after 1000000 iterations\n",
      "Debug info: old particle indices: (yi, xi) 407 2\n",
      "            new particle indices: (yi, xi) 408 44\n",
      "            Mesh 2d shape:  898 398\n",
      "            Relative particle position:  (xsi, eta) -4.5048728218268174e+01 3.1878555517877677e-01\n",
      "Particle 1127 lost !! [842220.0, 26.864153856137293, 48.483821676498735, -124.74684687014705]\n"
     ]
    },
    {
     "name": "stderr",
     "output_type": "stream",
     "text": [
      "100% (864000.0 of 864000.0) |############| Elapsed Time: 0:09:37 Time:  0:09:37\n",
      "/home/jvalenti/conda_envs/parcels/lib/python3.9/site-packages/numpy/lib/arraysetops.py:270: VisibleDeprecationWarning: Creating an ndarray from ragged nested sequences (which is a list-or-tuple of lists-or-tuples-or ndarrays with different lengths or shapes) is deprecated. If you meant to do this, you must specify 'dtype=object' when creating the ndarray.\n",
      "  ar = np.asanyarray(ar)\n"
     ]
    }
   ],
   "source": [
    "# #Load Salish output as fields\n",
    "#field_set = FieldSet.from_nemo(filenames, variables, dimensions, allow_time_extrapolation=True)\n",
    "pset = ParticleSet.from_list(field_set, MPParticle, lon=lon, lat=lat, depth=z, time=start+timedelta(hours=2))\n",
    "\n",
    "k_sink = pset.Kernel(Buoyancy)\n",
    "k_waves = pset.Kernel(Stokes_drift)\n",
    "k_beach = pset.Kernel(Beaching)\n",
    "k_unbeach = pset.Kernel(Unbeaching)\n",
    "\n",
    "\n",
    "pset.execute(AdvectionRK4_3D + k_sink + k_waves + k_beach + k_unbeach,\n",
    "             runtime=duration, \n",
    "             dt=dt,\n",
    "             output_file=pset.ParticleFile(name=outfile, outputdt=timedelta(hours=1)),\n",
    "             recovery={ErrorCode.ErrorOutOfBounds: DeleteParticle})"
   ]
  }
 ],
 "metadata": {
  "kernelspec": {
   "display_name": "Python 3 (ipykernel)",
   "language": "python",
   "name": "python3"
  },
  "language_info": {
   "codemirror_mode": {
    "name": "ipython",
    "version": 3
   },
   "file_extension": ".py",
   "mimetype": "text/x-python",
   "name": "python",
   "nbconvert_exporter": "python",
   "pygments_lexer": "ipython3",
   "version": "3.7.12"
  }
 },
 "nbformat": 4,
 "nbformat_minor": 5
}
