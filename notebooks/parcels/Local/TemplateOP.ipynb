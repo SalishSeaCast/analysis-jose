{
 "cells": [
  {
   "cell_type": "markdown",
   "id": "3249b069-318c-46cf-a0ab-422a39d81733",
   "metadata": {},
   "source": [
    "# **Template OP on salish**"
   ]
  },
  {
   "cell_type": "code",
   "execution_count": 1,
   "id": "7b3cacf0-e987-4dcc-85ad-fa33f293ee98",
   "metadata": {},
   "outputs": [],
   "source": [
    "%matplotlib inline\n",
    "import sys\n",
    "import xarray as xr\n",
    "import os\n",
    "from matplotlib import pyplot as plt, animation, rc\n",
    "import matplotlib.colors as mcolors\n",
    "from dateutil.parser import parse\n",
    "\n",
    "from parcels import FieldSet, Field, VectorField, ParticleSet, JITParticle, ErrorCode, AdvectionRK4, AdvectionRK4_3D\n",
    "\n",
    "rc('animation', html='html5')\n",
    "from IPython.display import Image\n",
    "\n",
    "sys.path.append('/Users/jvalenti/MOAD/analysis-jose/notebooks/parcels')\n",
    "from Kernels import DeleteParticle, Buoyancy\n",
    "from OP_functions import *"
   ]
  },
  {
   "cell_type": "markdown",
   "id": "97c4bf2f-db05-4d5f-b4bb-bdaad6578599",
   "metadata": {},
   "source": [
    "## Definitions"
   ]
  },
  {
   "cell_type": "code",
   "execution_count": 2,
   "id": "28a99025-a33d-4d66-9e39-aab453f279b2",
   "metadata": {},
   "outputs": [],
   "source": [
    "# Set Time length [days] and timestep [seconds]\n",
    "length = 15 \n",
    "duration = timedelta(days=length)\n",
    "dt = 90 #toggle between - or + to pick backwards or forwards"
   ]
  },
  {
   "cell_type": "code",
   "execution_count": 3,
   "id": "2a13867d-43b2-47e0-8891-70d651d794c5",
   "metadata": {},
   "outputs": [],
   "source": [
    "# Set some particle definitions\n",
    "N = 6 # number of deploying locations\n",
    "n = 100 # 1000   # number of particles per location\n",
    "# Define Gaussian point cloud in the horizontal\n",
    "r = 1000   # radius of particle cloud [m]\n",
    "deg2m = 111000 * np.cos(50 * np.pi / 180)\n",
    "var = (r / (deg2m * 3))**2\n",
    "x_offset, y_offset = np.random.multivariate_normal([0, 0], [[var, 0], [0, var]], [n,N]).T\n",
    "# Set a uniform distribution in depth, from dmin to dmax\n",
    "dmin = 0\n",
    "dmax = 20\n",
    "zvals = dmin + np.random.random_sample([n,N]).T*(dmax-dmin)"
   ]
  },
  {
   "cell_type": "code",
   "execution_count": 4,
   "id": "2ceb066c-22eb-4ef5-abe1-dc051ad4cc7c",
   "metadata": {},
   "outputs": [],
   "source": [
    "# Set location of deployed particles\n",
    "lon = np.zeros([N,n])\n",
    "lat = np.zeros([N,n])\n",
    "# Execute run\n",
    "clon, clat = [-123.901172,-125.155849,-123.207648,-122.427508,-123.399769,-123.277731], [49.186308,49.975326,49.305448,47.622403,48.399420,49.11602]  # choose horizontal centre of the particle cloud\n",
    "for i in range(N):\n",
    "    lon[i,:]=(clon[i] + x_offset[i,:])\n",
    "    lat[i,:]=(clat[i] + y_offset[i,:])\n",
    "z = zvals"
   ]
  },
  {
   "cell_type": "code",
   "execution_count": 11,
   "id": "92d6511f-3d0c-4a98-ad32-0d4cb970a2da",
   "metadata": {},
   "outputs": [
    {
     "name": "stdout",
     "output_type": "stream",
     "text": [
      "/Users/jvalenti/MOAD/analysis-jose/notebooks/results/PET20180117_1n_20180201_1n.nc\n"
     ]
    }
   ],
   "source": [
    "#Set start date time and the name of the output file\n",
    "start = datetime(2018, 1, 17) #Start date\n",
    "name = 'PET' #name output file\n",
    "daterange = [start+timedelta(days=i) for i in range(length)]\n",
    "paths = path()\n",
    "fn =  name + '_'.join(d.strftime('%Y%m%d')+'_1n' for d in [start, start+duration]) + '.nc'\n",
    "outfile = os.path.join(paths['out'], fn)\n",
    "print(outfile)"
   ]
  },
  {
   "cell_type": "markdown",
   "id": "0c4e63f2-3fb8-4526-b45a-ce5644646287",
   "metadata": {},
   "source": [
    "## Simulation"
   ]
  },
  {
   "cell_type": "code",
   "execution_count": 10,
   "id": "922eb3dc-e34d-4102-b1d4-4df9de8b2f06",
   "metadata": {},
   "outputs": [],
   "source": [
    "#Fill in the list of variables that you want to use as fields\n",
    "varlist=['U','V','W']\n",
    "filenames,variables,dimensions=filename_set(start,duration,varlist)"
   ]
  },
  {
   "cell_type": "code",
   "execution_count": 19,
   "id": "53f87621-a497-4575-85ba-18ec93118e44",
   "metadata": {},
   "outputs": [],
   "source": [
    "# #Load Salish output as fields\n",
    "# field_set = FieldSet.from_nemo(filenames, variables, dimensions, allow_time_extrapolation=True)\n",
    "# pset = ParticleSet.from_list(field_set, JITParticle, lon=lon, lat=lat, depth=z, time=start+timedelta(hours=2))\n",
    "\n",
    "# #p_flt = pset.Kernel(Buoyancy) #uncomment if you want to use additional kernels, also change the value of pset.Kernel to \"AdvectionRK4_3D + p_flt\"\n",
    "# #pset.computeTimeChunk(allow_time_extrapolation=1)\n",
    "# pset.execute(\n",
    "#     pset.Kernel(AdvectionRK4_3D), runtime=duration, dt=dt,\n",
    "#     output_file=pset.ParticleFile(name=outfile, outputdt=timedelta(hours=1)),\n",
    "#     recovery={ErrorCode.ErrorOutOfBounds: DeleteParticle},\n",
    "# )"
   ]
  },
  {
   "cell_type": "code",
   "execution_count": 36,
   "id": "263be95c-f5d0-457e-b8c3-bfe263ed4a4c",
   "metadata": {},
   "outputs": [],
   "source": [
    "#coords,mask,ds = output(outfile)"
   ]
  },
  {
   "cell_type": "code",
   "execution_count": 37,
   "id": "164e21c2-f5f8-4502-a360-68e66b8d6ad9",
   "metadata": {},
   "outputs": [],
   "source": [
    "#visual(outfile,N,n,clon,clat,dmin,dmax,-1,-1)"
   ]
  },
  {
   "cell_type": "code",
   "execution_count": 38,
   "id": "2ad7741b-cdbe-4ef4-a870-ff29797af759",
   "metadata": {},
   "outputs": [],
   "source": [
    "#mapanimation(outfile,N,n,clon,clat,dmin,dmax)"
   ]
  },
  {
   "cell_type": "code",
   "execution_count": 39,
   "id": "a80dd7f7-c71f-4adc-8796-81d8db4bb42e",
   "metadata": {},
   "outputs": [],
   "source": [
    "#profile(N,n,length,outfile,100)"
   ]
  }
 ],
 "metadata": {
  "kernelspec": {
   "display_name": "Python 3 (ipykernel)",
   "language": "python",
   "name": "python3"
  },
  "language_info": {
   "codemirror_mode": {
    "name": "ipython",
    "version": 3
   },
   "file_extension": ".py",
   "mimetype": "text/x-python",
   "name": "python",
   "nbconvert_exporter": "python",
   "pygments_lexer": "ipython3",
   "version": "3.7.12"
  }
 },
 "nbformat": 4,
 "nbformat_minor": 5
}
