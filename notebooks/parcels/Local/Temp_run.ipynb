{
 "cells": [
  {
   "cell_type": "markdown",
   "id": "3249b069-318c-46cf-a0ab-422a39d81733",
   "metadata": {},
   "source": [
    "# **Template OP on salish**"
   ]
  },
  {
   "cell_type": "code",
   "execution_count": 1,
   "id": "7b3cacf0-e987-4dcc-85ad-fa33f293ee98",
   "metadata": {},
   "outputs": [],
   "source": [
    "%matplotlib inline\n",
    "\n",
    "import sys\n",
    "import xarray as xr\n",
    "import numpy as np\n",
    "import os\n",
    "from datetime import datetime, timedelta\n",
    "from parcels import FieldSet, Field, VectorField, ParticleSet, JITParticle, ErrorCode, AdvectionRK4, AdvectionRK4_3D\n",
    "\n",
    "sys.path.append('/Users/jvalenti/MOAD/analysis-jose/notebooks/parcels')\n",
    "from Kernels import DeleteParticle, Buoyancy\n",
    "from OP_functions import *"
   ]
  },
  {
   "cell_type": "code",
   "execution_count": 2,
   "id": "941b8dd3-eebb-4149-af84-781e66652a11",
   "metadata": {},
   "outputs": [],
   "source": [
    "# Define paths\n",
    "local = 1 #Set to 0 when working on server\n",
    "paths = path(local)"
   ]
  },
  {
   "cell_type": "markdown",
   "id": "97c4bf2f-db05-4d5f-b4bb-bdaad6578599",
   "metadata": {},
   "source": [
    "## Definitions"
   ]
  },
  {
   "cell_type": "code",
   "execution_count": 3,
   "id": "28a99025-a33d-4d66-9e39-aab453f279b2",
   "metadata": {},
   "outputs": [],
   "source": [
    "start = datetime(2018, 8, 23) #Start date\n",
    "# Set Time length [days] and timestep [seconds]\n",
    "length = 1 \n",
    "duration = timedelta(days=length)\n",
    "dt = 90 #toggle between - or + to pick backwards or forwards\n",
    "N = 6 # number of deploying locations\n",
    "n = 100 # 1000   # number of particles per location\n",
    "dmin = [0,0,0,0,0,70] #minimum depth\n",
    "dd = 20 #max depth difference from dmin\n",
    "x_offset, y_offset, zvals = p_deploy(N,n,dmin,dd)"
   ]
  },
  {
   "cell_type": "code",
   "execution_count": 4,
   "id": "f0a3c7aa-7f4e-42a1-a091-8cac7c2dd102",
   "metadata": {},
   "outputs": [],
   "source": [
    "Dat=xr.open_dataset('/Users/jvalenti/MOAD/SSC_masks/coordinates_seagrid_SalishSea201702.nc',decode_times=False)\n",
    "outf_lat=Dat['nav_lat'][445,304]\n",
    "outf_lon=Dat['nav_lon'][445,304]"
   ]
  },
  {
   "cell_type": "code",
   "execution_count": 5,
   "id": "2ceb066c-22eb-4ef5-abe1-dc051ad4cc7c",
   "metadata": {},
   "outputs": [],
   "source": [
    "lon = np.zeros([N,n])\n",
    "lat = np.zeros([N,n])\n",
    "# Execute run\n",
    "clon, clat = [-123.901172,-125.155849,-123.207648,-122.427508,-123.399769,float(outf_lon)], [49.186308,49.975326,49.305448,47.622403,48.399420,float(outf_lat)]  # choose horizontal centre of the particle cloud\n",
    "for i in range(N):\n",
    "    lon[i,:]=(clon[i] + x_offset[i,:])\n",
    "    lat[i,:]=(clat[i] + y_offset[i,:])\n",
    "z = zvals"
   ]
  },
  {
   "cell_type": "code",
   "execution_count": 6,
   "id": "92d6511f-3d0c-4a98-ad32-0d4cb970a2da",
   "metadata": {},
   "outputs": [
    {
     "name": "stdout",
     "output_type": "stream",
     "text": [
      "/Users/jvalenti/MOAD/analysis-jose/notebooks/results/testlocal20180823_1n_20180824_1n.nc\n"
     ]
    }
   ],
   "source": [
    "#Set start date time and the name of the output file\n",
    "name = 'testlocal' #name output file\n",
    "daterange = [start+timedelta(days=i) for i in range(length)]\n",
    "paths = path()\n",
    "fn =  name + '_'.join(d.strftime('%Y%m%d')+'_1n' for d in [start, start+duration]) + '.nc'\n",
    "outfile = os.path.join(paths['out'], fn)\n",
    "print(outfile)"
   ]
  },
  {
   "cell_type": "markdown",
   "id": "0c4e63f2-3fb8-4526-b45a-ce5644646287",
   "metadata": {},
   "source": [
    "## Simulation"
   ]
  },
  {
   "cell_type": "code",
   "execution_count": 7,
   "id": "922eb3dc-e34d-4102-b1d4-4df9de8b2f06",
   "metadata": {},
   "outputs": [],
   "source": [
    "#Fill in the list of variables that you want to use as fields\n",
    "varlist=['U','V','W']\n",
    "filenames,variables,dimensions=filename_set(start,length,varlist,local)"
   ]
  },
  {
   "cell_type": "code",
   "execution_count": 8,
   "id": "e0d3bc28-64c9-4202-8a17-f580ff8587d5",
   "metadata": {},
   "outputs": [],
   "source": [
    "# filenames2,variables,dimensions=filename_set(start,length,varlist,0)\n",
    "# from paramiko import SSHClient\n",
    "# from scp import SCPClient\n",
    "\n",
    "# duration = timedelta(days=length)\n",
    "# ssh = SSHClient()\n",
    "# ssh.load_system_host_keys()\n",
    "# ssh.connect('salish.eos.ubc.ca')\n",
    "# for day in range(duration.days):\n",
    "# # # SCPCLient takes a paramiko transport as an argument\n",
    "#     scp = SCPClient(ssh.get_transport())\n",
    "#     date=start + timedelta(days=day)\n",
    "#     directorio='/Users/jvalenti/MOAD/data/'+date.strftime(\"%d%b%y\").lower()+'/'\n",
    "#     os.mkdir(directorio)\n",
    "# # #scp.put('test.txt', 'test2.txt')\n",
    "#     scp.get(filenames2['U']['data']+filenames2['V']['data']+filenames2['W']['data'],local_path=directorio)\n",
    "\n",
    "# # # Uploading the 'test' directory with its content in the\n",
    "# # # '/home/user/dump' remote directory\n",
    "# # #scp.put('test', recursive=True, remote_path='/home/user/dump')\n",
    "\n",
    "# scp.close()"
   ]
  },
  {
   "cell_type": "code",
   "execution_count": null,
   "id": "53f87621-a497-4575-85ba-18ec93118e44",
   "metadata": {},
   "outputs": [
    {
     "name": "stderr",
     "output_type": "stream",
     "text": [
      "WARNING: File /Users/jvalenti/MOAD/SSC_masks/coordinates_seagrid_SalishSea201702.nc could not be decoded properly by xarray (version 0.19.0).\n",
      "         It will be opened with no decoding. Filling values might be wrongly parsed.\n",
      "INFO: Compiled ArrayJITParticleAdvectionRK4_3D ==> /var/folders/y1/__7_22kx3n9_rh91qk2htyc00000gn/T/parcels-501/lib381e200181d14227f7a2e6f8dac82508_0.so\n",
      "INFO: Temporary output files are stored in /Users/jvalenti/MOAD/analysis-jose/notebooks/results/out-RXALRQAS.\n",
      "INFO: You can use \"parcels_convert_npydir_to_netcdf /Users/jvalenti/MOAD/analysis-jose/notebooks/results/out-RXALRQAS\" to convert these to a NetCDF file during the run.\n",
      "100% (86400.0 of 86400.0) |##############| Elapsed Time: 0:00:06 Time:  0:00:06\n"
     ]
    }
   ],
   "source": [
    "# #Load Salish output as fields\n",
    "field_set = FieldSet.from_nemo(filenames, variables, dimensions, allow_time_extrapolation=True)\n",
    "pset = ParticleSet.from_list(field_set, JITParticle, lon=lon, lat=lat, depth=z, time=start+timedelta(hours=2))\n",
    "\n",
    "#p_flt = pset.Kernel(Buoyancy) #uncomment if you want to use additional kernels, also change the value of pset.Kernel to \"AdvectionRK4_3D + p_flt\"\n",
    "#pset.computeTimeChunk(allow_time_extrapolation=1)\n",
    "pset.execute(\n",
    "    pset.Kernel(AdvectionRK4_3D), runtime=duration, dt=dt,\n",
    "    output_file=pset.ParticleFile(name=outfile, outputdt=timedelta(hours=1)),\n",
    "    recovery={ErrorCode.ErrorOutOfBounds: DeleteParticle},\n",
    ")"
   ]
  }
 ],
 "metadata": {
  "kernelspec": {
   "display_name": "Python 3 (ipykernel)",
   "language": "python",
   "name": "python3"
  },
  "language_info": {
   "codemirror_mode": {
    "name": "ipython",
    "version": 3
   },
   "file_extension": ".py",
   "mimetype": "text/x-python",
   "name": "python",
   "nbconvert_exporter": "python",
   "pygments_lexer": "ipython3",
   "version": "3.7.12"
  }
 },
 "nbformat": 4,
 "nbformat_minor": 5
}
