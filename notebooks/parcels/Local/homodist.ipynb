{
 "cells": [
  {
   "cell_type": "code",
   "execution_count": 1,
   "id": "86442380-3ce1-456e-bf0e-c2d62e508682",
   "metadata": {},
   "outputs": [],
   "source": [
    "%matplotlib inline\n",
    "\n",
    "import sys\n",
    "import os\n",
    "import numpy as np\n",
    "import xarray as xr\n",
    "from matplotlib import pyplot as plt, animation, rc\n",
    "from datetime import datetime, timedelta\n",
    "from dateutil.parser import parse\n",
    "from cartopy import crs, feature\n",
    "\n",
    "from IPython.display import Image\n",
    "rc('animation', html='html5')\n",
    "\n",
    "sys.path.append('/Users/jvalenti/MOAD/analysis-jose/notebooks/parcels')\n",
    "\n",
    "from OP_functions import *"
   ]
  },
  {
   "cell_type": "code",
   "execution_count": 11,
   "id": "a9f3586c-ecf1-45c5-9a8e-d3c0fa4b3d9a",
   "metadata": {},
   "outputs": [],
   "source": [
    "# Define paths\n",
    "local = 1 #Set to 0 when working on server\n",
    "paths = path(local)"
   ]
  },
  {
   "cell_type": "markdown",
   "id": "36e0fa2f-55a4-4ffc-8c72-1e18668e19d4",
   "metadata": {},
   "source": [
    "## THIS MUST BE THE SAME USED WHEN RUNNING PARCELS"
   ]
  },
  {
   "cell_type": "code",
   "execution_count": 13,
   "id": "e3169be0-d651-46ab-a91e-de84c2e5f3a1",
   "metadata": {},
   "outputs": [],
   "source": [
    "#path_NEMO = make_prefix(datetime(2018, 12, 23), paths['NEMO'])\n",
    "#Dat0=xr.open_dataset(path_NEMO + '_grid_W.nc')\n",
    "#Dat=xr.open_dataset(path_NEMO + '_grid_T.nc')\n",
    "batt=xr.open_dataset(paths['mask'],decode_times=False)\n",
    "coord=xr.open_dataset(paths['coords'],decode_times=False)"
   ]
  },
  {
   "cell_type": "code",
   "execution_count": 67,
   "id": "8b2442b4",
   "metadata": {},
   "outputs": [],
   "source": [
    "lat0 = coord.gphif[0,:,:]\n",
    "lon0 = coord.glamf[0,:,:]\n",
    "bat = batt.mbathy[0,:,:]\n",
    "\n",
    "Lat,Lon = [],[]\n",
    "lat = []\n",
    "lon = []\n",
    "\n",
    "for i in range(bat.shape[0]):\n",
    "    if len(Lat)> 1:\n",
    "        lat.append((Lat))\n",
    "        lon.append((Lon))\n",
    "    Lat,Lon = [],[]\n",
    "    for j in range(bat.shape[1]):\n",
    "        if bat[i,j]>1e-5:\n",
    "            Lat.append(float(lat0[i,j]))\n",
    "            Lon.append(float(lon0[i,j]))\n"
   ]
  },
  {
   "cell_type": "code",
   "execution_count": 77,
   "id": "c51879ae",
   "metadata": {},
   "outputs": [],
   "source": [
    "lat0 = coord.gphif[0,:,:]\n",
    "lon0 = coord.glamf[0,:,:]\n",
    "bat = batt.mbathy[0,:,:]\n",
    "\n",
    "latbat = np.zeros(bat.shape)\n",
    "lonbat = np.zeros(bat.shape)\n",
    "\n",
    "for i in range(bat.shape[0]):\n",
    "    for j in range(bat.shape[1]):\n",
    "        if bat[i,j]>1e-5:\n",
    "            latbat[i,j] = lat0[i,j]\n",
    "            latbat[i,j] = lon0[i,j]"
   ]
  },
  {
   "cell_type": "code",
   "execution_count": 110,
   "id": "e2eeeeca",
   "metadata": {},
   "outputs": [
    {
     "data": {
      "text/plain": [
       "841"
      ]
     },
     "execution_count": 110,
     "metadata": {},
     "output_type": "execute_result"
    }
   ],
   "source": [
    "def p_unidist(lat0,lon0,bat,dy,dx):\n",
    "    latbat = np.zeros(bat.shape)\n",
    "    lonbat = np.zeros(bat.shape)\n",
    "\n",
    "    for i in range(bat.shape[0]):\n",
    "        for j in range(bat.shape[1]):\n",
    "            if bat[i,j]>1e-5:\n",
    "                latbat[i,j] = lat0[i,j]\n",
    "                latbat[i,j] = lon0[i,j]\n",
    "\n",
    "    yi = np.arange(0,lat.shape[0],dy)\n",
    "    xi = np.arange(0,lon.shape[1],dx)\n",
    "    plat0,plon0 = lat[yi,:],lon[yi,:]\n",
    "    plat1,plon1 = plat0[:,xi],plon0[:,xi]\n",
    "\n",
    "    plon,plat = [],[]\n",
    "    for i in range(plat1.shape[0]):\n",
    "        for j in range(plat1.shape[1]):\n",
    "            if plat1[i,j]>1e-5:\n",
    "                plat.append(plat1[i,j])\n",
    "                plon.append(plon1[i,j])\n",
    "    return plat,plon\n",
    "\n",
    "clat,clon=p_unidist(latbat,lonbat,10,10)"
   ]
  }
 ],
 "metadata": {
  "kernelspec": {
   "display_name": "Python 3 (ipykernel)",
   "language": "python",
   "name": "python3"
  },
  "language_info": {
   "codemirror_mode": {
    "name": "ipython",
    "version": 3
   },
   "file_extension": ".py",
   "mimetype": "text/x-python",
   "name": "python",
   "nbconvert_exporter": "python",
   "pygments_lexer": "ipython3",
   "version": "3.7.12"
  }
 },
 "nbformat": 4,
 "nbformat_minor": 5
}
