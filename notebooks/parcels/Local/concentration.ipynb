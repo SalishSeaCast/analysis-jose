{
 "cells": [
  {
   "cell_type": "code",
   "execution_count": 3,
   "metadata": {},
   "outputs": [],
   "source": [
    "%matplotlib qt\n",
    "\n",
    "import sys\n",
    "import os\n",
    "import numpy as np\n",
    "import pandas as pd\n",
    "import xarray as xr\n",
    "\n",
    "import matplotlib\n",
    "from matplotlib import pyplot as plt, animation, rc,colors\n",
    "from datetime import datetime, timedelta\n",
    "from cartopy import crs, feature\n",
    "import cmocean\n",
    "import yaml\n",
    "\n",
    "from IPython.display import Image\n",
    "rc('animation', html='html5')\n",
    "\n",
    "sys.path.append('/Users/jvalenti/MOAD/analysis-jose/Source')\n",
    "from OP_functions import *"
   ]
  },
  {
   "cell_type": "code",
   "execution_count": 4,
   "metadata": {},
   "outputs": [],
   "source": [
    "conc=xr.open_dataarray('/Users/jvalenti/Downloads/Fraser_nobiof_prob.nc')\n",
    "conc1=xr.open_dataarray('/Users/jvalenti/Downloads/Fraser_biof_prob.nc')\n",
    "conc2=xr.open_dataarray('/Users/jvalenti/Downloads/Turb_off_prob.nc')\n",
    "conc3=xr.open_dataarray('/Users/jvalenti/Downloads/No_float_prob.nc')\n",
    "\n",
    "local = 1 #Set to 0 when working on server\n",
    "paths = path(local)\n",
    "coords = xr.open_dataset(paths['coords'], decode_times=False)\n",
    "mask = xr.open_dataset(paths['mask'])\n",
    "Dat=xr.open_dataset(paths['coords'],decode_times=False)\n",
    "outf_lat=Dat['nav_lat'][445,304]\n",
    "outf_lon=Dat['nav_lon'][445,304]\n",
    "clon, clat = [float(outf_lon)],[float(outf_lat)]"
   ]
  },
  {
   "cell_type": "code",
   "execution_count": 7,
   "metadata": {},
   "outputs": [],
   "source": [
    "def mapanimation(file,clon,clat,fps=1,local=1):\n",
    "    \n",
    "    def update(frame): \n",
    "        plt.clf()\n",
    "        ax = plt.axes(xlim=(-125,-122.5),ylim=(48.5,49.7))\n",
    "        t = ax.text(0.02, 0.02, '', transform=ax.transAxes)\n",
    "        t.set_text('')\n",
    "        tstamp = file.time[frame].values.astype('datetime64[s]').astype(datetime)\n",
    "        #print(tstamp)\n",
    "        t.set_text(tstamp)\n",
    "        ss = []\n",
    "        ss.append(ax.contourf(coords.nav_lon, coords.nav_lat, file[frame,:,:],levels=np.arange(1,30,2),cmap=cmocean.cm.dense))\n",
    "        ax.contour(coords.nav_lon, coords.nav_lat, mask.mbathy[0,:,:],colors='k',linewidths=0.1)\n",
    "        ax.contourf(coords.nav_lon, coords.nav_lat, mask.tmask[0, 0, ...], levels=[-0.01, 0.01], colors='lightgray')\n",
    "        ax.contour(coords.nav_lon, coords.nav_lat, mask.tmask[0, 0, ...], levels=[-0.01, 0.01], colors='k')\n",
    "        ax.grid()\n",
    "        axs.set_aspect(1/np.sin(np.deg2rad(49)))\n",
    "        plt.ylabel('Latitude',fontsize=16)\n",
    "        plt.xlabel('Longitude',fontsize=16)\n",
    "        return fig\n",
    "        \n",
    "    #scatter_particles(ax, N,n, 0,0, ds.lat,ds.lon)\n",
    "    #sed= {0: \"w\", 1: \"k\"}\n",
    "\n",
    "\n",
    "    return animation.FuncAnimation(fig, update, frames=np.arange(0,file.shape[0],fps))"
   ]
  },
  {
   "cell_type": "code",
   "execution_count": 22,
   "metadata": {},
   "outputs": [
    {
     "data": {
      "text/plain": [
       "5.538173909032835e-06"
      ]
     },
     "execution_count": 22,
     "metadata": {},
     "output_type": "execute_result"
    }
   ],
   "source": [
    "((2118*2*3600)/(2.6e6*5))/211811"
   ]
  },
  {
   "cell_type": "code",
   "execution_count": 8,
   "metadata": {},
   "outputs": [],
   "source": [
    "z = mask.gdepw_0[0,:,240,340]\n",
    "cend=conc*((50*2118*2*3600)/(2.6e6*5))/211811\n",
    "cend1=conc1*((50*2118*2*3600)/(2.6e6*5))/211811\n",
    "cend2=conc2*((50*2118*2*3600)/(2.6e6*5))/211811\n",
    "cend3=conc3*((50*2118*2*3600)/(2.6e6*5))/211811\n",
    "\n",
    "\n",
    "fig = plt.figure(figsize=(19, 8))\n",
    "#axs = plt.axes(xlim=(-123.25,-122.8),ylim=(49,49.25))\n",
    "axs=plt.axes(xlim=(-125,-122.5),ylim=(48.5,49.7))\n",
    "\n",
    "levels = np.linspace(1,800,50)\n",
    "\n",
    "colors = list(cmocean.cm.dense(np.linspace(0,1,len(levels)-1)))\n",
    "colors[-1] = \"red\"\n",
    "cmap = matplotlib.colors.ListedColormap(colors,\"\", len(colors))\n",
    "\n",
    "a=axs.contourf(coords.nav_lon, coords.nav_lat, mask.bathym,levels=np.arange(0,450,10),cmap=cmocean.cm.deep)\n",
    "#a=axs.contourf(coords.nav_lon, coords.nav_lat, cend2[:,:,0],levels=np.arange(1,150,5),cmap=cmap,extend='max')\n",
    "#axs.scatter(frs_lon,frs_lat)\n",
    "axs.contourf(coords.nav_lon, coords.nav_lat, mask.tmask[0, 0, ...], levels=[-0.01, 0.01], colors='lightgray')\n",
    "\n",
    "#axs.contour(coords.nav_lon, coords.nav_lat, mask.tmask[0, 0, ...], levels=[-0.01, 0.01], colors='k')\n",
    "plt.colorbar(a)\n",
    "\n",
    "axs.set_aspect(1/np.sin(np.deg2rad(49)))"
   ]
  },
  {
   "cell_type": "code",
   "execution_count": 24,
   "metadata": {},
   "outputs": [],
   "source": [
    "def get_area(latmin,latmax,lonmin,lonmax, conc):\n",
    "    jjii = xr.open_dataset('/Users/jvalenti/Downloads/grid_from_lat_lon_mask999.nc')\n",
    "    j = [jjii.jj.sel(lats=latmin, lons=lonmin, method='nearest').item()]\n",
    "    i = [jjii.ii.sel(lats=latmin, lons=lonmin, method='nearest').item()]\n",
    "    j.append(jjii.jj.sel(lats=latmin, lons=lonmax, method='nearest').item())\n",
    "    i.append(jjii.ii.sel(lats=latmin, lons=lonmax, method='nearest').item())\n",
    "    j.append(jjii.jj.sel(lats=latmax, lons=lonmin, method='nearest').item())\n",
    "    i.append(jjii.ii.sel(lats=latmax, lons=lonmin, method='nearest').item())\n",
    "    j.append(jjii.jj.sel(lats=latmax, lons=lonmax, method='nearest').item())\n",
    "    i.append(jjii.ii.sel(lats=latmax, lons=lonmax, method='nearest').item())\n",
    "    a=[min(j),max(j),min(i),max(i)]\n",
    "    Len = (a[1]-a[0])*(a[3]-a[2])\n",
    "    SD = []\n",
    "    Mean = []\n",
    "    for ki in range(len(z)):\n",
    "        values = []\n",
    "        for j in range(a[0],a[1],1):\n",
    "            for i in range(a[2],a[3],1):\n",
    "                values.append(conc[j,i,ki])\n",
    "        values = np.array(values)\n",
    "        Mean.append(np.mean(values))\n",
    "        #print(Mean)\n",
    "        SD.append(np.std(values)/np.sqrt(Len))\n",
    "        #print(SD)\n",
    "    return Mean,SD"
   ]
  },
  {
   "cell_type": "code",
   "execution_count": 25,
   "metadata": {},
   "outputs": [],
   "source": [
    "def MP_measure(ax,conc):\n",
    "\n",
    "    Fraser_MP,Fraser_SE=get_area(49.05,49.2,-123.1,-122.9,conc)\n",
    "    #SoG_MP,SoG_SE =get_area(48.5,49.5,-124.2,-123.2,conc)\n",
    "    #Lori_MP,Lori_SE =get_area(49.1,49.36,-123.3,-123.2,conc)\n",
    "    #ax.errorbar(Lori_MP, -z, xerr = Lori_SE,label=\"Lori's Sample\")\n",
    "    ax.errorbar(Fraser_MP, -z, xerr = Fraser_SE,label=\"Fraser Sample\")\n",
    "    #ax.errorbar(SoG_MP, -z, xerr = SoG_SE,label=\"SoG test\")\n",
    "    ax.legend()\n",
    "    ax.set_ylim(-13.5,0)\n",
    "    ax.set_xlim(0,0.150)\n",
    "    return Fraser_MP,Fraser_SE"
   ]
  },
  {
   "cell_type": "code",
   "execution_count": 26,
   "metadata": {},
   "outputs": [
    {
     "data": {
      "text/plain": [
       "Text(0.5, 1.0, 'No floating')"
      ]
     },
     "execution_count": 26,
     "metadata": {},
     "output_type": "execute_result"
    }
   ],
   "source": [
    "fig,axs=plt.subplots(1,4,figsize=(20,10))\n",
    "MP_measure(axs[0],cend)\n",
    "MP_measure(axs[1],cend1)\n",
    "MP_measure(axs[2],cend2)\n",
    "MP_measure(axs[3],cend3)\n",
    "axs[0].set_title('All kernels + 30% floating')\n",
    "axs[1].set_title('No biofouling + 30% floating')\n",
    "axs[2].set_title('No turbulent mixing + 30% floating')\n",
    "axs[3].set_title('No floating')"
   ]
  },
  {
   "cell_type": "code",
   "execution_count": 27,
   "metadata": {},
   "outputs": [
    {
     "data": {
      "text/plain": [
       "414"
      ]
     },
     "execution_count": 27,
     "metadata": {},
     "output_type": "execute_result"
    }
   ],
   "source": [
    "jjii = xr.open_dataset('/Users/jvalenti/Downloads/grid_from_lat_lon_mask999.nc')\n",
    "jjii.jj.sel(lats=49.1162, lons=-123.0871, method='nearest').item()\n",
    "#jjii.ii.sel(lats=49.1162, lons=-123.0871, method='nearest').item() #326"
   ]
  },
  {
   "cell_type": "code",
   "execution_count": 28,
   "metadata": {},
   "outputs": [],
   "source": [
    "# fig = plt.figure(figsize=(19, 8))\n",
    "# anim = mapanimation(conc,clon,clat,fps=1)\n",
    "# f = r\"/home/jvalenti/MOAD/animations/Fraser2.gif\" \n",
    "# FFwriter = animation.FFMpegWriter()\n",
    "# anim.save(f, writer = FFwriter)"
   ]
  },
  {
   "cell_type": "code",
   "execution_count": 29,
   "metadata": {},
   "outputs": [],
   "source": [
    "#  with open(f,'rb') as anim:\n",
    "#     display(Image(anim.read()))"
   ]
  }
 ],
 "metadata": {
  "kernelspec": {
   "display_name": "Python 3.7.12 ('parcels')",
   "language": "python",
   "name": "python3"
  },
  "language_info": {
   "codemirror_mode": {
    "name": "ipython",
    "version": 3
   },
   "file_extension": ".py",
   "mimetype": "text/x-python",
   "name": "python",
   "nbconvert_exporter": "python",
   "pygments_lexer": "ipython3",
   "version": "3.7.12"
  },
  "orig_nbformat": 4,
  "vscode": {
   "interpreter": {
    "hash": "5231541ec7da1806fd4dd02418819151069191aae488b983f94d003ad3b768ff"
   }
  }
 },
 "nbformat": 4,
 "nbformat_minor": 2
}
