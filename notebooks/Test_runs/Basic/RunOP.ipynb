{
 "cells": [
  {
   "cell_type": "code",
   "execution_count": 1,
   "metadata": {},
   "outputs": [],
   "source": [
    "%matplotlib inline\n",
    "import sys\n",
    "import xarray as xr\n",
    "import numpy as np\n",
    "import os\n",
    "import yaml\n",
    "import math\n",
    "from datetime import datetime, timedelta\n",
    "from parcels import FieldSet, Field, VectorField, ParticleSet, JITParticle, ErrorCode, ParcelsRandom, Variable\n",
    "\n",
    "sys.path.append('/home/jvalenti/MOAD/analysis-jose/Source')\n",
    "\n",
    "from OP_functions import *\n",
    "from OP_Kernels_e3t import *\n",
    "\n",
    "local = 0\n",
    "restart=0"
   ]
  },
  {
   "cell_type": "code",
   "execution_count": 2,
   "metadata": {},
   "outputs": [],
   "source": [
    "def get_timestamps(start,length):\n",
    "    timestamps=[]\n",
    "    duration = timedelta(days=length)\n",
    "    for day in range(duration.days):\n",
    "        timestamps.append([start + timedelta(days=day)])\n",
    "    return np.array(timestamps, dtype='datetime64')\n",
    "\n",
    "def find_temp(rootdir):\n",
    "    dirs=[]\n",
    "    for file in os.listdir(rootdir):\n",
    "        d = os.path.join(rootdir, file)\n",
    "        if os.path.isdir(d):\n",
    "            dirs.append(d)\n",
    "    temp=sorted(dirs, key=lambda x: os.path.getctime(x), reverse=True)[:1][0]\n",
    "    return temp[-12:]\n",
    "\n",
    "def newest(path):\n",
    "    files = os.listdir(path)\n",
    "    paths = [os.path.join(path, basename) for basename in files]\n",
    "    return max(paths, key=os.path.getctime)\n"
   ]
  },
  {
   "cell_type": "code",
   "execution_count": 3,
   "metadata": {},
   "outputs": [],
   "source": [
    "# Define paths\n",
    "paths = path(local)\n",
    "#Load configuration from .yaml\n",
    "param = load_config(['/home/jvalenti/MOAD/analysis-jose/OParcels/yaml/test.yaml'])\n",
    "#Definitions\n",
    "start = datetime(param['startdate']['year'], param['startdate']['month'], param['startdate']['day']) #Start date\n",
    "length = param['param']['length'] # Set Time length [days] \n",
    "dt = param['param']['dt'] #toggle between - or + to pick backwards or forwards \n",
    "N0 = param['param']['N'] # number of deploying locations\n",
    "n = param['param']['n'] # 1000   # number of particles per location\n",
    "dmin = param['param']['dmin'] #minimum depth\n",
    "dd = param['param']['dd'] #max depth difference from dmin\n",
    "name = param['file']['name'] #name output file\n",
    "dtp = param['param']['dtp'] #how often particle released in hours\n",
    "odt = param['param']['odt'] #how often data is recorded\n",
    "rrr = param['param']['r'] #radious of particle deployment\n",
    "distr = param['param']['distr']\n",
    "MFc = param['param']['MFc']"
   ]
  },
  {
   "cell_type": "code",
   "execution_count": 4,
   "metadata": {},
   "outputs": [],
   "source": [
    "#Set deploy coordinates following yaml   \n",
    "\n",
    "clat = param['param']['lats']\n",
    "clon = param['param']['lons']\n",
    "#clon, clat = [float(outf_lon)],[float(outf_lat)] \n",
    "duration = timedelta(days=length)\n",
    "#Set deploy locations\n",
    "if distr == 'hmg':\n",
    "    clat,clon = p_unidist(N0,N0)\n",
    "    N = len(clat)\n",
    "elif distr == 'trst':\n",
    "    clat,clon = transect_deploy(clat,clon,N0)\n",
    "    N = N0\n",
    "elif distr == 'std':\n",
    "    N = len(param['param']['lats'])\n",
    "elif distr == 'pd':\n",
    "    clat, clon, N = pandas_deploy(N0,MFc,int(dtp))\n",
    "    n = 1\n",
    "\n",
    "x_offset, y_offset, z = p_deploy(N,n,dmin,dd,rrr)\n",
    "\n",
    "lon = np.zeros([N,n])\n",
    "lat = np.zeros([N,n])\n",
    "for i in range(N):\n",
    "    lon[i,:]=(clon[i] + x_offset[i,:])\n",
    "    lat[i,:]=(clat[i] + y_offset[i,:])"
   ]
  },
  {
   "cell_type": "code",
   "execution_count": 5,
   "metadata": {},
   "outputs": [],
   "source": [
    "#Set start date time and the name of the output file\n",
    "\n",
    "daterange = [start+timedelta(days=i) for i in range(length)]\n",
    "fn =  name + '_'.join(d.strftime('%Y%m%d')+'_1n' for d in [start, start+duration]) + '.nc'\n",
    "outfile = os.path.join(paths['out'], fn)"
   ]
  },
  {
   "cell_type": "code",
   "execution_count": null,
   "metadata": {},
   "outputs": [],
   "source": []
  },
  {
   "cell_type": "code",
   "execution_count": 18,
   "metadata": {},
   "outputs": [
    {
     "name": "stderr",
     "output_type": "stream",
     "text": [
      "WARNING: File /ocean/jvalenti/MOAD/grid/coordinates_seagrid_SalishSea201702.nc could not be decoded properly by xarray (version 2023.5.0).\n",
      "         It will be opened with no decoding. Filling values might be wrongly parsed.\n"
     ]
    }
   ],
   "source": [
    "####BUILD FIELDS FOR SIMULATION######\n",
    "#Fill in the list of variables that you want to use as fields\n",
    "varlist=['U','V','W']\n",
    "filenames,variables=filename_set(start,length,varlist,local)\n",
    "dimensions = {'lon': 'glamf', 'lat': 'gphif', 'depth': 'depthw','time': 'time_counter'}\n",
    "field_set=FieldSet.from_nemo(filenames, variables, dimensions, allow_time_extrapolation=True)\n",
    "\n",
    "#Find file names and variable names\n",
    "varlist=['US','VS','WL','Diat','Flag','R','T','S','FS','ssh','Bathy','Kz']\n",
    "filenames,variables=filename_set(start,length,varlist,local)\n",
    "\n",
    "#Add Stokes Drift fields\n",
    "dimensions = {'lon': 'longitude', 'lat': 'latitude', 'time': 'time'}\n",
    "us = Field.from_netcdf(filenames['US'], variables['US'], dimensions,allow_time_extrapolation=True)\n",
    "vs = Field.from_netcdf(filenames['VS'], variables['VS'], dimensions,allow_time_extrapolation=True)\n",
    "wl = Field.from_netcdf(filenames['WL'], variables['WL'], dimensions,allow_time_extrapolation=True)\n",
    "field_set.add_field(us)\n",
    "field_set.add_field(vs)\n",
    "field_set.add_field(wl)\n",
    "field_set.add_vector_field(VectorField(\"stokes\", us, vs, wl))\n",
    "\n",
    "#Add Vertical diffusivity coefficient field\n",
    "dimensions = {'lon': 'glamt', 'lat': 'gphit', 'depth': 'depthw','time': 'time_counter'}\n",
    "Kz = Field.from_netcdf(filenames['Kz'], variables['Kz'], dimensions,allow_time_extrapolation=True)\n",
    "field_set.add_field(Kz)\n",
    "\n",
    "#Add fields located at node T\n",
    "dimensions = {'lon': 'glamt', 'lat': 'gphit', 'depth': 'deptht','time': 'time_counter'}\n",
    "Diat = Field.from_netcdf(filenames['Diat'], variables['Diat'], dimensions,allow_time_extrapolation=True)\n",
    "Flag = Field.from_netcdf(filenames['Flag'], variables['Flag'], dimensions,allow_time_extrapolation=True)\n",
    "R = Field.from_netcdf(filenames['R'], variables['R'], dimensions,allow_time_extrapolation=True)\n",
    "S = Field.from_netcdf(filenames['S'], variables['S'], dimensions,allow_time_extrapolation=True)\n",
    "T = Field.from_netcdf(filenames['T'], variables['T'], dimensions,allow_time_extrapolation=True)\n",
    "field_set.add_field(Diat)\n",
    "field_set.add_field(Flag)\n",
    "field_set.add_field(R)\n",
    "field_set.add_field(S)\n",
    "field_set.add_field(T)\n",
    "\n",
    "#Add Bathymetry 2D field\n",
    "dimensions = {'lon': 'glamt', 'lat': 'gphit'}\n",
    "Bth = Field.from_netcdf(filenames['Bathy'], variables['Bathy'], dimensions,allow_time_extrapolation=True)\n",
    "field_set.add_field(Bth)\n",
    "\n",
    "#Add SSH and Rivers 2D fields\n",
    "dimensions = {'lon': 'glamt', 'lat': 'gphit','time': 'time_counter'}\n",
    "cms = Field.from_netcdf(filenames['ssh'], variables['ssh'], dimensions,allow_time_extrapolation=True)\n",
    "field_set.add_field(cms)\n",
    "Fraser = Field.from_netcdf(filenames['FS'], variables['FS'], dimensions,allow_time_extrapolation=True,timestamps=get_timestamps(start,length))\n",
    "field_set.add_field(Fraser)\n",
    "\n",
    "####BUILD Particle typeN######\n",
    "MPParticle = particle_maker(param)"
   ]
  },
  {
   "cell_type": "code",
   "execution_count": 19,
   "metadata": {},
   "outputs": [],
   "source": [
    "if restart==1:\n",
    "    name_temp=find_temp(paths['out'])\n",
    "    os.system(f\"cd {paths['out']} && parcels_convert_npydir_to_netcdf {name_temp}\")\n",
    "    outfile=newest(paths['out'])\n",
    "    pset = ParticleSet.from_particlefile(field_set, MPParticle,outfile)\n",
    "else:\n",
    "    if dtp == 0:\n",
    "        pset = ParticleSet.from_list(field_set, MPParticle, lon=lon, lat=lat, depth=z,time=start+timedelta(hours=odt))\n",
    "    else:\n",
    "        pset = ParticleSet.from_list(field_set, MPParticle, lon=lon, lat=lat, depth=z, repeatdt = timedelta(hours=dtp))"
   ]
  },
  {
   "cell_type": "code",
   "execution_count": 22,
   "metadata": {},
   "outputs": [],
   "source": [
    "def kernel_asem(pset,config):\n",
    "    KER = Advection\n",
    "    if 'Buoyancy' in config['kernel']:\n",
    "        KER += pset.Kernel(Buoyancy)\n",
    "    if 'Stokes_drift' in config['kernel']:\n",
    "        KER += pset.Kernel(Stokes_drift)\n",
    "    if 'Beaching' in config['kernel']:\n",
    "        KER += pset.Kernel(Beaching)\n",
    "        KER += pset.Kernel(Unbeaching)\n",
    "    if 'Turb_mix' in config['kernel']:\n",
    "        KER += pset.Kernel(turb_mix)\n",
    "    if 'Biofilm' in config['kernel']:\n",
    "        KER += pset.Kernel(Biofilm)\n",
    "    if 'Stokes_driftRK4_3D' in config['kernel']:\n",
    "        KER += pset.Kernel(Stokes_driftRK4_3D)\n",
    "    \n",
    "    return KER"
   ]
  },
  {
   "cell_type": "code",
   "execution_count": 28,
   "metadata": {},
   "outputs": [
    {
     "ename": "AttributeError",
     "evalue": "Particle type PType<ArrayMPParticle>::[PVar<lon|<class 'numpy.float64'>>, PVar<lat|<class 'numpy.float64'>>, PVar<depth|<class 'numpy.float64'>>, PVar<time|<class 'numpy.float64'>>, PVar<id|<class 'numpy.int64'>>, PVar<dt|<class 'numpy.float64'>>, PVar<_next_dt|<class 'numpy.float64'>>, PVar<once_written|<class 'numpy.int32'>>, PVar<state|<class 'numpy.int32'>>, PVar<ro|<class 'numpy.float32'>>, PVar<diameter|<class 'numpy.float32'>>, PVar<SDD|<class 'numpy.float32'>>, PVar<SDL|<class 'numpy.float32'>>, PVar<length|<class 'numpy.float32'>>, PVar<Lb|<class 'numpy.float32'>>, PVar<Db|<class 'numpy.float32'>>, PVar<Ub|<class 'numpy.float32'>>, PVar<beached|<class 'numpy.float32'>>, PVar<tau|<class 'numpy.float32'>>, PVar<fratio|<class 'numpy.float32'>>, PVar<Nbac|<class 'numpy.float32'>>, PVar<Nflag|<class 'numpy.float32'>>, PVar<Kh|<class 'numpy.float32'>>, PVar<dtmax|<class 'numpy.float32'>>, PVar<ngrids|<class 'numpy.int32'>>, PVar<xi|<class 'numpy.int32'>>, PVar<yi|<class 'numpy.int32'>>, PVar<zi|<class 'numpy.int32'>>, PVar<ti|<class 'numpy.int32'>>] does not define attribute 'ws.\nPlease add 'ws' to PType<ArrayMPParticle>::[PVar<lon|<class 'numpy.float64'>>, PVar<lat|<class 'numpy.float64'>>, PVar<depth|<class 'numpy.float64'>>, PVar<time|<class 'numpy.float64'>>, PVar<id|<class 'numpy.int64'>>, PVar<dt|<class 'numpy.float64'>>, PVar<_next_dt|<class 'numpy.float64'>>, PVar<once_written|<class 'numpy.int32'>>, PVar<state|<class 'numpy.int32'>>, PVar<ro|<class 'numpy.float32'>>, PVar<diameter|<class 'numpy.float32'>>, PVar<SDD|<class 'numpy.float32'>>, PVar<SDL|<class 'numpy.float32'>>, PVar<length|<class 'numpy.float32'>>, PVar<Lb|<class 'numpy.float32'>>, PVar<Db|<class 'numpy.float32'>>, PVar<Ub|<class 'numpy.float32'>>, PVar<beached|<class 'numpy.float32'>>, PVar<tau|<class 'numpy.float32'>>, PVar<fratio|<class 'numpy.float32'>>, PVar<Nbac|<class 'numpy.float32'>>, PVar<Nflag|<class 'numpy.float32'>>, PVar<Kh|<class 'numpy.float32'>>, PVar<dtmax|<class 'numpy.float32'>>, PVar<ngrids|<class 'numpy.int32'>>, PVar<xi|<class 'numpy.int32'>>, PVar<yi|<class 'numpy.int32'>>, PVar<zi|<class 'numpy.int32'>>, PVar<ti|<class 'numpy.int32'>>].users_vars or define an appropriate sub-class.",
     "output_type": "error",
     "traceback": [
      "\u001b[0;31m---------------------------------------------------------------------------\u001b[0m",
      "\u001b[0;31mAttributeError\u001b[0m                            Traceback (most recent call last)",
      "\u001b[1;32m/home/jvalenti/MOAD/analysis-jose/notebooks/Test_runs/RunOP.ipynb Cell 9\u001b[0m line \u001b[0;36m1\n\u001b[0;32m----> <a href='vscode-notebook-cell://ssh-remote%2Bsalish/home/jvalenti/MOAD/analysis-jose/notebooks/Test_runs/RunOP.ipynb#X11sdnNjb2RlLXJlbW90ZQ%3D%3D?line=0'>1</a>\u001b[0m KERNELS \u001b[39m=\u001b[39m  Advection \u001b[39m+\u001b[39m pset\u001b[39m.\u001b[39;49mKernel(Buoyancy) \u001b[39m+\u001b[39m pset\u001b[39m.\u001b[39mKernel(Stokes_drift) \u001b[39m+\u001b[39m pset\u001b[39m.\u001b[39mKernel(turb_mix) \u001b[39m+\u001b[39m pset\u001b[39m.\u001b[39mKernel(Displacement) \u001b[39m+\u001b[39m pset\u001b[39m.\u001b[39mKernel(Unbeaching)\n\u001b[1;32m      <a href='vscode-notebook-cell://ssh-remote%2Bsalish/home/jvalenti/MOAD/analysis-jose/notebooks/Test_runs/RunOP.ipynb#X11sdnNjb2RlLXJlbW90ZQ%3D%3D?line=1'>2</a>\u001b[0m pset\u001b[39m.\u001b[39mexecute(KERNELS,\n\u001b[1;32m      <a href='vscode-notebook-cell://ssh-remote%2Bsalish/home/jvalenti/MOAD/analysis-jose/notebooks/Test_runs/RunOP.ipynb#X11sdnNjb2RlLXJlbW90ZQ%3D%3D?line=2'>3</a>\u001b[0m             runtime\u001b[39m=\u001b[39mduration, \n\u001b[1;32m      <a href='vscode-notebook-cell://ssh-remote%2Bsalish/home/jvalenti/MOAD/analysis-jose/notebooks/Test_runs/RunOP.ipynb#X11sdnNjb2RlLXJlbW90ZQ%3D%3D?line=3'>4</a>\u001b[0m             dt\u001b[39m=\u001b[39mdt,\n\u001b[1;32m      <a href='vscode-notebook-cell://ssh-remote%2Bsalish/home/jvalenti/MOAD/analysis-jose/notebooks/Test_runs/RunOP.ipynb#X11sdnNjb2RlLXJlbW90ZQ%3D%3D?line=4'>5</a>\u001b[0m             output_file\u001b[39m=\u001b[39mpset\u001b[39m.\u001b[39mParticleFile(name\u001b[39m=\u001b[39moutfile, outputdt\u001b[39m=\u001b[39mtimedelta(hours\u001b[39m=\u001b[39modt)),\n\u001b[1;32m      <a href='vscode-notebook-cell://ssh-remote%2Bsalish/home/jvalenti/MOAD/analysis-jose/notebooks/Test_runs/RunOP.ipynb#X11sdnNjb2RlLXJlbW90ZQ%3D%3D?line=5'>6</a>\u001b[0m             recovery\u001b[39m=\u001b[39m{ErrorCode\u001b[39m.\u001b[39mErrorOutOfBounds: DeleteParticle})\n",
      "File \u001b[0;32m~/conda_envs/Parcels_v3/lib/python3.11/site-packages/parcels/particleset/particlesetsoa.py:722\u001b[0m, in \u001b[0;36mParticleSetSOA.Kernel\u001b[0;34m(self, pyfunc, c_include, delete_cfiles)\u001b[0m\n\u001b[1;32m    714\u001b[0m \u001b[39mif\u001b[39;00m \u001b[39misinstance\u001b[39m(pyfunc, \u001b[39mlist\u001b[39m):\n\u001b[1;32m    715\u001b[0m     \u001b[39mreturn\u001b[39;00m Kernel\u001b[39m.\u001b[39mfrom_list(\n\u001b[1;32m    716\u001b[0m         \u001b[39mself\u001b[39m\u001b[39m.\u001b[39mfieldset,\n\u001b[1;32m    717\u001b[0m         \u001b[39mself\u001b[39m\u001b[39m.\u001b[39mcollection\u001b[39m.\u001b[39mptype,\n\u001b[0;32m   (...)\u001b[0m\n\u001b[1;32m    720\u001b[0m         delete_cfiles\u001b[39m=\u001b[39mdelete_cfiles,\n\u001b[1;32m    721\u001b[0m     )\n\u001b[0;32m--> 722\u001b[0m \u001b[39mreturn\u001b[39;00m Kernel(\n\u001b[1;32m    723\u001b[0m     \u001b[39mself\u001b[39;49m\u001b[39m.\u001b[39;49mfieldset,\n\u001b[1;32m    724\u001b[0m     \u001b[39mself\u001b[39;49m\u001b[39m.\u001b[39;49mcollection\u001b[39m.\u001b[39;49mptype,\n\u001b[1;32m    725\u001b[0m     pyfunc\u001b[39m=\u001b[39;49mpyfunc,\n\u001b[1;32m    726\u001b[0m     c_include\u001b[39m=\u001b[39;49mc_include,\n\u001b[1;32m    727\u001b[0m     delete_cfiles\u001b[39m=\u001b[39;49mdelete_cfiles,\n\u001b[1;32m    728\u001b[0m )\n",
      "File \u001b[0;32m~/conda_envs/Parcels_v3/lib/python3.11/site-packages/parcels/kernel/kernelsoa.py:98\u001b[0m, in \u001b[0;36mKernelSOA.__init__\u001b[0;34m(self, fieldset, ptype, pyfunc, funcname, funccode, py_ast, funcvars, c_include, delete_cfiles)\u001b[0m\n\u001b[1;32m     96\u001b[0m \u001b[39mif\u001b[39;00m \u001b[39mself\u001b[39m\u001b[39m.\u001b[39mptype\u001b[39m.\u001b[39muses_jit:\n\u001b[1;32m     97\u001b[0m     kernelgen \u001b[39m=\u001b[39m KernelGenerator(fieldset, ptype)\n\u001b[0;32m---> 98\u001b[0m     kernel_ccode \u001b[39m=\u001b[39m kernelgen\u001b[39m.\u001b[39;49mgenerate(deepcopy(\u001b[39mself\u001b[39;49m\u001b[39m.\u001b[39;49mpy_ast),\n\u001b[1;32m     99\u001b[0m                                       \u001b[39mself\u001b[39;49m\u001b[39m.\u001b[39;49mfuncvars)\n\u001b[1;32m    100\u001b[0m     \u001b[39mself\u001b[39m\u001b[39m.\u001b[39mfield_args \u001b[39m=\u001b[39m kernelgen\u001b[39m.\u001b[39mfield_args\n\u001b[1;32m    101\u001b[0m     \u001b[39mself\u001b[39m\u001b[39m.\u001b[39mvector_field_args \u001b[39m=\u001b[39m kernelgen\u001b[39m.\u001b[39mvector_field_args\n",
      "File \u001b[0;32m~/conda_envs/Parcels_v3/lib/python3.11/site-packages/parcels/compilation/codegenerator.py:520\u001b[0m, in \u001b[0;36mAbstractKernelGenerator.generate\u001b[0;34m(self, py_ast, funcvars)\u001b[0m\n\u001b[1;32m    517\u001b[0m \u001b[39mdef\u001b[39;00m \u001b[39mgenerate\u001b[39m(\u001b[39mself\u001b[39m, py_ast, funcvars):\n\u001b[1;32m    518\u001b[0m     \u001b[39m# Replace occurences of intrinsic objects in Python AST\u001b[39;00m\n\u001b[1;32m    519\u001b[0m     transformer \u001b[39m=\u001b[39m IntrinsicTransformer(\u001b[39mself\u001b[39m\u001b[39m.\u001b[39mfieldset, \u001b[39mself\u001b[39m\u001b[39m.\u001b[39mptype)\n\u001b[0;32m--> 520\u001b[0m     py_ast \u001b[39m=\u001b[39m transformer\u001b[39m.\u001b[39;49mvisit(py_ast)\n\u001b[1;32m    522\u001b[0m     \u001b[39m# Untangle Pythonic tuple-assignment statements\u001b[39;00m\n\u001b[1;32m    523\u001b[0m     py_ast \u001b[39m=\u001b[39m TupleSplitter()\u001b[39m.\u001b[39mvisit(py_ast)\n",
      "File \u001b[0;32m~/conda_envs/Parcels_v3/lib/python3.11/ast.py:418\u001b[0m, in \u001b[0;36mNodeVisitor.visit\u001b[0;34m(self, node)\u001b[0m\n\u001b[1;32m    416\u001b[0m method \u001b[39m=\u001b[39m \u001b[39m'\u001b[39m\u001b[39mvisit_\u001b[39m\u001b[39m'\u001b[39m \u001b[39m+\u001b[39m node\u001b[39m.\u001b[39m\u001b[39m__class__\u001b[39m\u001b[39m.\u001b[39m\u001b[39m__name__\u001b[39m\n\u001b[1;32m    417\u001b[0m visitor \u001b[39m=\u001b[39m \u001b[39mgetattr\u001b[39m(\u001b[39mself\u001b[39m, method, \u001b[39mself\u001b[39m\u001b[39m.\u001b[39mgeneric_visit)\n\u001b[0;32m--> 418\u001b[0m \u001b[39mreturn\u001b[39;00m visitor(node)\n",
      "File \u001b[0;32m~/conda_envs/Parcels_v3/lib/python3.11/ast.py:494\u001b[0m, in \u001b[0;36mNodeTransformer.generic_visit\u001b[0;34m(self, node)\u001b[0m\n\u001b[1;32m    492\u001b[0m \u001b[39mfor\u001b[39;00m value \u001b[39min\u001b[39;00m old_value:\n\u001b[1;32m    493\u001b[0m     \u001b[39mif\u001b[39;00m \u001b[39misinstance\u001b[39m(value, AST):\n\u001b[0;32m--> 494\u001b[0m         value \u001b[39m=\u001b[39m \u001b[39mself\u001b[39;49m\u001b[39m.\u001b[39;49mvisit(value)\n\u001b[1;32m    495\u001b[0m         \u001b[39mif\u001b[39;00m value \u001b[39mis\u001b[39;00m \u001b[39mNone\u001b[39;00m:\n\u001b[1;32m    496\u001b[0m             \u001b[39mcontinue\u001b[39;00m\n",
      "File \u001b[0;32m~/conda_envs/Parcels_v3/lib/python3.11/ast.py:418\u001b[0m, in \u001b[0;36mNodeVisitor.visit\u001b[0;34m(self, node)\u001b[0m\n\u001b[1;32m    416\u001b[0m method \u001b[39m=\u001b[39m \u001b[39m'\u001b[39m\u001b[39mvisit_\u001b[39m\u001b[39m'\u001b[39m \u001b[39m+\u001b[39m node\u001b[39m.\u001b[39m\u001b[39m__class__\u001b[39m\u001b[39m.\u001b[39m\u001b[39m__name__\u001b[39m\n\u001b[1;32m    417\u001b[0m visitor \u001b[39m=\u001b[39m \u001b[39mgetattr\u001b[39m(\u001b[39mself\u001b[39m, method, \u001b[39mself\u001b[39m\u001b[39m.\u001b[39mgeneric_visit)\n\u001b[0;32m--> 418\u001b[0m \u001b[39mreturn\u001b[39;00m visitor(node)\n",
      "File \u001b[0;32m~/conda_envs/Parcels_v3/lib/python3.11/ast.py:494\u001b[0m, in \u001b[0;36mNodeTransformer.generic_visit\u001b[0;34m(self, node)\u001b[0m\n\u001b[1;32m    492\u001b[0m \u001b[39mfor\u001b[39;00m value \u001b[39min\u001b[39;00m old_value:\n\u001b[1;32m    493\u001b[0m     \u001b[39mif\u001b[39;00m \u001b[39misinstance\u001b[39m(value, AST):\n\u001b[0;32m--> 494\u001b[0m         value \u001b[39m=\u001b[39m \u001b[39mself\u001b[39;49m\u001b[39m.\u001b[39;49mvisit(value)\n\u001b[1;32m    495\u001b[0m         \u001b[39mif\u001b[39;00m value \u001b[39mis\u001b[39;00m \u001b[39mNone\u001b[39;00m:\n\u001b[1;32m    496\u001b[0m             \u001b[39mcontinue\u001b[39;00m\n",
      "File \u001b[0;32m~/conda_envs/Parcels_v3/lib/python3.11/ast.py:418\u001b[0m, in \u001b[0;36mNodeVisitor.visit\u001b[0;34m(self, node)\u001b[0m\n\u001b[1;32m    416\u001b[0m method \u001b[39m=\u001b[39m \u001b[39m'\u001b[39m\u001b[39mvisit_\u001b[39m\u001b[39m'\u001b[39m \u001b[39m+\u001b[39m node\u001b[39m.\u001b[39m\u001b[39m__class__\u001b[39m\u001b[39m.\u001b[39m\u001b[39m__name__\u001b[39m\n\u001b[1;32m    417\u001b[0m visitor \u001b[39m=\u001b[39m \u001b[39mgetattr\u001b[39m(\u001b[39mself\u001b[39m, method, \u001b[39mself\u001b[39m\u001b[39m.\u001b[39mgeneric_visit)\n\u001b[0;32m--> 418\u001b[0m \u001b[39mreturn\u001b[39;00m visitor(node)\n",
      "File \u001b[0;32m~/conda_envs/Parcels_v3/lib/python3.11/site-packages/parcels/compilation/codegenerator.py:403\u001b[0m, in \u001b[0;36mIntrinsicTransformer.visit_Assign\u001b[0;34m(self, node)\u001b[0m\n\u001b[1;32m    402\u001b[0m \u001b[39mdef\u001b[39;00m \u001b[39mvisit_Assign\u001b[39m(\u001b[39mself\u001b[39m, node):\n\u001b[0;32m--> 403\u001b[0m     node\u001b[39m.\u001b[39mtargets \u001b[39m=\u001b[39m [\u001b[39mself\u001b[39;49m\u001b[39m.\u001b[39;49mvisit(t) \u001b[39mfor\u001b[39;49;00m t \u001b[39min\u001b[39;49;00m node\u001b[39m.\u001b[39;49mtargets]\n\u001b[1;32m    404\u001b[0m     node\u001b[39m.\u001b[39mvalue \u001b[39m=\u001b[39m \u001b[39mself\u001b[39m\u001b[39m.\u001b[39mvisit(node\u001b[39m.\u001b[39mvalue)\n\u001b[1;32m    405\u001b[0m     stmts \u001b[39m=\u001b[39m [node]\n",
      "File \u001b[0;32m~/conda_envs/Parcels_v3/lib/python3.11/site-packages/parcels/compilation/codegenerator.py:403\u001b[0m, in \u001b[0;36m<listcomp>\u001b[0;34m(.0)\u001b[0m\n\u001b[1;32m    402\u001b[0m \u001b[39mdef\u001b[39;00m \u001b[39mvisit_Assign\u001b[39m(\u001b[39mself\u001b[39m, node):\n\u001b[0;32m--> 403\u001b[0m     node\u001b[39m.\u001b[39mtargets \u001b[39m=\u001b[39m [\u001b[39mself\u001b[39;49m\u001b[39m.\u001b[39;49mvisit(t) \u001b[39mfor\u001b[39;00m t \u001b[39min\u001b[39;00m node\u001b[39m.\u001b[39mtargets]\n\u001b[1;32m    404\u001b[0m     node\u001b[39m.\u001b[39mvalue \u001b[39m=\u001b[39m \u001b[39mself\u001b[39m\u001b[39m.\u001b[39mvisit(node\u001b[39m.\u001b[39mvalue)\n\u001b[1;32m    405\u001b[0m     stmts \u001b[39m=\u001b[39m [node]\n",
      "File \u001b[0;32m~/conda_envs/Parcels_v3/lib/python3.11/ast.py:418\u001b[0m, in \u001b[0;36mNodeVisitor.visit\u001b[0;34m(self, node)\u001b[0m\n\u001b[1;32m    416\u001b[0m method \u001b[39m=\u001b[39m \u001b[39m'\u001b[39m\u001b[39mvisit_\u001b[39m\u001b[39m'\u001b[39m \u001b[39m+\u001b[39m node\u001b[39m.\u001b[39m\u001b[39m__class__\u001b[39m\u001b[39m.\u001b[39m\u001b[39m__name__\u001b[39m\n\u001b[1;32m    417\u001b[0m visitor \u001b[39m=\u001b[39m \u001b[39mgetattr\u001b[39m(\u001b[39mself\u001b[39m, method, \u001b[39mself\u001b[39m\u001b[39m.\u001b[39mgeneric_visit)\n\u001b[0;32m--> 418\u001b[0m \u001b[39mreturn\u001b[39;00m visitor(node)\n",
      "File \u001b[0;32m~/conda_envs/Parcels_v3/lib/python3.11/site-packages/parcels/compilation/codegenerator.py:321\u001b[0m, in \u001b[0;36mIntrinsicTransformer.visit_Attribute\u001b[0;34m(self, node)\u001b[0m\n\u001b[1;32m    319\u001b[0m     \u001b[39mif\u001b[39;00m node\u001b[39m.\u001b[39mattr \u001b[39m==\u001b[39m \u001b[39m'\u001b[39m\u001b[39mupdate_next_dt\u001b[39m\u001b[39m'\u001b[39m:\n\u001b[1;32m    320\u001b[0m         \u001b[39mreturn\u001b[39;00m \u001b[39m'\u001b[39m\u001b[39mupdate_next_dt\u001b[39m\u001b[39m'\u001b[39m\n\u001b[0;32m--> 321\u001b[0m     \u001b[39mreturn\u001b[39;00m \u001b[39mgetattr\u001b[39m(node\u001b[39m.\u001b[39mvalue, node\u001b[39m.\u001b[39mattr)\n\u001b[1;32m    322\u001b[0m \u001b[39melse\u001b[39;00m:\n\u001b[1;32m    323\u001b[0m     \u001b[39mif\u001b[39;00m node\u001b[39m.\u001b[39mvalue\u001b[39m.\u001b[39mid \u001b[39min\u001b[39;00m [\u001b[39m'\u001b[39m\u001b[39mnp\u001b[39m\u001b[39m'\u001b[39m, \u001b[39m'\u001b[39m\u001b[39mnumpy\u001b[39m\u001b[39m'\u001b[39m]:\n",
      "File \u001b[0;32m~/conda_envs/Parcels_v3/lib/python3.11/site-packages/parcels/compilation/codegenerator.py:269\u001b[0m, in \u001b[0;36mParticleNode.__getattr__\u001b[0;34m(self, attr)\u001b[0m\n\u001b[1;32m    267\u001b[0m     \u001b[39mreturn\u001b[39;00m \u001b[39mself\u001b[39m\u001b[39m.\u001b[39mattr_node_class(\u001b[39mself\u001b[39m, \u001b[39m'\u001b[39m\u001b[39mstate\u001b[39m\u001b[39m'\u001b[39m)\n\u001b[1;32m    268\u001b[0m \u001b[39melse\u001b[39;00m:\n\u001b[0;32m--> 269\u001b[0m     \u001b[39mraise\u001b[39;00m \u001b[39mAttributeError\u001b[39;00m(\u001b[39mf\u001b[39m\u001b[39m\"\u001b[39m\u001b[39mParticle type \u001b[39m\u001b[39m{\u001b[39;00m\u001b[39mself\u001b[39m\u001b[39m.\u001b[39mobj\u001b[39m}\u001b[39;00m\u001b[39m does not define attribute \u001b[39m\u001b[39m'\u001b[39m\u001b[39m{\u001b[39;00mattr\u001b[39m}\u001b[39;00m\u001b[39m.\u001b[39m\u001b[39m\\n\u001b[39;00m\u001b[39m\"\u001b[39m\n\u001b[1;32m    270\u001b[0m                          \u001b[39mf\u001b[39m\u001b[39m\"\u001b[39m\u001b[39mPlease add \u001b[39m\u001b[39m'\u001b[39m\u001b[39m{\u001b[39;00mattr\u001b[39m}\u001b[39;00m\u001b[39m'\u001b[39m\u001b[39m to \u001b[39m\u001b[39m{\u001b[39;00m\u001b[39mself\u001b[39m\u001b[39m.\u001b[39mobj\u001b[39m}\u001b[39;00m\u001b[39m.users_vars or define an appropriate sub-class.\u001b[39m\u001b[39m\"\u001b[39m)\n",
      "\u001b[0;31mAttributeError\u001b[0m: Particle type PType<ArrayMPParticle>::[PVar<lon|<class 'numpy.float64'>>, PVar<lat|<class 'numpy.float64'>>, PVar<depth|<class 'numpy.float64'>>, PVar<time|<class 'numpy.float64'>>, PVar<id|<class 'numpy.int64'>>, PVar<dt|<class 'numpy.float64'>>, PVar<_next_dt|<class 'numpy.float64'>>, PVar<once_written|<class 'numpy.int32'>>, PVar<state|<class 'numpy.int32'>>, PVar<ro|<class 'numpy.float32'>>, PVar<diameter|<class 'numpy.float32'>>, PVar<SDD|<class 'numpy.float32'>>, PVar<SDL|<class 'numpy.float32'>>, PVar<length|<class 'numpy.float32'>>, PVar<Lb|<class 'numpy.float32'>>, PVar<Db|<class 'numpy.float32'>>, PVar<Ub|<class 'numpy.float32'>>, PVar<beached|<class 'numpy.float32'>>, PVar<tau|<class 'numpy.float32'>>, PVar<fratio|<class 'numpy.float32'>>, PVar<Nbac|<class 'numpy.float32'>>, PVar<Nflag|<class 'numpy.float32'>>, PVar<Kh|<class 'numpy.float32'>>, PVar<dtmax|<class 'numpy.float32'>>, PVar<ngrids|<class 'numpy.int32'>>, PVar<xi|<class 'numpy.int32'>>, PVar<yi|<class 'numpy.int32'>>, PVar<zi|<class 'numpy.int32'>>, PVar<ti|<class 'numpy.int32'>>] does not define attribute 'ws.\nPlease add 'ws' to PType<ArrayMPParticle>::[PVar<lon|<class 'numpy.float64'>>, PVar<lat|<class 'numpy.float64'>>, PVar<depth|<class 'numpy.float64'>>, PVar<time|<class 'numpy.float64'>>, PVar<id|<class 'numpy.int64'>>, PVar<dt|<class 'numpy.float64'>>, PVar<_next_dt|<class 'numpy.float64'>>, PVar<once_written|<class 'numpy.int32'>>, PVar<state|<class 'numpy.int32'>>, PVar<ro|<class 'numpy.float32'>>, PVar<diameter|<class 'numpy.float32'>>, PVar<SDD|<class 'numpy.float32'>>, PVar<SDL|<class 'numpy.float32'>>, PVar<length|<class 'numpy.float32'>>, PVar<Lb|<class 'numpy.float32'>>, PVar<Db|<class 'numpy.float32'>>, PVar<Ub|<class 'numpy.float32'>>, PVar<beached|<class 'numpy.float32'>>, PVar<tau|<class 'numpy.float32'>>, PVar<fratio|<class 'numpy.float32'>>, PVar<Nbac|<class 'numpy.float32'>>, PVar<Nflag|<class 'numpy.float32'>>, PVar<Kh|<class 'numpy.float32'>>, PVar<dtmax|<class 'numpy.float32'>>, PVar<ngrids|<class 'numpy.int32'>>, PVar<xi|<class 'numpy.int32'>>, PVar<yi|<class 'numpy.int32'>>, PVar<zi|<class 'numpy.int32'>>, PVar<ti|<class 'numpy.int32'>>].users_vars or define an appropriate sub-class."
     ]
    }
   ],
   "source": [
    "KERNELS =  Advection + pset.Kernel(Buoyancy) + pset.Kernel(Stokes_drift) + pset.Kernel(turb_mix) + pset.Kernel(Displacement) + pset.Kernel(Unbeaching)\n",
    "pset.execute(KERNELS,\n",
    "            runtime=duration, \n",
    "            dt=dt,\n",
    "            output_file=pset.ParticleFile(name=outfile, outputdt=timedelta(hours=odt)),\n",
    "            recovery={ErrorCode.ErrorOutOfBounds: DeleteParticle})"
   ]
  }
 ],
 "metadata": {
  "kernelspec": {
   "display_name": "general",
   "language": "python",
   "name": "python3"
  },
  "language_info": {
   "codemirror_mode": {
    "name": "ipython",
    "version": 3
   },
   "file_extension": ".py",
   "mimetype": "text/x-python",
   "name": "python",
   "nbconvert_exporter": "python",
   "pygments_lexer": "ipython3",
   "version": "3.11.4"
  },
  "orig_nbformat": 4,
  "vscode": {
   "interpreter": {
    "hash": "c18d5b48c0702a9e14ce9f1a358d9af7e982f07ccbb6648362fbf5930d0b5c56"
   }
  }
 },
 "nbformat": 4,
 "nbformat_minor": 2
}
