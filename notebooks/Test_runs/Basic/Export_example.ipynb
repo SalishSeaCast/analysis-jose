{
 "cells": [
  {
   "cell_type": "code",
   "execution_count": 1,
   "metadata": {},
   "outputs": [],
   "source": [
    "%matplotlib inline\n",
    "import sys\n",
    "import xarray as xr\n",
    "import numpy as np\n",
    "import os\n",
    "import yaml\n",
    "import math\n",
    "from datetime import datetime, timedelta\n",
    "from parcels import FieldSet, Field, VectorField, ParticleSet, JITParticle, ParcelsRandom, Variable\n",
    "import matplotlib.pyplot as plt\n",
    "from cartopy import crs, feature\n",
    "\n",
    "sys.path.append('/home/jvalenti/MOAD/analysis-jose/Source')\n",
    "\n",
    "from OP_functions import *\n",
    "import cmocean\n",
    "cmap = cmocean.cm.deep\n",
    "\n",
    "import warnings\n",
    "warnings.simplefilter(action='ignore', category=FutureWarning)\n"
   ]
  },
  {
   "cell_type": "code",
   "execution_count": 2,
   "metadata": {},
   "outputs": [],
   "source": [
    "def get_WW3_path(date):\n",
    "    \"\"\"Construct WW3 results path given the date\n",
    "    e.g., /opp/wwatch3/nowcast/SoG_ww3_fields_YYYYMMDD_YYYYMMDD.nc\n",
    "    :arg date: date of WW3 record\n",
    "    :type date: :py:class:`datetime.datetime`\n",
    "    :returns: WW3 path\n",
    "    :rtype: str\n",
    "    \"\"\"\n",
    "    # Make WW3 path\n",
    "    path = '/opp/wwatch3/hindcast'\n",
    "    path2 = '/opp/wwatch3/nowcast'\n",
    "    datestr = [date.strftime(fmt) for fmt in ('%d%b%y', '%Y%m%d_%Y%m%d')]\n",
    "    path = os.path.join(path, datestr[0].lower(), f'SoG_ww3_fields_{datestr[1]}.nc')\n",
    "    if not os.path.exists(path):\n",
    "        path = os.path.join(path2, datestr[0].lower(), f'SoG_ww3_fields_{datestr[1]}.nc')\n",
    "        if not os.path.exists(path):    \n",
    "            raise ValueError(f\"No WW3 record found for the specified date {date.strftime('%Y-%b-%d')}\")\n",
    "\n",
    "    return path"
   ]
  },
  {
   "cell_type": "code",
   "execution_count": 3,
   "metadata": {},
   "outputs": [],
   "source": [
    "path = {'NEMO': '/results2/SalishSea/nowcast-green.202111/',\n",
    "'coords': '/ocean/jvalenti/MOAD/grid/coordinates_seagrid_SalishSea201702.nc',\n",
    "'coordsWW3': '/ocean/jvalenti/MOAD/grid2/WW3_grid.nc',\n",
    "'mask': '/ocean/jvalenti/MOAD/grid2/mesh_mask202108_TDV.nc',\n",
    "'bat': '/ocean/jvalenti/MOAD/grid/bathymetry_202108.nc',\n",
    "'out': '/home/jvalenti/MOAD/results',\n",
    "'home': '/home/jvalenti/MOAD/analysis-jose/notebooks/parcels',\n",
    "'anim': '/home/jvalenti/MOAD/animations'}\n"
   ]
  },
  {
   "cell_type": "code",
   "execution_count": 4,
   "metadata": {},
   "outputs": [],
   "source": [
    "coords = xr.open_dataset(path['coords'], decode_times=False)\n",
    "mask = xr.open_dataset(path['mask'])"
   ]
  },
  {
   "cell_type": "code",
   "execution_count": 5,
   "metadata": {},
   "outputs": [],
   "source": [
    "#Definitions\n",
    "start = datetime(2022, 8, 23) #Start date\n",
    "length = 2 # Set Time length [days] \n",
    "dt = 90 #toggle between - or + to pick backwards or forwards \n",
    "N = 50 # 1000   # number of particles per location\n",
    "n = 30\n",
    "dmin = 0 #minimum depth\n",
    "dd = 40 #max depth difference from dmin\n",
    "dtp = 0\n",
    "odt = 1 #mins\n",
    "rrr = 1e3"
   ]
  },
  {
   "cell_type": "code",
   "execution_count": 6,
   "metadata": {},
   "outputs": [],
   "source": [
    "#Set deploy coordinates following yaml   \n",
    "clat = [48.34120226578296, 48.505077276100906]\n",
    "clon = [ -124.41273653555888,-124.40991436648912]\n",
    "\n",
    "duration = timedelta(days=length)\n",
    "#Set deploy locations\n",
    "\n",
    "clat,clon = transect_deploy(clat,clon,N)\n",
    "\n",
    "x_offset, y_offset, z = p_deploy(N,n,dmin,dd,rrr)\n",
    "\n",
    "lon = np.zeros([N,n])\n",
    "lat = np.zeros([N,n])\n",
    "for i in range(N):\n",
    "    lon[i,:]=(clon[i] + x_offset[i,:])\n",
    "    lat[i,:]=(clat[i] + y_offset[i,:])"
   ]
  },
  {
   "cell_type": "code",
   "execution_count": 7,
   "metadata": {},
   "outputs": [],
   "source": [
    "#Set start date time and the name of the output file\n",
    "name = 'Test mixing vs advection'\n",
    "daterange = [start+timedelta(days=i) for i in range(length)]\n",
    "fn =  name + '_'.join(d.strftime('%Y%m%d')+'_1n' for d in [start, start+duration]) + '.zarr'\n",
    "outfile = os.path.join(path['out'], fn)"
   ]
  },
  {
   "cell_type": "code",
   "execution_count": 8,
   "metadata": {},
   "outputs": [],
   "source": [
    "#Set start date time and the name of the output file\n",
    "name = 'Test only advection '\n",
    "daterange = [start+timedelta(days=i) for i in range(length)]\n",
    "fn =  name + '_'.join(d.strftime('%Y%m%d')+'_1n' for d in [start, start+duration]) + '.zarr'\n",
    "outfile_nomix = os.path.join(path['out'], fn)"
   ]
  },
  {
   "cell_type": "code",
   "execution_count": 9,
   "metadata": {},
   "outputs": [
    {
     "name": "stdout",
     "output_type": "stream",
     "text": [
      "WARNING: File /ocean/jvalenti/MOAD/grid/coordinates_seagrid_SalishSea201702.nc could not be decoded properly by xarray (version 2024.1.1). It will be opened with no decoding. Filling values might be wrongly parsed.\n"
     ]
    }
   ],
   "source": [
    "####BUILD FIELDS FOR SIMULATION######\n",
    "local = 0\n",
    "\n",
    "varlist=['U','V','W']\n",
    "filenames,variables=filename_set(start,length,varlist)\n",
    "dimensions = {'lon': 'glamf', 'lat': 'gphif', 'depth': 'depthw','time': 'time_counter'}\n",
    "field_set=FieldSet.from_nemo(filenames, variables, dimensions, allow_time_extrapolation=True, chunksize='auto')\n",
    "\n",
    "#Find file names and variable names ###'Diat','Flag'###\n",
    "varlist=['US','VS','WL','R','T','S','ssh','Bathy','Kz','totdepth','Vol']\n",
    "filenames,variables=filename_set(start,length,varlist)\n",
    "\n",
    "\n",
    "#Add Vertical diffusivity coefficient field\n",
    "dimensions = {'lon': 'glamt', 'lat': 'gphit', 'depth': 'depthw','time': 'time_counter'}\n",
    "Kz = Field.from_netcdf(filenames['Kz'], variables['Kz'], dimensions,allow_time_extrapolation=True, chunksize='auto')\n",
    "field_set.add_field(Kz)\n",
    "\n",
    "\n",
    "dimensions = {'lon': 'glamt', 'lat': 'gphit', 'depth': 'deptht','time': 'time_counter'}\n",
    "R = Field.from_netcdf(filenames['R'], variables['R'], dimensions,allow_time_extrapolation=True, chunksize='auto')\n",
    "field_set.add_field(R)\n",
    "\n",
    "\n",
    "#Add Bathymetry 2D field\n",
    "dimensions = {'lon': 'glamt', 'lat': 'gphit'}\n",
    "Bth = Field.from_netcdf(filenames['Bathy'], variables['Bathy'], dimensions,allow_time_extrapolation=True, chunksize='auto')\n",
    "TD = Field.from_netcdf(filenames['totdepth'], variables['totdepth'], dimensions,allow_time_extrapolation=True, chunksize='auto')\n",
    "field_set.add_field(Bth)\n",
    "field_set.add_field(TD)\n",
    "\n",
    "#Add SSH \n",
    "dimensions = {'lon': 'glamt', 'lat': 'gphit','time': 'time_counter'}\n",
    "SSH = Field.from_netcdf(filenames['ssh'], variables['ssh'], dimensions,allow_time_extrapolation=True, chunksize='auto')\n",
    "field_set.add_field(SSH)\n",
    "\n",
    "####BUILD Particle typeN######\n",
    "class MPParticle(JITParticle):    \n",
    "    vvl_factor = Variable('fact', initial =  1)    \n",
    "    wa = Variable('wa', initial =  0) \n",
    "    wm = Variable('wm', initial =  0) \n",
    "    status = Variable('status', initial =  1) "
   ]
  },
  {
   "cell_type": "code",
   "execution_count": 10,
   "metadata": {},
   "outputs": [],
   "source": [
    "pset = ParticleSet.from_list(field_set, MPParticle, lon=lon, lat=lat, depth=z,time=start+timedelta(hours=odt))"
   ]
  },
  {
   "cell_type": "code",
   "execution_count": 11,
   "metadata": {},
   "outputs": [],
   "source": [
    "def Advection(particle, fieldset, time): \n",
    "    if particle.status == 1:\n",
    "        ssh = fieldset.sossheig[time, particle.depth, particle.lat, particle.lon] #SSH(t)\n",
    "        sshn = fieldset.sossheig[time+particle.dt, particle.depth, particle.lat, particle.lon] #SSH(t+dt)\n",
    "        td = fieldset.totaldepth[time, particle.depth, particle.lat, particle.lon]#Total_depth\n",
    "        particle.fact = (1+ssh/td)\n",
    "        VVL = (sshn-ssh)*particle.depth/td\n",
    "        (u1, v1, w1) = fieldset.UVW[time, particle.depth, particle.lat, particle.lon]\n",
    "        lon1 = particle.lon + u1*.5*particle.dt\n",
    "        lat1 = particle.lat + v1*.5*particle.dt\n",
    "        dep1 = particle.depth + w1*.5*particle.dt/particle.fact\n",
    "        (u2, v2, w2) = fieldset.UVW[time + .5 * particle.dt, dep1, lat1, lon1]\n",
    "        lon2 = particle.lon + u2*.5*particle.dt\n",
    "        lat2 = particle.lat + v2*.5*particle.dt\n",
    "        dep2 = particle.depth + w2*.5*particle.dt/particle.fact\n",
    "        (u3, v3, w3) = fieldset.UVW[time + .5 * particle.dt, dep2, lat2, lon2]\n",
    "        lon3 = particle.lon + u3*particle.dt\n",
    "        lat3 = particle.lat + v3*particle.dt\n",
    "        dep3 = particle.depth + w3*particle.dt/particle.fact\n",
    "        (u4, v4, w4) = fieldset.UVW[time + particle.dt, dep3, lat3, lon3]\n",
    "        wa = (w1 + 2*w2 + 2*w3 + w4) /6.\n",
    "        particle.wa = wa* particle.dt\n",
    "        particle_dlon = (u1 + 2*u2 + 2*u3 + u4) / 6. * particle.dt\n",
    "        particle_dlat = (v1 + 2*v2 + 2*v3 + v4) / 6. * particle.dt\n",
    "        particle_ddepth = particle.wa/particle.fact + VVL\n",
    "        if particle_ddepth + particle.depth < 0:\n",
    "            particle_ddepth = - (particle_ddepth+particle.depth)\n",
    "    else:\n",
    "        particle_dlon = 0\n",
    "        particle_dlat = 0\n",
    "        particle_ddepth = 0\n",
    "\n",
    "def turb_mix(particle,fieldset,time):\n",
    "    if particle.status==1:\n",
    "        \"\"\"Vertical mixing\"\"\"\n",
    "        #Vertical mixing\n",
    "        if particle.depth + 0.5/particle.fact > td: #Only calculate gradient of diffusion for particles deeper than 0.5 otherwise OP will check for particles outside the domain and remove it.\n",
    "            Kzdz = 2*(fieldset.vert_eddy_diff[time, particle.depth, particle.lat, particle.lon]-fieldset.vert_eddy_diff[time, particle.depth-0.5/particle.fact, particle.lat, particle.lon]) #backwards difference \n",
    "        else: \n",
    "            Kzdz = 2*(fieldset.vert_eddy_diff[time, particle.depth+0.5/particle.fact, particle.lat, particle.lon]-fieldset.vert_eddy_diff[time, particle.depth, particle.lat, particle.lon]) #forward difference \n",
    "        dgrad = Kzdz*particle.dt/particle.fact\n",
    "        if particle.depth+(0.5*dgrad) > 0 and particle.depth+(0.5*dgrad) < td:\n",
    "            Kz = fieldset.vert_eddy_diff[time, particle.depth+ 0.5*dgrad, particle.lat, particle.lon] #Vertical diffusivity SSC  \n",
    "        else:\n",
    "            Kz = 0#fieldset.vert_eddy_diff[time, particle.depth, particle.lat, particle.lon] \n",
    "\n",
    "        Rr = ParcelsRandom.uniform(-1, 1)\n",
    "        d_random = sqrt(3*2*Kz*particle.dt) * Rr/particle.fact\n",
    "        dzs = (dgrad + d_random)\n",
    "        particle.wm = dzs*particle.fact\n",
    "\n",
    "        deg2met = 111319.5\n",
    "        latT = 0.6495 \n",
    "        kh = 1.5 #SSC constant value\n",
    "        Rrx = ParcelsRandom.uniform(-1, 1)\n",
    "        Rry = ParcelsRandom.uniform(-1, 1)\n",
    "        d_x = (sqrt(3*2*kh*particle.dt) * Rrx)/(deg2met*latT)\n",
    "        d_y = (sqrt(3*2*kh*particle.dt) * Rry)/deg2met   \n",
    "        d_randomx = particle.lon + d_x + particle_dlon\n",
    "        d_randomy = particle.lat + d_y + particle_dlat\n",
    "        Sbh = 1\n",
    "        Swh = 1\n",
    "        if particle.depth < 5:\n",
    "            Sbh = fieldset.sigma_theta[time, 0.51, d_randomy, d_randomx] #Check if particles reach coast at surface (SW Density = 0)\n",
    "            if Sbh==0:\n",
    "                print('particle beached')\n",
    "                particle.status = 2 \n",
    "        else:\n",
    "            Swh = fieldset.sigma_theta[time, particle.depth, d_randomy, d_randomx]\n",
    "            if Swh == 0:\n",
    "                print('particle hit wall') #Do not cross wall Keep partilce in place\n",
    "                particle.status = -1\n",
    "\n",
    "\n",
    "    \n",
    "def Displacement(particle,fieldset,time):\n",
    "    '''Apply movement calculated by other kernels'''\n",
    "    if particle.status==1:\n",
    "        #Apply turbulent mixing.\n",
    "        if dzs + particle_ddepth + particle.depth > td: #crossed bottom in dt (Reflect)\n",
    "            particle_ddepth = 2*td - (dzs + particle_ddepth + 2*particle.depth) #bounce on boundary/ no energy loss\n",
    "        elif dzs + particle.depth+ particle_ddepth < 0:\n",
    "            particle_ddepth = -(dzs + particle.depth+particle_ddepth) #reflection on surface\n",
    "        else:\n",
    "            particle_ddepth += dzs #apply mixing  \n",
    "\n",
    "        #Apply horizontal mixing (beaching for particles pushed through coast) \n",
    "        if particle.status == 1:\n",
    "            particle_dlat += d_y\n",
    "            particle_dlon += d_x\n",
    "        elif particle.status == -1:\n",
    "            particle.status = 1 #Do nothing, and resuspend\n",
    "\n",
    "def export(particle,fieldset,time):\n",
    "    if particle.status==1:\n",
    "        test =  -particle.lat*0.84120957 -83.98027258 #Checking if particle gets too close to boundary JdF\n",
    "        test2 = particle.lon*0.35157547 +90.26497859 #checking southern model boundary\n",
    "        if particle.lon<test:\n",
    "            particle.status = 5\n",
    "        if particle.lat<test2:\n",
    "            if particle.depth < 5:\n",
    "                particle.status =2 #beached\n",
    "                print('beached south')\n",
    "            else:\n",
    "                particle_dlat += 0.1*particle.dt/deg2met #northward flow to avoid trapping\n",
    "        \n",
    "def CheckOutOfBounds2(particle, fieldset, time):\n",
    "    if particle.state == StatusCode.ErrorOutOfBounds: \n",
    "        particle.delete()\n",
    "\n",
    "def CheckOutOfBounds(particle, fieldset, time):\n",
    "    if particle.state == StatusCode.ErrorOutOfBounds:    \n",
    "        if Sbh == 0: #Ready to beach particles\n",
    "            print('particle beached')\n",
    "            particle.state = StatusCode.Success\n",
    "            particle.status = 2 #beached DO NOT MOVE outside domain\n",
    "        elif Swh ==0:\n",
    "            print('particle hit wall') #Do not cross wall Keep partilce in place\n",
    "            particle.state = StatusCode.Success\n",
    "            #particle.status = -1 #crossed the wall\n",
    "        else:\n",
    "            print('lost Particle')\n",
    "            particle.status = 10 #lost\n",
    "            particle.delete()\n",
    "        \n",
    "def KeepInOcean(particle, fieldset, time):\n",
    "    if particle.state == StatusCode.ErrorThroughSurface:\n",
    "        particle.depth = 0.0\n",
    "        particle.state = StatusCode.Success\n"
   ]
  },
  {
   "cell_type": "code",
   "execution_count": 12,
   "metadata": {},
   "outputs": [
    {
     "name": "stdout",
     "output_type": "stream",
     "text": [
      "INFO: Output files are stored in /home/jvalenti/MOAD/results/Test mixing vs advection20220823_1n_20220825_1n.zarr.\n",
      " 51%|█████     | 88200.0/172800.0 [01:39<01:25, 984.26it/s] particle beached\n",
      " 56%|█████▋    | 97200.0/172800.0 [01:51<01:35, 793.30it/s]particle beached\n",
      " 62%|██████▎   | 108000.0/172800.0 [02:03<01:22, 788.97it/s]particle hit wall\n",
      " 84%|████████▍ | 145800.0/172800.0 [02:42<00:24, 1099.59it/s]particle beached\n",
      " 85%|████████▌ | 147600.0/172800.0 [02:45<00:27, 916.53it/s] particle beached\n",
      " 95%|█████████▍| 163800.0/172800.0 [03:02<00:08, 1042.80it/s]particle beached\n",
      "100%|██████████| 172800.0/172800.0 [03:05<00:00, 929.55it/s] \n"
     ]
    }
   ],
   "source": [
    "pset.execute([Advection,turb_mix,Displacement,CheckOutOfBounds,export,KeepInOcean],\n",
    "            runtime=duration, \n",
    "            dt=dt,\n",
    "            output_file=pset.ParticleFile(name=outfile, outputdt=timedelta(hours=odt)))"
   ]
  },
  {
   "cell_type": "code",
   "execution_count": 28,
   "metadata": {},
   "outputs": [
    {
     "name": "stderr",
     "output_type": "stream",
     "text": [
      "/home/jvalenti/conda_envs/Parcels_24/lib/python3.11/site-packages/xarray/core/indexing.py:1452: PerformanceWarning: Slicing with an out-of-order index is generating 394 times more chunks\n",
      "  value = value[(slice(None),) * axis + (subkey,)]\n",
      "/home/jvalenti/conda_envs/Parcels_24/lib/python3.11/site-packages/xarray/core/indexing.py:1452: PerformanceWarning: Slicing with an out-of-order index is generating 394 times more chunks\n",
      "  value = value[(slice(None),) * axis + (subkey,)]\n"
     ]
    },
    {
     "data": {
      "text/plain": [
       "Text(0.5, 1.0, 'Particles location at t = 48')"
      ]
     },
     "execution_count": 28,
     "metadata": {},
     "output_type": "execute_result"
    },
    {
     "data": {
      "image/png": "[encoded data removed]",
      "text/plain": [
       "<Figure size 500x500 with 1 Axes>"
      ]
     },
     "metadata": {},
     "output_type": "display_data"
    }
   ],
   "source": [
    "ds = xr.open_zarr(outfile)\n",
    "\n",
    "# Make map\n",
    "blevels = list(np.arange(0,500,100))\n",
    "fig,axs=plt.subplots(1,1,figsize=(5,5))\n",
    "im=axs.contourf(coords.nav_lon, coords.nav_lat, mask.totaldepth[:,:],zorder=1,cmap=cmap,levels=blevels)\n",
    "axs.contourf(coords.nav_lon, coords.nav_lat, mask.umask[0,0,:,:],zorder=2,cmap='gray',levels=[-1,0])\n",
    "plt.scatter(ds.lon[np.where(ds.status==5)][:,-1],ds.lat[np.where(ds.status==5)][:,-1],c='r')\n",
    "axs.set_ylim([47.5,49])\n",
    "axs.set_xlim([-125,-123])\n",
    "axs.set_title(f'Particles location at t = {length*24}')\n"
   ]
  }
 ],
 "metadata": {
  "kernelspec": {
   "display_name": "general",
   "language": "python",
   "name": "python3"
  },
  "language_info": {
   "codemirror_mode": {
    "name": "ipython",
    "version": 3
   },
   "file_extension": ".py",
   "mimetype": "text/x-python",
   "name": "python",
   "nbconvert_exporter": "python",
   "pygments_lexer": "ipython3",
   "version": "3.11.7"
  },
  "orig_nbformat": 4,
  "vscode": {
   "interpreter": {
    "hash": "c18d5b48c0702a9e14ce9f1a358d9af7e982f07ccbb6648362fbf5930d0b5c56"
   }
  }
 },
 "nbformat": 4,
 "nbformat_minor": 2
}
