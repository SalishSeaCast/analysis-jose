{
 "cells": [
  {
   "cell_type": "code",
   "execution_count": 18,
   "metadata": {},
   "outputs": [],
   "source": [
    "%matplotlib inline\n",
    "import numpy as np\n",
    "import pandas as pd\n",
    "import matplotlib.pyplot as plt\n",
    "from matplotlib import rc, animation\n",
    "import xarray as xr"
   ]
  },
  {
   "cell_type": "code",
   "execution_count": 23,
   "metadata": {},
   "outputs": [],
   "source": [
    "def find_centre(vol,dim):\n",
    "    a = dim*np.random.rand(1,3)\n",
    "    L = (vol*3/(4*np.pi))**0.33333\n",
    "    for i,cord in enumerate(a):\n",
    "        if cord - L < 0:\n",
    "            a[i] = L\n",
    "        elif cord + L > dim:\n",
    "            a[i] = dim - L\n",
    "    return a\n",
    "def check_concentration(N,vol):\n",
    "    dim = 100\n",
    "    lon_g = np.random.uniform(low=0, high=dim, size=(N,))\n",
    "    depth_g = np.random.uniform(low=0, high=dim, size=(N,))\n",
    "    lat_g = np.random.uniform(low=0, high=dim, size=(N,))\n",
    "\n"
   ]
  }
 ],
 "metadata": {
  "kernelspec": {
   "display_name": "Python 3.9.13 ('parcels')",
   "language": "python",
   "name": "python3"
  },
  "language_info": {
   "codemirror_mode": {
    "name": "ipython",
    "version": 3
   },
   "file_extension": ".py",
   "mimetype": "text/x-python",
   "name": "python",
   "nbconvert_exporter": "python",
   "pygments_lexer": "ipython3",
   "version": "3.10.6"
  },
  "orig_nbformat": 4,
  "vscode": {
   "interpreter": {
    "hash": "5231541ec7da1806fd4dd02418819151069191aae488b983f94d003ad3b768ff"
   }
  }
 },
 "nbformat": 4,
 "nbformat_minor": 2
}
