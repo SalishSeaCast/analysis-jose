{
 "cells": [
  {
   "cell_type": "code",
   "execution_count": 3,
   "metadata": {},
   "outputs": [],
   "source": [
    "import numpy as np\n",
    "import pandas as pd"
   ]
  },
  {
   "cell_type": "code",
   "execution_count": 2,
   "metadata": {},
   "outputs": [],
   "source": [
    "pathout = '/home/jvalenti/MOAD/results/'\n",
    "path_bat = '/home/jvalenti/MOAD/grid/bathymetry_202108.nc'\n",
    "bat = xr.open_dataset(path_bat,decode_times=False).Bathymetry\n",
    "paths=path(0)\n",
    "coord = xr.open_dataset(paths['coords'],decode_times=False)"
   ]
  },
  {
   "cell_type": "code",
   "execution_count": 3,
   "metadata": {},
   "outputs": [],
   "source": [
    "a = pd.DataFrame(coord.nav_lat)\n",
    "a.to_csv('example.csv')"
   ]
  },
  {
   "cell_type": "code",
   "execution_count": 4,
   "metadata": {},
   "outputs": [],
   "source": [
    "def p_unidist(lat0,lon0,bat):\n",
    "    latbat = np.zeros(bat.shape)\n",
    "    lonbat = np.zeros(bat.shape)\n",
    "    for i in range(bat.shape[0]):\n",
    "        for j in range(bat.shape[1]):\n",
    "            if bat[i,j]>1e-5:\n",
    "                latbat[i,j] = lat0[i,j]\n",
    "                lonbat[i,j] = lon0[i,j]\n",
    "    lat_bat = pd.DataFrame(latbat)\n",
    "    lon_bat = pd.DataFrame(lonbat)\n",
    "    lat_bat.to_csv('lat_bat.csv')\n",
    "    lon_bat.to_csv('lon_bat.csv')\n",
    "p_unidist(coord.nav_lat,coord.nav_lon,bat)"
   ]
  }
 ],
 "metadata": {
  "kernelspec": {
   "display_name": "general",
   "language": "python",
   "name": "python3"
  },
  "language_info": {
   "codemirror_mode": {
    "name": "ipython",
    "version": 3
   },
   "file_extension": ".py",
   "mimetype": "text/x-python",
   "name": "python",
   "nbconvert_exporter": "python",
   "pygments_lexer": "ipython3",
   "version": "3.10.10"
  },
  "orig_nbformat": 4,
  "vscode": {
   "interpreter": {
    "hash": "c18d5b48c0702a9e14ce9f1a358d9af7e982f07ccbb6648362fbf5930d0b5c56"
   }
  }
 },
 "nbformat": 4,
 "nbformat_minor": 2
}
