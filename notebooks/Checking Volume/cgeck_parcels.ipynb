{
 "cells": [
  {
   "cell_type": "code",
   "execution_count": 3,
   "metadata": {},
   "outputs": [],
   "source": [
    "from parcels import grid"
   ]
  },
  {
   "cell_type": "code",
   "execution_count": null,
   "metadata": {},
   "outputs": [],
   "source": [
    "class CurvilinearZGrid(CurvilinearGrid):\n",
    "    \"\"\"Curvilinear Z Grid.\n",
    "\n",
    "    :param lon: 2D array containing the longitude coordinates of the grid\n",
    "    :param lat: 2D array containing the latitude coordinates of the grid\n",
    "    :param depth: Vector containing the vertical coordinates of the grid, which are z-coordinates.\n",
    "           The depth of the different layers is thus constant.\n",
    "    :param time: Vector containing the time coordinates of the grid\n",
    "    :param time_origin: Time origin (TimeConverter object) of the time axis\n",
    "    :param mesh: String indicating the type of mesh coordinates and\n",
    "           units used during velocity interpolation:\n",
    "\n",
    "           1. spherical (default): Lat and lon in degree, with a\n",
    "              correction for zonal velocity U near the poles.\n",
    "           2. flat: No conversion, lat/lon are assumed to be in m.\n",
    "    \"\"\"\n",
    "    \n",
    "    def __init__(self, lon, lat, depth, time=None, time_origin=None, mesh='flat'):\n",
    "        super(CurvilinearZGrid, self).__init__(lon, lat, time, time_origin, mesh)\n",
    "        assert(isinstance(depth, np.ndarray) and len(depth.shape) in [3, 4]), 'depth is not a 4D numpy array'\n",
    "\n",
    "        self.gtype = GridCode.CurvilinearZGrid\n",
    "        self.depth = depth\n",
    "        self.zdim = self.depth.shape[-3]\n",
    "        self.z4d = 1 if len(self.depth.shape) == 4 else 0\n",
    "        if self.z4d:\n",
    "            # self.depth.shape[0] is 0 for S grids loaded from netcdf file\n",
    "            assert self.tdim == self.depth.shape[0] or self.depth.shape[0] == 0, 'depth dimension has the wrong format. It should be [tdim, zdim, ydim, xdim]'\n",
    "            assert self.xdim == self.depth.shape[-1] or self.depth.shape[-1] == 0, 'depth dimension has the wrong format. It should be [tdim, zdim, ydim, xdim]'\n",
    "            assert self.ydim == self.depth.shape[-2] or self.depth.shape[-2] == 0, 'depth dimension has the wrong format. It should be [tdim, zdim, ydim, xdim]'\n",
    "        else:\n",
    "            assert self.xdim == self.depth.shape[-1], 'depth dimension has the wrong format. It should be [zdim, ydim, xdim]'\n",
    "            assert self.ydim == self.depth.shape[-2], 'depth dimension has the wrong format. It should be [zdim, ydim, xdim]'\n",
    "        if not self.depth.dtype == np.float32:\n",
    "            self.depth = self.depth.astype(np.float32)"
   ]
  }
 ],
 "metadata": {
  "kernelspec": {
   "display_name": "depth4D",
   "language": "python",
   "name": "python3"
  },
  "language_info": {
   "codemirror_mode": {
    "name": "ipython",
    "version": 3
   },
   "file_extension": ".py",
   "mimetype": "text/x-python",
   "name": "python",
   "nbconvert_exporter": "python",
   "pygments_lexer": "ipython3",
   "version": "3.9.13"
  },
  "orig_nbformat": 4,
  "vscode": {
   "interpreter": {
    "hash": "f9a84be000e60f109cfc542946c2079573ccd8026adf96305b182fbe4344d4bc"
   }
  }
 },
 "nbformat": 4,
 "nbformat_minor": 2
}
