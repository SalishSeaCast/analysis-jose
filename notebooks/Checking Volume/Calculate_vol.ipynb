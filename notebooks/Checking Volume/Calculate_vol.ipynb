{
 "cells": [
  {
   "cell_type": "code",
   "execution_count": 34,
   "metadata": {},
   "outputs": [],
   "source": [
    "%matplotlib inline\n",
    "\n",
    "import sys\n",
    "import os\n",
    "import numpy as np\n",
    "import pandas as pd\n",
    "import xarray as xr\n",
    "from math import ceil,sin,cos, atan2, pi, sqrt\n",
    "import matplotlib\n",
    "from matplotlib import pyplot as plt, animation, rc,colors\n",
    "from datetime import datetime, timedelta\n",
    "from cartopy import crs, feature\n",
    "import cmocean\n",
    "import yaml\n",
    "\n",
    "from IPython.display import Image\n",
    "rc('animation', html='html5')\n",
    "\n",
    "sys.path.append('/home/jvalenti/MOAD/analysis-jose/Source')\n",
    "from OP_functions import *"
   ]
  },
  {
   "cell_type": "code",
   "execution_count": 35,
   "metadata": {},
   "outputs": [],
   "source": [
    "path_d='/results2/SalishSea/nowcast-green.201905/31oct22/SalishSea_1h_20221031_20221031_carp_T.nc'\n",
    "path_area='/results2/SalishSea/nowcast-green.201905/31oct22/SalishSea_1h_20221031_20221031_grid_T.nc'\n",
    "\n",
    "e3t = xr.open_dataset(path_d,decode_times=False).e3t\n",
    "Area = xr.open_dataset(path_area,decode_times=False).area"
   ]
  },
  {
   "cell_type": "code",
   "execution_count": 54,
   "metadata": {},
   "outputs": [],
   "source": [
    "#np.multiply(e3t,Area)"
   ]
  },
  {
   "cell_type": "code",
   "execution_count": 36,
   "metadata": {},
   "outputs": [],
   "source": [
    "# Define paths\n",
    "local = 0 #Set to 0 when working on server\n",
    "paths = path(local)\n",
    "config='/home/jvalenti/MOAD/analysis-jose/OParcels/neutral_iona.yaml'"
   ]
  },
  {
   "cell_type": "code",
   "execution_count": 37,
   "metadata": {},
   "outputs": [],
   "source": [
    "param = load_config1(config)\n",
    "start = datetime(param['startdate']['year'], param['startdate']['month'], param['startdate']['day']) #Start date\n",
    "Tmax = param['param']['length'] # Set Time length [days] \n",
    "duration = timedelta(days=Tmax)\n",
    "dt = param['param']['dt'] #toggle between - or + to pick backwards or forwards \n",
    "N = param['param']['N'] # number of deploying locations\n",
    "n = param['param']['n'] # 1000   # number of particles per location\n",
    "dmin = param['param']['dmin'] #minimum depth\n",
    "dd = param['param']['dd'] #max depth difference from dmin\n",
    "name = param['file']['name'] #name output file\n",
    "\n",
    "daterange = [start+timedelta(days=i) for i in range(Tmax)]\n",
    "fn =  name + '_'.join(d.strftime('%Y%m%d')+'_1n' for d in [start, start+duration]) + '.nc'\n",
    "outfile = os.path.join(paths['out'], fn)"
   ]
  },
  {
   "cell_type": "code",
   "execution_count": 58,
   "metadata": {},
   "outputs": [],
   "source": [
    "def paths_vol (start,duration,dt):\n",
    "    Arealist = []\n",
    "    e3tlist = []\n",
    "    for day in range(duration.days):\n",
    "            path_NEMO = make_prefix(start + timedelta(days=day), paths['NEMO'])\n",
    "            Arealist.append(path_NEMO + '_grid_T.nc')\n",
    "            e3tlist.append(path_NEMO + '_carp_T.nc')\n",
    "    return Arealist, e3tlist\n",
    "Arealist, e3tlist = paths_vol (start,duration,dt)\n"
   ]
  },
  {
   "cell_type": "code",
   "execution_count": 40,
   "metadata": {},
   "outputs": [],
   "source": [
    "def paths_vol (start,duration):\n",
    "    Arealist = []\n",
    "    e3tlist = []\n",
    "    for day in range(duration.days):\n",
    "            path_NEMO = make_prefix(start + timedelta(days=day), paths['NEMO'])\n",
    "            Arealist.append(path_NEMO + '_grid_T.nc')\n",
    "            e3tlist.append(path_NEMO + '_carp_T.nc')\n",
    "    return Arealist, e3tlist\n",
    "Arealist, e3tlist = paths_vol (start,duration)\n"
   ]
  },
  {
   "cell_type": "code",
   "execution_count": 55,
   "metadata": {},
   "outputs": [],
   "source": [
    "# def Volume_cells(start,dt):\n",
    "#     opsdir, namfmt, jlims, ilims = getWindVars(start)\n",
    "#     flist=et.index_model_files(start,start+DeltaT,opsdir,namfmt,\n",
    "#                             flen=1,ftype='None',tres=24);\n",
    "#     fs=[xr.open_dataset(ii,chunks='auto') for ii in flist['paths']]\n",
    "#     fu=xr.concat([ii['u_wind'].isel(x=slice(ilims[0],ilims[1]),y=slice(jlims[0],jlims[1])) for ii in fs],\"time_counter\")\n",
    "#     fv=xr.concat([ii['v_wind'].isel(x=slice(ilims[0],ilims[1]),y=slice(jlims[0],jlims[1])) for ii in fs],\"time_counter\")\n",
    "#     fud=xr.concat([ii['u_wind'].isel(x=72,y=62) for ii in fs],\"time_counter\")\n",
    "#     fvd=xr.concat([ii['v_wind'].isel(x=72,y=62) for ii in fs],\"time_counter\")\n",
    "#     Week1=(fu**2+fv**2)**(3/2)\n",
    "#     wind=(fu**2+fv**2)**(1/2)\n",
    "#     umean = np.nanmean(np.mean(fu,0))\n",
    "#     vmean = np.nanmean(np.mean(fv,0))\n",
    "#     Windir = np.arctan2(vmean,umean)\n",
    "#     Week1mean=np.mean(Week1,0)\n",
    "#     return np.nanmean(Windir), np.nanmean(Week1mean),np.nanmax(wind)\n",
    "# Qwind = [] \n",
    "# Windir = [] \n",
    "# Mwind = []\n",
    "# for i in range(1,104):\n",
    "#     Wdr,Qww,Wmm = Qubicwind_tmean(start, timedelta(days= 7))\n",
    "#     Mwind.append(Wmm)\n",
    "#     Qwind.append(Qww)\n",
    "#     Windir.append(Wdr)\n",
    "#     start = start+timedelta(days= 7)"
   ]
  }
 ],
 "metadata": {
  "kernelspec": {
   "display_name": "Parcels_v2",
   "language": "python",
   "name": "python3"
  },
  "language_info": {
   "codemirror_mode": {
    "name": "ipython",
    "version": 3
   },
   "file_extension": ".py",
   "mimetype": "text/x-python",
   "name": "python",
   "nbconvert_exporter": "python",
   "pygments_lexer": "ipython3",
   "version": "3.10.6"
  },
  "orig_nbformat": 4,
  "vscode": {
   "interpreter": {
    "hash": "faa56c912549658aefd1c52f937604e5cc74e853f599dea40d5398cd20626352"
   }
  }
 },
 "nbformat": 4,
 "nbformat_minor": 2
}
