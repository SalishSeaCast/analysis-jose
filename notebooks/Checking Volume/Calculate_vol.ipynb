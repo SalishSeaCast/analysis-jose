{
 "cells": [
  {
   "cell_type": "code",
   "execution_count": 1,
   "metadata": {},
   "outputs": [
    {
     "name": "stderr",
     "output_type": "stream",
     "text": [
      "fatal: not a git repository (or any parent up to mount point /)\n",
      "Stopping at filesystem boundary (GIT_DISCOVERY_ACROSS_FILESYSTEM not set).\n"
     ]
    }
   ],
   "source": [
    "%matplotlib inline\n",
    "\n",
    "import sys\n",
    "import os\n",
    "import numpy as np\n",
    "import pandas as pd\n",
    "import xarray as xr\n",
    "from math import ceil,sin,cos, atan2, pi, sqrt\n",
    "import matplotlib\n",
    "from matplotlib import pyplot as plt, animation, rc,colors\n",
    "from datetime import datetime, timedelta\n",
    "from cartopy import crs, feature\n",
    "import cmocean\n",
    "import yaml\n",
    "\n",
    "from IPython.display import Image\n",
    "rc('animation', html='html5')\n",
    "\n",
    "sys.path.append('/home/jvalenti/MOAD/analysis-jose/Source')\n",
    "from OP_functions import *"
   ]
  },
  {
   "cell_type": "code",
   "execution_count": 2,
   "metadata": {},
   "outputs": [],
   "source": [
    "path_d='/results2/SalishSea/nowcast-green.201905/31oct22/SalishSea_1h_20221031_20221031_carp_T.nc'\n",
    "path_area='/results2/SalishSea/nowcast-green.201905/31oct22/SalishSea_1h_20221031_20221031_grid_T.nc'\n",
    "\n",
    "e3t = xr.open_dataset(path_d,decode_times=False).e3t\n",
    "Area = xr.open_dataset(path_area,decode_times=False).area"
   ]
  },
  {
   "cell_type": "code",
   "execution_count": 45,
   "metadata": {},
   "outputs": [],
   "source": [
    "ee3 = np.array(e3t[:,:,445,304])"
   ]
  },
  {
   "cell_type": "code",
   "execution_count": 62,
   "metadata": {},
   "outputs": [],
   "source": [
    "eM = ee3[0,:]\n",
    "em = ee3[10,:]\n",
    "EM = np.cumsum(eM)\n",
    "Em = np.cumsum(em)\n",
    "eeM,eem = [EM[0]/2],[Em[0]/2]\n",
    "for k in range(1,len(eM)):\n",
    "    eeM.append(EM[k-1] + (EM[k]-EM[k-1])/2)\n",
    "    eem.append(Em[k-1] + (Em[k]-Em[k-1])/2)\n",
    "    "
   ]
  },
  {
   "cell_type": "code",
   "execution_count": 54,
   "metadata": {},
   "outputs": [],
   "source": [
    "#np.multiply(e3t,Area)"
   ]
  },
  {
   "cell_type": "code",
   "execution_count": 34,
   "metadata": {},
   "outputs": [],
   "source": [
    "# Define paths\n",
    "local = 0 #Set to 0 when working on server\n",
    "paths = path(local)\n",
    "config='/home/jvalenti/MOAD/analysis-jose/OParcels/neutral_iona.yaml'"
   ]
  },
  {
   "cell_type": "code",
   "execution_count": 72,
   "metadata": {},
   "outputs": [
    {
     "data": {
      "text/plain": [
       "array([ 1.0000012,  1.0000052,  1.0000129,  1.0000274,  1.0000572,\n",
       "        1.000113 ,  1.0002236,  1.0004387,  1.0008564,  1.0016708,\n",
       "        1.0032558,  1.0063457,  1.0123577,  1.0240631,  1.0468264,\n",
       "        1.0910482,  1.1767311,  1.341938 ,  1.6575012,  2.24959  ,\n",
       "        3.3243484,  5.163622 ,  8.017824 , 11.844379 , 16.088833 ,\n",
       "       19.915398 , 22.7696   , 24.608864 , 25.683624 , 26.275726 ,\n",
       "       26.591278 , 26.756485 , 26.842163 , 26.886383 , 26.90918  ,\n",
       "       26.920837 , 26.92688  , 26.929962 , 26.93155  ], dtype=float32)"
      ]
     },
     "execution_count": 72,
     "metadata": {},
     "output_type": "execute_result"
    }
   ],
   "source": []
  },
  {
   "cell_type": "code",
   "execution_count": 73,
   "metadata": {},
   "outputs": [
    {
     "data": {
      "text/plain": [
       "[<matplotlib.lines.Line2D at 0x7f1a9ac10ca0>]"
      ]
     },
     "execution_count": 73,
     "metadata": {},
     "output_type": "execute_result"
    },
    {
     "data": {
      "image/png": "[encoded data removed]",
      "text/plain": [
       "<Figure size 640x480 with 1 Axes>"
      ]
     },
     "metadata": {},
     "output_type": "display_data"
    }
   ],
   "source": [
    "z = np.array(xr.open_dataset('/results2/SalishSea/nowcast-green.201905/31oct22/SalishSea_1h_20221031_20221031_grid_W.nc',decode_times=False).depthw)\n",
    "plt.plot(-z+np.array(eeM))\n",
    "plt.plot(-z+np.array(eem))\n",
    "plt.plot(np.diff(z))\n",
    "#plt.plot(-np.array(eeM))\n",
    "#plt.plot(-np.array(eem))"
   ]
  },
  {
   "cell_type": "code",
   "execution_count": 37,
   "metadata": {},
   "outputs": [],
   "source": [
    "param = load_config1(config)\n",
    "start = datetime(param['startdate']['year'], param['startdate']['month'], param['startdate']['day']) #Start date\n",
    "Tmax = param['param']['length'] # Set Time length [days] \n",
    "duration = timedelta(days=Tmax)\n",
    "dt = param['param']['dt'] #toggle between - or + to pick backwards or forwards \n",
    "N = param['param']['N'] # number of deploying locations\n",
    "n = param['param']['n'] # 1000   # number of particles per location\n",
    "dmin = param['param']['dmin'] #minimum depth\n",
    "dd = param['param']['dd'] #max depth difference from dmin\n",
    "name = param['file']['name'] #name output file\n",
    "\n",
    "daterange = [start+timedelta(days=i) for i in range(Tmax)]\n",
    "fn =  name + '_'.join(d.strftime('%Y%m%d')+'_1n' for d in [start, start+duration]) + '.nc'\n",
    "outfile = os.path.join(paths['out'], fn)"
   ]
  },
  {
   "cell_type": "code",
   "execution_count": 58,
   "metadata": {},
   "outputs": [],
   "source": [
    "def paths_vol (start,duration,dt):\n",
    "    Arealist = []\n",
    "    e3tlist = []\n",
    "    for day in range(duration.days):\n",
    "            path_NEMO = make_prefix(start + timedelta(days=day), paths['NEMO'])\n",
    "            Arealist.append(path_NEMO + '_grid_T.nc')\n",
    "            e3tlist.append(path_NEMO + '_carp_T.nc')\n",
    "    return Arealist, e3tlist\n",
    "Arealist, e3tlist = paths_vol (start,duration,dt)\n"
   ]
  },
  {
   "cell_type": "code",
   "execution_count": 40,
   "metadata": {},
   "outputs": [],
   "source": [
    "def paths_vol (start,duration):\n",
    "    Arealist = []\n",
    "    e3tlist = []\n",
    "    for day in range(duration.days):\n",
    "            path_NEMO = make_prefix(start + timedelta(days=day), paths['NEMO'])\n",
    "            Arealist.append(path_NEMO + '_grid_T.nc')\n",
    "            e3tlist.append(path_NEMO + '_carp_T.nc')\n",
    "    return Arealist, e3tlist\n",
    "Arealist, e3tlist = paths_vol (start,duration)\n"
   ]
  },
  {
   "cell_type": "code",
   "execution_count": 55,
   "metadata": {},
   "outputs": [],
   "source": [
    "# def Volume_cells(start,dt):\n",
    "#     opsdir, namfmt, jlims, ilims = getWindVars(start)\n",
    "#     flist=et.index_model_files(start,start+DeltaT,opsdir,namfmt,\n",
    "#                             flen=1,ftype='None',tres=24);\n",
    "#     fs=[xr.open_dataset(ii,chunks='auto') for ii in flist['paths']]\n",
    "#     fu=xr.concat([ii['u_wind'].isel(x=slice(ilims[0],ilims[1]),y=slice(jlims[0],jlims[1])) for ii in fs],\"time_counter\")\n",
    "#     fv=xr.concat([ii['v_wind'].isel(x=slice(ilims[0],ilims[1]),y=slice(jlims[0],jlims[1])) for ii in fs],\"time_counter\")\n",
    "#     fud=xr.concat([ii['u_wind'].isel(x=72,y=62) for ii in fs],\"time_counter\")\n",
    "#     fvd=xr.concat([ii['v_wind'].isel(x=72,y=62) for ii in fs],\"time_counter\")\n",
    "#     Week1=(fu**2+fv**2)**(3/2)\n",
    "#     wind=(fu**2+fv**2)**(1/2)\n",
    "#     umean = np.nanmean(np.mean(fu,0))\n",
    "#     vmean = np.nanmean(np.mean(fv,0))\n",
    "#     Windir = np.arctan2(vmean,umean)\n",
    "#     Week1mean=np.mean(Week1,0)\n",
    "#     return np.nanmean(Windir), np.nanmean(Week1mean),np.nanmax(wind)\n",
    "# Qwind = [] \n",
    "# Windir = [] \n",
    "# Mwind = []\n",
    "# for i in range(1,104):\n",
    "#     Wdr,Qww,Wmm = Qubicwind_tmean(start, timedelta(days= 7))\n",
    "#     Mwind.append(Wmm)\n",
    "#     Qwind.append(Qww)\n",
    "#     Windir.append(Wdr)\n",
    "#     start = start+timedelta(days= 7)"
   ]
  }
 ],
 "metadata": {
  "kernelspec": {
   "display_name": "Parcels_v2",
   "language": "python",
   "name": "python3"
  },
  "language_info": {
   "codemirror_mode": {
    "name": "ipython",
    "version": 3
   },
   "file_extension": ".py",
   "mimetype": "text/x-python",
   "name": "python",
   "nbconvert_exporter": "python",
   "pygments_lexer": "ipython3",
   "version": "3.10.6 | packaged by conda-forge | (main, Aug 22 2022, 20:35:26) [GCC 10.4.0]"
  },
  "orig_nbformat": 4,
  "vscode": {
   "interpreter": {
    "hash": "faa56c912549658aefd1c52f937604e5cc74e853f599dea40d5398cd20626352"
   }
  }
 },
 "nbformat": 4,
 "nbformat_minor": 2
}
