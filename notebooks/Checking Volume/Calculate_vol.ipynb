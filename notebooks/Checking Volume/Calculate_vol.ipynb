{
 "cells": [
  {
   "cell_type": "code",
   "execution_count": 1,
   "metadata": {},
   "outputs": [
    {
     "name": "stderr",
     "output_type": "stream",
     "text": [
      "fatal: not a git repository (or any parent up to mount point /)\n",
      "Stopping at filesystem boundary (GIT_DISCOVERY_ACROSS_FILESYSTEM not set).\n"
     ]
    }
   ],
   "source": [
    "%matplotlib inline\n",
    "\n",
    "import sys\n",
    "import os\n",
    "import numpy as np\n",
    "import pandas as pd\n",
    "import xarray as xr\n",
    "from math import ceil,sin,cos, atan2, pi, sqrt\n",
    "import matplotlib\n",
    "from matplotlib import pyplot as plt, animation, rc,colors\n",
    "from datetime import datetime, timedelta\n",
    "from cartopy import crs, feature\n",
    "import cmocean\n",
    "import yaml\n",
    "\n",
    "from IPython.display import Image\n",
    "rc('animation', html='html5')\n",
    "\n",
    "sys.path.append('/home/jvalenti/MOAD/analysis-jose/Source')\n",
    "from OP_functions22 import *"
   ]
  },
  {
   "cell_type": "code",
   "execution_count": 2,
   "metadata": {},
   "outputs": [],
   "source": [
    "path_bat = '/home/jvalenti/MOAD/grid/bathymetry_202108.nc'\n",
    "bat = xr.open_dataset(path_bat,decode_times=False).Bathymetry"
   ]
  },
  {
   "cell_type": "code",
   "execution_count": 27,
   "metadata": {},
   "outputs": [],
   "source": [
    "path_d='/results2/SalishSea/nowcast-green.202111/31oct22/SalishSea_1h_20221031_20221031_grid_T.nc'\n",
    "path_area='/results2/SalishSea/nowcast-green.202111/31oct22/SalishSea_1h_20221031_20221031_grid_T.nc'\n",
    "path_area='/results2/SalishSea/nowcast-green.202111/31oct22/SalishSea_1h_20221031_20221031_grid_T.nc'\n",
    "path_mask = '/ocean/jvalenti/MOAD/grid2/mesh_mask202108_TD.nc'\n",
    "e3t = xr.open_dataset(path_d,decode_times=False).e3t\n",
    "Area = xr.open_dataset(path_area,decode_times=False).area\n",
    "mbathy = xr.open_dataset(path_mask,decode_times=False).mbathy\n",
    "zz_ww = xr.open_dataset(path_mask,decode_times=False).gdepw_0"
   ]
  },
  {
   "cell_type": "code",
   "execution_count": 106,
   "metadata": {},
   "outputs": [
    {
     "data": {
      "text/plain": [
       "0.006286951"
      ]
     },
     "execution_count": 106,
     "metadata": {},
     "output_type": "execute_result"
    }
   ],
   "source": [
    "path_w='/results2/SalishSea/nowcast-green.202111/31oct22/SalishSea_1h_20221031_20221031_grid_W.nc'\n",
    "np.nanmean(xr.open_dataset(path_w,decode_times=False).vert_eddy_diff[:,1,:,:])"
   ]
  },
  {
   "cell_type": "code",
   "execution_count": 110,
   "metadata": {},
   "outputs": [
    {
     "data": {
      "text/plain": [
       "0.42426406871192857"
      ]
     },
     "execution_count": 110,
     "metadata": {},
     "output_type": "execute_result"
    }
   ],
   "source": [
    "Kz = 6e-3\n",
    "np.sqrt(3*2*Kz*5)"
   ]
  },
  {
   "cell_type": "code",
   "execution_count": 111,
   "metadata": {},
   "outputs": [
    {
     "data": {
      "text/plain": [
       "1448.2758620689654"
      ]
     },
     "execution_count": 111,
     "metadata": {},
     "output_type": "execute_result"
    }
   ],
   "source": [
    "0.42/2.9e-4"
   ]
  },
  {
   "cell_type": "code",
   "execution_count": 88,
   "metadata": {},
   "outputs": [
    {
     "data": {
      "text/plain": [
       "0.002347064"
      ]
     },
     "execution_count": 88,
     "metadata": {},
     "output_type": "execute_result"
    }
   ],
   "source": [
    "np.nanmax(90*(e3t[1,0,:,:]-e3t[0,0,:,:])/3600)"
   ]
  },
  {
   "cell_type": "code",
   "execution_count": 99,
   "metadata": {},
   "outputs": [
    {
     "data": {
      "text/plain": [
       "0.005222779512405395"
      ]
     },
     "execution_count": 99,
     "metadata": {},
     "output_type": "execute_result"
    },
    {
     "data": {
      "image/png": "[encoded data removed]",
      "text/plain": [
       "<Figure size 640x480 with 1 Axes>"
      ]
     },
     "metadata": {},
     "output_type": "display_data"
    }
   ],
   "source": [
    "deltae3t = []\n",
    "for i in range(23):\n",
    "    deltae3t.append(90*((e3t[i+1,0,13,91]-e3t[i,0,13,91]))/3600)\n",
    "plt.plot(deltae3t)\n",
    "np.max(deltae3t)"
   ]
  },
  {
   "cell_type": "code",
   "execution_count": 59,
   "metadata": {},
   "outputs": [],
   "source": [
    "mask = xr.open_dataset(path_mask,decode_times=False)"
   ]
  },
  {
   "cell_type": "code",
   "execution_count": 76,
   "metadata": {},
   "outputs": [],
   "source": [
    "dimx = zz_ww.shape[3]\n",
    "dimy = zz_ww.shape[2]\n",
    "totaldepth = np.zeros_like(mbathy[0,:,:],dtype='float32')\n",
    "\n",
    "for jj in range(dimy):\n",
    "    totaldepth[jj, :] = zz_ww[0, mbathy[0,jj, :],jj, :]"
   ]
  },
  {
   "cell_type": "code",
   "execution_count": 77,
   "metadata": {},
   "outputs": [],
   "source": [
    "mask['totaldepth'] = (['y','x'],totaldepth)"
   ]
  },
  {
   "cell_type": "code",
   "execution_count": 72,
   "metadata": {},
   "outputs": [],
   "source": [
    "Dat=xr.open_dataset(path(0)['coords'],decode_times=False)\n",
    "outf_lat=Dat['nav_lat'][445,304]\n",
    "outf_lon=Dat['nav_lon'][445,304]\n",
    "clon, clat = [float(outf_lon)],[float(outf_lat)]"
   ]
  },
  {
   "cell_type": "code",
   "execution_count": 80,
   "metadata": {},
   "outputs": [],
   "source": [
    "mask.to_netcdf('/ocean/jvalenti/MOAD/grid2/mesh_mask202108_TD.nc')"
   ]
  },
  {
   "cell_type": "code",
   "execution_count": 3,
   "metadata": {},
   "outputs": [],
   "source": [
    "ee3 = np.array(e3t[:,:,445,304])"
   ]
  },
  {
   "cell_type": "code",
   "execution_count": 4,
   "metadata": {},
   "outputs": [],
   "source": [
    "eM = ee3[0,:]\n",
    "em = ee3[10,:]\n",
    "EM = np.cumsum(eM)\n",
    "Em = np.cumsum(em)\n",
    "eeM,eem = [EM[0]/2],[Em[0]/2]\n",
    "for k in range(1,len(eM)):\n",
    "    eeM.append(EM[k-1] + (EM[k]-EM[k-1])/2)\n",
    "    eem.append(Em[k-1] + (Em[k]-Em[k-1])/2)\n",
    "    "
   ]
  },
  {
   "cell_type": "code",
   "execution_count": 5,
   "metadata": {},
   "outputs": [],
   "source": [
    "# Define paths\n",
    "local = 0 #Set to 0 when working on server\n",
    "paths = path(local)\n",
    "config='/home/jvalenti/MOAD/analysis-jose/OParcels/neutral_iona.yaml'"
   ]
  },
  {
   "cell_type": "code",
   "execution_count": 6,
   "metadata": {},
   "outputs": [
    {
     "data": {
      "text/plain": [
       "[<matplotlib.lines.Line2D at 0x7fe5f230a740>]"
      ]
     },
     "execution_count": 6,
     "metadata": {},
     "output_type": "execute_result"
    },
    {
     "data": {
      "image/png": "[encoded data removed]",
      "text/plain": [
       "<Figure size 640x480 with 1 Axes>"
      ]
     },
     "metadata": {},
     "output_type": "display_data"
    }
   ],
   "source": [
    "z = np.array(xr.open_dataset('/results2/SalishSea/nowcast-green.201905/31oct22/SalishSea_1h_20221031_20221031_grid_W.nc',decode_times=False).depthw)\n",
    "plt.plot(-z+np.array(eeM))\n",
    "plt.plot(-z+np.array(eem))\n",
    "plt.plot(np.diff(z))\n",
    "#plt.plot(-np.array(eeM))\n",
    "#plt.plot(-np.array(eem))"
   ]
  },
  {
   "cell_type": "code",
   "execution_count": 37,
   "metadata": {},
   "outputs": [],
   "source": [
    "param = load_config1(config)\n",
    "start = datetime(param['startdate']['year'], param['startdate']['month'], param['startdate']['day']) #Start date\n",
    "Tmax = param['param']['length'] # Set Time length [days] \n",
    "duration = timedelta(days=Tmax)\n",
    "dt = param['param']['dt'] #toggle between - or + to pick backwards or forwards \n",
    "N = param['param']['N'] # number of deploying locations\n",
    "n = param['param']['n'] # 1000   # number of particles per location\n",
    "dmin = param['param']['dmin'] #minimum depth\n",
    "dd = param['param']['dd'] #max depth difference from dmin\n",
    "name = param['file']['name'] #name output file\n",
    "\n",
    "daterange = [start+timedelta(days=i) for i in range(Tmax)]\n",
    "fn =  name + '_'.join(d.strftime('%Y%m%d')+'_1n' for d in [start, start+duration]) + '.nc'\n",
    "outfile = os.path.join(paths['out'], fn)"
   ]
  },
  {
   "cell_type": "code",
   "execution_count": 58,
   "metadata": {},
   "outputs": [],
   "source": [
    "def paths_vol (start,duration,dt):\n",
    "    Arealist = []\n",
    "    e3tlist = []\n",
    "    for day in range(duration.days):\n",
    "            path_NEMO = make_prefix(start + timedelta(days=day), paths['NEMO'])\n",
    "            Arealist.append(path_NEMO + '_grid_T.nc')\n",
    "            e3tlist.append(path_NEMO + '_carp_T.nc')\n",
    "    return Arealist, e3tlist\n",
    "Arealist, e3tlist = paths_vol (start,duration,dt)\n"
   ]
  },
  {
   "cell_type": "code",
   "execution_count": 40,
   "metadata": {},
   "outputs": [],
   "source": [
    "def paths_vol (start,duration):\n",
    "    Arealist = []\n",
    "    e3tlist = []\n",
    "    for day in range(duration.days):\n",
    "            path_NEMO = make_prefix(start + timedelta(days=day), paths['NEMO'])\n",
    "            Arealist.append(path_NEMO + '_grid_T.nc')\n",
    "            e3tlist.append(path_NEMO + '_carp_T.nc')\n",
    "    return Arealist, e3tlist\n",
    "Arealist, e3tlist = paths_vol (start,duration)\n"
   ]
  },
  {
   "cell_type": "code",
   "execution_count": 55,
   "metadata": {},
   "outputs": [],
   "source": [
    "# def Volume_cells(start,dt):\n",
    "#     opsdir, namfmt, jlims, ilims = getWindVars(start)\n",
    "#     flist=et.index_model_files(start,start+DeltaT,opsdir,namfmt,\n",
    "#                             flen=1,ftype='None',tres=24);\n",
    "#     fs=[xr.open_dataset(ii,chunks='auto') for ii in flist['paths']]\n",
    "#     fu=xr.concat([ii['u_wind'].isel(x=slice(ilims[0],ilims[1]),y=slice(jlims[0],jlims[1])) for ii in fs],\"time_counter\")\n",
    "#     fv=xr.concat([ii['v_wind'].isel(x=slice(ilims[0],ilims[1]),y=slice(jlims[0],jlims[1])) for ii in fs],\"time_counter\")\n",
    "#     fud=xr.concat([ii['u_wind'].isel(x=72,y=62) for ii in fs],\"time_counter\")\n",
    "#     fvd=xr.concat([ii['v_wind'].isel(x=72,y=62) for ii in fs],\"time_counter\")\n",
    "#     Week1=(fu**2+fv**2)**(3/2)\n",
    "#     wind=(fu**2+fv**2)**(1/2)\n",
    "#     umean = np.nanmean(np.mean(fu,0))\n",
    "#     vmean = np.nanmean(np.mean(fv,0))\n",
    "#     Windir = np.arctan2(vmean,umean)\n",
    "#     Week1mean=np.mean(Week1,0)\n",
    "#     return np.nanmean(Windir), np.nanmean(Week1mean),np.nanmax(wind)\n",
    "# Qwind = [] \n",
    "# Windir = [] \n",
    "# Mwind = []\n",
    "# for i in range(1,104):\n",
    "#     Wdr,Qww,Wmm = Qubicwind_tmean(start, timedelta(days= 7))\n",
    "#     Mwind.append(Wmm)\n",
    "#     Qwind.append(Qww)\n",
    "#     Windir.append(Wdr)\n",
    "#     start = start+timedelta(days= 7)"
   ]
  }
 ],
 "metadata": {
  "kernelspec": {
   "display_name": "general",
   "language": "python",
   "name": "python3"
  },
  "language_info": {
   "codemirror_mode": {
    "name": "ipython",
    "version": 3
   },
   "file_extension": ".py",
   "mimetype": "text/x-python",
   "name": "python",
   "nbconvert_exporter": "python",
   "pygments_lexer": "ipython3",
   "version": "3.10.6"
  },
  "orig_nbformat": 4,
  "vscode": {
   "interpreter": {
    "hash": "c18d5b48c0702a9e14ce9f1a358d9af7e982f07ccbb6648362fbf5930d0b5c56"
   }
  }
 },
 "nbformat": 4,
 "nbformat_minor": 2
}
