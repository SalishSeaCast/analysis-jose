{
 "cells": [
  {
   "cell_type": "code",
   "execution_count": 1,
   "metadata": {},
   "outputs": [
    {
     "name": "stderr",
     "output_type": "stream",
     "text": [
      "fatal: not a git repository (or any of the parent directories): .git\n"
     ]
    }
   ],
   "source": [
    "%matplotlib inline\n",
    "\n",
    "import sys\n",
    "import os\n",
    "import numpy as np\n",
    "import pandas as pd\n",
    "import xarray as xr\n",
    "from math import ceil,sin,cos, atan2, pi, sqrt\n",
    "import matplotlib\n",
    "from matplotlib import pyplot as plt, animation, rc,colors\n",
    "from datetime import datetime, timedelta\n",
    "from cartopy import crs, feature\n",
    "import cmocean\n",
    "import yaml\n",
    "\n",
    "from IPython.display import Image\n",
    "rc('animation', html='html5')\n",
    "\n",
    "sys.path.append('/users/jvalenti/MOAD/analysis-jose/Source')\n",
    "from OP_functions import *"
   ]
  },
  {
   "cell_type": "code",
   "execution_count": 2,
   "metadata": {},
   "outputs": [],
   "source": [
    "path_bat = '/users/jvalenti/MOAD/grid/bathymetry_202108.nc'\n",
    "bat = xr.open_dataset(path_bat,decode_times=False).Bathymetry"
   ]
  },
  {
   "cell_type": "code",
   "execution_count": 6,
   "metadata": {},
   "outputs": [],
   "source": [
    "path_mask = '/users/jvalenti/MOAD/grid2/mesh_mask202108_TDV.nc'\n",
    "mbathy = xr.open_dataset(path_mask,decode_times=False).mbathy\n",
    "zz_ww = xr.open_dataset(path_mask,decode_times=False).gdepw_0"
   ]
  },
  {
   "cell_type": "code",
   "execution_count": 7,
   "metadata": {},
   "outputs": [],
   "source": [
    "mask = xr.open_dataset(path_mask,decode_times=False)"
   ]
  },
  {
   "cell_type": "code",
   "execution_count": 8,
   "metadata": {},
   "outputs": [],
   "source": [
    "dimx = zz_ww.shape[3]\n",
    "dimy = zz_ww.shape[2]\n",
    "totaldepth = np.zeros_like(mbathy[0,:,:],dtype='float32')\n",
    "\n",
    "for jj in range(dimy):\n",
    "    totaldepth[jj, :] = zz_ww[0, mbathy[0,jj, :],jj, :]"
   ]
  },
  {
   "cell_type": "code",
   "execution_count": null,
   "metadata": {},
   "outputs": [],
   "source": [
    "#mask['totaldepth'] = (['y','x'],totaldepth)"
   ]
  }
 ],
 "metadata": {
  "kernelspec": {
   "display_name": "general",
   "language": "python",
   "name": "python3"
  },
  "language_info": {
   "codemirror_mode": {
    "name": "ipython",
    "version": 3
   },
   "file_extension": ".py",
   "mimetype": "text/x-python",
   "name": "python",
   "nbconvert_exporter": "python",
   "pygments_lexer": "ipython3",
   "version": "3.9.13"
  },
  "orig_nbformat": 4,
  "vscode": {
   "interpreter": {
    "hash": "c18d5b48c0702a9e14ce9f1a358d9af7e982f07ccbb6648362fbf5930d0b5c56"
   }
  }
 },
 "nbformat": 4,
 "nbformat_minor": 2
}
